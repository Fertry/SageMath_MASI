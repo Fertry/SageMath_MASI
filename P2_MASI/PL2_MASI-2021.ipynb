{
 "cells": [
  {
   "cell_type": "markdown",
   "metadata": {},
   "source": [
    "<h3 style=\"text-align: center;\">ESCUELA TÉCNICA SUPERIOR DE INGENIERÍA INFORMÁTICA</h3>\n",
    "<h3 style=\"text-align: center;\">UNIVERSIDAD DE SEVILLA</h3>\n",
    "<h3 style=\"text-align: center;\">MATEMÁTICA APLICADA A SISTEMAS DE INFORMACIÓN</h3>\n",
    "<h3>Segunda práctica de laboratorio</h3>\n",
    "<p>En esta práctica estudiaremos métodos de optimización sin restricciones de funciones de varias variables. Es decir partimos del problema:</p>\n",
    "<p>$$\\min_{x\\in D}f(x)$$</p>\n",
    "<p>Gracias al teorema de Weierstrass sabemos que en un conjunto $D$ cerrado y acotado siempre se alcanza el máximo y el mínimo. Hemos estudiado métodos analíticos que nos permiten calcular dichos óptimos. En esta práctica nos centraremos en los métodos numéricos para la resolución de dichos problemas de óptimización de funciones de varias variables.</p>\n",
    "<p>Empezaremos estudiando un caso analítico.</p>\n",
    "<p>Supongamos que estamos interesados en calcular el mínimo de la función:</p>\n",
    "<p>$$f(x,y)=3x^2+y^2-x^4-12$$</p>"
   ]
  },
  {
   "cell_type": "code",
   "execution_count": null,
   "metadata": {},
   "outputs": [],
   "source": [
    "x,y=var('x,y')"
   ]
  },
  {
   "cell_type": "code",
   "execution_count": null,
   "metadata": {},
   "outputs": [],
   "source": [
    "f(x,y)=3*x^2+y^2-x^4-12"
   ]
  },
  {
   "cell_type": "code",
   "execution_count": null,
   "metadata": {},
   "outputs": [],
   "source": [
    "plot3d(f,(x,-3,3),(y,-3,3))"
   ]
  },
  {
   "cell_type": "markdown",
   "metadata": {},
   "source": [
    "<p>En la gráfica no se distinguen muy bien los máximos, mínimos y puntos de inflexión:</p>\n",
    "<p>Calculamos el conjuto de puntos críticos de la función $f(x,y)$</p>"
   ]
  },
  {
   "cell_type": "code",
   "execution_count": null,
   "metadata": {},
   "outputs": [],
   "source": [
    "gradiente=f(x,y).gradient()\n",
    "\n",
    "derpar0=solve(list(gradiente),x,y)\n",
    "\n",
    "lptc=[(sol[0].rhs(),sol[1].rhs()) for sol in derpar0]\n",
    "\n",
    "puntos_criticos=[]\n",
    "for ptc in lptc:\n",
    "    if (ptc[0].n()).imag()==0 and (ptc[1].n()).imag()==0:\n",
    "        puntos_criticos.append(ptc)\n",
    "        \n",
    "print ('lista de puntos críticos:')\n",
    "#print (puntos_criticos)\n",
    "show(puntos_criticos)"
   ]
  },
  {
   "cell_type": "code",
   "execution_count": null,
   "metadata": {},
   "outputs": [],
   "source": [
    "gradiente"
   ]
  },
  {
   "cell_type": "code",
   "execution_count": null,
   "metadata": {},
   "outputs": [],
   "source": [
    "derpar0"
   ]
  },
  {
   "cell_type": "code",
   "execution_count": null,
   "metadata": {},
   "outputs": [],
   "source": [
    "lptc"
   ]
  },
  {
   "cell_type": "code",
   "execution_count": null,
   "metadata": {},
   "outputs": [],
   "source": [
    "hess=f.hessian()\n",
    "def hessiano(pto):\n",
    "    return hess(x=pto[0],y=pto[1])\n",
    "    \n",
    "print ('matriz hessiana:')    \n",
    "show(hess)"
   ]
  },
  {
   "cell_type": "markdown",
   "metadata": {},
   "source": [
    "<p>Hemos definido un proceso que nos permite sustituir las coordenadas de un punto en la matriz hessiana, ahora queremos ver si las matrices hessianas en nuestros puntos críticos son definidas positivas, definidas negativas o indefinidas en signo. Para ello:</p>"
   ]
  },
  {
   "cell_type": "code",
   "execution_count": null,
   "metadata": {},
   "outputs": [],
   "source": [
    "matriz_hessiana=matrix(RDF,((f.hessian()).substitute(x=puntos_criticos[0][0],y=puntos_criticos[0][1])))"
   ]
  },
  {
   "cell_type": "code",
   "execution_count": null,
   "metadata": {},
   "outputs": [],
   "source": [
    "(matriz_hessiana).is_positive_definite()"
   ]
  },
  {
   "cell_type": "code",
   "execution_count": null,
   "metadata": {},
   "outputs": [],
   "source": [
    "for j in range(len(puntos_criticos)):\n",
    "    print ('punto critico=', j+1)\n",
    "    for i in range((hessiano(puntos_criticos[j])).nrows()):\n",
    "        print ('menor de orden ',i+1,'=', (hessiano(puntos_criticos[j])[0:i+1,0:i+1]).det())"
   ]
  },
  {
   "cell_type": "markdown",
   "metadata": {},
   "source": [
    "<p>Acabamos de ver que el primer punto crítico de nuestra lista es un mínimo local y los dos últimos son puntos de silla</p>\n",
    "\n",
    "<p>Si nos fjamos en la gráfica de la función, el mínimo en $(0,0)$ es un mínimo local.</p>\n",
    "\n",
    "<h3>Método del gradiente</h3>\n",
    "<p>Vamos ahora a utilizar el método del gradiente, en primer lugar con búsqueda lineal exacta y después usando la regla de Armijo, en primer lugar necesitaremos introducir una nueva variable, que llamamos $a$.</p>"
   ]
  },
  {
   "cell_type": "code",
   "execution_count": null,
   "metadata": {},
   "outputs": [],
   "source": [
    "a=var('a')"
   ]
  },
  {
   "cell_type": "code",
   "execution_count": null,
   "metadata": {},
   "outputs": [],
   "source": [
    "f(x,y)=3*x^2+y^2-x^4-12"
   ]
  },
  {
   "cell_type": "code",
   "execution_count": null,
   "metadata": {},
   "outputs": [],
   "source": [
    "punto_inicio=vector([1/3,1])\n",
    "gradiente0=-(f.gradient()).substitute(x=punto_inicio[0],y=punto_inicio[1])  \n",
    "phi(a)=f(punto_inicio[0]+a*gradiente0[0],punto_inicio[1]+a*gradiente0[1])"
   ]
  },
  {
   "cell_type": "markdown",
   "metadata": {},
   "source": [
    "<p>Si calculamos de forma exacta las raíces, con la orden solve</p>"
   ]
  },
  {
   "cell_type": "code",
   "execution_count": null,
   "metadata": {},
   "outputs": [],
   "source": [
    "soluciones=solve(phi.diff(a)==0,a)"
   ]
  },
  {
   "cell_type": "code",
   "execution_count": null,
   "metadata": {},
   "outputs": [],
   "source": [
    "soluciones[0].rhs().n()"
   ]
  },
  {
   "cell_type": "markdown",
   "metadata": {},
   "source": [
    "<p>Para evitar problemas en el cálculo de las raíces (como que pueda considerarlas complejas, siendo reales), nos interesa calcularlas numéricamente con la orden find_root. El principal problema de esta orden es que tenemos que darle un intervalo de búsqueda y en principio no sabemos cómo de lejos puede estar el óptimo.</p>"
   ]
  },
  {
   "cell_type": "code",
   "execution_count": null,
   "metadata": {},
   "outputs": [],
   "source": [
    "find_root(phi.diff(a)==0,0,1)"
   ]
  },
  {
   "cell_type": "markdown",
   "metadata": {},
   "source": [
    "<p>Si dibujamos la función $\\varphi(a)$ podemos apreciar que en $x=0.91001$ no tenemos un mínimo, hay un máximo, y de hecho si tomamos este valor de $a$, la función $f$ será mayor en el nuevo punto respecto del punto de partida</p>"
   ]
  },
  {
   "cell_type": "code",
   "execution_count": null,
   "metadata": {},
   "outputs": [],
   "source": [
    "plot(phi,(a,0,1))"
   ]
  },
  {
   "cell_type": "markdown",
   "metadata": {},
   "source": [
    "<p>Por todo esto debemos de poner la condición de que se produzca (al menos) descenso, o para comprobar que es un mínimo con la condición de la derivada de segundo orden.</p>"
   ]
  },
  {
   "cell_type": "code",
   "execution_count": null,
   "metadata": {},
   "outputs": [],
   "source": [
    "phi.diff(a,2)(a=find_root(phi.diff(a)==0,0,1))"
   ]
  },
  {
   "cell_type": "code",
   "execution_count": null,
   "metadata": {},
   "outputs": [],
   "source": [
    "find_root(phi.diff(a)==0,0,0.999*0.9100101478813016)"
   ]
  },
  {
   "cell_type": "code",
   "execution_count": null,
   "metadata": {},
   "outputs": [],
   "source": [
    "phi.diff(a,2)(a=find_root(phi.diff(a)==0,0,0.999*0.9100101478813016))"
   ]
  },
  {
   "cell_type": "code",
   "execution_count": null,
   "metadata": {},
   "outputs": [],
   "source": [
    "punto_inicio=vector([1/3,1.])\n",
    "punto_antiguo=vector([10^3,10^3]);error=10^(-3);k=1;\n",
    "gradiente0=-(f.gradient()).substitute(x=punto_inicio[0],y=punto_inicio[1])\n",
    "while (gradiente0).norm()>error:  \n",
    "    print ('iter.=',k,'gradiente=',gradiente0[0].n(),gradiente0[1].n())\n",
    "    phi(a)=f(punto_inicio[0]+a*gradiente0[0],punto_inicio[1]+a*gradiente0[1])\n",
    "    valora=find_root(phi.diff(a)==0,0,5/(gradiente0).norm())\n",
    "    while phi.diff(a,2)(a=valora)<0:\n",
    "        valora=find_root(phi.diff(a)==0,0,0.999*valora)\n",
    "        print ('entra','k=',k)\n",
    "    print ('valor a=',valora)\n",
    "    punto_antiguo=punto_inicio\n",
    "    punto_inicio=punto_inicio+valora*gradiente0\n",
    "    gradiente0=-(f.gradient()).substitute(x=punto_inicio[0],y=punto_inicio[1])\n",
    "    print ('x=',punto_inicio[0].n(),'y=',punto_inicio[1].n())\n",
    "    k=k+1"
   ]
  },
  {
   "cell_type": "markdown",
   "metadata": {},
   "source": [
    "<p>Hemos visto que el método del gradiente posee una alternativa, menos costosa computacionalmente, la regla de Armijo, que en términos de $\\varphi(a)$, requiere que</p>\n",
    "<p>$$\\varphi(\\alpha)\\leq\\varphi(0)+\\epsilon\\alpha\\varphi'(0)$$</p>"
   ]
  },
  {
   "cell_type": "code",
   "execution_count": null,
   "metadata": {},
   "outputs": [],
   "source": [
    "punto_inicio=vector([1/3,1.])\n",
    "punto_antiguo=vector([10^3,10^3]);error=10^(-3)\n",
    "epsilon=1/5;beta=0.5;s=1;m=0;k=1\n",
    "gradiente0=-(f.gradient()).substitute(x=punto_inicio[0],y=punto_inicio[1])\n",
    "while (gradiente0).norm()>error:\n",
    "    phi(a)=f(punto_inicio[0]+a*gradiente0[0],punto_inicio[1]+a*gradiente0[1])\n",
    "    alpha=beta^m*s \n",
    "    if phi(alpha)<phi(0)+epsilon*alpha*((phi.diff(a))(a=0)):\n",
    "        punto_antiguo=punto_inicio\n",
    "        punto_inicio=punto_inicio+alpha*gradiente0\n",
    "        print ('iter.=',k,'x=',punto_inicio[0].n(),'y=',punto_inicio[1].n())\n",
    "        print ('error=',(punto_inicio-punto_antiguo).norm())\n",
    "        m=0\n",
    "        k=k+1\n",
    "    else:\n",
    "        m=m+1\n",
    "    gradiente0=-(f.gradient()).substitute(x=punto_inicio[0],y=punto_inicio[1])"
   ]
  },
  {
   "cell_type": "markdown",
   "metadata": {},
   "source": [
    "<h3>El método de Newton</h3>\n",
    "<p>Sabemos que hay un método de segundo orden, el método de Newton, donde en cada iteración se calcula</p>\n",
    "<p>$$x^{k+1}=x^k-[Hf(x^k)]^{-1}\\nabla f(x^k)$$</p>\n",
    "<p>la dirección de Newton $-[Hf(x^k)]^{-1}\\nabla f(x^k)$ no es, en general, de descenso, necesitamos que la matriz hessiana $Hf(x^k)$ sea definida positiva.</p>"
   ]
  },
  {
   "cell_type": "code",
   "execution_count": null,
   "metadata": {},
   "outputs": [],
   "source": [
    "f(x,y)=3*x^2+y^2-x^4-12"
   ]
  },
  {
   "cell_type": "code",
   "execution_count": null,
   "metadata": {},
   "outputs": [],
   "source": [
    "punto_inicio=vector([1/3,1.])\n",
    "hessiano0=matrix(RDF,(f.hessian()).substitute(x=punto_inicio[0],y=punto_inicio[1]))\n",
    "hessiano0.is_positive_definite()"
   ]
  },
  {
   "cell_type": "code",
   "execution_count": null,
   "metadata": {},
   "outputs": [],
   "source": [
    "gradiente0=-(f.gradient()).substitute(x=punto_inicio[0],y=punto_inicio[1])\n",
    "punto_inicio=punto_inicio+(hessiano0)^(-1)*gradiente0"
   ]
  },
  {
   "cell_type": "code",
   "execution_count": null,
   "metadata": {},
   "outputs": [],
   "source": [
    "punto_inicio"
   ]
  },
  {
   "cell_type": "code",
   "execution_count": null,
   "metadata": {},
   "outputs": [],
   "source": [
    "gradiente0=-(f.gradient()).substitute(x=punto_inicio[0],y=punto_inicio[1])\n",
    "gradiente0.norm()"
   ]
  },
  {
   "cell_type": "code",
   "execution_count": null,
   "metadata": {},
   "outputs": [],
   "source": [
    "hessiano0=matrix(RDF,(f.hessian()).substitute(x=punto_inicio[0],y=punto_inicio[1]))\n",
    "hessiano0.is_positive_definite()"
   ]
  },
  {
   "cell_type": "code",
   "execution_count": null,
   "metadata": {},
   "outputs": [],
   "source": [
    "punto_inicio=punto_inicio+(hessiano0)^(-1)*gradiente0"
   ]
  },
  {
   "cell_type": "code",
   "execution_count": null,
   "metadata": {},
   "outputs": [],
   "source": [
    "punto_inicio"
   ]
  },
  {
   "cell_type": "code",
   "execution_count": null,
   "metadata": {},
   "outputs": [],
   "source": [
    "gradiente0=-(f.gradient()).substitute(x=punto_inicio[0],y=punto_inicio[1])\n",
    "gradiente0.norm()"
   ]
  },
  {
   "cell_type": "markdown",
   "metadata": {},
   "source": [
    "<p>En dos iteraciones hemos sidos capaces de poder asegurar $||\\nabla f(x^k)||<10^{-2}$</p>\n",
    "<h3>Método de quasi-Newton</h3>\n",
    "<p>Sabemos que hay multitud de funciones donde la matriz hessiana no es definida positiva, si consideramos:</p>\n",
    "<p>$$f(x,y)=16\\left(x-\\frac{1}{4}\\right)^4+3x^2y^2$$</p>\n",
    "<p>y de punto de inicio $x^0=(\\frac{1}{2},1)$, obtenemos que:</p>"
   ]
  },
  {
   "cell_type": "code",
   "execution_count": null,
   "metadata": {},
   "outputs": [],
   "source": [
    "f(x,y)=16*(x-1/4)^4+3*x^2*y^2"
   ]
  },
  {
   "cell_type": "code",
   "execution_count": null,
   "metadata": {},
   "outputs": [],
   "source": [
    "punto_inicio=vector([1/2,1.]);lista1=[punto_inicio]\n",
    "gradiente0=-(f.gradient()).substitute(x=punto_inicio[0],y=punto_inicio[1])\n",
    "gradiente0.norm()\n",
    "hessiano0=matrix(RDF,(f.hessian()).substitute(x=punto_inicio[0],y=punto_inicio[1]))\n",
    "hessiano0.is_positive_definite()"
   ]
  },
  {
   "cell_type": "markdown",
   "metadata": {},
   "source": [
    "<p>Por tanto no tenemos que la dirección de Newton sea una dirección de descenso. Tenemos que modificar la matriz hessiana ligeramente, hacer una perturbación de ella. El algoritmo de quasi-Newton que explicamos está en el texto de Nocedal y Wright.</p>\n",
    "<p>En la iteración $k$-ésima tenemos que comprobar que la matriz hessiana $H_k$ sea definida positiva, en caso contrario vamos a construir una constante $\\tau$, dependiente de $x^k$, de modo que $H_k+\\tau I$ sea definida positiva, para ello nos vamos a servir de un proceso iterativo.</p>\n",
    "<p>Partimos de un valor $\\beta>0$, por ejemplo, $\\beta=10^{-3}$. Sean $h_{11},\\ldots,h_{nn}$ los elementos de la diagonal de $H_k$ </p>\n",
    "    Si $\\min\\{h_{11},\\ldots,h_{nn}\\}\\ge 0$, hacemos $\\tau=0$. Pero si $\\min\\{h_{11},\\ldots,h_{nn}\\}<0$ entonces tomamos $$\\tau=-\\min\\{h_{11},\\ldots,h_{nn}\\}+\\beta$$</p>\n",
    "<p>Si $H_k+\\tau I$ es definda positiva ya está, en caso contrario, se cambia $\\tau$, mediante la fórmula $\\tau=\\max\\{2\\tau,\\beta\\}$, hasta que la matriz $H_k+\\tau I$ sea definida positiva.</p>"
   ]
  },
  {
   "cell_type": "code",
   "execution_count": null,
   "metadata": {},
   "outputs": [],
   "source": [
    "hessiano0.diagonal()"
   ]
  },
  {
   "cell_type": "markdown",
   "metadata": {},
   "source": [
    "<p>Todos los elementos de la diagonal son positivos, por tanto no tenemos que cambiar el valor de $\\tau$</p>"
   ]
  },
  {
   "cell_type": "code",
   "execution_count": null,
   "metadata": {},
   "outputs": [],
   "source": [
    "beta=10^(-3);t=0"
   ]
  },
  {
   "cell_type": "markdown",
   "metadata": {},
   "source": [
    "<p>Hemos programado el cálculo de $\\tau$, usando una variable temporal hessiano0temp. Se usa copy, ya si hacemos uso de la asignación vinculamos ambas variables y los cambios en el bucle de hessianotemp, se llevarían también a cabo en hessiano0.</p>"
   ]
  },
  {
   "cell_type": "code",
   "execution_count": null,
   "metadata": {},
   "outputs": [],
   "source": [
    "hessiano0temp=copy(hessiano0)\n",
    "while hessiano0temp.is_positive_definite()==False:\n",
    "    hessiano0temp=hessiano0+t*identity_matrix(2)\n",
    "    t=max(2*t,beta)\n",
    "hessiano0=hessiano0temp"
   ]
  },
  {
   "cell_type": "code",
   "execution_count": null,
   "metadata": {},
   "outputs": [],
   "source": [
    "hessiano0"
   ]
  },
  {
   "cell_type": "code",
   "execution_count": null,
   "metadata": {},
   "outputs": [],
   "source": [
    "hessiano0.is_positive_definite()"
   ]
  },
  {
   "cell_type": "code",
   "execution_count": null,
   "metadata": {},
   "outputs": [],
   "source": [
    "punto_inicio=punto_inicio+(hessiano0)^(-1)*gradiente0\n",
    "#primera iteracion"
   ]
  },
  {
   "cell_type": "code",
   "execution_count": null,
   "metadata": {},
   "outputs": [],
   "source": [
    "punto_inicio;lista1.append(punto_inicio)"
   ]
  },
  {
   "cell_type": "code",
   "execution_count": null,
   "metadata": {},
   "outputs": [],
   "source": [
    "gradiente0=-(f.gradient()).substitute(x=punto_inicio[0],y=punto_inicio[1])\n",
    "gradiente0.norm()"
   ]
  },
  {
   "cell_type": "code",
   "execution_count": null,
   "metadata": {},
   "outputs": [],
   "source": [
    "hessiano0=matrix(RDF,(f.hessian()).substitute(x=punto_inicio[0],y=punto_inicio[1]))\n",
    "hessiano0.is_positive_definite()"
   ]
  },
  {
   "cell_type": "code",
   "execution_count": null,
   "metadata": {},
   "outputs": [],
   "source": [
    "punto_inicio=punto_inicio+(hessiano0)^(-1)*gradiente0;lista1.append(punto_inicio)\n",
    "#segunda iteracion"
   ]
  },
  {
   "cell_type": "code",
   "execution_count": null,
   "metadata": {},
   "outputs": [],
   "source": [
    "gradiente0=-(f.gradient()).substitute(x=punto_inicio[0],y=punto_inicio[1])\n",
    "gradiente0.norm()"
   ]
  },
  {
   "cell_type": "code",
   "execution_count": null,
   "metadata": {},
   "outputs": [],
   "source": [
    "hessiano0=matrix(RDF,(f.hessian()).substitute(x=punto_inicio[0],y=punto_inicio[1]))\n",
    "hessiano0.is_positive_definite()"
   ]
  },
  {
   "cell_type": "code",
   "execution_count": null,
   "metadata": {},
   "outputs": [],
   "source": [
    "punto_inicio=punto_inicio+(hessiano0)^(-1)*gradiente0;lista1.append(punto_inicio)\n",
    "#tercera iteracion\n",
    "gradiente0=-(f.gradient()).substitute(x=punto_inicio[0],y=punto_inicio[1])\n",
    "gradiente0.norm()"
   ]
  },
  {
   "cell_type": "code",
   "execution_count": null,
   "metadata": {},
   "outputs": [],
   "source": [
    "hessiano0=matrix(RDF,(f.hessian()).substitute(x=punto_inicio[0],y=punto_inicio[1]))\n",
    "hessiano0.is_positive_definite()"
   ]
  },
  {
   "cell_type": "code",
   "execution_count": null,
   "metadata": {},
   "outputs": [],
   "source": [
    "punto_inicio=punto_inicio+(hessiano0)^(-1)*gradiente0;lista1.append(punto_inicio)\n",
    "#cuarta iteracion\n",
    "gradiente0=-(f.gradient()).substitute(x=punto_inicio[0],y=punto_inicio[1])\n",
    "gradiente0.norm()"
   ]
  },
  {
   "cell_type": "code",
   "execution_count": null,
   "metadata": {},
   "outputs": [],
   "source": [
    "hessiano0=matrix(RDF,(f.hessian()).substitute(x=punto_inicio[0],y=punto_inicio[1]))\n",
    "hessiano0.is_positive_definite()"
   ]
  },
  {
   "cell_type": "code",
   "execution_count": null,
   "metadata": {},
   "outputs": [],
   "source": [
    "punto_inicio=punto_inicio+(hessiano0)^(-1)*gradiente0;lista1.append(punto_inicio)\n",
    "#quinta iteracion\n",
    "gradiente0=-(f.gradient()).substitute(x=punto_inicio[0],y=punto_inicio[1])\n",
    "gradiente0.norm()"
   ]
  },
  {
   "cell_type": "code",
   "execution_count": null,
   "metadata": {},
   "outputs": [],
   "source": [
    "hessiano0=matrix(RDF,(f.hessian()).substitute(x=punto_inicio[0],y=punto_inicio[1]))\n",
    "hessiano0.is_positive_definite()"
   ]
  },
  {
   "cell_type": "code",
   "execution_count": null,
   "metadata": {},
   "outputs": [],
   "source": [
    "punto_inicio=punto_inicio+(hessiano0)^(-1)*gradiente0;lista1.append(punto_inicio)\n",
    "#sexta iteracion\n",
    "gradiente0=-(f.gradient()).substitute(x=punto_inicio[0],y=punto_inicio[1])\n",
    "gradiente0.norm()"
   ]
  },
  {
   "cell_type": "code",
   "execution_count": null,
   "metadata": {},
   "outputs": [],
   "source": [
    "hessiano0=matrix(RDF,(f.hessian()).substitute(x=punto_inicio[0],y=punto_inicio[1]))\n",
    "hessiano0.is_positive_definite()"
   ]
  },
  {
   "cell_type": "code",
   "execution_count": null,
   "metadata": {},
   "outputs": [],
   "source": [
    "punto_inicio=punto_inicio+(hessiano0)^(-1)*gradiente0;lista1.append(punto_inicio)\n",
    "#sexta iteracion\n",
    "gradiente0=-(f.gradient()).substitute(x=punto_inicio[0],y=punto_inicio[1])\n",
    "gradiente0.norm()"
   ]
  },
  {
   "cell_type": "markdown",
   "metadata": {},
   "source": [
    "<p>Tras 7 iteraciones hemos conseguido que $||\\nabla f(x^k)||\\leq 10^{-1}$.</p>\n",
    "<p>Representamos a continuación las iteraciones que hemos llevado a cabo, así como las curvas que representan $|Hf(x,y)|=0$ y por tanto separan las regiones donde el hessiano es una matriz definida positiva o no lo es.</p>"
   ]
  },
  {
   "cell_type": "code",
   "execution_count": null,
   "metadata": {},
   "outputs": [],
   "source": [
    "line(lista1)+point(lista1,color='green',size=20)+plot(sqrt(2/3)*(4*x-1),(x,-2,6),color='red')+plot(-sqrt(2/3)*(4*x-1),(x,-2,6),color='red')"
   ]
  },
  {
   "cell_type": "markdown",
   "metadata": {},
   "source": [
    "<p>Hemos visto en clase que el método de Newton no tiene convergencia global, depende del punto de inicio. Por ejemplo si partimos del punto $x^0=\\left(\\frac{1}{4},1\\right)$, vamos a aplicarle el mismo método de quasi-Newton.</p>"
   ]
  },
  {
   "cell_type": "code",
   "execution_count": null,
   "metadata": {},
   "outputs": [],
   "source": [
    "punto_inicio=vector([1/4,1]);lista2=[punto_inicio]\n",
    "gradiente0=-(f.gradient()).substitute(x=punto_inicio[0],y=punto_inicio[1])\n",
    "hessiano0=matrix(RDF,(f.hessian()).substitute(x=punto_inicio[0],y=punto_inicio[1]))\n",
    "hessiano0.is_positive_definite();gradiente0.norm().n()"
   ]
  },
  {
   "cell_type": "code",
   "execution_count": null,
   "metadata": {},
   "outputs": [],
   "source": [
    "hessiano0.diagonal()"
   ]
  },
  {
   "cell_type": "code",
   "execution_count": null,
   "metadata": {},
   "outputs": [],
   "source": [
    "beta=10^(-3);t=0\n",
    "hessiano0temp=copy(hessiano0)\n",
    "while hessiano0temp.is_positive_definite()==False:\n",
    "    hessiano0temp=hessiano0+t*identity_matrix(2)\n",
    "    t=max(2*t,beta)\n",
    "hessiano0=copy(hessiano0temp)"
   ]
  },
  {
   "cell_type": "code",
   "execution_count": null,
   "metadata": {},
   "outputs": [],
   "source": [
    "hessiano0.is_positive_definite()"
   ]
  },
  {
   "cell_type": "code",
   "execution_count": null,
   "metadata": {},
   "outputs": [],
   "source": [
    "punto_inicio=punto_inicio+(hessiano0)^(-1)*gradiente0;lista2.append(punto_inicio)\n",
    "#primera iteracion"
   ]
  },
  {
   "cell_type": "code",
   "execution_count": null,
   "metadata": {},
   "outputs": [],
   "source": [
    "punto_inicio"
   ]
  },
  {
   "cell_type": "code",
   "execution_count": null,
   "metadata": {},
   "outputs": [],
   "source": [
    "gradiente0=-(f.gradient()).substitute(x=punto_inicio[0],y=punto_inicio[1])\n",
    "hessiano0=matrix(RDF,(f.hessian()).substitute(x=punto_inicio[0],y=punto_inicio[1]))\n",
    "hessiano0.is_positive_definite();gradiente0.norm()"
   ]
  },
  {
   "cell_type": "code",
   "execution_count": null,
   "metadata": {},
   "outputs": [],
   "source": [
    "punto_inicio=punto_inicio+(hessiano0)^(-1)*gradiente0;lista2.append(punto_inicio)\n",
    "#segunda iteracion"
   ]
  },
  {
   "cell_type": "code",
   "execution_count": null,
   "metadata": {},
   "outputs": [],
   "source": [
    "punto_inicio"
   ]
  },
  {
   "cell_type": "code",
   "execution_count": null,
   "metadata": {},
   "outputs": [],
   "source": [
    "gradiente0=-(f.gradient()).substitute(x=punto_inicio[0],y=punto_inicio[1])\n",
    "hessiano0=matrix(RDF,(f.hessian()).substitute(x=punto_inicio[0],y=punto_inicio[1]))\n",
    "hessiano0.is_positive_definite();gradiente0.norm()"
   ]
  },
  {
   "cell_type": "code",
   "execution_count": null,
   "metadata": {},
   "outputs": [],
   "source": [
    "hessiano0.diagonal()"
   ]
  },
  {
   "cell_type": "code",
   "execution_count": null,
   "metadata": {},
   "outputs": [],
   "source": [
    "beta=10^(-3);t=0\n",
    "hessiano0temp=copy(hessiano0)\n",
    "while hessiano0temp.is_positive_definite()==False:\n",
    "    hessiano0temp=hessiano0+t*identity_matrix(2)\n",
    "    t=max(2*t,beta)\n",
    "hessiano0=copy(hessiano0temp)"
   ]
  },
  {
   "cell_type": "code",
   "execution_count": null,
   "metadata": {},
   "outputs": [],
   "source": [
    "hessiano0.is_positive_definite()"
   ]
  },
  {
   "cell_type": "code",
   "execution_count": null,
   "metadata": {},
   "outputs": [],
   "source": [
    "punto_inicio=punto_inicio+(hessiano0)^(-1)*gradiente0;lista2.append(punto_inicio);lista2.append(punto_inicio)\n",
    "#tercera iteracion"
   ]
  },
  {
   "cell_type": "code",
   "execution_count": null,
   "metadata": {},
   "outputs": [],
   "source": [
    "gradiente0=-(f.gradient()).substitute(x=punto_inicio[0],y=punto_inicio[1])\n",
    "punto_inicio;gradiente0.norm().n()"
   ]
  },
  {
   "cell_type": "code",
   "execution_count": null,
   "metadata": {},
   "outputs": [],
   "source": [
    "line(lista2)+point(lista2,color='green',size=20)+plot(sqrt(2/3)*(4*x-1),(x,-2,6),color='red')+plot(-sqrt(2/3)*(4*x-1),(x,-2,6),color='red')"
   ]
  },
  {
   "cell_type": "markdown",
   "metadata": {},
   "source": [
    "<p> </p>\n",
    "<h3>Cuestionario para el alumno</h3>"
   ]
  },
  {
   "cell_type": "code",
   "execution_count": 1,
   "metadata": {},
   "outputs": [
    {
     "data": {
      "text/html": [
       "<center><h4>E.T.S.I.I. - GRADO I.I. TECNOLOGÍAS INFORMÁTICAS</h4></center><center><h4>Matemática Aplicada a Sistemas de Información - SEGUNDA PRÁCTICA DE LABORATORIO</h4></center><hr  align=center><center>APELLIDOS, NOMBRE: <INPUT value= \"\",type=text size=70> <INPUT type=submit value=1-2074FA><hr  align=center></center><hr  align=center><b> <span style=\"color: #0000ff;\">EJERCICIO 1 </span></b><br> Consideremos la función <script type=\"math/tex; mode=display\">f(x,y)=( x^2+ y^2-4xy) e^{2x+ y}</script> Queremos calcular el mínimo de dicha función:<ol><li>El conjunto de puntos críticos de <script type=\"math/tex\">f(x,y)</script> y su clasificación es:</li><li>Si aplicamos el método del gradiente, con longitud de paso dado por búsqueda lineal exacta, y partimos del punto <script type=\"math/tex\">x^0=(0,-2)</script>, \n",
       " con criterio de parada <script type=\"math/tex\">||\\nabla f(x^k)||<10^{-2}</script>. La primera iteración con la precisión requerida es:</li><li>Si aplicamos el método del gradiente, con longitud de paso dado por búsqueda lineal exacta, y partimos del punto <script type=\"math/tex\">x^0=(-2,-1)</script>, \n",
       " con criterio de parada <script type=\"math/tex\">||x^{k-1}-x^k||<10^{-3}</script>. La primera iteración con la precisión requerida es:</li></ol>Marcar la respuesta correcta.<br><hr  align=center><b> <span style=\"color: #ff0000;\">Respuesta al apartado 1 </span></b><br><br> 1.<input type=checkbox> Solo hay dos puntos críticos: <script type=\"math/tex\">(0,0)</script> punto de silla y <script type=\"math/tex\">(\\displaystyle-\\frac{10}{17},-\\frac{12}{17})</script> mínimo local \n",
       " <br> 2.<input type=checkbox> Solo hay dos puntos críticos: <script type=\"math/tex\">(0,0)</script> punto de silla y <script type=\"math/tex\">(-1,-1)</script> mínimo local <br> 3.<input type=checkbox> Solo hay dos puntos críticos: <script type=\"math/tex\">(0,0)</script> punto de silla y <script type=\"math/tex\">(\\displaystyle-\\frac{6}{7},-\\frac{8}{7})</script> mínimo local \n",
       " <br> 4.<input type=checkbox> Solo hay dos puntos críticos: <script type=\"math/tex\">(0,0)</script> punto de silla y <script type=\"math/tex\">(\\displaystyle-\\frac{8}{13},-\\frac{10}{13})</script> mínimo local \n",
       "<br><br><b> <span style=\"color: #ff0000;\">Respuesta al apartado 2 </span></b><br><br> <table style=\" width:100%\"> <tr> <td style=\"border:none; text-align:left\">1.<input type=checkbox> <script type=\"math/tex\">x^k=(-0.615425465978379, -0.769314482129034)</script>    </td> <td style=\"border:none; text-align:left\">2.<input type=checkbox> <script type=\"math/tex\">x^k=(-0.852749425729077, -1.19525290495132)</script>    </td> </tr> <tr> <td style=\"border:none; text-align:left\">3.<input type=checkbox> <script type=\"math/tex\">x^k=(-1.00028901734995, -1.00037797694319)</script>    </td> <td style=\"border:none; text-align:left\">4.<input type=checkbox> <script type=\"math/tex\">x^k=(-0.621206235365706, -0.784697316983445)</script>    </td> </tr> </table><br><br><b> <span style=\"color: #ff0000;\">Respuesta al apartado 3 </span></b><br><br> <table style=\" width:100%\"> <tr> <td style=\"border:none; text-align:left\">1.<input type=checkbox> <script type=\"math/tex\">x^k=(-1.00675383157799, -1.01015925586123)</script>    </td> <td style=\"border:none; text-align:left\">2.<input type=checkbox> <script type=\"math/tex\">x^k=(-0.829345103871711, -0.600184572946843)</script>    </td> </tr> <tr> <td style=\"border:none; text-align:left\">3.<input type=checkbox> <script type=\"math/tex\">x^k=(-0.616999217642563, -0.773504182044988)</script>    </td> <td style=\"border:none; text-align:left\">4.<input type=checkbox> <script type=\"math/tex\">x^k=(-0.615388649341635, -0.769229256543437)</script>    </td> </tr> </table><br><br><hr  align=center><b> <span style=\"color: #0000ff;\">EJERCICIO 2 </span></b><br> Consideremos la función <script type=\"math/tex; mode=display\">f(x,y)=(2x^2+ y^2-4xy) e^{ x+2y}</script> Queremos calcular el mínimo de dicha función:<ol><li>El conjunto de puntos críticos de <script type=\"math/tex\">f(x,y)</script> y su clasificación es:</li><li>Si aplicamos el método del gradiente, con longitud de paso dado por la regla de Armijo con <script type=\"math/tex\">\\epsilon=\\frac{1}{10}</script>, \n",
       " <script type=\"math/tex\">\\beta=\\frac{1}{2}</script> y <script type=\"math/tex\">s=1</script>, y partimos del punto <script type=\"math/tex\">x^0=(0,-2)</script>, con criterio de parada <script type=\"math/tex\">||\\nabla f(x^k)||<10^{-2}</script>,\n",
       " ¿Cuántas iteraciones necesitamos?</li><li>Si aplicamos el método del gradiente, con longitud de paso dado por la regla de Armijo con <script type=\"math/tex\">\\epsilon=\\frac{1}{5}</script>, \n",
       " <script type=\"math/tex\">\\beta=\\frac{1}{2}</script> y <script type=\"math/tex\">s=1</script>, y partimos del punto <script type=\"math/tex\">x^0=(0,-2)</script>, con criterio de parada <script type=\"math/tex\">||\\nabla f(x^k)||<10^{-2}</script>. \n",
       " La primera iteración con la precisión requerida es:</li></ol>Marcar la respuesta correcta.<br><hr  align=center><b> <span style=\"color: #ff0000;\">Respuesta al apartado 1 </span></b><br><br> 1.<input type=checkbox> Solo hay dos puntos críticos: <script type=\"math/tex\">(0,0)</script> punto de silla y <script type=\"math/tex\">(\\displaystyle-\\frac{10}{17},-\\frac{12}{17})</script> mínimo local \n",
       " <br> 2.<input type=checkbox> Solo hay dos puntos críticos: <script type=\"math/tex\">(0,0)</script> punto de silla y <script type=\"math/tex\">(\\displaystyle-\\frac{11}{15},-\\frac{8}{15})</script> mínimo local \n",
       " <br> 3.<input type=checkbox> Solo hay dos puntos críticos: <script type=\"math/tex\">(0,0)</script> punto de silla y <script type=\"math/tex\">(\\displaystyle-\\frac{8}{15},-\\frac{11}{15})</script> mínimo local \n",
       " <br> 4.<input type=checkbox> Solo hay dos puntos críticos: <script type=\"math/tex\">(0,0)</script> punto de silla y <script type=\"math/tex\">(\\displaystyle-\\frac{8}{13},-\\frac{10}{13})</script> mínimo local \n",
       "<br><br><b> <span style=\"color: #ff0000;\">Respuesta al apartado 2 </span></b><br><br> <table style=\" width:100%\"> <tr> <td style=\"border:none; text-align:left\">1.<input type=checkbox> Al menos 12 iteraciones    </td> <td style=\"border:none; text-align:left\">2.<input type=checkbox> Al menos 86 iteraciones    </td> </tr> <tr> <td style=\"border:none; text-align:left\">3.<input type=checkbox> Al menos 52 iteraciones    </td> <td style=\"border:none; text-align:left\">4.<input type=checkbox> Al menos 27 iteraciones    </td> </tr> </table><br><br><b> <span style=\"color: #ff0000;\">Respuesta al apartado 3 </span></b><br><br> <table style=\" width:100%\"> <tr> <td style=\"border:none; text-align:left\">1.<input type=checkbox> <script type=\"math/tex\">x^k=(-0.860858475034328, -1.14809606847413)</script>    </td> <td style=\"border:none; text-align:left\">2.<input type=checkbox> <script type=\"math/tex\">x^k=(-0.631852727238142, -0.753495361807341)</script>    </td> </tr> <tr> <td style=\"border:none; text-align:left\">3.<input type=checkbox> <script type=\"math/tex\">x^k=(-0.606324564233102, -0.922561065649438)</script>    </td> <td style=\"border:none; text-align:left\">4.<input type=checkbox> Ninguna de las otras respuestas.    </td> </tr> </table><br><br><hr  align=center><b> <span style=\"color: #0000ff;\">EJERCICIO 3 </span></b><br>  Queremos aplicar el método de quasi-Newton en los siguientes casos:<ol><li>Consideremos la función <script type=\"math/tex; mode=display\">f(x,y)=( x^2+2y^2-3xy) e^{2x+ y}</script> ¿Es <script type=\"math/tex\">Hf(-2,0)</script> definida positiva? en caso contrario calcula <script type=\"math/tex\">\\tau</script> descrito en el algoritmo de quasi-Newton anterior \n",
       " que hace que <script type=\"math/tex\">H+\\tau I</script> sea definida positiva</li><li>Consideremos la función <script type=\"math/tex; mode=display\">f(x,y)=3(x-5)^2(y-5)^2+2x^2y^2</script> Si aplicamos el método quasi-Newton descrito anteriormente, y partimos del punto <script type=\"math/tex\">x^0=(1,4)</script>, \n",
       " con criterio de parada <script type=\"math/tex\">||\\nabla f(x^k)||<10^{-2}</script>, ¿Cuántas iteraciones necesitamos?</li><li>Consideremos la función <script type=\"math/tex; mode=display\">f(x,y)=2(x-5)^2(y-5)^2+3x^2y^2</script> Si aplicamos el método quasi-Newton, y partimos del punto <script type=\"math/tex\">x^0=(1,4)</script>, \n",
       " con criterio de parada <script type=\"math/tex\">||\\nabla f(x^k)||<10^{-3}</script>. La primera iteración con la precisión requerida es:</li><li>Consideremos la función <script type=\"math/tex; mode=display\">f(x,y)= (x-5)^2(y-5)^2+2x^2y^2</script> Si aplicamos el método quasi-Newton descrito anteriormente, y partimos de los puntos <script type=\"math/tex\">x^0_1=(2,4)</script> y <script type=\"math/tex\">x^0_2=(1.5,4)</script>, \n",
       " con criterio de parada <script type=\"math/tex\">||\\nabla f(x_i^k)||<10^{-4}</script>, ¿Convergen dichos algoritmos?</li></ol>Marcar la respuesta correcta.<br><hr  align=center><b> <span style=\"color: #ff0000;\">Respuesta al apartado 1 </span></b><br><br> 1.<input type=checkbox> No es definida positiva, se obtiene <script type=\"math/tex\">\\tau=0.0289517879963419</script> <br> 2.<input type=checkbox> No es definida positiva, se obtiene <script type=\"math/tex\">\\tau=0.256</script> <br> 3.<input type=checkbox> No es definida positiva, se obtiene <script type=\"math/tex\">\\tau=0.0772625555549367</script> <br> 4.<input type=checkbox> No es definida positiva, se obtiene <script type=\"math/tex\">\\tau=0.0828553639890256</script><br><br><b> <span style=\"color: #ff0000;\">Respuesta al apartado 2 </span></b><br><br> <table style=\" width:100%\"> <tr> <td style=\"border:none; text-align:left\">1.<input type=checkbox> Al menos 19 iteraciones    </td> <td style=\"border:none; text-align:left\">2.<input type=checkbox> Al menos 5 iteraciones    </td> </tr> <tr> <td style=\"border:none; text-align:left\">3.<input type=checkbox> Al menos 15 iteraciones    </td> <td style=\"border:none; text-align:left\">4.<input type=checkbox> Al menos 11 iteraciones    </td> </tr> </table><br><br><b> <span style=\"color: #ff0000;\">Respuesta al apartado 3 </span></b><br><br> <table style=\" width:100%\"> <tr> <td style=\"border:none; text-align:left\">1.<input type=checkbox> <script type=\"math/tex\">x^k=(5.00000036695463, -2.38450116434312\\cdot 10^{-7})</script>    </td> <td style=\"border:none; text-align:left\">2.<input type=checkbox> <script type=\"math/tex\">x^k=(-3.82267095531594\\cdot 10^{-6}, 5.00000271216008)</script>    </td> </tr> <tr> <td style=\"border:none; text-align:left\">3.<input type=checkbox> <script type=\"math/tex\">x^k=(-3.13757489677003\\cdot 10^{-13}, 5.00000000000043)</script>    </td> <td style=\"border:none; text-align:left\">4.<input type=checkbox> <script type=\"math/tex\">x^k=(-6.55841276259010\\cdot 10^{-10}, 5.00000000146600)</script>    </td> </tr> </table><br><br><b> <span style=\"color: #ff0000;\">Respuesta al apartado 4 </span></b><br><br> <table style=\" width:100%\"> <tr> <td style=\"border:none; text-align:left\">1.<input type=checkbox> El algoritmo converge para <script type=\"math/tex\">x^0_1</script> y diverge para <script type=\"math/tex\">x^0_2</script>    </td> <td style=\"border:none; text-align:left\">2.<input type=checkbox> El algoritmo converge en ambos casos    </td> </tr> <tr> <td style=\"border:none; text-align:left\">3.<input type=checkbox> El algoritmo diverge en ambos casos    </td> <td style=\"border:none; text-align:left\">4.<input type=checkbox> El algoritmo converge para <script type=\"math/tex\">x^0_2</script> y diverge para <script type=\"math/tex\">x^0_1</script>    </td> </tr> </table><br><br><hr  align=center><center><span style=\"font-size: x-small;\"> Final del documento </span></center>"
      ],
      "text/plain": [
       "<center><h4>E.T.S.I.I. - GRADO I.I. TECNOLOGÍAS INFORMÁTICAS</h4></center><center><h4>Matemática Aplicada a Sistemas de Información - SEGUNDA PRÁCTICA DE LABORATORIO</h4></center><hr  align=center><center>APELLIDOS, NOMBRE: <INPUT value= \"\",type=text size=70> <INPUT type=submit value=1-2074FA><hr  align=center></center><hr  align=center><b> <span style=\"color: #0000ff;\">EJERCICIO 1 </span></b><br> Consideremos la función <script type=\"math/tex; mode=display\">f(x,y)=( x^2+ y^2-4xy) e^{2x+ y}</script> Queremos calcular el mínimo de dicha función:<ol><li>El conjunto de puntos críticos de <script type=\"math/tex\">f(x,y)</script> y su clasificación es:</li><li>Si aplicamos el método del gradiente, con longitud de paso dado por búsqueda lineal exacta, y partimos del punto <script type=\"math/tex\">x^0=(0,-2)</script>, \n",
       " con criterio de parada <script type=\"math/tex\">||\\nabla f(x^k)||<10^{-2}</script>. La primera iteración con la precisión requerida es:</li><li>Si aplicamos el método del gradiente, con longitud de paso dado por búsqueda lineal exacta, y partimos del punto <script type=\"math/tex\">x^0=(-2,-1)</script>, \n",
       " con criterio de parada <script type=\"math/tex\">||x^{k-1}-x^k||<10^{-3}</script>. La primera iteración con la precisión requerida es:</li></ol>Marcar la respuesta correcta.<br><hr  align=center><b> <span style=\"color: #ff0000;\">Respuesta al apartado 1 </span></b><br><br> 1.<input type=checkbox> Solo hay dos puntos críticos: <script type=\"math/tex\">(0,0)</script> punto de silla y <script type=\"math/tex\">(\\displaystyle-\\frac{10}{17},-\\frac{12}{17})</script> mínimo local \n",
       " <br> 2.<input type=checkbox> Solo hay dos puntos críticos: <script type=\"math/tex\">(0,0)</script> punto de silla y <script type=\"math/tex\">(-1,-1)</script> mínimo local <br> 3.<input type=checkbox> Solo hay dos puntos críticos: <script type=\"math/tex\">(0,0)</script> punto de silla y <script type=\"math/tex\">(\\displaystyle-\\frac{6}{7},-\\frac{8}{7})</script> mínimo local \n",
       " <br> 4.<input type=checkbox> Solo hay dos puntos críticos: <script type=\"math/tex\">(0,0)</script> punto de silla y <script type=\"math/tex\">(\\displaystyle-\\frac{8}{13},-\\frac{10}{13})</script> mínimo local \n",
       "<br><br><b> <span style=\"color: #ff0000;\">Respuesta al apartado 2 </span></b><br><br> <table style=\" width:100%\"> <tr> <td style=\"border:none; text-align:left\">1.<input type=checkbox> <script type=\"math/tex\">x^k=(-0.615425465978379, -0.769314482129034)</script>    </td> <td style=\"border:none; text-align:left\">2.<input type=checkbox> <script type=\"math/tex\">x^k=(-0.852749425729077, -1.19525290495132)</script>    </td> </tr> <tr> <td style=\"border:none; text-align:left\">3.<input type=checkbox> <script type=\"math/tex\">x^k=(-1.00028901734995, -1.00037797694319)</script>    </td> <td style=\"border:none; text-align:left\">4.<input type=checkbox> <script type=\"math/tex\">x^k=(-0.621206235365706, -0.784697316983445)</script>    </td> </tr> </table><br><br><b> <span style=\"color: #ff0000;\">Respuesta al apartado 3 </span></b><br><br> <table style=\" width:100%\"> <tr> <td style=\"border:none; text-align:left\">1.<input type=checkbox> <script type=\"math/tex\">x^k=(-1.00675383157799, -1.01015925586123)</script>    </td> <td style=\"border:none; text-align:left\">2.<input type=checkbox> <script type=\"math/tex\">x^k=(-0.829345103871711, -0.600184572946843)</script>    </td> </tr> <tr> <td style=\"border:none; text-align:left\">3.<input type=checkbox> <script type=\"math/tex\">x^k=(-0.616999217642563, -0.773504182044988)</script>    </td> <td style=\"border:none; text-align:left\">4.<input type=checkbox> <script type=\"math/tex\">x^k=(-0.615388649341635, -0.769229256543437)</script>    </td> </tr> </table><br><br><hr  align=center><b> <span style=\"color: #0000ff;\">EJERCICIO 2 </span></b><br> Consideremos la función <script type=\"math/tex; mode=display\">f(x,y)=(2x^2+ y^2-4xy) e^{ x+2y}</script> Queremos calcular el mínimo de dicha función:<ol><li>El conjunto de puntos críticos de <script type=\"math/tex\">f(x,y)</script> y su clasificación es:</li><li>Si aplicamos el método del gradiente, con longitud de paso dado por la regla de Armijo con <script type=\"math/tex\">\\epsilon=\\frac{1}{10}</script>, \n",
       " <script type=\"math/tex\">\\beta=\\frac{1}{2}</script> y <script type=\"math/tex\">s=1</script>, y partimos del punto <script type=\"math/tex\">x^0=(0,-2)</script>, con criterio de parada <script type=\"math/tex\">||\\nabla f(x^k)||<10^{-2}</script>,\n",
       " ¿Cuántas iteraciones necesitamos?</li><li>Si aplicamos el método del gradiente, con longitud de paso dado por la regla de Armijo con <script type=\"math/tex\">\\epsilon=\\frac{1}{5}</script>, \n",
       " <script type=\"math/tex\">\\beta=\\frac{1}{2}</script> y <script type=\"math/tex\">s=1</script>, y partimos del punto <script type=\"math/tex\">x^0=(0,-2)</script>, con criterio de parada <script type=\"math/tex\">||\\nabla f(x^k)||<10^{-2}</script>. \n",
       " La primera iteración con la precisión requerida es:</li></ol>Marcar la respuesta correcta.<br><hr  align=center><b> <span style=\"color: #ff0000;\">Respuesta al apartado 1 </span></b><br><br> 1.<input type=checkbox> Solo hay dos puntos críticos: <script type=\"math/tex\">(0,0)</script> punto de silla y <script type=\"math/tex\">(\\displaystyle-\\frac{10}{17},-\\frac{12}{17})</script> mínimo local \n",
       " <br> 2.<input type=checkbox> Solo hay dos puntos críticos: <script type=\"math/tex\">(0,0)</script> punto de silla y <script type=\"math/tex\">(\\displaystyle-\\frac{11}{15},-\\frac{8}{15})</script> mínimo local \n",
       " <br> 3.<input type=checkbox> Solo hay dos puntos críticos: <script type=\"math/tex\">(0,0)</script> punto de silla y <script type=\"math/tex\">(\\displaystyle-\\frac{8}{15},-\\frac{11}{15})</script> mínimo local \n",
       " <br> 4.<input type=checkbox> Solo hay dos puntos críticos: <script type=\"math/tex\">(0,0)</script> punto de silla y <script type=\"math/tex\">(\\displaystyle-\\frac{8}{13},-\\frac{10}{13})</script> mínimo local \n",
       "<br><br><b> <span style=\"color: #ff0000;\">Respuesta al apartado 2 </span></b><br><br> <table style=\" width:100%\"> <tr> <td style=\"border:none; text-align:left\">1.<input type=checkbox> Al menos 12 iteraciones    </td> <td style=\"border:none; text-align:left\">2.<input type=checkbox> Al menos 86 iteraciones    </td> </tr> <tr> <td style=\"border:none; text-align:left\">3.<input type=checkbox> Al menos 52 iteraciones    </td> <td style=\"border:none; text-align:left\">4.<input type=checkbox> Al menos 27 iteraciones    </td> </tr> </table><br><br><b> <span style=\"color: #ff0000;\">Respuesta al apartado 3 </span></b><br><br> <table style=\" width:100%\"> <tr> <td style=\"border:none; text-align:left\">1.<input type=checkbox> <script type=\"math/tex\">x^k=(-0.860858475034328, -1.14809606847413)</script>    </td> <td style=\"border:none; text-align:left\">2.<input type=checkbox> <script type=\"math/tex\">x^k=(-0.631852727238142, -0.753495361807341)</script>    </td> </tr> <tr> <td style=\"border:none; text-align:left\">3.<input type=checkbox> <script type=\"math/tex\">x^k=(-0.606324564233102, -0.922561065649438)</script>    </td> <td style=\"border:none; text-align:left\">4.<input type=checkbox> Ninguna de las otras respuestas.    </td> </tr> </table><br><br><hr  align=center><b> <span style=\"color: #0000ff;\">EJERCICIO 3 </span></b><br>  Queremos aplicar el método de quasi-Newton en los siguientes casos:<ol><li>Consideremos la función <script type=\"math/tex; mode=display\">f(x,y)=( x^2+2y^2-3xy) e^{2x+ y}</script> ¿Es <script type=\"math/tex\">Hf(-2,0)</script> definida positiva? en caso contrario calcula <script type=\"math/tex\">\\tau</script> descrito en el algoritmo de quasi-Newton anterior \n",
       " que hace que <script type=\"math/tex\">H+\\tau I</script> sea definida positiva</li><li>Consideremos la función <script type=\"math/tex; mode=display\">f(x,y)=3(x-5)^2(y-5)^2+2x^2y^2</script> Si aplicamos el método quasi-Newton descrito anteriormente, y partimos del punto <script type=\"math/tex\">x^0=(1,4)</script>, \n",
       " con criterio de parada <script type=\"math/tex\">||\\nabla f(x^k)||<10^{-2}</script>, ¿Cuántas iteraciones necesitamos?</li><li>Consideremos la función <script type=\"math/tex; mode=display\">f(x,y)=2(x-5)^2(y-5)^2+3x^2y^2</script> Si aplicamos el método quasi-Newton, y partimos del punto <script type=\"math/tex\">x^0=(1,4)</script>, \n",
       " con criterio de parada <script type=\"math/tex\">||\\nabla f(x^k)||<10^{-3}</script>. La primera iteración con la precisión requerida es:</li><li>Consideremos la función <script type=\"math/tex; mode=display\">f(x,y)= (x-5)^2(y-5)^2+2x^2y^2</script> Si aplicamos el método quasi-Newton descrito anteriormente, y partimos de los puntos <script type=\"math/tex\">x^0_1=(2,4)</script> y <script type=\"math/tex\">x^0_2=(1.5,4)</script>, \n",
       " con criterio de parada <script type=\"math/tex\">||\\nabla f(x_i^k)||<10^{-4}</script>, ¿Convergen dichos algoritmos?</li></ol>Marcar la respuesta correcta.<br><hr  align=center><b> <span style=\"color: #ff0000;\">Respuesta al apartado 1 </span></b><br><br> 1.<input type=checkbox> No es definida positiva, se obtiene <script type=\"math/tex\">\\tau=0.0289517879963419</script> <br> 2.<input type=checkbox> No es definida positiva, se obtiene <script type=\"math/tex\">\\tau=0.256</script> <br> 3.<input type=checkbox> No es definida positiva, se obtiene <script type=\"math/tex\">\\tau=0.0772625555549367</script> <br> 4.<input type=checkbox> No es definida positiva, se obtiene <script type=\"math/tex\">\\tau=0.0828553639890256</script><br><br><b> <span style=\"color: #ff0000;\">Respuesta al apartado 2 </span></b><br><br> <table style=\" width:100%\"> <tr> <td style=\"border:none; text-align:left\">1.<input type=checkbox> Al menos 19 iteraciones    </td> <td style=\"border:none; text-align:left\">2.<input type=checkbox> Al menos 5 iteraciones    </td> </tr> <tr> <td style=\"border:none; text-align:left\">3.<input type=checkbox> Al menos 15 iteraciones    </td> <td style=\"border:none; text-align:left\">4.<input type=checkbox> Al menos 11 iteraciones    </td> </tr> </table><br><br><b> <span style=\"color: #ff0000;\">Respuesta al apartado 3 </span></b><br><br> <table style=\" width:100%\"> <tr> <td style=\"border:none; text-align:left\">1.<input type=checkbox> <script type=\"math/tex\">x^k=(5.00000036695463, -2.38450116434312\\cdot 10^{-7})</script>    </td> <td style=\"border:none; text-align:left\">2.<input type=checkbox> <script type=\"math/tex\">x^k=(-3.82267095531594\\cdot 10^{-6}, 5.00000271216008)</script>    </td> </tr> <tr> <td style=\"border:none; text-align:left\">3.<input type=checkbox> <script type=\"math/tex\">x^k=(-3.13757489677003\\cdot 10^{-13}, 5.00000000000043)</script>    </td> <td style=\"border:none; text-align:left\">4.<input type=checkbox> <script type=\"math/tex\">x^k=(-6.55841276259010\\cdot 10^{-10}, 5.00000000146600)</script>    </td> </tr> </table><br><br><b> <span style=\"color: #ff0000;\">Respuesta al apartado 4 </span></b><br><br> <table style=\" width:100%\"> <tr> <td style=\"border:none; text-align:left\">1.<input type=checkbox> El algoritmo converge para <script type=\"math/tex\">x^0_1</script> y diverge para <script type=\"math/tex\">x^0_2</script>    </td> <td style=\"border:none; text-align:left\">2.<input type=checkbox> El algoritmo converge en ambos casos    </td> </tr> <tr> <td style=\"border:none; text-align:left\">3.<input type=checkbox> El algoritmo diverge en ambos casos    </td> <td style=\"border:none; text-align:left\">4.<input type=checkbox> El algoritmo converge para <script type=\"math/tex\">x^0_2</script> y diverge para <script type=\"math/tex\">x^0_1</script>    </td> </tr> </table><br><br><hr  align=center><center><span style=\"font-size: x-small;\"> Final del documento </span></center>"
      ]
     },
     "metadata": {},
     "output_type": "display_data"
    }
   ],
   "source": [
    "NUMERO_ALUMNO=1\n",
    "\n",
    "NOMBRE_FICHERO_EXAMEN = 'Ex_MASI_L2_t.htl'\n",
    "load('codigo_examinar_html.sage')\n",
    "\n",
    "if NUMERO_ALUMNO > 0:\n",
    "    lector_examenes(NOMBRE_FICHERO_EXAMEN,NUMERO_ALUMNO,False)"
   ]
  },
  {
   "cell_type": "code",
   "execution_count": null,
   "metadata": {},
   "outputs": [],
   "source": []
  }
 ],
 "metadata": {
  "kernelspec": {
   "display_name": "SageMath 9.1",
   "language": "sage",
   "name": "sagemath"
  },
  "language": "python",
  "language_info": {
   "codemirror_mode": {
    "name": "ipython",
    "version": 3
   },
   "file_extension": ".py",
   "mimetype": "text/x-python",
   "name": "python",
   "nbconvert_exporter": "python",
   "pygments_lexer": "ipython3",
   "version": "3.7.3"
  }
 },
 "nbformat": 4,
 "nbformat_minor": 2
}
