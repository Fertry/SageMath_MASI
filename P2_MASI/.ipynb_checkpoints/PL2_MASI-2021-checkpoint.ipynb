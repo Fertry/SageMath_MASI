{
 "cells": [
  {
   "cell_type": "markdown",
   "metadata": {},
   "source": [
    "<h3 style=\"text-align: center;\">ESCUELA TÉCNICA SUPERIOR DE INGENIERÍA INFORMÁTICA</h3>\n",
    "<h3 style=\"text-align: center;\">UNIVERSIDAD DE SEVILLA</h3>\n",
    "<h3 style=\"text-align: center;\">MATEMÁTICA APLICADA A SISTEMAS DE INFORMACIÓN</h3>\n",
    "<h3>Segunda práctica de laboratorio</h3>\n",
    "<p>En esta práctica estudiaremos métodos de optimización sin restricciones de funciones de varias variables. Es decir partimos del problema:</p>\n",
    "<p>$$\\min_{x\\in D}f(x)$$</p>\n",
    "<p>Gracias al teorema de Weierstrass sabemos que en un conjunto $D$ cerrado y acotado siempre se alcanza el máximo y el mínimo. Hemos estudiado métodos analíticos que nos permiten calcular dichos óptimos. En esta práctica nos centraremos en los métodos numéricos para la resolución de dichos problemas de óptimización de funciones de varias variables.</p>\n",
    "<p>Empezaremos estudiando un caso analítico.</p>\n",
    "<p>Supongamos que estamos interesados en calcular el mínimo de la función:</p>\n",
    "<p>$$f(x,y)=3x^2+y^2-x^4-12$$</p>"
   ]
  },
  {
   "cell_type": "code",
   "execution_count": 1,
   "metadata": {},
   "outputs": [],
   "source": [
    "x,y=var('x,y')"
   ]
  },
  {
   "cell_type": "code",
   "execution_count": 2,
   "metadata": {},
   "outputs": [],
   "source": [
    "f(x,y)=3*x^2+y^2-x^4-12"
   ]
  },
  {
   "cell_type": "code",
   "execution_count": 3,
   "metadata": {},
   "outputs": [
    {
     "data": {
      "text/html": [
       "\n",
       "<iframe srcdoc=\"<!DOCTYPE html>\n",
       "<html>\n",
       "<head>\n",
       "<title></title>\n",
       "<meta charset=&quot;utf-8&quot;>\n",
       "<meta name=viewport content=&quot;width=device-width, user-scalable=no, minimum-scale=1.0, maximum-scale=1.0&quot;>\n",
       "<style>\n",
       "\n",
       "    body { margin: 0px; overflow: hidden; }\n",
       "\n",
       "    #menu-container { position: absolute; bottom: 30px; right: 40px; cursor: default; }\n",
       "\n",
       "    #menu-message { position: absolute; bottom: 0px; right: 0px; white-space: nowrap;\n",
       "                    display: none; background-color: #F5F5F5; padding: 10px; }\n",
       "\n",
       "    #menu-content { position: absolute; bottom: 0px; right: 0px;\n",
       "                    display: none; background-color: #F5F5F5; border-bottom: 1px solid black;\n",
       "                    border-right: 1px solid black; border-left: 1px solid black; }\n",
       "\n",
       "    #menu-content div { border-top: 1px solid black; padding: 10px; white-space: nowrap; }\n",
       "\n",
       "    #menu-content div:hover { background-color: #FEFEFE;; }\n",
       "  \n",
       "</style>\n",
       "</head>\n",
       "\n",
       "<body>\n",
       "\n",
       "<script src=&quot;/nbextensions/threejs/build/three.min.js&quot;></script>\n",
       "<script src=&quot;/nbextensions/threejs/examples/js/controls/OrbitControls.js&quot;></script>\n",
       "<script>\n",
       "  if ( !window.THREE ) document.write(' \\\n",
       "<script src=&quot;https://cdn.jsdelivr.net/gh/mrdoob/three.js@r110/build/three.min.js&quot;><\\/script> \\\n",
       "<script src=&quot;https://cdn.jsdelivr.net/gh/mrdoob/three.js@r110/examples/js/controls/OrbitControls.js&quot;><\\/script> \\\n",
       "            ');\n",
       "</script>\n",
       "        \n",
       "<script>\n",
       "\n",
       "    var scene = new THREE.Scene();\n",
       "\n",
       "    var renderer = new THREE.WebGLRenderer( { antialias: true, preserveDrawingBuffer: true } );\n",
       "    renderer.setPixelRatio( window.devicePixelRatio );\n",
       "    renderer.setSize( window.innerWidth, window.innerHeight );\n",
       "    renderer.setClearColor( 0xffffff, 1 );\n",
       "    document.body.appendChild( renderer.domElement );\n",
       "\n",
       "    var options = {&quot;aspectRatio&quot;: [1.0, 1.0, 1.0], &quot;axes&quot;: false, &quot;axesLabels&quot;: [&quot;x&quot;, &quot;y&quot;, &quot;z&quot;], &quot;decimals&quot;: 2, &quot;frame&quot;: true, &quot;projection&quot;: &quot;perspective&quot;};\n",
       "\n",
       "    // When animations are supported by the viewer, the value 'false'\n",
       "    // will be replaced with an option set in Python by the user\n",
       "    var animate = false; // options.animate;\n",
       "\n",
       "    var b = [{&quot;x&quot;:-3.0, &quot;y&quot;:-3.0, &quot;z&quot;:-65.99408284023669}, {&quot;x&quot;:3.0, &quot;y&quot;:3.0, &quot;z&quot;:-0.7784391302825515}]; // bounds\n",
       "\n",
       "    if ( b[0].x === b[1].x ) {\n",
       "        b[0].x -= 1;\n",
       "        b[1].x += 1;\n",
       "    }\n",
       "    if ( b[0].y === b[1].y ) {\n",
       "        b[0].y -= 1;\n",
       "        b[1].y += 1;\n",
       "    }\n",
       "    if ( b[0].z === b[1].z ) {\n",
       "        b[0].z -= 1;\n",
       "        b[1].z += 1;\n",
       "    }\n",
       "\n",
       "    var rRange = Math.sqrt( Math.pow( b[1].x - b[0].x, 2 )\n",
       "                            + Math.pow( b[1].y - b[0].y, 2 ) );\n",
       "    var xRange = b[1].x - b[0].x;\n",
       "    var yRange = b[1].y - b[0].y;\n",
       "    var zRange = b[1].z - b[0].z;\n",
       "\n",
       "    var ar = options.aspectRatio;\n",
       "    var a = [ ar[0], ar[1], ar[2] ]; // aspect multipliers\n",
       "    var autoAspect = 2.5;\n",
       "    if ( zRange > autoAspect * rRange && a[2] === 1 ) a[2] = autoAspect * rRange / zRange;\n",
       "\n",
       "    // Distance from (xMid,yMid,zMid) to any corner of the bounding box, after applying aspectRatio\n",
       "    var midToCorner = Math.sqrt( a[0]*a[0]*xRange*xRange + a[1]*a[1]*yRange*yRange + a[2]*a[2]*zRange*zRange ) / 2;\n",
       "\n",
       "    var xMid = ( b[0].x + b[1].x ) / 2;\n",
       "    var yMid = ( b[0].y + b[1].y ) / 2;\n",
       "    var zMid = ( b[0].z + b[1].z ) / 2;\n",
       "\n",
       "    var box = new THREE.Geometry();\n",
       "    box.vertices.push( new THREE.Vector3( a[0]*b[0].x, a[1]*b[0].y, a[2]*b[0].z ) );\n",
       "    box.vertices.push( new THREE.Vector3( a[0]*b[1].x, a[1]*b[1].y, a[2]*b[1].z ) );\n",
       "    var boxMesh = new THREE.Line( box );\n",
       "    if ( options.frame ) scene.add( new THREE.BoxHelper( boxMesh, 'black' ) );\n",
       "\n",
       "    if ( options.axesLabels ) {\n",
       "\n",
       "        var d = options.decimals; // decimals\n",
       "        var offsetRatio = 0.1;\n",
       "        var al = options.axesLabels;\n",
       "\n",
       "        var offset = offsetRatio * a[1]*( b[1].y - b[0].y );\n",
       "        var xm = xMid.toFixed(d);\n",
       "        if ( /^-0.?0*$/.test(xm) ) xm = xm.substr(1);\n",
       "        addLabel( al[0] + '=' + xm, a[0]*xMid, a[1]*b[1].y+offset, a[2]*b[0].z );\n",
       "        addLabel( ( b[0].x ).toFixed(d), a[0]*b[0].x, a[1]*b[1].y+offset, a[2]*b[0].z );\n",
       "        addLabel( ( b[1].x ).toFixed(d), a[0]*b[1].x, a[1]*b[1].y+offset, a[2]*b[0].z );\n",
       "\n",
       "        var offset = offsetRatio * a[0]*( b[1].x - b[0].x );\n",
       "        var ym = yMid.toFixed(d);\n",
       "        if ( /^-0.?0*$/.test(ym) ) ym = ym.substr(1);\n",
       "        addLabel( al[1] + '=' + ym, a[0]*b[1].x+offset, a[1]*yMid, a[2]*b[0].z );\n",
       "        addLabel( ( b[0].y ).toFixed(d), a[0]*b[1].x+offset, a[1]*b[0].y, a[2]*b[0].z );\n",
       "        addLabel( ( b[1].y ).toFixed(d), a[0]*b[1].x+offset, a[1]*b[1].y, a[2]*b[0].z );\n",
       "\n",
       "        var offset = offsetRatio * a[1]*( b[1].y - b[0].y );\n",
       "        var zm = zMid.toFixed(d);\n",
       "        if ( /^-0.?0*$/.test(zm) ) zm = zm.substr(1);\n",
       "        addLabel( al[2] + '=' + zm, a[0]*b[1].x, a[1]*b[0].y-offset, a[2]*zMid );\n",
       "        addLabel( ( b[0].z ).toFixed(d), a[0]*b[1].x, a[1]*b[0].y-offset, a[2]*b[0].z );\n",
       "        addLabel( ( b[1].z ).toFixed(d), a[0]*b[1].x, a[1]*b[0].y-offset, a[2]*b[1].z );\n",
       "\n",
       "    }\n",
       "\n",
       "    function addLabel( text, x, y, z, color='black', fontsize=14  ) {\n",
       "\n",
       "        var canvas = document.createElement( 'canvas' );\n",
       "        var pixelRatio = Math.round( window.devicePixelRatio );\n",
       "        canvas.width = 128 * pixelRatio;\n",
       "        canvas.height = 32 * pixelRatio; // powers of two\n",
       "        canvas.style.width = '128px';\n",
       "        canvas.style.height = '32px';\n",
       "\n",
       "        var context = canvas.getContext( '2d' );\n",
       "        context.scale( pixelRatio, pixelRatio );\n",
       "        context.fillStyle = color;\n",
       "        context.font = fontsize + 'px monospace';\n",
       "        context.textAlign = 'center';\n",
       "        context.textBaseline = 'middle';\n",
       "        context.fillText( text, canvas.width/2/pixelRatio, canvas.height/2/pixelRatio );\n",
       "\n",
       "        var texture = new THREE.Texture( canvas );\n",
       "        texture.needsUpdate = true;\n",
       "\n",
       "        var sprite = new THREE.Sprite( new THREE.SpriteMaterial( { map: texture } ) );\n",
       "        sprite.position.set( x, y, z );\n",
       "\n",
       "        // Set the initial scale based on plot size to accomodate orthographic projection.\n",
       "        // For other projections, the scale will get reset each frame based on camera distance.\n",
       "        var scale = midToCorner/2;\n",
       "        sprite.scale.set( scale, scale*.25, 1 ); // ratio of canvas width to height\n",
       "\n",
       "        scene.add( sprite );\n",
       "\n",
       "    }\n",
       "\n",
       "    if ( options.axes ) scene.add( new THREE.AxesHelper( Math.min( a[0]*b[1].x, a[1]*b[1].y, a[2]*b[1].z ) ) );\n",
       "\n",
       "    var camera = createCamera();\n",
       "    camera.up.set( 0, 0, 1 );\n",
       "    camera.position.set( a[0]*(xMid+xRange), a[1]*(yMid+yRange), a[2]*(zMid+zRange) );\n",
       "\n",
       "    function createCamera() {\n",
       "\n",
       "        var aspect = window.innerWidth / window.innerHeight;\n",
       "\n",
       "        if ( options.projection === 'orthographic' ) {\n",
       "            var camera = new THREE.OrthographicCamera( -1, 1, 1, -1, -1000, 1000 );\n",
       "            updateCameraAspect( camera, aspect );\n",
       "            return camera;\n",
       "        }\n",
       "\n",
       "        return new THREE.PerspectiveCamera( 45, aspect, 0.1, 1000 );\n",
       "\n",
       "    }\n",
       "\n",
       "    function updateCameraAspect( camera, aspect ) {\n",
       "\n",
       "        if ( camera.isPerspectiveCamera ) {\n",
       "            camera.aspect = aspect;\n",
       "        } else if ( camera.isOrthographicCamera ) {\n",
       "            // Fit the camera frustum to the bounding box's diagonal so that the entire plot fits\n",
       "            // within at the default zoom level and camera position.\n",
       "            if ( aspect > 1 ) { // Wide window\n",
       "                camera.top = midToCorner;\n",
       "                camera.right = midToCorner * aspect;\n",
       "            } else { // Tall or square window\n",
       "                camera.top = midToCorner / aspect;\n",
       "                camera.right = midToCorner;\n",
       "            }\n",
       "            camera.bottom = -camera.top;\n",
       "            camera.left = -camera.right;\n",
       "        }\n",
       "\n",
       "        camera.updateProjectionMatrix();\n",
       "\n",
       "    }\n",
       "\n",
       "    var lights = [{&quot;x&quot;:-5, &quot;y&quot;:3, &quot;z&quot;:0, &quot;color&quot;:&quot;#7f7f7f&quot;, &quot;parent&quot;:&quot;camera&quot;}];\n",
       "    for ( var i=0 ; i < lights.length ; i++ ) {\n",
       "        var light = new THREE.DirectionalLight( lights[i].color, 1 );\n",
       "        light.position.set( a[0]*lights[i].x, a[1]*lights[i].y, a[2]*lights[i].z );\n",
       "        if ( lights[i].parent === 'camera' ) {\n",
       "            light.target.position.set( a[0]*xMid, a[1]*yMid, a[2]*zMid );\n",
       "            scene.add( light.target );\n",
       "            camera.add( light );\n",
       "        } else scene.add( light );\n",
       "    }\n",
       "    scene.add( camera );\n",
       "\n",
       "    var ambient = {&quot;color&quot;:&quot;#7f7f7f&quot;};\n",
       "    scene.add( new THREE.AmbientLight( ambient.color, 1 ) );\n",
       "\n",
       "    var controls = new THREE.OrbitControls( camera, renderer.domElement );\n",
       "    controls.target.set( a[0]*xMid, a[1]*yMid, a[2]*zMid );\n",
       "    controls.addEventListener( 'change', function() { if ( !animate ) render(); } );\n",
       "\n",
       "    window.addEventListener( 'resize', function() {\n",
       "        \n",
       "        renderer.setSize( window.innerWidth, window.innerHeight );\n",
       "        updateCameraAspect( camera, window.innerWidth / window.innerHeight );\n",
       "        if ( !animate ) render();\n",
       "        \n",
       "    } );\n",
       "\n",
       "    var texts = [];\n",
       "    for ( var i=0 ; i < texts.length ; i++ )\n",
       "        addLabel( texts[i].text, a[0]*texts[i].x, a[1]*texts[i].y, a[2]*texts[i].z, texts[i].color );\n",
       "\n",
       "    var points = [];\n",
       "    for ( var i=0 ; i < points.length ; i++ ) addPoint( points[i] );\n",
       "\n",
       "    function addPoint( json ) {\n",
       "\n",
       "        var geometry = new THREE.Geometry();\n",
       "        var v = json.point;\n",
       "        geometry.vertices.push( new THREE.Vector3( a[0]*v[0], a[1]*v[1], a[2]*v[2] ) );\n",
       "\n",
       "        var canvas = document.createElement( 'canvas' );\n",
       "        canvas.width = 128;\n",
       "        canvas.height = 128;\n",
       "\n",
       "        var context = canvas.getContext( '2d' );\n",
       "        context.arc( 64, 64, 64, 0, 2 * Math.PI );\n",
       "        context.fillStyle = json.color;\n",
       "        context.fill();\n",
       "\n",
       "        var texture = new THREE.Texture( canvas );\n",
       "        texture.needsUpdate = true;\n",
       "\n",
       "        var transparent = json.opacity < 1 ? true : false;\n",
       "        var size = camera.isOrthographicCamera ? json.size : json.size/100;\n",
       "        var material = new THREE.PointsMaterial( { size: size, map: texture,\n",
       "                                                   transparent: transparent, opacity: json.opacity,\n",
       "                                                   alphaTest: .1 } );\n",
       "\n",
       "        var c = new THREE.Vector3();\n",
       "        geometry.computeBoundingBox();\n",
       "        geometry.boundingBox.getCenter( c );\n",
       "        geometry.translate( -c.x, -c.y, -c.z );\n",
       "\n",
       "        var mesh = new THREE.Points( geometry, material );\n",
       "        mesh.position.set( c.x, c.y, c.z );\n",
       "        scene.add( mesh );\n",
       "\n",
       "    }\n",
       "\n",
       "    var lines = [];\n",
       "    for ( var i=0 ; i < lines.length ; i++ ) addLine( lines[i] );\n",
       "\n",
       "    function addLine( json ) {\n",
       "\n",
       "        var geometry = new THREE.Geometry();\n",
       "        for ( var i=0 ; i < json.points.length ; i++ ) {\n",
       "            var v = json.points[i];\n",
       "            geometry.vertices.push( new THREE.Vector3( a[0]*v[0], a[1]*v[1], a[2]*v[2] ) );\n",
       "        }\n",
       "\n",
       "        var transparent = json.opacity < 1 ? true : false;\n",
       "        var material = new THREE.LineBasicMaterial( { color: json.color, linewidth: json.linewidth,\n",
       "                                                      transparent: transparent, opacity: json.opacity } );\n",
       "\n",
       "        var c = new THREE.Vector3();\n",
       "        geometry.computeBoundingBox();\n",
       "        geometry.boundingBox.getCenter( c );\n",
       "        geometry.translate( -c.x, -c.y, -c.z );\n",
       "\n",
       "        var mesh = new THREE.Line( geometry, material );\n",
       "        mesh.position.set( c.x, c.y, c.z );\n",
       "        scene.add( mesh );\n",
       "\n",
       "    }\n",
       "\n",
       "    var surfaces = [{&quot;vertices&quot;: [{&quot;x&quot;: -3.0, &quot;y&quot;: -3.0, &quot;z&quot;: -57.0}, {&quot;x&quot;: -3.0, &quot;y&quot;: -2.8461538461538463, &quot;z&quot;: -57.899408284023664}, {&quot;x&quot;: -2.8461538461538463, &quot;y&quot;: -2.8461538461538463, &quot;z&quot;: -45.21721928503905}, {&quot;x&quot;: -2.8461538461538463, &quot;y&quot;: -3.0, &quot;z&quot;: -44.317811001015386}, {&quot;x&quot;: -3.0, &quot;y&quot;: -2.6923076923076925, &quot;z&quot;: -58.751479289940825}, {&quot;x&quot;: -2.8461538461538463, &quot;y&quot;: -2.6923076923076925, &quot;z&quot;: -46.06929029095621}, {&quot;x&quot;: -3.0, &quot;y&quot;: -2.5384615384615388, &quot;z&quot;: -59.556213017751475}, {&quot;x&quot;: -2.8461538461538463, &quot;y&quot;: -2.5384615384615388, &quot;z&quot;: -46.87402401876686}, {&quot;x&quot;: -3.0, &quot;y&quot;: -2.384615384615385, &quot;z&quot;: -60.31360946745562}, {&quot;x&quot;: -2.8461538461538463, &quot;y&quot;: -2.384615384615385, &quot;z&quot;: -47.631420468471006}, {&quot;x&quot;: -3.0, &quot;y&quot;: -2.2307692307692313, &quot;z&quot;: -61.023668639053255}, {&quot;x&quot;: -2.8461538461538463, &quot;y&quot;: -2.2307692307692313, &quot;z&quot;: -48.34147964006864}, {&quot;x&quot;: -3.0, &quot;y&quot;: -2.0769230769230775, &quot;z&quot;: -61.68639053254438}, {&quot;x&quot;: -2.8461538461538463, &quot;y&quot;: -2.0769230769230775, &quot;z&quot;: -49.004201533559765}, {&quot;x&quot;: -3.0, &quot;y&quot;: -1.9230769230769238, &quot;z&quot;: -62.30177514792899}, {&quot;x&quot;: -2.8461538461538463, &quot;y&quot;: -1.9230769230769238, &quot;z&quot;: -49.61958614894438}, {&quot;x&quot;: -3.0, &quot;y&quot;: -1.76923076923077, &quot;z&quot;: -62.869822485207095}, {&quot;x&quot;: -2.8461538461538463, &quot;y&quot;: -1.76923076923077, &quot;z&quot;: -50.18763348622248}, {&quot;x&quot;: -3.0, &quot;y&quot;: -1.6153846153846163, &quot;z&quot;: -63.390532544378694}, {&quot;x&quot;: -2.8461538461538463, &quot;y&quot;: -1.6153846153846163, &quot;z&quot;: -50.70834354539408}, {&quot;x&quot;: -3.0, &quot;y&quot;: -1.4615384615384626, &quot;z&quot;: -63.86390532544378}, {&quot;x&quot;: -2.8461538461538463, &quot;y&quot;: -1.4615384615384626, &quot;z&quot;: -51.18171632645917}, {&quot;x&quot;: -3.0, &quot;y&quot;: -1.3076923076923088, &quot;z&quot;: -64.28994082840237}, {&quot;x&quot;: -2.8461538461538463, &quot;y&quot;: -1.3076923076923088, &quot;z&quot;: -51.60775182941775}, {&quot;x&quot;: -3.0, &quot;y&quot;: -1.153846153846155, &quot;z&quot;: -64.66863905325444}, {&quot;x&quot;: -2.8461538461538463, &quot;y&quot;: -1.153846153846155, &quot;z&quot;: -51.986450054269824}, {&quot;x&quot;: -3.0, &quot;y&quot;: -1.0000000000000013, &quot;z&quot;: -65.0}, {&quot;x&quot;: -2.8461538461538463, &quot;y&quot;: -1.0000000000000013, &quot;z&quot;: -52.317811001015386}, {&quot;x&quot;: -3.0, &quot;y&quot;: -0.8461538461538475, &quot;z&quot;: -65.28402366863905}, {&quot;x&quot;: -2.8461538461538463, &quot;y&quot;: -0.8461538461538475, &quot;z&quot;: -52.60183466965444}, {&quot;x&quot;: -3.0, &quot;y&quot;: -0.6923076923076936, &quot;z&quot;: -65.52071005917159}, {&quot;x&quot;: -2.8461538461538463, &quot;y&quot;: -0.6923076923076936, &quot;z&quot;: -52.838521060186984}, {&quot;x&quot;: -3.0, &quot;y&quot;: -0.5384615384615398, &quot;z&quot;: -65.71005917159763}, {&quot;x&quot;: -2.8461538461538463, &quot;y&quot;: -0.5384615384615398, &quot;z&quot;: -53.02787017261302}, {&quot;x&quot;: -3.0, &quot;y&quot;: -0.3846153846153859, &quot;z&quot;: -65.85207100591717}, {&quot;x&quot;: -2.8461538461538463, &quot;y&quot;: -0.3846153846153859, &quot;z&quot;: -53.169882006932546}, {&quot;x&quot;: -3.0, &quot;y&quot;: -0.23076923076923206, &quot;z&quot;: -65.94674556213018}, {&quot;x&quot;: -2.8461538461538463, &quot;y&quot;: -0.23076923076923206, &quot;z&quot;: -53.26455656314556}, {&quot;x&quot;: -3.0, &quot;y&quot;: -0.0769230769230782, &quot;z&quot;: -65.99408284023669}, {&quot;x&quot;: -2.8461538461538463, &quot;y&quot;: -0.0769230769230782, &quot;z&quot;: -53.31189384125207}, {&quot;x&quot;: -3.0, &quot;y&quot;: 0.07692307692307565, &quot;z&quot;: -65.99408284023669}, {&quot;x&quot;: -2.8461538461538463, &quot;y&quot;: 0.07692307692307565, &quot;z&quot;: -53.31189384125207}, {&quot;x&quot;: -3.0, &quot;y&quot;: 0.2307692307692295, &quot;z&quot;: -65.94674556213018}, {&quot;x&quot;: -2.8461538461538463, &quot;y&quot;: 0.2307692307692295, &quot;z&quot;: -53.26455656314556}, {&quot;x&quot;: -3.0, &quot;y&quot;: 0.38461538461538336, &quot;z&quot;: -65.85207100591717}, {&quot;x&quot;: -2.8461538461538463, &quot;y&quot;: 0.38461538461538336, &quot;z&quot;: -53.169882006932546}, {&quot;x&quot;: -3.0, &quot;y&quot;: 0.5384615384615372, &quot;z&quot;: -65.71005917159763}, {&quot;x&quot;: -2.8461538461538463, &quot;y&quot;: 0.5384615384615372, &quot;z&quot;: -53.02787017261302}, {&quot;x&quot;: -3.0, &quot;y&quot;: 0.6923076923076911, &quot;z&quot;: -65.52071005917159}, {&quot;x&quot;: -2.8461538461538463, &quot;y&quot;: 0.6923076923076911, &quot;z&quot;: -52.838521060186984}, {&quot;x&quot;: -3.0, &quot;y&quot;: 0.8461538461538449, &quot;z&quot;: -65.28402366863907}, {&quot;x&quot;: -2.8461538461538463, &quot;y&quot;: 0.8461538461538449, &quot;z&quot;: -52.601834669654444}, {&quot;x&quot;: -3.0, &quot;y&quot;: 0.9999999999999988, &quot;z&quot;: -65.0}, {&quot;x&quot;: -2.8461538461538463, &quot;y&quot;: 0.9999999999999988, &quot;z&quot;: -52.317811001015386}, {&quot;x&quot;: -3.0, &quot;y&quot;: 1.1538461538461526, &quot;z&quot;: -64.66863905325444}, {&quot;x&quot;: -2.8461538461538463, &quot;y&quot;: 1.1538461538461526, &quot;z&quot;: -51.986450054269824}, {&quot;x&quot;: -3.0, &quot;y&quot;: 1.3076923076923066, &quot;z&quot;: -64.28994082840237}, {&quot;x&quot;: -2.8461538461538463, &quot;y&quot;: 1.3076923076923066, &quot;z&quot;: -51.60775182941776}, {&quot;x&quot;: -3.0, &quot;y&quot;: 1.4615384615384603, &quot;z&quot;: -63.86390532544379}, {&quot;x&quot;: -2.8461538461538463, &quot;y&quot;: 1.4615384615384603, &quot;z&quot;: -51.181716326459174}, {&quot;x&quot;: -3.0, &quot;y&quot;: 1.615384615384614, &quot;z&quot;: -63.3905325443787}, {&quot;x&quot;: -2.8461538461538463, &quot;y&quot;: 1.615384615384614, &quot;z&quot;: -50.70834354539409}, {&quot;x&quot;: -3.0, &quot;y&quot;: 1.7692307692307678, &quot;z&quot;: -62.86982248520711}, {&quot;x&quot;: -2.8461538461538463, &quot;y&quot;: 1.7692307692307678, &quot;z&quot;: -50.187633486222495}, {&quot;x&quot;: -3.0, &quot;y&quot;: 1.9230769230769216, &quot;z&quot;: -62.301775147929}, {&quot;x&quot;: -2.8461538461538463, &quot;y&quot;: 1.9230769230769216, &quot;z&quot;: -49.619586148944386}, {&quot;x&quot;: -3.0, &quot;y&quot;: 2.0769230769230753, &quot;z&quot;: -61.68639053254439}, {&quot;x&quot;: -2.8461538461538463, &quot;y&quot;: 2.0769230769230753, &quot;z&quot;: -49.00420153355977}, {&quot;x&quot;: -3.0, &quot;y&quot;: 2.230769230769229, &quot;z&quot;: -61.02366863905326}, {&quot;x&quot;: -2.8461538461538463, &quot;y&quot;: 2.230769230769229, &quot;z&quot;: -48.34147964006865}, {&quot;x&quot;: -3.0, &quot;y&quot;: 2.384615384615383, &quot;z&quot;: -60.31360946745563}, {&quot;x&quot;: -2.8461538461538463, &quot;y&quot;: 2.384615384615383, &quot;z&quot;: -47.63142046847101}, {&quot;x&quot;: -3.0, &quot;y&quot;: 2.5384615384615365, &quot;z&quot;: -59.55621301775149}, {&quot;x&quot;: -2.8461538461538463, &quot;y&quot;: 2.5384615384615365, &quot;z&quot;: -46.874024018766875}, {&quot;x&quot;: -3.0, &quot;y&quot;: 2.6923076923076903, &quot;z&quot;: -58.75147928994084}, {&quot;x&quot;: -2.8461538461538463, &quot;y&quot;: 2.6923076923076903, &quot;z&quot;: -46.069290290956225}, {&quot;x&quot;: -3.0, &quot;y&quot;: 2.846153846153844, &quot;z&quot;: -57.89940828402368}, {&quot;x&quot;: -2.8461538461538463, &quot;y&quot;: 2.846153846153844, &quot;z&quot;: -45.217219285039064}, {&quot;x&quot;: -3.0, &quot;y&quot;: 3.0, &quot;z&quot;: -57.0}, {&quot;x&quot;: -2.8461538461538463, &quot;y&quot;: 3.0, &quot;z&quot;: -44.317811001015386}, {&quot;x&quot;: -2.6923076923076925, &quot;y&quot;: -2.8461538461538463, &quot;z&quot;: -34.69489863800288}, {&quot;x&quot;: -2.6923076923076925, &quot;y&quot;: -3.0, &quot;z&quot;: -33.79549035397921}, {&quot;x&quot;: -2.6923076923076925, &quot;y&quot;: -2.6923076923076925, &quot;z&quot;: -35.546969643920036}, {&quot;x&quot;: -2.6923076923076925, &quot;y&quot;: -2.5384615384615388, &quot;z&quot;: -36.35170337173069}, {&quot;x&quot;: -2.6923076923076925, &quot;y&quot;: -2.384615384615385, &quot;z&quot;: -37.10909982143483}, {&quot;x&quot;: -2.6923076923076925, &quot;y&quot;: -2.2307692307692313, &quot;z&quot;: -37.81915899303246}, {&quot;x&quot;: -2.6923076923076925, &quot;y&quot;: -2.0769230769230775, &quot;z&quot;: -38.481880886523584}, {&quot;x&quot;: -2.6923076923076925, &quot;y&quot;: -1.9230769230769238, &quot;z&quot;: -39.097265501908204}, {&quot;x&quot;: -2.6923076923076925, &quot;y&quot;: -1.76923076923077, &quot;z&quot;: -39.66531283918631}, {&quot;x&quot;: -2.6923076923076925, &quot;y&quot;: -1.6153846153846163, &quot;z&quot;: -40.186022898357905}, {&quot;x&quot;: -2.6923076923076925, &quot;y&quot;: -1.4615384615384626, &quot;z&quot;: -40.659395679423}, {&quot;x&quot;: -2.6923076923076925, &quot;y&quot;: -1.3076923076923088, &quot;z&quot;: -41.085431182381576}, {&quot;x&quot;: -2.6923076923076925, &quot;y&quot;: -1.153846153846155, &quot;z&quot;: -41.46412940723364}, {&quot;x&quot;: -2.6923076923076925, &quot;y&quot;: -1.0000000000000013, &quot;z&quot;: -41.795490353979204}, {&quot;x&quot;: -2.6923076923076925, &quot;y&quot;: -0.8461538461538475, &quot;z&quot;: -42.07951402261826}, {&quot;x&quot;: -2.6923076923076925, &quot;y&quot;: -0.6923076923076936, &quot;z&quot;: -42.31620041315081}, {&quot;x&quot;: -2.6923076923076925, &quot;y&quot;: -0.5384615384615398, &quot;z&quot;: -42.50554952557684}, {&quot;x&quot;: -2.6923076923076925, &quot;y&quot;: -0.3846153846153859, &quot;z&quot;: -42.64756135989637}, {&quot;x&quot;: -2.6923076923076925, &quot;y&quot;: -0.23076923076923206, &quot;z&quot;: -42.74223591610939}, {&quot;x&quot;: -2.6923076923076925, &quot;y&quot;: -0.0769230769230782, &quot;z&quot;: -42.7895731942159}, {&quot;x&quot;: -2.6923076923076925, &quot;y&quot;: 0.07692307692307565, &quot;z&quot;: -42.7895731942159}, {&quot;x&quot;: -2.6923076923076925, &quot;y&quot;: 0.2307692307692295, &quot;z&quot;: -42.742235916109394}, {&quot;x&quot;: -2.6923076923076925, &quot;y&quot;: 0.38461538461538336, &quot;z&quot;: -42.64756135989637}, {&quot;x&quot;: -2.6923076923076925, &quot;y&quot;: 0.5384615384615372, &quot;z&quot;: -42.505549525576846}, {&quot;x&quot;: -2.6923076923076925, &quot;y&quot;: 0.6923076923076911, &quot;z&quot;: -42.31620041315081}, {&quot;x&quot;: -2.6923076923076925, &quot;y&quot;: 0.8461538461538449, &quot;z&quot;: -42.07951402261827}, {&quot;x&quot;: -2.6923076923076925, &quot;y&quot;: 0.9999999999999988, &quot;z&quot;: -41.79549035397922}, {&quot;x&quot;: -2.6923076923076925, &quot;y&quot;: 1.1538461538461526, &quot;z&quot;: -41.464129407233656}, {&quot;x&quot;: -2.6923076923076925, &quot;y&quot;: 1.3076923076923066, &quot;z&quot;: -41.08543118238158}, {&quot;x&quot;: -2.6923076923076925, &quot;y&quot;: 1.4615384615384603, &quot;z&quot;: -40.659395679423}, {&quot;x&quot;: -2.6923076923076925, &quot;y&quot;: 1.615384615384614, &quot;z&quot;: -40.18602289835791}, {&quot;x&quot;: -2.6923076923076925, &quot;y&quot;: 1.7692307692307678, &quot;z&quot;: -39.66531283918631}, {&quot;x&quot;: -2.6923076923076925, &quot;y&quot;: 1.9230769230769216, &quot;z&quot;: -39.09726550190821}, {&quot;x&quot;: -2.6923076923076925, &quot;y&quot;: 2.0769230769230753, &quot;z&quot;: -38.4818808865236}, {&quot;x&quot;: -2.6923076923076925, &quot;y&quot;: 2.230769230769229, &quot;z&quot;: -37.819158993032474}, {&quot;x&quot;: -2.6923076923076925, &quot;y&quot;: 2.384615384615383, &quot;z&quot;: -37.10909982143484}, {&quot;x&quot;: -2.6923076923076925, &quot;y&quot;: 2.5384615384615365, &quot;z&quot;: -36.3517033717307}, {&quot;x&quot;: -2.6923076923076925, &quot;y&quot;: 2.6923076923076903, &quot;z&quot;: -35.54696964392005}, {&quot;x&quot;: -2.6923076923076925, &quot;y&quot;: 2.846153846153844, &quot;z&quot;: -34.69489863800289}, {&quot;x&quot;: -2.6923076923076925, &quot;y&quot;: 3.0, &quot;z&quot;: -33.79549035397921}, {&quot;x&quot;: -2.5384615384615388, &quot;y&quot;: -2.8461538461538463, &quot;z&quot;: -26.090438009873615}, {&quot;x&quot;: -2.5384615384615388, &quot;y&quot;: -3.0, &quot;z&quot;: -25.191029725849948}, {&quot;x&quot;: -2.5384615384615388, &quot;y&quot;: -2.6923076923076925, &quot;z&quot;: -26.942509015790776}, {&quot;x&quot;: -2.5384615384615388, &quot;y&quot;: -2.5384615384615388, &quot;z&quot;: -27.747242743601426}, {&quot;x&quot;: -2.5384615384615388, &quot;y&quot;: -2.384615384615385, &quot;z&quot;: -28.504639193305568}, {&quot;x&quot;: -2.5384615384615388, &quot;y&quot;: -2.2307692307692313, &quot;z&quot;: -29.2146983649032}, {&quot;x&quot;: -2.5384615384615388, &quot;y&quot;: -2.0769230769230775, &quot;z&quot;: -29.877420258394324}, {&quot;x&quot;: -2.5384615384615388, &quot;y&quot;: -1.9230769230769238, &quot;z&quot;: -30.49280487377894}, {&quot;x&quot;: -2.5384615384615388, &quot;y&quot;: -1.76923076923077, &quot;z&quot;: -31.060852211057046}, {&quot;x&quot;: -2.5384615384615388, &quot;y&quot;: -1.6153846153846163, &quot;z&quot;: -31.581562270228645}, {&quot;x&quot;: -2.5384615384615388, &quot;y&quot;: -1.4615384615384626, &quot;z&quot;: -32.05493505129373}, {&quot;x&quot;: -2.5384615384615388, &quot;y&quot;: -1.3076923076923088, &quot;z&quot;: -32.48097055425231}, {&quot;x&quot;: -2.5384615384615388, &quot;y&quot;: -1.153846153846155, &quot;z&quot;: -32.85966877910438}, {&quot;x&quot;: -2.5384615384615388, &quot;y&quot;: -1.0000000000000013, &quot;z&quot;: -33.191029725849944}, {&quot;x&quot;: -2.5384615384615388, &quot;y&quot;: -0.8461538461538475, &quot;z&quot;: -33.475053394488995}, {&quot;x&quot;: -2.5384615384615388, &quot;y&quot;: -0.6923076923076936, &quot;z&quot;: -33.71173978502154}, {&quot;x&quot;: -2.5384615384615388, &quot;y&quot;: -0.5384615384615398, &quot;z&quot;: -33.90108889744758}, {&quot;x&quot;: -2.5384615384615388, &quot;y&quot;: -0.3846153846153859, &quot;z&quot;: -34.043100731767105}, {&quot;x&quot;: -2.5384615384615388, &quot;y&quot;: -0.23076923076923206, &quot;z&quot;: -34.13777528798012}, {&quot;x&quot;: -2.5384615384615388, &quot;y&quot;: -0.0769230769230782, &quot;z&quot;: -34.18511256608663}, {&quot;x&quot;: -2.5384615384615388, &quot;y&quot;: 0.07692307692307565, &quot;z&quot;: -34.18511256608663}, {&quot;x&quot;: -2.5384615384615388, &quot;y&quot;: 0.2307692307692295, &quot;z&quot;: -34.137775287980126}, {&quot;x&quot;: -2.5384615384615388, &quot;y&quot;: 0.38461538461538336, &quot;z&quot;: -34.04310073176711}, {&quot;x&quot;: -2.5384615384615388, &quot;y&quot;: 0.5384615384615372, &quot;z&quot;: -33.90108889744758}, {&quot;x&quot;: -2.5384615384615388, &quot;y&quot;: 0.6923076923076911, &quot;z&quot;: -33.71173978502155}, {&quot;x&quot;: -2.5384615384615388, &quot;y&quot;: 0.8461538461538449, &quot;z&quot;: -33.475053394489}, {&quot;x&quot;: -2.5384615384615388, &quot;y&quot;: 0.9999999999999988, &quot;z&quot;: -33.19102972584995}, {&quot;x&quot;: -2.5384615384615388, &quot;y&quot;: 1.1538461538461526, &quot;z&quot;: -32.85966877910439}, {&quot;x&quot;: -2.5384615384615388, &quot;y&quot;: 1.3076923076923066, &quot;z&quot;: -32.480970554252316}, {&quot;x&quot;: -2.5384615384615388, &quot;y&quot;: 1.4615384615384603, &quot;z&quot;: -32.05493505129374}, {&quot;x&quot;: -2.5384615384615388, &quot;y&quot;: 1.615384615384614, &quot;z&quot;: -31.581562270228652}, {&quot;x&quot;: -2.5384615384615388, &quot;y&quot;: 1.7692307692307678, &quot;z&quot;: -31.060852211057053}, {&quot;x&quot;: -2.5384615384615388, &quot;y&quot;: 1.9230769230769216, &quot;z&quot;: -30.492804873778947}, {&quot;x&quot;: -2.5384615384615388, &quot;y&quot;: 2.0769230769230753, &quot;z&quot;: -29.877420258394334}, {&quot;x&quot;: -2.5384615384615388, &quot;y&quot;: 2.230769230769229, &quot;z&quot;: -29.21469836490321}, {&quot;x&quot;: -2.5384615384615388, &quot;y&quot;: 2.384615384615383, &quot;z&quot;: -28.50463919330558}, {&quot;x&quot;: -2.5384615384615388, &quot;y&quot;: 2.5384615384615365, &quot;z&quot;: -27.747242743601436}, {&quot;x&quot;: -2.5384615384615388, &quot;y&quot;: 2.6923076923076903, &quot;z&quot;: -26.942509015790787}, {&quot;x&quot;: -2.5384615384615388, &quot;y&quot;: 2.846153846153844, &quot;z&quot;: -26.09043800987363}, {&quot;x&quot;: -2.5384615384615388, &quot;y&quot;: 3.0, &quot;z&quot;: -25.191029725849948}, {&quot;x&quot;: -2.384615384615385, &quot;y&quot;: -2.8461538461538463, &quot;z&quot;: -19.17527397500089}, {&quot;x&quot;: -2.384615384615385, &quot;y&quot;: -3.0, &quot;z&quot;: -18.275865690977223}, {&quot;x&quot;: -2.384615384615385, &quot;y&quot;: -2.6923076923076925, &quot;z&quot;: -20.027344980918052}, {&quot;x&quot;: -2.384615384615385, &quot;y&quot;: -2.5384615384615388, &quot;z&quot;: -20.8320787087287}, {&quot;x&quot;: -2.384615384615385, &quot;y&quot;: -2.384615384615385, &quot;z&quot;: -21.589475158432844}, {&quot;x&quot;: -2.384615384615385, &quot;y&quot;: -2.2307692307692313, &quot;z&quot;: -22.299534330030475}, {&quot;x&quot;: -2.384615384615385, &quot;y&quot;: -2.0769230769230775, &quot;z&quot;: -22.9622562235216}, {&quot;x&quot;: -2.384615384615385, &quot;y&quot;: -1.9230769230769238, &quot;z&quot;: -23.577640838906213}, {&quot;x&quot;: -2.384615384615385, &quot;y&quot;: -1.76923076923077, &quot;z&quot;: -24.145688176184322}, {&quot;x&quot;: -2.384615384615385, &quot;y&quot;: -1.6153846153846163, &quot;z&quot;: -24.66639823535592}, {&quot;x&quot;: -2.384615384615385, &quot;y&quot;: -1.4615384615384626, &quot;z&quot;: -25.139771016421008}, {&quot;x&quot;: -2.384615384615385, &quot;y&quot;: -1.3076923076923088, &quot;z&quot;: -25.565806519379585}, {&quot;x&quot;: -2.384615384615385, &quot;y&quot;: -1.153846153846155, &quot;z&quot;: -25.944504744231658}, {&quot;x&quot;: -2.384615384615385, &quot;y&quot;: -1.0000000000000013, &quot;z&quot;: -26.27586569097722}, {&quot;x&quot;: -2.384615384615385, &quot;y&quot;: -0.8461538461538475, &quot;z&quot;: -26.559889359616275}, {&quot;x&quot;: -2.384615384615385, &quot;y&quot;: -0.6923076923076936, &quot;z&quot;: -26.79657575014882}, {&quot;x&quot;: -2.384615384615385, &quot;y&quot;: -0.5384615384615398, &quot;z&quot;: -26.985924862574855}, {&quot;x&quot;: -2.384615384615385, &quot;y&quot;: -0.3846153846153859, &quot;z&quot;: -27.12793669689438}, {&quot;x&quot;: -2.384615384615385, &quot;y&quot;: -0.23076923076923206, &quot;z&quot;: -27.222611253107402}, {&quot;x&quot;: -2.384615384615385, &quot;y&quot;: -0.0769230769230782, &quot;z&quot;: -27.26994853121391}, {&quot;x&quot;: -2.384615384615385, &quot;y&quot;: 0.07692307692307565, &quot;z&quot;: -27.26994853121391}, {&quot;x&quot;: -2.384615384615385, &quot;y&quot;: 0.2307692307692295, &quot;z&quot;: -27.222611253107402}, {&quot;x&quot;: -2.384615384615385, &quot;y&quot;: 0.38461538461538336, &quot;z&quot;: -27.127936696894384}, {&quot;x&quot;: -2.384615384615385, &quot;y&quot;: 0.5384615384615372, &quot;z&quot;: -26.98592486257486}, {&quot;x&quot;: -2.384615384615385, &quot;y&quot;: 0.6923076923076911, &quot;z&quot;: -26.796575750148822}, {&quot;x&quot;: -2.384615384615385, &quot;y&quot;: 0.8461538461538449, &quot;z&quot;: -26.559889359616278}, {&quot;x&quot;: -2.384615384615385, &quot;y&quot;: 0.9999999999999988, &quot;z&quot;: -26.275865690977227}, {&quot;x&quot;: -2.384615384615385, &quot;y&quot;: 1.1538461538461526, &quot;z&quot;: -25.944504744231665}, {&quot;x&quot;: -2.384615384615385, &quot;y&quot;: 1.3076923076923066, &quot;z&quot;: -25.565806519379592}, {&quot;x&quot;: -2.384615384615385, &quot;y&quot;: 1.4615384615384603, &quot;z&quot;: -25.139771016421015}, {&quot;x&quot;: -2.384615384615385, &quot;y&quot;: 1.615384615384614, &quot;z&quot;: -24.666398235355928}, {&quot;x&quot;: -2.384615384615385, &quot;y&quot;: 1.7692307692307678, &quot;z&quot;: -24.14568817618433}, {&quot;x&quot;: -2.384615384615385, &quot;y&quot;: 1.9230769230769216, &quot;z&quot;: -23.577640838906223}, {&quot;x&quot;: -2.384615384615385, &quot;y&quot;: 2.0769230769230753, &quot;z&quot;: -22.96225622352161}, {&quot;x&quot;: -2.384615384615385, &quot;y&quot;: 2.230769230769229, &quot;z&quot;: -22.299534330030486}, {&quot;x&quot;: -2.384615384615385, &quot;y&quot;: 2.384615384615383, &quot;z&quot;: -21.589475158432855}, {&quot;x&quot;: -2.384615384615385, &quot;y&quot;: 2.5384615384615365, &quot;z&quot;: -20.832078708728712}, {&quot;x&quot;: -2.384615384615385, &quot;y&quot;: 2.6923076923076903, &quot;z&quot;: -20.027344980918063}, {&quot;x&quot;: -2.384615384615385, &quot;y&quot;: 2.846153846153844, &quot;z&quot;: -19.175273975000906}, {&quot;x&quot;: -2.384615384615385, &quot;y&quot;: 3.0, &quot;z&quot;: -18.275865690977223}, {&quot;x&quot;: -2.2307692307692313, &quot;y&quot;: -2.8461538461538463, &quot;z&quot;: -13.73428801512554}, {&quot;x&quot;: -2.2307692307692313, &quot;y&quot;: -3.0, &quot;z&quot;: -12.834879731101871}, {&quot;x&quot;: -2.2307692307692313, &quot;y&quot;: -2.6923076923076925, &quot;z&quot;: -14.5863590210427}, {&quot;x&quot;: -2.2307692307692313, &quot;y&quot;: -2.5384615384615388, &quot;z&quot;: -15.39109274885335}, {&quot;x&quot;: -2.2307692307692313, &quot;y&quot;: -2.384615384615385, &quot;z&quot;: -16.148489198557492}, {&quot;x&quot;: -2.2307692307692313, &quot;y&quot;: -2.2307692307692313, &quot;z&quot;: -16.858548370155123}, {&quot;x&quot;: -2.2307692307692313, &quot;y&quot;: -2.0769230769230775, &quot;z&quot;: -17.521270263646247}, {&quot;x&quot;: -2.2307692307692313, &quot;y&quot;: -1.9230769230769238, &quot;z&quot;: -18.136654879030864}, {&quot;x&quot;: -2.2307692307692313, &quot;y&quot;: -1.76923076923077, &quot;z&quot;: -18.70470221630897}, {&quot;x&quot;: -2.2307692307692313, &quot;y&quot;: -1.6153846153846163, &quot;z&quot;: -19.225412275480565}, {&quot;x&quot;: -2.2307692307692313, &quot;y&quot;: -1.4615384615384626, &quot;z&quot;: -19.698785056545656}, {&quot;x&quot;: -2.2307692307692313, &quot;y&quot;: -1.3076923076923088, &quot;z&quot;: -20.124820559504236}, {&quot;x&quot;: -2.2307692307692313, &quot;y&quot;: -1.153846153846155, &quot;z&quot;: -20.503518784356306}, {&quot;x&quot;: -2.2307692307692313, &quot;y&quot;: -1.0000000000000013, &quot;z&quot;: -20.834879731101868}, {&quot;x&quot;: -2.2307692307692313, &quot;y&quot;: -0.8461538461538475, &quot;z&quot;: -21.118903399740923}, {&quot;x&quot;: -2.2307692307692313, &quot;y&quot;: -0.6923076923076936, &quot;z&quot;: -21.355589790273466}, {&quot;x&quot;: -2.2307692307692313, &quot;y&quot;: -0.5384615384615398, &quot;z&quot;: -21.544938902699503}, {&quot;x&quot;: -2.2307692307692313, &quot;y&quot;: -0.3846153846153859, &quot;z&quot;: -21.686950737019032}, {&quot;x&quot;: -2.2307692307692313, &quot;y&quot;: -0.23076923076923206, &quot;z&quot;: -21.781625293232047}, {&quot;x&quot;: -2.2307692307692313, &quot;y&quot;: -0.0769230769230782, &quot;z&quot;: -21.828962571338558}, {&quot;x&quot;: -2.2307692307692313, &quot;y&quot;: 0.07692307692307565, &quot;z&quot;: -21.828962571338558}, {&quot;x&quot;: -2.2307692307692313, &quot;y&quot;: 0.2307692307692295, &quot;z&quot;: -21.78162529323205}, {&quot;x&quot;: -2.2307692307692313, &quot;y&quot;: 0.38461538461538336, &quot;z&quot;: -21.686950737019032}, {&quot;x&quot;: -2.2307692307692313, &quot;y&quot;: 0.5384615384615372, &quot;z&quot;: -21.544938902699506}, {&quot;x&quot;: -2.2307692307692313, &quot;y&quot;: 0.6923076923076911, &quot;z&quot;: -21.35558979027347}, {&quot;x&quot;: -2.2307692307692313, &quot;y&quot;: 0.8461538461538449, &quot;z&quot;: -21.118903399740926}, {&quot;x&quot;: -2.2307692307692313, &quot;y&quot;: 0.9999999999999988, &quot;z&quot;: -20.83487973110187}, {&quot;x&quot;: -2.2307692307692313, &quot;y&quot;: 1.1538461538461526, &quot;z&quot;: -20.503518784356313}, {&quot;x&quot;: -2.2307692307692313, &quot;y&quot;: 1.3076923076923066, &quot;z&quot;: -20.124820559504244}, {&quot;x&quot;: -2.2307692307692313, &quot;y&quot;: 1.4615384615384603, &quot;z&quot;: -19.69878505654566}, {&quot;x&quot;: -2.2307692307692313, &quot;y&quot;: 1.615384615384614, &quot;z&quot;: -19.225412275480572}, {&quot;x&quot;: -2.2307692307692313, &quot;y&quot;: 1.7692307692307678, &quot;z&quot;: -18.704702216308977}, {&quot;x&quot;: -2.2307692307692313, &quot;y&quot;: 1.9230769230769216, &quot;z&quot;: -18.13665487903087}, {&quot;x&quot;: -2.2307692307692313, &quot;y&quot;: 2.0769230769230753, &quot;z&quot;: -17.521270263646258}, {&quot;x&quot;: -2.2307692307692313, &quot;y&quot;: 2.230769230769229, &quot;z&quot;: -16.858548370155134}, {&quot;x&quot;: -2.2307692307692313, &quot;y&quot;: 2.384615384615383, &quot;z&quot;: -16.148489198557503}, {&quot;x&quot;: -2.2307692307692313, &quot;y&quot;: 2.5384615384615365, &quot;z&quot;: -15.39109274885336}, {&quot;x&quot;: -2.2307692307692313, &quot;y&quot;: 2.6923076923076903, &quot;z&quot;: -14.58635902104271}, {&quot;x&quot;: -2.2307692307692313, &quot;y&quot;: 2.846153846153844, &quot;z&quot;: -13.734288015125552}, {&quot;x&quot;: -2.2307692307692313, &quot;y&quot;: 3.0, &quot;z&quot;: -12.834879731101871}, {&quot;x&quot;: -2.0769230769230775, &quot;y&quot;: -2.8461538461538463, &quot;z&quot;: -9.565806519379588}, {&quot;x&quot;: -2.0769230769230775, &quot;y&quot;: -3.0, &quot;z&quot;: -8.66639823535592}, {&quot;x&quot;: -2.0769230769230775, &quot;y&quot;: -2.6923076923076925, &quot;z&quot;: -10.417877525296749}, {&quot;x&quot;: -2.0769230769230775, &quot;y&quot;: -2.5384615384615388, &quot;z&quot;: -11.222611253107399}, {&quot;x&quot;: -2.0769230769230775, &quot;y&quot;: -2.384615384615385, &quot;z&quot;: -11.980007702811541}, {&quot;x&quot;: -2.0769230769230775, &quot;y&quot;: -2.2307692307692313, &quot;z&quot;: -12.690066874409172}, {&quot;x&quot;: -2.0769230769230775, &quot;y&quot;: -2.0769230769230775, &quot;z&quot;: -13.352788767900297}, {&quot;x&quot;: -2.0769230769230775, &quot;y&quot;: -1.9230769230769238, &quot;z&quot;: -13.968173383284912}, {&quot;x&quot;: -2.0769230769230775, &quot;y&quot;: -1.76923076923077, &quot;z&quot;: -14.53622072056302}, {&quot;x&quot;: -2.0769230769230775, &quot;y&quot;: -1.6153846153846163, &quot;z&quot;: -15.056930779734616}, {&quot;x&quot;: -2.0769230769230775, &quot;y&quot;: -1.4615384615384626, &quot;z&quot;: -15.530303560799705}, {&quot;x&quot;: -2.0769230769230775, &quot;y&quot;: -1.3076923076923088, &quot;z&quot;: -15.956339063758286}, {&quot;x&quot;: -2.0769230769230775, &quot;y&quot;: -1.153846153846155, &quot;z&quot;: -16.335037288610355}, {&quot;x&quot;: -2.0769230769230775, &quot;y&quot;: -1.0000000000000013, &quot;z&quot;: -16.666398235355917}, {&quot;x&quot;: -2.0769230769230775, &quot;y&quot;: -0.8461538461538475, &quot;z&quot;: -16.95042190399497}, {&quot;x&quot;: -2.0769230769230775, &quot;y&quot;: -0.6923076923076936, &quot;z&quot;: -17.187108294527516}, {&quot;x&quot;: -2.0769230769230775, &quot;y&quot;: -0.5384615384615398, &quot;z&quot;: -17.376457406953552}, {&quot;x&quot;: -2.0769230769230775, &quot;y&quot;: -0.3846153846153859, &quot;z&quot;: -17.51846924127308}, {&quot;x&quot;: -2.0769230769230775, &quot;y&quot;: -0.23076923076923206, &quot;z&quot;: -17.613143797486096}, {&quot;x&quot;: -2.0769230769230775, &quot;y&quot;: -0.0769230769230782, &quot;z&quot;: -17.660481075592607}, {&quot;x&quot;: -2.0769230769230775, &quot;y&quot;: 0.07692307692307565, &quot;z&quot;: -17.660481075592607}, {&quot;x&quot;: -2.0769230769230775, &quot;y&quot;: 0.2307692307692295, &quot;z&quot;: -17.6131437974861}, {&quot;x&quot;: -2.0769230769230775, &quot;y&quot;: 0.38461538461538336, &quot;z&quot;: -17.51846924127308}, {&quot;x&quot;: -2.0769230769230775, &quot;y&quot;: 0.5384615384615372, &quot;z&quot;: -17.376457406953556}, {&quot;x&quot;: -2.0769230769230775, &quot;y&quot;: 0.6923076923076911, &quot;z&quot;: -17.18710829452752}, {&quot;x&quot;: -2.0769230769230775, &quot;y&quot;: 0.8461538461538449, &quot;z&quot;: -16.950421903994975}, {&quot;x&quot;: -2.0769230769230775, &quot;y&quot;: 0.9999999999999988, &quot;z&quot;: -16.666398235355924}, {&quot;x&quot;: -2.0769230769230775, &quot;y&quot;: 1.1538461538461526, &quot;z&quot;: -16.335037288610362}, {&quot;x&quot;: -2.0769230769230775, &quot;y&quot;: 1.3076923076923066, &quot;z&quot;: -15.95633906375829}, {&quot;x&quot;: -2.0769230769230775, &quot;y&quot;: 1.4615384615384603, &quot;z&quot;: -15.53030356079971}, {&quot;x&quot;: -2.0769230769230775, &quot;y&quot;: 1.615384615384614, &quot;z&quot;: -15.056930779734623}, {&quot;x&quot;: -2.0769230769230775, &quot;y&quot;: 1.7692307692307678, &quot;z&quot;: -14.536220720563026}, {&quot;x&quot;: -2.0769230769230775, &quot;y&quot;: 1.9230769230769216, &quot;z&quot;: -13.96817338328492}, {&quot;x&quot;: -2.0769230769230775, &quot;y&quot;: 2.0769230769230753, &quot;z&quot;: -13.352788767900307}, {&quot;x&quot;: -2.0769230769230775, &quot;y&quot;: 2.230769230769229, &quot;z&quot;: -12.690066874409183}, {&quot;x&quot;: -2.0769230769230775, &quot;y&quot;: 2.384615384615383, &quot;z&quot;: -11.980007702811552}, {&quot;x&quot;: -2.0769230769230775, &quot;y&quot;: 2.5384615384615365, &quot;z&quot;: -11.22261125310741}, {&quot;x&quot;: -2.0769230769230775, &quot;y&quot;: 2.6923076923076903, &quot;z&quot;: -10.41787752529676}, {&quot;x&quot;: -2.0769230769230775, &quot;y&quot;: 2.846153846153844, &quot;z&quot;: -9.565806519379601}, {&quot;x&quot;: -2.0769230769230775, &quot;y&quot;: 3.0, &quot;z&quot;: -8.66639823535592}, {&quot;x&quot;: -1.9230769230769238, &quot;y&quot;: -2.8461538461538463, &quot;z&quot;: -6.481600784286275}, {&quot;x&quot;: -1.9230769230769238, &quot;y&quot;: -3.0, &quot;z&quot;: -5.582192500262607}, {&quot;x&quot;: -1.9230769230769238, &quot;y&quot;: -2.6923076923076925, &quot;z&quot;: -7.333671790203435}, {&quot;x&quot;: -1.9230769230769238, &quot;y&quot;: -2.5384615384615388, &quot;z&quot;: -8.138405518014086}, {&quot;x&quot;: -1.9230769230769238, &quot;y&quot;: -2.384615384615385, &quot;z&quot;: -8.895801967718228}, {&quot;x&quot;: -1.9230769230769238, &quot;y&quot;: -2.2307692307692313, &quot;z&quot;: -9.60586113931586}, {&quot;x&quot;: -1.9230769230769238, &quot;y&quot;: -2.0769230769230775, &quot;z&quot;: -10.268583032806983}, {&quot;x&quot;: -1.9230769230769238, &quot;y&quot;: -1.9230769230769238, &quot;z&quot;: -10.883967648191598}, {&quot;x&quot;: -1.9230769230769238, &quot;y&quot;: -1.76923076923077, &quot;z&quot;: -11.452014985469706}, {&quot;x&quot;: -1.9230769230769238, &quot;y&quot;: -1.6153846153846163, &quot;z&quot;: -11.972725044641303}, {&quot;x&quot;: -1.9230769230769238, &quot;y&quot;: -1.4615384615384626, &quot;z&quot;: -12.446097825706392}, {&quot;x&quot;: -1.9230769230769238, &quot;y&quot;: -1.3076923076923088, &quot;z&quot;: -12.87213332866497}, {&quot;x&quot;: -1.9230769230769238, &quot;y&quot;: -1.153846153846155, &quot;z&quot;: -13.250831553517042}, {&quot;x&quot;: -1.9230769230769238, &quot;y&quot;: -1.0000000000000013, &quot;z&quot;: -13.582192500262604}, {&quot;x&quot;: -1.9230769230769238, &quot;y&quot;: -0.8461538461538475, &quot;z&quot;: -13.866216168901659}, {&quot;x&quot;: -1.9230769230769238, &quot;y&quot;: -0.6923076923076936, &quot;z&quot;: -14.102902559434202}, {&quot;x&quot;: -1.9230769230769238, &quot;y&quot;: -0.5384615384615398, &quot;z&quot;: -14.292251671860239}, {&quot;x&quot;: -1.9230769230769238, &quot;y&quot;: -0.3846153846153859, &quot;z&quot;: -14.434263506179766}, {&quot;x&quot;: -1.9230769230769238, &quot;y&quot;: -0.23076923076923206, &quot;z&quot;: -14.528938062392784}, {&quot;x&quot;: -1.9230769230769238, &quot;y&quot;: -0.0769230769230782, &quot;z&quot;: -14.576275340499294}, {&quot;x&quot;: -1.9230769230769238, &quot;y&quot;: 0.07692307692307565, &quot;z&quot;: -14.576275340499294}, {&quot;x&quot;: -1.9230769230769238, &quot;y&quot;: 0.2307692307692295, &quot;z&quot;: -14.528938062392786}, {&quot;x&quot;: -1.9230769230769238, &quot;y&quot;: 0.38461538461538336, &quot;z&quot;: -14.434263506179768}, {&quot;x&quot;: -1.9230769230769238, &quot;y&quot;: 0.5384615384615372, &quot;z&quot;: -14.292251671860242}, {&quot;x&quot;: -1.9230769230769238, &quot;y&quot;: 0.6923076923076911, &quot;z&quot;: -14.102902559434206}, {&quot;x&quot;: -1.9230769230769238, &quot;y&quot;: 0.8461538461538449, &quot;z&quot;: -13.866216168901662}, {&quot;x&quot;: -1.9230769230769238, &quot;y&quot;: 0.9999999999999988, &quot;z&quot;: -13.58219250026261}, {&quot;x&quot;: -1.9230769230769238, &quot;y&quot;: 1.1538461538461526, &quot;z&quot;: -13.250831553517049}, {&quot;x&quot;: -1.9230769230769238, &quot;y&quot;: 1.3076923076923066, &quot;z&quot;: -12.872133328664978}, {&quot;x&quot;: -1.9230769230769238, &quot;y&quot;: 1.4615384615384603, &quot;z&quot;: -12.446097825706397}, {&quot;x&quot;: -1.9230769230769238, &quot;y&quot;: 1.615384615384614, &quot;z&quot;: -11.97272504464131}, {&quot;x&quot;: -1.9230769230769238, &quot;y&quot;: 1.7692307692307678, &quot;z&quot;: -11.452014985469713}, {&quot;x&quot;: -1.9230769230769238, &quot;y&quot;: 1.9230769230769216, &quot;z&quot;: -10.883967648191607}, {&quot;x&quot;: -1.9230769230769238, &quot;y&quot;: 2.0769230769230753, &quot;z&quot;: -10.268583032806994}, {&quot;x&quot;: -1.9230769230769238, &quot;y&quot;: 2.230769230769229, &quot;z&quot;: -9.60586113931587}, {&quot;x&quot;: -1.9230769230769238, &quot;y&quot;: 2.384615384615383, &quot;z&quot;: -8.895801967718239}, {&quot;x&quot;: -1.9230769230769238, &quot;y&quot;: 2.5384615384615365, &quot;z&quot;: -8.138405518014096}, {&quot;x&quot;: -1.9230769230769238, &quot;y&quot;: 2.6923076923076903, &quot;z&quot;: -7.3336717902034465}, {&quot;x&quot;: -1.9230769230769238, &quot;y&quot;: 2.846153846153844, &quot;z&quot;: -6.481600784286288}, {&quot;x&quot;: -1.9230769230769238, &quot;y&quot;: 3.0, &quot;z&quot;: -5.582192500262607}, {&quot;x&quot;: -1.76923076923077, &quot;y&quot;: -2.8461538461538463, &quot;z&quot;: -4.306887013760031}, {&quot;x&quot;: -1.76923076923077, &quot;y&quot;: -3.0, &quot;z&quot;: -3.407478729736363}, {&quot;x&quot;: -1.76923076923077, &quot;y&quot;: -2.6923076923076925, &quot;z&quot;: -5.158958019677191}, {&quot;x&quot;: -1.76923076923077, &quot;y&quot;: -2.5384615384615388, &quot;z&quot;: -5.963691747487841}, {&quot;x&quot;: -1.76923076923077, &quot;y&quot;: -2.384615384615385, &quot;z&quot;: -6.721088197191983}, {&quot;x&quot;: -1.76923076923077, &quot;y&quot;: -2.2307692307692313, &quot;z&quot;: -7.431147368789615}, {&quot;x&quot;: -1.76923076923077, &quot;y&quot;: -2.0769230769230775, &quot;z&quot;: -8.093869262280739}, {&quot;x&quot;: -1.76923076923077, &quot;y&quot;: -1.9230769230769238, &quot;z&quot;: -8.709253877665354}, {&quot;x&quot;: -1.76923076923077, &quot;y&quot;: -1.76923076923077, &quot;z&quot;: -9.27730121494346}, {&quot;x&quot;: -1.76923076923077, &quot;y&quot;: -1.6153846153846163, &quot;z&quot;: -9.798011274115058}, {&quot;x&quot;: -1.76923076923077, &quot;y&quot;: -1.4615384615384626, &quot;z&quot;: -10.271384055180146}, {&quot;x&quot;: -1.76923076923077, &quot;y&quot;: -1.3076923076923088, &quot;z&quot;: -10.697419558138726}, {&quot;x&quot;: -1.76923076923077, &quot;y&quot;: -1.153846153846155, &quot;z&quot;: -11.076117782990798}, {&quot;x&quot;: -1.76923076923077, &quot;y&quot;: -1.0000000000000013, &quot;z&quot;: -11.407478729736361}, {&quot;x&quot;: -1.76923076923077, &quot;y&quot;: -0.8461538461538475, &quot;z&quot;: -11.691502398375414}, {&quot;x&quot;: -1.76923076923077, &quot;y&quot;: -0.6923076923076936, &quot;z&quot;: -11.928188788907958}, {&quot;x&quot;: -1.76923076923077, &quot;y&quot;: -0.5384615384615398, &quot;z&quot;: -12.117537901333995}, {&quot;x&quot;: -1.76923076923077, &quot;y&quot;: -0.3846153846153859, &quot;z&quot;: -12.259549735653522}, {&quot;x&quot;: -1.76923076923077, &quot;y&quot;: -0.23076923076923206, &quot;z&quot;: -12.35422429186654}, {&quot;x&quot;: -1.76923076923077, &quot;y&quot;: -0.0769230769230782, &quot;z&quot;: -12.40156156997305}, {&quot;x&quot;: -1.76923076923077, &quot;y&quot;: 0.07692307692307565, &quot;z&quot;: -12.40156156997305}, {&quot;x&quot;: -1.76923076923077, &quot;y&quot;: 0.2307692307692295, &quot;z&quot;: -12.354224291866542}, {&quot;x&quot;: -1.76923076923077, &quot;y&quot;: 0.38461538461538336, &quot;z&quot;: -12.259549735653524}, {&quot;x&quot;: -1.76923076923077, &quot;y&quot;: 0.5384615384615372, &quot;z&quot;: -12.117537901333998}, {&quot;x&quot;: -1.76923076923077, &quot;y&quot;: 0.6923076923076911, &quot;z&quot;: -11.928188788907962}, {&quot;x&quot;: -1.76923076923077, &quot;y&quot;: 0.8461538461538449, &quot;z&quot;: -11.691502398375418}, {&quot;x&quot;: -1.76923076923077, &quot;y&quot;: 0.9999999999999988, &quot;z&quot;: -11.407478729736365}, {&quot;x&quot;: -1.76923076923077, &quot;y&quot;: 1.1538461538461526, &quot;z&quot;: -11.076117782990803}, {&quot;x&quot;: -1.76923076923077, &quot;y&quot;: 1.3076923076923066, &quot;z&quot;: -10.697419558138733}, {&quot;x&quot;: -1.76923076923077, &quot;y&quot;: 1.4615384615384603, &quot;z&quot;: -10.271384055180153}, {&quot;x&quot;: -1.76923076923077, &quot;y&quot;: 1.615384615384614, &quot;z&quot;: -9.798011274115066}, {&quot;x&quot;: -1.76923076923077, &quot;y&quot;: 1.7692307692307678, &quot;z&quot;: -9.277301214943469}, {&quot;x&quot;: -1.76923076923077, &quot;y&quot;: 1.9230769230769216, &quot;z&quot;: -8.709253877665363}, {&quot;x&quot;: -1.76923076923077, &quot;y&quot;: 2.0769230769230753, &quot;z&quot;: -8.093869262280748}, {&quot;x&quot;: -1.76923076923077, &quot;y&quot;: 2.230769230769229, &quot;z&quot;: -7.431147368789625}, {&quot;x&quot;: -1.76923076923077, &quot;y&quot;: 2.384615384615383, &quot;z&quot;: -6.721088197191993}, {&quot;x&quot;: -1.76923076923077, &quot;y&quot;: 2.5384615384615365, &quot;z&quot;: -5.963691747487852}, {&quot;x&quot;: -1.76923076923077, &quot;y&quot;: 2.6923076923076903, &quot;z&quot;: -5.158958019677202}, {&quot;x&quot;: -1.76923076923077, &quot;y&quot;: 2.846153846153844, &quot;z&quot;: -4.3068870137600435}, {&quot;x&quot;: -1.76923076923077, &quot;y&quot;: 3.0, &quot;z&quot;: -3.407478729736363}, {&quot;x&quot;: -1.6153846153846163, &quot;y&quot;: -2.8461538461538463, &quot;z&quot;: -2.88032631910648}, {&quot;x&quot;: -1.6153846153846163, &quot;y&quot;: -3.0, &quot;z&quot;: -1.9809180350828122}, {&quot;x&quot;: -1.6153846153846163, &quot;y&quot;: -2.6923076923076925, &quot;z&quot;: -3.732397325023639}, {&quot;x&quot;: -1.6153846153846163, &quot;y&quot;: -2.5384615384615388, &quot;z&quot;: -4.537131052834289}, {&quot;x&quot;: -1.6153846153846163, &quot;y&quot;: -2.384615384615385, &quot;z&quot;: -5.294527502538431}, {&quot;x&quot;: -1.6153846153846163, &quot;y&quot;: -2.2307692307692313, &quot;z&quot;: -6.004586674136063}, {&quot;x&quot;: -1.6153846153846163, &quot;y&quot;: -2.0769230769230775, &quot;z&quot;: -6.667308567627187}, {&quot;x&quot;: -1.6153846153846163, &quot;y&quot;: -1.9230769230769238, &quot;z&quot;: -7.282693183011803}, {&quot;x&quot;: -1.6153846153846163, &quot;y&quot;: -1.76923076923077, &quot;z&quot;: -7.850740520289909}, {&quot;x&quot;: -1.6153846153846163, &quot;y&quot;: -1.6153846153846163, &quot;z&quot;: -8.371450579461506}, {&quot;x&quot;: -1.6153846153846163, &quot;y&quot;: -1.4615384615384626, &quot;z&quot;: -8.844823360526595}, {&quot;x&quot;: -1.6153846153846163, &quot;y&quot;: -1.3076923076923088, &quot;z&quot;: -9.270858863485175}, {&quot;x&quot;: -1.6153846153846163, &quot;y&quot;: -1.153846153846155, &quot;z&quot;: -9.649557088337247}, {&quot;x&quot;: -1.6153846153846163, &quot;y&quot;: -1.0000000000000013, &quot;z&quot;: -9.980918035082809}, {&quot;x&quot;: -1.6153846153846163, &quot;y&quot;: -0.8461538461538475, &quot;z&quot;: -10.264941703721863}, {&quot;x&quot;: -1.6153846153846163, &quot;y&quot;: -0.6923076923076936, &quot;z&quot;: -10.501628094254407}, {&quot;x&quot;: -1.6153846153846163, &quot;y&quot;: -0.5384615384615398, &quot;z&quot;: -10.690977206680444}, {&quot;x&quot;: -1.6153846153846163, &quot;y&quot;: -0.3846153846153859, &quot;z&quot;: -10.83298904099997}, {&quot;x&quot;: -1.6153846153846163, &quot;y&quot;: -0.23076923076923206, &quot;z&quot;: -10.927663597212987}, {&quot;x&quot;: -1.6153846153846163, &quot;y&quot;: -0.0769230769230782, &quot;z&quot;: -10.975000875319498}, {&quot;x&quot;: -1.6153846153846163, &quot;y&quot;: 0.07692307692307565, &quot;z&quot;: -10.975000875319498}, {&quot;x&quot;: -1.6153846153846163, &quot;y&quot;: 0.2307692307692295, &quot;z&quot;: -10.92766359721299}, {&quot;x&quot;: -1.6153846153846163, &quot;y&quot;: 0.38461538461538336, &quot;z&quot;: -10.832989040999973}, {&quot;x&quot;: -1.6153846153846163, &quot;y&quot;: 0.5384615384615372, &quot;z&quot;: -10.690977206680445}, {&quot;x&quot;: -1.6153846153846163, &quot;y&quot;: 0.6923076923076911, &quot;z&quot;: -10.50162809425441}, {&quot;x&quot;: -1.6153846153846163, &quot;y&quot;: 0.8461538461538449, &quot;z&quot;: -10.264941703721867}, {&quot;x&quot;: -1.6153846153846163, &quot;y&quot;: 0.9999999999999988, &quot;z&quot;: -9.980918035082814}, {&quot;x&quot;: -1.6153846153846163, &quot;y&quot;: 1.1538461538461526, &quot;z&quot;: -9.649557088337252}, {&quot;x&quot;: -1.6153846153846163, &quot;y&quot;: 1.3076923076923066, &quot;z&quot;: -9.27085886348518}, {&quot;x&quot;: -1.6153846153846163, &quot;y&quot;: 1.4615384615384603, &quot;z&quot;: -8.844823360526602}, {&quot;x&quot;: -1.6153846153846163, &quot;y&quot;: 1.615384615384614, &quot;z&quot;: -8.371450579461513}, {&quot;x&quot;: -1.6153846153846163, &quot;y&quot;: 1.7692307692307678, &quot;z&quot;: -7.850740520289917}, {&quot;x&quot;: -1.6153846153846163, &quot;y&quot;: 1.9230769230769216, &quot;z&quot;: -7.282693183011811}, {&quot;x&quot;: -1.6153846153846163, &quot;y&quot;: 2.0769230769230753, &quot;z&quot;: -6.667308567627197}, {&quot;x&quot;: -1.6153846153846163, &quot;y&quot;: 2.230769230769229, &quot;z&quot;: -6.004586674136073}, {&quot;x&quot;: -1.6153846153846163, &quot;y&quot;: 2.384615384615383, &quot;z&quot;: -5.2945275025384415}, {&quot;x&quot;: -1.6153846153846163, &quot;y&quot;: 2.5384615384615365, &quot;z&quot;: -4.5371310528343}, {&quot;x&quot;: -1.6153846153846163, &quot;y&quot;: 2.6923076923076903, &quot;z&quot;: -3.7323973250236513}, {&quot;x&quot;: -1.6153846153846163, &quot;y&quot;: 2.846153846153844, &quot;z&quot;: -2.8803263191064907}, {&quot;x&quot;: -1.6153846153846163, &quot;y&quot;: 3.0, &quot;z&quot;: -1.9809180350828122}, {&quot;x&quot;: -1.4615384615384626, &quot;y&quot;: -2.8461538461538463, &quot;z&quot;: -2.054024719022447}, {&quot;x&quot;: -1.4615384615384626, &quot;y&quot;: -3.0, &quot;z&quot;: -1.154616434998779}, {&quot;x&quot;: -1.4615384615384626, &quot;y&quot;: -2.6923076923076925, &quot;z&quot;: -2.9060957249396058}, {&quot;x&quot;: -1.4615384615384626, &quot;y&quot;: -2.5384615384615388, &quot;z&quot;: -3.710829452750257}, {&quot;x&quot;: -1.4615384615384626, &quot;y&quot;: -2.384615384615385, &quot;z&quot;: -4.468225902454398}, {&quot;x&quot;: -1.4615384615384626, &quot;y&quot;: -2.2307692307692313, &quot;z&quot;: -5.17828507405203}, {&quot;x&quot;: -1.4615384615384626, &quot;y&quot;: -2.0769230769230775, &quot;z&quot;: -5.841006967543154}, {&quot;x&quot;: -1.4615384615384626, &quot;y&quot;: -1.9230769230769238, &quot;z&quot;: -6.45639158292777}, {&quot;x&quot;: -1.4615384615384626, &quot;y&quot;: -1.76923076923077, &quot;z&quot;: -7.024438920205876}, {&quot;x&quot;: -1.4615384615384626, &quot;y&quot;: -1.6153846153846163, &quot;z&quot;: -7.5451489793774735}, {&quot;x&quot;: -1.4615384615384626, &quot;y&quot;: -1.4615384615384626, &quot;z&quot;: -8.018521760442562}, {&quot;x&quot;: -1.4615384615384626, &quot;y&quot;: -1.3076923076923088, &quot;z&quot;: -8.444557263401142}, {&quot;x&quot;: -1.4615384615384626, &quot;y&quot;: -1.153846153846155, &quot;z&quot;: -8.823255488253213}, {&quot;x&quot;: -1.4615384615384626, &quot;y&quot;: -1.0000000000000013, &quot;z&quot;: -9.154616434998776}, {&quot;x&quot;: -1.4615384615384626, &quot;y&quot;: -0.8461538461538475, &quot;z&quot;: -9.43864010363783}, {&quot;x&quot;: -1.4615384615384626, &quot;y&quot;: -0.6923076923076936, &quot;z&quot;: -9.675326494170374}, {&quot;x&quot;: -1.4615384615384626, &quot;y&quot;: -0.5384615384615398, &quot;z&quot;: -9.86467560659641}, {&quot;x&quot;: -1.4615384615384626, &quot;y&quot;: -0.3846153846153859, &quot;z&quot;: -10.006687440915936}, {&quot;x&quot;: -1.4615384615384626, &quot;y&quot;: -0.23076923076923206, &quot;z&quot;: -10.101361997128954}, {&quot;x&quot;: -1.4615384615384626, &quot;y&quot;: -0.0769230769230782, &quot;z&quot;: -10.148699275235465}, {&quot;x&quot;: -1.4615384615384626, &quot;y&quot;: 0.07692307692307565, &quot;z&quot;: -10.148699275235465}, {&quot;x&quot;: -1.4615384615384626, &quot;y&quot;: 0.2307692307692295, &quot;z&quot;: -10.101361997128956}, {&quot;x&quot;: -1.4615384615384626, &quot;y&quot;: 0.38461538461538336, &quot;z&quot;: -10.00668744091594}, {&quot;x&quot;: -1.4615384615384626, &quot;y&quot;: 0.5384615384615372, &quot;z&quot;: -9.864675606596412}, {&quot;x&quot;: -1.4615384615384626, &quot;y&quot;: 0.6923076923076911, &quot;z&quot;: -9.675326494170378}, {&quot;x&quot;: -1.4615384615384626, &quot;y&quot;: 0.8461538461538449, &quot;z&quot;: -9.438640103637834}, {&quot;x&quot;: -1.4615384615384626, &quot;y&quot;: 0.9999999999999988, &quot;z&quot;: -9.15461643499878}, {&quot;x&quot;: -1.4615384615384626, &quot;y&quot;: 1.1538461538461526, &quot;z&quot;: -8.823255488253219}, {&quot;x&quot;: -1.4615384615384626, &quot;y&quot;: 1.3076923076923066, &quot;z&quot;: -8.444557263401148}, {&quot;x&quot;: -1.4615384615384626, &quot;y&quot;: 1.4615384615384603, &quot;z&quot;: -8.01852176044257}, {&quot;x&quot;: -1.4615384615384626, &quot;y&quot;: 1.615384615384614, &quot;z&quot;: -7.545148979377481}, {&quot;x&quot;: -1.4615384615384626, &quot;y&quot;: 1.7692307692307678, &quot;z&quot;: -7.024438920205884}, {&quot;x&quot;: -1.4615384615384626, &quot;y&quot;: 1.9230769230769216, &quot;z&quot;: -6.456391582927778}, {&quot;x&quot;: -1.4615384615384626, &quot;y&quot;: 2.0769230769230753, &quot;z&quot;: -5.841006967543164}, {&quot;x&quot;: -1.4615384615384626, &quot;y&quot;: 2.230769230769229, &quot;z&quot;: -5.17828507405204}, {&quot;x&quot;: -1.4615384615384626, &quot;y&quot;: 2.384615384615383, &quot;z&quot;: -4.468225902454408}, {&quot;x&quot;: -1.4615384615384626, &quot;y&quot;: 2.5384615384615365, &quot;z&quot;: -3.710829452750268}, {&quot;x&quot;: -1.4615384615384626, &quot;y&quot;: 2.6923076923076903, &quot;z&quot;: -2.906095724939618}, {&quot;x&quot;: -1.4615384615384626, &quot;y&quot;: 2.846153846153844, &quot;z&quot;: -2.0540247190224576}, {&quot;x&quot;: -1.4615384615384626, &quot;y&quot;: 3.0, &quot;z&quot;: -1.154616434998779}, {&quot;x&quot;: -1.3076923076923088, &quot;y&quot;: -2.8461538461538463, &quot;z&quot;: -1.693533139595953}, {&quot;x&quot;: -1.3076923076923088, &quot;y&quot;: -3.0, &quot;z&quot;: -0.7941248555722851}, {&quot;x&quot;: -1.3076923076923088, &quot;y&quot;: -2.6923076923076925, &quot;z&quot;: -2.5456041455131135}, {&quot;x&quot;: -1.3076923076923088, &quot;y&quot;: -2.5384615384615388, &quot;z&quot;: -3.350337873323763}, {&quot;x&quot;: -1.3076923076923088, &quot;y&quot;: -2.384615384615385, &quot;z&quot;: -4.107734323027905}, {&quot;x&quot;: -1.3076923076923088, &quot;y&quot;: -2.2307692307692313, &quot;z&quot;: -4.817793494625537}, {&quot;x&quot;: -1.3076923076923088, &quot;y&quot;: -2.0769230769230775, &quot;z&quot;: -5.480515388116661}, {&quot;x&quot;: -1.3076923076923088, &quot;y&quot;: -1.9230769230769238, &quot;z&quot;: -6.095900003501276}, {&quot;x&quot;: -1.3076923076923088, &quot;y&quot;: -1.76923076923077, &quot;z&quot;: -6.663947340779383}, {&quot;x&quot;: -1.3076923076923088, &quot;y&quot;: -1.6153846153846163, &quot;z&quot;: -7.18465739995098}, {&quot;x&quot;: -1.3076923076923088, &quot;y&quot;: -1.4615384615384626, &quot;z&quot;: -7.658030181016069}, {&quot;x&quot;: -1.3076923076923088, &quot;y&quot;: -1.3076923076923088, &quot;z&quot;: -8.08406568397465}, {&quot;x&quot;: -1.3076923076923088, &quot;y&quot;: -1.153846153846155, &quot;z&quot;: -8.46276390882672}, {&quot;x&quot;: -1.3076923076923088, &quot;y&quot;: -1.0000000000000013, &quot;z&quot;: -8.794124855572282}, {&quot;x&quot;: -1.3076923076923088, &quot;y&quot;: -0.8461538461538475, &quot;z&quot;: -9.078148524211336}, {&quot;x&quot;: -1.3076923076923088, &quot;y&quot;: -0.6923076923076936, &quot;z&quot;: -9.31483491474388}, {&quot;x&quot;: -1.3076923076923088, &quot;y&quot;: -0.5384615384615398, &quot;z&quot;: -9.504184027169917}, {&quot;x&quot;: -1.3076923076923088, &quot;y&quot;: -0.3846153846153859, &quot;z&quot;: -9.646195861489444}, {&quot;x&quot;: -1.3076923076923088, &quot;y&quot;: -0.23076923076923206, &quot;z&quot;: -9.740870417702462}, {&quot;x&quot;: -1.3076923076923088, &quot;y&quot;: -0.0769230769230782, &quot;z&quot;: -9.788207695808971}, {&quot;x&quot;: -1.3076923076923088, &quot;y&quot;: 0.07692307692307565, &quot;z&quot;: -9.788207695808971}, {&quot;x&quot;: -1.3076923076923088, &quot;y&quot;: 0.2307692307692295, &quot;z&quot;: -9.740870417702464}, {&quot;x&quot;: -1.3076923076923088, &quot;y&quot;: 0.38461538461538336, &quot;z&quot;: -9.646195861489446}, {&quot;x&quot;: -1.3076923076923088, &quot;y&quot;: 0.5384615384615372, &quot;z&quot;: -9.50418402716992}, {&quot;x&quot;: -1.3076923076923088, &quot;y&quot;: 0.6923076923076911, &quot;z&quot;: -9.314834914743884}, {&quot;x&quot;: -1.3076923076923088, &quot;y&quot;: 0.8461538461538449, &quot;z&quot;: -9.07814852421134}, {&quot;x&quot;: -1.3076923076923088, &quot;y&quot;: 0.9999999999999988, &quot;z&quot;: -8.794124855572289}, {&quot;x&quot;: -1.3076923076923088, &quot;y&quot;: 1.1538461538461526, &quot;z&quot;: -8.462763908826727}, {&quot;x&quot;: -1.3076923076923088, &quot;y&quot;: 1.3076923076923066, &quot;z&quot;: -8.084065683974654}, {&quot;x&quot;: -1.3076923076923088, &quot;y&quot;: 1.4615384615384603, &quot;z&quot;: -7.658030181016075}, {&quot;x&quot;: -1.3076923076923088, &quot;y&quot;: 1.615384615384614, &quot;z&quot;: -7.1846573999509875}, {&quot;x&quot;: -1.3076923076923088, &quot;y&quot;: 1.7692307692307678, &quot;z&quot;: -6.663947340779391}, {&quot;x&quot;: -1.3076923076923088, &quot;y&quot;: 1.9230769230769216, &quot;z&quot;: -6.095900003501285}, {&quot;x&quot;: -1.3076923076923088, &quot;y&quot;: 2.0769230769230753, &quot;z&quot;: -5.480515388116671}, {&quot;x&quot;: -1.3076923076923088, &quot;y&quot;: 2.230769230769229, &quot;z&quot;: -4.817793494625547}, {&quot;x&quot;: -1.3076923076923088, &quot;y&quot;: 2.384615384615383, &quot;z&quot;: -4.107734323027915}, {&quot;x&quot;: -1.3076923076923088, &quot;y&quot;: 2.5384615384615365, &quot;z&quot;: -3.350337873323774}, {&quot;x&quot;: -1.3076923076923088, &quot;y&quot;: 2.6923076923076903, &quot;z&quot;: -2.545604145513124}, {&quot;x&quot;: -1.3076923076923088, &quot;y&quot;: 2.846153846153844, &quot;z&quot;: -1.6935331395959654}, {&quot;x&quot;: -1.3076923076923088, &quot;y&quot;: 3.0, &quot;z&quot;: -0.7941248555722851}, {&quot;x&quot;: -1.153846153846155, &quot;y&quot;: -2.8461538461538463, &quot;z&quot;: -1.6778474143062194}, {&quot;x&quot;: -1.153846153846155, &quot;y&quot;: -3.0, &quot;z&quot;: -0.7784391302825515}, {&quot;x&quot;: -1.153846153846155, &quot;y&quot;: -2.6923076923076925, &quot;z&quot;: -2.52991842022338}, {&quot;x&quot;: -1.153846153846155, &quot;y&quot;: -2.5384615384615388, &quot;z&quot;: -3.3346521480340297}, {&quot;x&quot;: -1.153846153846155, &quot;y&quot;: -2.384615384615385, &quot;z&quot;: -4.092048597738172}, {&quot;x&quot;: -1.153846153846155, &quot;y&quot;: -2.2307692307692313, &quot;z&quot;: -4.802107769335803}, {&quot;x&quot;: -1.153846153846155, &quot;y&quot;: -2.0769230769230775, &quot;z&quot;: -5.4648296628269275}, {&quot;x&quot;: -1.153846153846155, &quot;y&quot;: -1.9230769230769238, &quot;z&quot;: -6.080214278211543}, {&quot;x&quot;: -1.153846153846155, &quot;y&quot;: -1.76923076923077, &quot;z&quot;: -6.64826161548965}, {&quot;x&quot;: -1.153846153846155, &quot;y&quot;: -1.6153846153846163, &quot;z&quot;: -7.168971674661247}, {&quot;x&quot;: -1.153846153846155, &quot;y&quot;: -1.4615384615384626, &quot;z&quot;: -7.642344455726336}, {&quot;x&quot;: -1.153846153846155, &quot;y&quot;: -1.3076923076923088, &quot;z&quot;: -8.068379958684915}, {&quot;x&quot;: -1.153846153846155, &quot;y&quot;: -1.153846153846155, &quot;z&quot;: -8.447078183536988}, {&quot;x&quot;: -1.153846153846155, &quot;y&quot;: -1.0000000000000013, &quot;z&quot;: -8.77843913028255}, {&quot;x&quot;: -1.153846153846155, &quot;y&quot;: -0.8461538461538475, &quot;z&quot;: -9.062462798921603}, {&quot;x&quot;: -1.153846153846155, &quot;y&quot;: -0.6923076923076936, &quot;z&quot;: -9.299149189454148}, {&quot;x&quot;: -1.153846153846155, &quot;y&quot;: -0.5384615384615398, &quot;z&quot;: -9.488498301880185}, {&quot;x&quot;: -1.153846153846155, &quot;y&quot;: -0.3846153846153859, &quot;z&quot;: -9.63051013619971}, {&quot;x&quot;: -1.153846153846155, &quot;y&quot;: -0.23076923076923206, &quot;z&quot;: -9.725184692412729}, {&quot;x&quot;: -1.153846153846155, &quot;y&quot;: -0.0769230769230782, &quot;z&quot;: -9.772521970519238}, {&quot;x&quot;: -1.153846153846155, &quot;y&quot;: 0.07692307692307565, &quot;z&quot;: -9.77252197051924}, {&quot;x&quot;: -1.153846153846155, &quot;y&quot;: 0.2307692307692295, &quot;z&quot;: -9.72518469241273}, {&quot;x&quot;: -1.153846153846155, &quot;y&quot;: 0.38461538461538336, &quot;z&quot;: -9.630510136199712}, {&quot;x&quot;: -1.153846153846155, &quot;y&quot;: 0.5384615384615372, &quot;z&quot;: -9.488498301880187}, {&quot;x&quot;: -1.153846153846155, &quot;y&quot;: 0.6923076923076911, &quot;z&quot;: -9.299149189454152}, {&quot;x&quot;: -1.153846153846155, &quot;y&quot;: 0.8461538461538449, &quot;z&quot;: -9.062462798921608}, {&quot;x&quot;: -1.153846153846155, &quot;y&quot;: 0.9999999999999988, &quot;z&quot;: -8.778439130282553}, {&quot;x&quot;: -1.153846153846155, &quot;y&quot;: 1.1538461538461526, &quot;z&quot;: -8.447078183536993}, {&quot;x&quot;: -1.153846153846155, &quot;y&quot;: 1.3076923076923066, &quot;z&quot;: -8.068379958684922}, {&quot;x&quot;: -1.153846153846155, &quot;y&quot;: 1.4615384615384603, &quot;z&quot;: -7.6423444557263425}, {&quot;x&quot;: -1.153846153846155, &quot;y&quot;: 1.615384615384614, &quot;z&quot;: -7.168971674661254}, {&quot;x&quot;: -1.153846153846155, &quot;y&quot;: 1.7692307692307678, &quot;z&quot;: -6.648261615489657}, {&quot;x&quot;: -1.153846153846155, &quot;y&quot;: 1.9230769230769216, &quot;z&quot;: -6.080214278211551}, {&quot;x&quot;: -1.153846153846155, &quot;y&quot;: 2.0769230769230753, &quot;z&quot;: -5.464829662826938}, {&quot;x&quot;: -1.153846153846155, &quot;y&quot;: 2.230769230769229, &quot;z&quot;: -4.802107769335814}, {&quot;x&quot;: -1.153846153846155, &quot;y&quot;: 2.384615384615383, &quot;z&quot;: -4.092048597738183}, {&quot;x&quot;: -1.153846153846155, &quot;y&quot;: 2.5384615384615365, &quot;z&quot;: -3.3346521480340403}, {&quot;x&quot;: -1.153846153846155, &quot;y&quot;: 2.6923076923076903, &quot;z&quot;: -2.5299184202233906}, {&quot;x&quot;: -1.153846153846155, &quot;y&quot;: 2.846153846153844, &quot;z&quot;: -1.6778474143062319}, {&quot;x&quot;: -1.153846153846155, &quot;y&quot;: 3.0, &quot;z&quot;: -0.7784391302825515}, {&quot;x&quot;: -1.0000000000000013, &quot;y&quot;: -2.8461538461538463, &quot;z&quot;: -1.8994082840236644}, {&quot;x&quot;: -1.0000000000000013, &quot;y&quot;: -3.0, &quot;z&quot;: -0.9999999999999964}, {&quot;x&quot;: -1.0000000000000013, &quot;y&quot;: -2.6923076923076925, &quot;z&quot;: -2.751479289940825}, {&quot;x&quot;: -1.0000000000000013, &quot;y&quot;: -2.5384615384615388, &quot;z&quot;: -3.5562130177514746}, {&quot;x&quot;: -1.0000000000000013, &quot;y&quot;: -2.384615384615385, &quot;z&quot;: -4.313609467455617}, {&quot;x&quot;: -1.0000000000000013, &quot;y&quot;: -2.2307692307692313, &quot;z&quot;: -5.023668639053249}, {&quot;x&quot;: -1.0000000000000013, &quot;y&quot;: -2.0769230769230775, &quot;z&quot;: -5.686390532544373}, {&quot;x&quot;: -1.0000000000000013, &quot;y&quot;: -1.9230769230769238, &quot;z&quot;: -6.301775147928989}, {&quot;x&quot;: -1.0000000000000013, &quot;y&quot;: -1.76923076923077, &quot;z&quot;: -6.869822485207095}, {&quot;x&quot;: -1.0000000000000013, &quot;y&quot;: -1.6153846153846163, &quot;z&quot;: -7.390532544378693}, {&quot;x&quot;: -1.0000000000000013, &quot;y&quot;: -1.4615384615384626, &quot;z&quot;: -7.863905325443781}, {&quot;x&quot;: -1.0000000000000013, &quot;y&quot;: -1.3076923076923088, &quot;z&quot;: -8.289940828402361}, {&quot;x&quot;: -1.0000000000000013, &quot;y&quot;: -1.153846153846155, &quot;z&quot;: -8.668639053254433}, {&quot;x&quot;: -1.0000000000000013, &quot;y&quot;: -1.0000000000000013, &quot;z&quot;: -8.999999999999995}, {&quot;x&quot;: -1.0000000000000013, &quot;y&quot;: -0.8461538461538475, &quot;z&quot;: -9.284023668639048}, {&quot;x&quot;: -1.0000000000000013, &quot;y&quot;: -0.6923076923076936, &quot;z&quot;: -9.520710059171593}, {&quot;x&quot;: -1.0000000000000013, &quot;y&quot;: -0.5384615384615398, &quot;z&quot;: -9.71005917159763}, {&quot;x&quot;: -1.0000000000000013, &quot;y&quot;: -0.3846153846153859, &quot;z&quot;: -9.852071005917157}, {&quot;x&quot;: -1.0000000000000013, &quot;y&quot;: -0.23076923076923206, &quot;z&quot;: -9.946745562130175}, {&quot;x&quot;: -1.0000000000000013, &quot;y&quot;: -0.0769230769230782, &quot;z&quot;: -9.994082840236683}, {&quot;x&quot;: -1.0000000000000013, &quot;y&quot;: 0.07692307692307565, &quot;z&quot;: -9.994082840236684}, {&quot;x&quot;: -1.0000000000000013, &quot;y&quot;: 0.2307692307692295, &quot;z&quot;: -9.946745562130175}, {&quot;x&quot;: -1.0000000000000013, &quot;y&quot;: 0.38461538461538336, &quot;z&quot;: -9.852071005917157}, {&quot;x&quot;: -1.0000000000000013, &quot;y&quot;: 0.5384615384615372, &quot;z&quot;: -9.710059171597631}, {&quot;x&quot;: -1.0000000000000013, &quot;y&quot;: 0.6923076923076911, &quot;z&quot;: -9.520710059171597}, {&quot;x&quot;: -1.0000000000000013, &quot;y&quot;: 0.8461538461538449, &quot;z&quot;: -9.284023668639053}, {&quot;x&quot;: -1.0000000000000013, &quot;y&quot;: 0.9999999999999988, &quot;z&quot;: -9.0}, {&quot;x&quot;: -1.0000000000000013, &quot;y&quot;: 1.1538461538461526, &quot;z&quot;: -8.668639053254438}, {&quot;x&quot;: -1.0000000000000013, &quot;y&quot;: 1.3076923076923066, &quot;z&quot;: -8.289940828402367}, {&quot;x&quot;: -1.0000000000000013, &quot;y&quot;: 1.4615384615384603, &quot;z&quot;: -7.863905325443788}, {&quot;x&quot;: -1.0000000000000013, &quot;y&quot;: 1.615384615384614, &quot;z&quot;: -7.3905325443787}, {&quot;x&quot;: -1.0000000000000013, &quot;y&quot;: 1.7692307692307678, &quot;z&quot;: -6.869822485207103}, {&quot;x&quot;: -1.0000000000000013, &quot;y&quot;: 1.9230769230769216, &quot;z&quot;: -6.301775147928997}, {&quot;x&quot;: -1.0000000000000013, &quot;y&quot;: 2.0769230769230753, &quot;z&quot;: -5.686390532544383}, {&quot;x&quot;: -1.0000000000000013, &quot;y&quot;: 2.230769230769229, &quot;z&quot;: -5.023668639053259}, {&quot;x&quot;: -1.0000000000000013, &quot;y&quot;: 2.384615384615383, &quot;z&quot;: -4.313609467455628}, {&quot;x&quot;: -1.0000000000000013, &quot;y&quot;: 2.5384615384615365, &quot;z&quot;: -3.5562130177514852}, {&quot;x&quot;: -1.0000000000000013, &quot;y&quot;: 2.6923076923076903, &quot;z&quot;: -2.7514792899408356}, {&quot;x&quot;: -1.0000000000000013, &quot;y&quot;: 2.846153846153844, &quot;z&quot;: -1.8994082840236786}, {&quot;x&quot;: -1.0000000000000013, &quot;y&quot;: 3.0, &quot;z&quot;: -0.9999999999999964}, {&quot;x&quot;: -0.8461538461538475, &quot;y&quot;: -2.8461538461538463, &quot;z&quot;: -2.264101397009904}, {&quot;x&quot;: -0.8461538461538475, &quot;y&quot;: -3.0, &quot;z&quot;: -1.3646931129862363}, {&quot;x&quot;: -0.8461538461538475, &quot;y&quot;: -2.6923076923076925, &quot;z&quot;: -3.116172402927063}, {&quot;x&quot;: -0.8461538461538475, &quot;y&quot;: -2.5384615384615388, &quot;z&quot;: -3.9209061307377144}, {&quot;x&quot;: -0.8461538461538475, &quot;y&quot;: -2.384615384615385, &quot;z&quot;: -4.678302580441856}, {&quot;x&quot;: -0.8461538461538475, &quot;y&quot;: -2.2307692307692313, &quot;z&quot;: -5.388361752039488}, {&quot;x&quot;: -0.8461538461538475, &quot;y&quot;: -2.0769230769230775, &quot;z&quot;: -6.051083645530612}, {&quot;x&quot;: -0.8461538461538475, &quot;y&quot;: -1.9230769230769238, &quot;z&quot;: -6.666468260915227}, {&quot;x&quot;: -0.8461538461538475, &quot;y&quot;: -1.76923076923077, &quot;z&quot;: -7.234515598193334}, {&quot;x&quot;: -0.8461538461538475, &quot;y&quot;: -1.6153846153846163, &quot;z&quot;: -7.755225657364932}, {&quot;x&quot;: -0.8461538461538475, &quot;y&quot;: -1.4615384615384626, &quot;z&quot;: -8.22859843843002}, {&quot;x&quot;: -0.8461538461538475, &quot;y&quot;: -1.3076923076923088, &quot;z&quot;: -8.6546339413886}, {&quot;x&quot;: -0.8461538461538475, &quot;y&quot;: -1.153846153846155, &quot;z&quot;: -9.033332166240672}, {&quot;x&quot;: -0.8461538461538475, &quot;y&quot;: -1.0000000000000013, &quot;z&quot;: -9.364693112986235}, {&quot;x&quot;: -0.8461538461538475, &quot;y&quot;: -0.8461538461538475, &quot;z&quot;: -9.648716781625287}, {&quot;x&quot;: -0.8461538461538475, &quot;y&quot;: -0.6923076923076936, &quot;z&quot;: -9.885403172157833}, {&quot;x&quot;: -0.8461538461538475, &quot;y&quot;: -0.5384615384615398, &quot;z&quot;: -10.074752284583868}, {&quot;x&quot;: -0.8461538461538475, &quot;y&quot;: -0.3846153846153859, &quot;z&quot;: -10.216764118903395}, {&quot;x&quot;: -0.8461538461538475, &quot;y&quot;: -0.23076923076923206, &quot;z&quot;: -10.311438675116413}, {&quot;x&quot;: -0.8461538461538475, &quot;y&quot;: -0.0769230769230782, &quot;z&quot;: -10.358775953222922}, {&quot;x&quot;: -0.8461538461538475, &quot;y&quot;: 0.07692307692307565, &quot;z&quot;: -10.358775953222922}, {&quot;x&quot;: -0.8461538461538475, &quot;y&quot;: 0.2307692307692295, &quot;z&quot;: -10.311438675116415}, {&quot;x&quot;: -0.8461538461538475, &quot;y&quot;: 0.38461538461538336, &quot;z&quot;: -10.216764118903397}, {&quot;x&quot;: -0.8461538461538475, &quot;y&quot;: 0.5384615384615372, &quot;z&quot;: -10.074752284583871}, {&quot;x&quot;: -0.8461538461538475, &quot;y&quot;: 0.6923076923076911, &quot;z&quot;: -9.885403172157837}, {&quot;x&quot;: -0.8461538461538475, &quot;y&quot;: 0.8461538461538449, &quot;z&quot;: -9.648716781625293}, {&quot;x&quot;: -0.8461538461538475, &quot;y&quot;: 0.9999999999999988, &quot;z&quot;: -9.364693112986238}, {&quot;x&quot;: -0.8461538461538475, &quot;y&quot;: 1.1538461538461526, &quot;z&quot;: -9.033332166240676}, {&quot;x&quot;: -0.8461538461538475, &quot;y&quot;: 1.3076923076923066, &quot;z&quot;: -8.654633941388607}, {&quot;x&quot;: -0.8461538461538475, &quot;y&quot;: 1.4615384615384603, &quot;z&quot;: -8.228598438430026}, {&quot;x&quot;: -0.8461538461538475, &quot;y&quot;: 1.615384615384614, &quot;z&quot;: -7.755225657364939}, {&quot;x&quot;: -0.8461538461538475, &quot;y&quot;: 1.7692307692307678, &quot;z&quot;: -7.234515598193342}, {&quot;x&quot;: -0.8461538461538475, &quot;y&quot;: 1.9230769230769216, &quot;z&quot;: -6.666468260915236}, {&quot;x&quot;: -0.8461538461538475, &quot;y&quot;: 2.0769230769230753, &quot;z&quot;: -6.051083645530622}, {&quot;x&quot;: -0.8461538461538475, &quot;y&quot;: 2.230769230769229, &quot;z&quot;: -5.388361752039498}, {&quot;x&quot;: -0.8461538461538475, &quot;y&quot;: 2.384615384615383, &quot;z&quot;: -4.6783025804418665}, {&quot;x&quot;: -0.8461538461538475, &quot;y&quot;: 2.5384615384615365, &quot;z&quot;: -3.920906130737725}, {&quot;x&quot;: -0.8461538461538475, &quot;y&quot;: 2.6923076923076903, &quot;z&quot;: -3.1161724029270754}, {&quot;x&quot;: -0.8461538461538475, &quot;y&quot;: 2.846153846153844, &quot;z&quot;: -2.2641013970099166}, {&quot;x&quot;: -0.8461538461538475, &quot;y&quot;: 3.0, &quot;z&quot;: -1.3646931129862363}, {&quot;x&quot;: -0.6923076923076936, &quot;y&quot;: -2.8461538461538463, &quot;z&quot;: -2.6912573089177503}, {&quot;x&quot;: -0.6923076923076936, &quot;y&quot;: -3.0, &quot;z&quot;: -1.7918490248940824}, {&quot;x&quot;: -0.6923076923076936, &quot;y&quot;: -2.6923076923076925, &quot;z&quot;: -3.543328314834911}, {&quot;x&quot;: -0.6923076923076936, &quot;y&quot;: -2.5384615384615388, &quot;z&quot;: -4.3480620426455605}, {&quot;x&quot;: -0.6923076923076936, &quot;y&quot;: -2.384615384615385, &quot;z&quot;: -5.105458492349702}, {&quot;x&quot;: -0.6923076923076936, &quot;y&quot;: -2.2307692307692313, &quot;z&quot;: -5.815517663947334}, {&quot;x&quot;: -0.6923076923076936, &quot;y&quot;: -2.0769230769230775, &quot;z&quot;: -6.478239557438458}, {&quot;x&quot;: -0.6923076923076936, &quot;y&quot;: -1.9230769230769238, &quot;z&quot;: -7.093624172823074}, {&quot;x&quot;: -0.6923076923076936, &quot;y&quot;: -1.76923076923077, &quot;z&quot;: -7.66167151010118}, {&quot;x&quot;: -0.6923076923076936, &quot;y&quot;: -1.6153846153846163, &quot;z&quot;: -8.182381569272778}, {&quot;x&quot;: -0.6923076923076936, &quot;y&quot;: -1.4615384615384626, &quot;z&quot;: -8.655754350337865}, {&quot;x&quot;: -0.6923076923076936, &quot;y&quot;: -1.3076923076923088, &quot;z&quot;: -9.081789853296446}, {&quot;x&quot;: -0.6923076923076936, &quot;y&quot;: -1.153846153846155, &quot;z&quot;: -9.460488078148519}, {&quot;x&quot;: -0.6923076923076936, &quot;y&quot;: -1.0000000000000013, &quot;z&quot;: -9.79184902489408}, {&quot;x&quot;: -0.6923076923076936, &quot;y&quot;: -0.8461538461538475, &quot;z&quot;: -10.075872693533134}, {&quot;x&quot;: -0.6923076923076936, &quot;y&quot;: -0.6923076923076936, &quot;z&quot;: -10.31255908406568}, {&quot;x&quot;: -0.6923076923076936, &quot;y&quot;: -0.5384615384615398, &quot;z&quot;: -10.501908196491714}, {&quot;x&quot;: -0.6923076923076936, &quot;y&quot;: -0.3846153846153859, &quot;z&quot;: -10.643920030811241}, {&quot;x&quot;: -0.6923076923076936, &quot;y&quot;: -0.23076923076923206, &quot;z&quot;: -10.73859458702426}, {&quot;x&quot;: -0.6923076923076936, &quot;y&quot;: -0.0769230769230782, &quot;z&quot;: -10.785931865130769}, {&quot;x&quot;: -0.6923076923076936, &quot;y&quot;: 0.07692307692307565, &quot;z&quot;: -10.785931865130769}, {&quot;x&quot;: -0.6923076923076936, &quot;y&quot;: 0.2307692307692295, &quot;z&quot;: -10.738594587024261}, {&quot;x&quot;: -0.6923076923076936, &quot;y&quot;: 0.38461538461538336, &quot;z&quot;: -10.643920030811243}, {&quot;x&quot;: -0.6923076923076936, &quot;y&quot;: 0.5384615384615372, &quot;z&quot;: -10.501908196491717}, {&quot;x&quot;: -0.6923076923076936, &quot;y&quot;: 0.6923076923076911, &quot;z&quot;: -10.312559084065683}, {&quot;x&quot;: -0.6923076923076936, &quot;y&quot;: 0.8461538461538449, &quot;z&quot;: -10.075872693533139}, {&quot;x&quot;: -0.6923076923076936, &quot;y&quot;: 0.9999999999999988, &quot;z&quot;: -9.791849024894084}, {&quot;x&quot;: -0.6923076923076936, &quot;y&quot;: 1.1538461538461526, &quot;z&quot;: -9.460488078148522}, {&quot;x&quot;: -0.6923076923076936, &quot;y&quot;: 1.3076923076923066, &quot;z&quot;: -9.081789853296453}, {&quot;x&quot;: -0.6923076923076936, &quot;y&quot;: 1.4615384615384603, &quot;z&quot;: -8.655754350337872}, {&quot;x&quot;: -0.6923076923076936, &quot;y&quot;: 1.615384615384614, &quot;z&quot;: -8.182381569272785}, {&quot;x&quot;: -0.6923076923076936, &quot;y&quot;: 1.7692307692307678, &quot;z&quot;: -7.661671510101188}, {&quot;x&quot;: -0.6923076923076936, &quot;y&quot;: 1.9230769230769216, &quot;z&quot;: -7.093624172823082}, {&quot;x&quot;: -0.6923076923076936, &quot;y&quot;: 2.0769230769230753, &quot;z&quot;: -6.478239557438468}, {&quot;x&quot;: -0.6923076923076936, &quot;y&quot;: 2.230769230769229, &quot;z&quot;: -5.815517663947344}, {&quot;x&quot;: -0.6923076923076936, &quot;y&quot;: 2.384615384615383, &quot;z&quot;: -5.105458492349713}, {&quot;x&quot;: -0.6923076923076936, &quot;y&quot;: 2.5384615384615365, &quot;z&quot;: -4.348062042645571}, {&quot;x&quot;: -0.6923076923076936, &quot;y&quot;: 2.6923076923076903, &quot;z&quot;: -3.5433283148349215}, {&quot;x&quot;: -0.6923076923076936, &quot;y&quot;: 2.846153846153844, &quot;z&quot;: -2.6912573089177627}, {&quot;x&quot;: -0.6923076923076936, &quot;y&quot;: 3.0, &quot;z&quot;: -1.7918490248940824}, {&quot;x&quot;: -0.5384615384615398, &quot;y&quot;: -2.8461538461538463, &quot;z&quot;: -3.113651482791214}, {&quot;x&quot;: -0.5384615384615398, &quot;y&quot;: -3.0, &quot;z&quot;: -2.214243198767546}, {&quot;x&quot;: -0.5384615384615398, &quot;y&quot;: -2.6923076923076925, &quot;z&quot;: -3.9657224887083746}, {&quot;x&quot;: -0.5384615384615398, &quot;y&quot;: -2.5384615384615388, &quot;z&quot;: -4.770456216519025}, {&quot;x&quot;: -0.5384615384615398, &quot;y&quot;: -2.384615384615385, &quot;z&quot;: -5.527852666223167}, {&quot;x&quot;: -0.5384615384615398, &quot;y&quot;: -2.2307692307692313, &quot;z&quot;: -6.237911837820799}, {&quot;x&quot;: -0.5384615384615398, &quot;y&quot;: -2.0769230769230775, &quot;z&quot;: -6.900633731311923}, {&quot;x&quot;: -0.5384615384615398, &quot;y&quot;: -1.9230769230769238, &quot;z&quot;: -7.516018346696538}, {&quot;x&quot;: -0.5384615384615398, &quot;y&quot;: -1.76923076923077, &quot;z&quot;: -8.084065683974645}, {&quot;x&quot;: -0.5384615384615398, &quot;y&quot;: -1.6153846153846163, &quot;z&quot;: -8.604775743146241}, {&quot;x&quot;: -0.5384615384615398, &quot;y&quot;: -1.4615384615384626, &quot;z&quot;: -9.078148524211331}, {&quot;x&quot;: -0.5384615384615398, &quot;y&quot;: -1.3076923076923088, &quot;z&quot;: -9.504184027169911}, {&quot;x&quot;: -0.5384615384615398, &quot;y&quot;: -1.153846153846155, &quot;z&quot;: -9.882882252021982}, {&quot;x&quot;: -0.5384615384615398, &quot;y&quot;: -1.0000000000000013, &quot;z&quot;: -10.214243198767544}, {&quot;x&quot;: -0.5384615384615398, &quot;y&quot;: -0.8461538461538475, &quot;z&quot;: -10.498266867406597}, {&quot;x&quot;: -0.5384615384615398, &quot;y&quot;: -0.6923076923076936, &quot;z&quot;: -10.734953257939143}, {&quot;x&quot;: -0.5384615384615398, &quot;y&quot;: -0.5384615384615398, &quot;z&quot;: -10.92430237036518}, {&quot;x&quot;: -0.5384615384615398, &quot;y&quot;: -0.3846153846153859, &quot;z&quot;: -11.066314204684705}, {&quot;x&quot;: -0.5384615384615398, &quot;y&quot;: -0.23076923076923206, &quot;z&quot;: -11.160988760897723}, {&quot;x&quot;: -0.5384615384615398, &quot;y&quot;: -0.0769230769230782, &quot;z&quot;: -11.208326039004232}, {&quot;x&quot;: -0.5384615384615398, &quot;y&quot;: 0.07692307692307565, &quot;z&quot;: -11.208326039004234}, {&quot;x&quot;: -0.5384615384615398, &quot;y&quot;: 0.2307692307692295, &quot;z&quot;: -11.160988760897725}, {&quot;x&quot;: -0.5384615384615398, &quot;y&quot;: 0.38461538461538336, &quot;z&quot;: -11.066314204684707}, {&quot;x&quot;: -0.5384615384615398, &quot;y&quot;: 0.5384615384615372, &quot;z&quot;: -10.924302370365181}, {&quot;x&quot;: -0.5384615384615398, &quot;y&quot;: 0.6923076923076911, &quot;z&quot;: -10.734953257939146}, {&quot;x&quot;: -0.5384615384615398, &quot;y&quot;: 0.8461538461538449, &quot;z&quot;: -10.498266867406603}, {&quot;x&quot;: -0.5384615384615398, &quot;y&quot;: 0.9999999999999988, &quot;z&quot;: -10.21424319876755}, {&quot;x&quot;: -0.5384615384615398, &quot;y&quot;: 1.1538461538461526, &quot;z&quot;: -9.882882252021988}, {&quot;x&quot;: -0.5384615384615398, &quot;y&quot;: 1.3076923076923066, &quot;z&quot;: -9.504184027169917}, {&quot;x&quot;: -0.5384615384615398, &quot;y&quot;: 1.4615384615384603, &quot;z&quot;: -9.078148524211336}, {&quot;x&quot;: -0.5384615384615398, &quot;y&quot;: 1.615384615384614, &quot;z&quot;: -8.604775743146249}, {&quot;x&quot;: -0.5384615384615398, &quot;y&quot;: 1.7692307692307678, &quot;z&quot;: -8.084065683974652}, {&quot;x&quot;: -0.5384615384615398, &quot;y&quot;: 1.9230769230769216, &quot;z&quot;: -7.516018346696547}, {&quot;x&quot;: -0.5384615384615398, &quot;y&quot;: 2.0769230769230753, &quot;z&quot;: -6.900633731311933}, {&quot;x&quot;: -0.5384615384615398, &quot;y&quot;: 2.230769230769229, &quot;z&quot;: -6.237911837820809}, {&quot;x&quot;: -0.5384615384615398, &quot;y&quot;: 2.384615384615383, &quot;z&quot;: -5.527852666223177}, {&quot;x&quot;: -0.5384615384615398, &quot;y&quot;: 2.5384615384615365, &quot;z&quot;: -4.770456216519036}, {&quot;x&quot;: -0.5384615384615398, &quot;y&quot;: 2.6923076923076903, &quot;z&quot;: -3.9657224887083853}, {&quot;x&quot;: -0.5384615384615398, &quot;y&quot;: 2.846153846153844, &quot;z&quot;: -3.1136514827912265}, {&quot;x&quot;: -0.5384615384615398, &quot;y&quot;: 3.0, &quot;z&quot;: -2.214243198767546}, {&quot;x&quot;: -0.3846153846153859, &quot;y&quot;: -2.8461538461538463, &quot;z&quot;: -3.4775042890655055}, {&quot;x&quot;: -0.3846153846153859, &quot;y&quot;: -3.0, &quot;z&quot;: -2.5780960050418376}, {&quot;x&quot;: -0.3846153846153859, &quot;y&quot;: -2.6923076923076925, &quot;z&quot;: -4.329575294982665}, {&quot;x&quot;: -0.3846153846153859, &quot;y&quot;: -2.5384615384615388, &quot;z&quot;: -5.134309022793316}, {&quot;x&quot;: -0.3846153846153859, &quot;y&quot;: -2.384615384615385, &quot;z&quot;: -5.891705472497457}, {&quot;x&quot;: -0.3846153846153859, &quot;y&quot;: -2.2307692307692313, &quot;z&quot;: -6.6017646440950895}, {&quot;x&quot;: -0.3846153846153859, &quot;y&quot;: -2.0769230769230775, &quot;z&quot;: -7.2644865375862135}, {&quot;x&quot;: -0.3846153846153859, &quot;y&quot;: -1.9230769230769238, &quot;z&quot;: -7.8798711529708285}, {&quot;x&quot;: -0.3846153846153859, &quot;y&quot;: -1.76923076923077, &quot;z&quot;: -8.447918490248934}, {&quot;x&quot;: -0.3846153846153859, &quot;y&quot;: -1.6153846153846163, &quot;z&quot;: -8.968628549420533}, {&quot;x&quot;: -0.3846153846153859, &quot;y&quot;: -1.4615384615384626, &quot;z&quot;: -9.44200133048562}, {&quot;x&quot;: -0.3846153846153859, &quot;y&quot;: -1.3076923076923088, &quot;z&quot;: -9.8680368334442}, {&quot;x&quot;: -0.3846153846153859, &quot;y&quot;: -1.153846153846155, &quot;z&quot;: -10.246735058296272}, {&quot;x&quot;: -0.3846153846153859, &quot;y&quot;: -1.0000000000000013, &quot;z&quot;: -10.578096005041836}, {&quot;x&quot;: -0.3846153846153859, &quot;y&quot;: -0.8461538461538475, &quot;z&quot;: -10.862119673680889}, {&quot;x&quot;: -0.3846153846153859, &quot;y&quot;: -0.6923076923076936, &quot;z&quot;: -11.098806064213433}, {&quot;x&quot;: -0.3846153846153859, &quot;y&quot;: -0.5384615384615398, &quot;z&quot;: -11.288155176639469}, {&quot;x&quot;: -0.3846153846153859, &quot;y&quot;: -0.3846153846153859, &quot;z&quot;: -11.430167010958996}, {&quot;x&quot;: -0.3846153846153859, &quot;y&quot;: -0.23076923076923206, &quot;z&quot;: -11.524841567172015}, {&quot;x&quot;: -0.3846153846153859, &quot;y&quot;: -0.0769230769230782, &quot;z&quot;: -11.572178845278524}, {&quot;x&quot;: -0.3846153846153859, &quot;y&quot;: 0.07692307692307565, &quot;z&quot;: -11.572178845278524}, {&quot;x&quot;: -0.3846153846153859, &quot;y&quot;: 0.2307692307692295, &quot;z&quot;: -11.524841567172016}, {&quot;x&quot;: -0.3846153846153859, &quot;y&quot;: 0.38461538461538336, &quot;z&quot;: -11.430167010958998}, {&quot;x&quot;: -0.3846153846153859, &quot;y&quot;: 0.5384615384615372, &quot;z&quot;: -11.288155176639473}, {&quot;x&quot;: -0.3846153846153859, &quot;y&quot;: 0.6923076923076911, &quot;z&quot;: -11.098806064213436}, {&quot;x&quot;: -0.3846153846153859, &quot;y&quot;: 0.8461538461538449, &quot;z&quot;: -10.862119673680892}, {&quot;x&quot;: -0.3846153846153859, &quot;y&quot;: 0.9999999999999988, &quot;z&quot;: -10.57809600504184}, {&quot;x&quot;: -0.3846153846153859, &quot;y&quot;: 1.1538461538461526, &quot;z&quot;: -10.246735058296277}, {&quot;x&quot;: -0.3846153846153859, &quot;y&quot;: 1.3076923076923066, &quot;z&quot;: -9.868036833444208}, {&quot;x&quot;: -0.3846153846153859, &quot;y&quot;: 1.4615384615384603, &quot;z&quot;: -9.442001330485628}, {&quot;x&quot;: -0.3846153846153859, &quot;y&quot;: 1.615384615384614, &quot;z&quot;: -8.96862854942054}, {&quot;x&quot;: -0.3846153846153859, &quot;y&quot;: 1.7692307692307678, &quot;z&quot;: -8.447918490248943}, {&quot;x&quot;: -0.3846153846153859, &quot;y&quot;: 1.9230769230769216, &quot;z&quot;: -7.879871152970837}, {&quot;x&quot;: -0.3846153846153859, &quot;y&quot;: 2.0769230769230753, &quot;z&quot;: -7.264486537586223}, {&quot;x&quot;: -0.3846153846153859, &quot;y&quot;: 2.230769230769229, &quot;z&quot;: -6.601764644095099}, {&quot;x&quot;: -0.3846153846153859, &quot;y&quot;: 2.384615384615383, &quot;z&quot;: -5.891705472497468}, {&quot;x&quot;: -0.3846153846153859, &quot;y&quot;: 2.5384615384615365, &quot;z&quot;: -5.134309022793326}, {&quot;x&quot;: -0.3846153846153859, &quot;y&quot;: 2.6923076923076903, &quot;z&quot;: -4.329575294982677}, {&quot;x&quot;: -0.3846153846153859, &quot;y&quot;: 2.846153846153844, &quot;z&quot;: -3.477504289065518}, {&quot;x&quot;: -0.3846153846153859, &quot;y&quot;: 3.0, &quot;z&quot;: -2.5780960050418376}, {&quot;x&quot;: -0.23076923076923206, &quot;y&quot;: -2.8461538461538463, &quot;z&quot;: -3.7424810055670292}, {&quot;x&quot;: -0.23076923076923206, &quot;y&quot;: -3.0, &quot;z&quot;: -2.8430727215433613}, {&quot;x&quot;: -0.23076923076923206, &quot;y&quot;: -2.6923076923076925, &quot;z&quot;: -4.594552011484189}, {&quot;x&quot;: -0.23076923076923206, &quot;y&quot;: -2.5384615384615388, &quot;z&quot;: -5.3992857392948395}, {&quot;x&quot;: -0.23076923076923206, &quot;y&quot;: -2.384615384615385, &quot;z&quot;: -6.156682188998981}, {&quot;x&quot;: -0.23076923076923206, &quot;y&quot;: -2.2307692307692313, &quot;z&quot;: -6.866741360596613}, {&quot;x&quot;: -0.23076923076923206, &quot;y&quot;: -2.0769230769230775, &quot;z&quot;: -7.529463254087737}, {&quot;x&quot;: -0.23076923076923206, &quot;y&quot;: -1.9230769230769238, &quot;z&quot;: -8.144847869472354}, {&quot;x&quot;: -0.23076923076923206, &quot;y&quot;: -1.76923076923077, &quot;z&quot;: -8.71289520675046}, {&quot;x&quot;: -0.23076923076923206, &quot;y&quot;: -1.6153846153846163, &quot;z&quot;: -9.233605265922057}, {&quot;x&quot;: -0.23076923076923206, &quot;y&quot;: -1.4615384615384626, &quot;z&quot;: -9.706978046987146}, {&quot;x&quot;: -0.23076923076923206, &quot;y&quot;: -1.3076923076923088, &quot;z&quot;: -10.133013549945726}, {&quot;x&quot;: -0.23076923076923206, &quot;y&quot;: -1.153846153846155, &quot;z&quot;: -10.511711774797796}, {&quot;x&quot;: -0.23076923076923206, &quot;y&quot;: -1.0000000000000013, &quot;z&quot;: -10.84307272154336}, {&quot;x&quot;: -0.23076923076923206, &quot;y&quot;: -0.8461538461538475, &quot;z&quot;: -11.127096390182412}, {&quot;x&quot;: -0.23076923076923206, &quot;y&quot;: -0.6923076923076936, &quot;z&quot;: -11.363782780714958}, {&quot;x&quot;: -0.23076923076923206, &quot;y&quot;: -0.5384615384615398, &quot;z&quot;: -11.553131893140993}, {&quot;x&quot;: -0.23076923076923206, &quot;y&quot;: -0.3846153846153859, &quot;z&quot;: -11.69514372746052}, {&quot;x&quot;: -0.23076923076923206, &quot;y&quot;: -0.23076923076923206, &quot;z&quot;: -11.789818283673538}, {&quot;x&quot;: -0.23076923076923206, &quot;y&quot;: -0.0769230769230782, &quot;z&quot;: -11.837155561780047}, {&quot;x&quot;: -0.23076923076923206, &quot;y&quot;: 0.07692307692307565, &quot;z&quot;: -11.837155561780047}, {&quot;x&quot;: -0.23076923076923206, &quot;y&quot;: 0.2307692307692295, &quot;z&quot;: -11.78981828367354}, {&quot;x&quot;: -0.23076923076923206, &quot;y&quot;: 0.38461538461538336, &quot;z&quot;: -11.695143727460522}, {&quot;x&quot;: -0.23076923076923206, &quot;y&quot;: 0.5384615384615372, &quot;z&quot;: -11.553131893140996}, {&quot;x&quot;: -0.23076923076923206, &quot;y&quot;: 0.6923076923076911, &quot;z&quot;: -11.363782780714962}, {&quot;x&quot;: -0.23076923076923206, &quot;y&quot;: 0.8461538461538449, &quot;z&quot;: -11.127096390182416}, {&quot;x&quot;: -0.23076923076923206, &quot;y&quot;: 0.9999999999999988, &quot;z&quot;: -10.843072721543365}, {&quot;x&quot;: -0.23076923076923206, &quot;y&quot;: 1.1538461538461526, &quot;z&quot;: -10.511711774797803}, {&quot;x&quot;: -0.23076923076923206, &quot;y&quot;: 1.3076923076923066, &quot;z&quot;: -10.133013549945732}, {&quot;x&quot;: -0.23076923076923206, &quot;y&quot;: 1.4615384615384603, &quot;z&quot;: -9.706978046987153}, {&quot;x&quot;: -0.23076923076923206, &quot;y&quot;: 1.615384615384614, &quot;z&quot;: -9.233605265922064}, {&quot;x&quot;: -0.23076923076923206, &quot;y&quot;: 1.7692307692307678, &quot;z&quot;: -8.712895206750467}, {&quot;x&quot;: -0.23076923076923206, &quot;y&quot;: 1.9230769230769216, &quot;z&quot;: -8.144847869472361}, {&quot;x&quot;: -0.23076923076923206, &quot;y&quot;: 2.0769230769230753, &quot;z&quot;: -7.529463254087747}, {&quot;x&quot;: -0.23076923076923206, &quot;y&quot;: 2.230769230769229, &quot;z&quot;: -6.866741360596623}, {&quot;x&quot;: -0.23076923076923206, &quot;y&quot;: 2.384615384615383, &quot;z&quot;: -6.156682188998992}, {&quot;x&quot;: -0.23076923076923206, &quot;y&quot;: 2.5384615384615365, &quot;z&quot;: -5.39928573929485}, {&quot;x&quot;: -0.23076923076923206, &quot;y&quot;: 2.6923076923076903, &quot;z&quot;: -4.5945520114842004}, {&quot;x&quot;: -0.23076923076923206, &quot;y&quot;: 2.846153846153844, &quot;z&quot;: -3.7424810055670417}, {&quot;x&quot;: -0.23076923076923206, &quot;y&quot;: 3.0, &quot;z&quot;: -2.8430727215433613}, {&quot;x&quot;: -0.0769230769230782, &quot;y&quot;: -2.8461538461538463, &quot;z&quot;: -3.8816918175133903}, {&quot;x&quot;: -0.0769230769230782, &quot;y&quot;: -3.0, &quot;z&quot;: -2.9822835334897224}, {&quot;x&quot;: -0.0769230769230782, &quot;y&quot;: -2.6923076923076925, &quot;z&quot;: -4.733762823430551}, {&quot;x&quot;: -0.0769230769230782, &quot;y&quot;: -2.5384615384615388, &quot;z&quot;: -5.538496551241201}, {&quot;x&quot;: -0.0769230769230782, &quot;y&quot;: -2.384615384615385, &quot;z&quot;: -6.295893000945343}, {&quot;x&quot;: -0.0769230769230782, &quot;y&quot;: -2.2307692307692313, &quot;z&quot;: -7.005952172542975}, {&quot;x&quot;: -0.0769230769230782, &quot;y&quot;: -2.0769230769230775, &quot;z&quot;: -7.668674066034099}, {&quot;x&quot;: -0.0769230769230782, &quot;y&quot;: -1.9230769230769238, &quot;z&quot;: -8.284058681418715}, {&quot;x&quot;: -0.0769230769230782, &quot;y&quot;: -1.76923076923077, &quot;z&quot;: -8.852106018696821}, {&quot;x&quot;: -0.0769230769230782, &quot;y&quot;: -1.6153846153846163, &quot;z&quot;: -9.372816077868418}, {&quot;x&quot;: -0.0769230769230782, &quot;y&quot;: -1.4615384615384626, &quot;z&quot;: -9.846188858933507}, {&quot;x&quot;: -0.0769230769230782, &quot;y&quot;: -1.3076923076923088, &quot;z&quot;: -10.272224361892087}, {&quot;x&quot;: -0.0769230769230782, &quot;y&quot;: -1.153846153846155, &quot;z&quot;: -10.650922586744159}, {&quot;x&quot;: -0.0769230769230782, &quot;y&quot;: -1.0000000000000013, &quot;z&quot;: -10.98228353348972}, {&quot;x&quot;: -0.0769230769230782, &quot;y&quot;: -0.8461538461538475, &quot;z&quot;: -11.266307202128774}, {&quot;x&quot;: -0.0769230769230782, &quot;y&quot;: -0.6923076923076936, &quot;z&quot;: -11.50299359266132}, {&quot;x&quot;: -0.0769230769230782, &quot;y&quot;: -0.5384615384615398, &quot;z&quot;: -11.692342705087356}, {&quot;x&quot;: -0.0769230769230782, &quot;y&quot;: -0.3846153846153859, &quot;z&quot;: -11.834354539406881}, {&quot;x&quot;: -0.0769230769230782, &quot;y&quot;: -0.23076923076923206, &quot;z&quot;: -11.9290290956199}, {&quot;x&quot;: -0.0769230769230782, &quot;y&quot;: -0.0769230769230782, &quot;z&quot;: -11.976366373726409}, {&quot;x&quot;: -0.0769230769230782, &quot;y&quot;: 0.07692307692307565, &quot;z&quot;: -11.97636637372641}, {&quot;x&quot;: -0.0769230769230782, &quot;y&quot;: 0.2307692307692295, &quot;z&quot;: -11.929029095619901}, {&quot;x&quot;: -0.0769230769230782, &quot;y&quot;: 0.38461538461538336, &quot;z&quot;: -11.834354539406885}, {&quot;x&quot;: -0.0769230769230782, &quot;y&quot;: 0.5384615384615372, &quot;z&quot;: -11.692342705087357}, {&quot;x&quot;: -0.0769230769230782, &quot;y&quot;: 0.6923076923076911, &quot;z&quot;: -11.502993592661323}, {&quot;x&quot;: -0.0769230769230782, &quot;y&quot;: 0.8461538461538449, &quot;z&quot;: -11.266307202128779}, {&quot;x&quot;: -0.0769230769230782, &quot;y&quot;: 0.9999999999999988, &quot;z&quot;: -10.982283533489726}, {&quot;x&quot;: -0.0769230769230782, &quot;y&quot;: 1.1538461538461526, &quot;z&quot;: -10.650922586744164}, {&quot;x&quot;: -0.0769230769230782, &quot;y&quot;: 1.3076923076923066, &quot;z&quot;: -10.272224361892093}, {&quot;x&quot;: -0.0769230769230782, &quot;y&quot;: 1.4615384615384603, &quot;z&quot;: -9.846188858933514}, {&quot;x&quot;: -0.0769230769230782, &quot;y&quot;: 1.615384615384614, &quot;z&quot;: -9.372816077868425}, {&quot;x&quot;: -0.0769230769230782, &quot;y&quot;: 1.7692307692307678, &quot;z&quot;: -8.85210601869683}, {&quot;x&quot;: -0.0769230769230782, &quot;y&quot;: 1.9230769230769216, &quot;z&quot;: -8.284058681418724}, {&quot;x&quot;: -0.0769230769230782, &quot;y&quot;: 2.0769230769230753, &quot;z&quot;: -7.668674066034109}, {&quot;x&quot;: -0.0769230769230782, &quot;y&quot;: 2.230769230769229, &quot;z&quot;: -7.005952172542985}, {&quot;x&quot;: -0.0769230769230782, &quot;y&quot;: 2.384615384615383, &quot;z&quot;: -6.2958930009453535}, {&quot;x&quot;: -0.0769230769230782, &quot;y&quot;: 2.5384615384615365, &quot;z&quot;: -5.538496551241212}, {&quot;x&quot;: -0.0769230769230782, &quot;y&quot;: 2.6923076923076903, &quot;z&quot;: -4.733762823430562}, {&quot;x&quot;: -0.0769230769230782, &quot;y&quot;: 2.846153846153844, &quot;z&quot;: -3.8816918175134028}, {&quot;x&quot;: -0.0769230769230782, &quot;y&quot;: 3.0, &quot;z&quot;: -2.9822835334897224}, {&quot;x&quot;: 0.07692307692307565, &quot;y&quot;: -2.8461538461538463, &quot;z&quot;: -3.881691817513392}, {&quot;x&quot;: 0.07692307692307565, &quot;y&quot;: -3.0, &quot;z&quot;: -2.982283533489724}, {&quot;x&quot;: 0.07692307692307565, &quot;y&quot;: -2.6923076923076925, &quot;z&quot;: -4.733762823430552}, {&quot;x&quot;: 0.07692307692307565, &quot;y&quot;: -2.5384615384615388, &quot;z&quot;: -5.538496551241202}, {&quot;x&quot;: 0.07692307692307565, &quot;y&quot;: -2.384615384615385, &quot;z&quot;: -6.295893000945344}, {&quot;x&quot;: 0.07692307692307565, &quot;y&quot;: -2.2307692307692313, &quot;z&quot;: -7.005952172542976}, {&quot;x&quot;: 0.07692307692307565, &quot;y&quot;: -2.0769230769230775, &quot;z&quot;: -7.6686740660341}, {&quot;x&quot;: 0.07692307692307565, &quot;y&quot;: -1.9230769230769238, &quot;z&quot;: -8.284058681418715}, {&quot;x&quot;: 0.07692307692307565, &quot;y&quot;: -1.76923076923077, &quot;z&quot;: -8.852106018696823}, {&quot;x&quot;: 0.07692307692307565, &quot;y&quot;: -1.6153846153846163, &quot;z&quot;: -9.37281607786842}, {&quot;x&quot;: 0.07692307692307565, &quot;y&quot;: -1.4615384615384626, &quot;z&quot;: -9.846188858933509}, {&quot;x&quot;: 0.07692307692307565, &quot;y&quot;: -1.3076923076923088, &quot;z&quot;: -10.27222436189209}, {&quot;x&quot;: 0.07692307692307565, &quot;y&quot;: -1.153846153846155, &quot;z&quot;: -10.650922586744159}, {&quot;x&quot;: 0.07692307692307565, &quot;y&quot;: -1.0000000000000013, &quot;z&quot;: -10.982283533489722}, {&quot;x&quot;: 0.07692307692307565, &quot;y&quot;: -0.8461538461538475, &quot;z&quot;: -11.266307202128775}, {&quot;x&quot;: 0.07692307692307565, &quot;y&quot;: -0.6923076923076936, &quot;z&quot;: -11.502993592661321}, {&quot;x&quot;: 0.07692307692307565, &quot;y&quot;: -0.5384615384615398, &quot;z&quot;: -11.692342705087356}, {&quot;x&quot;: 0.07692307692307565, &quot;y&quot;: -0.3846153846153859, &quot;z&quot;: -11.834354539406883}, {&quot;x&quot;: 0.07692307692307565, &quot;y&quot;: -0.23076923076923206, &quot;z&quot;: -11.929029095619901}, {&quot;x&quot;: 0.07692307692307565, &quot;y&quot;: -0.0769230769230782, &quot;z&quot;: -11.97636637372641}, {&quot;x&quot;: 0.07692307692307565, &quot;y&quot;: 0.07692307692307565, &quot;z&quot;: -11.97636637372641}, {&quot;x&quot;: 0.07692307692307565, &quot;y&quot;: 0.2307692307692295, &quot;z&quot;: -11.929029095619903}, {&quot;x&quot;: 0.07692307692307565, &quot;y&quot;: 0.38461538461538336, &quot;z&quot;: -11.834354539406885}, {&quot;x&quot;: 0.07692307692307565, &quot;y&quot;: 0.5384615384615372, &quot;z&quot;: -11.69234270508736}, {&quot;x&quot;: 0.07692307692307565, &quot;y&quot;: 0.6923076923076911, &quot;z&quot;: -11.502993592661324}, {&quot;x&quot;: 0.07692307692307565, &quot;y&quot;: 0.8461538461538449, &quot;z&quot;: -11.266307202128779}, {&quot;x&quot;: 0.07692307692307565, &quot;y&quot;: 0.9999999999999988, &quot;z&quot;: -10.982283533489728}, {&quot;x&quot;: 0.07692307692307565, &quot;y&quot;: 1.1538461538461526, &quot;z&quot;: -10.650922586744166}, {&quot;x&quot;: 0.07692307692307565, &quot;y&quot;: 1.3076923076923066, &quot;z&quot;: -10.272224361892095}, {&quot;x&quot;: 0.07692307692307565, &quot;y&quot;: 1.4615384615384603, &quot;z&quot;: -9.846188858933514}, {&quot;x&quot;: 0.07692307692307565, &quot;y&quot;: 1.615384615384614, &quot;z&quot;: -9.372816077868427}, {&quot;x&quot;: 0.07692307692307565, &quot;y&quot;: 1.7692307692307678, &quot;z&quot;: -8.85210601869683}, {&quot;x&quot;: 0.07692307692307565, &quot;y&quot;: 1.9230769230769216, &quot;z&quot;: -8.284058681418724}, {&quot;x&quot;: 0.07692307692307565, &quot;y&quot;: 2.0769230769230753, &quot;z&quot;: -7.66867406603411}, {&quot;x&quot;: 0.07692307692307565, &quot;y&quot;: 2.230769230769229, &quot;z&quot;: -7.005952172542986}, {&quot;x&quot;: 0.07692307692307565, &quot;y&quot;: 2.384615384615383, &quot;z&quot;: -6.295893000945354}, {&quot;x&quot;: 0.07692307692307565, &quot;y&quot;: 2.5384615384615365, &quot;z&quot;: -5.538496551241213}, {&quot;x&quot;: 0.07692307692307565, &quot;y&quot;: 2.6923076923076903, &quot;z&quot;: -4.733762823430563}, {&quot;x&quot;: 0.07692307692307565, &quot;y&quot;: 2.846153846153844, &quot;z&quot;: -3.8816918175134045}, {&quot;x&quot;: 0.07692307692307565, &quot;y&quot;: 3.0, &quot;z&quot;: -2.982283533489724}, {&quot;x&quot;: 0.2307692307692295, &quot;y&quot;: -2.8461538461538463, &quot;z&quot;: -3.742481005567033}, {&quot;x&quot;: 0.2307692307692295, &quot;y&quot;: -3.0, &quot;z&quot;: -2.843072721543365}, {&quot;x&quot;: 0.2307692307692295, &quot;y&quot;: -2.6923076923076925, &quot;z&quot;: -4.5945520114841925}, {&quot;x&quot;: 0.2307692307692295, &quot;y&quot;: -2.5384615384615388, &quot;z&quot;: -5.399285739294843}, {&quot;x&quot;: 0.2307692307692295, &quot;y&quot;: -2.384615384615385, &quot;z&quot;: -6.1566821889989845}, {&quot;x&quot;: 0.2307692307692295, &quot;y&quot;: -2.2307692307692313, &quot;z&quot;: -6.866741360596617}, {&quot;x&quot;: 0.2307692307692295, &quot;y&quot;: -2.0769230769230775, &quot;z&quot;: -7.529463254087741}, {&quot;x&quot;: 0.2307692307692295, &quot;y&quot;: -1.9230769230769238, &quot;z&quot;: -8.144847869472356}, {&quot;x&quot;: 0.2307692307692295, &quot;y&quot;: -1.76923076923077, &quot;z&quot;: -8.712895206750463}, {&quot;x&quot;: 0.2307692307692295, &quot;y&quot;: -1.6153846153846163, &quot;z&quot;: -9.23360526592206}, {&quot;x&quot;: 0.2307692307692295, &quot;y&quot;: -1.4615384615384626, &quot;z&quot;: -9.70697804698715}, {&quot;x&quot;: 0.2307692307692295, &quot;y&quot;: -1.3076923076923088, &quot;z&quot;: -10.13301354994573}, {&quot;x&quot;: 0.2307692307692295, &quot;y&quot;: -1.153846153846155, &quot;z&quot;: -10.5117117747978}, {&quot;x&quot;: 0.2307692307692295, &quot;y&quot;: -1.0000000000000013, &quot;z&quot;: -10.843072721543363}, {&quot;x&quot;: 0.2307692307692295, &quot;y&quot;: -0.8461538461538475, &quot;z&quot;: -11.127096390182416}, {&quot;x&quot;: 0.2307692307692295, &quot;y&quot;: -0.6923076923076936, &quot;z&quot;: -11.363782780714962}, {&quot;x&quot;: 0.2307692307692295, &quot;y&quot;: -0.5384615384615398, &quot;z&quot;: -11.553131893140996}, {&quot;x&quot;: 0.2307692307692295, &quot;y&quot;: -0.3846153846153859, &quot;z&quot;: -11.695143727460524}, {&quot;x&quot;: 0.2307692307692295, &quot;y&quot;: -0.23076923076923206, &quot;z&quot;: -11.789818283673542}, {&quot;x&quot;: 0.2307692307692295, &quot;y&quot;: -0.0769230769230782, &quot;z&quot;: -11.837155561780051}, {&quot;x&quot;: 0.2307692307692295, &quot;y&quot;: 0.07692307692307565, &quot;z&quot;: -11.837155561780051}, {&quot;x&quot;: 0.2307692307692295, &quot;y&quot;: 0.2307692307692295, &quot;z&quot;: -11.789818283673544}, {&quot;x&quot;: 0.2307692307692295, &quot;y&quot;: 0.38461538461538336, &quot;z&quot;: -11.695143727460525}, {&quot;x&quot;: 0.2307692307692295, &quot;y&quot;: 0.5384615384615372, &quot;z&quot;: -11.553131893141}, {&quot;x&quot;: 0.2307692307692295, &quot;y&quot;: 0.6923076923076911, &quot;z&quot;: -11.363782780714965}, {&quot;x&quot;: 0.2307692307692295, &quot;y&quot;: 0.8461538461538449, &quot;z&quot;: -11.12709639018242}, {&quot;x&quot;: 0.2307692307692295, &quot;y&quot;: 0.9999999999999988, &quot;z&quot;: -10.843072721543368}, {&quot;x&quot;: 0.2307692307692295, &quot;y&quot;: 1.1538461538461526, &quot;z&quot;: -10.511711774797806}, {&quot;x&quot;: 0.2307692307692295, &quot;y&quot;: 1.3076923076923066, &quot;z&quot;: -10.133013549945735}, {&quot;x&quot;: 0.2307692307692295, &quot;y&quot;: 1.4615384615384603, &quot;z&quot;: -9.706978046987155}, {&quot;x&quot;: 0.2307692307692295, &quot;y&quot;: 1.615384615384614, &quot;z&quot;: -9.233605265922067}, {&quot;x&quot;: 0.2307692307692295, &quot;y&quot;: 1.7692307692307678, &quot;z&quot;: -8.71289520675047}, {&quot;x&quot;: 0.2307692307692295, &quot;y&quot;: 1.9230769230769216, &quot;z&quot;: -8.144847869472365}, {&quot;x&quot;: 0.2307692307692295, &quot;y&quot;: 2.0769230769230753, &quot;z&quot;: -7.529463254087751}, {&quot;x&quot;: 0.2307692307692295, &quot;y&quot;: 2.230769230769229, &quot;z&quot;: -6.8667413605966265}, {&quot;x&quot;: 0.2307692307692295, &quot;y&quot;: 2.384615384615383, &quot;z&quot;: -6.156682188998995}, {&quot;x&quot;: 0.2307692307692295, &quot;y&quot;: 2.5384615384615365, &quot;z&quot;: -5.399285739294854}, {&quot;x&quot;: 0.2307692307692295, &quot;y&quot;: 2.6923076923076903, &quot;z&quot;: -4.594552011484204}, {&quot;x&quot;: 0.2307692307692295, &quot;y&quot;: 2.846153846153844, &quot;z&quot;: -3.742481005567045}, {&quot;x&quot;: 0.2307692307692295, &quot;y&quot;: 3.0, &quot;z&quot;: -2.843072721543365}, {&quot;x&quot;: 0.38461538461538336, &quot;y&quot;: -2.8461538461538463, &quot;z&quot;: -3.477504289065511}, {&quot;x&quot;: 0.38461538461538336, &quot;y&quot;: -3.0, &quot;z&quot;: -2.578096005041843}, {&quot;x&quot;: 0.38461538461538336, &quot;y&quot;: -2.6923076923076925, &quot;z&quot;: -4.3295752949826705}, {&quot;x&quot;: 0.38461538461538336, &quot;y&quot;: -2.5384615384615388, &quot;z&quot;: -5.134309022793321}, {&quot;x&quot;: 0.38461538461538336, &quot;y&quot;: -2.384615384615385, &quot;z&quot;: -5.8917054724974625}, {&quot;x&quot;: 0.38461538461538336, &quot;y&quot;: -2.2307692307692313, &quot;z&quot;: -6.601764644095095}, {&quot;x&quot;: 0.38461538461538336, &quot;y&quot;: -2.0769230769230775, &quot;z&quot;: -7.264486537586219}, {&quot;x&quot;: 0.38461538461538336, &quot;y&quot;: -1.9230769230769238, &quot;z&quot;: -7.879871152970834}, {&quot;x&quot;: 0.38461538461538336, &quot;y&quot;: -1.76923076923077, &quot;z&quot;: -8.447918490248941}, {&quot;x&quot;: 0.38461538461538336, &quot;y&quot;: -1.6153846153846163, &quot;z&quot;: -8.968628549420538}, {&quot;x&quot;: 0.38461538461538336, &quot;y&quot;: -1.4615384615384626, &quot;z&quot;: -9.442001330485628}, {&quot;x&quot;: 0.38461538461538336, &quot;y&quot;: -1.3076923076923088, &quot;z&quot;: -9.868036833444208}, {&quot;x&quot;: 0.38461538461538336, &quot;y&quot;: -1.153846153846155, &quot;z&quot;: -10.246735058296277}, {&quot;x&quot;: 0.38461538461538336, &quot;y&quot;: -1.0000000000000013, &quot;z&quot;: -10.57809600504184}, {&quot;x&quot;: 0.38461538461538336, &quot;y&quot;: -0.8461538461538475, &quot;z&quot;: -10.862119673680894}, {&quot;x&quot;: 0.38461538461538336, &quot;y&quot;: -0.6923076923076936, &quot;z&quot;: -11.098806064213438}, {&quot;x&quot;: 0.38461538461538336, &quot;y&quot;: -0.5384615384615398, &quot;z&quot;: -11.288155176639474}, {&quot;x&quot;: 0.38461538461538336, &quot;y&quot;: -0.3846153846153859, &quot;z&quot;: -11.430167010959002}, {&quot;x&quot;: 0.38461538461538336, &quot;y&quot;: -0.23076923076923206, &quot;z&quot;: -11.52484156717202}, {&quot;x&quot;: 0.38461538461538336, &quot;y&quot;: -0.0769230769230782, &quot;z&quot;: -11.572178845278529}, {&quot;x&quot;: 0.38461538461538336, &quot;y&quot;: 0.07692307692307565, &quot;z&quot;: -11.572178845278529}, {&quot;x&quot;: 0.38461538461538336, &quot;y&quot;: 0.2307692307692295, &quot;z&quot;: -11.524841567172022}, {&quot;x&quot;: 0.38461538461538336, &quot;y&quot;: 0.38461538461538336, &quot;z&quot;: -11.430167010959003}, {&quot;x&quot;: 0.38461538461538336, &quot;y&quot;: 0.5384615384615372, &quot;z&quot;: -11.288155176639478}, {&quot;x&quot;: 0.38461538461538336, &quot;y&quot;: 0.6923076923076911, &quot;z&quot;: -11.098806064213441}, {&quot;x&quot;: 0.38461538461538336, &quot;y&quot;: 0.8461538461538449, &quot;z&quot;: -10.862119673680898}, {&quot;x&quot;: 0.38461538461538336, &quot;y&quot;: 0.9999999999999988, &quot;z&quot;: -10.578096005041845}, {&quot;x&quot;: 0.38461538461538336, &quot;y&quot;: 1.1538461538461526, &quot;z&quot;: -10.246735058296284}, {&quot;x&quot;: 0.38461538461538336, &quot;y&quot;: 1.3076923076923066, &quot;z&quot;: -9.868036833444211}, {&quot;x&quot;: 0.38461538461538336, &quot;y&quot;: 1.4615384615384603, &quot;z&quot;: -9.442001330485633}, {&quot;x&quot;: 0.38461538461538336, &quot;y&quot;: 1.615384615384614, &quot;z&quot;: -8.968628549420545}, {&quot;x&quot;: 0.38461538461538336, &quot;y&quot;: 1.7692307692307678, &quot;z&quot;: -8.447918490248949}, {&quot;x&quot;: 0.38461538461538336, &quot;y&quot;: 1.9230769230769216, &quot;z&quot;: -7.879871152970843}, {&quot;x&quot;: 0.38461538461538336, &quot;y&quot;: 2.0769230769230753, &quot;z&quot;: -7.264486537586229}, {&quot;x&quot;: 0.38461538461538336, &quot;y&quot;: 2.230769230769229, &quot;z&quot;: -6.6017646440951046}, {&quot;x&quot;: 0.38461538461538336, &quot;y&quot;: 2.384615384615383, &quot;z&quot;: -5.891705472497473}, {&quot;x&quot;: 0.38461538461538336, &quot;y&quot;: 2.5384615384615365, &quot;z&quot;: -5.134309022793332}, {&quot;x&quot;: 0.38461538461538336, &quot;y&quot;: 2.6923076923076903, &quot;z&quot;: -4.329575294982682}, {&quot;x&quot;: 0.38461538461538336, &quot;y&quot;: 2.846153846153844, &quot;z&quot;: -3.4775042890655232}, {&quot;x&quot;: 0.38461538461538336, &quot;y&quot;: 3.0, &quot;z&quot;: -2.578096005041843}, {&quot;x&quot;: 0.5384615384615372, &quot;y&quot;: -2.8461538461538463, &quot;z&quot;: -3.113651482791221}, {&quot;x&quot;: 0.5384615384615372, &quot;y&quot;: -3.0, &quot;z&quot;: -2.2142431987675533}, {&quot;x&quot;: 0.5384615384615372, &quot;y&quot;: -2.6923076923076925, &quot;z&quot;: -3.9657224887083817}, {&quot;x&quot;: 0.5384615384615372, &quot;y&quot;: -2.5384615384615388, &quot;z&quot;: -4.770456216519031}, {&quot;x&quot;: 0.5384615384615372, &quot;y&quot;: -2.384615384615385, &quot;z&quot;: -5.527852666223173}, {&quot;x&quot;: 0.5384615384615372, &quot;y&quot;: -2.2307692307692313, &quot;z&quot;: -6.237911837820805}, {&quot;x&quot;: 0.5384615384615372, &quot;y&quot;: -2.0769230769230775, &quot;z&quot;: -6.900633731311929}, {&quot;x&quot;: 0.5384615384615372, &quot;y&quot;: -1.9230769230769238, &quot;z&quot;: -7.516018346696545}, {&quot;x&quot;: 0.5384615384615372, &quot;y&quot;: -1.76923076923077, &quot;z&quot;: -8.08406568397465}, {&quot;x&quot;: 0.5384615384615372, &quot;y&quot;: -1.6153846153846163, &quot;z&quot;: -8.604775743146249}, {&quot;x&quot;: 0.5384615384615372, &quot;y&quot;: -1.4615384615384626, &quot;z&quot;: -9.078148524211336}, {&quot;x&quot;: 0.5384615384615372, &quot;y&quot;: -1.3076923076923088, &quot;z&quot;: -9.504184027169917}, {&quot;x&quot;: 0.5384615384615372, &quot;y&quot;: -1.153846153846155, &quot;z&quot;: -9.88288225202199}, {&quot;x&quot;: 0.5384615384615372, &quot;y&quot;: -1.0000000000000013, &quot;z&quot;: -10.214243198767551}, {&quot;x&quot;: 0.5384615384615372, &quot;y&quot;: -0.8461538461538475, &quot;z&quot;: -10.498266867406604}, {&quot;x&quot;: 0.5384615384615372, &quot;y&quot;: -0.6923076923076936, &quot;z&quot;: -10.73495325793915}, {&quot;x&quot;: 0.5384615384615372, &quot;y&quot;: -0.5384615384615398, &quot;z&quot;: -10.924302370365185}, {&quot;x&quot;: 0.5384615384615372, &quot;y&quot;: -0.3846153846153859, &quot;z&quot;: -11.066314204684712}, {&quot;x&quot;: 0.5384615384615372, &quot;y&quot;: -0.23076923076923206, &quot;z&quot;: -11.16098876089773}, {&quot;x&quot;: 0.5384615384615372, &quot;y&quot;: -0.0769230769230782, &quot;z&quot;: -11.20832603900424}, {&quot;x&quot;: 0.5384615384615372, &quot;y&quot;: 0.07692307692307565, &quot;z&quot;: -11.20832603900424}, {&quot;x&quot;: 0.5384615384615372, &quot;y&quot;: 0.2307692307692295, &quot;z&quot;: -11.160988760897732}, {&quot;x&quot;: 0.5384615384615372, &quot;y&quot;: 0.38461538461538336, &quot;z&quot;: -11.066314204684714}, {&quot;x&quot;: 0.5384615384615372, &quot;y&quot;: 0.5384615384615372, &quot;z&quot;: -10.924302370365188}, {&quot;x&quot;: 0.5384615384615372, &quot;y&quot;: 0.6923076923076911, &quot;z&quot;: -10.734953257939154}, {&quot;x&quot;: 0.5384615384615372, &quot;y&quot;: 0.8461538461538449, &quot;z&quot;: -10.49826686740661}, {&quot;x&quot;: 0.5384615384615372, &quot;y&quot;: 0.9999999999999988, &quot;z&quot;: -10.214243198767555}, {&quot;x&quot;: 0.5384615384615372, &quot;y&quot;: 1.1538461538461526, &quot;z&quot;: -9.882882252021993}, {&quot;x&quot;: 0.5384615384615372, &quot;y&quot;: 1.3076923076923066, &quot;z&quot;: -9.504184027169924}, {&quot;x&quot;: 0.5384615384615372, &quot;y&quot;: 1.4615384615384603, &quot;z&quot;: -9.078148524211343}, {&quot;x&quot;: 0.5384615384615372, &quot;y&quot;: 1.615384615384614, &quot;z&quot;: -8.604775743146256}, {&quot;x&quot;: 0.5384615384615372, &quot;y&quot;: 1.7692307692307678, &quot;z&quot;: -8.084065683974659}, {&quot;x&quot;: 0.5384615384615372, &quot;y&quot;: 1.9230769230769216, &quot;z&quot;: -7.516018346696553}, {&quot;x&quot;: 0.5384615384615372, &quot;y&quot;: 2.0769230769230753, &quot;z&quot;: -6.900633731311939}, {&quot;x&quot;: 0.5384615384615372, &quot;y&quot;: 2.230769230769229, &quot;z&quot;: -6.237911837820815}, {&quot;x&quot;: 0.5384615384615372, &quot;y&quot;: 2.384615384615383, &quot;z&quot;: -5.5278526662231835}, {&quot;x&quot;: 0.5384615384615372, &quot;y&quot;: 2.5384615384615365, &quot;z&quot;: -4.770456216519042}, {&quot;x&quot;: 0.5384615384615372, &quot;y&quot;: 2.6923076923076903, &quot;z&quot;: -3.9657224887083924}, {&quot;x&quot;: 0.5384615384615372, &quot;y&quot;: 2.846153846153844, &quot;z&quot;: -3.1136514827912336}, {&quot;x&quot;: 0.5384615384615372, &quot;y&quot;: 3.0, &quot;z&quot;: -2.2142431987675533}, {&quot;x&quot;: 0.6923076923076911, &quot;y&quot;: -2.8461538461538463, &quot;z&quot;: -2.6912573089177574}, {&quot;x&quot;: 0.6923076923076911, &quot;y&quot;: -3.0, &quot;z&quot;: -1.7918490248940895}, {&quot;x&quot;: 0.6923076923076911, &quot;y&quot;: -2.6923076923076925, &quot;z&quot;: -3.543328314834918}, {&quot;x&quot;: 0.6923076923076911, &quot;y&quot;: -2.5384615384615388, &quot;z&quot;: -4.348062042645568}, {&quot;x&quot;: 0.6923076923076911, &quot;y&quot;: -2.384615384615385, &quot;z&quot;: -5.105458492349709}, {&quot;x&quot;: 0.6923076923076911, &quot;y&quot;: -2.2307692307692313, &quot;z&quot;: -5.815517663947341}, {&quot;x&quot;: 0.6923076923076911, &quot;y&quot;: -2.0769230769230775, &quot;z&quot;: -6.4782395574384655}, {&quot;x&quot;: 0.6923076923076911, &quot;y&quot;: -1.9230769230769238, &quot;z&quot;: -7.093624172823081}, {&quot;x&quot;: 0.6923076923076911, &quot;y&quot;: -1.76923076923077, &quot;z&quot;: -7.661671510101187}, {&quot;x&quot;: 0.6923076923076911, &quot;y&quot;: -1.6153846153846163, &quot;z&quot;: -8.182381569272785}, {&quot;x&quot;: 0.6923076923076911, &quot;y&quot;: -1.4615384615384626, &quot;z&quot;: -8.655754350337872}, {&quot;x&quot;: 0.6923076923076911, &quot;y&quot;: -1.3076923076923088, &quot;z&quot;: -9.081789853296453}, {&quot;x&quot;: 0.6923076923076911, &quot;y&quot;: -1.153846153846155, &quot;z&quot;: -9.460488078148526}, {&quot;x&quot;: 0.6923076923076911, &quot;y&quot;: -1.0000000000000013, &quot;z&quot;: -9.791849024894088}, {&quot;x&quot;: 0.6923076923076911, &quot;y&quot;: -0.8461538461538475, &quot;z&quot;: -10.07587269353314}, {&quot;x&quot;: 0.6923076923076911, &quot;y&quot;: -0.6923076923076936, &quot;z&quot;: -10.312559084065686}, {&quot;x&quot;: 0.6923076923076911, &quot;y&quot;: -0.5384615384615398, &quot;z&quot;: -10.501908196491721}, {&quot;x&quot;: 0.6923076923076911, &quot;y&quot;: -0.3846153846153859, &quot;z&quot;: -10.643920030811248}, {&quot;x&quot;: 0.6923076923076911, &quot;y&quot;: -0.23076923076923206, &quot;z&quot;: -10.738594587024267}, {&quot;x&quot;: 0.6923076923076911, &quot;y&quot;: -0.0769230769230782, &quot;z&quot;: -10.785931865130776}, {&quot;x&quot;: 0.6923076923076911, &quot;y&quot;: 0.07692307692307565, &quot;z&quot;: -10.785931865130776}, {&quot;x&quot;: 0.6923076923076911, &quot;y&quot;: 0.2307692307692295, &quot;z&quot;: -10.738594587024268}, {&quot;x&quot;: 0.6923076923076911, &quot;y&quot;: 0.38461538461538336, &quot;z&quot;: -10.64392003081125}, {&quot;x&quot;: 0.6923076923076911, &quot;y&quot;: 0.5384615384615372, &quot;z&quot;: -10.501908196491724}, {&quot;x&quot;: 0.6923076923076911, &quot;y&quot;: 0.6923076923076911, &quot;z&quot;: -10.31255908406569}, {&quot;x&quot;: 0.6923076923076911, &quot;y&quot;: 0.8461538461538449, &quot;z&quot;: -10.075872693533146}, {&quot;x&quot;: 0.6923076923076911, &quot;y&quot;: 0.9999999999999988, &quot;z&quot;: -9.791849024894091}, {&quot;x&quot;: 0.6923076923076911, &quot;y&quot;: 1.1538461538461526, &quot;z&quot;: -9.46048807814853}, {&quot;x&quot;: 0.6923076923076911, &quot;y&quot;: 1.3076923076923066, &quot;z&quot;: -9.08178985329646}, {&quot;x&quot;: 0.6923076923076911, &quot;y&quot;: 1.4615384615384603, &quot;z&quot;: -8.65575435033788}, {&quot;x&quot;: 0.6923076923076911, &quot;y&quot;: 1.615384615384614, &quot;z&quot;: -8.182381569272792}, {&quot;x&quot;: 0.6923076923076911, &quot;y&quot;: 1.7692307692307678, &quot;z&quot;: -7.661671510101195}, {&quot;x&quot;: 0.6923076923076911, &quot;y&quot;: 1.9230769230769216, &quot;z&quot;: -7.093624172823089}, {&quot;x&quot;: 0.6923076923076911, &quot;y&quot;: 2.0769230769230753, &quot;z&quot;: -6.478239557438475}, {&quot;x&quot;: 0.6923076923076911, &quot;y&quot;: 2.230769230769229, &quot;z&quot;: -5.815517663947351}, {&quot;x&quot;: 0.6923076923076911, &quot;y&quot;: 2.384615384615383, &quot;z&quot;: -5.10545849234972}, {&quot;x&quot;: 0.6923076923076911, &quot;y&quot;: 2.5384615384615365, &quot;z&quot;: -4.348062042645578}, {&quot;x&quot;: 0.6923076923076911, &quot;y&quot;: 2.6923076923076903, &quot;z&quot;: -3.5433283148349286}, {&quot;x&quot;: 0.6923076923076911, &quot;y&quot;: 2.846153846153844, &quot;z&quot;: -2.69125730891777}, {&quot;x&quot;: 0.6923076923076911, &quot;y&quot;: 3.0, &quot;z&quot;: -1.7918490248940895}, {&quot;x&quot;: 0.8461538461538449, &quot;y&quot;: -2.8461538461538463, &quot;z&quot;: -2.2641013970099113}, {&quot;x&quot;: 0.8461538461538449, &quot;y&quot;: -3.0, &quot;z&quot;: -1.3646931129862434}, {&quot;x&quot;: 0.8461538461538449, &quot;y&quot;: -2.6923076923076925, &quot;z&quot;: -3.11617240292707}, {&quot;x&quot;: 0.8461538461538449, &quot;y&quot;: -2.5384615384615388, &quot;z&quot;: -3.9209061307377215}, {&quot;x&quot;: 0.8461538461538449, &quot;y&quot;: -2.384615384615385, &quot;z&quot;: -4.678302580441862}, {&quot;x&quot;: 0.8461538461538449, &quot;y&quot;: -2.2307692307692313, &quot;z&quot;: -5.388361752039495}, {&quot;x&quot;: 0.8461538461538449, &quot;y&quot;: -2.0769230769230775, &quot;z&quot;: -6.051083645530619}, {&quot;x&quot;: 0.8461538461538449, &quot;y&quot;: -1.9230769230769238, &quot;z&quot;: -6.666468260915234}, {&quot;x&quot;: 0.8461538461538449, &quot;y&quot;: -1.76923076923077, &quot;z&quot;: -7.23451559819334}, {&quot;x&quot;: 0.8461538461538449, &quot;y&quot;: -1.6153846153846163, &quot;z&quot;: -7.755225657364939}, {&quot;x&quot;: 0.8461538461538449, &quot;y&quot;: -1.4615384615384626, &quot;z&quot;: -8.228598438430026}, {&quot;x&quot;: 0.8461538461538449, &quot;y&quot;: -1.3076923076923088, &quot;z&quot;: -8.654633941388607}, {&quot;x&quot;: 0.8461538461538449, &quot;y&quot;: -1.153846153846155, &quot;z&quot;: -9.033332166240678}, {&quot;x&quot;: 0.8461538461538449, &quot;y&quot;: -1.0000000000000013, &quot;z&quot;: -9.36469311298624}, {&quot;x&quot;: 0.8461538461538449, &quot;y&quot;: -0.8461538461538475, &quot;z&quot;: -9.648716781625295}, {&quot;x&quot;: 0.8461538461538449, &quot;y&quot;: -0.6923076923076936, &quot;z&quot;: -9.885403172157838}, {&quot;x&quot;: 0.8461538461538449, &quot;y&quot;: -0.5384615384615398, &quot;z&quot;: -10.074752284583875}, {&quot;x&quot;: 0.8461538461538449, &quot;y&quot;: -0.3846153846153859, &quot;z&quot;: -10.216764118903402}, {&quot;x&quot;: 0.8461538461538449, &quot;y&quot;: -0.23076923076923206, &quot;z&quot;: -10.31143867511642}, {&quot;x&quot;: 0.8461538461538449, &quot;y&quot;: -0.0769230769230782, &quot;z&quot;: -10.35877595322293}, {&quot;x&quot;: 0.8461538461538449, &quot;y&quot;: 0.07692307692307565, &quot;z&quot;: -10.35877595322293}, {&quot;x&quot;: 0.8461538461538449, &quot;y&quot;: 0.2307692307692295, &quot;z&quot;: -10.31143867511642}, {&quot;x&quot;: 0.8461538461538449, &quot;y&quot;: 0.38461538461538336, &quot;z&quot;: -10.216764118903404}, {&quot;x&quot;: 0.8461538461538449, &quot;y&quot;: 0.5384615384615372, &quot;z&quot;: -10.074752284583877}, {&quot;x&quot;: 0.8461538461538449, &quot;y&quot;: 0.6923076923076911, &quot;z&quot;: -9.885403172157842}, {&quot;x&quot;: 0.8461538461538449, &quot;y&quot;: 0.8461538461538449, &quot;z&quot;: -9.648716781625298}, {&quot;x&quot;: 0.8461538461538449, &quot;y&quot;: 0.9999999999999988, &quot;z&quot;: -9.364693112986245}, {&quot;x&quot;: 0.8461538461538449, &quot;y&quot;: 1.1538461538461526, &quot;z&quot;: -9.033332166240683}, {&quot;x&quot;: 0.8461538461538449, &quot;y&quot;: 1.3076923076923066, &quot;z&quot;: -8.654633941388614}, {&quot;x&quot;: 0.8461538461538449, &quot;y&quot;: 1.4615384615384603, &quot;z&quot;: -8.228598438430033}, {&quot;x&quot;: 0.8461538461538449, &quot;y&quot;: 1.615384615384614, &quot;z&quot;: -7.755225657364946}, {&quot;x&quot;: 0.8461538461538449, &quot;y&quot;: 1.7692307692307678, &quot;z&quot;: -7.234515598193349}, {&quot;x&quot;: 0.8461538461538449, &quot;y&quot;: 1.9230769230769216, &quot;z&quot;: -6.666468260915243}, {&quot;x&quot;: 0.8461538461538449, &quot;y&quot;: 2.0769230769230753, &quot;z&quot;: -6.051083645530628}, {&quot;x&quot;: 0.8461538461538449, &quot;y&quot;: 2.230769230769229, &quot;z&quot;: -5.388361752039504}, {&quot;x&quot;: 0.8461538461538449, &quot;y&quot;: 2.384615384615383, &quot;z&quot;: -4.678302580441873}, {&quot;x&quot;: 0.8461538461538449, &quot;y&quot;: 2.5384615384615365, &quot;z&quot;: -3.920906130737732}, {&quot;x&quot;: 0.8461538461538449, &quot;y&quot;: 2.6923076923076903, &quot;z&quot;: -3.1161724029270825}, {&quot;x&quot;: 0.8461538461538449, &quot;y&quot;: 2.846153846153844, &quot;z&quot;: -2.2641013970099237}, {&quot;x&quot;: 0.8461538461538449, &quot;y&quot;: 3.0, &quot;z&quot;: -1.3646931129862434}, {&quot;x&quot;: 0.9999999999999988, &quot;y&quot;: -2.8461538461538463, &quot;z&quot;: -1.8994082840236697}, {&quot;x&quot;: 0.9999999999999988, &quot;y&quot;: -3.0, &quot;z&quot;: -1.0000000000000018}, {&quot;x&quot;: 0.9999999999999988, &quot;y&quot;: -2.6923076923076925, &quot;z&quot;: -2.7514792899408302}, {&quot;x&quot;: 0.9999999999999988, &quot;y&quot;: -2.5384615384615388, &quot;z&quot;: -3.55621301775148}, {&quot;x&quot;: 0.9999999999999988, &quot;y&quot;: -2.384615384615385, &quot;z&quot;: -4.313609467455622}, {&quot;x&quot;: 0.9999999999999988, &quot;y&quot;: -2.2307692307692313, &quot;z&quot;: -5.023668639053254}, {&quot;x&quot;: 0.9999999999999988, &quot;y&quot;: -2.0769230769230775, &quot;z&quot;: -5.686390532544378}, {&quot;x&quot;: 0.9999999999999988, &quot;y&quot;: -1.9230769230769238, &quot;z&quot;: -6.301775147928994}, {&quot;x&quot;: 0.9999999999999988, &quot;y&quot;: -1.76923076923077, &quot;z&quot;: -6.8698224852071}, {&quot;x&quot;: 0.9999999999999988, &quot;y&quot;: -1.6153846153846163, &quot;z&quot;: -7.390532544378697}, {&quot;x&quot;: 0.9999999999999988, &quot;y&quot;: -1.4615384615384626, &quot;z&quot;: -7.8639053254437865}, {&quot;x&quot;: 0.9999999999999988, &quot;y&quot;: -1.3076923076923088, &quot;z&quot;: -8.289940828402365}, {&quot;x&quot;: 0.9999999999999988, &quot;y&quot;: -1.153846153846155, &quot;z&quot;: -8.668639053254438}, {&quot;x&quot;: 0.9999999999999988, &quot;y&quot;: -1.0000000000000013, &quot;z&quot;: -9.0}, {&quot;x&quot;: 0.9999999999999988, &quot;y&quot;: -0.8461538461538475, &quot;z&quot;: -9.284023668639053}, {&quot;x&quot;: 0.9999999999999988, &quot;y&quot;: -0.6923076923076936, &quot;z&quot;: -9.520710059171599}, {&quot;x&quot;: 0.9999999999999988, &quot;y&quot;: -0.5384615384615398, &quot;z&quot;: -9.710059171597635}, {&quot;x&quot;: 0.9999999999999988, &quot;y&quot;: -0.3846153846153859, &quot;z&quot;: -9.85207100591716}, {&quot;x&quot;: 0.9999999999999988, &quot;y&quot;: -0.23076923076923206, &quot;z&quot;: -9.946745562130179}, {&quot;x&quot;: 0.9999999999999988, &quot;y&quot;: -0.0769230769230782, &quot;z&quot;: -9.994082840236688}, {&quot;x&quot;: 0.9999999999999988, &quot;y&quot;: 0.07692307692307565, &quot;z&quot;: -9.99408284023669}, {&quot;x&quot;: 0.9999999999999988, &quot;y&quot;: 0.2307692307692295, &quot;z&quot;: -9.94674556213018}, {&quot;x&quot;: 0.9999999999999988, &quot;y&quot;: 0.38461538461538336, &quot;z&quot;: -9.852071005917162}, {&quot;x&quot;: 0.9999999999999988, &quot;y&quot;: 0.5384615384615372, &quot;z&quot;: -9.710059171597637}, {&quot;x&quot;: 0.9999999999999988, &quot;y&quot;: 0.6923076923076911, &quot;z&quot;: -9.520710059171602}, {&quot;x&quot;: 0.9999999999999988, &quot;y&quot;: 0.8461538461538449, &quot;z&quot;: -9.284023668639058}, {&quot;x&quot;: 0.9999999999999988, &quot;y&quot;: 0.9999999999999988, &quot;z&quot;: -9.000000000000004}, {&quot;x&quot;: 0.9999999999999988, &quot;y&quot;: 1.1538461538461526, &quot;z&quot;: -8.668639053254443}, {&quot;x&quot;: 0.9999999999999988, &quot;y&quot;: 1.3076923076923066, &quot;z&quot;: -8.289940828402372}, {&quot;x&quot;: 0.9999999999999988, &quot;y&quot;: 1.4615384615384603, &quot;z&quot;: -7.863905325443793}, {&quot;x&quot;: 0.9999999999999988, &quot;y&quot;: 1.615384615384614, &quot;z&quot;: -7.390532544378704}, {&quot;x&quot;: 0.9999999999999988, &quot;y&quot;: 1.7692307692307678, &quot;z&quot;: -6.8698224852071075}, {&quot;x&quot;: 0.9999999999999988, &quot;y&quot;: 1.9230769230769216, &quot;z&quot;: -6.301775147929002}, {&quot;x&quot;: 0.9999999999999988, &quot;y&quot;: 2.0769230769230753, &quot;z&quot;: -5.686390532544388}, {&quot;x&quot;: 0.9999999999999988, &quot;y&quot;: 2.230769230769229, &quot;z&quot;: -5.023668639053264}, {&quot;x&quot;: 0.9999999999999988, &quot;y&quot;: 2.384615384615383, &quot;z&quot;: -4.313609467455633}, {&quot;x&quot;: 0.9999999999999988, &quot;y&quot;: 2.5384615384615365, &quot;z&quot;: -3.5562130177514906}, {&quot;x&quot;: 0.9999999999999988, &quot;y&quot;: 2.6923076923076903, &quot;z&quot;: -2.751479289940841}, {&quot;x&quot;: 0.9999999999999988, &quot;y&quot;: 2.846153846153844, &quot;z&quot;: -1.8994082840236821}, {&quot;x&quot;: 0.9999999999999988, &quot;y&quot;: 3.0, &quot;z&quot;: -1.0000000000000018}, {&quot;x&quot;: 1.1538461538461526, &quot;y&quot;: -2.8461538461538463, &quot;z&quot;: -1.6778474143062212}, {&quot;x&quot;: 1.1538461538461526, &quot;y&quot;: -3.0, &quot;z&quot;: -0.7784391302825533}, {&quot;x&quot;: 1.1538461538461526, &quot;y&quot;: -2.6923076923076925, &quot;z&quot;: -2.5299184202233818}, {&quot;x&quot;: 1.1538461538461526, &quot;y&quot;: -2.5384615384615388, &quot;z&quot;: -3.3346521480340314}, {&quot;x&quot;: 1.1538461538461526, &quot;y&quot;: -2.384615384615385, &quot;z&quot;: -4.092048597738174}, {&quot;x&quot;: 1.1538461538461526, &quot;y&quot;: -2.2307692307692313, &quot;z&quot;: -4.802107769335806}, {&quot;x&quot;: 1.1538461538461526, &quot;y&quot;: -2.0769230769230775, &quot;z&quot;: -5.46482966282693}, {&quot;x&quot;: 1.1538461538461526, &quot;y&quot;: -1.9230769230769238, &quot;z&quot;: -6.080214278211546}, {&quot;x&quot;: 1.1538461538461526, &quot;y&quot;: -1.76923076923077, &quot;z&quot;: -6.648261615489652}, {&quot;x&quot;: 1.1538461538461526, &quot;y&quot;: -1.6153846153846163, &quot;z&quot;: -7.1689716746612495}, {&quot;x&quot;: 1.1538461538461526, &quot;y&quot;: -1.4615384615384626, &quot;z&quot;: -7.642344455726338}, {&quot;x&quot;: 1.1538461538461526, &quot;y&quot;: -1.3076923076923088, &quot;z&quot;: -8.068379958684918}, {&quot;x&quot;: 1.1538461538461526, &quot;y&quot;: -1.153846153846155, &quot;z&quot;: -8.44707818353699}, {&quot;x&quot;: 1.1538461538461526, &quot;y&quot;: -1.0000000000000013, &quot;z&quot;: -8.778439130282552}, {&quot;x&quot;: 1.1538461538461526, &quot;y&quot;: -0.8461538461538475, &quot;z&quot;: -9.062462798921604}, {&quot;x&quot;: 1.1538461538461526, &quot;y&quot;: -0.6923076923076936, &quot;z&quot;: -9.29914918945415}, {&quot;x&quot;: 1.1538461538461526, &quot;y&quot;: -0.5384615384615398, &quot;z&quot;: -9.488498301880187}, {&quot;x&quot;: 1.1538461538461526, &quot;y&quot;: -0.3846153846153859, &quot;z&quot;: -9.630510136199714}, {&quot;x&quot;: 1.1538461538461526, &quot;y&quot;: -0.23076923076923206, &quot;z&quot;: -9.725184692412732}, {&quot;x&quot;: 1.1538461538461526, &quot;y&quot;: -0.0769230769230782, &quot;z&quot;: -9.77252197051924}, {&quot;x&quot;: 1.1538461538461526, &quot;y&quot;: 0.07692307692307565, &quot;z&quot;: -9.772521970519241}, {&quot;x&quot;: 1.1538461538461526, &quot;y&quot;: 0.2307692307692295, &quot;z&quot;: -9.725184692412732}, {&quot;x&quot;: 1.1538461538461526, &quot;y&quot;: 0.38461538461538336, &quot;z&quot;: -9.630510136199714}, {&quot;x&quot;: 1.1538461538461526, &quot;y&quot;: 0.5384615384615372, &quot;z&quot;: -9.488498301880188}, {&quot;x&quot;: 1.1538461538461526, &quot;y&quot;: 0.6923076923076911, &quot;z&quot;: -9.299149189454154}, {&quot;x&quot;: 1.1538461538461526, &quot;y&quot;: 0.8461538461538449, &quot;z&quot;: -9.06246279892161}, {&quot;x&quot;: 1.1538461538461526, &quot;y&quot;: 0.9999999999999988, &quot;z&quot;: -8.778439130282557}, {&quot;x&quot;: 1.1538461538461526, &quot;y&quot;: 1.1538461538461526, &quot;z&quot;: -8.447078183536995}, {&quot;x&quot;: 1.1538461538461526, &quot;y&quot;: 1.3076923076923066, &quot;z&quot;: -8.068379958684924}, {&quot;x&quot;: 1.1538461538461526, &quot;y&quot;: 1.4615384615384603, &quot;z&quot;: -7.642344455726345}, {&quot;x&quot;: 1.1538461538461526, &quot;y&quot;: 1.615384615384614, &quot;z&quot;: -7.168971674661257}, {&quot;x&quot;: 1.1538461538461526, &quot;y&quot;: 1.7692307692307678, &quot;z&quot;: -6.64826161548966}, {&quot;x&quot;: 1.1538461538461526, &quot;y&quot;: 1.9230769230769216, &quot;z&quot;: -6.080214278211554}, {&quot;x&quot;: 1.1538461538461526, &quot;y&quot;: 2.0769230769230753, &quot;z&quot;: -5.46482966282694}, {&quot;x&quot;: 1.1538461538461526, &quot;y&quot;: 2.230769230769229, &quot;z&quot;: -4.802107769335816}, {&quot;x&quot;: 1.1538461538461526, &quot;y&quot;: 2.384615384615383, &quot;z&quot;: -4.092048597738184}, {&quot;x&quot;: 1.1538461538461526, &quot;y&quot;: 2.5384615384615365, &quot;z&quot;: -3.334652148034042}, {&quot;x&quot;: 1.1538461538461526, &quot;y&quot;: 2.6923076923076903, &quot;z&quot;: -2.5299184202233924}, {&quot;x&quot;: 1.1538461538461526, &quot;y&quot;: 2.846153846153844, &quot;z&quot;: -1.6778474143062354}, {&quot;x&quot;: 1.1538461538461526, &quot;y&quot;: 3.0, &quot;z&quot;: -0.7784391302825533}, {&quot;x&quot;: 1.3076923076923066, &quot;y&quot;: -2.8461538461538463, &quot;z&quot;: -1.6935331395959512}, {&quot;x&quot;: 1.3076923076923066, &quot;y&quot;: -3.0, &quot;z&quot;: -0.7941248555722833}, {&quot;x&quot;: 1.3076923076923066, &quot;y&quot;: -2.6923076923076925, &quot;z&quot;: -2.54560414551311}, {&quot;x&quot;: 1.3076923076923066, &quot;y&quot;: -2.5384615384615388, &quot;z&quot;: -3.3503378733237614}, {&quot;x&quot;: 1.3076923076923066, &quot;y&quot;: -2.384615384615385, &quot;z&quot;: -4.107734323027902}, {&quot;x&quot;: 1.3076923076923066, &quot;y&quot;: -2.2307692307692313, &quot;z&quot;: -4.817793494625535}, {&quot;x&quot;: 1.3076923076923066, &quot;y&quot;: -2.0769230769230775, &quot;z&quot;: -5.480515388116659}, {&quot;x&quot;: 1.3076923076923066, &quot;y&quot;: -1.9230769230769238, &quot;z&quot;: -6.095900003501274}, {&quot;x&quot;: 1.3076923076923066, &quot;y&quot;: -1.76923076923077, &quot;z&quot;: -6.66394734077938}, {&quot;x&quot;: 1.3076923076923066, &quot;y&quot;: -1.6153846153846163, &quot;z&quot;: -7.184657399950979}, {&quot;x&quot;: 1.3076923076923066, &quot;y&quot;: -1.4615384615384626, &quot;z&quot;: -7.658030181016066}, {&quot;x&quot;: 1.3076923076923066, &quot;y&quot;: -1.3076923076923088, &quot;z&quot;: -8.084065683974647}, {&quot;x&quot;: 1.3076923076923066, &quot;y&quot;: -1.153846153846155, &quot;z&quot;: -8.462763908826718}, {&quot;x&quot;: 1.3076923076923066, &quot;y&quot;: -1.0000000000000013, &quot;z&quot;: -8.79412485557228}, {&quot;x&quot;: 1.3076923076923066, &quot;y&quot;: -0.8461538461538475, &quot;z&quot;: -9.078148524211334}, {&quot;x&quot;: 1.3076923076923066, &quot;y&quot;: -0.6923076923076936, &quot;z&quot;: -9.314834914743878}, {&quot;x&quot;: 1.3076923076923066, &quot;y&quot;: -0.5384615384615398, &quot;z&quot;: -9.504184027169915}, {&quot;x&quot;: 1.3076923076923066, &quot;y&quot;: -0.3846153846153859, &quot;z&quot;: -9.646195861489442}, {&quot;x&quot;: 1.3076923076923066, &quot;y&quot;: -0.23076923076923206, &quot;z&quot;: -9.74087041770246}, {&quot;x&quot;: 1.3076923076923066, &quot;y&quot;: -0.0769230769230782, &quot;z&quot;: -9.78820769580897}, {&quot;x&quot;: 1.3076923076923066, &quot;y&quot;: 0.07692307692307565, &quot;z&quot;: -9.78820769580897}, {&quot;x&quot;: 1.3076923076923066, &quot;y&quot;: 0.2307692307692295, &quot;z&quot;: -9.74087041770246}, {&quot;x&quot;: 1.3076923076923066, &quot;y&quot;: 0.38461538461538336, &quot;z&quot;: -9.646195861489444}, {&quot;x&quot;: 1.3076923076923066, &quot;y&quot;: 0.5384615384615372, &quot;z&quot;: -9.504184027169917}, {&quot;x&quot;: 1.3076923076923066, &quot;y&quot;: 0.6923076923076911, &quot;z&quot;: -9.314834914743882}, {&quot;x&quot;: 1.3076923076923066, &quot;y&quot;: 0.8461538461538449, &quot;z&quot;: -9.078148524211338}, {&quot;x&quot;: 1.3076923076923066, &quot;y&quot;: 0.9999999999999988, &quot;z&quot;: -8.794124855572285}, {&quot;x&quot;: 1.3076923076923066, &quot;y&quot;: 1.1538461538461526, &quot;z&quot;: -8.462763908826723}, {&quot;x&quot;: 1.3076923076923066, &quot;y&quot;: 1.3076923076923066, &quot;z&quot;: -8.084065683974654}, {&quot;x&quot;: 1.3076923076923066, &quot;y&quot;: 1.4615384615384603, &quot;z&quot;: -7.658030181016073}, {&quot;x&quot;: 1.3076923076923066, &quot;y&quot;: 1.615384615384614, &quot;z&quot;: -7.184657399950986}, {&quot;x&quot;: 1.3076923076923066, &quot;y&quot;: 1.7692307692307678, &quot;z&quot;: -6.663947340779389}, {&quot;x&quot;: 1.3076923076923066, &quot;y&quot;: 1.9230769230769216, &quot;z&quot;: -6.095900003501283}, {&quot;x&quot;: 1.3076923076923066, &quot;y&quot;: 2.0769230769230753, &quot;z&quot;: -5.480515388116668}, {&quot;x&quot;: 1.3076923076923066, &quot;y&quot;: 2.230769230769229, &quot;z&quot;: -4.817793494625544}, {&quot;x&quot;: 1.3076923076923066, &quot;y&quot;: 2.384615384615383, &quot;z&quot;: -4.107734323027913}, {&quot;x&quot;: 1.3076923076923066, &quot;y&quot;: 2.5384615384615365, &quot;z&quot;: -3.350337873323772}, {&quot;x&quot;: 1.3076923076923066, &quot;y&quot;: 2.6923076923076903, &quot;z&quot;: -2.5456041455131224}, {&quot;x&quot;: 1.3076923076923066, &quot;y&quot;: 2.846153846153844, &quot;z&quot;: -1.6935331395959636}, {&quot;x&quot;: 1.3076923076923066, &quot;y&quot;: 3.0, &quot;z&quot;: -0.7941248555722833}, {&quot;x&quot;: 1.4615384615384603, &quot;y&quot;: -2.8461538461538463, &quot;z&quot;: -2.054024719022438}, {&quot;x&quot;: 1.4615384615384603, &quot;y&quot;: -3.0, &quot;z&quot;: -1.1546164349987702}, {&quot;x&quot;: 1.4615384615384603, &quot;y&quot;: -2.6923076923076925, &quot;z&quot;: -2.906095724939597}, {&quot;x&quot;: 1.4615384615384603, &quot;y&quot;: -2.5384615384615388, &quot;z&quot;: -3.7108294527502483}, {&quot;x&quot;: 1.4615384615384603, &quot;y&quot;: -2.384615384615385, &quot;z&quot;: -4.46822590245439}, {&quot;x&quot;: 1.4615384615384603, &quot;y&quot;: -2.2307692307692313, &quot;z&quot;: -5.178285074052022}, {&quot;x&quot;: 1.4615384615384603, &quot;y&quot;: -2.0769230769230775, &quot;z&quot;: -5.841006967543146}, {&quot;x&quot;: 1.4615384615384603, &quot;y&quot;: -1.9230769230769238, &quot;z&quot;: -6.456391582927761}, {&quot;x&quot;: 1.4615384615384603, &quot;y&quot;: -1.76923076923077, &quot;z&quot;: -7.024438920205868}, {&quot;x&quot;: 1.4615384615384603, &quot;y&quot;: -1.6153846153846163, &quot;z&quot;: -7.5451489793774655}, {&quot;x&quot;: 1.4615384615384603, &quot;y&quot;: -1.4615384615384626, &quot;z&quot;: -8.018521760442553}, {&quot;x&quot;: 1.4615384615384603, &quot;y&quot;: -1.3076923076923088, &quot;z&quot;: -8.444557263401133}, {&quot;x&quot;: 1.4615384615384603, &quot;y&quot;: -1.153846153846155, &quot;z&quot;: -8.823255488253206}, {&quot;x&quot;: 1.4615384615384603, &quot;y&quot;: -1.0000000000000013, &quot;z&quot;: -9.154616434998768}, {&quot;x&quot;: 1.4615384615384603, &quot;y&quot;: -0.8461538461538475, &quot;z&quot;: -9.438640103637821}, {&quot;x&quot;: 1.4615384615384603, &quot;y&quot;: -0.6923076923076936, &quot;z&quot;: -9.675326494170367}, {&quot;x&quot;: 1.4615384615384603, &quot;y&quot;: -0.5384615384615398, &quot;z&quot;: -9.864675606596402}, {&quot;x&quot;: 1.4615384615384603, &quot;y&quot;: -0.3846153846153859, &quot;z&quot;: -10.006687440915929}, {&quot;x&quot;: 1.4615384615384603, &quot;y&quot;: -0.23076923076923206, &quot;z&quot;: -10.101361997128947}, {&quot;x&quot;: 1.4615384615384603, &quot;y&quot;: -0.0769230769230782, &quot;z&quot;: -10.148699275235456}, {&quot;x&quot;: 1.4615384615384603, &quot;y&quot;: 0.07692307692307565, &quot;z&quot;: -10.148699275235456}, {&quot;x&quot;: 1.4615384615384603, &quot;y&quot;: 0.2307692307692295, &quot;z&quot;: -10.101361997128949}, {&quot;x&quot;: 1.4615384615384603, &quot;y&quot;: 0.38461538461538336, &quot;z&quot;: -10.00668744091593}, {&quot;x&quot;: 1.4615384615384603, &quot;y&quot;: 0.5384615384615372, &quot;z&quot;: -9.864675606596405}, {&quot;x&quot;: 1.4615384615384603, &quot;y&quot;: 0.6923076923076911, &quot;z&quot;: -9.67532649417037}, {&quot;x&quot;: 1.4615384615384603, &quot;y&quot;: 0.8461538461538449, &quot;z&quot;: -9.438640103637827}, {&quot;x&quot;: 1.4615384615384603, &quot;y&quot;: 0.9999999999999988, &quot;z&quot;: -9.154616434998772}, {&quot;x&quot;: 1.4615384615384603, &quot;y&quot;: 1.1538461538461526, &quot;z&quot;: -8.82325548825321}, {&quot;x&quot;: 1.4615384615384603, &quot;y&quot;: 1.3076923076923066, &quot;z&quot;: -8.44455726340114}, {&quot;x&quot;: 1.4615384615384603, &quot;y&quot;: 1.4615384615384603, &quot;z&quot;: -8.01852176044256}, {&quot;x&quot;: 1.4615384615384603, &quot;y&quot;: 1.615384615384614, &quot;z&quot;: -7.545148979377473}, {&quot;x&quot;: 1.4615384615384603, &quot;y&quot;: 1.7692307692307678, &quot;z&quot;: -7.024438920205876}, {&quot;x&quot;: 1.4615384615384603, &quot;y&quot;: 1.9230769230769216, &quot;z&quot;: -6.45639158292777}, {&quot;x&quot;: 1.4615384615384603, &quot;y&quot;: 2.0769230769230753, &quot;z&quot;: -5.841006967543156}, {&quot;x&quot;: 1.4615384615384603, &quot;y&quot;: 2.230769230769229, &quot;z&quot;: -5.178285074052032}, {&quot;x&quot;: 1.4615384615384603, &quot;y&quot;: 2.384615384615383, &quot;z&quot;: -4.4682259024544}, {&quot;x&quot;: 1.4615384615384603, &quot;y&quot;: 2.5384615384615365, &quot;z&quot;: -3.710829452750259}, {&quot;x&quot;: 1.4615384615384603, &quot;y&quot;: 2.6923076923076903, &quot;z&quot;: -2.9060957249396093}, {&quot;x&quot;: 1.4615384615384603, &quot;y&quot;: 2.846153846153844, &quot;z&quot;: -2.0540247190224505}, {&quot;x&quot;: 1.4615384615384603, &quot;y&quot;: 3.0, &quot;z&quot;: -1.1546164349987702}, {&quot;x&quot;: 1.615384615384614, &quot;y&quot;: -2.8461538461538463, &quot;z&quot;: -2.880326319106464}, {&quot;x&quot;: 1.615384615384614, &quot;y&quot;: -3.0, &quot;z&quot;: -1.9809180350827962}, {&quot;x&quot;: 1.615384615384614, &quot;y&quot;: -2.6923076923076925, &quot;z&quot;: -3.732397325023623}, {&quot;x&quot;: 1.615384615384614, &quot;y&quot;: -2.5384615384615388, &quot;z&quot;: -4.537131052834274}, {&quot;x&quot;: 1.615384615384614, &quot;y&quot;: -2.384615384615385, &quot;z&quot;: -5.294527502538416}, {&quot;x&quot;: 1.615384615384614, &quot;y&quot;: -2.2307692307692313, &quot;z&quot;: -6.004586674136048}, {&quot;x&quot;: 1.615384615384614, &quot;y&quot;: -2.0769230769230775, &quot;z&quot;: -6.667308567627172}, {&quot;x&quot;: 1.615384615384614, &quot;y&quot;: -1.9230769230769238, &quot;z&quot;: -7.282693183011787}, {&quot;x&quot;: 1.615384615384614, &quot;y&quot;: -1.76923076923077, &quot;z&quot;: -7.850740520289894}, {&quot;x&quot;: 1.615384615384614, &quot;y&quot;: -1.6153846153846163, &quot;z&quot;: -8.371450579461492}, {&quot;x&quot;: 1.615384615384614, &quot;y&quot;: -1.4615384615384626, &quot;z&quot;: -8.84482336052658}, {&quot;x&quot;: 1.615384615384614, &quot;y&quot;: -1.3076923076923088, &quot;z&quot;: -9.27085886348516}, {&quot;x&quot;: 1.615384615384614, &quot;y&quot;: -1.153846153846155, &quot;z&quot;: -9.649557088337232}, {&quot;x&quot;: 1.615384615384614, &quot;y&quot;: -1.0000000000000013, &quot;z&quot;: -9.980918035082794}, {&quot;x&quot;: 1.615384615384614, &quot;y&quot;: -0.8461538461538475, &quot;z&quot;: -10.264941703721847}, {&quot;x&quot;: 1.615384615384614, &quot;y&quot;: -0.6923076923076936, &quot;z&quot;: -10.501628094254393}, {&quot;x&quot;: 1.615384615384614, &quot;y&quot;: -0.5384615384615398, &quot;z&quot;: -10.690977206680428}, {&quot;x&quot;: 1.615384615384614, &quot;y&quot;: -0.3846153846153859, &quot;z&quot;: -10.832989040999955}, {&quot;x&quot;: 1.615384615384614, &quot;y&quot;: -0.23076923076923206, &quot;z&quot;: -10.927663597212973}, {&quot;x&quot;: 1.615384615384614, &quot;y&quot;: -0.0769230769230782, &quot;z&quot;: -10.975000875319482}, {&quot;x&quot;: 1.615384615384614, &quot;y&quot;: 0.07692307692307565, &quot;z&quot;: -10.975000875319482}, {&quot;x&quot;: 1.615384615384614, &quot;y&quot;: 0.2307692307692295, &quot;z&quot;: -10.927663597212975}, {&quot;x&quot;: 1.615384615384614, &quot;y&quot;: 0.38461538461538336, &quot;z&quot;: -10.832989040999957}, {&quot;x&quot;: 1.615384615384614, &quot;y&quot;: 0.5384615384615372, &quot;z&quot;: -10.690977206680431}, {&quot;x&quot;: 1.615384615384614, &quot;y&quot;: 0.6923076923076911, &quot;z&quot;: -10.501628094254396}, {&quot;x&quot;: 1.615384615384614, &quot;y&quot;: 0.8461538461538449, &quot;z&quot;: -10.26494170372185}, {&quot;x&quot;: 1.615384615384614, &quot;y&quot;: 0.9999999999999988, &quot;z&quot;: -9.980918035082798}, {&quot;x&quot;: 1.615384615384614, &quot;y&quot;: 1.1538461538461526, &quot;z&quot;: -9.649557088337236}, {&quot;x&quot;: 1.615384615384614, &quot;y&quot;: 1.3076923076923066, &quot;z&quot;: -9.270858863485167}, {&quot;x&quot;: 1.615384615384614, &quot;y&quot;: 1.4615384615384603, &quot;z&quot;: -8.844823360526586}, {&quot;x&quot;: 1.615384615384614, &quot;y&quot;: 1.615384615384614, &quot;z&quot;: -8.371450579461499}, {&quot;x&quot;: 1.615384615384614, &quot;y&quot;: 1.7692307692307678, &quot;z&quot;: -7.850740520289902}, {&quot;x&quot;: 1.615384615384614, &quot;y&quot;: 1.9230769230769216, &quot;z&quot;: -7.282693183011796}, {&quot;x&quot;: 1.615384615384614, &quot;y&quot;: 2.0769230769230753, &quot;z&quot;: -6.667308567627182}, {&quot;x&quot;: 1.615384615384614, &quot;y&quot;: 2.230769230769229, &quot;z&quot;: -6.004586674136058}, {&quot;x&quot;: 1.615384615384614, &quot;y&quot;: 2.384615384615383, &quot;z&quot;: -5.294527502538426}, {&quot;x&quot;: 1.615384615384614, &quot;y&quot;: 2.5384615384615365, &quot;z&quot;: -4.537131052834285}, {&quot;x&quot;: 1.615384615384614, &quot;y&quot;: 2.6923076923076903, &quot;z&quot;: -3.7323973250236353}, {&quot;x&quot;: 1.615384615384614, &quot;y&quot;: 2.846153846153844, &quot;z&quot;: -2.8803263191064765}, {&quot;x&quot;: 1.615384615384614, &quot;y&quot;: 3.0, &quot;z&quot;: -1.9809180350827962}, {&quot;x&quot;: 1.7692307692307678, &quot;y&quot;: -2.8461538461538463, &quot;z&quot;: -4.306887013760004}, {&quot;x&quot;: 1.7692307692307678, &quot;y&quot;: -3.0, &quot;z&quot;: -3.4074787297363365}, {&quot;x&quot;: 1.7692307692307678, &quot;y&quot;: -2.6923076923076925, &quot;z&quot;: -5.158958019677164}, {&quot;x&quot;: 1.7692307692307678, &quot;y&quot;: -2.5384615384615388, &quot;z&quot;: -5.963691747487815}, {&quot;x&quot;: 1.7692307692307678, &quot;y&quot;: -2.384615384615385, &quot;z&quot;: -6.721088197191956}, {&quot;x&quot;: 1.7692307692307678, &quot;y&quot;: -2.2307692307692313, &quot;z&quot;: -7.431147368789588}, {&quot;x&quot;: 1.7692307692307678, &quot;y&quot;: -2.0769230769230775, &quot;z&quot;: -8.093869262280712}, {&quot;x&quot;: 1.7692307692307678, &quot;y&quot;: -1.9230769230769238, &quot;z&quot;: -8.709253877665327}, {&quot;x&quot;: 1.7692307692307678, &quot;y&quot;: -1.76923076923077, &quot;z&quot;: -9.277301214943435}, {&quot;x&quot;: 1.7692307692307678, &quot;y&quot;: -1.6153846153846163, &quot;z&quot;: -9.798011274115032}, {&quot;x&quot;: 1.7692307692307678, &quot;y&quot;: -1.4615384615384626, &quot;z&quot;: -10.271384055180121}, {&quot;x&quot;: 1.7692307692307678, &quot;y&quot;: -1.3076923076923088, &quot;z&quot;: -10.6974195581387}, {&quot;x&quot;: 1.7692307692307678, &quot;y&quot;: -1.153846153846155, &quot;z&quot;: -11.07611778299077}, {&quot;x&quot;: 1.7692307692307678, &quot;y&quot;: -1.0000000000000013, &quot;z&quot;: -11.407478729736333}, {&quot;x&quot;: 1.7692307692307678, &quot;y&quot;: -0.8461538461538475, &quot;z&quot;: -11.691502398375388}, {&quot;x&quot;: 1.7692307692307678, &quot;y&quot;: -0.6923076923076936, &quot;z&quot;: -11.928188788907931}, {&quot;x&quot;: 1.7692307692307678, &quot;y&quot;: -0.5384615384615398, &quot;z&quot;: -12.117537901333968}, {&quot;x&quot;: 1.7692307692307678, &quot;y&quot;: -0.3846153846153859, &quot;z&quot;: -12.259549735653495}, {&quot;x&quot;: 1.7692307692307678, &quot;y&quot;: -0.23076923076923206, &quot;z&quot;: -12.354224291866513}, {&quot;x&quot;: 1.7692307692307678, &quot;y&quot;: -0.0769230769230782, &quot;z&quot;: -12.401561569973023}, {&quot;x&quot;: 1.7692307692307678, &quot;y&quot;: 0.07692307692307565, &quot;z&quot;: -12.401561569973023}, {&quot;x&quot;: 1.7692307692307678, &quot;y&quot;: 0.2307692307692295, &quot;z&quot;: -12.354224291866515}, {&quot;x&quot;: 1.7692307692307678, &quot;y&quot;: 0.38461538461538336, &quot;z&quot;: -12.259549735653497}, {&quot;x&quot;: 1.7692307692307678, &quot;y&quot;: 0.5384615384615372, &quot;z&quot;: -12.117537901333971}, {&quot;x&quot;: 1.7692307692307678, &quot;y&quot;: 0.6923076923076911, &quot;z&quot;: -11.928188788907935}, {&quot;x&quot;: 1.7692307692307678, &quot;y&quot;: 0.8461538461538449, &quot;z&quot;: -11.691502398375391}, {&quot;x&quot;: 1.7692307692307678, &quot;y&quot;: 0.9999999999999988, &quot;z&quot;: -11.407478729736338}, {&quot;x&quot;: 1.7692307692307678, &quot;y&quot;: 1.1538461538461526, &quot;z&quot;: -11.076117782990778}, {&quot;x&quot;: 1.7692307692307678, &quot;y&quot;: 1.3076923076923066, &quot;z&quot;: -10.697419558138707}, {&quot;x&quot;: 1.7692307692307678, &quot;y&quot;: 1.4615384615384603, &quot;z&quot;: -10.271384055180127}, {&quot;x&quot;: 1.7692307692307678, &quot;y&quot;: 1.615384615384614, &quot;z&quot;: -9.798011274115039}, {&quot;x&quot;: 1.7692307692307678, &quot;y&quot;: 1.7692307692307678, &quot;z&quot;: -9.277301214943442}, {&quot;x&quot;: 1.7692307692307678, &quot;y&quot;: 1.9230769230769216, &quot;z&quot;: -8.709253877665336}, {&quot;x&quot;: 1.7692307692307678, &quot;y&quot;: 2.0769230769230753, &quot;z&quot;: -8.093869262280723}, {&quot;x&quot;: 1.7692307692307678, &quot;y&quot;: 2.230769230769229, &quot;z&quot;: -7.431147368789598}, {&quot;x&quot;: 1.7692307692307678, &quot;y&quot;: 2.384615384615383, &quot;z&quot;: -6.721088197191967}, {&quot;x&quot;: 1.7692307692307678, &quot;y&quot;: 2.5384615384615365, &quot;z&quot;: -5.963691747487825}, {&quot;x&quot;: 1.7692307692307678, &quot;y&quot;: 2.6923076923076903, &quot;z&quot;: -5.158958019677176}, {&quot;x&quot;: 1.7692307692307678, &quot;y&quot;: 2.846153846153844, &quot;z&quot;: -4.306887013760017}, {&quot;x&quot;: 1.7692307692307678, &quot;y&quot;: 3.0, &quot;z&quot;: -3.4074787297363365}, {&quot;x&quot;: 1.9230769230769216, &quot;y&quot;: -2.8461538461538463, &quot;z&quot;: -6.481600784286238}, {&quot;x&quot;: 1.9230769230769216, &quot;y&quot;: -3.0, &quot;z&quot;: -5.58219250026257}, {&quot;x&quot;: 1.9230769230769216, &quot;y&quot;: -2.6923076923076925, &quot;z&quot;: -7.333671790203398}, {&quot;x&quot;: 1.9230769230769216, &quot;y&quot;: -2.5384615384615388, &quot;z&quot;: -8.138405518014048}, {&quot;x&quot;: 1.9230769230769216, &quot;y&quot;: -2.384615384615385, &quot;z&quot;: -8.895801967718189}, {&quot;x&quot;: 1.9230769230769216, &quot;y&quot;: -2.2307692307692313, &quot;z&quot;: -9.605861139315822}, {&quot;x&quot;: 1.9230769230769216, &quot;y&quot;: -2.0769230769230775, &quot;z&quot;: -10.268583032806946}, {&quot;x&quot;: 1.9230769230769216, &quot;y&quot;: -1.9230769230769238, &quot;z&quot;: -10.883967648191561}, {&quot;x&quot;: 1.9230769230769216, &quot;y&quot;: -1.76923076923077, &quot;z&quot;: -11.452014985469667}, {&quot;x&quot;: 1.9230769230769216, &quot;y&quot;: -1.6153846153846163, &quot;z&quot;: -11.972725044641265}, {&quot;x&quot;: 1.9230769230769216, &quot;y&quot;: -1.4615384615384626, &quot;z&quot;: -12.446097825706353}, {&quot;x&quot;: 1.9230769230769216, &quot;y&quot;: -1.3076923076923088, &quot;z&quot;: -12.872133328664933}, {&quot;x&quot;: 1.9230769230769216, &quot;y&quot;: -1.153846153846155, &quot;z&quot;: -13.250831553517004}, {&quot;x&quot;: 1.9230769230769216, &quot;y&quot;: -1.0000000000000013, &quot;z&quot;: -13.582192500262568}, {&quot;x&quot;: 1.9230769230769216, &quot;y&quot;: -0.8461538461538475, &quot;z&quot;: -13.866216168901621}, {&quot;x&quot;: 1.9230769230769216, &quot;y&quot;: -0.6923076923076936, &quot;z&quot;: -14.102902559434167}, {&quot;x&quot;: 1.9230769230769216, &quot;y&quot;: -0.5384615384615398, &quot;z&quot;: -14.292251671860202}, {&quot;x&quot;: 1.9230769230769216, &quot;y&quot;: -0.3846153846153859, &quot;z&quot;: -14.434263506179729}, {&quot;x&quot;: 1.9230769230769216, &quot;y&quot;: -0.23076923076923206, &quot;z&quot;: -14.528938062392747}, {&quot;x&quot;: 1.9230769230769216, &quot;y&quot;: -0.0769230769230782, &quot;z&quot;: -14.576275340499256}, {&quot;x&quot;: 1.9230769230769216, &quot;y&quot;: 0.07692307692307565, &quot;z&quot;: -14.576275340499256}, {&quot;x&quot;: 1.9230769230769216, &quot;y&quot;: 0.2307692307692295, &quot;z&quot;: -14.528938062392747}, {&quot;x&quot;: 1.9230769230769216, &quot;y&quot;: 0.38461538461538336, &quot;z&quot;: -14.43426350617973}, {&quot;x&quot;: 1.9230769230769216, &quot;y&quot;: 0.5384615384615372, &quot;z&quot;: -14.292251671860205}, {&quot;x&quot;: 1.9230769230769216, &quot;y&quot;: 0.6923076923076911, &quot;z&quot;: -14.10290255943417}, {&quot;x&quot;: 1.9230769230769216, &quot;y&quot;: 0.8461538461538449, &quot;z&quot;: -13.866216168901625}, {&quot;x&quot;: 1.9230769230769216, &quot;y&quot;: 0.9999999999999988, &quot;z&quot;: -13.582192500262572}, {&quot;x&quot;: 1.9230769230769216, &quot;y&quot;: 1.1538461538461526, &quot;z&quot;: -13.25083155351701}, {&quot;x&quot;: 1.9230769230769216, &quot;y&quot;: 1.3076923076923066, &quot;z&quot;: -12.87213332866494}, {&quot;x&quot;: 1.9230769230769216, &quot;y&quot;: 1.4615384615384603, &quot;z&quot;: -12.44609782570636}, {&quot;x&quot;: 1.9230769230769216, &quot;y&quot;: 1.615384615384614, &quot;z&quot;: -11.972725044641273}, {&quot;x&quot;: 1.9230769230769216, &quot;y&quot;: 1.7692307692307678, &quot;z&quot;: -11.452014985469676}, {&quot;x&quot;: 1.9230769230769216, &quot;y&quot;: 1.9230769230769216, &quot;z&quot;: -10.88396764819157}, {&quot;x&quot;: 1.9230769230769216, &quot;y&quot;: 2.0769230769230753, &quot;z&quot;: -10.268583032806955}, {&quot;x&quot;: 1.9230769230769216, &quot;y&quot;: 2.230769230769229, &quot;z&quot;: -9.60586113931583}, {&quot;x&quot;: 1.9230769230769216, &quot;y&quot;: 2.384615384615383, &quot;z&quot;: -8.8958019677182}, {&quot;x&quot;: 1.9230769230769216, &quot;y&quot;: 2.5384615384615365, &quot;z&quot;: -8.138405518014059}, {&quot;x&quot;: 1.9230769230769216, &quot;y&quot;: 2.6923076923076903, &quot;z&quot;: -7.333671790203409}, {&quot;x&quot;: 1.9230769230769216, &quot;y&quot;: 2.846153846153844, &quot;z&quot;: -6.48160078428625}, {&quot;x&quot;: 1.9230769230769216, &quot;y&quot;: 3.0, &quot;z&quot;: -5.58219250026257}, {&quot;x&quot;: 2.0769230769230753, &quot;y&quot;: -2.8461538461538463, &quot;z&quot;: -9.565806519379532}, {&quot;x&quot;: 2.0769230769230753, &quot;y&quot;: -3.0, &quot;z&quot;: -8.666398235355864}, {&quot;x&quot;: 2.0769230769230753, &quot;y&quot;: -2.6923076923076925, &quot;z&quot;: -10.417877525296692}, {&quot;x&quot;: 2.0769230769230753, &quot;y&quot;: -2.5384615384615388, &quot;z&quot;: -11.222611253107342}, {&quot;x&quot;: 2.0769230769230753, &quot;y&quot;: -2.384615384615385, &quot;z&quot;: -11.980007702811484}, {&quot;x&quot;: 2.0769230769230753, &quot;y&quot;: -2.2307692307692313, &quot;z&quot;: -12.690066874409116}, {&quot;x&quot;: 2.0769230769230753, &quot;y&quot;: -2.0769230769230775, &quot;z&quot;: -13.35278876790024}, {&quot;x&quot;: 2.0769230769230753, &quot;y&quot;: -1.9230769230769238, &quot;z&quot;: -13.968173383284855}, {&quot;x&quot;: 2.0769230769230753, &quot;y&quot;: -1.76923076923077, &quot;z&quot;: -14.536220720562962}, {&quot;x&quot;: 2.0769230769230753, &quot;y&quot;: -1.6153846153846163, &quot;z&quot;: -15.056930779734559}, {&quot;x&quot;: 2.0769230769230753, &quot;y&quot;: -1.4615384615384626, &quot;z&quot;: -15.530303560799648}, {&quot;x&quot;: 2.0769230769230753, &quot;y&quot;: -1.3076923076923088, &quot;z&quot;: -15.956339063758229}, {&quot;x&quot;: 2.0769230769230753, &quot;y&quot;: -1.153846153846155, &quot;z&quot;: -16.335037288610298}, {&quot;x&quot;: 2.0769230769230753, &quot;y&quot;: -1.0000000000000013, &quot;z&quot;: -16.66639823535586}, {&quot;x&quot;: 2.0769230769230753, &quot;y&quot;: -0.8461538461538475, &quot;z&quot;: -16.950421903994915}, {&quot;x&quot;: 2.0769230769230753, &quot;y&quot;: -0.6923076923076936, &quot;z&quot;: -17.18710829452746}, {&quot;x&quot;: 2.0769230769230753, &quot;y&quot;: -0.5384615384615398, &quot;z&quot;: -17.376457406953495}, {&quot;x&quot;: 2.0769230769230753, &quot;y&quot;: -0.3846153846153859, &quot;z&quot;: -17.518469241273024}, {&quot;x&quot;: 2.0769230769230753, &quot;y&quot;: -0.23076923076923206, &quot;z&quot;: -17.61314379748604}, {&quot;x&quot;: 2.0769230769230753, &quot;y&quot;: -0.0769230769230782, &quot;z&quot;: -17.66048107559255}, {&quot;x&quot;: 2.0769230769230753, &quot;y&quot;: 0.07692307692307565, &quot;z&quot;: -17.66048107559255}, {&quot;x&quot;: 2.0769230769230753, &quot;y&quot;: 0.2307692307692295, &quot;z&quot;: -17.613143797486043}, {&quot;x&quot;: 2.0769230769230753, &quot;y&quot;: 0.38461538461538336, &quot;z&quot;: -17.518469241273024}, {&quot;x&quot;: 2.0769230769230753, &quot;y&quot;: 0.5384615384615372, &quot;z&quot;: -17.3764574069535}, {&quot;x&quot;: 2.0769230769230753, &quot;y&quot;: 0.6923076923076911, &quot;z&quot;: -17.187108294527462}, {&quot;x&quot;: 2.0769230769230753, &quot;y&quot;: 0.8461538461538449, &quot;z&quot;: -16.95042190399492}, {&quot;x&quot;: 2.0769230769230753, &quot;y&quot;: 0.9999999999999988, &quot;z&quot;: -16.666398235355867}, {&quot;x&quot;: 2.0769230769230753, &quot;y&quot;: 1.1538461538461526, &quot;z&quot;: -16.335037288610305}, {&quot;x&quot;: 2.0769230769230753, &quot;y&quot;: 1.3076923076923066, &quot;z&quot;: -15.956339063758232}, {&quot;x&quot;: 2.0769230769230753, &quot;y&quot;: 1.4615384615384603, &quot;z&quot;: -15.530303560799654}, {&quot;x&quot;: 2.0769230769230753, &quot;y&quot;: 1.615384615384614, &quot;z&quot;: -15.056930779734566}, {&quot;x&quot;: 2.0769230769230753, &quot;y&quot;: 1.7692307692307678, &quot;z&quot;: -14.53622072056297}, {&quot;x&quot;: 2.0769230769230753, &quot;y&quot;: 1.9230769230769216, &quot;z&quot;: -13.968173383284864}, {&quot;x&quot;: 2.0769230769230753, &quot;y&quot;: 2.0769230769230753, &quot;z&quot;: -13.35278876790025}, {&quot;x&quot;: 2.0769230769230753, &quot;y&quot;: 2.230769230769229, &quot;z&quot;: -12.690066874409126}, {&quot;x&quot;: 2.0769230769230753, &quot;y&quot;: 2.384615384615383, &quot;z&quot;: -11.980007702811495}, {&quot;x&quot;: 2.0769230769230753, &quot;y&quot;: 2.5384615384615365, &quot;z&quot;: -11.222611253107353}, {&quot;x&quot;: 2.0769230769230753, &quot;y&quot;: 2.6923076923076903, &quot;z&quot;: -10.417877525296703}, {&quot;x&quot;: 2.0769230769230753, &quot;y&quot;: 2.846153846153844, &quot;z&quot;: -9.565806519379544}, {&quot;x&quot;: 2.0769230769230753, &quot;y&quot;: 3.0, &quot;z&quot;: -8.666398235355864}, {&quot;x&quot;: 2.230769230769229, &quot;y&quot;: -2.8461538461538463, &quot;z&quot;: -13.734288015125468}, {&quot;x&quot;: 2.230769230769229, &quot;y&quot;: -3.0, &quot;z&quot;: -12.8348797311018}, {&quot;x&quot;: 2.230769230769229, &quot;y&quot;: -2.6923076923076925, &quot;z&quot;: -14.586359021042629}, {&quot;x&quot;: 2.230769230769229, &quot;y&quot;: -2.5384615384615388, &quot;z&quot;: -15.391092748853278}, {&quot;x&quot;: 2.230769230769229, &quot;y&quot;: -2.384615384615385, &quot;z&quot;: -16.14848919855742}, {&quot;x&quot;: 2.230769230769229, &quot;y&quot;: -2.2307692307692313, &quot;z&quot;: -16.858548370155052}, {&quot;x&quot;: 2.230769230769229, &quot;y&quot;: -2.0769230769230775, &quot;z&quot;: -17.521270263646176}, {&quot;x&quot;: 2.230769230769229, &quot;y&quot;: -1.9230769230769238, &quot;z&quot;: -18.136654879030793}, {&quot;x&quot;: 2.230769230769229, &quot;y&quot;: -1.76923076923077, &quot;z&quot;: -18.7047022163089}, {&quot;x&quot;: 2.230769230769229, &quot;y&quot;: -1.6153846153846163, &quot;z&quot;: -19.225412275480494}, {&quot;x&quot;: 2.230769230769229, &quot;y&quot;: -1.4615384615384626, &quot;z&quot;: -19.698785056545585}, {&quot;x&quot;: 2.230769230769229, &quot;y&quot;: -1.3076923076923088, &quot;z&quot;: -20.124820559504165}, {&quot;x&quot;: 2.230769230769229, &quot;y&quot;: -1.153846153846155, &quot;z&quot;: -20.503518784356235}, {&quot;x&quot;: 2.230769230769229, &quot;y&quot;: -1.0000000000000013, &quot;z&quot;: -20.834879731101797}, {&quot;x&quot;: 2.230769230769229, &quot;y&quot;: -0.8461538461538475, &quot;z&quot;: -21.11890339974085}, {&quot;x&quot;: 2.230769230769229, &quot;y&quot;: -0.6923076923076936, &quot;z&quot;: -21.355589790273395}, {&quot;x&quot;: 2.230769230769229, &quot;y&quot;: -0.5384615384615398, &quot;z&quot;: -21.544938902699432}, {&quot;x&quot;: 2.230769230769229, &quot;y&quot;: -0.3846153846153859, &quot;z&quot;: -21.68695073701896}, {&quot;x&quot;: 2.230769230769229, &quot;y&quot;: -0.23076923076923206, &quot;z&quot;: -21.781625293231976}, {&quot;x&quot;: 2.230769230769229, &quot;y&quot;: -0.0769230769230782, &quot;z&quot;: -21.828962571338486}, {&quot;x&quot;: 2.230769230769229, &quot;y&quot;: 0.07692307692307565, &quot;z&quot;: -21.828962571338486}, {&quot;x&quot;: 2.230769230769229, &quot;y&quot;: 0.2307692307692295, &quot;z&quot;: -21.78162529323198}, {&quot;x&quot;: 2.230769230769229, &quot;y&quot;: 0.38461538461538336, &quot;z&quot;: -21.68695073701896}, {&quot;x&quot;: 2.230769230769229, &quot;y&quot;: 0.5384615384615372, &quot;z&quot;: -21.544938902699435}, {&quot;x&quot;: 2.230769230769229, &quot;y&quot;: 0.6923076923076911, &quot;z&quot;: -21.3555897902734}, {&quot;x&quot;: 2.230769230769229, &quot;y&quot;: 0.8461538461538449, &quot;z&quot;: -21.118903399740855}, {&quot;x&quot;: 2.230769230769229, &quot;y&quot;: 0.9999999999999988, &quot;z&quot;: -20.8348797311018}, {&quot;x&quot;: 2.230769230769229, &quot;y&quot;: 1.1538461538461526, &quot;z&quot;: -20.503518784356242}, {&quot;x&quot;: 2.230769230769229, &quot;y&quot;: 1.3076923076923066, &quot;z&quot;: -20.124820559504172}, {&quot;x&quot;: 2.230769230769229, &quot;y&quot;: 1.4615384615384603, &quot;z&quot;: -19.69878505654559}, {&quot;x&quot;: 2.230769230769229, &quot;y&quot;: 1.615384615384614, &quot;z&quot;: -19.2254122754805}, {&quot;x&quot;: 2.230769230769229, &quot;y&quot;: 1.7692307692307678, &quot;z&quot;: -18.704702216308906}, {&quot;x&quot;: 2.230769230769229, &quot;y&quot;: 1.9230769230769216, &quot;z&quot;: -18.1366548790308}, {&quot;x&quot;: 2.230769230769229, &quot;y&quot;: 2.0769230769230753, &quot;z&quot;: -17.521270263646187}, {&quot;x&quot;: 2.230769230769229, &quot;y&quot;: 2.230769230769229, &quot;z&quot;: -16.858548370155063}, {&quot;x&quot;: 2.230769230769229, &quot;y&quot;: 2.384615384615383, &quot;z&quot;: -16.14848919855743}, {&quot;x&quot;: 2.230769230769229, &quot;y&quot;: 2.5384615384615365, &quot;z&quot;: -15.39109274885329}, {&quot;x&quot;: 2.230769230769229, &quot;y&quot;: 2.6923076923076903, &quot;z&quot;: -14.58635902104264}, {&quot;x&quot;: 2.230769230769229, &quot;y&quot;: 2.846153846153844, &quot;z&quot;: -13.73428801512548}, {&quot;x&quot;: 2.230769230769229, &quot;y&quot;: 3.0, &quot;z&quot;: -12.8348797311018}, {&quot;x&quot;: 2.384615384615383, &quot;y&quot;: -2.8461538461538463, &quot;z&quot;: -19.175273975000795}, {&quot;x&quot;: 2.384615384615383, &quot;y&quot;: -3.0, &quot;z&quot;: -18.275865690977128}, {&quot;x&quot;: 2.384615384615383, &quot;y&quot;: -2.6923076923076925, &quot;z&quot;: -20.027344980917956}, {&quot;x&quot;: 2.384615384615383, &quot;y&quot;: -2.5384615384615388, &quot;z&quot;: -20.832078708728606}, {&quot;x&quot;: 2.384615384615383, &quot;y&quot;: -2.384615384615385, &quot;z&quot;: -21.589475158432748}, {&quot;x&quot;: 2.384615384615383, &quot;y&quot;: -2.2307692307692313, &quot;z&quot;: -22.29953433003038}, {&quot;x&quot;: 2.384615384615383, &quot;y&quot;: -2.0769230769230775, &quot;z&quot;: -22.962256223521504}, {&quot;x&quot;: 2.384615384615383, &quot;y&quot;: -1.9230769230769238, &quot;z&quot;: -23.57764083890612}, {&quot;x&quot;: 2.384615384615383, &quot;y&quot;: -1.76923076923077, &quot;z&quot;: -24.145688176184226}, {&quot;x&quot;: 2.384615384615383, &quot;y&quot;: -1.6153846153846163, &quot;z&quot;: -24.66639823535582}, {&quot;x&quot;: 2.384615384615383, &quot;y&quot;: -1.4615384615384626, &quot;z&quot;: -25.139771016420912}, {&quot;x&quot;: 2.384615384615383, &quot;y&quot;: -1.3076923076923088, &quot;z&quot;: -25.565806519379493}, {&quot;x&quot;: 2.384615384615383, &quot;y&quot;: -1.153846153846155, &quot;z&quot;: -25.944504744231562}, {&quot;x&quot;: 2.384615384615383, &quot;y&quot;: -1.0000000000000013, &quot;z&quot;: -26.275865690977124}, {&quot;x&quot;: 2.384615384615383, &quot;y&quot;: -0.8461538461538475, &quot;z&quot;: -26.55988935961618}, {&quot;x&quot;: 2.384615384615383, &quot;y&quot;: -0.6923076923076936, &quot;z&quot;: -26.796575750148723}, {&quot;x&quot;: 2.384615384615383, &quot;y&quot;: -0.5384615384615398, &quot;z&quot;: -26.98592486257476}, {&quot;x&quot;: 2.384615384615383, &quot;y&quot;: -0.3846153846153859, &quot;z&quot;: -27.127936696894288}, {&quot;x&quot;: 2.384615384615383, &quot;y&quot;: -0.23076923076923206, &quot;z&quot;: -27.222611253107303}, {&quot;x&quot;: 2.384615384615383, &quot;y&quot;: -0.0769230769230782, &quot;z&quot;: -27.269948531213814}, {&quot;x&quot;: 2.384615384615383, &quot;y&quot;: 0.07692307692307565, &quot;z&quot;: -27.269948531213814}, {&quot;x&quot;: 2.384615384615383, &quot;y&quot;: 0.2307692307692295, &quot;z&quot;: -27.222611253107306}, {&quot;x&quot;: 2.384615384615383, &quot;y&quot;: 0.38461538461538336, &quot;z&quot;: -27.127936696894288}, {&quot;x&quot;: 2.384615384615383, &quot;y&quot;: 0.5384615384615372, &quot;z&quot;: -26.985924862574763}, {&quot;x&quot;: 2.384615384615383, &quot;y&quot;: 0.6923076923076911, &quot;z&quot;: -26.796575750148726}, {&quot;x&quot;: 2.384615384615383, &quot;y&quot;: 0.8461538461538449, &quot;z&quot;: -26.559889359616182}, {&quot;x&quot;: 2.384615384615383, &quot;y&quot;: 0.9999999999999988, &quot;z&quot;: -26.275865690977128}, {&quot;x&quot;: 2.384615384615383, &quot;y&quot;: 1.1538461538461526, &quot;z&quot;: -25.94450474423157}, {&quot;x&quot;: 2.384615384615383, &quot;y&quot;: 1.3076923076923066, &quot;z&quot;: -25.5658065193795}, {&quot;x&quot;: 2.384615384615383, &quot;y&quot;: 1.4615384615384603, &quot;z&quot;: -25.139771016420916}, {&quot;x&quot;: 2.384615384615383, &quot;y&quot;: 1.615384615384614, &quot;z&quot;: -24.666398235355828}, {&quot;x&quot;: 2.384615384615383, &quot;y&quot;: 1.7692307692307678, &quot;z&quot;: -24.145688176184233}, {&quot;x&quot;: 2.384615384615383, &quot;y&quot;: 1.9230769230769216, &quot;z&quot;: -23.577640838906127}, {&quot;x&quot;: 2.384615384615383, &quot;y&quot;: 2.0769230769230753, &quot;z&quot;: -22.962256223521514}, {&quot;x&quot;: 2.384615384615383, &quot;y&quot;: 2.230769230769229, &quot;z&quot;: -22.29953433003039}, {&quot;x&quot;: 2.384615384615383, &quot;y&quot;: 2.384615384615383, &quot;z&quot;: -21.58947515843276}, {&quot;x&quot;: 2.384615384615383, &quot;y&quot;: 2.5384615384615365, &quot;z&quot;: -20.832078708728616}, {&quot;x&quot;: 2.384615384615383, &quot;y&quot;: 2.6923076923076903, &quot;z&quot;: -20.027344980917967}, {&quot;x&quot;: 2.384615384615383, &quot;y&quot;: 2.846153846153844, &quot;z&quot;: -19.175273975000806}, {&quot;x&quot;: 2.384615384615383, &quot;y&quot;: 3.0, &quot;z&quot;: -18.275865690977128}, {&quot;x&quot;: 2.5384615384615365, &quot;y&quot;: -2.8461538461538463, &quot;z&quot;: -26.090438009873512}, {&quot;x&quot;: 2.5384615384615365, &quot;y&quot;: -3.0, &quot;z&quot;: -25.191029725849845}, {&quot;x&quot;: 2.5384615384615365, &quot;y&quot;: -2.6923076923076925, &quot;z&quot;: -26.942509015790673}, {&quot;x&quot;: 2.5384615384615365, &quot;y&quot;: -2.5384615384615388, &quot;z&quot;: -27.747242743601323}, {&quot;x&quot;: 2.5384615384615365, &quot;y&quot;: -2.384615384615385, &quot;z&quot;: -28.504639193305465}, {&quot;x&quot;: 2.5384615384615365, &quot;y&quot;: -2.2307692307692313, &quot;z&quot;: -29.214698364903096}, {&quot;x&quot;: 2.5384615384615365, &quot;y&quot;: -2.0769230769230775, &quot;z&quot;: -29.87742025839422}, {&quot;x&quot;: 2.5384615384615365, &quot;y&quot;: -1.9230769230769238, &quot;z&quot;: -30.492804873778837}, {&quot;x&quot;: 2.5384615384615365, &quot;y&quot;: -1.76923076923077, &quot;z&quot;: -31.060852211056943}, {&quot;x&quot;: 2.5384615384615365, &quot;y&quot;: -1.6153846153846163, &quot;z&quot;: -31.581562270228538}, {&quot;x&quot;: 2.5384615384615365, &quot;y&quot;: -1.4615384615384626, &quot;z&quot;: -32.054935051293626}, {&quot;x&quot;: 2.5384615384615365, &quot;y&quot;: -1.3076923076923088, &quot;z&quot;: -32.48097055425221}, {&quot;x&quot;: 2.5384615384615365, &quot;y&quot;: -1.153846153846155, &quot;z&quot;: -32.85966877910428}, {&quot;x&quot;: 2.5384615384615365, &quot;y&quot;: -1.0000000000000013, &quot;z&quot;: -33.191029725849845}, {&quot;x&quot;: 2.5384615384615365, &quot;y&quot;: -0.8461538461538475, &quot;z&quot;: -33.475053394488896}, {&quot;x&quot;: 2.5384615384615365, &quot;y&quot;: -0.6923076923076936, &quot;z&quot;: -33.711739785021436}, {&quot;x&quot;: 2.5384615384615365, &quot;y&quot;: -0.5384615384615398, &quot;z&quot;: -33.90108889744748}, {&quot;x&quot;: 2.5384615384615365, &quot;y&quot;: -0.3846153846153859, &quot;z&quot;: -34.043100731767}, {&quot;x&quot;: 2.5384615384615365, &quot;y&quot;: -0.23076923076923206, &quot;z&quot;: -34.13777528798002}, {&quot;x&quot;: 2.5384615384615365, &quot;y&quot;: -0.0769230769230782, &quot;z&quot;: -34.18511256608653}, {&quot;x&quot;: 2.5384615384615365, &quot;y&quot;: 0.07692307692307565, &quot;z&quot;: -34.18511256608653}, {&quot;x&quot;: 2.5384615384615365, &quot;y&quot;: 0.2307692307692295, &quot;z&quot;: -34.13777528798002}, {&quot;x&quot;: 2.5384615384615365, &quot;y&quot;: 0.38461538461538336, &quot;z&quot;: -34.043100731767005}, {&quot;x&quot;: 2.5384615384615365, &quot;y&quot;: 0.5384615384615372, &quot;z&quot;: -33.90108889744748}, {&quot;x&quot;: 2.5384615384615365, &quot;y&quot;: 0.6923076923076911, &quot;z&quot;: -33.71173978502144}, {&quot;x&quot;: 2.5384615384615365, &quot;y&quot;: 0.8461538461538449, &quot;z&quot;: -33.475053394488896}, {&quot;x&quot;: 2.5384615384615365, &quot;y&quot;: 0.9999999999999988, &quot;z&quot;: -33.191029725849845}, {&quot;x&quot;: 2.5384615384615365, &quot;y&quot;: 1.1538461538461526, &quot;z&quot;: -32.85966877910428}, {&quot;x&quot;: 2.5384615384615365, &quot;y&quot;: 1.3076923076923066, &quot;z&quot;: -32.48097055425221}, {&quot;x&quot;: 2.5384615384615365, &quot;y&quot;: 1.4615384615384603, &quot;z&quot;: -32.05493505129364}, {&quot;x&quot;: 2.5384615384615365, &quot;y&quot;: 1.615384615384614, &quot;z&quot;: -31.581562270228545}, {&quot;x&quot;: 2.5384615384615365, &quot;y&quot;: 1.7692307692307678, &quot;z&quot;: -31.06085221105695}, {&quot;x&quot;: 2.5384615384615365, &quot;y&quot;: 1.9230769230769216, &quot;z&quot;: -30.492804873778844}, {&quot;x&quot;: 2.5384615384615365, &quot;y&quot;: 2.0769230769230753, &quot;z&quot;: -29.87742025839423}, {&quot;x&quot;: 2.5384615384615365, &quot;y&quot;: 2.230769230769229, &quot;z&quot;: -29.214698364903107}, {&quot;x&quot;: 2.5384615384615365, &quot;y&quot;: 2.384615384615383, &quot;z&quot;: -28.504639193305476}, {&quot;x&quot;: 2.5384615384615365, &quot;y&quot;: 2.5384615384615365, &quot;z&quot;: -27.747242743601333}, {&quot;x&quot;: 2.5384615384615365, &quot;y&quot;: 2.6923076923076903, &quot;z&quot;: -26.942509015790684}, {&quot;x&quot;: 2.5384615384615365, &quot;y&quot;: 2.846153846153844, &quot;z&quot;: -26.090438009873523}, {&quot;x&quot;: 2.5384615384615365, &quot;y&quot;: 3.0, &quot;z&quot;: -25.191029725849845}, {&quot;x&quot;: 2.6923076923076903, &quot;y&quot;: -2.8461538461538463, &quot;z&quot;: -34.69489863800274}, {&quot;x&quot;: 2.6923076923076903, &quot;y&quot;: -3.0, &quot;z&quot;: -33.795490353979076}, {&quot;x&quot;: 2.6923076923076903, &quot;y&quot;: -2.6923076923076925, &quot;z&quot;: -35.54696964391991}, {&quot;x&quot;: 2.6923076923076903, &quot;y&quot;: -2.5384615384615388, &quot;z&quot;: -36.35170337173055}, {&quot;x&quot;: 2.6923076923076903, &quot;y&quot;: -2.384615384615385, &quot;z&quot;: -37.1090998214347}, {&quot;x&quot;: 2.6923076923076903, &quot;y&quot;: -2.2307692307692313, &quot;z&quot;: -37.81915899303233}, {&quot;x&quot;: 2.6923076923076903, &quot;y&quot;: -2.0769230769230775, &quot;z&quot;: -38.481880886523456}, {&quot;x&quot;: 2.6923076923076903, &quot;y&quot;: -1.9230769230769238, &quot;z&quot;: -39.09726550190807}, {&quot;x&quot;: 2.6923076923076903, &quot;y&quot;: -1.76923076923077, &quot;z&quot;: -39.66531283918617}, {&quot;x&quot;: 2.6923076923076903, &quot;y&quot;: -1.6153846153846163, &quot;z&quot;: -40.18602289835777}, {&quot;x&quot;: 2.6923076923076903, &quot;y&quot;: -1.4615384615384626, &quot;z&quot;: -40.65939567942286}, {&quot;x&quot;: 2.6923076923076903, &quot;y&quot;: -1.3076923076923088, &quot;z&quot;: -41.08543118238144}, {&quot;x&quot;: 2.6923076923076903, &quot;y&quot;: -1.153846153846155, &quot;z&quot;: -41.464129407233514}, {&quot;x&quot;: 2.6923076923076903, &quot;y&quot;: -1.0000000000000013, &quot;z&quot;: -41.795490353979076}, {&quot;x&quot;: 2.6923076923076903, &quot;y&quot;: -0.8461538461538475, &quot;z&quot;: -42.07951402261813}, {&quot;x&quot;: 2.6923076923076903, &quot;y&quot;: -0.6923076923076936, &quot;z&quot;: -42.31620041315067}, {&quot;x&quot;: 2.6923076923076903, &quot;y&quot;: -0.5384615384615398, &quot;z&quot;: -42.50554952557671}, {&quot;x&quot;: 2.6923076923076903, &quot;y&quot;: -0.3846153846153859, &quot;z&quot;: -42.64756135989623}, {&quot;x&quot;: 2.6923076923076903, &quot;y&quot;: -0.23076923076923206, &quot;z&quot;: -42.74223591610925}, {&quot;x&quot;: 2.6923076923076903, &quot;y&quot;: -0.0769230769230782, &quot;z&quot;: -42.78957319421576}, {&quot;x&quot;: 2.6923076923076903, &quot;y&quot;: 0.07692307692307565, &quot;z&quot;: -42.78957319421576}, {&quot;x&quot;: 2.6923076923076903, &quot;y&quot;: 0.2307692307692295, &quot;z&quot;: -42.74223591610925}, {&quot;x&quot;: 2.6923076923076903, &quot;y&quot;: 0.38461538461538336, &quot;z&quot;: -42.64756135989624}, {&quot;x&quot;: 2.6923076923076903, &quot;y&quot;: 0.5384615384615372, &quot;z&quot;: -42.50554952557671}, {&quot;x&quot;: 2.6923076923076903, &quot;y&quot;: 0.6923076923076911, &quot;z&quot;: -42.316200413150675}, {&quot;x&quot;: 2.6923076923076903, &quot;y&quot;: 0.8461538461538449, &quot;z&quot;: -42.07951402261813}, {&quot;x&quot;: 2.6923076923076903, &quot;y&quot;: 0.9999999999999988, &quot;z&quot;: -41.795490353979076}, {&quot;x&quot;: 2.6923076923076903, &quot;y&quot;: 1.1538461538461526, &quot;z&quot;: -41.464129407233514}, {&quot;x&quot;: 2.6923076923076903, &quot;y&quot;: 1.3076923076923066, &quot;z&quot;: -41.08543118238144}, {&quot;x&quot;: 2.6923076923076903, &quot;y&quot;: 1.4615384615384603, &quot;z&quot;: -40.65939567942287}, {&quot;x&quot;: 2.6923076923076903, &quot;y&quot;: 1.615384615384614, &quot;z&quot;: -40.18602289835778}, {&quot;x&quot;: 2.6923076923076903, &quot;y&quot;: 1.7692307692307678, &quot;z&quot;: -39.665312839186186}, {&quot;x&quot;: 2.6923076923076903, &quot;y&quot;: 1.9230769230769216, &quot;z&quot;: -39.097265501908076}, {&quot;x&quot;: 2.6923076923076903, &quot;y&quot;: 2.0769230769230753, &quot;z&quot;: -38.48188088652346}, {&quot;x&quot;: 2.6923076923076903, &quot;y&quot;: 2.230769230769229, &quot;z&quot;: -37.81915899303234}, {&quot;x&quot;: 2.6923076923076903, &quot;y&quot;: 2.384615384615383, &quot;z&quot;: -37.10909982143471}, {&quot;x&quot;: 2.6923076923076903, &quot;y&quot;: 2.5384615384615365, &quot;z&quot;: -36.351703371730565}, {&quot;x&quot;: 2.6923076923076903, &quot;y&quot;: 2.6923076923076903, &quot;z&quot;: -35.546969643919915}, {&quot;x&quot;: 2.6923076923076903, &quot;y&quot;: 2.846153846153844, &quot;z&quot;: -34.694898638002755}, {&quot;x&quot;: 2.6923076923076903, &quot;y&quot;: 3.0, &quot;z&quot;: -33.795490353979076}, {&quot;x&quot;: 2.846153846153844, &quot;y&quot;: -2.8461538461538463, &quot;z&quot;: -45.217219285038894}, {&quot;x&quot;: 2.846153846153844, &quot;y&quot;: -3.0, &quot;z&quot;: -44.31781100101522}, {&quot;x&quot;: 2.846153846153844, &quot;y&quot;: -2.6923076923076925, &quot;z&quot;: -46.06929029095605}, {&quot;x&quot;: 2.846153846153844, &quot;y&quot;: -2.5384615384615388, &quot;z&quot;: -46.874024018766704}, {&quot;x&quot;: 2.846153846153844, &quot;y&quot;: -2.384615384615385, &quot;z&quot;: -47.63142046847084}, {&quot;x&quot;: 2.846153846153844, &quot;y&quot;: -2.2307692307692313, &quot;z&quot;: -48.34147964006847}, {&quot;x&quot;: 2.846153846153844, &quot;y&quot;: -2.0769230769230775, &quot;z&quot;: -49.004201533559595}, {&quot;x&quot;: 2.846153846153844, &quot;y&quot;: -1.9230769230769238, &quot;z&quot;: -49.619586148944215}, {&quot;x&quot;: 2.846153846153844, &quot;y&quot;: -1.76923076923077, &quot;z&quot;: -50.18763348622232}, {&quot;x&quot;: 2.846153846153844, &quot;y&quot;: -1.6153846153846163, &quot;z&quot;: -50.708343545393916}, {&quot;x&quot;: 2.846153846153844, &quot;y&quot;: -1.4615384615384626, &quot;z&quot;: -51.181716326459004}, {&quot;x&quot;: 2.846153846153844, &quot;y&quot;: -1.3076923076923088, &quot;z&quot;: -51.60775182941759}, {&quot;x&quot;: 2.846153846153844, &quot;y&quot;: -1.153846153846155, &quot;z&quot;: -51.98645005426966}, {&quot;x&quot;: 2.846153846153844, &quot;y&quot;: -1.0000000000000013, &quot;z&quot;: -52.31781100101522}, {&quot;x&quot;: 2.846153846153844, &quot;y&quot;: -0.8461538461538475, &quot;z&quot;: -52.601834669654274}, {&quot;x&quot;: 2.846153846153844, &quot;y&quot;: -0.6923076923076936, &quot;z&quot;: -52.83852106018682}, {&quot;x&quot;: 2.846153846153844, &quot;y&quot;: -0.5384615384615398, &quot;z&quot;: -53.02787017261286}, {&quot;x&quot;: 2.846153846153844, &quot;y&quot;: -0.3846153846153859, &quot;z&quot;: -53.16988200693238}, {&quot;x&quot;: 2.846153846153844, &quot;y&quot;: -0.23076923076923206, &quot;z&quot;: -53.2645565631454}, {&quot;x&quot;: 2.846153846153844, &quot;y&quot;: -0.0769230769230782, &quot;z&quot;: -53.31189384125191}, {&quot;x&quot;: 2.846153846153844, &quot;y&quot;: 0.07692307692307565, &quot;z&quot;: -53.31189384125191}, {&quot;x&quot;: 2.846153846153844, &quot;y&quot;: 0.2307692307692295, &quot;z&quot;: -53.2645565631454}, {&quot;x&quot;: 2.846153846153844, &quot;y&quot;: 0.38461538461538336, &quot;z&quot;: -53.16988200693238}, {&quot;x&quot;: 2.846153846153844, &quot;y&quot;: 0.5384615384615372, &quot;z&quot;: -53.02787017261286}, {&quot;x&quot;: 2.846153846153844, &quot;y&quot;: 0.6923076923076911, &quot;z&quot;: -52.83852106018682}, {&quot;x&quot;: 2.846153846153844, &quot;y&quot;: 0.8461538461538449, &quot;z&quot;: -52.60183466965428}, {&quot;x&quot;: 2.846153846153844, &quot;y&quot;: 0.9999999999999988, &quot;z&quot;: -52.31781100101522}, {&quot;x&quot;: 2.846153846153844, &quot;y&quot;: 1.1538461538461526, &quot;z&quot;: -51.98645005426966}, {&quot;x&quot;: 2.846153846153844, &quot;y&quot;: 1.3076923076923066, &quot;z&quot;: -51.607751829417595}, {&quot;x&quot;: 2.846153846153844, &quot;y&quot;: 1.4615384615384603, &quot;z&quot;: -51.18171632645901}, {&quot;x&quot;: 2.846153846153844, &quot;y&quot;: 1.615384615384614, &quot;z&quot;: -50.70834354539392}, {&quot;x&quot;: 2.846153846153844, &quot;y&quot;: 1.7692307692307678, &quot;z&quot;: -50.187633486222325}, {&quot;x&quot;: 2.846153846153844, &quot;y&quot;: 1.9230769230769216, &quot;z&quot;: -49.61958614894422}, {&quot;x&quot;: 2.846153846153844, &quot;y&quot;: 2.0769230769230753, &quot;z&quot;: -49.00420153355961}, {&quot;x&quot;: 2.846153846153844, &quot;y&quot;: 2.230769230769229, &quot;z&quot;: -48.341479640068485}, {&quot;x&quot;: 2.846153846153844, &quot;y&quot;: 2.384615384615383, &quot;z&quot;: -47.63142046847085}, {&quot;x&quot;: 2.846153846153844, &quot;y&quot;: 2.5384615384615365, &quot;z&quot;: -46.87402401876671}, {&quot;x&quot;: 2.846153846153844, &quot;y&quot;: 2.6923076923076903, &quot;z&quot;: -46.06929029095606}, {&quot;x&quot;: 2.846153846153844, &quot;y&quot;: 2.846153846153844, &quot;z&quot;: -45.2172192850389}, {&quot;x&quot;: 2.846153846153844, &quot;y&quot;: 3.0, &quot;z&quot;: -44.31781100101522}, {&quot;x&quot;: 3.0, &quot;y&quot;: -2.8461538461538463, &quot;z&quot;: -57.899408284023664}, {&quot;x&quot;: 3.0, &quot;y&quot;: -3.0, &quot;z&quot;: -57.0}, {&quot;x&quot;: 3.0, &quot;y&quot;: -2.6923076923076925, &quot;z&quot;: -58.751479289940825}, {&quot;x&quot;: 3.0, &quot;y&quot;: -2.5384615384615388, &quot;z&quot;: -59.556213017751475}, {&quot;x&quot;: 3.0, &quot;y&quot;: -2.384615384615385, &quot;z&quot;: -60.31360946745562}, {&quot;x&quot;: 3.0, &quot;y&quot;: -2.2307692307692313, &quot;z&quot;: -61.023668639053255}, {&quot;x&quot;: 3.0, &quot;y&quot;: -2.0769230769230775, &quot;z&quot;: -61.68639053254438}, {&quot;x&quot;: 3.0, &quot;y&quot;: -1.9230769230769238, &quot;z&quot;: -62.30177514792899}, {&quot;x&quot;: 3.0, &quot;y&quot;: -1.76923076923077, &quot;z&quot;: -62.869822485207095}, {&quot;x&quot;: 3.0, &quot;y&quot;: -1.6153846153846163, &quot;z&quot;: -63.390532544378694}, {&quot;x&quot;: 3.0, &quot;y&quot;: -1.4615384615384626, &quot;z&quot;: -63.86390532544378}, {&quot;x&quot;: 3.0, &quot;y&quot;: -1.3076923076923088, &quot;z&quot;: -64.28994082840237}, {&quot;x&quot;: 3.0, &quot;y&quot;: -1.153846153846155, &quot;z&quot;: -64.66863905325444}, {&quot;x&quot;: 3.0, &quot;y&quot;: -1.0000000000000013, &quot;z&quot;: -65.0}, {&quot;x&quot;: 3.0, &quot;y&quot;: -0.8461538461538475, &quot;z&quot;: -65.28402366863905}, {&quot;x&quot;: 3.0, &quot;y&quot;: -0.6923076923076936, &quot;z&quot;: -65.52071005917159}, {&quot;x&quot;: 3.0, &quot;y&quot;: -0.5384615384615398, &quot;z&quot;: -65.71005917159763}, {&quot;x&quot;: 3.0, &quot;y&quot;: -0.3846153846153859, &quot;z&quot;: -65.85207100591717}, {&quot;x&quot;: 3.0, &quot;y&quot;: -0.23076923076923206, &quot;z&quot;: -65.94674556213018}, {&quot;x&quot;: 3.0, &quot;y&quot;: -0.0769230769230782, &quot;z&quot;: -65.99408284023669}, {&quot;x&quot;: 3.0, &quot;y&quot;: 0.07692307692307565, &quot;z&quot;: -65.99408284023669}, {&quot;x&quot;: 3.0, &quot;y&quot;: 0.2307692307692295, &quot;z&quot;: -65.94674556213018}, {&quot;x&quot;: 3.0, &quot;y&quot;: 0.38461538461538336, &quot;z&quot;: -65.85207100591717}, {&quot;x&quot;: 3.0, &quot;y&quot;: 0.5384615384615372, &quot;z&quot;: -65.71005917159763}, {&quot;x&quot;: 3.0, &quot;y&quot;: 0.6923076923076911, &quot;z&quot;: -65.52071005917159}, {&quot;x&quot;: 3.0, &quot;y&quot;: 0.8461538461538449, &quot;z&quot;: -65.28402366863907}, {&quot;x&quot;: 3.0, &quot;y&quot;: 0.9999999999999988, &quot;z&quot;: -65.0}, {&quot;x&quot;: 3.0, &quot;y&quot;: 1.1538461538461526, &quot;z&quot;: -64.66863905325444}, {&quot;x&quot;: 3.0, &quot;y&quot;: 1.3076923076923066, &quot;z&quot;: -64.28994082840237}, {&quot;x&quot;: 3.0, &quot;y&quot;: 1.4615384615384603, &quot;z&quot;: -63.86390532544379}, {&quot;x&quot;: 3.0, &quot;y&quot;: 1.615384615384614, &quot;z&quot;: -63.3905325443787}, {&quot;x&quot;: 3.0, &quot;y&quot;: 1.7692307692307678, &quot;z&quot;: -62.86982248520711}, {&quot;x&quot;: 3.0, &quot;y&quot;: 1.9230769230769216, &quot;z&quot;: -62.301775147929}, {&quot;x&quot;: 3.0, &quot;y&quot;: 2.0769230769230753, &quot;z&quot;: -61.68639053254439}, {&quot;x&quot;: 3.0, &quot;y&quot;: 2.230769230769229, &quot;z&quot;: -61.02366863905326}, {&quot;x&quot;: 3.0, &quot;y&quot;: 2.384615384615383, &quot;z&quot;: -60.31360946745563}, {&quot;x&quot;: 3.0, &quot;y&quot;: 2.5384615384615365, &quot;z&quot;: -59.55621301775149}, {&quot;x&quot;: 3.0, &quot;y&quot;: 2.6923076923076903, &quot;z&quot;: -58.75147928994084}, {&quot;x&quot;: 3.0, &quot;y&quot;: 2.846153846153844, &quot;z&quot;: -57.89940828402368}, {&quot;x&quot;: 3.0, &quot;y&quot;: 3.0, &quot;z&quot;: -57.0}], &quot;faces&quot;: [[0, 1, 2, 3], [1, 4, 5, 2], [4, 6, 7, 5], [6, 8, 9, 7], [8, 10, 11, 9], [10, 12, 13, 11], [12, 14, 15, 13], [14, 16, 17, 15], [16, 18, 19, 17], [18, 20, 21, 19], [20, 22, 23, 21], [22, 24, 25, 23], [24, 26, 27, 25], [26, 28, 29, 27], [28, 30, 31, 29], [30, 32, 33, 31], [32, 34, 35, 33], [34, 36, 37, 35], [36, 38, 39, 37], [38, 40, 41, 39], [40, 42, 43, 41], [42, 44, 45, 43], [44, 46, 47, 45], [46, 48, 49, 47], [48, 50, 51, 49], [50, 52, 53, 51], [52, 54, 55, 53], [54, 56, 57, 55], [56, 58, 59, 57], [58, 60, 61, 59], [60, 62, 63, 61], [62, 64, 65, 63], [64, 66, 67, 65], [66, 68, 69, 67], [68, 70, 71, 69], [70, 72, 73, 71], [72, 74, 75, 73], [74, 76, 77, 75], [76, 78, 79, 77], [3, 2, 80, 81], [2, 5, 82, 80], [5, 7, 83, 82], [7, 9, 84, 83], [9, 11, 85, 84], [11, 13, 86, 85], [13, 15, 87, 86], [15, 17, 88, 87], [17, 19, 89, 88], [19, 21, 90, 89], [21, 23, 91, 90], [23, 25, 92, 91], [25, 27, 93, 92], [27, 29, 94, 93], [29, 31, 95, 94], [31, 33, 96, 95], [33, 35, 97, 96], [35, 37, 98, 97], [37, 39, 99, 98], [39, 41, 100, 99], [41, 43, 101, 100], [43, 45, 102, 101], [45, 47, 103, 102], [47, 49, 104, 103], [49, 51, 105, 104], [51, 53, 106, 105], [53, 55, 107, 106], [55, 57, 108, 107], [57, 59, 109, 108], [59, 61, 110, 109], [61, 63, 111, 110], [63, 65, 112, 111], [65, 67, 113, 112], [67, 69, 114, 113], [69, 71, 115, 114], [71, 73, 116, 115], [73, 75, 117, 116], [75, 77, 118, 117], [77, 79, 119, 118], [81, 80, 120, 121], [80, 82, 122, 120], [82, 83, 123, 122], [83, 84, 124, 123], [84, 85, 125, 124], [85, 86, 126, 125], [86, 87, 127, 126], [87, 88, 128, 127], [88, 89, 129, 128], [89, 90, 130, 129], [90, 91, 131, 130], [91, 92, 132, 131], [92, 93, 133, 132], [93, 94, 134, 133], [94, 95, 135, 134], [95, 96, 136, 135], [96, 97, 137, 136], [97, 98, 138, 137], [98, 99, 139, 138], [99, 100, 140, 139], [100, 101, 141, 140], [101, 102, 142, 141], [102, 103, 143, 142], [103, 104, 144, 143], [104, 105, 145, 144], [105, 106, 146, 145], [106, 107, 147, 146], [107, 108, 148, 147], [108, 109, 149, 148], [109, 110, 150, 149], [110, 111, 151, 150], [111, 112, 152, 151], [112, 113, 153, 152], [113, 114, 154, 153], [114, 115, 155, 154], [115, 116, 156, 155], [116, 117, 157, 156], [117, 118, 158, 157], [118, 119, 159, 158], [121, 120, 160, 161], [120, 122, 162, 160], [122, 123, 163, 162], [123, 124, 164, 163], [124, 125, 165, 164], [125, 126, 166, 165], [126, 127, 167, 166], [127, 128, 168, 167], [128, 129, 169, 168], [129, 130, 170, 169], [130, 131, 171, 170], [131, 132, 172, 171], [132, 133, 173, 172], [133, 134, 174, 173], [134, 135, 175, 174], [135, 136, 176, 175], [136, 137, 177, 176], [137, 138, 178, 177], [138, 139, 179, 178], [139, 140, 180, 179], [140, 141, 181, 180], [141, 142, 182, 181], [142, 143, 183, 182], [143, 144, 184, 183], [144, 145, 185, 184], [145, 146, 186, 185], [146, 147, 187, 186], [147, 148, 188, 187], [148, 149, 189, 188], [149, 150, 190, 189], [150, 151, 191, 190], [151, 152, 192, 191], [152, 153, 193, 192], [153, 154, 194, 193], [154, 155, 195, 194], [155, 156, 196, 195], [156, 157, 197, 196], [157, 158, 198, 197], [158, 159, 199, 198], [161, 160, 200, 201], [160, 162, 202, 200], [162, 163, 203, 202], [163, 164, 204, 203], [164, 165, 205, 204], [165, 166, 206, 205], [166, 167, 207, 206], [167, 168, 208, 207], [168, 169, 209, 208], [169, 170, 210, 209], [170, 171, 211, 210], [171, 172, 212, 211], [172, 173, 213, 212], [173, 174, 214, 213], [174, 175, 215, 214], [175, 176, 216, 215], [176, 177, 217, 216], [177, 178, 218, 217], [178, 179, 219, 218], [179, 180, 220, 219], [180, 181, 221, 220], [181, 182, 222, 221], [182, 183, 223, 222], [183, 184, 224, 223], [184, 185, 225, 224], [185, 186, 226, 225], [186, 187, 227, 226], [187, 188, 228, 227], [188, 189, 229, 228], [189, 190, 230, 229], [190, 191, 231, 230], [191, 192, 232, 231], [192, 193, 233, 232], [193, 194, 234, 233], [194, 195, 235, 234], [195, 196, 236, 235], [196, 197, 237, 236], [197, 198, 238, 237], [198, 199, 239, 238], [201, 200, 240, 241], [200, 202, 242, 240], [202, 203, 243, 242], [203, 204, 244, 243], [204, 205, 245, 244], [205, 206, 246, 245], [206, 207, 247, 246], [207, 208, 248, 247], [208, 209, 249, 248], [209, 210, 250, 249], [210, 211, 251, 250], [211, 212, 252, 251], [212, 213, 253, 252], [213, 214, 254, 253], [214, 215, 255, 254], [215, 216, 256, 255], [216, 217, 257, 256], [217, 218, 258, 257], [218, 219, 259, 258], [219, 220, 260, 259], [220, 221, 261, 260], [221, 222, 262, 261], [222, 223, 263, 262], [223, 224, 264, 263], [224, 225, 265, 264], [225, 226, 266, 265], [226, 227, 267, 266], [227, 228, 268, 267], [228, 229, 269, 268], [229, 230, 270, 269], [230, 231, 271, 270], [231, 232, 272, 271], [232, 233, 273, 272], [233, 234, 274, 273], [234, 235, 275, 274], [235, 236, 276, 275], [236, 237, 277, 276], [237, 238, 278, 277], [238, 239, 279, 278], [241, 240, 280, 281], [240, 242, 282, 280], [242, 243, 283, 282], [243, 244, 284, 283], [244, 245, 285, 284], [245, 246, 286, 285], [246, 247, 287, 286], [247, 248, 288, 287], [248, 249, 289, 288], [249, 250, 290, 289], [250, 251, 291, 290], [251, 252, 292, 291], [252, 253, 293, 292], [253, 254, 294, 293], [254, 255, 295, 294], [255, 256, 296, 295], [256, 257, 297, 296], [257, 258, 298, 297], [258, 259, 299, 298], [259, 260, 300, 299], [260, 261, 301, 300], [261, 262, 302, 301], [262, 263, 303, 302], [263, 264, 304, 303], [264, 265, 305, 304], [265, 266, 306, 305], [266, 267, 307, 306], [267, 268, 308, 307], [268, 269, 309, 308], [269, 270, 310, 309], [270, 271, 311, 310], [271, 272, 312, 311], [272, 273, 313, 312], [273, 274, 314, 313], [274, 275, 315, 314], [275, 276, 316, 315], [276, 277, 317, 316], [277, 278, 318, 317], [278, 279, 319, 318], [281, 280, 320, 321], [280, 282, 322, 320], [282, 283, 323, 322], [283, 284, 324, 323], [284, 285, 325, 324], [285, 286, 326, 325], [286, 287, 327, 326], [287, 288, 328, 327], [288, 289, 329, 328], [289, 290, 330, 329], [290, 291, 331, 330], [291, 292, 332, 331], [292, 293, 333, 332], [293, 294, 334, 333], [294, 295, 335, 334], [295, 296, 336, 335], [296, 297, 337, 336], [297, 298, 338, 337], [298, 299, 339, 338], [299, 300, 340, 339], [300, 301, 341, 340], [301, 302, 342, 341], [302, 303, 343, 342], [303, 304, 344, 343], [304, 305, 345, 344], [305, 306, 346, 345], [306, 307, 347, 346], [307, 308, 348, 347], [308, 309, 349, 348], [309, 310, 350, 349], [310, 311, 351, 350], [311, 312, 352, 351], [312, 313, 353, 352], [313, 314, 354, 353], [314, 315, 355, 354], [315, 316, 356, 355], [316, 317, 357, 356], [317, 318, 358, 357], [318, 319, 359, 358], [321, 320, 360, 361], [320, 322, 362, 360], [322, 323, 363, 362], [323, 324, 364, 363], [324, 325, 365, 364], [325, 326, 366, 365], [326, 327, 367, 366], [327, 328, 368, 367], [328, 329, 369, 368], [329, 330, 370, 369], [330, 331, 371, 370], [331, 332, 372, 371], [332, 333, 373, 372], [333, 334, 374, 373], [334, 335, 375, 374], [335, 336, 376, 375], [336, 337, 377, 376], [337, 338, 378, 377], [338, 339, 379, 378], [339, 340, 380, 379], [340, 341, 381, 380], [341, 342, 382, 381], [342, 343, 383, 382], [343, 344, 384, 383], [344, 345, 385, 384], [345, 346, 386, 385], [346, 347, 387, 386], [347, 348, 388, 387], [348, 349, 389, 388], [349, 350, 390, 389], [350, 351, 391, 390], [351, 352, 392, 391], [352, 353, 393, 392], [353, 354, 394, 393], [354, 355, 395, 394], [355, 356, 396, 395], [356, 357, 397, 396], [357, 358, 398, 397], [358, 359, 399, 398], [361, 360, 400, 401], [360, 362, 402, 400], [362, 363, 403, 402], [363, 364, 404, 403], [364, 365, 405, 404], [365, 366, 406, 405], [366, 367, 407, 406], [367, 368, 408, 407], [368, 369, 409, 408], [369, 370, 410, 409], [370, 371, 411, 410], [371, 372, 412, 411], [372, 373, 413, 412], [373, 374, 414, 413], [374, 375, 415, 414], [375, 376, 416, 415], [376, 377, 417, 416], [377, 378, 418, 417], [378, 379, 419, 418], [379, 380, 420, 419], [380, 381, 421, 420], [381, 382, 422, 421], [382, 383, 423, 422], [383, 384, 424, 423], [384, 385, 425, 424], [385, 386, 426, 425], [386, 387, 427, 426], [387, 388, 428, 427], [388, 389, 429, 428], [389, 390, 430, 429], [390, 391, 431, 430], [391, 392, 432, 431], [392, 393, 433, 432], [393, 394, 434, 433], [394, 395, 435, 434], [395, 396, 436, 435], [396, 397, 437, 436], [397, 398, 438, 437], [398, 399, 439, 438], [401, 400, 440, 441], [400, 402, 442, 440], [402, 403, 443, 442], [403, 404, 444, 443], [404, 405, 445, 444], [405, 406, 446, 445], [406, 407, 447, 446], [407, 408, 448, 447], [408, 409, 449, 448], [409, 410, 450, 449], [410, 411, 451, 450], [411, 412, 452, 451], [412, 413, 453, 452], [413, 414, 454, 453], [414, 415, 455, 454], [415, 416, 456, 455], [416, 417, 457, 456], [417, 418, 458, 457], [418, 419, 459, 458], [419, 420, 460, 459], [420, 421, 461, 460], [421, 422, 462, 461], [422, 423, 463, 462], [423, 424, 464, 463], [424, 425, 465, 464], [425, 426, 466, 465], [426, 427, 467, 466], [427, 428, 468, 467], [428, 429, 469, 468], [429, 430, 470, 469], [430, 431, 471, 470], [431, 432, 472, 471], [432, 433, 473, 472], [433, 434, 474, 473], [434, 435, 475, 474], [435, 436, 476, 475], [436, 437, 477, 476], [437, 438, 478, 477], [438, 439, 479, 478], [441, 440, 480, 481], [440, 442, 482, 480], [442, 443, 483, 482], [443, 444, 484, 483], [444, 445, 485, 484], [445, 446, 486, 485], [446, 447, 487, 486], [447, 448, 488, 487], [448, 449, 489, 488], [449, 450, 490, 489], [450, 451, 491, 490], [451, 452, 492, 491], [452, 453, 493, 492], [453, 454, 494, 493], [454, 455, 495, 494], [455, 456, 496, 495], [456, 457, 497, 496], [457, 458, 498, 497], [458, 459, 499, 498], [459, 460, 500, 499], [460, 461, 501, 500], [461, 462, 502, 501], [462, 463, 503, 502], [463, 464, 504, 503], [464, 465, 505, 504], [465, 466, 506, 505], [466, 467, 507, 506], [467, 468, 508, 507], [468, 469, 509, 508], [469, 470, 510, 509], [470, 471, 511, 510], [471, 472, 512, 511], [472, 473, 513, 512], [473, 474, 514, 513], [474, 475, 515, 514], [475, 476, 516, 515], [476, 477, 517, 516], [477, 478, 518, 517], [478, 479, 519, 518], [481, 480, 520, 521], [480, 482, 522, 520], [482, 483, 523, 522], [483, 484, 524, 523], [484, 485, 525, 524], [485, 486, 526, 525], [486, 487, 527, 526], [487, 488, 528, 527], [488, 489, 529, 528], [489, 490, 530, 529], [490, 491, 531, 530], [491, 492, 532, 531], [492, 493, 533, 532], [493, 494, 534, 533], [494, 495, 535, 534], [495, 496, 536, 535], [496, 497, 537, 536], [497, 498, 538, 537], [498, 499, 539, 538], [499, 500, 540, 539], [500, 501, 541, 540], [501, 502, 542, 541], [502, 503, 543, 542], [503, 504, 544, 543], [504, 505, 545, 544], [505, 506, 546, 545], [506, 507, 547, 546], [507, 508, 548, 547], [508, 509, 549, 548], [509, 510, 550, 549], [510, 511, 551, 550], [511, 512, 552, 551], [512, 513, 553, 552], [513, 514, 554, 553], [514, 515, 555, 554], [515, 516, 556, 555], [516, 517, 557, 556], [517, 518, 558, 557], [518, 519, 559, 558], [521, 520, 560, 561], [520, 522, 562, 560], [522, 523, 563, 562], [523, 524, 564, 563], [524, 525, 565, 564], [525, 526, 566, 565], [526, 527, 567, 566], [527, 528, 568, 567], [528, 529, 569, 568], [529, 530, 570, 569], [530, 531, 571, 570], [531, 532, 572, 571], [532, 533, 573, 572], [533, 534, 574, 573], [534, 535, 575, 574], [535, 536, 576, 575], [536, 537, 577, 576], [537, 538, 578, 577], [538, 539, 579, 578], [539, 540, 580, 579], [540, 541, 581, 580], [541, 542, 582, 581], [542, 543, 583, 582], [543, 544, 584, 583], [544, 545, 585, 584], [545, 546, 586, 585], [546, 547, 587, 586], [547, 548, 588, 587], [548, 549, 589, 588], [549, 550, 590, 589], [550, 551, 591, 590], [551, 552, 592, 591], [552, 553, 593, 592], [553, 554, 594, 593], [554, 555, 595, 594], [555, 556, 596, 595], [556, 557, 597, 596], [557, 558, 598, 597], [558, 559, 599, 598], [561, 560, 600, 601], [560, 562, 602, 600], [562, 563, 603, 602], [563, 564, 604, 603], [564, 565, 605, 604], [565, 566, 606, 605], [566, 567, 607, 606], [567, 568, 608, 607], [568, 569, 609, 608], [569, 570, 610, 609], [570, 571, 611, 610], [571, 572, 612, 611], [572, 573, 613, 612], [573, 574, 614, 613], [574, 575, 615, 614], [575, 576, 616, 615], [576, 577, 617, 616], [577, 578, 618, 617], [578, 579, 619, 618], [579, 580, 620, 619], [580, 581, 621, 620], [581, 582, 622, 621], [582, 583, 623, 622], [583, 584, 624, 623], [584, 585, 625, 624], [585, 586, 626, 625], [586, 587, 627, 626], [587, 588, 628, 627], [588, 589, 629, 628], [589, 590, 630, 629], [590, 591, 631, 630], [591, 592, 632, 631], [592, 593, 633, 632], [593, 594, 634, 633], [594, 595, 635, 634], [595, 596, 636, 635], [596, 597, 637, 636], [597, 598, 638, 637], [598, 599, 639, 638], [601, 600, 640, 641], [600, 602, 642, 640], [602, 603, 643, 642], [603, 604, 644, 643], [604, 605, 645, 644], [605, 606, 646, 645], [606, 607, 647, 646], [607, 608, 648, 647], [608, 609, 649, 648], [609, 610, 650, 649], [610, 611, 651, 650], [611, 612, 652, 651], [612, 613, 653, 652], [613, 614, 654, 653], [614, 615, 655, 654], [615, 616, 656, 655], [616, 617, 657, 656], [617, 618, 658, 657], [618, 619, 659, 658], [619, 620, 660, 659], [620, 621, 661, 660], [621, 622, 662, 661], [622, 623, 663, 662], [623, 624, 664, 663], [624, 625, 665, 664], [625, 626, 666, 665], [626, 627, 667, 666], [627, 628, 668, 667], [628, 629, 669, 668], [629, 630, 670, 669], [630, 631, 671, 670], [631, 632, 672, 671], [632, 633, 673, 672], [633, 634, 674, 673], [634, 635, 675, 674], [635, 636, 676, 675], [636, 637, 677, 676], [637, 638, 678, 677], [638, 639, 679, 678], [641, 640, 680, 681], [640, 642, 682, 680], [642, 643, 683, 682], [643, 644, 684, 683], [644, 645, 685, 684], [645, 646, 686, 685], [646, 647, 687, 686], [647, 648, 688, 687], [648, 649, 689, 688], [649, 650, 690, 689], [650, 651, 691, 690], [651, 652, 692, 691], [652, 653, 693, 692], [653, 654, 694, 693], [654, 655, 695, 694], [655, 656, 696, 695], [656, 657, 697, 696], [657, 658, 698, 697], [658, 659, 699, 698], [659, 660, 700, 699], [660, 661, 701, 700], [661, 662, 702, 701], [662, 663, 703, 702], [663, 664, 704, 703], [664, 665, 705, 704], [665, 666, 706, 705], [666, 667, 707, 706], [667, 668, 708, 707], [668, 669, 709, 708], [669, 670, 710, 709], [670, 671, 711, 710], [671, 672, 712, 711], [672, 673, 713, 712], [673, 674, 714, 713], [674, 675, 715, 714], [675, 676, 716, 715], [676, 677, 717, 716], [677, 678, 718, 717], [678, 679, 719, 718], [681, 680, 720, 721], [680, 682, 722, 720], [682, 683, 723, 722], [683, 684, 724, 723], [684, 685, 725, 724], [685, 686, 726, 725], [686, 687, 727, 726], [687, 688, 728, 727], [688, 689, 729, 728], [689, 690, 730, 729], [690, 691, 731, 730], [691, 692, 732, 731], [692, 693, 733, 732], [693, 694, 734, 733], [694, 695, 735, 734], [695, 696, 736, 735], [696, 697, 737, 736], [697, 698, 738, 737], [698, 699, 739, 738], [699, 700, 740, 739], [700, 701, 741, 740], [701, 702, 742, 741], [702, 703, 743, 742], [703, 704, 744, 743], [704, 705, 745, 744], [705, 706, 746, 745], [706, 707, 747, 746], [707, 708, 748, 747], [708, 709, 749, 748], [709, 710, 750, 749], [710, 711, 751, 750], [711, 712, 752, 751], [712, 713, 753, 752], [713, 714, 754, 753], [714, 715, 755, 754], [715, 716, 756, 755], [716, 717, 757, 756], [717, 718, 758, 757], [718, 719, 759, 758], [721, 720, 760, 761], [720, 722, 762, 760], [722, 723, 763, 762], [723, 724, 764, 763], [724, 725, 765, 764], [725, 726, 766, 765], [726, 727, 767, 766], [727, 728, 768, 767], [728, 729, 769, 768], [729, 730, 770, 769], [730, 731, 771, 770], [731, 732, 772, 771], [732, 733, 773, 772], [733, 734, 774, 773], [734, 735, 775, 774], [735, 736, 776, 775], [736, 737, 777, 776], [737, 738, 778, 777], [738, 739, 779, 778], [739, 740, 780, 779], [740, 741, 781, 780], [741, 742, 782, 781], [742, 743, 783, 782], [743, 744, 784, 783], [744, 745, 785, 784], [745, 746, 786, 785], [746, 747, 787, 786], [747, 748, 788, 787], [748, 749, 789, 788], [749, 750, 790, 789], [750, 751, 791, 790], [751, 752, 792, 791], [752, 753, 793, 792], [753, 754, 794, 793], [754, 755, 795, 794], [755, 756, 796, 795], [756, 757, 797, 796], [757, 758, 798, 797], [758, 759, 799, 798], [761, 760, 800, 801], [760, 762, 802, 800], [762, 763, 803, 802], [763, 764, 804, 803], [764, 765, 805, 804], [765, 766, 806, 805], [766, 767, 807, 806], [767, 768, 808, 807], [768, 769, 809, 808], [769, 770, 810, 809], [770, 771, 811, 810], [771, 772, 812, 811], [772, 773, 813, 812], [773, 774, 814, 813], [774, 775, 815, 814], [775, 776, 816, 815], [776, 777, 817, 816], [777, 778, 818, 817], [778, 779, 819, 818], [779, 780, 820, 819], [780, 781, 821, 820], [781, 782, 822, 821], [782, 783, 823, 822], [783, 784, 824, 823], [784, 785, 825, 824], [785, 786, 826, 825], [786, 787, 827, 826], [787, 788, 828, 827], [788, 789, 829, 828], [789, 790, 830, 829], [790, 791, 831, 830], [791, 792, 832, 831], [792, 793, 833, 832], [793, 794, 834, 833], [794, 795, 835, 834], [795, 796, 836, 835], [796, 797, 837, 836], [797, 798, 838, 837], [798, 799, 839, 838], [801, 800, 840, 841], [800, 802, 842, 840], [802, 803, 843, 842], [803, 804, 844, 843], [804, 805, 845, 844], [805, 806, 846, 845], [806, 807, 847, 846], [807, 808, 848, 847], [808, 809, 849, 848], [809, 810, 850, 849], [810, 811, 851, 850], [811, 812, 852, 851], [812, 813, 853, 852], [813, 814, 854, 853], [814, 815, 855, 854], [815, 816, 856, 855], [816, 817, 857, 856], [817, 818, 858, 857], [818, 819, 859, 858], [819, 820, 860, 859], [820, 821, 861, 860], [821, 822, 862, 861], [822, 823, 863, 862], [823, 824, 864, 863], [824, 825, 865, 864], [825, 826, 866, 865], [826, 827, 867, 866], [827, 828, 868, 867], [828, 829, 869, 868], [829, 830, 870, 869], [830, 831, 871, 870], [831, 832, 872, 871], [832, 833, 873, 872], [833, 834, 874, 873], [834, 835, 875, 874], [835, 836, 876, 875], [836, 837, 877, 876], [837, 838, 878, 877], [838, 839, 879, 878], [841, 840, 880, 881], [840, 842, 882, 880], [842, 843, 883, 882], [843, 844, 884, 883], [844, 845, 885, 884], [845, 846, 886, 885], [846, 847, 887, 886], [847, 848, 888, 887], [848, 849, 889, 888], [849, 850, 890, 889], [850, 851, 891, 890], [851, 852, 892, 891], [852, 853, 893, 892], [853, 854, 894, 893], [854, 855, 895, 894], [855, 856, 896, 895], [856, 857, 897, 896], [857, 858, 898, 897], [858, 859, 899, 898], [859, 860, 900, 899], [860, 861, 901, 900], [861, 862, 902, 901], [862, 863, 903, 902], [863, 864, 904, 903], [864, 865, 905, 904], [865, 866, 906, 905], [866, 867, 907, 906], [867, 868, 908, 907], [868, 869, 909, 908], [869, 870, 910, 909], [870, 871, 911, 910], [871, 872, 912, 911], [872, 873, 913, 912], [873, 874, 914, 913], [874, 875, 915, 914], [875, 876, 916, 915], [876, 877, 917, 916], [877, 878, 918, 917], [878, 879, 919, 918], [881, 880, 920, 921], [880, 882, 922, 920], [882, 883, 923, 922], [883, 884, 924, 923], [884, 885, 925, 924], [885, 886, 926, 925], [886, 887, 927, 926], [887, 888, 928, 927], [888, 889, 929, 928], [889, 890, 930, 929], [890, 891, 931, 930], [891, 892, 932, 931], [892, 893, 933, 932], [893, 894, 934, 933], [894, 895, 935, 934], [895, 896, 936, 935], [896, 897, 937, 936], [897, 898, 938, 937], [898, 899, 939, 938], [899, 900, 940, 939], [900, 901, 941, 940], [901, 902, 942, 941], [902, 903, 943, 942], [903, 904, 944, 943], [904, 905, 945, 944], [905, 906, 946, 945], [906, 907, 947, 946], [907, 908, 948, 947], [908, 909, 949, 948], [909, 910, 950, 949], [910, 911, 951, 950], [911, 912, 952, 951], [912, 913, 953, 952], [913, 914, 954, 953], [914, 915, 955, 954], [915, 916, 956, 955], [916, 917, 957, 956], [917, 918, 958, 957], [918, 919, 959, 958], [921, 920, 960, 961], [920, 922, 962, 960], [922, 923, 963, 962], [923, 924, 964, 963], [924, 925, 965, 964], [925, 926, 966, 965], [926, 927, 967, 966], [927, 928, 968, 967], [928, 929, 969, 968], [929, 930, 970, 969], [930, 931, 971, 970], [931, 932, 972, 971], [932, 933, 973, 972], [933, 934, 974, 973], [934, 935, 975, 974], [935, 936, 976, 975], [936, 937, 977, 976], [937, 938, 978, 977], [938, 939, 979, 978], [939, 940, 980, 979], [940, 941, 981, 980], [941, 942, 982, 981], [942, 943, 983, 982], [943, 944, 984, 983], [944, 945, 985, 984], [945, 946, 986, 985], [946, 947, 987, 986], [947, 948, 988, 987], [948, 949, 989, 988], [949, 950, 990, 989], [950, 951, 991, 990], [951, 952, 992, 991], [952, 953, 993, 992], [953, 954, 994, 993], [954, 955, 995, 994], [955, 956, 996, 995], [956, 957, 997, 996], [957, 958, 998, 997], [958, 959, 999, 998], [961, 960, 1000, 1001], [960, 962, 1002, 1000], [962, 963, 1003, 1002], [963, 964, 1004, 1003], [964, 965, 1005, 1004], [965, 966, 1006, 1005], [966, 967, 1007, 1006], [967, 968, 1008, 1007], [968, 969, 1009, 1008], [969, 970, 1010, 1009], [970, 971, 1011, 1010], [971, 972, 1012, 1011], [972, 973, 1013, 1012], [973, 974, 1014, 1013], [974, 975, 1015, 1014], [975, 976, 1016, 1015], [976, 977, 1017, 1016], [977, 978, 1018, 1017], [978, 979, 1019, 1018], [979, 980, 1020, 1019], [980, 981, 1021, 1020], [981, 982, 1022, 1021], [982, 983, 1023, 1022], [983, 984, 1024, 1023], [984, 985, 1025, 1024], [985, 986, 1026, 1025], [986, 987, 1027, 1026], [987, 988, 1028, 1027], [988, 989, 1029, 1028], [989, 990, 1030, 1029], [990, 991, 1031, 1030], [991, 992, 1032, 1031], [992, 993, 1033, 1032], [993, 994, 1034, 1033], [994, 995, 1035, 1034], [995, 996, 1036, 1035], [996, 997, 1037, 1036], [997, 998, 1038, 1037], [998, 999, 1039, 1038], [1001, 1000, 1040, 1041], [1000, 1002, 1042, 1040], [1002, 1003, 1043, 1042], [1003, 1004, 1044, 1043], [1004, 1005, 1045, 1044], [1005, 1006, 1046, 1045], [1006, 1007, 1047, 1046], [1007, 1008, 1048, 1047], [1008, 1009, 1049, 1048], [1009, 1010, 1050, 1049], [1010, 1011, 1051, 1050], [1011, 1012, 1052, 1051], [1012, 1013, 1053, 1052], [1013, 1014, 1054, 1053], [1014, 1015, 1055, 1054], [1015, 1016, 1056, 1055], [1016, 1017, 1057, 1056], [1017, 1018, 1058, 1057], [1018, 1019, 1059, 1058], [1019, 1020, 1060, 1059], [1020, 1021, 1061, 1060], [1021, 1022, 1062, 1061], [1022, 1023, 1063, 1062], [1023, 1024, 1064, 1063], [1024, 1025, 1065, 1064], [1025, 1026, 1066, 1065], [1026, 1027, 1067, 1066], [1027, 1028, 1068, 1067], [1028, 1029, 1069, 1068], [1029, 1030, 1070, 1069], [1030, 1031, 1071, 1070], [1031, 1032, 1072, 1071], [1032, 1033, 1073, 1072], [1033, 1034, 1074, 1073], [1034, 1035, 1075, 1074], [1035, 1036, 1076, 1075], [1036, 1037, 1077, 1076], [1037, 1038, 1078, 1077], [1038, 1039, 1079, 1078], [1041, 1040, 1080, 1081], [1040, 1042, 1082, 1080], [1042, 1043, 1083, 1082], [1043, 1044, 1084, 1083], [1044, 1045, 1085, 1084], [1045, 1046, 1086, 1085], [1046, 1047, 1087, 1086], [1047, 1048, 1088, 1087], [1048, 1049, 1089, 1088], [1049, 1050, 1090, 1089], [1050, 1051, 1091, 1090], [1051, 1052, 1092, 1091], [1052, 1053, 1093, 1092], [1053, 1054, 1094, 1093], [1054, 1055, 1095, 1094], [1055, 1056, 1096, 1095], [1056, 1057, 1097, 1096], [1057, 1058, 1098, 1097], [1058, 1059, 1099, 1098], [1059, 1060, 1100, 1099], [1060, 1061, 1101, 1100], [1061, 1062, 1102, 1101], [1062, 1063, 1103, 1102], [1063, 1064, 1104, 1103], [1064, 1065, 1105, 1104], [1065, 1066, 1106, 1105], [1066, 1067, 1107, 1106], [1067, 1068, 1108, 1107], [1068, 1069, 1109, 1108], [1069, 1070, 1110, 1109], [1070, 1071, 1111, 1110], [1071, 1072, 1112, 1111], [1072, 1073, 1113, 1112], [1073, 1074, 1114, 1113], [1074, 1075, 1115, 1114], [1075, 1076, 1116, 1115], [1076, 1077, 1117, 1116], [1077, 1078, 1118, 1117], [1078, 1079, 1119, 1118], [1081, 1080, 1120, 1121], [1080, 1082, 1122, 1120], [1082, 1083, 1123, 1122], [1083, 1084, 1124, 1123], [1084, 1085, 1125, 1124], [1085, 1086, 1126, 1125], [1086, 1087, 1127, 1126], [1087, 1088, 1128, 1127], [1088, 1089, 1129, 1128], [1089, 1090, 1130, 1129], [1090, 1091, 1131, 1130], [1091, 1092, 1132, 1131], [1092, 1093, 1133, 1132], [1093, 1094, 1134, 1133], [1094, 1095, 1135, 1134], [1095, 1096, 1136, 1135], [1096, 1097, 1137, 1136], [1097, 1098, 1138, 1137], [1098, 1099, 1139, 1138], [1099, 1100, 1140, 1139], [1100, 1101, 1141, 1140], [1101, 1102, 1142, 1141], [1102, 1103, 1143, 1142], [1103, 1104, 1144, 1143], [1104, 1105, 1145, 1144], [1105, 1106, 1146, 1145], [1106, 1107, 1147, 1146], [1107, 1108, 1148, 1147], [1108, 1109, 1149, 1148], [1109, 1110, 1150, 1149], [1110, 1111, 1151, 1150], [1111, 1112, 1152, 1151], [1112, 1113, 1153, 1152], [1113, 1114, 1154, 1153], [1114, 1115, 1155, 1154], [1115, 1116, 1156, 1155], [1116, 1117, 1157, 1156], [1117, 1118, 1158, 1157], [1118, 1119, 1159, 1158], [1121, 1120, 1160, 1161], [1120, 1122, 1162, 1160], [1122, 1123, 1163, 1162], [1123, 1124, 1164, 1163], [1124, 1125, 1165, 1164], [1125, 1126, 1166, 1165], [1126, 1127, 1167, 1166], [1127, 1128, 1168, 1167], [1128, 1129, 1169, 1168], [1129, 1130, 1170, 1169], [1130, 1131, 1171, 1170], [1131, 1132, 1172, 1171], [1132, 1133, 1173, 1172], [1133, 1134, 1174, 1173], [1134, 1135, 1175, 1174], [1135, 1136, 1176, 1175], [1136, 1137, 1177, 1176], [1137, 1138, 1178, 1177], [1138, 1139, 1179, 1178], [1139, 1140, 1180, 1179], [1140, 1141, 1181, 1180], [1141, 1142, 1182, 1181], [1142, 1143, 1183, 1182], [1143, 1144, 1184, 1183], [1144, 1145, 1185, 1184], [1145, 1146, 1186, 1185], [1146, 1147, 1187, 1186], [1147, 1148, 1188, 1187], [1148, 1149, 1189, 1188], [1149, 1150, 1190, 1189], [1150, 1151, 1191, 1190], [1151, 1152, 1192, 1191], [1152, 1153, 1193, 1192], [1153, 1154, 1194, 1193], [1154, 1155, 1195, 1194], [1155, 1156, 1196, 1195], [1156, 1157, 1197, 1196], [1157, 1158, 1198, 1197], [1158, 1159, 1199, 1198], [1161, 1160, 1200, 1201], [1160, 1162, 1202, 1200], [1162, 1163, 1203, 1202], [1163, 1164, 1204, 1203], [1164, 1165, 1205, 1204], [1165, 1166, 1206, 1205], [1166, 1167, 1207, 1206], [1167, 1168, 1208, 1207], [1168, 1169, 1209, 1208], [1169, 1170, 1210, 1209], [1170, 1171, 1211, 1210], [1171, 1172, 1212, 1211], [1172, 1173, 1213, 1212], [1173, 1174, 1214, 1213], [1174, 1175, 1215, 1214], [1175, 1176, 1216, 1215], [1176, 1177, 1217, 1216], [1177, 1178, 1218, 1217], [1178, 1179, 1219, 1218], [1179, 1180, 1220, 1219], [1180, 1181, 1221, 1220], [1181, 1182, 1222, 1221], [1182, 1183, 1223, 1222], [1183, 1184, 1224, 1223], [1184, 1185, 1225, 1224], [1185, 1186, 1226, 1225], [1186, 1187, 1227, 1226], [1187, 1188, 1228, 1227], [1188, 1189, 1229, 1228], [1189, 1190, 1230, 1229], [1190, 1191, 1231, 1230], [1191, 1192, 1232, 1231], [1192, 1193, 1233, 1232], [1193, 1194, 1234, 1233], [1194, 1195, 1235, 1234], [1195, 1196, 1236, 1235], [1196, 1197, 1237, 1236], [1197, 1198, 1238, 1237], [1198, 1199, 1239, 1238], [1201, 1200, 1240, 1241], [1200, 1202, 1242, 1240], [1202, 1203, 1243, 1242], [1203, 1204, 1244, 1243], [1204, 1205, 1245, 1244], [1205, 1206, 1246, 1245], [1206, 1207, 1247, 1246], [1207, 1208, 1248, 1247], [1208, 1209, 1249, 1248], [1209, 1210, 1250, 1249], [1210, 1211, 1251, 1250], [1211, 1212, 1252, 1251], [1212, 1213, 1253, 1252], [1213, 1214, 1254, 1253], [1214, 1215, 1255, 1254], [1215, 1216, 1256, 1255], [1216, 1217, 1257, 1256], [1217, 1218, 1258, 1257], [1218, 1219, 1259, 1258], [1219, 1220, 1260, 1259], [1220, 1221, 1261, 1260], [1221, 1222, 1262, 1261], [1222, 1223, 1263, 1262], [1223, 1224, 1264, 1263], [1224, 1225, 1265, 1264], [1225, 1226, 1266, 1265], [1226, 1227, 1267, 1266], [1227, 1228, 1268, 1267], [1228, 1229, 1269, 1268], [1229, 1230, 1270, 1269], [1230, 1231, 1271, 1270], [1231, 1232, 1272, 1271], [1232, 1233, 1273, 1272], [1233, 1234, 1274, 1273], [1234, 1235, 1275, 1274], [1235, 1236, 1276, 1275], [1236, 1237, 1277, 1276], [1237, 1238, 1278, 1277], [1238, 1239, 1279, 1278], [1241, 1240, 1280, 1281], [1240, 1242, 1282, 1280], [1242, 1243, 1283, 1282], [1243, 1244, 1284, 1283], [1244, 1245, 1285, 1284], [1245, 1246, 1286, 1285], [1246, 1247, 1287, 1286], [1247, 1248, 1288, 1287], [1248, 1249, 1289, 1288], [1249, 1250, 1290, 1289], [1250, 1251, 1291, 1290], [1251, 1252, 1292, 1291], [1252, 1253, 1293, 1292], [1253, 1254, 1294, 1293], [1254, 1255, 1295, 1294], [1255, 1256, 1296, 1295], [1256, 1257, 1297, 1296], [1257, 1258, 1298, 1297], [1258, 1259, 1299, 1298], [1259, 1260, 1300, 1299], [1260, 1261, 1301, 1300], [1261, 1262, 1302, 1301], [1262, 1263, 1303, 1302], [1263, 1264, 1304, 1303], [1264, 1265, 1305, 1304], [1265, 1266, 1306, 1305], [1266, 1267, 1307, 1306], [1267, 1268, 1308, 1307], [1268, 1269, 1309, 1308], [1269, 1270, 1310, 1309], [1270, 1271, 1311, 1310], [1271, 1272, 1312, 1311], [1272, 1273, 1313, 1312], [1273, 1274, 1314, 1313], [1274, 1275, 1315, 1314], [1275, 1276, 1316, 1315], [1276, 1277, 1317, 1316], [1277, 1278, 1318, 1317], [1278, 1279, 1319, 1318], [1281, 1280, 1320, 1321], [1280, 1282, 1322, 1320], [1282, 1283, 1323, 1322], [1283, 1284, 1324, 1323], [1284, 1285, 1325, 1324], [1285, 1286, 1326, 1325], [1286, 1287, 1327, 1326], [1287, 1288, 1328, 1327], [1288, 1289, 1329, 1328], [1289, 1290, 1330, 1329], [1290, 1291, 1331, 1330], [1291, 1292, 1332, 1331], [1292, 1293, 1333, 1332], [1293, 1294, 1334, 1333], [1294, 1295, 1335, 1334], [1295, 1296, 1336, 1335], [1296, 1297, 1337, 1336], [1297, 1298, 1338, 1337], [1298, 1299, 1339, 1338], [1299, 1300, 1340, 1339], [1300, 1301, 1341, 1340], [1301, 1302, 1342, 1341], [1302, 1303, 1343, 1342], [1303, 1304, 1344, 1343], [1304, 1305, 1345, 1344], [1305, 1306, 1346, 1345], [1306, 1307, 1347, 1346], [1307, 1308, 1348, 1347], [1308, 1309, 1349, 1348], [1309, 1310, 1350, 1349], [1310, 1311, 1351, 1350], [1311, 1312, 1352, 1351], [1312, 1313, 1353, 1352], [1313, 1314, 1354, 1353], [1314, 1315, 1355, 1354], [1315, 1316, 1356, 1355], [1316, 1317, 1357, 1356], [1317, 1318, 1358, 1357], [1318, 1319, 1359, 1358], [1321, 1320, 1360, 1361], [1320, 1322, 1362, 1360], [1322, 1323, 1363, 1362], [1323, 1324, 1364, 1363], [1324, 1325, 1365, 1364], [1325, 1326, 1366, 1365], [1326, 1327, 1367, 1366], [1327, 1328, 1368, 1367], [1328, 1329, 1369, 1368], [1329, 1330, 1370, 1369], [1330, 1331, 1371, 1370], [1331, 1332, 1372, 1371], [1332, 1333, 1373, 1372], [1333, 1334, 1374, 1373], [1334, 1335, 1375, 1374], [1335, 1336, 1376, 1375], [1336, 1337, 1377, 1376], [1337, 1338, 1378, 1377], [1338, 1339, 1379, 1378], [1339, 1340, 1380, 1379], [1340, 1341, 1381, 1380], [1341, 1342, 1382, 1381], [1342, 1343, 1383, 1382], [1343, 1344, 1384, 1383], [1344, 1345, 1385, 1384], [1345, 1346, 1386, 1385], [1346, 1347, 1387, 1386], [1347, 1348, 1388, 1387], [1348, 1349, 1389, 1388], [1349, 1350, 1390, 1389], [1350, 1351, 1391, 1390], [1351, 1352, 1392, 1391], [1352, 1353, 1393, 1392], [1353, 1354, 1394, 1393], [1354, 1355, 1395, 1394], [1355, 1356, 1396, 1395], [1356, 1357, 1397, 1396], [1357, 1358, 1398, 1397], [1358, 1359, 1399, 1398], [1361, 1360, 1400, 1401], [1360, 1362, 1402, 1400], [1362, 1363, 1403, 1402], [1363, 1364, 1404, 1403], [1364, 1365, 1405, 1404], [1365, 1366, 1406, 1405], [1366, 1367, 1407, 1406], [1367, 1368, 1408, 1407], [1368, 1369, 1409, 1408], [1369, 1370, 1410, 1409], [1370, 1371, 1411, 1410], [1371, 1372, 1412, 1411], [1372, 1373, 1413, 1412], [1373, 1374, 1414, 1413], [1374, 1375, 1415, 1414], [1375, 1376, 1416, 1415], [1376, 1377, 1417, 1416], [1377, 1378, 1418, 1417], [1378, 1379, 1419, 1418], [1379, 1380, 1420, 1419], [1380, 1381, 1421, 1420], [1381, 1382, 1422, 1421], [1382, 1383, 1423, 1422], [1383, 1384, 1424, 1423], [1384, 1385, 1425, 1424], [1385, 1386, 1426, 1425], [1386, 1387, 1427, 1426], [1387, 1388, 1428, 1427], [1388, 1389, 1429, 1428], [1389, 1390, 1430, 1429], [1390, 1391, 1431, 1430], [1391, 1392, 1432, 1431], [1392, 1393, 1433, 1432], [1393, 1394, 1434, 1433], [1394, 1395, 1435, 1434], [1395, 1396, 1436, 1435], [1396, 1397, 1437, 1436], [1397, 1398, 1438, 1437], [1398, 1399, 1439, 1438], [1401, 1400, 1440, 1441], [1400, 1402, 1442, 1440], [1402, 1403, 1443, 1442], [1403, 1404, 1444, 1443], [1404, 1405, 1445, 1444], [1405, 1406, 1446, 1445], [1406, 1407, 1447, 1446], [1407, 1408, 1448, 1447], [1408, 1409, 1449, 1448], [1409, 1410, 1450, 1449], [1410, 1411, 1451, 1450], [1411, 1412, 1452, 1451], [1412, 1413, 1453, 1452], [1413, 1414, 1454, 1453], [1414, 1415, 1455, 1454], [1415, 1416, 1456, 1455], [1416, 1417, 1457, 1456], [1417, 1418, 1458, 1457], [1418, 1419, 1459, 1458], [1419, 1420, 1460, 1459], [1420, 1421, 1461, 1460], [1421, 1422, 1462, 1461], [1422, 1423, 1463, 1462], [1423, 1424, 1464, 1463], [1424, 1425, 1465, 1464], [1425, 1426, 1466, 1465], [1426, 1427, 1467, 1466], [1427, 1428, 1468, 1467], [1428, 1429, 1469, 1468], [1429, 1430, 1470, 1469], [1430, 1431, 1471, 1470], [1431, 1432, 1472, 1471], [1432, 1433, 1473, 1472], [1433, 1434, 1474, 1473], [1434, 1435, 1475, 1474], [1435, 1436, 1476, 1475], [1436, 1437, 1477, 1476], [1437, 1438, 1478, 1477], [1438, 1439, 1479, 1478], [1441, 1440, 1480, 1481], [1440, 1442, 1482, 1480], [1442, 1443, 1483, 1482], [1443, 1444, 1484, 1483], [1444, 1445, 1485, 1484], [1445, 1446, 1486, 1485], [1446, 1447, 1487, 1486], [1447, 1448, 1488, 1487], [1448, 1449, 1489, 1488], [1449, 1450, 1490, 1489], [1450, 1451, 1491, 1490], [1451, 1452, 1492, 1491], [1452, 1453, 1493, 1492], [1453, 1454, 1494, 1493], [1454, 1455, 1495, 1494], [1455, 1456, 1496, 1495], [1456, 1457, 1497, 1496], [1457, 1458, 1498, 1497], [1458, 1459, 1499, 1498], [1459, 1460, 1500, 1499], [1460, 1461, 1501, 1500], [1461, 1462, 1502, 1501], [1462, 1463, 1503, 1502], [1463, 1464, 1504, 1503], [1464, 1465, 1505, 1504], [1465, 1466, 1506, 1505], [1466, 1467, 1507, 1506], [1467, 1468, 1508, 1507], [1468, 1469, 1509, 1508], [1469, 1470, 1510, 1509], [1470, 1471, 1511, 1510], [1471, 1472, 1512, 1511], [1472, 1473, 1513, 1512], [1473, 1474, 1514, 1513], [1474, 1475, 1515, 1514], [1475, 1476, 1516, 1515], [1476, 1477, 1517, 1516], [1477, 1478, 1518, 1517], [1478, 1479, 1519, 1518], [1481, 1480, 1520, 1521], [1480, 1482, 1522, 1520], [1482, 1483, 1523, 1522], [1483, 1484, 1524, 1523], [1484, 1485, 1525, 1524], [1485, 1486, 1526, 1525], [1486, 1487, 1527, 1526], [1487, 1488, 1528, 1527], [1488, 1489, 1529, 1528], [1489, 1490, 1530, 1529], [1490, 1491, 1531, 1530], [1491, 1492, 1532, 1531], [1492, 1493, 1533, 1532], [1493, 1494, 1534, 1533], [1494, 1495, 1535, 1534], [1495, 1496, 1536, 1535], [1496, 1497, 1537, 1536], [1497, 1498, 1538, 1537], [1498, 1499, 1539, 1538], [1499, 1500, 1540, 1539], [1500, 1501, 1541, 1540], [1501, 1502, 1542, 1541], [1502, 1503, 1543, 1542], [1503, 1504, 1544, 1543], [1504, 1505, 1545, 1544], [1505, 1506, 1546, 1545], [1506, 1507, 1547, 1546], [1507, 1508, 1548, 1547], [1508, 1509, 1549, 1548], [1509, 1510, 1550, 1549], [1510, 1511, 1551, 1550], [1511, 1512, 1552, 1551], [1512, 1513, 1553, 1552], [1513, 1514, 1554, 1553], [1514, 1515, 1555, 1554], [1515, 1516, 1556, 1555], [1516, 1517, 1557, 1556], [1517, 1518, 1558, 1557], [1518, 1519, 1559, 1558], [1521, 1520, 1560, 1561], [1520, 1522, 1562, 1560], [1522, 1523, 1563, 1562], [1523, 1524, 1564, 1563], [1524, 1525, 1565, 1564], [1525, 1526, 1566, 1565], [1526, 1527, 1567, 1566], [1527, 1528, 1568, 1567], [1528, 1529, 1569, 1568], [1529, 1530, 1570, 1569], [1530, 1531, 1571, 1570], [1531, 1532, 1572, 1571], [1532, 1533, 1573, 1572], [1533, 1534, 1574, 1573], [1534, 1535, 1575, 1574], [1535, 1536, 1576, 1575], [1536, 1537, 1577, 1576], [1537, 1538, 1578, 1577], [1538, 1539, 1579, 1578], [1539, 1540, 1580, 1579], [1540, 1541, 1581, 1580], [1541, 1542, 1582, 1581], [1542, 1543, 1583, 1582], [1543, 1544, 1584, 1583], [1544, 1545, 1585, 1584], [1545, 1546, 1586, 1585], [1546, 1547, 1587, 1586], [1547, 1548, 1588, 1587], [1548, 1549, 1589, 1588], [1549, 1550, 1590, 1589], [1550, 1551, 1591, 1590], [1551, 1552, 1592, 1591], [1552, 1553, 1593, 1592], [1553, 1554, 1594, 1593], [1554, 1555, 1595, 1594], [1555, 1556, 1596, 1595], [1556, 1557, 1597, 1596], [1557, 1558, 1598, 1597], [1558, 1559, 1599, 1598]], &quot;color&quot;: &quot;#6666ff&quot;, &quot;opacity&quot;: 1.0}];\n",
       "    for ( var i=0 ; i < surfaces.length ; i++ ) addSurface( surfaces[i] );\n",
       "\n",
       "    function addSurface( json ) {\n",
       "\n",
       "        var useFaceColors = 'faceColors' in json ? true : false;\n",
       "\n",
       "        var geometry = new THREE.Geometry();\n",
       "        for ( var i=0 ; i < json.vertices.length ; i++ ) {\n",
       "            var v = json.vertices[i];\n",
       "            geometry.vertices.push( new THREE.Vector3( a[0]*v.x, a[1]*v.y, a[2]*v.z ) );\n",
       "        }\n",
       "        for ( var i=0 ; i < json.faces.length ; i++ ) {\n",
       "            var f = json.faces[i];\n",
       "            for ( var j=0 ; j < f.length - 2 ; j++ ) {\n",
       "                var face = new THREE.Face3( f[0], f[j+1], f[j+2] );\n",
       "                if ( useFaceColors ) face.color.set( json.faceColors[i] );\n",
       "                geometry.faces.push( face );\n",
       "            }\n",
       "        }\n",
       "        geometry.computeVertexNormals();\n",
       "\n",
       "        var side = json.singleSide ? THREE.FrontSide : THREE.DoubleSide;\n",
       "        var transparent = json.opacity < 1 ? true : false;\n",
       "\n",
       "        var material = new THREE.MeshPhongMaterial( { side: side,\n",
       "                                     color: useFaceColors ? 'white' : json.color,\n",
       "                                     vertexColors: useFaceColors ? THREE.FaceColors : THREE.NoColors,\n",
       "                                     transparent: transparent, opacity: json.opacity,\n",
       "                                     shininess: 20, flatShading: json.useFlatShading } );\n",
       "\n",
       "        var c = new THREE.Vector3();\n",
       "        geometry.computeBoundingBox();\n",
       "        geometry.boundingBox.getCenter( c );\n",
       "        geometry.translate( -c.x, -c.y, -c.z );\n",
       "\n",
       "        var mesh = new THREE.Mesh( geometry, material );\n",
       "        mesh.position.set( c.x, c.y, c.z );\n",
       "        if ( transparent && json.renderOrder ) mesh.renderOrder = json.renderOrder;\n",
       "        scene.add( mesh );\n",
       "\n",
       "        if ( json.showMeshGrid ) {\n",
       "\n",
       "            var geometry = new THREE.Geometry();\n",
       "\n",
       "            for ( var i=0 ; i < json.faces.length ; i++ ) {\n",
       "                var f = json.faces[i];\n",
       "                for ( var j=0 ; j < f.length ; j++ ) {\n",
       "                    var k = j === f.length-1 ? 0 : j+1;\n",
       "                    var v1 = json.vertices[f[j]];\n",
       "                    var v2 = json.vertices[f[k]];\n",
       "                    // vertices in opposite directions on neighboring faces\n",
       "                    var nudge = f[j] < f[k] ? .0005*zRange : -.0005*zRange;\n",
       "                    geometry.vertices.push( new THREE.Vector3( a[0]*v1.x, a[1]*v1.y, a[2]*(v1.z+nudge) ) );\n",
       "                    geometry.vertices.push( new THREE.Vector3( a[0]*v2.x, a[1]*v2.y, a[2]*(v2.z+nudge) ) );\n",
       "                }\n",
       "            }\n",
       "\n",
       "            var material = new THREE.LineBasicMaterial( { color: 'black', linewidth: 1 } );\n",
       "\n",
       "            var c = new THREE.Vector3();\n",
       "            geometry.computeBoundingBox();\n",
       "            geometry.boundingBox.getCenter( c );\n",
       "            geometry.translate( -c.x, -c.y, -c.z );\n",
       "\n",
       "            var mesh = new THREE.LineSegments( geometry, material );\n",
       "            mesh.position.set( c.x, c.y, c.z );\n",
       "            scene.add( mesh );\n",
       "\n",
       "        }\n",
       "\n",
       "    }\n",
       "\n",
       "    var scratch = new THREE.Vector3();\n",
       "\n",
       "    function render() {\n",
       "\n",
       "        if ( animate ) requestAnimationFrame( render );\n",
       "        renderer.render( scene, camera );\n",
       "\n",
       "        // Resize text based on distance from camera.\n",
       "        // Not neccessary for orthographic due to the nature of the projection (preserves sizes).\n",
       "        if ( !camera.isOrthographicCamera ) {\n",
       "            for ( var i=0 ; i < scene.children.length ; i++ ) {\n",
       "                if ( scene.children[i].type === 'Sprite' ) {\n",
       "                    var sprite = scene.children[i];\n",
       "                    var adjust = scratch.addVectors( sprite.position, scene.position )\n",
       "                                    .sub( camera.position ).length() / 5;\n",
       "                    sprite.scale.set( adjust, .25*adjust, 1 ); // ratio of canvas width to height\n",
       "                }\n",
       "            }\n",
       "        }\n",
       "    }\n",
       "    \n",
       "    render();\n",
       "    controls.update();\n",
       "    if ( !animate ) render();\n",
       "\n",
       "\n",
       "    // menu functions\n",
       "\n",
       "    function toggleMenu() {\n",
       "\n",
       "        var m = document.getElementById( 'menu-content' );\n",
       "        if ( m.style.display === 'block' ) m.style.display = 'none'\n",
       "        else m.style.display = 'block';\n",
       "\n",
       "    }\n",
       "\n",
       "\n",
       "    function saveAsPNG() {\n",
       "\n",
       "        var a = document.body.appendChild( document.createElement( 'a' ) );\n",
       "        a.href = renderer.domElement.toDataURL( 'image/png' );\n",
       "        a.download = 'screenshot';\n",
       "        a.click();\n",
       "\n",
       "    }\n",
       "\n",
       "    function saveAsHTML() {\n",
       "\n",
       "        toggleMenu(); // otherwise visible in output\n",
       "        event.stopPropagation();\n",
       "\n",
       "        var blob = new Blob( [ '<!DOCTYPE html>\\n' + document.documentElement.outerHTML ] );\n",
       "        var a = document.body.appendChild( document.createElement( 'a' ) );\n",
       "        a.href = window.URL.createObjectURL( blob );\n",
       "        a.download = 'graphic.html';\n",
       "        a.click();\n",
       "\n",
       "    }\n",
       "\n",
       "    function getViewpoint() {\n",
       "\n",
       "        function roundTo( x, n ) { return +x.toFixed(n); }\n",
       "\n",
       "        var v = camera.quaternion.inverse();\n",
       "        var r = Math.sqrt( v.x*v.x + v.y*v.y + v.z*v.z );\n",
       "        var axis = [ roundTo( v.x / r, 4 ), roundTo( v.y / r, 4 ), roundTo( v.z / r, 4 ) ];\n",
       "        var angle = roundTo( 2 * Math.atan2( r, v.w ) * 180 / Math.PI, 2 );\n",
       "\n",
       "        var textArea = document.createElement( 'textarea' );\n",
       "        textArea.textContent = JSON.stringify( axis ) + ',' + angle;\n",
       "        textArea.style.csstext = 'position: absolute; top: -100%';\n",
       "        document.body.append( textArea );\n",
       "        textArea.select();\n",
       "        document.execCommand( 'copy' );\n",
       "\n",
       "        var m = document.getElementById( 'menu-message' );\n",
       "        m.innerHTML = 'Viewpoint copied to clipboard';\n",
       "        m.style.display = 'block';\n",
       "        setTimeout( function() { m.style.display = 'none'; }, 2000 );\n",
       "\n",
       "    }\n",
       "\n",
       "</script>\n",
       "\n",
       "<div id=&quot;menu-container&quot; onclick=&quot;toggleMenu()&quot;>&#x24d8;\n",
       "<div id=&quot;menu-message&quot;></div>\n",
       "<div id=&quot;menu-content&quot;>\n",
       "<div onclick=&quot;saveAsPNG()&quot;>Save as PNG</div>\n",
       "<div onclick=&quot;saveAsHTML()&quot;>Save as HTML</div>\n",
       "<div onclick=&quot;getViewpoint()&quot;>Get Viewpoint</div>\n",
       "<div>Close Menu</div>\n",
       "</div></div>\n",
       "\n",
       "</body>\n",
       "</html>\n",
       "\"\n",
       "        width=\"100%\"\n",
       "        height=\"400\"\n",
       "        style=\"border: 0;\">\n",
       "</iframe>\n"
      ],
      "text/plain": [
       "Graphics3d Object"
      ]
     },
     "execution_count": 3,
     "metadata": {},
     "output_type": "execute_result"
    }
   ],
   "source": [
    "plot3d(f,(x,-3,3),(y,-3,3))"
   ]
  },
  {
   "cell_type": "markdown",
   "metadata": {},
   "source": [
    "<p>En la gráfica no se distinguen muy bien los máximos, mínimos y puntos de inflexión:</p>\n",
    "<p>Calculamos el conjuto de puntos críticos de la función $f(x,y)$</p>"
   ]
  },
  {
   "cell_type": "code",
   "execution_count": 4,
   "metadata": {},
   "outputs": [
    {
     "name": "stdout",
     "output_type": "stream",
     "text": [
      "lista de puntos críticos:\n"
     ]
    },
    {
     "data": {
      "text/html": [
       "<html><script type=\"math/tex; mode=display\">\\newcommand{\\Bold}[1]{\\mathbf{#1}}\\left[\\left(0, 0\\right), \\left(-\\frac{1}{2} \\, \\sqrt{3} \\sqrt{2}, 0\\right), \\left(\\frac{1}{2} \\, \\sqrt{3} \\sqrt{2}, 0\\right)\\right]</script></html>"
      ],
      "text/plain": [
       "[(0, 0), (-1/2*sqrt(3)*sqrt(2), 0), (1/2*sqrt(3)*sqrt(2), 0)]"
      ]
     },
     "metadata": {},
     "output_type": "display_data"
    }
   ],
   "source": [
    "gradiente=f(x,y).gradient()\n",
    "\n",
    "derpar0=solve(list(gradiente),x,y)\n",
    "\n",
    "lptc=[(sol[0].rhs(),sol[1].rhs()) for sol in derpar0]\n",
    "\n",
    "puntos_criticos=[]\n",
    "for ptc in lptc:\n",
    "    if (ptc[0].n()).imag()==0 and (ptc[1].n()).imag()==0:\n",
    "        puntos_criticos.append(ptc)\n",
    "        \n",
    "print ('lista de puntos críticos:')\n",
    "#print (puntos_criticos)\n",
    "show(puntos_criticos)"
   ]
  },
  {
   "cell_type": "code",
   "execution_count": 5,
   "metadata": {},
   "outputs": [
    {
     "data": {
      "text/plain": [
       "(-4*x^3 + 6*x, 2*y)"
      ]
     },
     "execution_count": 5,
     "metadata": {},
     "output_type": "execute_result"
    }
   ],
   "source": [
    "gradiente"
   ]
  },
  {
   "cell_type": "code",
   "execution_count": 6,
   "metadata": {},
   "outputs": [
    {
     "data": {
      "text/plain": [
       "[[x == 0, y == 0], [x == -1/2*sqrt(3)*sqrt(2), y == 0], [x == 1/2*sqrt(3)*sqrt(2), y == 0]]"
      ]
     },
     "execution_count": 6,
     "metadata": {},
     "output_type": "execute_result"
    }
   ],
   "source": [
    "derpar0"
   ]
  },
  {
   "cell_type": "code",
   "execution_count": 7,
   "metadata": {},
   "outputs": [
    {
     "data": {
      "text/plain": [
       "[(0, 0), (-1/2*sqrt(3)*sqrt(2), 0), (1/2*sqrt(3)*sqrt(2), 0)]"
      ]
     },
     "execution_count": 7,
     "metadata": {},
     "output_type": "execute_result"
    }
   ],
   "source": [
    "lptc"
   ]
  },
  {
   "cell_type": "code",
   "execution_count": 8,
   "metadata": {},
   "outputs": [
    {
     "name": "stdout",
     "output_type": "stream",
     "text": [
      "matriz hessiana:\n"
     ]
    },
    {
     "data": {
      "text/html": [
       "<html><script type=\"math/tex; mode=display\">\\newcommand{\\Bold}[1]{\\mathbf{#1}}\\left(\\begin{array}{rr}\n",
       "\\left( x, y \\right) \\ {\\mapsto} \\ -12 \\, x^{2} + 6 & \\left( x, y \\right) \\ {\\mapsto} \\ 0 \\\\\n",
       "\\left( x, y \\right) \\ {\\mapsto} \\ 0 & \\left( x, y \\right) \\ {\\mapsto} \\ 2\n",
       "\\end{array}\\right)</script></html>"
      ],
      "text/plain": [
       "[(x, y) |--> -12*x^2 + 6           (x, y) |--> 0]\n",
       "[          (x, y) |--> 0           (x, y) |--> 2]"
      ]
     },
     "metadata": {},
     "output_type": "display_data"
    }
   ],
   "source": [
    "hess=f.hessian()\n",
    "def hessiano(pto):\n",
    "    return hess(x=pto[0],y=pto[1])\n",
    "    \n",
    "print ('matriz hessiana:')    \n",
    "show(hess)"
   ]
  },
  {
   "cell_type": "markdown",
   "metadata": {},
   "source": [
    "<p>Hemos definido un proceso que nos permite sustituir las coordenadas de un punto en la matriz hessiana, ahora queremos ver si las matrices hessianas en nuestros puntos críticos son definidas positivas, definidas negativas o indefinidas en signo. Para ello:</p>"
   ]
  },
  {
   "cell_type": "code",
   "execution_count": 9,
   "metadata": {},
   "outputs": [],
   "source": [
    "matriz_hessiana=matrix(RDF,((f.hessian()).substitute(x=puntos_criticos[0][0],y=puntos_criticos[0][1])))"
   ]
  },
  {
   "cell_type": "code",
   "execution_count": 10,
   "metadata": {},
   "outputs": [
    {
     "data": {
      "text/plain": [
       "True"
      ]
     },
     "execution_count": 10,
     "metadata": {},
     "output_type": "execute_result"
    }
   ],
   "source": [
    "(matriz_hessiana).is_positive_definite()"
   ]
  },
  {
   "cell_type": "code",
   "execution_count": 11,
   "metadata": {},
   "outputs": [
    {
     "name": "stdout",
     "output_type": "stream",
     "text": [
      "punto critico= 1\n",
      "menor de orden  1 = 6\n",
      "menor de orden  2 = 12\n",
      "punto critico= 2\n",
      "menor de orden  1 = -12\n",
      "menor de orden  2 = -24\n",
      "punto critico= 3\n",
      "menor de orden  1 = -12\n",
      "menor de orden  2 = -24\n"
     ]
    }
   ],
   "source": [
    "for j in range(len(puntos_criticos)):\n",
    "    print ('punto critico=', j+1)\n",
    "    for i in range((hessiano(puntos_criticos[j])).nrows()):\n",
    "        print ('menor de orden ',i+1,'=', (hessiano(puntos_criticos[j])[0:i+1,0:i+1]).det())"
   ]
  },
  {
   "cell_type": "markdown",
   "metadata": {},
   "source": [
    "<p>Acabamos de ver que el primer punto crítico de nuestra lista es un mínimo local y los dos últimos son puntos de silla</p>\n",
    "\n",
    "<p>Si nos fjamos en la gráfica de la función, el mínimo en $(0,0)$ es un mínimo local.</p>\n",
    "\n",
    "<h3>Método del gradiente</h3>\n",
    "<p>Vamos ahora a utilizar el método del gradiente, en primer lugar con búsqueda lineal exacta y después usando la regla de Armijo, en primer lugar necesitaremos introducir una nueva variable, que llamamos $a$.</p>"
   ]
  },
  {
   "cell_type": "code",
   "execution_count": 12,
   "metadata": {},
   "outputs": [],
   "source": [
    "a=var('a')"
   ]
  },
  {
   "cell_type": "code",
   "execution_count": 13,
   "metadata": {},
   "outputs": [],
   "source": [
    "f(x,y)=3*x^2+y^2-x^4-12"
   ]
  },
  {
   "cell_type": "code",
   "execution_count": 14,
   "metadata": {},
   "outputs": [],
   "source": [
    "punto_inicio=vector([1/3,1])\n",
    "gradiente0=-(f.gradient()).substitute(x=punto_inicio[0],y=punto_inicio[1])  \n",
    "phi(a)=f(punto_inicio[0]+a*gradiente0[0],punto_inicio[1]+a*gradiente0[1])"
   ]
  },
  {
   "cell_type": "markdown",
   "metadata": {},
   "source": [
    "<p>Si calculamos de forma exacta las raíces, con la orden solve</p>"
   ]
  },
  {
   "cell_type": "code",
   "execution_count": 15,
   "metadata": {},
   "outputs": [],
   "source": [
    "soluciones=solve(phi.diff(a)==0,a)"
   ]
  },
  {
   "cell_type": "code",
   "execution_count": 16,
   "metadata": {},
   "outputs": [
    {
     "data": {
      "text/plain": [
       "0.270818365554045"
      ]
     },
     "execution_count": 16,
     "metadata": {},
     "output_type": "execute_result"
    }
   ],
   "source": [
    "soluciones[0].rhs().n()"
   ]
  },
  {
   "cell_type": "markdown",
   "metadata": {},
   "source": [
    "<p>Para evitar problemas en el cálculo de las raíces (como que pueda considerarlas complejas, siendo reales), nos interesa calcularlas numéricamente con la orden find_root. El principal problema de esta orden es que tenemos que darle un intervalo de búsqueda y en principio no sabemos cómo de lejos puede estar el óptimo.</p>"
   ]
  },
  {
   "cell_type": "code",
   "execution_count": 17,
   "metadata": {},
   "outputs": [
    {
     "data": {
      "text/plain": [
       "0.9100101478813014"
      ]
     },
     "execution_count": 17,
     "metadata": {},
     "output_type": "execute_result"
    }
   ],
   "source": [
    "find_root(phi.diff(a)==0,0,1)"
   ]
  },
  {
   "cell_type": "markdown",
   "metadata": {},
   "source": [
    "<p>Si dibujamos la función $\\varphi(a)$ podemos apreciar que en $x=0.91001$ no tenemos un mínimo, hay un máximo, y de hecho si tomamos este valor de $a$, la función $f$ será mayor en el nuevo punto respecto del punto de partida</p>"
   ]
  },
  {
   "cell_type": "code",
   "execution_count": 18,
   "metadata": {},
   "outputs": [
    {
     "data": {
      "image/png": "[encoded data removed]",
      "text/plain": [
       "Graphics object consisting of 1 graphics primitive"
      ]
     },
     "execution_count": 18,
     "metadata": {},
     "output_type": "execute_result"
    }
   ],
   "source": [
    "plot(phi,(a,0,1))"
   ]
  },
  {
   "cell_type": "markdown",
   "metadata": {},
   "source": [
    "<p>Por todo esto debemos de poner la condición de que se produzca (al menos) descenso, o para comprobar que es un mínimo con la condición de la derivada de segundo orden.</p>"
   ]
  },
  {
   "cell_type": "code",
   "execution_count": 19,
   "metadata": {},
   "outputs": [
    {
     "data": {
      "text/plain": [
       "-46.63186167556881"
      ]
     },
     "execution_count": 19,
     "metadata": {},
     "output_type": "execute_result"
    }
   ],
   "source": [
    "phi.diff(a,2)(a=find_root(phi.diff(a)==0,0,1))"
   ]
  },
  {
   "cell_type": "code",
   "execution_count": 20,
   "metadata": {},
   "outputs": [
    {
     "data": {
      "text/plain": [
       "0.2708183655540447"
      ]
     },
     "execution_count": 20,
     "metadata": {},
     "output_type": "execute_result"
    }
   ],
   "source": [
    "find_root(phi.diff(a)==0,0,0.999*0.9100101478813016)"
   ]
  },
  {
   "cell_type": "code",
   "execution_count": 21,
   "metadata": {},
   "outputs": [
    {
     "data": {
      "text/plain": [
       "27.41213010636532"
      ]
     },
     "execution_count": 21,
     "metadata": {},
     "output_type": "execute_result"
    }
   ],
   "source": [
    "phi.diff(a,2)(a=find_root(phi.diff(a)==0,0,0.999*0.9100101478813016))"
   ]
  },
  {
   "cell_type": "code",
   "execution_count": 22,
   "metadata": {},
   "outputs": [
    {
     "name": "stdout",
     "output_type": "stream",
     "text": [
      "iter.= 1 gradiente= -1.85185185185185 -2.00000000000000\n",
      "entra k= 1\n",
      "valor a= 0.2708183655540447\n",
      "x= -0.168182158433416 y= 0.458363268891911\n",
      "iter.= 2 gradiente= 0.990064660806526 -0.916726537783821\n",
      "entra k= 2\n",
      "valor a= 0.24344761388266664\n",
      "x= 0.0728467208294843 y= 0.235188380685521\n",
      "iter.= 3 gradiente= -0.435534038306521 -0.470376761371042\n",
      "entra k= 3\n",
      "valor a= 0.2604844828925777\n",
      "x= -0.0406031379209060 y= 0.112662533235100\n",
      "iter.= 4 gradiente= 0.243351071787559 -0.225325066470200\n",
      "entra k= 4\n",
      "valor a= 0.24090900636245582\n",
      "x= 0.0180223269806735 y= 0.0583796953632097\n",
      "iter.= 5 gradiente= -0.108110546969021 -0.116759390726419\n",
      "entra k= 5\n",
      "valor a= 0.26001518916661365\n",
      "x= -0.0100880573403825 y= 0.0280204802965012\n",
      "iter.= 6 gradiente= 0.0605242374402641 -0.0560409605930024\n",
      "entra k= 6\n",
      "valor a= 0.24076347912594026\n",
      "x= 0.00448396863717994 y= 0.0145278636505702\n",
      "iter.= 7 gradiente= -0.0269034512048391 -0.0290557273011404\n",
      "entra k= 7\n",
      "valor a= 0.2599865299613989\n",
      "x= -0.00251056628555198 y= 0.00697376593404204\n",
      "iter.= 8 gradiente= 0.0150633344174864 -0.0139475318680841\n",
      "entra k= 8\n",
      "valor a= 0.2407545043226762\n",
      "x= 0.00111599932557666 y= 0.00361583481261672\n",
      "iter.= 9 gradiente= -0.00669599039375443 -0.00723166962523345\n",
      "entra k= 9\n",
      "valor a= 0.2599847561494958\n",
      "x= -0.000624856104122956 y= 0.00173571094854669\n",
      "iter.= 10 gradiente= 0.00374913564884959 -0.00347142189709338\n",
      "entra k= 10\n",
      "valor a= 0.24075394851106094\n",
      "x= 0.000277763106841162 y= 0.000899952419873701\n",
      "iter.= 11 gradiente= -0.00166657855532667 -0.00179990483974740\n",
      "entra k= 11\n",
      "valor a= 0.25998464627254536\n",
      "x= -0.000155521729350853 y= 0.000432004796787730\n",
      "iter.= 12 gradiente= 0.000933130361058696 -0.000864009593575461\n",
      "entra k= 12\n",
      "valor a= 0.24075391408061197\n",
      "x= 0.0000691330574214828 y= 0.000223991105331239\n"
     ]
    }
   ],
   "source": [
    "punto_inicio=vector([1/3,1.])\n",
    "punto_antiguo=vector([10^3,10^3]);error=10^(-3);k=1;\n",
    "gradiente0=-(f.gradient()).substitute(x=punto_inicio[0],y=punto_inicio[1])\n",
    "while (gradiente0).norm()>error:  \n",
    "    print ('iter.=',k,'gradiente=',gradiente0[0].n(),gradiente0[1].n())\n",
    "    phi(a)=f(punto_inicio[0]+a*gradiente0[0],punto_inicio[1]+a*gradiente0[1])\n",
    "    valora=find_root(phi.diff(a)==0,0,5/(gradiente0).norm())\n",
    "    while phi.diff(a,2)(a=valora)<0:\n",
    "        valora=find_root(phi.diff(a)==0,0,0.999*valora)\n",
    "        print ('entra','k=',k)\n",
    "    print ('valor a=',valora)\n",
    "    punto_antiguo=punto_inicio\n",
    "    punto_inicio=punto_inicio+valora*gradiente0\n",
    "    gradiente0=-(f.gradient()).substitute(x=punto_inicio[0],y=punto_inicio[1])\n",
    "    print ('x=',punto_inicio[0].n(),'y=',punto_inicio[1].n())\n",
    "    k=k+1"
   ]
  },
  {
   "cell_type": "markdown",
   "metadata": {},
   "source": [
    "<p>Hemos visto que el método del gradiente posee una alternativa, menos costosa computacionalmente, la regla de Armijo, que en términos de $\\varphi(a)$, requiere que</p>\n",
    "<p>$$\\varphi(\\alpha)\\leq\\varphi(0)+\\epsilon\\alpha\\varphi'(0)$$</p>"
   ]
  },
  {
   "cell_type": "code",
   "execution_count": 23,
   "metadata": {},
   "outputs": [
    {
     "name": "stdout",
     "output_type": "stream",
     "text": [
      "iter.= 1 x= -0.129629629629630 y= 0.500000000000000\n",
      "error= (x, y) |--> 0.681421092332374\n",
      "iter.= 2 x= 0.0626365391454555 y= 0.250000000000000\n",
      "error= (x, y) |--> 0.315382751042998\n",
      "iter.= 3 x= -0.0310725253815205 y= 0.125000000000000\n",
      "error= (x, y) |--> 0.156225442148585\n",
      "iter.= 4 x= 0.0155062621105303 y= 0.0625000000000000\n",
      "error= (x, y) |--> 0.0779476327044614\n",
      "iter.= 5 x= -0.00774940266502527 y= 0.0312500000000000\n",
      "error= (x, y) |--> 0.0389536704837043\n",
      "iter.= 6 x= 0.00387423595576164 y= 0.0156250000000000\n",
      "error= (x, y) |--> 0.0194743318187467\n",
      "iter.= 7 x= -0.00193705982674496 y= 0.00781250000000000\n",
      "error= (x, y) |--> 0.00973685344050012\n",
      "iter.= 8 x= 0.000968522645135103 y= 0.00390625000000000\n",
      "error= (x, y) |--> 0.00486838767595563\n",
      "iter.= 9 x= -0.000484260414058333 y= 0.00195312500000000\n",
      "error= (x, y) |--> 0.00243418895788812\n",
      "iter.= 10 x= 0.000242130093466153 y= 0.000976562500000000\n",
      "error= (x, y) |--> 0.00121709386894682\n",
      "iter.= 11 x= -0.000121065032537720 y= 0.000488281250000000\n",
      "error= (x, y) |--> 0.000608546858224190\n",
      "iter.= 12 x= 0.0000605325144944410 y= 0.000244140625000000\n",
      "error= (x, y) |--> 0.000304273419580956\n"
     ]
    }
   ],
   "source": [
    "punto_inicio=vector([1/3,1.])\n",
    "punto_antiguo=vector([10^3,10^3]);error=10^(-3)\n",
    "epsilon=1/5;beta=0.5;s=1;m=0;k=1\n",
    "gradiente0=-(f.gradient()).substitute(x=punto_inicio[0],y=punto_inicio[1])\n",
    "while (gradiente0).norm()>error:\n",
    "    phi(a)=f(punto_inicio[0]+a*gradiente0[0],punto_inicio[1]+a*gradiente0[1])\n",
    "    alpha=beta^m*s \n",
    "    if phi(alpha)<phi(0)+epsilon*alpha*((phi.diff(a))(a=0)):\n",
    "        punto_antiguo=punto_inicio\n",
    "        punto_inicio=punto_inicio+alpha*gradiente0\n",
    "        print ('iter.=',k,'x=',punto_inicio[0].n(),'y=',punto_inicio[1].n())\n",
    "        print ('error=',(punto_inicio-punto_antiguo).norm())\n",
    "        m=0\n",
    "        k=k+1\n",
    "    else:\n",
    "        m=m+1\n",
    "    gradiente0=-(f.gradient()).substitute(x=punto_inicio[0],y=punto_inicio[1])"
   ]
  },
  {
   "cell_type": "markdown",
   "metadata": {},
   "source": [
    "<h3>El método de Newton</h3>\n",
    "<p>Sabemos que hay un método de segundo orden, el método de Newton, donde en cada iteración se calcula</p>\n",
    "<p>$$x^{k+1}=x^k-[Hf(x^k)]^{-1}\\nabla f(x^k)$$</p>\n",
    "<p>la dirección de Newton $-[Hf(x^k)]^{-1}\\nabla f(x^k)$ no es, en general, de descenso, necesitamos que la matriz hessiana $Hf(x^k)$ sea definida positiva.</p>"
   ]
  },
  {
   "cell_type": "code",
   "execution_count": 27,
   "metadata": {},
   "outputs": [],
   "source": [
    "f(x,y)=3*x^2+y^2-x^4-12"
   ]
  },
  {
   "cell_type": "code",
   "execution_count": 28,
   "metadata": {},
   "outputs": [
    {
     "data": {
      "text/plain": [
       "True"
      ]
     },
     "execution_count": 28,
     "metadata": {},
     "output_type": "execute_result"
    }
   ],
   "source": [
    "punto_inicio=vector([1/3,1.])\n",
    "hessiano0=matrix(RDF,(f.hessian()).substitute(x=punto_inicio[0],y=punto_inicio[1]))\n",
    "hessiano0.is_positive_definite()"
   ]
  },
  {
   "cell_type": "code",
   "execution_count": 29,
   "metadata": {},
   "outputs": [],
   "source": [
    "gradiente0=-(f.gradient()).substitute(x=punto_inicio[0],y=punto_inicio[1])\n",
    "punto_inicio=punto_inicio+(hessiano0)^(-1)*gradiente0"
   ]
  },
  {
   "cell_type": "code",
   "execution_count": 30,
   "metadata": {},
   "outputs": [
    {
     "data": {
      "text/plain": [
       "(x, y) |--> (-0.0634920634920635, 0.000000000000000)"
      ]
     },
     "execution_count": 30,
     "metadata": {},
     "output_type": "execute_result"
    }
   ],
   "source": [
    "punto_inicio"
   ]
  },
  {
   "cell_type": "code",
   "execution_count": 31,
   "metadata": {},
   "outputs": [
    {
     "data": {
      "text/plain": [
       "(x, y) |--> 0.379928573428195"
      ]
     },
     "execution_count": 31,
     "metadata": {},
     "output_type": "execute_result"
    }
   ],
   "source": [
    "gradiente0=-(f.gradient()).substitute(x=punto_inicio[0],y=punto_inicio[1])\n",
    "gradiente0.norm()"
   ]
  },
  {
   "cell_type": "code",
   "execution_count": 32,
   "metadata": {},
   "outputs": [
    {
     "data": {
      "text/plain": [
       "True"
      ]
     },
     "execution_count": 32,
     "metadata": {},
     "output_type": "execute_result"
    }
   ],
   "source": [
    "hessiano0=matrix(RDF,(f.hessian()).substitute(x=punto_inicio[0],y=punto_inicio[1]))\n",
    "hessiano0.is_positive_definite()"
   ]
  },
  {
   "cell_type": "code",
   "execution_count": 33,
   "metadata": {},
   "outputs": [],
   "source": [
    "punto_inicio=punto_inicio+(hessiano0)^(-1)*gradiente0"
   ]
  },
  {
   "cell_type": "code",
   "execution_count": 34,
   "metadata": {},
   "outputs": [
    {
     "data": {
      "text/plain": [
       "(x, y) |--> (0.000344043016128351, 0.000000000000000)"
      ]
     },
     "execution_count": 34,
     "metadata": {},
     "output_type": "execute_result"
    }
   ],
   "source": [
    "punto_inicio"
   ]
  },
  {
   "cell_type": "code",
   "execution_count": 35,
   "metadata": {},
   "outputs": [
    {
     "data": {
      "text/plain": [
       "(x, y) |--> 0.00206425793387868"
      ]
     },
     "execution_count": 35,
     "metadata": {},
     "output_type": "execute_result"
    }
   ],
   "source": [
    "gradiente0=-(f.gradient()).substitute(x=punto_inicio[0],y=punto_inicio[1])\n",
    "gradiente0.norm()"
   ]
  },
  {
   "cell_type": "markdown",
   "metadata": {},
   "source": [
    "<p>En dos iteraciones hemos sidos capaces de poder asegurar $||\\nabla f(x^k)||<10^{-2}$</p>\n",
    "<h3>Método de quasi-Newton</h3>\n",
    "<p>Sabemos que hay multitud de funciones donde la matriz hessiana no es definida positiva, si consideramos:</p>\n",
    "<p>$$f(x,y)=16\\left(x-\\frac{1}{4}\\right)^4+3x^2y^2$$</p>\n",
    "<p>y de punto de inicio $x^0=(\\frac{1}{2},1)$, obtenemos que:</p>"
   ]
  },
  {
   "cell_type": "code",
   "execution_count": 36,
   "metadata": {},
   "outputs": [],
   "source": [
    "f(x,y)=16*(x-1/4)^4+3*x^2*y^2"
   ]
  },
  {
   "cell_type": "code",
   "execution_count": 37,
   "metadata": {},
   "outputs": [
    {
     "data": {
      "text/plain": [
       "False"
      ]
     },
     "execution_count": 37,
     "metadata": {},
     "output_type": "execute_result"
    }
   ],
   "source": [
    "punto_inicio=vector([1/2,1.]);lista1=[punto_inicio]\n",
    "gradiente0=-(f.gradient()).substitute(x=punto_inicio[0],y=punto_inicio[1])\n",
    "gradiente0.norm()\n",
    "hessiano0=matrix(RDF,(f.hessian()).substitute(x=punto_inicio[0],y=punto_inicio[1]))\n",
    "hessiano0.is_positive_definite()"
   ]
  },
  {
   "cell_type": "markdown",
   "metadata": {},
   "source": [
    "<p>Por tanto no tenemos que la dirección de Newton sea una dirección de descenso. Tenemos que modificar la matriz hessiana ligeramente, hacer una perturbación de ella. El algoritmo de quasi-Newton que explicamos está en el texto de Nocedal y Wright.</p>\n",
    "<p>En la iteración $k$-ésima tenemos que comprobar que la matriz hessiana $H_k$ sea definida positiva, en caso contrario vamos a construir una constante $\\tau$, dependiente de $x^k$, de modo que $H_k+\\tau I$ sea definida positiva, para ello nos vamos a servir de un proceso iterativo.</p>\n",
    "<p>Partimos de un valor $\\beta>0$, por ejemplo, $\\beta=10^{-3}$. Sean $h_{11},\\ldots,h_{nn}$ los elementos de la diagonal de $H_k$ </p>\n",
    "    Si $\\min\\{h_{11},\\ldots,h_{nn}\\}\\ge 0$, hacemos $\\tau=0$. Pero si $\\min\\{h_{11},\\ldots,h_{nn}\\}<0$ entonces tomamos $$\\tau=-\\min\\{h_{11},\\ldots,h_{nn}\\}+\\beta$$</p>\n",
    "<p>Si $H_k+\\tau I$ es definda positiva ya está, en caso contrario, se cambia $\\tau$, mediante la fórmula $\\tau=\\max\\{2\\tau,\\beta\\}$, hasta que la matriz $H_k+\\tau I$ sea definida positiva.</p>"
   ]
  },
  {
   "cell_type": "code",
   "execution_count": 38,
   "metadata": {},
   "outputs": [
    {
     "data": {
      "text/plain": [
       "[18.0, 1.5]"
      ]
     },
     "execution_count": 38,
     "metadata": {},
     "output_type": "execute_result"
    }
   ],
   "source": [
    "hessiano0.diagonal()"
   ]
  },
  {
   "cell_type": "markdown",
   "metadata": {},
   "source": [
    "<p>Todos los elementos de la diagonal son positivos, por tanto no tenemos que cambiar el valor de $\\tau$</p>"
   ]
  },
  {
   "cell_type": "code",
   "execution_count": 39,
   "metadata": {},
   "outputs": [],
   "source": [
    "beta=10^(-3);t=0"
   ]
  },
  {
   "cell_type": "markdown",
   "metadata": {},
   "source": [
    "<p>Hemos programado el cálculo de $\\tau$, usando una variable temporal hessiano0temp. Se usa copy, ya si hacemos uso de la asignación vinculamos ambas variables y los cambios en el bucle de hessianotemp, se llevarían también a cabo en hessiano0.</p>"
   ]
  },
  {
   "cell_type": "code",
   "execution_count": 40,
   "metadata": {},
   "outputs": [],
   "source": [
    "hessiano0temp=copy(hessiano0)\n",
    "while hessiano0temp.is_positive_definite()==False:\n",
    "    hessiano0temp=hessiano0+t*identity_matrix(2)\n",
    "    t=max(2*t,beta)\n",
    "hessiano0=hessiano0temp"
   ]
  },
  {
   "cell_type": "code",
   "execution_count": 41,
   "metadata": {},
   "outputs": [
    {
     "data": {
      "text/plain": [
       "[18.512    6.0]\n",
       "[   6.0  2.012]"
      ]
     },
     "execution_count": 41,
     "metadata": {},
     "output_type": "execute_result"
    }
   ],
   "source": [
    "hessiano0"
   ]
  },
  {
   "cell_type": "code",
   "execution_count": 42,
   "metadata": {},
   "outputs": [
    {
     "data": {
      "text/plain": [
       "True"
      ]
     },
     "execution_count": 42,
     "metadata": {},
     "output_type": "execute_result"
    }
   ],
   "source": [
    "hessiano0.is_positive_definite()"
   ]
  },
  {
   "cell_type": "code",
   "execution_count": 43,
   "metadata": {},
   "outputs": [],
   "source": [
    "punto_inicio=punto_inicio+(hessiano0)^(-1)*gradiente0\n",
    "#primera iteracion"
   ]
  },
  {
   "cell_type": "code",
   "execution_count": 44,
   "metadata": {},
   "outputs": [],
   "source": [
    "punto_inicio;lista1.append(punto_inicio)"
   ]
  },
  {
   "cell_type": "code",
   "execution_count": 45,
   "metadata": {},
   "outputs": [
    {
     "data": {
      "text/plain": [
       "(x, y) |--> 99.6819800660246"
      ]
     },
     "execution_count": 45,
     "metadata": {},
     "output_type": "execute_result"
    }
   ],
   "source": [
    "gradiente0=-(f.gradient()).substitute(x=punto_inicio[0],y=punto_inicio[1])\n",
    "gradiente0.norm()"
   ]
  },
  {
   "cell_type": "code",
   "execution_count": 46,
   "metadata": {},
   "outputs": [
    {
     "data": {
      "text/plain": [
       "True"
      ]
     },
     "execution_count": 46,
     "metadata": {},
     "output_type": "execute_result"
    }
   ],
   "source": [
    "hessiano0=matrix(RDF,(f.hessian()).substitute(x=punto_inicio[0],y=punto_inicio[1]))\n",
    "hessiano0.is_positive_definite()"
   ]
  },
  {
   "cell_type": "code",
   "execution_count": 47,
   "metadata": {},
   "outputs": [],
   "source": [
    "punto_inicio=punto_inicio+(hessiano0)^(-1)*gradiente0;lista1.append(punto_inicio)\n",
    "#segunda iteracion"
   ]
  },
  {
   "cell_type": "code",
   "execution_count": 48,
   "metadata": {},
   "outputs": [
    {
     "data": {
      "text/plain": [
       "(x, y) |--> 29.9119752243039"
      ]
     },
     "execution_count": 48,
     "metadata": {},
     "output_type": "execute_result"
    }
   ],
   "source": [
    "gradiente0=-(f.gradient()).substitute(x=punto_inicio[0],y=punto_inicio[1])\n",
    "gradiente0.norm()"
   ]
  },
  {
   "cell_type": "code",
   "execution_count": 49,
   "metadata": {},
   "outputs": [
    {
     "data": {
      "text/plain": [
       "True"
      ]
     },
     "execution_count": 49,
     "metadata": {},
     "output_type": "execute_result"
    }
   ],
   "source": [
    "hessiano0=matrix(RDF,(f.hessian()).substitute(x=punto_inicio[0],y=punto_inicio[1]))\n",
    "hessiano0.is_positive_definite()"
   ]
  },
  {
   "cell_type": "code",
   "execution_count": 50,
   "metadata": {},
   "outputs": [
    {
     "data": {
      "text/plain": [
       "(x, y) |--> 8.88350432921821"
      ]
     },
     "execution_count": 50,
     "metadata": {},
     "output_type": "execute_result"
    }
   ],
   "source": [
    "punto_inicio=punto_inicio+(hessiano0)^(-1)*gradiente0;lista1.append(punto_inicio)\n",
    "#tercera iteracion\n",
    "gradiente0=-(f.gradient()).substitute(x=punto_inicio[0],y=punto_inicio[1])\n",
    "gradiente0.norm()"
   ]
  },
  {
   "cell_type": "code",
   "execution_count": 51,
   "metadata": {},
   "outputs": [
    {
     "data": {
      "text/plain": [
       "True"
      ]
     },
     "execution_count": 51,
     "metadata": {},
     "output_type": "execute_result"
    }
   ],
   "source": [
    "hessiano0=matrix(RDF,(f.hessian()).substitute(x=punto_inicio[0],y=punto_inicio[1]))\n",
    "hessiano0.is_positive_definite()"
   ]
  },
  {
   "cell_type": "code",
   "execution_count": 52,
   "metadata": {},
   "outputs": [
    {
     "data": {
      "text/plain": [
       "(x, y) |--> 2.63310147222702"
      ]
     },
     "execution_count": 52,
     "metadata": {},
     "output_type": "execute_result"
    }
   ],
   "source": [
    "punto_inicio=punto_inicio+(hessiano0)^(-1)*gradiente0;lista1.append(punto_inicio)\n",
    "#cuarta iteracion\n",
    "gradiente0=-(f.gradient()).substitute(x=punto_inicio[0],y=punto_inicio[1])\n",
    "gradiente0.norm()"
   ]
  },
  {
   "cell_type": "code",
   "execution_count": 53,
   "metadata": {},
   "outputs": [
    {
     "data": {
      "text/plain": [
       "True"
      ]
     },
     "execution_count": 53,
     "metadata": {},
     "output_type": "execute_result"
    }
   ],
   "source": [
    "hessiano0=matrix(RDF,(f.hessian()).substitute(x=punto_inicio[0],y=punto_inicio[1]))\n",
    "hessiano0.is_positive_definite()"
   ]
  },
  {
   "cell_type": "code",
   "execution_count": 54,
   "metadata": {},
   "outputs": [
    {
     "data": {
      "text/plain": [
       "(x, y) |--> 0.779406263824723"
      ]
     },
     "execution_count": 54,
     "metadata": {},
     "output_type": "execute_result"
    }
   ],
   "source": [
    "punto_inicio=punto_inicio+(hessiano0)^(-1)*gradiente0;lista1.append(punto_inicio)\n",
    "#quinta iteracion\n",
    "gradiente0=-(f.gradient()).substitute(x=punto_inicio[0],y=punto_inicio[1])\n",
    "gradiente0.norm()"
   ]
  },
  {
   "cell_type": "code",
   "execution_count": 55,
   "metadata": {},
   "outputs": [
    {
     "data": {
      "text/plain": [
       "True"
      ]
     },
     "execution_count": 55,
     "metadata": {},
     "output_type": "execute_result"
    }
   ],
   "source": [
    "hessiano0=matrix(RDF,(f.hessian()).substitute(x=punto_inicio[0],y=punto_inicio[1]))\n",
    "hessiano0.is_positive_definite()"
   ]
  },
  {
   "cell_type": "code",
   "execution_count": 56,
   "metadata": {},
   "outputs": [
    {
     "data": {
      "text/plain": [
       "(x, y) |--> 0.230512497595296"
      ]
     },
     "execution_count": 56,
     "metadata": {},
     "output_type": "execute_result"
    }
   ],
   "source": [
    "punto_inicio=punto_inicio+(hessiano0)^(-1)*gradiente0;lista1.append(punto_inicio)\n",
    "#sexta iteracion\n",
    "gradiente0=-(f.gradient()).substitute(x=punto_inicio[0],y=punto_inicio[1])\n",
    "gradiente0.norm()"
   ]
  },
  {
   "cell_type": "code",
   "execution_count": 57,
   "metadata": {},
   "outputs": [
    {
     "data": {
      "text/plain": [
       "True"
      ]
     },
     "execution_count": 57,
     "metadata": {},
     "output_type": "execute_result"
    }
   ],
   "source": [
    "hessiano0=matrix(RDF,(f.hessian()).substitute(x=punto_inicio[0],y=punto_inicio[1]))\n",
    "hessiano0.is_positive_definite()"
   ]
  },
  {
   "cell_type": "code",
   "execution_count": 58,
   "metadata": {},
   "outputs": [
    {
     "data": {
      "text/plain": [
       "(x, y) |--> 0.0681747846186468"
      ]
     },
     "execution_count": 58,
     "metadata": {},
     "output_type": "execute_result"
    }
   ],
   "source": [
    "punto_inicio=punto_inicio+(hessiano0)^(-1)*gradiente0;lista1.append(punto_inicio)\n",
    "#sexta iteracion\n",
    "gradiente0=-(f.gradient()).substitute(x=punto_inicio[0],y=punto_inicio[1])\n",
    "gradiente0.norm()"
   ]
  },
  {
   "cell_type": "markdown",
   "metadata": {},
   "source": [
    "<p>Tras 7 iteraciones hemos conseguido que $||\\nabla f(x^k)||\\leq 10^{-1}$.</p>\n",
    "<p>Representamos a continuación las iteraciones que hemos llevado a cabo, así como las curvas que representan $|Hf(x,y)|=0$ y por tanto separan las regiones donde el hessiano es una matriz definida positiva o no lo es.</p>"
   ]
  },
  {
   "cell_type": "code",
   "execution_count": 59,
   "metadata": {},
   "outputs": [
    {
     "data": {
      "image/png": "[encoded data removed]",
      "text/plain": [
       "Graphics object consisting of 4 graphics primitives"
      ]
     },
     "execution_count": 59,
     "metadata": {},
     "output_type": "execute_result"
    }
   ],
   "source": [
    "line(lista1)+point(lista1,color='green',size=20)+plot(sqrt(2/3)*(4*x-1),(x,-2,6),color='red')+plot(-sqrt(2/3)*(4*x-1),(x,-2,6),color='red')"
   ]
  },
  {
   "cell_type": "markdown",
   "metadata": {},
   "source": [
    "<p>Hemos visto en clase que el método de Newton no tiene convergencia global, depende del punto de inicio. Por ejemplo si partimos del punto $x^0=\\left(\\frac{1}{4},1\\right)$, vamos a aplicarle el mismo método de quasi-Newton.</p>"
   ]
  },
  {
   "cell_type": "code",
   "execution_count": 60,
   "metadata": {},
   "outputs": [
    {
     "data": {
      "text/plain": [
       "1.54616460960662"
      ]
     },
     "execution_count": 60,
     "metadata": {},
     "output_type": "execute_result"
    }
   ],
   "source": [
    "punto_inicio=vector([1/4,1]);lista2=[punto_inicio]\n",
    "gradiente0=-(f.gradient()).substitute(x=punto_inicio[0],y=punto_inicio[1])\n",
    "hessiano0=matrix(RDF,(f.hessian()).substitute(x=punto_inicio[0],y=punto_inicio[1]))\n",
    "hessiano0.is_positive_definite();gradiente0.norm().n()"
   ]
  },
  {
   "cell_type": "code",
   "execution_count": 61,
   "metadata": {},
   "outputs": [
    {
     "data": {
      "text/plain": [
       "[6.0, 0.375]"
      ]
     },
     "execution_count": 61,
     "metadata": {},
     "output_type": "execute_result"
    }
   ],
   "source": [
    "hessiano0.diagonal()"
   ]
  },
  {
   "cell_type": "code",
   "execution_count": 62,
   "metadata": {},
   "outputs": [],
   "source": [
    "beta=10^(-3);t=0\n",
    "hessiano0temp=copy(hessiano0)\n",
    "while hessiano0temp.is_positive_definite()==False:\n",
    "    hessiano0temp=hessiano0+t*identity_matrix(2)\n",
    "    t=max(2*t,beta)\n",
    "hessiano0=copy(hessiano0temp)"
   ]
  },
  {
   "cell_type": "code",
   "execution_count": 63,
   "metadata": {},
   "outputs": [
    {
     "data": {
      "text/plain": [
       "True"
      ]
     },
     "execution_count": 63,
     "metadata": {},
     "output_type": "execute_result"
    }
   ],
   "source": [
    "hessiano0.is_positive_definite()"
   ]
  },
  {
   "cell_type": "code",
   "execution_count": 64,
   "metadata": {},
   "outputs": [],
   "source": [
    "punto_inicio=punto_inicio+(hessiano0)^(-1)*gradiente0;lista2.append(punto_inicio)\n",
    "#primera iteracion"
   ]
  },
  {
   "cell_type": "code",
   "execution_count": 65,
   "metadata": {},
   "outputs": [
    {
     "data": {
      "text/plain": [
       "(x, y) |--> (-0.9277501403379704, 3.257505661911301)"
      ]
     },
     "execution_count": 65,
     "metadata": {},
     "output_type": "execute_result"
    }
   ],
   "source": [
    "punto_inicio"
   ]
  },
  {
   "cell_type": "code",
   "execution_count": 66,
   "metadata": {},
   "outputs": [
    {
     "data": {
      "text/plain": [
       "(x, y) |--> 164.48431217684706"
      ]
     },
     "execution_count": 66,
     "metadata": {},
     "output_type": "execute_result"
    }
   ],
   "source": [
    "gradiente0=-(f.gradient()).substitute(x=punto_inicio[0],y=punto_inicio[1])\n",
    "hessiano0=matrix(RDF,(f.hessian()).substitute(x=punto_inicio[0],y=punto_inicio[1]))\n",
    "hessiano0.is_positive_definite();gradiente0.norm()"
   ]
  },
  {
   "cell_type": "code",
   "execution_count": 67,
   "metadata": {},
   "outputs": [],
   "source": [
    "punto_inicio=punto_inicio+(hessiano0)^(-1)*gradiente0;lista2.append(punto_inicio)\n",
    "#segunda iteracion"
   ]
  },
  {
   "cell_type": "code",
   "execution_count": 68,
   "metadata": {},
   "outputs": [
    {
     "data": {
      "text/plain": [
       "(x, y) |--> (-0.3238363301549614, 4.2409105004520455)"
      ]
     },
     "execution_count": 68,
     "metadata": {},
     "output_type": "execute_result"
    }
   ],
   "source": [
    "punto_inicio"
   ]
  },
  {
   "cell_type": "code",
   "execution_count": 69,
   "metadata": {},
   "outputs": [
    {
     "data": {
      "text/plain": [
       "(x, y) |--> 47.114711868151325"
      ]
     },
     "execution_count": 69,
     "metadata": {},
     "output_type": "execute_result"
    }
   ],
   "source": [
    "gradiente0=-(f.gradient()).substitute(x=punto_inicio[0],y=punto_inicio[1])\n",
    "hessiano0=matrix(RDF,(f.hessian()).substitute(x=punto_inicio[0],y=punto_inicio[1]))\n",
    "hessiano0.is_positive_definite();gradiente0.norm()"
   ]
  },
  {
   "cell_type": "code",
   "execution_count": 70,
   "metadata": {},
   "outputs": [
    {
     "data": {
      "text/plain": [
       "[171.1352529277636, 0.6292198123693988]"
      ]
     },
     "execution_count": 70,
     "metadata": {},
     "output_type": "execute_result"
    }
   ],
   "source": [
    "hessiano0.diagonal()"
   ]
  },
  {
   "cell_type": "code",
   "execution_count": 71,
   "metadata": {},
   "outputs": [],
   "source": [
    "beta=10^(-3);t=0\n",
    "hessiano0temp=copy(hessiano0)\n",
    "while hessiano0temp.is_positive_definite()==False:\n",
    "    hessiano0temp=hessiano0+t*identity_matrix(2)\n",
    "    t=max(2*t,beta)\n",
    "hessiano0=copy(hessiano0temp)"
   ]
  },
  {
   "cell_type": "code",
   "execution_count": 72,
   "metadata": {},
   "outputs": [
    {
     "data": {
      "text/plain": [
       "True"
      ]
     },
     "execution_count": 72,
     "metadata": {},
     "output_type": "execute_result"
    }
   ],
   "source": [
    "hessiano0.is_positive_definite()"
   ]
  },
  {
   "cell_type": "code",
   "execution_count": 73,
   "metadata": {},
   "outputs": [],
   "source": [
    "punto_inicio=punto_inicio+(hessiano0)^(-1)*gradiente0;lista2.append(punto_inicio);lista2.append(punto_inicio)\n",
    "#tercera iteracion"
   ]
  },
  {
   "cell_type": "code",
   "execution_count": 74,
   "metadata": {},
   "outputs": [
    {
     "data": {
      "text/plain": [
       "11640.0763082350"
      ]
     },
     "execution_count": 74,
     "metadata": {},
     "output_type": "execute_result"
    }
   ],
   "source": [
    "gradiente0=-(f.gradient()).substitute(x=punto_inicio[0],y=punto_inicio[1])\n",
    "punto_inicio;gradiente0.norm().n()"
   ]
  },
  {
   "cell_type": "code",
   "execution_count": 75,
   "metadata": {},
   "outputs": [
    {
     "data": {
      "image/png": "[encoded data removed]",
      "text/plain": [
       "Graphics object consisting of 4 graphics primitives"
      ]
     },
     "execution_count": 75,
     "metadata": {},
     "output_type": "execute_result"
    }
   ],
   "source": [
    "line(lista2)+point(lista2,color='green',size=20)+plot(sqrt(2/3)*(4*x-1),(x,-2,6),color='red')+plot(-sqrt(2/3)*(4*x-1),(x,-2,6),color='red')"
   ]
  },
  {
   "cell_type": "markdown",
   "metadata": {},
   "source": [
    "<p> </p>\n",
    "<h3>Cuestionario para el alumno</h3>"
   ]
  },
  {
   "cell_type": "code",
   "execution_count": 76,
   "metadata": {},
   "outputs": [
    {
     "data": {
      "text/html": [
       "<center><h4>E.T.S.I.I. - GRADO I.I. TECNOLOGÍAS INFORMÁTICAS</h4></center><center><h4>Matemática Aplicada a Sistemas de Información - SEGUNDA PRÁCTICA DE LABORATORIO</h4></center><hr  align=center><center>APELLIDOS, NOMBRE: <INPUT value= \"\",type=text size=70> <INPUT type=submit value=1-2074FA><hr  align=center></center><hr  align=center><b> <span style=\"color: #0000ff;\">EJERCICIO 1 </span></b><br> Consideremos la función <script type=\"math/tex; mode=display\">f(x,y)=( x^2+ y^2-4xy) e^{2x+ y}</script> Queremos calcular el mínimo de dicha función:<ol><li>El conjunto de puntos críticos de <script type=\"math/tex\">f(x,y)</script> y su clasificación es:</li><li>Si aplicamos el método del gradiente, con longitud de paso dado por búsqueda lineal exacta, y partimos del punto <script type=\"math/tex\">x^0=(0,-2)</script>, \n",
       " con criterio de parada <script type=\"math/tex\">||\\nabla f(x^k)||<10^{-2}</script>. La primera iteración con la precisión requerida es:</li><li>Si aplicamos el método del gradiente, con longitud de paso dado por búsqueda lineal exacta, y partimos del punto <script type=\"math/tex\">x^0=(-2,-1)</script>, \n",
       " con criterio de parada <script type=\"math/tex\">||x^{k-1}-x^k||<10^{-3}</script>. La primera iteración con la precisión requerida es:</li></ol>Marcar la respuesta correcta.<br><hr  align=center><b> <span style=\"color: #ff0000;\">Respuesta al apartado 1 </span></b><br><br> 1.<input type=checkbox> Solo hay dos puntos críticos: <script type=\"math/tex\">(0,0)</script> punto de silla y <script type=\"math/tex\">(\\displaystyle-\\frac{10}{17},-\\frac{12}{17})</script> mínimo local \n",
       " <br> 2.<input type=checkbox> Solo hay dos puntos críticos: <script type=\"math/tex\">(0,0)</script> punto de silla y <script type=\"math/tex\">(-1,-1)</script> mínimo local <br> 3.<input type=checkbox> Solo hay dos puntos críticos: <script type=\"math/tex\">(0,0)</script> punto de silla y <script type=\"math/tex\">(\\displaystyle-\\frac{6}{7},-\\frac{8}{7})</script> mínimo local \n",
       " <br> 4.<input type=checkbox> Solo hay dos puntos críticos: <script type=\"math/tex\">(0,0)</script> punto de silla y <script type=\"math/tex\">(\\displaystyle-\\frac{8}{13},-\\frac{10}{13})</script> mínimo local \n",
       "<br><br><b> <span style=\"color: #ff0000;\">Respuesta al apartado 2 </span></b><br><br> <table style=\" width:100%\"> <tr> <td style=\"border:none; text-align:left\">1.<input type=checkbox> <script type=\"math/tex\">x^k=(-0.615425465978379, -0.769314482129034)</script>    </td> <td style=\"border:none; text-align:left\">2.<input type=checkbox> <script type=\"math/tex\">x^k=(-0.852749425729077, -1.19525290495132)</script>    </td> </tr> <tr> <td style=\"border:none; text-align:left\">3.<input type=checkbox> <script type=\"math/tex\">x^k=(-1.00028901734995, -1.00037797694319)</script>    </td> <td style=\"border:none; text-align:left\">4.<input type=checkbox> <script type=\"math/tex\">x^k=(-0.621206235365706, -0.784697316983445)</script>    </td> </tr> </table><br><br><b> <span style=\"color: #ff0000;\">Respuesta al apartado 3 </span></b><br><br> <table style=\" width:100%\"> <tr> <td style=\"border:none; text-align:left\">1.<input type=checkbox> <script type=\"math/tex\">x^k=(-1.00675383157799, -1.01015925586123)</script>    </td> <td style=\"border:none; text-align:left\">2.<input type=checkbox> <script type=\"math/tex\">x^k=(-0.829345103871711, -0.600184572946843)</script>    </td> </tr> <tr> <td style=\"border:none; text-align:left\">3.<input type=checkbox> <script type=\"math/tex\">x^k=(-0.616999217642563, -0.773504182044988)</script>    </td> <td style=\"border:none; text-align:left\">4.<input type=checkbox> <script type=\"math/tex\">x^k=(-0.615388649341635, -0.769229256543437)</script>    </td> </tr> </table><br><br><hr  align=center><b> <span style=\"color: #0000ff;\">EJERCICIO 2 </span></b><br> Consideremos la función <script type=\"math/tex; mode=display\">f(x,y)=(2x^2+ y^2-4xy) e^{ x+2y}</script> Queremos calcular el mínimo de dicha función:<ol><li>El conjunto de puntos críticos de <script type=\"math/tex\">f(x,y)</script> y su clasificación es:</li><li>Si aplicamos el método del gradiente, con longitud de paso dado por la regla de Armijo con <script type=\"math/tex\">\\epsilon=\\frac{1}{10}</script>, \n",
       " <script type=\"math/tex\">\\beta=\\frac{1}{2}</script> y <script type=\"math/tex\">s=1</script>, y partimos del punto <script type=\"math/tex\">x^0=(0,-2)</script>, con criterio de parada <script type=\"math/tex\">||\\nabla f(x^k)||<10^{-2}</script>,\n",
       " ¿Cuántas iteraciones necesitamos?</li><li>Si aplicamos el método del gradiente, con longitud de paso dado por la regla de Armijo con <script type=\"math/tex\">\\epsilon=\\frac{1}{5}</script>, \n",
       " <script type=\"math/tex\">\\beta=\\frac{1}{2}</script> y <script type=\"math/tex\">s=1</script>, y partimos del punto <script type=\"math/tex\">x^0=(0,-2)</script>, con criterio de parada <script type=\"math/tex\">||\\nabla f(x^k)||<10^{-2}</script>. \n",
       " La primera iteración con la precisión requerida es:</li></ol>Marcar la respuesta correcta.<br><hr  align=center><b> <span style=\"color: #ff0000;\">Respuesta al apartado 1 </span></b><br><br> 1.<input type=checkbox> Solo hay dos puntos críticos: <script type=\"math/tex\">(0,0)</script> punto de silla y <script type=\"math/tex\">(\\displaystyle-\\frac{10}{17},-\\frac{12}{17})</script> mínimo local \n",
       " <br> 2.<input type=checkbox> Solo hay dos puntos críticos: <script type=\"math/tex\">(0,0)</script> punto de silla y <script type=\"math/tex\">(\\displaystyle-\\frac{11}{15},-\\frac{8}{15})</script> mínimo local \n",
       " <br> 3.<input type=checkbox> Solo hay dos puntos críticos: <script type=\"math/tex\">(0,0)</script> punto de silla y <script type=\"math/tex\">(\\displaystyle-\\frac{8}{15},-\\frac{11}{15})</script> mínimo local \n",
       " <br> 4.<input type=checkbox> Solo hay dos puntos críticos: <script type=\"math/tex\">(0,0)</script> punto de silla y <script type=\"math/tex\">(\\displaystyle-\\frac{8}{13},-\\frac{10}{13})</script> mínimo local \n",
       "<br><br><b> <span style=\"color: #ff0000;\">Respuesta al apartado 2 </span></b><br><br> <table style=\" width:100%\"> <tr> <td style=\"border:none; text-align:left\">1.<input type=checkbox> Al menos 12 iteraciones    </td> <td style=\"border:none; text-align:left\">2.<input type=checkbox> Al menos 86 iteraciones    </td> </tr> <tr> <td style=\"border:none; text-align:left\">3.<input type=checkbox> Al menos 52 iteraciones    </td> <td style=\"border:none; text-align:left\">4.<input type=checkbox> Al menos 27 iteraciones    </td> </tr> </table><br><br><b> <span style=\"color: #ff0000;\">Respuesta al apartado 3 </span></b><br><br> <table style=\" width:100%\"> <tr> <td style=\"border:none; text-align:left\">1.<input type=checkbox> <script type=\"math/tex\">x^k=(-0.860858475034328, -1.14809606847413)</script>    </td> <td style=\"border:none; text-align:left\">2.<input type=checkbox> <script type=\"math/tex\">x^k=(-0.631852727238142, -0.753495361807341)</script>    </td> </tr> <tr> <td style=\"border:none; text-align:left\">3.<input type=checkbox> <script type=\"math/tex\">x^k=(-0.606324564233102, -0.922561065649438)</script>    </td> <td style=\"border:none; text-align:left\">4.<input type=checkbox> Ninguna de las otras respuestas.    </td> </tr> </table><br><br><hr  align=center><b> <span style=\"color: #0000ff;\">EJERCICIO 3 </span></b><br>  Queremos aplicar el método de quasi-Newton en los siguientes casos:<ol><li>Consideremos la función <script type=\"math/tex; mode=display\">f(x,y)=( x^2+2y^2-3xy) e^{2x+ y}</script> ¿Es <script type=\"math/tex\">Hf(-2,0)</script> definida positiva? en caso contrario calcula <script type=\"math/tex\">\\tau</script> descrito en el algoritmo de quasi-Newton anterior \n",
       " que hace que <script type=\"math/tex\">H+\\tau I</script> sea definida positiva</li><li>Consideremos la función <script type=\"math/tex; mode=display\">f(x,y)=3(x-5)^2(y-5)^2+2x^2y^2</script> Si aplicamos el método quasi-Newton descrito anteriormente, y partimos del punto <script type=\"math/tex\">x^0=(1,4)</script>, \n",
       " con criterio de parada <script type=\"math/tex\">||\\nabla f(x^k)||<10^{-2}</script>, ¿Cuántas iteraciones necesitamos?</li><li>Consideremos la función <script type=\"math/tex; mode=display\">f(x,y)=2(x-5)^2(y-5)^2+3x^2y^2</script> Si aplicamos el método quasi-Newton, y partimos del punto <script type=\"math/tex\">x^0=(1,4)</script>, \n",
       " con criterio de parada <script type=\"math/tex\">||\\nabla f(x^k)||<10^{-3}</script>. La primera iteración con la precisión requerida es:</li><li>Consideremos la función <script type=\"math/tex; mode=display\">f(x,y)= (x-5)^2(y-5)^2+2x^2y^2</script> Si aplicamos el método quasi-Newton descrito anteriormente, y partimos de los puntos <script type=\"math/tex\">x^0_1=(2,4)</script> y <script type=\"math/tex\">x^0_2=(1.5,4)</script>, \n",
       " con criterio de parada <script type=\"math/tex\">||\\nabla f(x_i^k)||<10^{-4}</script>, ¿Convergen dichos algoritmos?</li></ol>Marcar la respuesta correcta.<br><hr  align=center><b> <span style=\"color: #ff0000;\">Respuesta al apartado 1 </span></b><br><br> 1.<input type=checkbox> No es definida positiva, se obtiene <script type=\"math/tex\">\\tau=0.0289517879963419</script> <br> 2.<input type=checkbox> No es definida positiva, se obtiene <script type=\"math/tex\">\\tau=0.256</script> <br> 3.<input type=checkbox> No es definida positiva, se obtiene <script type=\"math/tex\">\\tau=0.0772625555549367</script> <br> 4.<input type=checkbox> No es definida positiva, se obtiene <script type=\"math/tex\">\\tau=0.0828553639890256</script><br><br><b> <span style=\"color: #ff0000;\">Respuesta al apartado 2 </span></b><br><br> <table style=\" width:100%\"> <tr> <td style=\"border:none; text-align:left\">1.<input type=checkbox> Al menos 19 iteraciones    </td> <td style=\"border:none; text-align:left\">2.<input type=checkbox> Al menos 5 iteraciones    </td> </tr> <tr> <td style=\"border:none; text-align:left\">3.<input type=checkbox> Al menos 15 iteraciones    </td> <td style=\"border:none; text-align:left\">4.<input type=checkbox> Al menos 11 iteraciones    </td> </tr> </table><br><br><b> <span style=\"color: #ff0000;\">Respuesta al apartado 3 </span></b><br><br> <table style=\" width:100%\"> <tr> <td style=\"border:none; text-align:left\">1.<input type=checkbox> <script type=\"math/tex\">x^k=(5.00000036695463, -2.38450116434312\\cdot 10^{-7})</script>    </td> <td style=\"border:none; text-align:left\">2.<input type=checkbox> <script type=\"math/tex\">x^k=(-3.82267095531594\\cdot 10^{-6}, 5.00000271216008)</script>    </td> </tr> <tr> <td style=\"border:none; text-align:left\">3.<input type=checkbox> <script type=\"math/tex\">x^k=(-3.13757489677003\\cdot 10^{-13}, 5.00000000000043)</script>    </td> <td style=\"border:none; text-align:left\">4.<input type=checkbox> <script type=\"math/tex\">x^k=(-6.55841276259010\\cdot 10^{-10}, 5.00000000146600)</script>    </td> </tr> </table><br><br><b> <span style=\"color: #ff0000;\">Respuesta al apartado 4 </span></b><br><br> <table style=\" width:100%\"> <tr> <td style=\"border:none; text-align:left\">1.<input type=checkbox> El algoritmo converge para <script type=\"math/tex\">x^0_1</script> y diverge para <script type=\"math/tex\">x^0_2</script>    </td> <td style=\"border:none; text-align:left\">2.<input type=checkbox> El algoritmo converge en ambos casos    </td> </tr> <tr> <td style=\"border:none; text-align:left\">3.<input type=checkbox> El algoritmo diverge en ambos casos    </td> <td style=\"border:none; text-align:left\">4.<input type=checkbox> El algoritmo converge para <script type=\"math/tex\">x^0_2</script> y diverge para <script type=\"math/tex\">x^0_1</script>    </td> </tr> </table><br><br><hr  align=center><center><span style=\"font-size: x-small;\"> Final del documento </span></center>"
      ],
      "text/plain": [
       "<center><h4>E.T.S.I.I. - GRADO I.I. TECNOLOGÍAS INFORMÁTICAS</h4></center><center><h4>Matemática Aplicada a Sistemas de Información - SEGUNDA PRÁCTICA DE LABORATORIO</h4></center><hr  align=center><center>APELLIDOS, NOMBRE: <INPUT value= \"\",type=text size=70> <INPUT type=submit value=1-2074FA><hr  align=center></center><hr  align=center><b> <span style=\"color: #0000ff;\">EJERCICIO 1 </span></b><br> Consideremos la función <script type=\"math/tex; mode=display\">f(x,y)=( x^2+ y^2-4xy) e^{2x+ y}</script> Queremos calcular el mínimo de dicha función:<ol><li>El conjunto de puntos críticos de <script type=\"math/tex\">f(x,y)</script> y su clasificación es:</li><li>Si aplicamos el método del gradiente, con longitud de paso dado por búsqueda lineal exacta, y partimos del punto <script type=\"math/tex\">x^0=(0,-2)</script>, \n",
       " con criterio de parada <script type=\"math/tex\">||\\nabla f(x^k)||<10^{-2}</script>. La primera iteración con la precisión requerida es:</li><li>Si aplicamos el método del gradiente, con longitud de paso dado por búsqueda lineal exacta, y partimos del punto <script type=\"math/tex\">x^0=(-2,-1)</script>, \n",
       " con criterio de parada <script type=\"math/tex\">||x^{k-1}-x^k||<10^{-3}</script>. La primera iteración con la precisión requerida es:</li></ol>Marcar la respuesta correcta.<br><hr  align=center><b> <span style=\"color: #ff0000;\">Respuesta al apartado 1 </span></b><br><br> 1.<input type=checkbox> Solo hay dos puntos críticos: <script type=\"math/tex\">(0,0)</script> punto de silla y <script type=\"math/tex\">(\\displaystyle-\\frac{10}{17},-\\frac{12}{17})</script> mínimo local \n",
       " <br> 2.<input type=checkbox> Solo hay dos puntos críticos: <script type=\"math/tex\">(0,0)</script> punto de silla y <script type=\"math/tex\">(-1,-1)</script> mínimo local <br> 3.<input type=checkbox> Solo hay dos puntos críticos: <script type=\"math/tex\">(0,0)</script> punto de silla y <script type=\"math/tex\">(\\displaystyle-\\frac{6}{7},-\\frac{8}{7})</script> mínimo local \n",
       " <br> 4.<input type=checkbox> Solo hay dos puntos críticos: <script type=\"math/tex\">(0,0)</script> punto de silla y <script type=\"math/tex\">(\\displaystyle-\\frac{8}{13},-\\frac{10}{13})</script> mínimo local \n",
       "<br><br><b> <span style=\"color: #ff0000;\">Respuesta al apartado 2 </span></b><br><br> <table style=\" width:100%\"> <tr> <td style=\"border:none; text-align:left\">1.<input type=checkbox> <script type=\"math/tex\">x^k=(-0.615425465978379, -0.769314482129034)</script>    </td> <td style=\"border:none; text-align:left\">2.<input type=checkbox> <script type=\"math/tex\">x^k=(-0.852749425729077, -1.19525290495132)</script>    </td> </tr> <tr> <td style=\"border:none; text-align:left\">3.<input type=checkbox> <script type=\"math/tex\">x^k=(-1.00028901734995, -1.00037797694319)</script>    </td> <td style=\"border:none; text-align:left\">4.<input type=checkbox> <script type=\"math/tex\">x^k=(-0.621206235365706, -0.784697316983445)</script>    </td> </tr> </table><br><br><b> <span style=\"color: #ff0000;\">Respuesta al apartado 3 </span></b><br><br> <table style=\" width:100%\"> <tr> <td style=\"border:none; text-align:left\">1.<input type=checkbox> <script type=\"math/tex\">x^k=(-1.00675383157799, -1.01015925586123)</script>    </td> <td style=\"border:none; text-align:left\">2.<input type=checkbox> <script type=\"math/tex\">x^k=(-0.829345103871711, -0.600184572946843)</script>    </td> </tr> <tr> <td style=\"border:none; text-align:left\">3.<input type=checkbox> <script type=\"math/tex\">x^k=(-0.616999217642563, -0.773504182044988)</script>    </td> <td style=\"border:none; text-align:left\">4.<input type=checkbox> <script type=\"math/tex\">x^k=(-0.615388649341635, -0.769229256543437)</script>    </td> </tr> </table><br><br><hr  align=center><b> <span style=\"color: #0000ff;\">EJERCICIO 2 </span></b><br> Consideremos la función <script type=\"math/tex; mode=display\">f(x,y)=(2x^2+ y^2-4xy) e^{ x+2y}</script> Queremos calcular el mínimo de dicha función:<ol><li>El conjunto de puntos críticos de <script type=\"math/tex\">f(x,y)</script> y su clasificación es:</li><li>Si aplicamos el método del gradiente, con longitud de paso dado por la regla de Armijo con <script type=\"math/tex\">\\epsilon=\\frac{1}{10}</script>, \n",
       " <script type=\"math/tex\">\\beta=\\frac{1}{2}</script> y <script type=\"math/tex\">s=1</script>, y partimos del punto <script type=\"math/tex\">x^0=(0,-2)</script>, con criterio de parada <script type=\"math/tex\">||\\nabla f(x^k)||<10^{-2}</script>,\n",
       " ¿Cuántas iteraciones necesitamos?</li><li>Si aplicamos el método del gradiente, con longitud de paso dado por la regla de Armijo con <script type=\"math/tex\">\\epsilon=\\frac{1}{5}</script>, \n",
       " <script type=\"math/tex\">\\beta=\\frac{1}{2}</script> y <script type=\"math/tex\">s=1</script>, y partimos del punto <script type=\"math/tex\">x^0=(0,-2)</script>, con criterio de parada <script type=\"math/tex\">||\\nabla f(x^k)||<10^{-2}</script>. \n",
       " La primera iteración con la precisión requerida es:</li></ol>Marcar la respuesta correcta.<br><hr  align=center><b> <span style=\"color: #ff0000;\">Respuesta al apartado 1 </span></b><br><br> 1.<input type=checkbox> Solo hay dos puntos críticos: <script type=\"math/tex\">(0,0)</script> punto de silla y <script type=\"math/tex\">(\\displaystyle-\\frac{10}{17},-\\frac{12}{17})</script> mínimo local \n",
       " <br> 2.<input type=checkbox> Solo hay dos puntos críticos: <script type=\"math/tex\">(0,0)</script> punto de silla y <script type=\"math/tex\">(\\displaystyle-\\frac{11}{15},-\\frac{8}{15})</script> mínimo local \n",
       " <br> 3.<input type=checkbox> Solo hay dos puntos críticos: <script type=\"math/tex\">(0,0)</script> punto de silla y <script type=\"math/tex\">(\\displaystyle-\\frac{8}{15},-\\frac{11}{15})</script> mínimo local \n",
       " <br> 4.<input type=checkbox> Solo hay dos puntos críticos: <script type=\"math/tex\">(0,0)</script> punto de silla y <script type=\"math/tex\">(\\displaystyle-\\frac{8}{13},-\\frac{10}{13})</script> mínimo local \n",
       "<br><br><b> <span style=\"color: #ff0000;\">Respuesta al apartado 2 </span></b><br><br> <table style=\" width:100%\"> <tr> <td style=\"border:none; text-align:left\">1.<input type=checkbox> Al menos 12 iteraciones    </td> <td style=\"border:none; text-align:left\">2.<input type=checkbox> Al menos 86 iteraciones    </td> </tr> <tr> <td style=\"border:none; text-align:left\">3.<input type=checkbox> Al menos 52 iteraciones    </td> <td style=\"border:none; text-align:left\">4.<input type=checkbox> Al menos 27 iteraciones    </td> </tr> </table><br><br><b> <span style=\"color: #ff0000;\">Respuesta al apartado 3 </span></b><br><br> <table style=\" width:100%\"> <tr> <td style=\"border:none; text-align:left\">1.<input type=checkbox> <script type=\"math/tex\">x^k=(-0.860858475034328, -1.14809606847413)</script>    </td> <td style=\"border:none; text-align:left\">2.<input type=checkbox> <script type=\"math/tex\">x^k=(-0.631852727238142, -0.753495361807341)</script>    </td> </tr> <tr> <td style=\"border:none; text-align:left\">3.<input type=checkbox> <script type=\"math/tex\">x^k=(-0.606324564233102, -0.922561065649438)</script>    </td> <td style=\"border:none; text-align:left\">4.<input type=checkbox> Ninguna de las otras respuestas.    </td> </tr> </table><br><br><hr  align=center><b> <span style=\"color: #0000ff;\">EJERCICIO 3 </span></b><br>  Queremos aplicar el método de quasi-Newton en los siguientes casos:<ol><li>Consideremos la función <script type=\"math/tex; mode=display\">f(x,y)=( x^2+2y^2-3xy) e^{2x+ y}</script> ¿Es <script type=\"math/tex\">Hf(-2,0)</script> definida positiva? en caso contrario calcula <script type=\"math/tex\">\\tau</script> descrito en el algoritmo de quasi-Newton anterior \n",
       " que hace que <script type=\"math/tex\">H+\\tau I</script> sea definida positiva</li><li>Consideremos la función <script type=\"math/tex; mode=display\">f(x,y)=3(x-5)^2(y-5)^2+2x^2y^2</script> Si aplicamos el método quasi-Newton descrito anteriormente, y partimos del punto <script type=\"math/tex\">x^0=(1,4)</script>, \n",
       " con criterio de parada <script type=\"math/tex\">||\\nabla f(x^k)||<10^{-2}</script>, ¿Cuántas iteraciones necesitamos?</li><li>Consideremos la función <script type=\"math/tex; mode=display\">f(x,y)=2(x-5)^2(y-5)^2+3x^2y^2</script> Si aplicamos el método quasi-Newton, y partimos del punto <script type=\"math/tex\">x^0=(1,4)</script>, \n",
       " con criterio de parada <script type=\"math/tex\">||\\nabla f(x^k)||<10^{-3}</script>. La primera iteración con la precisión requerida es:</li><li>Consideremos la función <script type=\"math/tex; mode=display\">f(x,y)= (x-5)^2(y-5)^2+2x^2y^2</script> Si aplicamos el método quasi-Newton descrito anteriormente, y partimos de los puntos <script type=\"math/tex\">x^0_1=(2,4)</script> y <script type=\"math/tex\">x^0_2=(1.5,4)</script>, \n",
       " con criterio de parada <script type=\"math/tex\">||\\nabla f(x_i^k)||<10^{-4}</script>, ¿Convergen dichos algoritmos?</li></ol>Marcar la respuesta correcta.<br><hr  align=center><b> <span style=\"color: #ff0000;\">Respuesta al apartado 1 </span></b><br><br> 1.<input type=checkbox> No es definida positiva, se obtiene <script type=\"math/tex\">\\tau=0.0289517879963419</script> <br> 2.<input type=checkbox> No es definida positiva, se obtiene <script type=\"math/tex\">\\tau=0.256</script> <br> 3.<input type=checkbox> No es definida positiva, se obtiene <script type=\"math/tex\">\\tau=0.0772625555549367</script> <br> 4.<input type=checkbox> No es definida positiva, se obtiene <script type=\"math/tex\">\\tau=0.0828553639890256</script><br><br><b> <span style=\"color: #ff0000;\">Respuesta al apartado 2 </span></b><br><br> <table style=\" width:100%\"> <tr> <td style=\"border:none; text-align:left\">1.<input type=checkbox> Al menos 19 iteraciones    </td> <td style=\"border:none; text-align:left\">2.<input type=checkbox> Al menos 5 iteraciones    </td> </tr> <tr> <td style=\"border:none; text-align:left\">3.<input type=checkbox> Al menos 15 iteraciones    </td> <td style=\"border:none; text-align:left\">4.<input type=checkbox> Al menos 11 iteraciones    </td> </tr> </table><br><br><b> <span style=\"color: #ff0000;\">Respuesta al apartado 3 </span></b><br><br> <table style=\" width:100%\"> <tr> <td style=\"border:none; text-align:left\">1.<input type=checkbox> <script type=\"math/tex\">x^k=(5.00000036695463, -2.38450116434312\\cdot 10^{-7})</script>    </td> <td style=\"border:none; text-align:left\">2.<input type=checkbox> <script type=\"math/tex\">x^k=(-3.82267095531594\\cdot 10^{-6}, 5.00000271216008)</script>    </td> </tr> <tr> <td style=\"border:none; text-align:left\">3.<input type=checkbox> <script type=\"math/tex\">x^k=(-3.13757489677003\\cdot 10^{-13}, 5.00000000000043)</script>    </td> <td style=\"border:none; text-align:left\">4.<input type=checkbox> <script type=\"math/tex\">x^k=(-6.55841276259010\\cdot 10^{-10}, 5.00000000146600)</script>    </td> </tr> </table><br><br><b> <span style=\"color: #ff0000;\">Respuesta al apartado 4 </span></b><br><br> <table style=\" width:100%\"> <tr> <td style=\"border:none; text-align:left\">1.<input type=checkbox> El algoritmo converge para <script type=\"math/tex\">x^0_1</script> y diverge para <script type=\"math/tex\">x^0_2</script>    </td> <td style=\"border:none; text-align:left\">2.<input type=checkbox> El algoritmo converge en ambos casos    </td> </tr> <tr> <td style=\"border:none; text-align:left\">3.<input type=checkbox> El algoritmo diverge en ambos casos    </td> <td style=\"border:none; text-align:left\">4.<input type=checkbox> El algoritmo converge para <script type=\"math/tex\">x^0_2</script> y diverge para <script type=\"math/tex\">x^0_1</script>    </td> </tr> </table><br><br><hr  align=center><center><span style=\"font-size: x-small;\"> Final del documento </span></center>"
      ]
     },
     "metadata": {},
     "output_type": "display_data"
    }
   ],
   "source": [
    "NUMERO_ALUMNO=1\n",
    "\n",
    "NOMBRE_FICHERO_EXAMEN = 'Ex_MASI_L2_t.htl'\n",
    "load('codigo_examinar_html.sage')\n",
    "\n",
    "if NUMERO_ALUMNO > 0:\n",
    "    lector_examenes(NOMBRE_FICHERO_EXAMEN,NUMERO_ALUMNO,False)"
   ]
  },
  {
   "cell_type": "code",
   "execution_count": null,
   "metadata": {},
   "outputs": [],
   "source": [
    "# Ejercicio 1"
   ]
  },
  {
   "cell_type": "code",
   "execution_count": 81,
   "metadata": {},
   "outputs": [],
   "source": [
    "x,y=var('x,y')"
   ]
  },
  {
   "cell_type": "code",
   "execution_count": 82,
   "metadata": {},
   "outputs": [
    {
     "data": {
      "text/html": [
       "<html><script type=\"math/tex; mode=display\">\\newcommand{\\Bold}[1]{\\mathbf{#1}}{\\left(x^{2} - 4 \\, x y + y^{2}\\right)} e^{\\left(2 \\, x + y\\right)}</script></html>"
      ],
      "text/plain": [
       "(x^2 - 4*x*y + y^2)*e^(2*x + y)"
      ]
     },
     "metadata": {},
     "output_type": "display_data"
    }
   ],
   "source": [
    "f(x,y)=(x^2+y^2-4*x*y)*e^(2*x+y)\n",
    "show(f(x,y))"
   ]
  },
  {
   "cell_type": "code",
   "execution_count": 83,
   "metadata": {},
   "outputs": [
    {
     "name": "stdout",
     "output_type": "stream",
     "text": [
      "Lista de puntos críticos:\n"
     ]
    },
    {
     "data": {
      "text/html": [
       "<html><script type=\"math/tex; mode=display\">\\newcommand{\\Bold}[1]{\\mathbf{#1}}\\left[\\left(-\\frac{8}{13}, -\\frac{10}{13}\\right), \\left(0, 0\\right)\\right]</script></html>"
      ],
      "text/plain": [
       "[(-8/13, -10/13), (0, 0)]"
      ]
     },
     "metadata": {},
     "output_type": "display_data"
    }
   ],
   "source": [
    "# 1 apartado:\n",
    "\n",
    "'''\n",
    "El conjunto de puntos críticos de  f(x,y)  y su clasificación es:\n",
    "1. Solo hay dos puntos críticos:  (0,0)  punto de silla y  (−1017,−1217)  mínimo local\n",
    "2. Solo hay dos puntos críticos:  (0,0)  punto de silla y  (−1,−1)  mínimo local\n",
    "3. Solo hay dos puntos críticos:  (0,0)  punto de silla y  (−67,−87)  mínimo local\n",
    "4. Solo hay dos puntos críticos:  (0,0)  punto de silla y  (−813,−1013)  mínimo local\n",
    "'''\n",
    "\n",
    "gradiente=f(x,y).gradient()\n",
    "\n",
    "derpar0=solve(list(gradiente),x,y)\n",
    "\n",
    "lptc=[(sol[0].rhs(),sol[1].rhs()) for sol in derpar0]\n",
    "\n",
    "puntos_criticos=[]\n",
    "for ptc in lptc:\n",
    "    if (ptc[0].n()).imag()==0 and (ptc[1].n()).imag()==0:\n",
    "        puntos_criticos.append(ptc)\n",
    "        \n",
    "print ('Lista de puntos críticos:')\n",
    "#print (puntos_criticos)\n",
    "show(puntos_criticos)"
   ]
  },
  {
   "cell_type": "code",
   "execution_count": 84,
   "metadata": {},
   "outputs": [
    {
     "data": {
      "text/plain": [
       "[(-8/13, -10/13), (0, 0)]"
      ]
     },
     "execution_count": 84,
     "metadata": {},
     "output_type": "execute_result"
    }
   ],
   "source": [
    "# Clasificación:\n",
    "gradiente\n",
    "derpar0\n",
    "lptc"
   ]
  },
  {
   "cell_type": "code",
   "execution_count": 85,
   "metadata": {},
   "outputs": [
    {
     "name": "stdout",
     "output_type": "stream",
     "text": [
      "matriz hessiana:\n"
     ]
    },
    {
     "data": {
      "text/html": [
       "<html><script type=\"math/tex; mode=display\">\\newcommand{\\Bold}[1]{\\mathbf{#1}}\\left[\\begin{array}{rr}\n",
       "\\left( x, y \\right) \\ {\\mapsto} \\ 4 \\, {\\left(x^{2} - 4 \\, x y + y^{2}\\right)} e^{\\left(2 \\, x + y\\right)} + 8 \\, {\\left(x - 2 \\, y\\right)} e^{\\left(2 \\, x + y\\right)} + 2 \\, e^{\\left(2 \\, x + y\\right)} & \\left( x, y \\right) \\ {\\mapsto} \\ 2 \\, {\\left(x^{2} - 4 \\, x y + y^{2}\\right)} e^{\\left(2 \\, x + y\\right)} - 4 \\, {\\left(2 \\, x - y\\right)} e^{\\left(2 \\, x + y\\right)} + 2 \\, {\\left(x - 2 \\, y\\right)} e^{\\left(2 \\, x + y\\right)} - 4 \\, e^{\\left(2 \\, x + y\\right)} \\\\\n",
       "\\left( x, y \\right) \\ {\\mapsto} \\ 2 \\, {\\left(x^{2} - 4 \\, x y + y^{2}\\right)} e^{\\left(2 \\, x + y\\right)} - 4 \\, {\\left(2 \\, x - y\\right)} e^{\\left(2 \\, x + y\\right)} + 2 \\, {\\left(x - 2 \\, y\\right)} e^{\\left(2 \\, x + y\\right)} - 4 \\, e^{\\left(2 \\, x + y\\right)} & \\left( x, y \\right) \\ {\\mapsto} \\ {\\left(x^{2} - 4 \\, x y + y^{2}\\right)} e^{\\left(2 \\, x + y\\right)} - 4 \\, {\\left(2 \\, x - y\\right)} e^{\\left(2 \\, x + y\\right)} + 2 \\, e^{\\left(2 \\, x + y\\right)}\n",
       "\\end{array}\\right]</script></html>"
      ],
      "text/plain": [
       "[                          (x, y) |--> 4*(x^2 - 4*x*y + y^2)*e^(2*x + y) + 8*(x - 2*y)*e^(2*x + y) + 2*e^(2*x + y) (x, y) |--> 2*(x^2 - 4*x*y + y^2)*e^(2*x + y) - 4*(2*x - y)*e^(2*x + y) + 2*(x - 2*y)*e^(2*x + y) - 4*e^(2*x + y)]\n",
       "[(x, y) |--> 2*(x^2 - 4*x*y + y^2)*e^(2*x + y) - 4*(2*x - y)*e^(2*x + y) + 2*(x - 2*y)*e^(2*x + y) - 4*e^(2*x + y)                             (x, y) |--> (x^2 - 4*x*y + y^2)*e^(2*x + y) - 4*(2*x - y)*e^(2*x + y) + 2*e^(2*x + y)]"
      ]
     },
     "metadata": {},
     "output_type": "display_data"
    }
   ],
   "source": [
    "hess=f.hessian()\n",
    "def hessiano(pto):\n",
    "    return hess(x=pto[0],y=pto[1])\n",
    "    \n",
    "print ('matriz hessiana:')    \n",
    "show(hess)"
   ]
  },
  {
   "cell_type": "code",
   "execution_count": 86,
   "metadata": {
    "scrolled": true
   },
   "outputs": [
    {
     "name": "stdout",
     "output_type": "stream",
     "text": [
      "punto critico= 1\n",
      "menor de orden  1 = 74/13*e^(-2)\n",
      "menor de orden  2 = 12*e^(-4)\n",
      "punto critico= 2\n",
      "menor de orden  1 = 2\n",
      "menor de orden  2 = -12\n"
     ]
    }
   ],
   "source": [
    "matriz_hessiana=matrix(RDF,((f.hessian()).substitute(x=puntos_criticos[0][0],y=puntos_criticos[0][1])))\n",
    "\n",
    "(matriz_hessiana).is_positive_definite()\n",
    "\n",
    "for j in range(len(puntos_criticos)):\n",
    "    print ('punto critico=', j+1)\n",
    "    for i in range((hessiano(puntos_criticos[j])).nrows()):\n",
    "        print ('menor de orden ',i+1,'=', (hessiano(puntos_criticos[j])[0:i+1,0:i+1]).det())"
   ]
  },
  {
   "cell_type": "code",
   "execution_count": 1,
   "metadata": {},
   "outputs": [],
   "source": [
    "# 2 apartado: \n",
    "\n",
    "'''\n",
    "Si aplicamos el método del gradiente, con longitud de paso dado por búsqueda lineal exacta, \n",
    "y partimos del punto  x0=(0,−2) , con criterio de parada  ||∇f(xk)||<10−2 . \n",
    "La primera iteración con la precisión requerida es:\n",
    "'''\n",
    "\n",
    "a=var('a')"
   ]
  },
  {
   "cell_type": "code",
   "execution_count": 2,
   "metadata": {},
   "outputs": [],
   "source": [
    "f(x,y)=(x^2+y^2-4*x*y)*e^(2*x+y)"
   ]
  },
  {
   "cell_type": "code",
   "execution_count": 4,
   "metadata": {},
   "outputs": [],
   "source": [
    "# Sustituir los valores:\n",
    "punto_inicio=vector([0,-2])\n",
    "gradiente0=-(f.gradient()).substitute(x=punto_inicio[0],y=punto_inicio[1])  \n",
    "phi(a)=f(punto_inicio[0]+a*gradiente0[0],punto_inicio[1]+a*gradiente0[1])"
   ]
  },
  {
   "cell_type": "code",
   "execution_count": 5,
   "metadata": {},
   "outputs": [],
   "source": [
    "soluciones=solve(phi.diff(a)==0,a)"
   ]
  },
  {
   "cell_type": "code",
   "execution_count": 6,
   "metadata": {},
   "outputs": [
    {
     "data": {
      "text/plain": [
       "0.461816006183166"
      ]
     },
     "execution_count": 6,
     "metadata": {},
     "output_type": "execute_result"
    }
   ],
   "source": [
    "soluciones[0].rhs().n()"
   ]
  },
  {
   "cell_type": "code",
   "execution_count": 92,
   "metadata": {},
   "outputs": [
    {
     "data": {
      "text/plain": [
       "0.46181600618316765"
      ]
     },
     "execution_count": 92,
     "metadata": {},
     "output_type": "execute_result"
    }
   ],
   "source": [
    "find_root(phi.diff(a)==0,0,1)"
   ]
  },
  {
   "cell_type": "code",
   "execution_count": 7,
   "metadata": {},
   "outputs": [
    {
     "data": {
      "text/plain": [
       "8192*(e^(-2) - 1.8472640247326706*e^(-4))*e^(-14.778112197861365*e^(-2) - 4) + 4096*(-14.778112197861365*e^(-2) + 13.649537508286178*e^(-4) + 1)*e^(-14.778112197861365*e^(-2) - 6) + 512*e^(-14.778112197861365*e^(-2) - 6)"
      ]
     },
     "execution_count": 7,
     "metadata": {},
     "output_type": "execute_result"
    }
   ],
   "source": [
    "phi.diff(a,2)(a=find_root(phi.diff(a)==0,0,1))"
   ]
  },
  {
   "cell_type": "code",
   "execution_count": 8,
   "metadata": {},
   "outputs": [
    {
     "data": {
      "text/plain": [
       "0.461816006183171"
      ]
     },
     "execution_count": 8,
     "metadata": {},
     "output_type": "execute_result"
    }
   ],
   "source": [
    "find_root(phi.diff(a)==0,0,0.999*0.9100101478813016)"
   ]
  },
  {
   "cell_type": "code",
   "execution_count": 9,
   "metadata": {},
   "outputs": [
    {
     "data": {
      "text/plain": [
       "8192*(e^(-2) - 1.847264024732684*e^(-4))*e^(-14.778112197861471*e^(-2) - 4) + 4096*(-14.778112197861471*e^(-2) + 13.649537508286375*e^(-4) + 1)*e^(-14.778112197861471*e^(-2) - 6) + 512*e^(-14.778112197861471*e^(-2) - 6)"
      ]
     },
     "execution_count": 9,
     "metadata": {},
     "output_type": "execute_result"
    }
   ],
   "source": [
    "phi.diff(a,2)(a=find_root(phi.diff(a)==0,0,0.999*0.9100101478813016))"
   ]
  },
  {
   "cell_type": "code",
   "execution_count": 10,
   "metadata": {},
   "outputs": [
    {
     "name": "stdout",
     "output_type": "stream",
     "text": [
      "iter.= 1 gradiente= -2.16536453178580 -0.000000000000000\n",
      "valor a= 0.4618160061831661\n",
      "x= -1.00000000000000 y= -2.00000000000000\n",
      "iter.= 2 gradiente= 2.77555756156289e-16 0.0549469166662025\n",
      "valor a= 18.199383344381513\n",
      "x= -0.999999999999996 y= -0.999999999999996\n",
      "iter.= 3 gradiente= 0.0995741367357280 -4.99600361081320e-16\n",
      "valor a= 3.0407056255538016\n",
      "x= -0.697224362268005 y= -0.999999999999997\n",
      "iter.= 4 gradiente= 1.94289029309402e-16 0.0468774863862457\n",
      "valor a= 3.700471927618906\n",
      "x= -0.697224362268004 y= -0.826531177590357\n",
      "iter.= 5 gradiente= 0.0390603553722741 9.15933995315754e-16\n",
      "valor a= 1.5504083725261992\n",
      "x= -0.636664860264982 y= -0.826531177590356\n",
      "iter.= 6 gradiente= -2.22044604925031e-16 0.0150397913963719\n",
      "valor a= 2.7815452691054263\n",
      "x= -0.636664860264982 y= -0.784697316983445\n",
      "iter.= 7 gradiente= 0.0113747534480213 1.52655665885959e-16\n",
      "valor a= 1.3590294479709564\n",
      "x= -0.621206235365712 y= -0.784697316983445\n"
     ]
    }
   ],
   "source": [
    "'''\n",
    "Si aplicamos el método del gradiente, con longitud de paso dado por búsqueda lineal exacta, \n",
    "y partimos del punto  x0=(0,−2) , con criterio de parada  ||∇f(xk)||<10−2 . \n",
    "La primera iteración con la precisión requerida es:\n",
    "\n",
    "1.  xk=(−0.615425465978379,−0.769314482129034) \t2.  xk=(−0.852749425729077,−1.19525290495132) \n",
    "3.  xk=(−1.00028901734995,−1.00037797694319) \t4.  xk=(−0.621206235365706,−0.784697316983445)\n",
    "'''\n",
    "\n",
    "#Modificar los valores: PONER EL PUNTO DETRAS DEL VALOR DEL INTERVALO!\n",
    "punto_inicio=vector([0,-2.])\n",
    "punto_antiguo=vector([10^3,10^3]);error=10^(-2);k=1;\n",
    "gradiente0=-(f.gradient()).substitute(x=punto_inicio[0],y=punto_inicio[1])\n",
    "while (gradiente0).norm()>error:  \n",
    "    print ('iter.=',k,'gradiente=',gradiente0[0].n(),gradiente0[1].n())\n",
    "    phi(a)=f(punto_inicio[0]+a*gradiente0[0],punto_inicio[1]+a*gradiente0[1])\n",
    "    valora=find_root(phi.diff(a)==0,0,5/(gradiente0).norm())\n",
    "    while phi.diff(a,2)(a=valora)<0:\n",
    "        valora=find_root(phi.diff(a)==0,0,0.999*valora)\n",
    "        print ('entra','k=',k)\n",
    "    print ('valor a=',valora)\n",
    "    punto_antiguo=punto_inicio\n",
    "    punto_inicio=punto_inicio+valora*gradiente0\n",
    "    gradiente0=-(f.gradient()).substitute(x=punto_inicio[0],y=punto_inicio[1])\n",
    "    print ('x=',punto_inicio[0].n(),'y=',punto_inicio[1].n())\n",
    "    k=k+1"
   ]
  },
  {
   "cell_type": "code",
   "execution_count": null,
   "metadata": {},
   "outputs": [],
   "source": [
    "'''\n",
    "1.  xk=(−0.615425465978379,−0.769314482129034) \t2.  xk=(−0.852749425729077,−1.19525290495132) \n",
    "3.  xk=(−1.00028901734995,−1.00037797694319) \t4.  xk=(−0.621206235365706,−0.784697316983445) THIS\n",
    "'''"
   ]
  },
  {
   "cell_type": "code",
   "execution_count": 12,
   "metadata": {},
   "outputs": [
    {
     "name": "stdout",
     "output_type": "stream",
     "text": [
      "iter.= 1 gradiente= 0.0404276819945128 -0.0202138409972564\n",
      "valor a= 26.02342463626785\n",
      "x= -0.947933264396793 y= -1.52603336780160\n",
      "iter.= 2 gradiente= 0.0297002142572876 0.0594004285145752\n",
      "entra k= 2\n",
      "valor a= 12.429523084698376\n",
      "x= -0.578773765665350 y= -0.787714370338715\n",
      "iter.= 3 gradiente= -0.0367364713226853 0.0183682356613427\n",
      "entra k= 3\n",
      "valor a= 0.9986248308090756\n",
      "x= -0.615459718124489 y= -0.769371394109145\n"
     ]
    }
   ],
   "source": [
    "# Apartado 3:\n",
    "\n",
    "'''\n",
    "Si aplicamos el método del gradiente, con longitud de paso dado por búsqueda lineal exacta, \n",
    "y partimos del punto  x0=(−2,−1) , con criterio de parada  ||xk−1−xk||<10−3 . \n",
    "La primera iteración con la precisión requerida es:\n",
    "\n",
    "1.  xk=(−1.00675383157799,−1.01015925586123) \t2.  xk=(−0.829345103871711,−0.600184572946843) \n",
    "3.  xk=(−0.616999217642563,−0.773504182044988) \t4.  xk=(−0.615388649341635,−0.769229256543437)\n",
    "'''\n",
    "\n",
    "#Modificar los valores: PONER EL PUNTO DETRAS DEL VALOR DEL INTERVALO!\n",
    "punto_inicio=vector([-2.,-1.])\n",
    "punto_antiguo=vector([10^3,10^3]);error=10^(-3);k=1;\n",
    "gradiente0=-(f.gradient()).substitute(x=punto_inicio[0],y=punto_inicio[1])\n",
    "while (gradiente0).norm()>error:  \n",
    "    print ('iter.=',k,'gradiente=',gradiente0[0].n(),gradiente0[1].n())\n",
    "    phi(a)=f(punto_inicio[0]+a*gradiente0[0],punto_inicio[1]+a*gradiente0[1])\n",
    "    valora=find_root(phi.diff(a)==0,0,5/(gradiente0).norm())\n",
    "    while phi.diff(a,2)(a=valora)<0:\n",
    "        valora=find_root(phi.diff(a)==0,0,0.999*valora)\n",
    "        print ('entra','k=',k)\n",
    "    print ('valor a=',valora)\n",
    "    punto_antiguo=punto_inicio\n",
    "    punto_inicio=punto_inicio+valora*gradiente0\n",
    "    gradiente0=-(f.gradient()).substitute(x=punto_inicio[0],y=punto_inicio[1])\n",
    "    print ('x=',punto_inicio[0].n(),'y=',punto_inicio[1].n())\n",
    "    k=k+1"
   ]
  },
  {
   "cell_type": "code",
   "execution_count": null,
   "metadata": {},
   "outputs": [],
   "source": [
    "'''\n",
    "1.  xk=(−1.00675383157799,−1.01015925586123) \t2.  xk=(−0.829345103871711,−0.600184572946843) \n",
    "3.  xk=(−0.616999217642563,−0.773504182044988) \t4.  xk=(−0.615388649341635,−0.769229256543437) THIS\n",
    "'''"
   ]
  },
  {
   "cell_type": "code",
   "execution_count": null,
   "metadata": {},
   "outputs": [],
   "source": []
  },
  {
   "cell_type": "code",
   "execution_count": null,
   "metadata": {},
   "outputs": [],
   "source": [
    "# Ejercicio 2"
   ]
  },
  {
   "cell_type": "code",
   "execution_count": null,
   "metadata": {},
   "outputs": [],
   "source": [
    "x,y=var('x,y')"
   ]
  },
  {
   "cell_type": "code",
   "execution_count": 13,
   "metadata": {},
   "outputs": [
    {
     "data": {
      "text/html": [
       "<html><script type=\"math/tex; mode=display\">\\newcommand{\\Bold}[1]{\\mathbf{#1}}{\\left(2 \\, x^{2} - 4 \\, x y + y^{2}\\right)} e^{\\left(x + 2 \\, y\\right)}</script></html>"
      ],
      "text/plain": [
       "(2*x^2 - 4*x*y + y^2)*e^(x + 2*y)"
      ]
     },
     "metadata": {},
     "output_type": "display_data"
    }
   ],
   "source": [
    "f(x,y) = (2*x^2+y^2-4*x*y)*e^(x+2*y)\n",
    "show(f(x,y))"
   ]
  },
  {
   "cell_type": "code",
   "execution_count": 14,
   "metadata": {},
   "outputs": [
    {
     "name": "stdout",
     "output_type": "stream",
     "text": [
      "Lista de puntos críticos:\n"
     ]
    },
    {
     "data": {
      "text/html": [
       "<html><script type=\"math/tex; mode=display\">\\newcommand{\\Bold}[1]{\\mathbf{#1}}\\left[\\left(-\\frac{10}{17}, -\\frac{12}{17}\\right), \\left(0, 0\\right)\\right]</script></html>"
      ],
      "text/plain": [
       "[(-10/17, -12/17), (0, 0)]"
      ]
     },
     "metadata": {},
     "output_type": "display_data"
    }
   ],
   "source": [
    "# Apartado 1:\n",
    "\n",
    "'''\n",
    "El conjunto de puntos críticos de  f(x,y)  y su clasificación es:\n",
    "\n",
    "1. Solo hay dos puntos críticos:  (0,0)  punto de silla y  (−1017,−1217)  mínimo local THIS\n",
    "2. Solo hay dos puntos críticos:  (0,0)  punto de silla y  (−1115,−815)  mínimo local\n",
    "3. Solo hay dos puntos críticos:  (0,0)  punto de silla y  (−815,−1115)  mínimo local\n",
    "4. Solo hay dos puntos críticos:  (0,0)  punto de silla y  (−813,−1013)  mínimo local\n",
    "'''\n",
    "\n",
    "gradiente=f(x,y).gradient()\n",
    "\n",
    "derpar0=solve(list(gradiente),x,y)\n",
    "\n",
    "lptc=[(sol[0].rhs(),sol[1].rhs()) for sol in derpar0]\n",
    "\n",
    "puntos_criticos=[]\n",
    "for ptc in lptc:\n",
    "    if (ptc[0].n()).imag()==0 and (ptc[1].n()).imag()==0:\n",
    "        puntos_criticos.append(ptc)\n",
    "        \n",
    "print ('Lista de puntos críticos:')\n",
    "#print (puntos_criticos)\n",
    "show(puntos_criticos)"
   ]
  },
  {
   "cell_type": "code",
   "execution_count": 16,
   "metadata": {},
   "outputs": [
    {
     "name": "stdout",
     "output_type": "stream",
     "text": [
      "iter.= 1 x= -0.219787666664810 y= -2.07326255555494\n",
      "error= (x, y) |--> 0.231676542758221\n",
      "iter.= 2 x= -0.346592437959318 y= -2.09710004377436\n",
      "error= (x, y) |--> 0.129025872861467\n",
      "iter.= 3 x= -0.439726848005909 y= -2.10407086890366\n",
      "error= (x, y) |--> 0.0933949181578409\n",
      "iter.= 4 x= -0.514182309684988 y= -2.10193121991575\n",
      "error= (x, y) |--> 0.0744861992025126\n",
      "iter.= 5 x= -0.576485364217271 y= -2.09389563857735\n",
      "error= (x, y) |--> 0.0628191146984635\n",
      "iter.= 6 x= -0.630135768093857 y= -2.08160943211405\n",
      "error= (x, y) |--> 0.0550392287861989\n",
      "iter.= 7 x= -0.677244997504481 y= -2.06601969930476\n",
      "error= (x, y) |--> 0.0496217620074874\n",
      "iter.= 8 x= -0.719188013322126 y= -2.04771340809793\n",
      "error= (x, y) |--> 0.0457639254613127\n",
      "iter.= 9 x= -0.756908668486991 y= -2.02707244726298\n",
      "error= (x, y) |--> 0.0429988033584257\n",
      "iter.= 10 x= -0.791079518153716 y= -2.00435334409032\n",
      "error= (x, y) |--> 0.0410341883789135\n",
      "iter.= 11 x= -0.822192388762236 y= -1.97973192169213\n",
      "error= (x, y) |--> 0.0396765063786173\n",
      "iter.= 12 x= -0.850612880467497 y= -1.95333013435157\n",
      "error= (x, y) |--> 0.0387914774601947\n",
      "iter.= 13 x= -0.876614708243787 y= -1.92523324784513\n",
      "error= (x, y) |--> 0.0382822423463407\n",
      "iter.= 14 x= -0.900402113819621 y= -1.89550156303721\n",
      "error= (x, y) |--> 0.0380764198099914\n",
      "iter.= 15 x= -0.922124881110810 y= -1.86417899851811\n",
      "error= (x, y) |--> 0.0381179966267939\n",
      "iter.= 16 x= -0.941888585204895 y= -1.83129989608096\n",
      "error= (x, y) |--> 0.0383619521999454\n",
      "iter.= 17 x= -0.959761676018442 y= -1.79689490495181\n",
      "error= (x, y) |--> 0.0387704886457024\n",
      "iter.= 18 x= -0.975780421469168 y= -1.76099651444077\n",
      "error= (x, y) |--> 0.0393102359074279\n",
      "iter.= 19 x= -0.989952407983937 y= -1.72364462916606\n",
      "error= (x, y) |--> 0.0399500755362245\n",
      "iter.= 20 x= -1.00225911575360 y= -1.68489245424615\n",
      "error= (x, y) |--> 0.0406593915000165\n",
      "iter.= 21 x= -1.01265799885034 y= -1.64481283906343\n",
      "error= (x, y) |--> 0.0414066700285583\n",
      "iter.= 22 x= -1.02108447721950 y= -1.60350508494331\n",
      "error= (x, y) |--> 0.0421584640155995\n",
      "iter.= 23 x= -1.02745427115590 y= -1.56110202536418\n",
      "error= (x, y) |--> 0.0428788262020218\n",
      "iter.= 24 x= -1.03166656448149 y= -1.51777691285987\n",
      "error= (x, y) |--> 0.0435294014267617\n",
      "iter.= 25 x= -1.03360855092314 y= -1.47374928379760\n",
      "error= (x, y) |--> 0.0440704371680711\n",
      "iter.= 26 x= -1.03316196758216 y= -1.42928854157035\n",
      "error= (x, y) |--> 0.0444629850108844\n",
      "iter.= 27 x= -1.03021219907638 y= -1.38471358068033\n",
      "error= (x, y) |--> 0.0446724554125273\n",
      "iter.= 28 x= -1.02466037304006 y= -1.34038653793126\n",
      "error= (x, y) |--> 0.0446733644492509\n",
      "iter.= 29 x= -1.01643847633235 y= -1.29669896881996\n",
      "error= (x, y) |--> 0.0444545079865535\n",
      "iter.= 30 x= -1.00552683425824 y= -1.25404971487970\n",
      "error= (x, y) |--> 0.0440229802990983\n",
      "iter.= 31 x= -0.991972324292617 y= -1.21281563560617\n",
      "error= (x, y) |--> 0.0434047697142111\n",
      "iter.= 32 x= -0.975904609475848 y= -1.17331902242800\n",
      "error= (x, y) |--> 0.0426398160406375\n",
      "iter.= 33 x= -0.957546844372760 y= -1.13579807246754\n",
      "error= (x, y) |--> 0.0417711530307109\n",
      "iter.= 34 x= -0.937217233094632 y= -1.10038793538489\n",
      "error= (x, y) |--> 0.0408310041871595\n",
      "iter.= 35 x= -0.915318916743791 y= -1.06711833102342\n",
      "error= (x, y) |--> 0.0398296727750857\n",
      "iter.= 36 x= -0.892317939971313 y= -1.03592942815853\n",
      "error= (x, y) |--> 0.0387529688463158\n",
      "iter.= 37 x= -0.868711905037552 y= -1.00670206347723\n",
      "error= (x, y) |--> 0.0375697182782562\n",
      "iter.= 38 x= -0.844994358670135 y= -0.979293973442354\n",
      "error= (x, y) |--> 0.0362453501162640\n",
      "iter.= 39 x= -0.821621033982267 y= -0.953572510245908\n",
      "error= (x, y) |--> 0.0347549417483418\n",
      "iter.= 40 x= -0.798983400162077 y= -0.929436576204335\n",
      "error= (x, y) |--> 0.0330908715061448\n",
      "iter.= 41 x= -0.777392868651275 y= -0.906824814419560\n",
      "error= (x, y) |--> 0.0312640819780510\n",
      "iter.= 42 x= -0.757076261590665 y= -0.885711431050940\n",
      "error= (x, y) |--> 0.0293008443517513\n",
      "iter.= 43 x= -0.738180680184742 y= -0.866093915000813\n",
      "error= (x, y) |--> 0.0272376565189604\n",
      "iter.= 44 x= -0.720784422241706 y= -0.847977840732362\n",
      "error= (x, y) |--> 0.0251161688424141\n",
      "iter.= 45 x= -0.704910365067671 y= -0.831363167817015\n",
      "error= (x, y) |--> 0.0229789696733455\n",
      "iter.= 46 x= -0.690539032901047 y= -0.816234707298975\n",
      "error= (x, y) |--> 0.0208663726097600\n",
      "iter.= 47 x= -0.677619839520303 y= -0.802557526444187\n",
      "error= (x, y) |--> 0.0188141126217434\n",
      "iter.= 48 x= -0.666080134150073 y= -0.790276636012417\n",
      "error= (x, y) |--> 0.0168518565691984\n",
      "iter.= 49 x= -0.655832337243731 y= -0.779319610064259\n",
      "error= (x, y) |--> 0.0150024584339454\n",
      "iter.= 50 x= -0.646779628828342 y= -0.769600734671384\n",
      "error= (x, y) |--> 0.0132818699194156\n",
      "iter.= 51 x= -0.638820551262794 y= -0.761025589139183\n",
      "error= (x, y) |--> 0.0116995742056212\n",
      "iter.= 52 x= -0.631852727238142 y= -0.753495361807341\n",
      "error= (x, y) |--> 0.0102593808442680\n"
     ]
    }
   ],
   "source": [
    "# Apartado 2:\n",
    "\n",
    "'''\n",
    "Si aplicamos el método del gradiente, con longitud de paso dado por la regla de Armijo con  ϵ=110 , \n",
    "β=12  y  s=1 , y partimos del punto  x0=(0,−2) , con criterio de parada  ||∇f(xk)||<10−2 , \n",
    "¿Cuántas iteraciones necesitamos?\n",
    "\n",
    "1. Al menos 12 iteraciones\t2. Al menos 86 iteraciones\n",
    "3. Al menos 52 iteraciones\t4. Al menos 27 iteraciones\n",
    "'''\n",
    "\n",
    "# Modificar los valores: PONER EL PUNTO DETRAS DEL VALOR DEL INTERVALO!\n",
    "punto_inicio=vector([0,-2.])\n",
    "punto_antiguo=vector([10^3,10^3]);error=10^(-2)\n",
    "epsilon=1/10;beta=1/2;s=1;m=0;k=1\n",
    "gradiente0=-(f.gradient()).substitute(x=punto_inicio[0],y=punto_inicio[1])\n",
    "while (gradiente0).norm()>error:\n",
    "    phi(a)=f(punto_inicio[0]+a*gradiente0[0],punto_inicio[1]+a*gradiente0[1])\n",
    "    alpha=beta^m*s \n",
    "    if phi(alpha)<phi(0)+epsilon*alpha*((phi.diff(a))(a=0)):\n",
    "        punto_antiguo=punto_inicio\n",
    "        punto_inicio=punto_inicio+alpha*gradiente0\n",
    "        print ('iter.=',k,'x=',punto_inicio[0].n(),'y=',punto_inicio[1].n())\n",
    "        print ('error=',(punto_inicio-punto_antiguo).norm())\n",
    "        m=0\n",
    "        k=k+1\n",
    "    else:\n",
    "        m=m+1\n",
    "    gradiente0=-(f.gradient()).substitute(x=punto_inicio[0],y=punto_inicio[1])"
   ]
  },
  {
   "cell_type": "code",
   "execution_count": null,
   "metadata": {},
   "outputs": [],
   "source": [
    "'''\n",
    "1. Al menos 12 iteraciones\t2. Al menos 86 iteraciones\n",
    "3. Al menos 52 iteraciones THIS \t4. Al menos 27 iteraciones\n",
    "'''"
   ]
  },
  {
   "cell_type": "code",
   "execution_count": 17,
   "metadata": {},
   "outputs": [
    {
     "name": "stdout",
     "output_type": "stream",
     "text": [
      "iter.= 1 x= -0.219787666664810 y= -2.07326255555494\n",
      "error= (x, y) |--> 0.231676542758221\n",
      "iter.= 2 x= -0.346592437959318 y= -2.09710004377436\n",
      "error= (x, y) |--> 0.129025872861467\n",
      "iter.= 3 x= -0.439726848005909 y= -2.10407086890366\n",
      "error= (x, y) |--> 0.0933949181578409\n",
      "iter.= 4 x= -0.514182309684988 y= -2.10193121991575\n",
      "error= (x, y) |--> 0.0744861992025126\n",
      "iter.= 5 x= -0.576485364217271 y= -2.09389563857735\n",
      "error= (x, y) |--> 0.0628191146984635\n",
      "iter.= 6 x= -0.630135768093857 y= -2.08160943211405\n",
      "error= (x, y) |--> 0.0550392287861989\n",
      "iter.= 7 x= -0.677244997504481 y= -2.06601969930476\n",
      "error= (x, y) |--> 0.0496217620074874\n",
      "iter.= 8 x= -0.719188013322126 y= -2.04771340809793\n",
      "error= (x, y) |--> 0.0457639254613127\n",
      "iter.= 9 x= -0.756908668486991 y= -2.02707244726298\n",
      "error= (x, y) |--> 0.0429988033584257\n",
      "iter.= 10 x= -0.791079518153716 y= -2.00435334409032\n",
      "error= (x, y) |--> 0.0410341883789135\n",
      "iter.= 11 x= -0.822192388762236 y= -1.97973192169213\n",
      "error= (x, y) |--> 0.0396765063786173\n",
      "iter.= 12 x= -0.850612880467497 y= -1.95333013435157\n",
      "error= (x, y) |--> 0.0387914774601947\n",
      "iter.= 13 x= -0.876614708243787 y= -1.92523324784513\n",
      "error= (x, y) |--> 0.0382822423463407\n",
      "iter.= 14 x= -0.900402113819621 y= -1.89550156303721\n",
      "error= (x, y) |--> 0.0380764198099914\n",
      "iter.= 15 x= -0.922124881110810 y= -1.86417899851811\n",
      "error= (x, y) |--> 0.0381179966267939\n",
      "iter.= 16 x= -0.941888585204895 y= -1.83129989608096\n",
      "error= (x, y) |--> 0.0383619521999454\n",
      "iter.= 17 x= -0.959761676018442 y= -1.79689490495181\n",
      "error= (x, y) |--> 0.0387704886457024\n",
      "iter.= 18 x= -0.975780421469168 y= -1.76099651444077\n",
      "error= (x, y) |--> 0.0393102359074279\n",
      "iter.= 19 x= -0.989952407983937 y= -1.72364462916606\n",
      "error= (x, y) |--> 0.0399500755362245\n",
      "iter.= 20 x= -1.00225911575360 y= -1.68489245424615\n",
      "error= (x, y) |--> 0.0406593915000165\n",
      "iter.= 21 x= -1.01265799885034 y= -1.64481283906343\n",
      "error= (x, y) |--> 0.0414066700285583\n",
      "iter.= 22 x= -1.02108447721950 y= -1.60350508494331\n",
      "error= (x, y) |--> 0.0421584640155995\n",
      "iter.= 23 x= -1.02745427115590 y= -1.56110202536418\n",
      "error= (x, y) |--> 0.0428788262020218\n",
      "iter.= 24 x= -1.03166656448149 y= -1.51777691285987\n",
      "error= (x, y) |--> 0.0435294014267617\n",
      "iter.= 25 x= -1.03360855092314 y= -1.47374928379760\n",
      "error= (x, y) |--> 0.0440704371680711\n",
      "iter.= 26 x= -1.03316196758216 y= -1.42928854157035\n",
      "error= (x, y) |--> 0.0444629850108844\n",
      "iter.= 27 x= -1.03021219907638 y= -1.38471358068033\n",
      "error= (x, y) |--> 0.0446724554125273\n",
      "iter.= 28 x= -1.02466037304006 y= -1.34038653793126\n",
      "error= (x, y) |--> 0.0446733644492509\n",
      "iter.= 29 x= -1.01643847633235 y= -1.29669896881996\n",
      "error= (x, y) |--> 0.0444545079865535\n",
      "iter.= 30 x= -1.00552683425824 y= -1.25404971487970\n",
      "error= (x, y) |--> 0.0440229802990983\n",
      "iter.= 31 x= -0.991972324292617 y= -1.21281563560617\n",
      "error= (x, y) |--> 0.0434047697142111\n",
      "iter.= 32 x= -0.975904609475848 y= -1.17331902242800\n",
      "error= (x, y) |--> 0.0426398160406375\n",
      "iter.= 33 x= -0.957546844372760 y= -1.13579807246754\n",
      "error= (x, y) |--> 0.0417711530307109\n",
      "iter.= 34 x= -0.937217233094632 y= -1.10038793538489\n",
      "error= (x, y) |--> 0.0408310041871595\n",
      "iter.= 35 x= -0.915318916743791 y= -1.06711833102342\n",
      "error= (x, y) |--> 0.0398296727750857\n",
      "iter.= 36 x= -0.892317939971313 y= -1.03592942815853\n",
      "error= (x, y) |--> 0.0387529688463158\n",
      "iter.= 37 x= -0.868711905037552 y= -1.00670206347723\n",
      "error= (x, y) |--> 0.0375697182782562\n",
      "iter.= 38 x= -0.844994358670135 y= -0.979293973442354\n",
      "error= (x, y) |--> 0.0362453501162640\n",
      "iter.= 39 x= -0.821621033982267 y= -0.953572510245908\n",
      "error= (x, y) |--> 0.0347549417483418\n",
      "iter.= 40 x= -0.798983400162077 y= -0.929436576204335\n",
      "error= (x, y) |--> 0.0330908715061448\n",
      "iter.= 41 x= -0.777392868651275 y= -0.906824814419560\n",
      "error= (x, y) |--> 0.0312640819780510\n",
      "iter.= 42 x= -0.757076261590665 y= -0.885711431050940\n",
      "error= (x, y) |--> 0.0293008443517513\n",
      "iter.= 43 x= -0.738180680184742 y= -0.866093915000813\n",
      "error= (x, y) |--> 0.0272376565189604\n",
      "iter.= 44 x= -0.720784422241706 y= -0.847977840732362\n",
      "error= (x, y) |--> 0.0251161688424141\n",
      "iter.= 45 x= -0.704910365067671 y= -0.831363167817015\n",
      "error= (x, y) |--> 0.0229789696733455\n",
      "iter.= 46 x= -0.690539032901047 y= -0.816234707298975\n",
      "error= (x, y) |--> 0.0208663726097600\n",
      "iter.= 47 x= -0.677619839520303 y= -0.802557526444187\n",
      "error= (x, y) |--> 0.0188141126217434\n",
      "iter.= 48 x= -0.666080134150073 y= -0.790276636012417\n",
      "error= (x, y) |--> 0.0168518565691984\n",
      "iter.= 49 x= -0.655832337243731 y= -0.779319610064259\n",
      "error= (x, y) |--> 0.0150024584339454\n",
      "iter.= 50 x= -0.646779628828342 y= -0.769600734671384\n",
      "error= (x, y) |--> 0.0132818699194156\n",
      "iter.= 51 x= -0.638820551262794 y= -0.761025589139183\n",
      "error= (x, y) |--> 0.0116995742056212\n",
      "iter.= 52 x= -0.631852727238142 y= -0.753495361807341\n",
      "error= (x, y) |--> 0.0102593808442680\n"
     ]
    }
   ],
   "source": [
    "# Apartado 3:\n",
    "\n",
    "'''\n",
    "Si aplicamos el método del gradiente, con longitud de paso dado por la regla de Armijo con  \n",
    "ϵ=15 ,  β=12  y  s=1 , y partimos del punto  x0=(0,−2) , con criterio de parada  ||∇f(xk)||<10−2 . \n",
    "La primera iteración con la precisión requerida es:\n",
    "\n",
    "1.  xk=(−0.860858475034328,−1.14809606847413) \t2.  xk=(−0.631852727238142,−0.753495361807341) \n",
    "3.  xk=(−0.606324564233102,−0.922561065649438) \t4. Ninguna de las otras respuestas\n",
    "'''\n",
    "\n",
    "# Modificar los valores: PONER EL PUNTO DETRAS DEL VALOR DEL INTERVALO!\n",
    "punto_inicio=vector([0,-2.])\n",
    "punto_antiguo=vector([10^3,10^3]);error=10^(-2)\n",
    "epsilon=1/5;beta=1/2;s=1;m=0;k=1\n",
    "gradiente0=-(f.gradient()).substitute(x=punto_inicio[0],y=punto_inicio[1])\n",
    "while (gradiente0).norm()>error:\n",
    "    phi(a)=f(punto_inicio[0]+a*gradiente0[0],punto_inicio[1]+a*gradiente0[1])\n",
    "    alpha=beta^m*s \n",
    "    if phi(alpha)<phi(0)+epsilon*alpha*((phi.diff(a))(a=0)):\n",
    "        punto_antiguo=punto_inicio\n",
    "        punto_inicio=punto_inicio+alpha*gradiente0\n",
    "        print ('iter.=',k,'x=',punto_inicio[0].n(),'y=',punto_inicio[1].n())\n",
    "        print ('error=',(punto_inicio-punto_antiguo).norm())\n",
    "        m=0\n",
    "        k=k+1\n",
    "    else:\n",
    "        m=m+1\n",
    "    gradiente0=-(f.gradient()).substitute(x=punto_inicio[0],y=punto_inicio[1])"
   ]
  },
  {
   "cell_type": "code",
   "execution_count": null,
   "metadata": {},
   "outputs": [],
   "source": [
    "'''\n",
    "1.  xk=(−0.860858475034328,−1.14809606847413) \t2.  xk=(−0.631852727238142,−0.753495361807341)  THIS\n",
    "3.  xk=(−0.606324564233102,−0.922561065649438) \t4. Ninguna de las otras respuestas\n",
    "'''"
   ]
  },
  {
   "cell_type": "code",
   "execution_count": null,
   "metadata": {},
   "outputs": [],
   "source": []
  },
  {
   "cell_type": "code",
   "execution_count": null,
   "metadata": {},
   "outputs": [],
   "source": [
    "# Ejercicio 3"
   ]
  },
  {
   "cell_type": "code",
   "execution_count": 18,
   "metadata": {},
   "outputs": [],
   "source": [
    "x,y=var('x,y')"
   ]
  },
  {
   "cell_type": "code",
   "execution_count": 19,
   "metadata": {},
   "outputs": [
    {
     "data": {
      "text/html": [
       "<html><script type=\"math/tex; mode=display\">\\newcommand{\\Bold}[1]{\\mathbf{#1}}{\\left(x^{2} - 3 \\, x y + 2 \\, y^{2}\\right)} e^{\\left(2 \\, x + y\\right)}</script></html>"
      ],
      "text/plain": [
       "(x^2 - 3*x*y + 2*y^2)*e^(2*x + y)"
      ]
     },
     "metadata": {},
     "output_type": "display_data"
    }
   ],
   "source": [
    "f(x,y) = (x^2+2*y^2-3*x*y)*e^(2*x+y)\n",
    "show(f(x,y))"
   ]
  },
  {
   "cell_type": "code",
   "execution_count": 33,
   "metadata": {},
   "outputs": [
    {
     "data": {
      "text/plain": [
       "False"
      ]
     },
     "execution_count": 33,
     "metadata": {},
     "output_type": "execute_result"
    }
   ],
   "source": [
    "# Apartado 1:\n",
    "\n",
    "'''\n",
    "¿Es  Hf(−2,0)  definida positiva? en caso contrario calcula  τ  descrito en el algoritmo de quasi-Newton \n",
    "anterior que hace que  H+τI  sea definida positiva\n",
    "\n",
    "1. No es definida positiva, se obtiene  τ=0.0289517879963419 \n",
    "2. No es definida positiva, se obtiene  τ=0.256 \n",
    "3. No es definida positiva, se obtiene  τ=0.0772625555549367 \n",
    "4. No es definida positiva, se obtiene  τ=0.0828553639890256 \n",
    "'''\n",
    "\n",
    "# Modificar el punto:\n",
    "punto_inicio=vector([-2.,0.]);lista1=[punto_inicio]\n",
    "gradiente0=-(f.gradient()).substitute(x=punto_inicio[0],y=punto_inicio[1])\n",
    "gradiente0.norm()\n",
    "hessiano0=matrix(RDF,(f.hessian()).substitute(x=punto_inicio[0],y=punto_inicio[1]))\n",
    "hessiano0.is_positive_definite()"
   ]
  },
  {
   "cell_type": "code",
   "execution_count": 34,
   "metadata": {},
   "outputs": [
    {
     "data": {
      "text/plain": [
       "[0.03663127777746833, 0.3663127777746836]"
      ]
     },
     "execution_count": 34,
     "metadata": {},
     "output_type": "execute_result"
    }
   ],
   "source": [
    "hessiano0.diagonal()"
   ]
  },
  {
   "cell_type": "code",
   "execution_count": 35,
   "metadata": {},
   "outputs": [],
   "source": [
    "beta=10^(-3);t=0"
   ]
  },
  {
   "cell_type": "code",
   "execution_count": 36,
   "metadata": {},
   "outputs": [
    {
     "data": {
      "text/html": [
       "<html><script type=\"math/tex; mode=display\">\\newcommand{\\Bold}[1]{\\mathbf{#1}}\\frac{32}{125}</script></html>"
      ],
      "text/plain": [
       "32/125"
      ]
     },
     "metadata": {},
     "output_type": "display_data"
    }
   ],
   "source": [
    "hessiano0temp=copy(hessiano0)\n",
    "while hessiano0temp.is_positive_definite()==False:\n",
    "    hessiano0temp=hessiano0+t*identity_matrix(2)\n",
    "    t=max(2*t,beta)\n",
    "hessiano0=hessiano0temp\n",
    "show(t)"
   ]
  },
  {
   "cell_type": "code",
   "execution_count": 37,
   "metadata": {},
   "outputs": [
    {
     "data": {
      "text/plain": [
       "True"
      ]
     },
     "execution_count": 37,
     "metadata": {},
     "output_type": "execute_result"
    }
   ],
   "source": [
    "# Comprobar si ya es positivo:\n",
    "hessiano0.is_positive_definite()"
   ]
  },
  {
   "cell_type": "code",
   "execution_count": null,
   "metadata": {},
   "outputs": [],
   "source": [
    "'''\n",
    "1. No es definida positiva, se obtiene  τ=0.0289517879963419 \n",
    "2. No es definida positiva, se obtiene  τ=0.256 THIS que es 32/125\n",
    "3. No es definida positiva, se obtiene  τ=0.0772625555549367 \n",
    "4. No es definida positiva, se obtiene  τ=0.0828553639890256 \n",
    "'''"
   ]
  },
  {
   "cell_type": "code",
   "execution_count": 1,
   "metadata": {},
   "outputs": [],
   "source": [
    "# Apartado 2:\n",
    "\n",
    "'''\n",
    "Consideremos la función\n",
    "f(x,y)=3(x−5)2(y−5)2+2x2y2\n",
    " \n",
    "Si aplicamos el método quasi-Newton descrito anteriormente, y partimos del punto  x0=(1,4) , con criterio de parada \n",
    "||∇f(xk)||<10−2 , ¿Cuántas iteraciones necesitamos?\n",
    "\n",
    "1. Al menos 19 iteraciones\t2. Al menos 5 iteraciones\n",
    "3. Al menos 15 iteraciones\t4. Al menos 11 iteraciones\n",
    "'''\n",
    "\n",
    "x,y=var('x,y')"
   ]
  },
  {
   "cell_type": "code",
   "execution_count": 2,
   "metadata": {},
   "outputs": [
    {
     "data": {
      "text/html": [
       "<html><script type=\"math/tex; mode=display\">\\newcommand{\\Bold}[1]{\\mathbf{#1}}3 \\, {\\left(x - 5\\right)}^{2} {\\left(y - 5\\right)}^{2} + 2 \\, x^{2} y^{2}</script></html>"
      ],
      "text/plain": [
       "3*(x - 5)^2*(y - 5)^2 + 2*x^2*y^2"
      ]
     },
     "metadata": {},
     "output_type": "display_data"
    }
   ],
   "source": [
    "f(x,y) = 3*(x-5)^2 * (y-5)^2 + 2*(x^2)*y^2 \n",
    "show(f(x,y))"
   ]
  },
  {
   "cell_type": "code",
   "execution_count": 92,
   "metadata": {},
   "outputs": [
    {
     "data": {
      "text/plain": [
       "True"
      ]
     },
     "execution_count": 92,
     "metadata": {},
     "output_type": "execute_result"
    }
   ],
   "source": [
    "# Esto sobra:\n",
    "#Primera iteracion\n",
    "punto_inicio=vector([1.,4.]);lista1=[punto_inicio]\n",
    "gradiente0=-(f.gradient()).substitute(x=punto_inicio[0],y=punto_inicio[1])\n",
    "gradiente0.norm()\n",
    "hessiano0=matrix(RDF,(f.hessian()).substitute(x=punto_inicio[0],y=punto_inicio[1]))\n",
    "hessiano0.is_positive_definite()"
   ]
  },
  {
   "cell_type": "code",
   "execution_count": 77,
   "metadata": {},
   "outputs": [],
   "source": [
    "# Esto sobra:\n",
    "punto_inicio=punto_inicio+(hessiano0)^(-1)*gradiente0\n",
    "punto_inicio;lista1.append(punto_inicio)"
   ]
  },
  {
   "cell_type": "code",
   "execution_count": 78,
   "metadata": {},
   "outputs": [
    {
     "data": {
      "text/plain": [
       "(x, y) |--> 73855.1210242656"
      ]
     },
     "execution_count": 78,
     "metadata": {},
     "output_type": "execute_result"
    }
   ],
   "source": [
    "# Esto sobra:\n",
    "gradiente0=-(f.gradient()).substitute(x=punto_inicio[0],y=punto_inicio[1])\n",
    "gradiente0.norm()"
   ]
  },
  {
   "cell_type": "code",
   "execution_count": 8,
   "metadata": {
    "scrolled": true
   },
   "outputs": [
    {
     "name": "stdout",
     "output_type": "stream",
     "text": [
      "------------------\n",
      "iter.= 0 x= 0.599999999901369 y= 4.53333333331101\n",
      "(x, y) |--> 64.5911586647620\n",
      "True\n",
      "------------------\n",
      "------------------\n",
      "iter.= 1 x= -0.356784954117028 y= 5.31628249885591\n",
      "(x, y) |--> 71.8614656830006\n",
      "True\n",
      "------------------\n",
      "------------------\n",
      "iter.= 2 x= -0.0578034332486728 y= 5.04673094502010\n",
      "(x, y) |--> 9.37459723054183\n",
      "True\n",
      "------------------\n",
      "------------------\n",
      "iter.= 3 x= -0.00165431467927132 y= 5.00145579720975\n",
      "(x, y) |--> 0.274213170390058\n",
      "True\n",
      "------------------\n",
      "------------------\n",
      "iter.= 4 x= -1.59687659963292e-6 y= 5.00000132625811\n",
      "(x, y) |--> 0.000255101698465193\n",
      "True\n",
      "------------------\n"
     ]
    }
   ],
   "source": [
    "# Algoritmo:\n",
    "# Especificar el error y el intervalo:\n",
    "\n",
    "error=10^(-2)\n",
    "n = 0\n",
    "punto_inicio=vector([1.,4.])\n",
    "\n",
    "lista1=[punto_inicio]\n",
    "lista1.append(punto_inicio)\n",
    "gradiente0=-(f.gradient()).substitute(x=punto_inicio[0],y=punto_inicio[1])\n",
    "\n",
    "\n",
    "while (gradiente0).norm()>error:\n",
    "    \n",
    "    if hessiano0.is_positive_definite() == False : \n",
    "        \n",
    "        beta=10^(-3);t=0\n",
    "        hessiano0temp=copy(hessiano0)\n",
    "        while hessiano0temp.is_positive_definite()==False:\n",
    "            hessiano0temp=hessiano0+t*identity_matrix(2)\n",
    "            t=max(2*t,beta)\n",
    "        hessiano0=copy(hessiano0temp)\n",
    "        punto_inicio=punto_inicio+(hessiano0)^(-1)*gradiente0\n",
    "        lista1.append(punto_inicio)\n",
    "        gradiente0=-(f.gradient()).substitute(x=punto_inicio[0],y=punto_inicio[1])\n",
    "        gradiente0.norm()\n",
    "        hessiano0=matrix(RDF,(f.hessian()).substitute(x=punto_inicio[0],y=punto_inicio[1]))\n",
    "        print(\"------------------\")\n",
    "        print('iter.=',n,'x=',punto_inicio[0].n(),'y=',punto_inicio[1].n())\n",
    "        print(gradiente0.norm())\n",
    "        print(hessiano0.is_positive_definite())\n",
    "        print(\"------------------\")\n",
    "        n = n + 1\n",
    "    \n",
    "    else:\n",
    "        \n",
    "        punto_inicio=punto_inicio+(hessiano0)^(-1)*gradiente0\n",
    "        lista1.append(punto_inicio)\n",
    "        gradiente0=-(f.gradient()).substitute(x=punto_inicio[0],y=punto_inicio[1])\n",
    "        gradiente0.norm()\n",
    "        hessiano0=matrix(RDF,(f.hessian()).substitute(x=punto_inicio[0],y=punto_inicio[1]))\n",
    "        print(\"------------------\")\n",
    "        print('iter.=',n,'x=',punto_inicio[0].n(),'y=',punto_inicio[1].n())\n",
    "        print(gradiente0.norm())\n",
    "        print(hessiano0.is_positive_definite())\n",
    "        print(\"------------------\")\n",
    "        n = n + 1\n"
   ]
  },
  {
   "cell_type": "code",
   "execution_count": 17,
   "metadata": {},
   "outputs": [
    {
     "data": {
      "text/html": [
       "<html><script type=\"math/tex; mode=display\">\\newcommand{\\Bold}[1]{\\mathbf{#1}}\\left( x, y \\right) \\ {\\mapsto} \\ 2 \\, {\\left(x - 5\\right)}^{2} {\\left(y - 5\\right)}^{2} + 3 \\, x^{2} y^{2}</script></html>"
      ],
      "text/plain": [
       "(x, y) |--> 2*(x - 5)^2*(y - 5)^2 + 3*x^2*y^2"
      ]
     },
     "metadata": {},
     "output_type": "display_data"
    },
    {
     "data": {
      "text/plain": [
       "True"
      ]
     },
     "execution_count": 17,
     "metadata": {},
     "output_type": "execute_result"
    }
   ],
   "source": [
    "# Version actualizada:\n",
    "\n",
    "f(x,y)=((2*(x-5)^2)*((y-5)^2))+(3*(x^2)*(y^2))\n",
    "error = 10^(-2)\n",
    "k = 0\n",
    "show(f)\n",
    "\n",
    "#CAMBIAR AQUÍ EL PUNTO DE INICIO\n",
    "punto_inicio=vector([1.,4.]);lista2=[punto_inicio]\n",
    "gradiente0=-(f.gradient()).substitute(x=punto_inicio[0],y=punto_inicio[1])\n",
    "gradiente0.norm()\n",
    "hessiano0=matrix(RDF,(f.hessian()).substitute(x=punto_inicio[0],y=punto_inicio[1]))\n",
    "hessiano0.is_positive_definite()"
   ]
  },
  {
   "cell_type": "code",
   "execution_count": null,
   "metadata": {},
   "outputs": [],
   "source": [
    "#Si es True, NO cambiar el valor de la matriz Hessiana (NO ejecutar este cuadro), solo si el cuadro anterior es false!\n",
    "\n",
    "beta=10^(-3);t=0\n",
    "hessiano0temp=copy(hessiano0)\n",
    "while hessiano0temp.is_positive_definite()==False:\n",
    "    hessiano0temp=hessiano0+t*identity_matrix(2)\n",
    "    t=max(2*t,beta)\n",
    "hessiano0=hessiano0temp\n",
    "hessiano0.is_positive_definite()"
   ]
  },
  {
   "cell_type": "code",
   "execution_count": 18,
   "metadata": {},
   "outputs": [
    {
     "name": "stdout",
     "output_type": "stream",
     "text": [
      "------------------\n",
      "Iteracion =  0 (x, y) |--> (-7.84589811031000, 19.5282034332700)\n",
      "Norma gradiente:  (x, y) |--> 73855.1210242656\n",
      "------------------\n",
      "------------------\n",
      "Iteracion =  1 (x, y) |--> (-1.35945758021564, 21.0659971080679)\n",
      "Norma gradiente:  (x, y) |--> 33341.0516657899\n",
      "------------------\n",
      "------------------\n",
      "Iteracion =  2 (x, y) |--> (1.69881330388340, 22.7168660018563)\n",
      "Norma gradiente:  (x, y) |--> 10572.2220844396\n",
      "------------------\n",
      "------------------\n",
      "Iteracion =  3 (x, y) |--> (1.42143316310109, 3.55668055311406)\n",
      "Norma gradiente:  (x, y) |--> 1613.27298619454\n",
      "------------------\n",
      "------------------\n",
      "Iteracion =  4 (x, y) |--> (-11.1900519998797, 17.2592249265174)\n",
      "Norma gradiente:  (x, y) |--> 83.9296387446808\n",
      "------------------\n",
      "------------------\n",
      "Iteracion =  5 (x, y) |--> (-4.44520730708471, 17.3929075682796)\n",
      "Norma gradiente:  (x, y) |--> 39379.1137036276\n",
      "------------------\n",
      "------------------\n",
      "Iteracion =  6 (x, y) |--> (0.513726704298899, 19.2039656758902)\n",
      "Norma gradiente:  (x, y) |--> 15311.8048053335\n",
      "------------------\n",
      "------------------\n",
      "Iteracion =  7 (x, y) |--> (-2.18505169853673, -7.96390748832211)\n",
      "Norma gradiente:  (x, y) |--> 2747.17209072511\n",
      "------------------\n",
      "------------------\n",
      "Iteracion =  8 (x, y) |--> (3.12849555863228, -10.8132412723473)\n",
      "Norma gradiente:  (x, y) |--> 6363.53586943243\n",
      "------------------\n",
      "------------------\n",
      "Iteracion =  9 (x, y) |--> (4.40473957012610, 3.93184792074049)\n",
      "Norma gradiente:  (x, y) |--> 915.384947355192\n",
      "------------------\n",
      "------------------\n",
      "Iteracion =  10 (x, y) |--> (4.06716181792778, 2.38777349869060)\n",
      "Norma gradiente:  (x, y) |--> 610.597008902798\n",
      "------------------\n",
      "------------------\n",
      "Iteracion =  11 (x, y) |--> (8.20154742163620, -2.30893614609565)\n",
      "Norma gradiente:  (x, y) |--> 254.671666835937\n",
      "------------------\n",
      "------------------\n",
      "Iteracion =  12 (x, y) |--> (7.43808486339467, -0.719255241339590)\n",
      "Norma gradiente:  (x, y) |--> 1553.20764182869\n",
      "------------------\n",
      "------------------\n",
      "Iteracion =  13 (x, y) |--> (4.10689098716190, -1.31160694940165)\n",
      "Norma gradiente:  (x, y) |--> 507.400851545509\n",
      "------------------\n",
      "------------------\n",
      "Iteracion =  14 (x, y) |--> (4.88120554871905, 0.297787420744253)\n",
      "Norma gradiente:  (x, y) |--> 182.631016972543\n",
      "------------------\n",
      "------------------\n",
      "Iteracion =  15 (x, y) |--> (5.04929115637606, -0.0237793544466544)\n",
      "Norma gradiente:  (x, y) |--> 43.0383933770501\n",
      "------------------\n",
      "------------------\n",
      "Iteracion =  16 (x, y) |--> (5.00061181283149, -0.000771209808070678)\n",
      "Norma gradiente:  (x, y) |--> 6.20661068427534\n",
      "------------------\n",
      "------------------\n",
      "Iteracion =  17 (x, y) |--> (5.00000036695463, -2.38450119298883e-7)\n",
      "Norma gradiente:  (x, y) |--> 0.130912683180662\n",
      "------------------\n",
      "------------------\n",
      "Iteracion =  18 (x, y) |--> (5.00000000000005, -5.29542306610732e-14)\n",
      "Norma gradiente:  (x, y) |--> 0.0000512432758440362\n",
      "------------------\n"
     ]
    }
   ],
   "source": [
    "#Este bucle siempre se tiene que ejecutar:\n",
    "\n",
    "punto_inicio=punto_inicio+(hessiano0)^(-1)*gradiente0;lista2.append(punto_inicio)\n",
    "while gradiente0.norm()>error:\n",
    "    gradiente0=-(f.gradient()).substitute(x=punto_inicio[0],y=punto_inicio[1])\n",
    "    hessiano0=matrix(RDF,(f.hessian()).substitute(x=punto_inicio[0],y=punto_inicio[1]))\n",
    "    if(hessiano0.is_positive_definite()==False):\n",
    "        beta=10^(-3);t=0\n",
    "        hessiano0temp=copy(hessiano0)\n",
    "        while hessiano0temp.is_positive_definite()==False:\n",
    "            hessiano0temp=hessiano0+t*identity_matrix(2)\n",
    "            t=max(2*t,beta)\n",
    "        hessiano0=copy(hessiano0temp)\n",
    "    punto_inicio=punto_inicio+(hessiano0)^(-1)*gradiente0;lista2.append(punto_inicio);lista2.append(punto_inicio)\n",
    "    \n",
    "    print(\"------------------\")\n",
    "    print('Iteracion = ',k, punto_inicio)\n",
    "    print('Norma gradiente: ', gradiente0.norm())\n",
    "    print(\"------------------\")\n",
    "    k=k+1;"
   ]
  },
  {
   "cell_type": "code",
   "execution_count": 19,
   "metadata": {},
   "outputs": [],
   "source": [
    "# Apartado 3:\n",
    "\n",
    "'''\n",
    "Consideremos la función\n",
    "f(x,y)=2(x−5)2(y−5)2+3x2y2\n",
    " \n",
    "Si aplicamos el método quasi-Newton, y partimos del punto  x0=(1,4) , con criterio de parada  ||∇f(xk)||<10−3 .\n",
    "La primera iteración con la precisión requerida es:\n",
    "\n",
    "1.  xk=(5.00000036695463,−2.38450116434312⋅10−7) \t2.  xk=(−3.82267095531594⋅10−6,5.00000271216008) \n",
    "3.  xk=(−3.13757489677003⋅10−13,5.00000000000043) \t4.  xk=(−6.55841276259010⋅10−10,5.00000000146600)\n",
    "'''\n",
    "\n",
    "x,y=var('x,y')"
   ]
  },
  {
   "cell_type": "code",
   "execution_count": 20,
   "metadata": {},
   "outputs": [
    {
     "data": {
      "text/html": [
       "<html><script type=\"math/tex; mode=display\">\\newcommand{\\Bold}[1]{\\mathbf{#1}}2 \\, {\\left(x - 5\\right)}^{2} {\\left(y - 5\\right)}^{2} + 3 \\, x^{2} y^{2}</script></html>"
      ],
      "text/plain": [
       "2*(x - 5)^2*(y - 5)^2 + 3*x^2*y^2"
      ]
     },
     "metadata": {},
     "output_type": "display_data"
    }
   ],
   "source": [
    "f(x,y) = 2*(x-5)^2 * (y-5)^2 + 3*(x^2)*(y^2)\n",
    "show(f(x,y))"
   ]
  },
  {
   "cell_type": "code",
   "execution_count": 21,
   "metadata": {},
   "outputs": [
    {
     "data": {
      "text/html": [
       "<html><script type=\"math/tex; mode=display\">\\newcommand{\\Bold}[1]{\\mathbf{#1}}\\left( x, y \\right) \\ {\\mapsto} \\ 2 \\, {\\left(x - 5\\right)}^{2} {\\left(y - 5\\right)}^{2} + 3 \\, x^{2} y^{2}</script></html>"
      ],
      "text/plain": [
       "(x, y) |--> 2*(x - 5)^2*(y - 5)^2 + 3*x^2*y^2"
      ]
     },
     "metadata": {},
     "output_type": "display_data"
    },
    {
     "data": {
      "text/plain": [
       "True"
      ]
     },
     "execution_count": 21,
     "metadata": {},
     "output_type": "execute_result"
    }
   ],
   "source": [
    "error = 10^(-3)\n",
    "k = 0\n",
    "show(f)\n",
    "\n",
    "#CAMBIAR AQUÍ EL PUNTO DE INICIO\n",
    "punto_inicio=vector([1.,4.]);lista2=[punto_inicio]\n",
    "gradiente0=-(f.gradient()).substitute(x=punto_inicio[0],y=punto_inicio[1])\n",
    "gradiente0.norm()\n",
    "hessiano0=matrix(RDF,(f.hessian()).substitute(x=punto_inicio[0],y=punto_inicio[1]))\n",
    "hessiano0.is_positive_definite()"
   ]
  },
  {
   "cell_type": "code",
   "execution_count": null,
   "metadata": {},
   "outputs": [],
   "source": [
    "# Si es true NO ejecutar esta caja!!!!\n",
    "beta=10^(-3);t=0\n",
    "hessiano0temp=copy(hessiano0)\n",
    "while hessiano0temp.is_positive_definite()==False:\n",
    "    hessiano0temp=hessiano0+t*identity_matrix(2)\n",
    "    t=max(2*t,beta)\n",
    "hessiano0=hessiano0temp\n",
    "hessiano0.is_positive_definite()"
   ]
  },
  {
   "cell_type": "code",
   "execution_count": 22,
   "metadata": {},
   "outputs": [
    {
     "name": "stdout",
     "output_type": "stream",
     "text": [
      "------------------\n",
      "Iteracion =  0 (x, y) |--> (-7.84589811031000, 19.5282034332700)\n",
      "Norma gradiente:  (x, y) |--> 73855.1210242656\n",
      "------------------\n",
      "------------------\n",
      "Iteracion =  1 (x, y) |--> (-1.35945758021564, 21.0659971080679)\n",
      "Norma gradiente:  (x, y) |--> 33341.0516657899\n",
      "------------------\n",
      "------------------\n",
      "Iteracion =  2 (x, y) |--> (1.69881330388340, 22.7168660018563)\n",
      "Norma gradiente:  (x, y) |--> 10572.2220844396\n",
      "------------------\n",
      "------------------\n",
      "Iteracion =  3 (x, y) |--> (1.42143316310109, 3.55668055311406)\n",
      "Norma gradiente:  (x, y) |--> 1613.27298619454\n",
      "------------------\n",
      "------------------\n",
      "Iteracion =  4 (x, y) |--> (-11.1900519998797, 17.2592249265174)\n",
      "Norma gradiente:  (x, y) |--> 83.9296387446808\n",
      "------------------\n",
      "------------------\n",
      "Iteracion =  5 (x, y) |--> (-4.44520730708471, 17.3929075682796)\n",
      "Norma gradiente:  (x, y) |--> 39379.1137036276\n",
      "------------------\n",
      "------------------\n",
      "Iteracion =  6 (x, y) |--> (0.513726704298899, 19.2039656758902)\n",
      "Norma gradiente:  (x, y) |--> 15311.8048053335\n",
      "------------------\n",
      "------------------\n",
      "Iteracion =  7 (x, y) |--> (-2.18505169853673, -7.96390748832211)\n",
      "Norma gradiente:  (x, y) |--> 2747.17209072511\n",
      "------------------\n",
      "------------------\n",
      "Iteracion =  8 (x, y) |--> (3.12849555863228, -10.8132412723473)\n",
      "Norma gradiente:  (x, y) |--> 6363.53586943243\n",
      "------------------\n",
      "------------------\n",
      "Iteracion =  9 (x, y) |--> (4.40473957012610, 3.93184792074049)\n",
      "Norma gradiente:  (x, y) |--> 915.384947355192\n",
      "------------------\n",
      "------------------\n",
      "Iteracion =  10 (x, y) |--> (4.06716181792778, 2.38777349869060)\n",
      "Norma gradiente:  (x, y) |--> 610.597008902798\n",
      "------------------\n",
      "------------------\n",
      "Iteracion =  11 (x, y) |--> (8.20154742163620, -2.30893614609565)\n",
      "Norma gradiente:  (x, y) |--> 254.671666835937\n",
      "------------------\n",
      "------------------\n",
      "Iteracion =  12 (x, y) |--> (7.43808486339467, -0.719255241339590)\n",
      "Norma gradiente:  (x, y) |--> 1553.20764182869\n",
      "------------------\n",
      "------------------\n",
      "Iteracion =  13 (x, y) |--> (4.10689098716190, -1.31160694940165)\n",
      "Norma gradiente:  (x, y) |--> 507.400851545509\n",
      "------------------\n",
      "------------------\n",
      "Iteracion =  14 (x, y) |--> (4.88120554871905, 0.297787420744253)\n",
      "Norma gradiente:  (x, y) |--> 182.631016972543\n",
      "------------------\n",
      "------------------\n",
      "Iteracion =  15 (x, y) |--> (5.04929115637606, -0.0237793544466544)\n",
      "Norma gradiente:  (x, y) |--> 43.0383933770501\n",
      "------------------\n",
      "------------------\n",
      "Iteracion =  16 (x, y) |--> (5.00061181283149, -0.000771209808070678)\n",
      "Norma gradiente:  (x, y) |--> 6.20661068427534\n",
      "------------------\n",
      "------------------\n",
      "Iteracion =  17 (x, y) |--> (5.00000036695463, -2.38450119298883e-7)\n",
      "Norma gradiente:  (x, y) |--> 0.130912683180662\n",
      "------------------\n",
      "------------------\n",
      "Iteracion =  18 (x, y) |--> (5.00000000000005, -5.29542306610732e-14)\n",
      "Norma gradiente:  (x, y) |--> 0.0000512432758440362\n",
      "------------------\n"
     ]
    }
   ],
   "source": [
    "#Ejecutar este bucle siempre!\n",
    "\n",
    "punto_inicio=punto_inicio+(hessiano0)^(-1)*gradiente0;lista2.append(punto_inicio)\n",
    "while gradiente0.norm()>error:\n",
    "    gradiente0=-(f.gradient()).substitute(x=punto_inicio[0],y=punto_inicio[1])\n",
    "    hessiano0=matrix(RDF,(f.hessian()).substitute(x=punto_inicio[0],y=punto_inicio[1]))\n",
    "    if(hessiano0.is_positive_definite()==False):\n",
    "        beta=10^(-3);t=0\n",
    "        hessiano0temp=copy(hessiano0)\n",
    "        while hessiano0temp.is_positive_definite()==False:\n",
    "            hessiano0temp=hessiano0+t*identity_matrix(2)\n",
    "            t=max(2*t,beta)\n",
    "        hessiano0=copy(hessiano0temp)\n",
    "    punto_inicio=punto_inicio+(hessiano0)^(-1)*gradiente0;lista2.append(punto_inicio);lista2.append(punto_inicio)\n",
    "    \n",
    "    print(\"------------------\")\n",
    "    print('Iteracion = ',k, punto_inicio)\n",
    "    print('Norma gradiente: ', gradiente0.norm())\n",
    "    print(\"------------------\")\n",
    "    k=k+1;"
   ]
  },
  {
   "cell_type": "code",
   "execution_count": null,
   "metadata": {},
   "outputs": [],
   "source": [
    "'''\n",
    "1.  xk=(5.00000036695463,−2.38450116434312⋅10−7) \t2.  xk=(−3.82267095531594⋅10−6,5.00000271216008) \n",
    "3.  xk=(−3.13757489677003⋅10−13,5.00000000000043) \t4.  xk=(−6.55841276259010⋅10−10,5.00000000146600)\n",
    "'''"
   ]
  },
  {
   "cell_type": "code",
   "execution_count": 25,
   "metadata": {},
   "outputs": [],
   "source": [
    "# Apartado 4:\n",
    "\n",
    "'''\n",
    "Consideremos la función\n",
    "f(x,y)=(x−5)2(y−5)2+2x2y2\n",
    " \n",
    "Si aplicamos el método quasi-Newton descrito anteriormente, y partimos de los puntos  x01=(2,4)  y  x02=(1.5,4) , \n",
    "con criterio de parada  ||∇f(xki)||<10−4 , ¿Convergen dichos algoritmos?\n",
    "\n",
    "1. El algoritmo converge para x01 y diverge para x02\t2. El algoritmo converge en ambos casos\n",
    "3. El algoritmo diverge en ambos casos\t4. El algoritmo converge para x02 y diverge para  \n",
    "'''\n",
    "\n",
    "x,y=var('x,y')"
   ]
  },
  {
   "cell_type": "code",
   "execution_count": 26,
   "metadata": {},
   "outputs": [
    {
     "data": {
      "text/html": [
       "<html><script type=\"math/tex; mode=display\">\\newcommand{\\Bold}[1]{\\mathbf{#1}}{\\left(x - 5\\right)}^{2} {\\left(y - 5\\right)}^{2} + 2 \\, x^{2} y^{2}</script></html>"
      ],
      "text/plain": [
       "(x - 5)^2*(y - 5)^2 + 2*x^2*y^2"
      ]
     },
     "metadata": {},
     "output_type": "display_data"
    }
   ],
   "source": [
    "f(x,y) = (x-5)^2 * (y-5)^2 + 2*(x^2)*(y^2)\n",
    "show(f(x,y))"
   ]
  },
  {
   "cell_type": "code",
   "execution_count": 27,
   "metadata": {},
   "outputs": [
    {
     "data": {
      "text/html": [
       "<html><script type=\"math/tex; mode=display\">\\newcommand{\\Bold}[1]{\\mathbf{#1}}\\left( x, y \\right) \\ {\\mapsto} \\ {\\left(x - 5\\right)}^{2} {\\left(y - 5\\right)}^{2} + 2 \\, x^{2} y^{2}</script></html>"
      ],
      "text/plain": [
       "(x, y) |--> (x - 5)^2*(y - 5)^2 + 2*x^2*y^2"
      ]
     },
     "metadata": {},
     "output_type": "display_data"
    },
    {
     "data": {
      "text/plain": [
       "False"
      ]
     },
     "execution_count": 27,
     "metadata": {},
     "output_type": "execute_result"
    }
   ],
   "source": [
    "# Algoritmo para el punto 1:\n",
    "error = 10^(-4)\n",
    "k = 0\n",
    "show(f)\n",
    "\n",
    "#CAMBIAR AQUÍ EL PUNTO DE INICIO\n",
    "punto_inicio=vector([2.,4.]);lista1=[punto_inicio]\n",
    "gradiente0=-(f.gradient()).substitute(x=punto_inicio[0],y=punto_inicio[1])\n",
    "gradiente0.norm()\n",
    "hessiano0=matrix(RDF,(f.hessian()).substitute(x=punto_inicio[0],y=punto_inicio[1]))\n",
    "hessiano0.is_positive_definite()"
   ]
  },
  {
   "cell_type": "code",
   "execution_count": 28,
   "metadata": {},
   "outputs": [
    {
     "data": {
      "text/plain": [
       "True"
      ]
     },
     "execution_count": 28,
     "metadata": {},
     "output_type": "execute_result"
    }
   ],
   "source": [
    "# Si es true NO ejecutar esta caja!!!!\n",
    "beta=10^(-3);t=0\n",
    "hessiano0temp=copy(hessiano0)\n",
    "while hessiano0temp.is_positive_definite()==False:\n",
    "    hessiano0temp=hessiano0+t*identity_matrix(2)\n",
    "    t=max(2*t,beta)\n",
    "hessiano0=hessiano0temp\n",
    "hessiano0.is_positive_definite()"
   ]
  },
  {
   "cell_type": "code",
   "execution_count": 29,
   "metadata": {},
   "outputs": [
    {
     "name": "stdout",
     "output_type": "stream",
     "text": [
      "------------------\n",
      "Iteracion =  0 (x, y) |--> (-1.31666339864065, 9.39773851919538)\n",
      "Norma gradiente:  (x, y) |--> 2194.05087334623\n",
      "------------------\n",
      "------------------\n",
      "Iteracion =  1 (x, y) |--> (-1.71652953192508, 5.21270625598086)\n",
      "Norma gradiente:  (x, y) |--> 822.490804104159\n",
      "------------------\n",
      "------------------\n",
      "Iteracion =  2 (x, y) |--> (0.794606967873394, 6.32510398223555)\n",
      "Norma gradiente:  (x, y) |--> 203.803000692101\n",
      "------------------\n",
      "------------------\n",
      "Iteracion =  3 (x, y) |--> (0.261437229608481, 4.91885829941889)\n",
      "Norma gradiente:  (x, y) |--> 128.767593035378\n",
      "------------------\n",
      "------------------\n",
      "Iteracion =  4 (x, y) |--> (-0.0143561110088509, 5.04193052511046)\n",
      "Norma gradiente:  (x, y) |--> 25.3441698411247\n",
      "------------------\n",
      "------------------\n",
      "Iteracion =  5 (x, y) |--> (-0.000408308897845242, 5.00031190150488)\n",
      "Norma gradiente:  (x, y) |--> 2.57806995447420\n",
      "------------------\n",
      "------------------\n",
      "Iteracion =  6 (x, y) |--> (-6.06397764626250e-8, 5.00000011759322)\n",
      "Norma gradiente:  (x, y) |--> 0.0437155225130411\n",
      "------------------\n",
      "------------------\n",
      "Iteracion =  7 (x, y) |--> (-4.23514700151917e-15, 5.00000000000000)\n",
      "Norma gradiente:  (x, y) |--> 8.44643403484102e-6\n",
      "------------------\n"
     ]
    }
   ],
   "source": [
    "#Ejecutar este bucle siempre!\n",
    "punto_inicio=punto_inicio+(hessiano0)^(-1)*gradiente0;lista1.append(punto_inicio)\n",
    "while gradiente0.norm()>error:\n",
    "    gradiente0=-(f.gradient()).substitute(x=punto_inicio[0],y=punto_inicio[1])\n",
    "    hessiano0=matrix(RDF,(f.hessian()).substitute(x=punto_inicio[0],y=punto_inicio[1]))\n",
    "    if(hessiano0.is_positive_definite()==False):\n",
    "        beta=10^(-3);t=0\n",
    "        hessiano0temp=copy(hessiano0)\n",
    "        while hessiano0temp.is_positive_definite()==False:\n",
    "            hessiano0temp=hessiano0+t*identity_matrix(2)\n",
    "            t=max(2*t,beta)\n",
    "        hessiano0=copy(hessiano0temp)\n",
    "    punto_inicio=punto_inicio+(hessiano0)^(-1)*gradiente0;lista1.append(punto_inicio);lista1.append(punto_inicio)\n",
    "    \n",
    "    print(\"------------------\")\n",
    "    print('Iteracion = ',k, punto_inicio)\n",
    "    print('Norma gradiente: ', gradiente0.norm())\n",
    "    print(\"------------------\")\n",
    "    k=k+1;"
   ]
  },
  {
   "cell_type": "code",
   "execution_count": 31,
   "metadata": {},
   "outputs": [
    {
     "data": {
      "text/html": [
       "<html><script type=\"math/tex; mode=display\">\\newcommand{\\Bold}[1]{\\mathbf{#1}}\\left( x, y \\right) \\ {\\mapsto} \\ {\\left(x - 5\\right)}^{2} {\\left(y - 5\\right)}^{2} + 2 \\, x^{2} y^{2}</script></html>"
      ],
      "text/plain": [
       "(x, y) |--> (x - 5)^2*(y - 5)^2 + 2*x^2*y^2"
      ]
     },
     "metadata": {},
     "output_type": "display_data"
    },
    {
     "data": {
      "text/plain": [
       "False"
      ]
     },
     "execution_count": 31,
     "metadata": {},
     "output_type": "execute_result"
    }
   ],
   "source": [
    "# Algoritmo para el punto 2:\n",
    "error = 10^(-4)\n",
    "k = 0\n",
    "show(f)\n",
    "\n",
    "#CAMBIAR AQUÍ EL PUNTO DE INICIO\n",
    "punto_inicio=vector([1.5,4.]);lista2=[punto_inicio]\n",
    "gradiente0=-(f.gradient()).substitute(x=punto_inicio[0],y=punto_inicio[1])\n",
    "gradiente0.norm()\n",
    "hessiano0=matrix(RDF,(f.hessian()).substitute(x=punto_inicio[0],y=punto_inicio[1]))\n",
    "hessiano0.is_positive_definite()"
   ]
  },
  {
   "cell_type": "code",
   "execution_count": 32,
   "metadata": {},
   "outputs": [
    {
     "data": {
      "text/plain": [
       "True"
      ]
     },
     "execution_count": 32,
     "metadata": {},
     "output_type": "execute_result"
    }
   ],
   "source": [
    "# Si es true NO ejecutar esta caja!!!!\n",
    "beta=10^(-3);t=0\n",
    "hessiano0temp=copy(hessiano0)\n",
    "while hessiano0temp.is_positive_definite()==False:\n",
    "    hessiano0temp=hessiano0+t*identity_matrix(2)\n",
    "    t=max(2*t,beta)\n",
    "hessiano0=hessiano0temp\n",
    "hessiano0.is_positive_definite()"
   ]
  },
  {
   "cell_type": "code",
   "execution_count": 34,
   "metadata": {},
   "outputs": [
    {
     "name": "stdout",
     "output_type": "stream",
     "text": [
      "------------------\n",
      "Iteracion =  163 (x, y) |--> (1.15319880255722e58, -1.08293244464185e64)\n",
      "Norma gradiente:  (x, y) |--> 4.29684333313299e185\n",
      "------------------\n",
      "------------------\n",
      "Iteracion =  164 (x, y) |--> (-9.76358084191795e58, -5.66726709977402e64)\n",
      "Norma gradiente:  (x, y) |--> 8.11443272334054e186\n",
      "------------------\n",
      "------------------\n",
      "Iteracion =  165 (x, y) |--> (7.02715627315217e58, -7.70672230571949e64)\n",
      "Norma gradiente:  (x, y) |--> 1.88151523831394e189\n",
      "------------------\n",
      "------------------\n",
      "Iteracion =  166 (x, y) |--> (-5.45192586398390e58, -1.06963013781294e65)\n",
      "Norma gradiente:  (x, y) |--> 2.50420733314514e189\n",
      "------------------\n",
      "------------------\n",
      "Iteracion =  167 (x, y) |--> (6.67567214820475e58, -1.72449048423336e65)\n",
      "Norma gradiente:  (x, y) |--> 3.74255726428196e189\n",
      "------------------\n",
      "------------------\n",
      "Iteracion =  168 (x, y) |--> (-1.47781444878511e60, -2.08122834271438e66)\n",
      "Norma gradiente:  (x, y) |--> 1.19115383857902e190\n",
      "------------------\n",
      "------------------\n",
      "Iteracion =  169 (x, y) |--> (1.29238404783593e61, -1.11816479259853e67)\n",
      "Norma gradiente:  (x, y) |--> 3.84070209207203e193\n",
      "------------------\n",
      "------------------\n",
      "Iteracion =  170 (x, y) |--> (-1.07531490025486e61, -1.58334356993413e67)\n",
      "Norma gradiente:  (x, y) |--> 9.69514851919811e195\n",
      "------------------\n",
      "------------------\n",
      "Iteracion =  171 (x, y) |--> (2.38219393450991e61, -3.33717002935464e67)\n",
      "Norma gradiente:  (x, y) |--> 1.61747374358311e196\n",
      "------------------\n",
      "------------------\n",
      "Iteracion =  172 (x, y) |--> (-2.63342840252066e62, -2.17827680389196e68)\n",
      "Norma gradiente:  (x, y) |--> 1.59178729525735e197\n",
      "------------------\n",
      "------------------\n",
      "Iteracion =  173 (x, y) |--> (1.58754480870172e63, -8.74407526768095e68)\n",
      "Norma gradiente:  (x, y) |--> 7.49719659400837e199\n",
      "------------------\n",
      "------------------\n",
      "Iteracion =  174 (x, y) |--> (-1.10731040150789e63, -1.17935657270542e69)\n",
      "Norma gradiente:  (x, y) |--> 7.28291124165069e201\n",
      "------------------\n",
      "------------------\n",
      "Iteracion =  175 (x, y) |--> (1.46907293380531e65, -7.94121997715154e70)\n",
      "Norma gradiente:  (x, y) |--> 9.24082814081145e201\n",
      "------------------\n",
      "------------------\n",
      "Iteracion =  176 (x, y) |--> (-1.12440584658479e65, -1.09802638415674e71)\n",
      "Norma gradiente:  (x, y) |--> 5.55864655767929e207\n",
      "------------------\n",
      "------------------\n",
      "Iteracion =  177 (x, y) |--> (1.25573819001108e65, -1.71116516693100e71)\n",
      "Norma gradiente:  (x, y) |--> 8.13392000810193e207\n",
      "------------------\n",
      "------------------\n",
      "Iteracion =  178 (x, y) |--> (-2.98584870400175e65, -3.74553838926000e71)\n",
      "Norma gradiente:  (x, y) |--> 2.20614582047792e208\n",
      "------------------\n",
      "------------------\n",
      "Iteracion =  179 (x, y) |--> (2.45229558004478e65, -5.28365504343447e71)\n",
      "Norma gradiente:  (x, y) |--> 2.51331864758462e209\n",
      "------------------\n",
      "------------------\n",
      "Iteracion =  180 (x, y) |--> (-4.76748813077717e65, -1.04196106989652e72)\n",
      "Norma gradiente:  (x, y) |--> 4.10764570479706e209\n",
      "------------------\n",
      "------------------\n",
      "Iteracion =  181 (x, y) |--> (7.54464499906389e65, -1.86642315135156e72)\n",
      "Norma gradiente:  (x, y) |--> 3.10558812128326e210\n",
      "------------------\n",
      "------------------\n",
      "Iteracion =  182 (x, y) |--> (-3.72488137710340e66, -6.47380019767467e72)\n",
      "Norma gradiente:  (x, y) |--> 1.57692226698209e211\n",
      "------------------\n",
      "------------------\n",
      "Iteracion =  183 (x, y) |--> (5.06700185765954e66, -1.08769951328819e73)\n",
      "Norma gradiente:  (x, y) |--> 9.36660660160102e212\n",
      "------------------\n",
      "------------------\n",
      "Iteracion =  184 (x, y) |--> (-5.53308240227244e66, -1.68157447179542e73)\n",
      "Norma gradiente:  (x, y) |--> 3.59683223958431e213\n",
      "------------------\n",
      "------------------\n",
      "Iteracion =  185 (x, y) |--> (1.05207495093837e67, -3.28026960345293e73)\n",
      "Norma gradiente:  (x, y) |--> 9.38751404436663e213\n",
      "------------------\n",
      "------------------\n",
      "Iteracion =  186 (x, y) |--> (-1.41899842427061e67, -5.49242064570263e73)\n",
      "Norma gradiente:  (x, y) |--> 6.79230235619181e214\n",
      "------------------\n",
      "------------------\n",
      "Iteracion =  187 (x, y) |--> (1.47162432975372e67, -8.34047872427927e73)\n",
      "Norma gradiente:  (x, y) |--> 2.56838867045904e215\n",
      "------------------\n",
      "------------------\n",
      "Iteracion =  188 (x, y) |--> (-1.86011637031136e67, -1.36116137203505e74)\n",
      "Norma gradiente:  (x, y) |--> 6.14228787997137e215\n",
      "------------------\n",
      "------------------\n",
      "Iteracion =  189 (x, y) |--> (1.35962015478728e67, -1.85862015065637e74)\n",
      "Norma gradiente:  (x, y) |--> 2.06780983705837e216\n",
      "------------------\n",
      "------------------\n",
      "Iteracion =  190 (x, y) |--> (-1.14815369522582e67, -2.64339139227249e74)\n",
      "Norma gradiente:  (x, y) |--> 2.81805929529518e216\n",
      "------------------\n",
      "------------------\n",
      "Iteracion =  191 (x, y) |--> (3.00573735610390e67, -6.10344220585031e74)\n",
      "Norma gradiente:  (x, y) |--> 4.81364680362656e216\n",
      "------------------\n",
      "------------------\n",
      "Iteracion =  192 (x, y) |--> (-4.31318631689952e67, -1.04826144836278e75)\n",
      "Norma gradiente:  (x, y) |--> 6.71818489852995e217\n",
      "------------------\n",
      "------------------\n",
      "Iteracion =  193 (x, y) |--> (6.80598708072388e67, -1.87531288442347e75)\n",
      "Norma gradiente:  (x, y) |--> 2.84373221236493e218\n",
      "------------------\n",
      "------------------\n",
      "Iteracion =  194 (x, y) |--> (-3.18191228100207e68, -6.25901287304719e75)\n",
      "Norma gradiente:  (x, y) |--> 1.43611707446958e219\n",
      "------------------\n",
      "------------------\n",
      "Iteracion =  195 (x, y) |--> (3.15281473227966e68, -9.35990099518253e75)\n",
      "Norma gradiente:  (x, y) |--> 7.47913104553871e220\n",
      "------------------\n",
      "------------------\n",
      "Iteracion =  196 (x, y) |--> (-2.98630296284647e68, -1.37926860535125e76)\n",
      "Norma gradiente:  (x, y) |--> 1.65726596560329e221\n",
      "------------------\n",
      "------------------\n",
      "Iteracion =  197 (x, y) |--> (2.21418402307092e68, -1.89059557844930e76)\n",
      "Norma gradiente:  (x, y) |--> 3.40865319705239e221\n",
      "------------------\n",
      "------------------\n",
      "Iteracion =  198 (x, y) |--> (-2.02958966030991e68, -2.75708481282795e76)\n",
      "Norma gradiente:  (x, y) |--> 4.74856337813856e221\n",
      "------------------\n",
      "------------------\n",
      "Iteracion =  199 (x, y) |--> (4.85045176714350e69, -3.57024312640506e77)\n",
      "Norma gradiente:  (x, y) |--> 9.25677577572855e221\n",
      "------------------\n",
      "------------------\n",
      "Iteracion =  200 (x, y) |--> (-3.83633452279806e69, -4.98213707135572e77)\n",
      "Norma gradiente:  (x, y) |--> 3.70961658133759e225\n",
      "------------------\n",
      "------------------\n",
      "Iteracion =  201 (x, y) |--> (5.40710596371303e69, -8.49316340527865e77)\n",
      "Norma gradiente:  (x, y) |--> 5.71345832912378e225\n",
      "------------------\n",
      "------------------\n",
      "Iteracion =  202 (x, y) |--> (-7.46351392055858e69, -1.43547873248280e78)\n",
      "Norma gradiente:  (x, y) |--> 2.34021140001373e226\n",
      "------------------\n",
      "------------------\n",
      "Iteracion =  203 (x, y) |--> (8.93758625386778e69, -2.29497434833592e78)\n",
      "Norma gradiente:  (x, y) |--> 9.22758644987001e226\n",
      "------------------\n",
      "------------------\n",
      "Iteracion =  204 (x, y) |--> (-6.96376870343955e70, -1.12356827723929e79)\n",
      "Norma gradiente:  (x, y) |--> 2.82440627538489e227\n",
      "------------------\n",
      "------------------\n",
      "Iteracion =  205 (x, y) |--> (3.21451619352554e71, -3.71679658185930e79)\n",
      "Norma gradiente:  (x, y) |--> 5.27466067259327e229\n",
      "------------------\n",
      "------------------\n",
      "Iteracion =  206 (x, y) |--> (-2.98188523906153e71, -5.44070465959171e79)\n",
      "Norma gradiente:  (x, y) |--> 2.66443085578190e231\n",
      "------------------\n",
      "------------------\n",
      "Iteracion =  207 (x, y) |--> (1.99330341432884e71, -7.25918094302710e79)\n",
      "Norma gradiente:  (x, y) |--> 5.29605490200203e231\n",
      "------------------\n",
      "------------------\n",
      "Iteracion =  208 (x, y) |--> (-1.13167032146154e72, -2.78656766031699e80)\n",
      "Norma gradiente:  (x, y) |--> 6.30231207626009e231\n",
      "------------------\n",
      "------------------\n",
      "Iteracion =  209 (x, y) |--> (6.89826250445705e72, -1.12795336958986e81)\n",
      "Norma gradiente:  (x, y) |--> 5.27242440963125e233\n",
      "------------------\n",
      "------------------\n",
      "Iteracion =  210 (x, y) |--> (-5.04921706058808e72, -1.54075886906173e81)\n",
      "Norma gradiente:  (x, y) |--> 5.26590790118140e235\n",
      "------------------\n",
      "------------------\n",
      "Iteracion =  211 (x, y) |--> (4.29755008817136e72, -2.19645343854969e81)\n",
      "Norma gradiente:  (x, y) |--> 7.19191662483242e235\n",
      "------------------\n",
      "------------------\n",
      "Iteracion =  212 (x, y) |--> (-1.24125814545560e73, -5.36845337546473e81)\n",
      "Norma gradiente:  (x, y) |--> 1.24398802618036e236\n",
      "------------------\n",
      "------------------\n",
      "Iteracion =  213 (x, y) |--> (4.58900146847227e73, -1.52921910418105e82)\n",
      "Norma gradiente:  (x, y) |--> 2.14640530549137e237\n",
      "------------------\n",
      "------------------\n",
      "Iteracion =  214 (x, y) |--> (-8.01534652923997e73, -2.86471889900087e82)\n",
      "Norma gradiente:  (x, y) |--> 6.43885843668524e238\n",
      "------------------\n"
     ]
    },
    {
     "name": "stdout",
     "output_type": "stream",
     "text": [
      "------------------\n",
      "Iteracion =  215 (x, y) |--> (6.58404234725972e73, -4.04130125106827e82)\n",
      "Norma gradiente:  (x, y) |--> 3.94673148058420e239\n",
      "------------------\n",
      "------------------\n",
      "Iteracion =  216 (x, y) |--> (-1.28184562188695e74, -7.97530109659188e82)\n",
      "Norma gradiente:  (x, y) |--> 6.45188052359802e239\n",
      "------------------\n",
      "------------------\n",
      "Iteracion =  217 (x, y) |--> (2.05101445439125e74, -1.43557331657646e83)\n",
      "Norma gradiente:  (x, y) |--> 4.89194033240020e240\n",
      "------------------\n",
      "------------------\n",
      "Iteracion =  218 (x, y) |--> (-1.28154661469382e75, -5.92055907585380e83)\n",
      "Norma gradiente:  (x, y) |--> 2.53612541476520e241\n",
      "------------------\n",
      "------------------\n",
      "Iteracion =  219 (x, y) |--> (1.04937681040678e75, -8.34454323983551e83)\n",
      "Norma gradiente:  (x, y) |--> 2.69532472931423e243\n",
      "------------------\n",
      "------------------\n",
      "Iteracion =  220 (x, y) |--> (-1.98262114463362e75, -1.62273493517765e84)\n",
      "Norma gradiente:  (x, y) |--> 4.38417470463271e243\n",
      "------------------\n",
      "------------------\n",
      "Iteracion =  221 (x, y) |--> (2.56158506076481e75, -2.67103747618085e84)\n",
      "Norma gradiente:  (x, y) |--> 3.13246448660276e244\n",
      "------------------\n",
      "------------------\n",
      "Iteracion =  222 (x, y) |--> (-2.09202793378019e75, -3.76174593984508e84)\n",
      "Norma gradiente:  (x, y) |--> 1.09652867956079e245\n",
      "------------------\n",
      "------------------\n",
      "Iteracion =  223 (x, y) |--> (3.85729264661962e75, -7.22970989910173e84)\n",
      "Norma gradiente:  (x, y) |--> 1.77622366240801e245\n",
      "------------------\n",
      "------------------\n",
      "Iteracion =  224 (x, y) |--> (-4.27144396943990e75, -1.12326860249061e85)\n",
      "Norma gradiente:  (x, y) |--> 1.20969415388025e246\n",
      "------------------\n",
      "------------------\n",
      "Iteracion =  225 (x, y) |--> (9.29294859803896e75, -2.34515954375292e85)\n",
      "Norma gradiente:  (x, y) |--> 3.23365143103589e246\n",
      "------------------\n"
     ]
    },
    {
     "ename": "KeyboardInterrupt",
     "evalue": "",
     "output_type": "error",
     "traceback": [
      "\u001b[0;31m---------------------------------------------------------------------------\u001b[0m",
      "\u001b[0;31mKeyboardInterrupt\u001b[0m                         Traceback (most recent call last)",
      "\u001b[0;32m<ipython-input-34-70ae3d4efdf1>\u001b[0m in \u001b[0;36m<module>\u001b[0;34m()\u001b[0m\n\u001b[1;32m      7\u001b[0m         \u001b[0mbeta\u001b[0m\u001b[0;34m=\u001b[0m\u001b[0mInteger\u001b[0m\u001b[0;34m(\u001b[0m\u001b[0;36m10\u001b[0m\u001b[0;34m)\u001b[0m\u001b[0;34m**\u001b[0m\u001b[0;34m(\u001b[0m\u001b[0;34m-\u001b[0m\u001b[0mInteger\u001b[0m\u001b[0;34m(\u001b[0m\u001b[0;36m3\u001b[0m\u001b[0;34m)\u001b[0m\u001b[0;34m)\u001b[0m\u001b[0;34m;\u001b[0m\u001b[0mt\u001b[0m\u001b[0;34m=\u001b[0m\u001b[0mInteger\u001b[0m\u001b[0;34m(\u001b[0m\u001b[0;36m0\u001b[0m\u001b[0;34m)\u001b[0m\u001b[0;34m\u001b[0m\u001b[0;34m\u001b[0m\u001b[0m\n\u001b[1;32m      8\u001b[0m         \u001b[0mhessiano0temp\u001b[0m\u001b[0;34m=\u001b[0m\u001b[0mcopy\u001b[0m\u001b[0;34m(\u001b[0m\u001b[0mhessiano0\u001b[0m\u001b[0;34m)\u001b[0m\u001b[0;34m\u001b[0m\u001b[0;34m\u001b[0m\u001b[0m\n\u001b[0;32m----> 9\u001b[0;31m         \u001b[0;32mwhile\u001b[0m \u001b[0mhessiano0temp\u001b[0m\u001b[0;34m.\u001b[0m\u001b[0mis_positive_definite\u001b[0m\u001b[0;34m(\u001b[0m\u001b[0;34m)\u001b[0m\u001b[0;34m==\u001b[0m\u001b[0;32mFalse\u001b[0m\u001b[0;34m:\u001b[0m\u001b[0;34m\u001b[0m\u001b[0;34m\u001b[0m\u001b[0m\n\u001b[0m\u001b[1;32m     10\u001b[0m             \u001b[0mhessiano0temp\u001b[0m\u001b[0;34m=\u001b[0m\u001b[0mhessiano0\u001b[0m\u001b[0;34m+\u001b[0m\u001b[0mt\u001b[0m\u001b[0;34m*\u001b[0m\u001b[0midentity_matrix\u001b[0m\u001b[0;34m(\u001b[0m\u001b[0mInteger\u001b[0m\u001b[0;34m(\u001b[0m\u001b[0;36m2\u001b[0m\u001b[0;34m)\u001b[0m\u001b[0;34m)\u001b[0m\u001b[0;34m\u001b[0m\u001b[0;34m\u001b[0m\u001b[0m\n\u001b[1;32m     11\u001b[0m             \u001b[0mt\u001b[0m\u001b[0;34m=\u001b[0m\u001b[0mmax\u001b[0m\u001b[0;34m(\u001b[0m\u001b[0mInteger\u001b[0m\u001b[0;34m(\u001b[0m\u001b[0;36m2\u001b[0m\u001b[0;34m)\u001b[0m\u001b[0;34m*\u001b[0m\u001b[0mt\u001b[0m\u001b[0;34m,\u001b[0m\u001b[0mbeta\u001b[0m\u001b[0;34m)\u001b[0m\u001b[0;34m\u001b[0m\u001b[0;34m\u001b[0m\u001b[0m\n",
      "\u001b[0;32m/opt/sagemath-9.1/local/lib/python3.7/site-packages/sage/matrix/matrix_double_dense.pyx\u001b[0m in \u001b[0;36msage.matrix.matrix_double_dense.Matrix_double_dense.is_positive_definite (build/cythonized/sage/matrix/matrix_double_dense.c:19792)\u001b[0;34m()\u001b[0m\n\u001b[1;32m   3347\u001b[0m         \u001b[0;32mif\u001b[0m \u001b[0mposdef\u001b[0m \u001b[0;32mis\u001b[0m \u001b[0;32mNone\u001b[0m\u001b[0;34m:\u001b[0m\u001b[0;34m\u001b[0m\u001b[0;34m\u001b[0m\u001b[0m\n\u001b[1;32m   3348\u001b[0m             \u001b[0;32mtry\u001b[0m\u001b[0;34m:\u001b[0m\u001b[0;34m\u001b[0m\u001b[0;34m\u001b[0m\u001b[0m\n\u001b[0;32m-> 3349\u001b[0;31m                 \u001b[0mself\u001b[0m\u001b[0;34m.\u001b[0m\u001b[0mcholesky\u001b[0m\u001b[0;34m(\u001b[0m\u001b[0;34m)\u001b[0m\u001b[0;34m\u001b[0m\u001b[0;34m\u001b[0m\u001b[0m\n\u001b[0m\u001b[1;32m   3350\u001b[0m             \u001b[0;32mexcept\u001b[0m \u001b[0mValueError\u001b[0m\u001b[0;34m:\u001b[0m\u001b[0;34m\u001b[0m\u001b[0;34m\u001b[0m\u001b[0m\n\u001b[1;32m   3351\u001b[0m                 \u001b[0;32mpass\u001b[0m\u001b[0;34m\u001b[0m\u001b[0;34m\u001b[0m\u001b[0m\n",
      "\u001b[0;32m/opt/sagemath-9.1/local/lib/python3.7/site-packages/sage/matrix/matrix_double_dense.pyx\u001b[0m in \u001b[0;36msage.matrix.matrix_double_dense.Matrix_double_dense.cholesky (build/cythonized/sage/matrix/matrix_double_dense.c:19495)\u001b[0;34m()\u001b[0m\n\u001b[1;32m   3197\u001b[0m             \u001b[0;32mfrom\u001b[0m \u001b[0mnumpy\u001b[0m\u001b[0;34m.\u001b[0m\u001b[0mlinalg\u001b[0m \u001b[0;32mimport\u001b[0m \u001b[0mLinAlgError\u001b[0m\u001b[0;34m\u001b[0m\u001b[0;34m\u001b[0m\u001b[0m\n\u001b[1;32m   3198\u001b[0m             \u001b[0;32mtry\u001b[0m\u001b[0;34m:\u001b[0m\u001b[0;34m\u001b[0m\u001b[0;34m\u001b[0m\u001b[0m\n\u001b[0;32m-> 3199\u001b[0;31m                 \u001b[0mL\u001b[0m\u001b[0;34m.\u001b[0m\u001b[0m_matrix_numpy\u001b[0m \u001b[0;34m=\u001b[0m \u001b[0mscipy\u001b[0m\u001b[0;34m.\u001b[0m\u001b[0mlinalg\u001b[0m\u001b[0;34m.\u001b[0m\u001b[0mcholesky\u001b[0m\u001b[0;34m(\u001b[0m\u001b[0mself\u001b[0m\u001b[0;34m.\u001b[0m\u001b[0m_matrix_numpy\u001b[0m\u001b[0;34m,\u001b[0m \u001b[0mlower\u001b[0m\u001b[0;34m=\u001b[0m\u001b[0;36m1\u001b[0m\u001b[0;34m)\u001b[0m\u001b[0;34m\u001b[0m\u001b[0;34m\u001b[0m\u001b[0m\n\u001b[0m\u001b[1;32m   3200\u001b[0m             \u001b[0;32mexcept\u001b[0m \u001b[0mLinAlgError\u001b[0m\u001b[0;34m:\u001b[0m\u001b[0;34m\u001b[0m\u001b[0;34m\u001b[0m\u001b[0m\n\u001b[1;32m   3201\u001b[0m                 \u001b[0mself\u001b[0m\u001b[0;34m.\u001b[0m\u001b[0mcache\u001b[0m\u001b[0;34m(\u001b[0m\u001b[0mcache_posdef\u001b[0m\u001b[0;34m,\u001b[0m \u001b[0;32mFalse\u001b[0m\u001b[0;34m)\u001b[0m\u001b[0;34m\u001b[0m\u001b[0;34m\u001b[0m\u001b[0m\n",
      "\u001b[0;32m/opt/sagemath-9.1/local/lib/python3.7/site-packages/scipy/linalg/decomp_cholesky.py\u001b[0m in \u001b[0;36mcholesky\u001b[0;34m(a, lower, overwrite_a, check_finite)\u001b[0m\n\u001b[1;32m     89\u001b[0m     \"\"\"\n\u001b[1;32m     90\u001b[0m     c, lower = _cholesky(a, lower=lower, overwrite_a=overwrite_a, clean=True,\n\u001b[0;32m---> 91\u001b[0;31m                          check_finite=check_finite)\n\u001b[0m\u001b[1;32m     92\u001b[0m     \u001b[0;32mreturn\u001b[0m \u001b[0mc\u001b[0m\u001b[0;34m\u001b[0m\u001b[0;34m\u001b[0m\u001b[0m\n\u001b[1;32m     93\u001b[0m \u001b[0;34m\u001b[0m\u001b[0m\n",
      "\u001b[0;32m/opt/sagemath-9.1/local/lib/python3.7/site-packages/scipy/linalg/decomp_cholesky.py\u001b[0m in \u001b[0;36m_cholesky\u001b[0;34m(a, lower, overwrite_a, clean, check_finite)\u001b[0m\n\u001b[1;32m     17\u001b[0m     \u001b[0;34m\"\"\"Common code for cholesky() and cho_factor().\"\"\"\u001b[0m\u001b[0;34m\u001b[0m\u001b[0;34m\u001b[0m\u001b[0m\n\u001b[1;32m     18\u001b[0m \u001b[0;34m\u001b[0m\u001b[0m\n\u001b[0;32m---> 19\u001b[0;31m     \u001b[0ma1\u001b[0m \u001b[0;34m=\u001b[0m \u001b[0masarray_chkfinite\u001b[0m\u001b[0;34m(\u001b[0m\u001b[0ma\u001b[0m\u001b[0;34m)\u001b[0m \u001b[0;32mif\u001b[0m \u001b[0mcheck_finite\u001b[0m \u001b[0;32melse\u001b[0m \u001b[0masarray\u001b[0m\u001b[0;34m(\u001b[0m\u001b[0ma\u001b[0m\u001b[0;34m)\u001b[0m\u001b[0;34m\u001b[0m\u001b[0;34m\u001b[0m\u001b[0m\n\u001b[0m\u001b[1;32m     20\u001b[0m     \u001b[0ma1\u001b[0m \u001b[0;34m=\u001b[0m \u001b[0matleast_2d\u001b[0m\u001b[0;34m(\u001b[0m\u001b[0ma1\u001b[0m\u001b[0;34m)\u001b[0m\u001b[0;34m\u001b[0m\u001b[0;34m\u001b[0m\u001b[0m\n\u001b[1;32m     21\u001b[0m \u001b[0;34m\u001b[0m\u001b[0m\n",
      "\u001b[0;32m/opt/sagemath-9.1/local/lib/python3.7/site-packages/numpy/lib/function_base.py\u001b[0m in \u001b[0;36masarray_chkfinite\u001b[0;34m(a, dtype, order)\u001b[0m\n\u001b[1;32m    494\u001b[0m     \"\"\"\n\u001b[1;32m    495\u001b[0m     \u001b[0ma\u001b[0m \u001b[0;34m=\u001b[0m \u001b[0masarray\u001b[0m\u001b[0;34m(\u001b[0m\u001b[0ma\u001b[0m\u001b[0;34m,\u001b[0m \u001b[0mdtype\u001b[0m\u001b[0;34m=\u001b[0m\u001b[0mdtype\u001b[0m\u001b[0;34m,\u001b[0m \u001b[0morder\u001b[0m\u001b[0;34m=\u001b[0m\u001b[0morder\u001b[0m\u001b[0;34m)\u001b[0m\u001b[0;34m\u001b[0m\u001b[0;34m\u001b[0m\u001b[0m\n\u001b[0;32m--> 496\u001b[0;31m     \u001b[0;32mif\u001b[0m \u001b[0ma\u001b[0m\u001b[0;34m.\u001b[0m\u001b[0mdtype\u001b[0m\u001b[0;34m.\u001b[0m\u001b[0mchar\u001b[0m \u001b[0;32min\u001b[0m \u001b[0mtypecodes\u001b[0m\u001b[0;34m[\u001b[0m\u001b[0;34m'AllFloat'\u001b[0m\u001b[0;34m]\u001b[0m \u001b[0;32mand\u001b[0m \u001b[0;32mnot\u001b[0m \u001b[0mnp\u001b[0m\u001b[0;34m.\u001b[0m\u001b[0misfinite\u001b[0m\u001b[0;34m(\u001b[0m\u001b[0ma\u001b[0m\u001b[0;34m)\u001b[0m\u001b[0;34m.\u001b[0m\u001b[0mall\u001b[0m\u001b[0;34m(\u001b[0m\u001b[0;34m)\u001b[0m\u001b[0;34m:\u001b[0m\u001b[0;34m\u001b[0m\u001b[0;34m\u001b[0m\u001b[0m\n\u001b[0m\u001b[1;32m    497\u001b[0m         raise ValueError(\n\u001b[1;32m    498\u001b[0m             \"array must not contain infs or NaNs\")\n",
      "\u001b[0;32m/opt/sagemath-9.1/local/lib/python3.7/site-packages/numpy/core/_methods.py\u001b[0m in \u001b[0;36m_all\u001b[0;34m(a, axis, dtype, out, keepdims)\u001b[0m\n\u001b[1;32m     44\u001b[0m \u001b[0;34m\u001b[0m\u001b[0m\n\u001b[1;32m     45\u001b[0m \u001b[0;32mdef\u001b[0m \u001b[0m_all\u001b[0m\u001b[0;34m(\u001b[0m\u001b[0ma\u001b[0m\u001b[0;34m,\u001b[0m \u001b[0maxis\u001b[0m\u001b[0;34m=\u001b[0m\u001b[0;32mNone\u001b[0m\u001b[0;34m,\u001b[0m \u001b[0mdtype\u001b[0m\u001b[0;34m=\u001b[0m\u001b[0;32mNone\u001b[0m\u001b[0;34m,\u001b[0m \u001b[0mout\u001b[0m\u001b[0;34m=\u001b[0m\u001b[0;32mNone\u001b[0m\u001b[0;34m,\u001b[0m \u001b[0mkeepdims\u001b[0m\u001b[0;34m=\u001b[0m\u001b[0;32mFalse\u001b[0m\u001b[0;34m)\u001b[0m\u001b[0;34m:\u001b[0m\u001b[0;34m\u001b[0m\u001b[0;34m\u001b[0m\u001b[0m\n\u001b[0;32m---> 46\u001b[0;31m     \u001b[0;32mreturn\u001b[0m \u001b[0mumr_all\u001b[0m\u001b[0;34m(\u001b[0m\u001b[0ma\u001b[0m\u001b[0;34m,\u001b[0m \u001b[0maxis\u001b[0m\u001b[0;34m,\u001b[0m \u001b[0mdtype\u001b[0m\u001b[0;34m,\u001b[0m \u001b[0mout\u001b[0m\u001b[0;34m,\u001b[0m \u001b[0mkeepdims\u001b[0m\u001b[0;34m)\u001b[0m\u001b[0;34m\u001b[0m\u001b[0;34m\u001b[0m\u001b[0m\n\u001b[0m\u001b[1;32m     47\u001b[0m \u001b[0;34m\u001b[0m\u001b[0m\n\u001b[1;32m     48\u001b[0m \u001b[0;32mdef\u001b[0m \u001b[0m_count_reduce_items\u001b[0m\u001b[0;34m(\u001b[0m\u001b[0marr\u001b[0m\u001b[0;34m,\u001b[0m \u001b[0maxis\u001b[0m\u001b[0;34m)\u001b[0m\u001b[0;34m:\u001b[0m\u001b[0;34m\u001b[0m\u001b[0;34m\u001b[0m\u001b[0m\n",
      "\u001b[0;32msrc/cysignals/signals.pyx\u001b[0m in \u001b[0;36mcysignals.signals.python_check_interrupt\u001b[0;34m()\u001b[0m\n",
      "\u001b[0;31mKeyboardInterrupt\u001b[0m: "
     ]
    }
   ],
   "source": [
    "#Ejecutar este bucle siempre!\n",
    "punto_inicio=punto_inicio+(hessiano0)^(-1)*gradiente0;lista2.append(punto_inicio)\n",
    "while gradiente0.norm()>error:\n",
    "    gradiente0=-(f.gradient()).substitute(x=punto_inicio[0],y=punto_inicio[1])\n",
    "    hessiano0=matrix(RDF,(f.hessian()).substitute(x=punto_inicio[0],y=punto_inicio[1]))\n",
    "    if(hessiano0.is_positive_definite()==False):\n",
    "        beta=10^(-3);t=0\n",
    "        hessiano0temp=copy(hessiano0)\n",
    "        while hessiano0temp.is_positive_definite()==False:\n",
    "            hessiano0temp=hessiano0+t*identity_matrix(2)\n",
    "            t=max(2*t,beta)\n",
    "        hessiano0=copy(hessiano0temp)\n",
    "    punto_inicio=punto_inicio+(hessiano0)^(-1)*gradiente0;lista2.append(punto_inicio);lista2.append(punto_inicio)\n",
    "    \n",
    "    print(\"------------------\")\n",
    "    print('Iteracion = ',k, punto_inicio)\n",
    "    print('Norma gradiente: ', gradiente0.norm())\n",
    "    print(\"------------------\")\n",
    "    k=k+1;"
   ]
  },
  {
   "cell_type": "code",
   "execution_count": null,
   "metadata": {},
   "outputs": [],
   "source": []
  }
 ],
 "metadata": {
  "kernelspec": {
   "display_name": "SageMath 9.1",
   "language": "sage",
   "name": "sagemath"
  },
  "language": "python",
  "language_info": {
   "codemirror_mode": {
    "name": "ipython",
    "version": 3
   },
   "file_extension": ".py",
   "mimetype": "text/x-python",
   "name": "python",
   "nbconvert_exporter": "python",
   "pygments_lexer": "ipython3",
   "version": "3.7.3"
  }
 },
 "nbformat": 4,
 "nbformat_minor": 2
}
