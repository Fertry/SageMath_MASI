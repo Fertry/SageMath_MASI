{
 "cells": [
  {
   "cell_type": "markdown",
   "metadata": {},
   "source": [
    "<h3 style=\"text-align: center;\">ESCUELA TÉCNICA SUPERIOR DE INGENIERÍA INFORMÁTICA</h3>\n",
    "<h3 style=\"text-align: center;\">UNIVERSIDAD DE SEVILLA</h3>\n",
    "<h3 style=\"text-align: center;\">MATEMÁTICA APLICADA A SISTEMAS DE INFORMACIÓN</h3>\n",
    "<h3 style=\"text-align: center;\">Tercera práctica de laboratorio</h3>\n",
    "<h3>Programación lineal: Conceptos básicos</h3>\n",
    "<p>En esta práctica trataremos la Programación Lineal y el método del Símplex. Hemos estudido cómo la región factible de un problema de programación lineal es un convexo, concretamente un polítopo. Gracias al Teorema de representación si $S$ es la región factible de nuestro problema descrita en formato estándar, por lo tanto $S=  \\{ \\mathbf{x} \\in {\\mathbb R}^n: \\,   A \\, \\mathbf{x} = \\mathbf{b},\\, \\mathbf{x} \\ge \\mathbf{0} \\}$, con $A$ matriz $m \\times n$ de rango $m$. <br />Sean $\\mathbf{x}^1, \\ldots, \\mathbf{x}^k$ los puntos extremos de $S$, y $\\vec{\\mathbf{d}}^1, \\ldots, \\vec{\\mathbf{d}}^q$ las  direcciones extremas de $S$</p>\n",
    "<p>$$ \\mathbf{x} \\in S \\Longleftrightarrow \\mathbf{x} = \\sum_{j=1}^k \\lambda_j \\, \\mathbf{x}^j \\, +\\, \\sum_{j=1}^q \\, \\mu_j \\, \\vec{\\mathbf{d}}^j,\\; \\mbox{con} \\; \\lambda_j \\ge 0, \\, \\sum_{j=1}^k \\lambda_j=1, \\; \\mu_j \\ge 0$$</p>\n",
    "<p>Partamos del mismo ejemplo que hemos visto en clase de teoría:</p>\n",
    "<p>$$\\left. \\begin{array}{rl}\\min & Z(x_1, x_2) \\\\ \\mbox{s.t.} & - x_1 + x_2 \\leq 2 \\\\&  - x_1 + 2 x_2 \\leq 6 \\\\&  x_1 \\geq 0, x_2 \\geq 0 \\end{array} \\right\\}$$</p>\n",
    "<p>En formato estándar:</p>\n",
    "<p>$$\\left. \\begin{array}{rl}\\min & Z(x_1, x_2) \\\\ \\mbox{s.t.} & - x_1 + x_2 +x_3\\hspace{.77cm}=2 \\\\&  - x_1 + 2 x_2 \\hspace{.6cm}+x_4= 6 \\\\&  x_j \\geq 0, \\; j=1,\\ldots,4 \\end{array} \\right\\}$$</p>\n",
    "<p>Estamos interesados en calcular los puntos extremos de nuestra región factible, para ellos necesitaremos ciertas herramientas del Álgebra lineal, si introducimos las matriz de coeficientes $A$ y el vector $b$:</p>"
   ]
  },
  {
   "cell_type": "code",
   "execution_count": 114,
   "metadata": {},
   "outputs": [],
   "source": [
    "A=matrix([[-1,1,1,0],[-1,2,0,1]])\n",
    "b=vector([2,6])"
   ]
  },
  {
   "cell_type": "code",
   "execution_count": 115,
   "metadata": {},
   "outputs": [
    {
     "data": {
      "text/html": [
       "<html><script type=\"math/tex; mode=display\">\\newcommand{\\Bold}[1]{\\mathbf{#1}}\\left(\\begin{array}{rrrr}\n",
       "-1 & 1 & 1 & 0 \\\\\n",
       "-1 & 2 & 0 & 1\n",
       "\\end{array}\\right)</script></html>"
      ],
      "text/plain": [
       "[-1  1  1  0]\n",
       "[-1  2  0  1]"
      ]
     },
     "metadata": {},
     "output_type": "display_data"
    }
   ],
   "source": [
    "A;show(A)"
   ]
  },
  {
   "cell_type": "markdown",
   "metadata": {},
   "source": [
    "<p>Si estamos interesados en el rango de $A$, número de filas o columnas</p>"
   ]
  },
  {
   "cell_type": "code",
   "execution_count": 116,
   "metadata": {},
   "outputs": [
    {
     "data": {
      "text/plain": [
       "4"
      ]
     },
     "execution_count": 116,
     "metadata": {},
     "output_type": "execute_result"
    }
   ],
   "source": [
    "rank(A);A.nrows();A.ncols()"
   ]
  },
  {
   "cell_type": "markdown",
   "metadata": {},
   "source": [
    "<p><span id=\"cell_outer_23\"><span id=\"cell_outer_14\">Para resolver <span><span><span>el sistema de ecuaciones lineales Ax</span><span style=\"position: relative; margin-left: 0.277em;\"><span>=</span></span><span style=\"position: relative; margin-left: 0.277em;\"><span>b</span></span></span></span> disponemos, al menos, de dos formas: </span></span></p>"
   ]
  },
  {
   "cell_type": "code",
   "execution_count": 117,
   "metadata": {},
   "outputs": [
    {
     "data": {
      "text/plain": [
       "(2, 4, 0, 0)"
      ]
     },
     "execution_count": 117,
     "metadata": {},
     "output_type": "execute_result"
    }
   ],
   "source": [
    "A.solve_right(b)"
   ]
  },
  {
   "cell_type": "code",
   "execution_count": 66,
   "metadata": {},
   "outputs": [
    {
     "data": {
      "text/plain": [
       "(2, 4, 0, 0)"
      ]
     },
     "execution_count": 66,
     "metadata": {},
     "output_type": "execute_result"
    }
   ],
   "source": [
    "A\\b"
   ]
  },
  {
   "cell_type": "markdown",
   "metadata": {},
   "source": [
    "<p>Nuestro sistema tiene infinitas soluciones pero SAGE sólo nos proporciona una, que es además una solución básica factible con base $\\{1,2\\}$. Estamos interesados en calcular todos los puntos extremos, como hemos visto en teoría, para ello nos basta resolver sistemas lineales donde la matriz de coeficientes sea submatriz de $A$ con rango máximo. Veamos en primer lugar cómo seleccionar una submatriz de $A$. Teniendo en cuenta que SAGE comienza a contar en el 0, si queremos tomar las dos filas de $A$ (primera y segunda fila, SAGE lo etiqueta \"[0, 1]\"), y análogamente para la primera, segunda y tercera columna. Por tanto, podemos escribir</p>"
   ]
  },
  {
   "cell_type": "code",
   "execution_count": 118,
   "metadata": {},
   "outputs": [
    {
     "data": {
      "text/plain": [
       "[-1  1  1]\n",
       "[-1  2  0]"
      ]
     },
     "execution_count": 118,
     "metadata": {},
     "output_type": "execute_result"
    }
   ],
   "source": [
    "A[[0,1],[0,1,2]]"
   ]
  },
  {
   "cell_type": "markdown",
   "metadata": {},
   "source": [
    "<p>Para seleccionar todas las filas podemos usar el comando \":\" que también nos permite seleccionar un rango \"i:j\" que nos proporcinará los elementos $\\{i,i+1,i+2,\\ldots,j-2,j-1\\}$, <strong>sin alcanzar</strong> j, de esta forma podemos tomar la submatriz con las columnas segunda y tercera (sin olvidar que SAGE comienza a contar en 0)</p>"
   ]
  },
  {
   "cell_type": "code",
   "execution_count": 119,
   "metadata": {},
   "outputs": [
    {
     "data": {
      "text/plain": [
       "[1 1]\n",
       "[2 0]"
      ]
     },
     "execution_count": 119,
     "metadata": {},
     "output_type": "execute_result"
    }
   ],
   "source": [
    "A[:,1:3]"
   ]
  },
  {
   "cell_type": "code",
   "execution_count": 120,
   "metadata": {},
   "outputs": [
    {
     "data": {
      "text/plain": [
       "(3, -1)"
      ]
     },
     "execution_count": 120,
     "metadata": {},
     "output_type": "execute_result"
    }
   ],
   "source": [
    "A[:,1:3]\\b"
   ]
  },
  {
   "cell_type": "markdown",
   "metadata": {},
   "source": [
    "<p>La solución del sistema anterior no verifica $B^{-1}b\\geq 0$ por lo que no representa una solución básica factible.</p>\n",
    "<p>Para que sea más sencillo el recorrido de todas las combinaciones de columnas de $A$ partimos de una lista con tantos elementos como columnas tiene $A$:</p>"
   ]
  },
  {
   "cell_type": "code",
   "execution_count": 121,
   "metadata": {},
   "outputs": [],
   "source": [
    "I=range(A.ncols())"
   ]
  },
  {
   "cell_type": "code",
   "execution_count": 122,
   "metadata": {},
   "outputs": [
    {
     "data": {
      "text/plain": [
       "range(0, 4)"
      ]
     },
     "execution_count": 122,
     "metadata": {},
     "output_type": "execute_result"
    }
   ],
   "source": [
    "I"
   ]
  },
  {
   "cell_type": "markdown",
   "metadata": {},
   "source": [
    "<p>La orden powerset() nos proporciona todos los subconjuntos de un conjunto, de esta forma:</p>"
   ]
  },
  {
   "cell_type": "code",
   "execution_count": 123,
   "metadata": {},
   "outputs": [],
   "source": [
    "for i in powerset(I):\n",
    "    i"
   ]
  },
  {
   "cell_type": "markdown",
   "metadata": {},
   "source": [
    "<p>Tan sólo nos interesan los subconjuntos de dos elementos y tales que la submatriz que definan tenga rango máximo. Así</p>"
   ]
  },
  {
   "cell_type": "code",
   "execution_count": 126,
   "metadata": {},
   "outputs": [
    {
     "name": "stdout",
     "output_type": "stream",
     "text": [
      "(2, 4) base= [0, 1]\n",
      "(-6, -4) base= [0, 2]\n",
      "(3, -1) base= [1, 2]\n",
      "(-2, 4) base= [0, 3]\n",
      "(2, 2) base= [1, 3]\n",
      "(2, 6) base= [2, 3]\n"
     ]
    }
   ],
   "source": [
    "for i in powerset(I):\n",
    "    if len(i)==2 and (( (A[:,i]).det())!=0):\n",
    "        print (A[:,i]\\b, 'base=',i)"
   ]
  },
  {
   "cell_type": "markdown",
   "metadata": {},
   "source": [
    "<p>Por ejemplo, el otuput \"(2, 2)  base= [1, 3] \" significa que para la matriz básica $B=[\\mathbf{a_2}, \\mathbf{a_4}]$, las variables básicas son $(x_2, x_4)=(2, 2)$. </p>"
   ]
  },
  {
   "cell_type": "markdown",
   "metadata": {},
   "source": [
    "<p>Ahora queremos describir las direcciones extremas para ello nos bastaba construir la matriz:</p>\n",
    "<p>$$\\left( \\!\\!\\begin{array}{c} - B^{-1}N \\\\ I \\end{array} \\!\\!\\right)$$</p>\n",
    "<p>y de ésta quedarnos con las columnas positivas.<br /><br /></p>"
   ]
  },
  {
   "cell_type": "code",
   "execution_count": 15,
   "metadata": {},
   "outputs": [
    {
     "name": "stdout",
     "output_type": "stream",
     "text": [
      "[ 2 -1]\n",
      "[ 1 -1]\n",
      "[-----]\n",
      "[ 1  0]\n",
      "[ 0  1] base= [0, 1]\n",
      "[2 1]\n",
      "[1 1]\n",
      "[---]\n",
      "[1 0]\n",
      "[0 1] base= [0, 2]\n",
      "[ 1/2 -1/2]\n",
      "[ 1/2  1/2]\n",
      "[---------]\n",
      "[   1    0]\n",
      "[   0    1] base= [1, 2]\n",
      "[ 1  1]\n",
      "[-1  1]\n",
      "[-----]\n",
      "[ 1  0]\n",
      "[ 0  1] base= [0, 3]\n",
      "[ 1 -1]\n",
      "[-1  2]\n",
      "[-----]\n",
      "[ 1  0]\n",
      "[ 0  1] base= [1, 3]\n",
      "[ 1 -1]\n",
      "[ 1 -2]\n",
      "[-----]\n",
      "[ 1  0]\n",
      "[ 0  1] base= [2, 3]\n"
     ]
    }
   ],
   "source": [
    "for i in powerset(I):\n",
    "    if (len(i)==(A.nrows())) and (((A[:,i]).det())!=0):\n",
    "        noti=[]\n",
    "        for l in I:\n",
    "            if l not in i:\n",
    "                noti.append(l)\n",
    "        B=A[:,i];N=A[:,noti];Id=identity_matrix((A.ncols()-A.nrows()))\n",
    "        bloque=copy(block_matrix([[-B^(-1)*N],[Id]]))\n",
    "        print (bloque,'base=',i)"
   ]
  },
  {
   "cell_type": "markdown",
   "metadata": {},
   "source": [
    "<p>Vamos a considerar las diferentes direcciones extremas obtenidas anteriormente, ordenadas adecuadamente y añadidas a una lista. Esto es, si tomamos las direcciones correspondientes a la \"base =[0,2]\", (es decir, $B=[\\mathbf{a}_1, \\mathbf{a}_3]$), la primera columna proporcina la dirección $(d_1,d_3,d_2,d_4)^t=(2,1,1,0)^t$ y la segunda columna $(d_1,d_3,d_2,d_4)^t=(1,1,0,1)^t$. Ordenarlas, supone escribirlas como: $(d_1,d_2,d_3,d_4)^t=(2,1,1,0)^t$ y $(d_1,d_2,d_3,d_4)^t=(1,0,1,1)^t$. Por tanto la lista de direcciones debidamente ordenadas es:</p>"
   ]
  },
  {
   "cell_type": "code",
   "execution_count": 16,
   "metadata": {},
   "outputs": [],
   "source": [
    "direcciones=[[2,1,1,0],[2,1,1,0],[1,0,1,1],[1,1/2,1/2,0],[1,0,1,1],[1,0,1,1]]"
   ]
  },
  {
   "cell_type": "code",
   "execution_count": 17,
   "metadata": {},
   "outputs": [
    {
     "data": {
      "text/html": [
       "<html><script type=\"math/tex; mode=display\">\\newcommand{\\Bold}[1]{\\mathbf{#1}}\\left(\\begin{array}{rrrr}\n",
       "2 & 1 & 1 & 0 \\\\\n",
       "2 & 1 & 1 & 0 \\\\\n",
       "1 & 0 & 1 & 1 \\\\\n",
       "1 & \\frac{1}{2} & \\frac{1}{2} & 0 \\\\\n",
       "1 & 0 & 1 & 1 \\\\\n",
       "1 & 0 & 1 & 1\n",
       "\\end{array}\\right)</script></html>"
      ],
      "text/plain": [
       "[  2   1   1   0]\n",
       "[  2   1   1   0]\n",
       "[  1   0   1   1]\n",
       "[  1 1/2 1/2   0]\n",
       "[  1   0   1   1]\n",
       "[  1   0   1   1]"
      ]
     },
     "metadata": {},
     "output_type": "display_data"
    }
   ],
   "source": [
    "matrizdirecciones=matrix(direcciones);rank(matrizdirecciones);show(matrizdirecciones)"
   ]
  },
  {
   "cell_type": "markdown",
   "metadata": {},
   "source": [
    "<p>Aunque obtuvimos 6 expresiones sólo tenemos dos direcciones extremas, al estudiar el rango de dicha matriz. Observemos que dicha matriz ya está traspuesta (contiene los vectores dirección por filas). Las filas 1, 2 y 3 proporcionan la mismna dirección extrema: $(2,1,1,0)^t$, e igualmenta las filas 3, 5 y 6 la segunda dirección extrema: $(1, 0, 1, 1)^t$. Ambas ordenadas según la secuencia $(d_1,d_2,d_3,d_4)$. </p>\n",
    "<h3>Conos y direcciones extremas</h3>\n",
    "<p>Hemos obtenido el rango de la matriz formada por todas las direcciones, pero esto en ocasiones no nos proporciona las diferentes direcciones extremas. Para entenderlo necesitasmos al menos tres dimensiones, donde podemos visualizar un cono con cuatro rayos:</p>\n",
    "<p>$$\\{(2,1,0),(1,2,0),(2,1,1),(1,2,1)\\}$$</p>\n",
    "<p>Si consideramos estas cuatro direcciones y su subespacio vectorial, tendremos dimensión:</p>"
   ]
  },
  {
   "cell_type": "code",
   "execution_count": 18,
   "metadata": {},
   "outputs": [
    {
     "data": {
      "text/plain": [
       "3"
      ]
     },
     "execution_count": 18,
     "metadata": {},
     "output_type": "execute_result"
    }
   ],
   "source": [
    "nuevamatrizdirecciones=matrix([[2,1,0],[1,2,0],[2,1,1],[1,2,1]])\n",
    "nuevamatrizdirecciones.rank()"
   ]
  },
  {
   "cell_type": "markdown",
   "metadata": {},
   "source": [
    "<p>Sin embargo generan un cono con cuatro direcciones extremas diferentes:</p>"
   ]
  },
  {
   "cell_type": "code",
   "execution_count": 19,
   "metadata": {},
   "outputs": [],
   "source": [
    "nuevocono=Cone([[2,1,0],[1,2,0],[2,1,1],[1,2,1]])"
   ]
  },
  {
   "cell_type": "code",
   "execution_count": 20,
   "metadata": {},
   "outputs": [
    {
     "data": {
      "text/plain": [
       "N(2, 1, 0),\n",
       "N(1, 2, 0),\n",
       "N(2, 1, 1),\n",
       "N(1, 2, 1)\n",
       "in 3-d lattice N"
      ]
     },
     "execution_count": 20,
     "metadata": {},
     "output_type": "execute_result"
    }
   ],
   "source": [
    "nuevocono.rays()"
   ]
  },
  {
   "cell_type": "markdown",
   "metadata": {},
   "source": [
    "<p>Repitiendo en el caso anterior, ahora con la estructura de cono, obtenemos:</p>"
   ]
  },
  {
   "cell_type": "code",
   "execution_count": 21,
   "metadata": {},
   "outputs": [],
   "source": [
    "cono=Cone(direcciones)"
   ]
  },
  {
   "cell_type": "code",
   "execution_count": 22,
   "metadata": {},
   "outputs": [
    {
     "data": {
      "text/plain": [
       "N(1, 0, 1, 1),\n",
       "N(2, 1, 1, 0)\n",
       "in 4-d lattice N"
      ]
     },
     "execution_count": 22,
     "metadata": {},
     "output_type": "execute_result"
    }
   ],
   "source": [
    "cono.rays()"
   ]
  },
  {
   "cell_type": "code",
   "execution_count": null,
   "metadata": {},
   "outputs": [],
   "source": []
  },
  {
   "cell_type": "markdown",
   "metadata": {},
   "source": [
    "<p> </p>\n",
    "<p>Si ahora estuviéramos interesados en tratar el problema:</p>\n",
    "<p>$$\\left. \\begin{array}{rl}\\min & Z(x_1, x_2)= x_1-x_2\\\\ \\mbox{s.t.} & - x_1 + x_2 \\leq 2 \\\\&  - x_1 + 2 x_2 \\leq 6 \\\\&  x_1 \\geq 0, x_2 \\geq 0 \\end{array} \\right\\}$$</p>\n",
    "<p>Estamos interesados en saber si tenemos o no solución a dicho problema. Hemos visto en teoría que si $c^t\\vec{d}\\geq 0$ para toda dirección extrema $\\vec{d}$, el problema tiene solución y se alcanza en un punto extremo, así</p>"
   ]
  },
  {
   "cell_type": "code",
   "execution_count": 23,
   "metadata": {},
   "outputs": [],
   "source": [
    "c=vector([1,-1,0,0])"
   ]
  },
  {
   "cell_type": "code",
   "execution_count": 24,
   "metadata": {},
   "outputs": [
    {
     "data": {
      "text/plain": [
       "(1, 1, 1, 1/2, 1, 1)"
      ]
     },
     "execution_count": 24,
     "metadata": {},
     "output_type": "execute_result"
    }
   ],
   "source": [
    "matrizdirecciones*c"
   ]
  },
  {
   "cell_type": "markdown",
   "metadata": {},
   "source": [
    "<p>Nuestro problema tiene solución y se alcanza en un punto extremo. Para calcular cuál, veamos cuál es el coste de los puntos extremos.</p>"
   ]
  },
  {
   "cell_type": "code",
   "execution_count": 25,
   "metadata": {},
   "outputs": [
    {
     "name": "stdout",
     "output_type": "stream",
     "text": [
      "(2, 4) base= [0, 1]\n",
      "(-6, -4) base= [0, 2]\n",
      "(3, -1) base= [1, 2]\n",
      "(-2, 4) base= [0, 3]\n",
      "(2, 2) base= [1, 3]\n",
      "(2, 6) base= [2, 3]\n"
     ]
    }
   ],
   "source": [
    "for i in powerset(I):\n",
    "    if len(i)==2 and (((A[:,i]).det())!=0):\n",
    "        print (A[:,i]\\b, 'base=',i)"
   ]
  },
  {
   "cell_type": "code",
   "execution_count": 26,
   "metadata": {},
   "outputs": [],
   "source": [
    "extremos=[[2,4,0,0],[0,2,0,2],[0,0,2,6]]"
   ]
  },
  {
   "cell_type": "code",
   "execution_count": 27,
   "metadata": {},
   "outputs": [],
   "source": [
    "matrizextremos=matrix(extremos)"
   ]
  },
  {
   "cell_type": "markdown",
   "metadata": {},
   "source": [
    "<p>Para obtener el valor de la función objetivo en cada uno de los puntos extremos, multiplicamos la matriz anterior por el vector de costes.</p>"
   ]
  },
  {
   "cell_type": "code",
   "execution_count": 28,
   "metadata": {},
   "outputs": [
    {
     "data": {
      "text/plain": [
       "(-2, -2, 0)"
      ]
     },
     "execution_count": 28,
     "metadata": {},
     "output_type": "execute_result"
    }
   ],
   "source": [
    "matrizextremos*c"
   ]
  },
  {
   "cell_type": "markdown",
   "metadata": {},
   "source": [
    "<p>Así se alcanza el mínimo en $(2,4)$ y en $(0,2)$, por tanto tenemos infinitas soluciones (toda la arista que va entre dichos puntos extremos). Si hubiésemos consideramos la función de costes $Z(x_1,x_2)=x_1-3x_2$</p>"
   ]
  },
  {
   "cell_type": "code",
   "execution_count": 29,
   "metadata": {},
   "outputs": [],
   "source": [
    "c1=vector([1,-3,0,0])"
   ]
  },
  {
   "cell_type": "code",
   "execution_count": 30,
   "metadata": {},
   "outputs": [
    {
     "data": {
      "text/plain": [
       "(-1, -1, 1, -1/2, 1, 1)"
      ]
     },
     "execution_count": 30,
     "metadata": {},
     "output_type": "execute_result"
    }
   ],
   "source": [
    "matrizdirecciones*c1"
   ]
  },
  {
   "cell_type": "markdown",
   "metadata": {},
   "source": [
    "<p>Por lo tanto no tenemos solución acotada, podemos construir una sucesión de puntos factibles $x_n$ tales que</p>\n",
    "<p>$$\\lim_{n\\to\\infty}Z(x_n)=-\\infty$$</p>\n",
    "<h3>Programación Lineal Entera y Mixta</h3>\n",
    "<p>SAGE tiene una clase especial <tt class=\"descname\">MixedIntegerLinearProgram</tt> que nos permite definir un problema de Programación Lineal con variables que pueden ser enteras, continuas o que haya variables de ambos tipos (en ese caso se suele hablar de Programación Mixta). Si seguimos considerando nuestro problema del principio, con función objetivo $Z(x_1,x_2)=x_1-x_2$, es decir,</p>\n",
    "<p>$$\\left. \\begin{array}{rl}\\min & Z(x_1, x_2)= x_1-x_2\\\\ \\mbox{s.t.} & - x_1 + x_2 \\leq 2 \\\\&  - x_1 + 2 x_2 \\leq 6 \\\\&  x_1 \\geq 0, x_2 \\geq 0 \\end{array} \\right\\}$$</p>\n",
    "<p>Lo que hacemos en primer lugar es asignar a <span style=\"font-family: courier new,courier;\"><strong>p</strong></span> la clase <tt class=\"descname\">MixedIntegerLinearProgram</tt>, por defecto se entiende que es un problema de maximización, si estamos en un caso como el nuestro de minimización, basta añadir la opción <span class=\"n\">maximization</span><span class=\"o\">=</span><span class=\"bp\">False</span>:</p>"
   ]
  },
  {
   "cell_type": "code",
   "execution_count": 31,
   "metadata": {},
   "outputs": [],
   "source": [
    "p=MixedIntegerLinearProgram(maximization=False)"
   ]
  },
  {
   "cell_type": "markdown",
   "metadata": {},
   "source": [
    "<p>Vamos a llamar a nuestras variables $x$ e $y$</p>"
   ]
  },
  {
   "cell_type": "code",
   "execution_count": 32,
   "metadata": {},
   "outputs": [],
   "source": [
    "x, y= p['x'], p['y']"
   ]
  },
  {
   "cell_type": "markdown",
   "metadata": {},
   "source": [
    "<p>Para añadir restricciones, utilizamos el método <span class=\"n\">add_constraint</span><span class=\"p\">(</span>)</p>"
   ]
  },
  {
   "cell_type": "code",
   "execution_count": 33,
   "metadata": {},
   "outputs": [],
   "source": [
    "p.add_constraint(-x + y <= 2)\n",
    "p.add_constraint(-x+2*y<=6)"
   ]
  },
  {
   "cell_type": "markdown",
   "metadata": {},
   "source": [
    "<p>Para introducir la función de coste o función objetivo basta usar el método <span class=\"n\">set_objective</span><span class=\"p\">(</span>)</p>"
   ]
  },
  {
   "cell_type": "code",
   "execution_count": 34,
   "metadata": {},
   "outputs": [],
   "source": [
    "p.set_objective(x-y)"
   ]
  },
  {
   "cell_type": "code",
   "execution_count": 35,
   "metadata": {},
   "outputs": [
    {
     "name": "stdout",
     "output_type": "stream",
     "text": [
      "Minimization:\n",
      "  x_0 - x_1 \n",
      "\n",
      "Constraints:\n",
      "  - x_0 + x_1 <= 2.0\n",
      "  - x_0 + 2.0 x_1 <= 6.0\n",
      "Variables:\n",
      "  x_0 is a continuous variable (min=-oo, max=+oo)\n",
      "  x_1 is a continuous variable (min=-oo, max=+oo)\n"
     ]
    }
   ],
   "source": [
    "p.show()"
   ]
  },
  {
   "cell_type": "markdown",
   "metadata": {},
   "source": [
    "<p>Con la versión actual de SAGE las variables por defecto no son positivas, por lo que no estamos modelando el problema de inicio.</p>\n",
    "<p>Resolvemos este problema de programación lineal con el método solve(), que nos proporcionará el valor objetivo mínimo (o máximo) y si queremos conocer el valor de las variables podemos usar get_values()</p>"
   ]
  },
  {
   "cell_type": "code",
   "execution_count": 36,
   "metadata": {},
   "outputs": [
    {
     "data": {
      "text/plain": [
       "-2.0"
      ]
     },
     "execution_count": 36,
     "metadata": {},
     "output_type": "execute_result"
    }
   ],
   "source": [
    "p.add_constraint(x>=0)\n",
    "p.add_constraint(y>=0)\n",
    "p.solve()"
   ]
  },
  {
   "cell_type": "code",
   "execution_count": 37,
   "metadata": {},
   "outputs": [
    {
     "data": {
      "text/plain": [
       "-0.0"
      ]
     },
     "execution_count": 37,
     "metadata": {},
     "output_type": "execute_result"
    }
   ],
   "source": [
    "p.get_values(x)"
   ]
  },
  {
   "cell_type": "code",
   "execution_count": 38,
   "metadata": {},
   "outputs": [
    {
     "data": {
      "text/plain": [
       "2.0"
      ]
     },
     "execution_count": 38,
     "metadata": {},
     "output_type": "execute_result"
    }
   ],
   "source": [
    "p.get_values(y)"
   ]
  },
  {
   "cell_type": "markdown",
   "metadata": {},
   "source": [
    "<p>Vamos ahora a considerar la misma región factible y cambiamos la función objetivo por $Z(x_1,x_2)=x_1-3x_2$, además introduciremos el método new_variable() que nos permite introducir un vector de variables, lo que puede ser muy útil a la hora de programar, y además nos permite añadir que dichas variables sean positivas, con la opción nonnegative=True. Aunque seguiremos la notación de clase SAGE permite el uso de cualquier nombre como variable. Por ejemplo podríamos poner \"variablemia=p1.new_variable()\"</p>"
   ]
  },
  {
   "cell_type": "code",
   "execution_count": 39,
   "metadata": {},
   "outputs": [],
   "source": [
    "p1=MixedIntegerLinearProgram(maximization=False)"
   ]
  },
  {
   "cell_type": "code",
   "execution_count": 40,
   "metadata": {},
   "outputs": [],
   "source": [
    "x=p1.new_variable(nonnegative=True)"
   ]
  },
  {
   "cell_type": "code",
   "execution_count": 41,
   "metadata": {},
   "outputs": [],
   "source": [
    "p1.add_constraint(-x[0] + x[1] <= 2)\n",
    "p1.add_constraint(-x[0]+2*x[1]<=6)"
   ]
  },
  {
   "cell_type": "code",
   "execution_count": 42,
   "metadata": {},
   "outputs": [],
   "source": [
    "p1.set_objective(x[0]-3*x[1])"
   ]
  },
  {
   "cell_type": "code",
   "execution_count": 43,
   "metadata": {},
   "outputs": [
    {
     "name": "stdout",
     "output_type": "stream",
     "text": [
      "Minimization:\n",
      "  x_0 -3.0 x_1 \n",
      "\n",
      "Constraints:\n",
      "  - x_0 + x_1 <= 2.0\n",
      "  - x_0 + 2.0 x_1 <= 6.0\n",
      "Variables:\n",
      "  x_0 is a continuous variable (min=0.0, max=+oo)\n",
      "  x_1 is a continuous variable (min=0.0, max=+oo)\n"
     ]
    }
   ],
   "source": [
    "p1.show()"
   ]
  },
  {
   "cell_type": "code",
   "execution_count": 44,
   "metadata": {},
   "outputs": [
    {
     "ename": "MIPSolverException",
     "evalue": "GLPK: The LP (relaxation) problem has no dual feasible solution",
     "output_type": "error",
     "traceback": [
      "\u001b[0;31m---------------------------------------------------------------------------\u001b[0m",
      "\u001b[0;31mMIPSolverException\u001b[0m                        Traceback (most recent call last)",
      "\u001b[0;32m<ipython-input-44-925681b506a9>\u001b[0m in \u001b[0;36m<module>\u001b[0;34m()\u001b[0m\n\u001b[0;32m----> 1\u001b[0;31m \u001b[0mp1\u001b[0m\u001b[0;34m.\u001b[0m\u001b[0msolve\u001b[0m\u001b[0;34m(\u001b[0m\u001b[0;34m)\u001b[0m\u001b[0;34m\u001b[0m\u001b[0;34m\u001b[0m\u001b[0m\n\u001b[0m",
      "\u001b[0;32m/opt/sagemath-9.1/local/lib/python3.7/site-packages/sage/numerical/mip.pyx\u001b[0m in \u001b[0;36msage.numerical.mip.MixedIntegerLinearProgram.solve (build/cythonized/sage/numerical/mip.c:15418)\u001b[0;34m()\u001b[0m\n\u001b[1;32m   2249\u001b[0m         \"\"\"\n\u001b[1;32m   2250\u001b[0m         \u001b[0;32mif\u001b[0m \u001b[0mlog\u001b[0m \u001b[0;32mis\u001b[0m \u001b[0;32mnot\u001b[0m \u001b[0;32mNone\u001b[0m\u001b[0;34m:\u001b[0m \u001b[0mself\u001b[0m\u001b[0;34m.\u001b[0m\u001b[0m_backend\u001b[0m\u001b[0;34m.\u001b[0m\u001b[0mset_verbosity\u001b[0m\u001b[0;34m(\u001b[0m\u001b[0mlog\u001b[0m\u001b[0;34m)\u001b[0m\u001b[0;34m\u001b[0m\u001b[0;34m\u001b[0m\u001b[0m\n\u001b[0;32m-> 2251\u001b[0;31m         \u001b[0mself\u001b[0m\u001b[0;34m.\u001b[0m\u001b[0m_backend\u001b[0m\u001b[0;34m.\u001b[0m\u001b[0msolve\u001b[0m\u001b[0;34m(\u001b[0m\u001b[0;34m)\u001b[0m\u001b[0;34m\u001b[0m\u001b[0;34m\u001b[0m\u001b[0m\n\u001b[0m\u001b[1;32m   2252\u001b[0m         \u001b[0;32mreturn\u001b[0m \u001b[0mself\u001b[0m\u001b[0;34m.\u001b[0m\u001b[0m_backend\u001b[0m\u001b[0;34m.\u001b[0m\u001b[0mget_objective_value\u001b[0m\u001b[0;34m(\u001b[0m\u001b[0;34m)\u001b[0m\u001b[0;34m\u001b[0m\u001b[0;34m\u001b[0m\u001b[0m\n\u001b[1;32m   2253\u001b[0m \u001b[0;34m\u001b[0m\u001b[0m\n",
      "\u001b[0;32m/opt/sagemath-9.1/local/lib/python3.7/site-packages/sage/numerical/backends/glpk_backend.pyx\u001b[0m in \u001b[0;36msage.numerical.backends.glpk_backend.GLPKBackend.solve (build/cythonized/sage/numerical/backends/glpk_backend.c:9598)\u001b[0;34m()\u001b[0m\n\u001b[1;32m   1071\u001b[0m             \u001b[0;32mpass\u001b[0m\u001b[0;34m\u001b[0m\u001b[0;34m\u001b[0m\u001b[0m\n\u001b[1;32m   1072\u001b[0m         \u001b[0;32melif\u001b[0m \u001b[0msolution_status\u001b[0m \u001b[0;34m==\u001b[0m \u001b[0mGLP_UNDEF\u001b[0m\u001b[0;34m:\u001b[0m\u001b[0;34m\u001b[0m\u001b[0;34m\u001b[0m\u001b[0m\n\u001b[0;32m-> 1073\u001b[0;31m             \u001b[0;32mraise\u001b[0m \u001b[0mMIPSolverException\u001b[0m\u001b[0;34m(\u001b[0m\u001b[0;34m\"GLPK: \"\u001b[0m\u001b[0;34m+\u001b[0m\u001b[0msolve_status_msg\u001b[0m\u001b[0;34m.\u001b[0m\u001b[0mget\u001b[0m\u001b[0;34m(\u001b[0m\u001b[0msolve_status\u001b[0m\u001b[0;34m,\u001b[0m \u001b[0;34m\"unknown error during call to GLPK : \"\u001b[0m\u001b[0;34m+\u001b[0m\u001b[0mstr\u001b[0m\u001b[0;34m(\u001b[0m\u001b[0msolve_status\u001b[0m\u001b[0;34m)\u001b[0m\u001b[0;34m)\u001b[0m\u001b[0;34m)\u001b[0m\u001b[0;34m\u001b[0m\u001b[0;34m\u001b[0m\u001b[0m\n\u001b[0m\u001b[1;32m   1074\u001b[0m         \u001b[0;32melse\u001b[0m\u001b[0;34m:\u001b[0m\u001b[0;34m\u001b[0m\u001b[0;34m\u001b[0m\u001b[0m\n\u001b[1;32m   1075\u001b[0m             \u001b[0;32mraise\u001b[0m \u001b[0mMIPSolverException\u001b[0m\u001b[0;34m(\u001b[0m\u001b[0;34m\"GLPK: \"\u001b[0m\u001b[0;34m+\u001b[0m\u001b[0msolution_status_msg\u001b[0m\u001b[0;34m.\u001b[0m\u001b[0mget\u001b[0m\u001b[0;34m(\u001b[0m\u001b[0msolution_status\u001b[0m\u001b[0;34m,\u001b[0m \u001b[0;34m\"unknown error during call to GLPK : \"\u001b[0m\u001b[0;34m+\u001b[0m\u001b[0mstr\u001b[0m\u001b[0;34m(\u001b[0m\u001b[0msolution_status\u001b[0m\u001b[0;34m)\u001b[0m\u001b[0;34m)\u001b[0m\u001b[0;34m)\u001b[0m\u001b[0;34m\u001b[0m\u001b[0;34m\u001b[0m\u001b[0m\n",
      "\u001b[0;31mMIPSolverException\u001b[0m: GLPK: The LP (relaxation) problem has no dual feasible solution"
     ]
    }
   ],
   "source": [
    "p1.solve()"
   ]
  },
  {
   "cell_type": "markdown",
   "metadata": {},
   "source": [
    "<p>Habíamos visto anteriormente que este problema no estaba acotado, por eso hemos obtenido esta respuesta. En el caso que la región factible sea vacía la respuesta de SAGE será la misma.</p>\n",
    "<h3>Modelos de programación matemática</h3>\n",
    "<h4>Problema de la dieta</h4>\n",
    "<p>El problema por excelencia de la programación lineal es el de optimización en la asignación de recursos. Un caso concreto es el conocido como el problema de la dieta. Consiste en determinar la composición de la dieta de mínimo coste que satisface la necesidades específicas de nutrientes.</p>\n",
    "<p>Consideremos el siguiente ejemplo: Se ha determinado que las necesidades mínimas diarias en la alimentación de un ternero son de 700 gr de proteínas, 28 gr de Calcio y 150 mg de vitaminas. Los alimentos disponibles son pienso y forraje con un coste unitario de 0.30 y 0.35 €/kg respectivamente. La composición nutritiva por kg de alimento se muestra en la tabla siguiente:</p>\n",
    "<table style=\"width: 244px; height: 61px; border-color: #000000; border-width: 1px; border-style: solid;\" border=\"1\" align=\"center\">\n",
    "<tbody>\n",
    "<tr>\n",
    "<td> </td>\n",
    "<td>\n",
    "<p>Proteinas(g)</p>\n",
    "</td>\n",
    "<td>Calcio (g)</td>\n",
    "<td>Vitaminas (mg)</td>\n",
    "</tr>\n",
    "<tr>\n",
    "<td>Pienso</td>\n",
    "<td>30</td>\n",
    "<td>2</td>\n",
    "<td>10</td>\n",
    "</tr>\n",
    "<tr>\n",
    "<td>Forraje </td>\n",
    "<td>45</td>\n",
    "<td>1</td>\n",
    "<td>5</td>\n",
    "</tr>\n",
    "</tbody>\n",
    "</table>\n",
    "<p>Para modelar este problema consideraremos una variable $x_i$ para cada tipo de variable, que sea la cantidad diaria de kg de ese alimento que se considera. Tenemos un coste $c_i$ del Kg cada uno de estos alimentos. Nuestro problema tiene como función objetivo minimizar el coste de dicha alimentación es decir $\\min\\sum_{i=1}^2c_ix_i$. Además tenemos restricciones dadas por las necesidades de cada uno de los nutrientes considerados, si notamos $a_{ij}$ la cantidad del nutriente $j$ en el alimento $i$ y $b_j$ la cantidad mínima diaria del nutriente $j$ dichas restricciones son una para cada tipo de nutriente y son:</p>\n",
    "<p>$$\\sum_i a_{ij}x_i\\geq b_j$$</p>\n",
    "<p>Las necesidades de nutrientes no son siempre desigualdades ($\\geq$) como la anterior, pueden ser igualdades o de tipo ($\\leq$).</p>\n",
    "<p>En nuestro ejemplo:</p>\n",
    "<p>$$\\left. \\begin{array}{rl}\\min &  0.30 x_1+0.35 x_2\\\\ \\mbox{s.t.} & 30x_1 + 45 x_2 \\geq 700 \\\\&  10 x_1 +  5 x_2 \\geq 150 \\\\ &  2 x_1 +  x_2 \\geq 28 \\\\ &  x_1 \\geq 0, x_2 \\geq 0 \\end{array} \\right\\}$$</p>"
   ]
  },
  {
   "cell_type": "code",
   "execution_count": 45,
   "metadata": {},
   "outputs": [],
   "source": [
    "p2=MixedIntegerLinearProgram(maximization=False)"
   ]
  },
  {
   "cell_type": "code",
   "execution_count": 46,
   "metadata": {},
   "outputs": [],
   "source": [
    "x=p2.new_variable(nonnegative=True)"
   ]
  },
  {
   "cell_type": "code",
   "execution_count": 47,
   "metadata": {},
   "outputs": [],
   "source": [
    "p2.add_constraint(30*x[0] + 45*x[1] >= 700)\n",
    "p2.add_constraint(10*x[0]+5*x[1]>=150)\n",
    "p2.add_constraint(2*x[0]+x[1]>=28)"
   ]
  },
  {
   "cell_type": "code",
   "execution_count": 48,
   "metadata": {},
   "outputs": [],
   "source": [
    "p2.set_objective(0.30*x[0]+0.35*x[1])"
   ]
  },
  {
   "cell_type": "code",
   "execution_count": 49,
   "metadata": {},
   "outputs": [
    {
     "data": {
      "text/plain": [
       "6.166666666666667"
      ]
     },
     "execution_count": 49,
     "metadata": {},
     "output_type": "execute_result"
    }
   ],
   "source": [
    "p2.solve()"
   ]
  },
  {
   "cell_type": "code",
   "execution_count": 50,
   "metadata": {},
   "outputs": [
    {
     "data": {
      "text/plain": [
       "10.833333333333337"
      ]
     },
     "execution_count": 50,
     "metadata": {},
     "output_type": "execute_result"
    }
   ],
   "source": [
    "p2.get_values(x[0])"
   ]
  },
  {
   "cell_type": "code",
   "execution_count": 51,
   "metadata": {},
   "outputs": [
    {
     "data": {
      "text/plain": [
       "8.33333333333333"
      ]
     },
     "execution_count": 51,
     "metadata": {},
     "output_type": "execute_result"
    }
   ],
   "source": [
    "p2.get_values(x[1])"
   ]
  },
  {
   "cell_type": "markdown",
   "metadata": {},
   "source": [
    "También podemos pedir todas las soluciones:"
   ]
  },
  {
   "cell_type": "code",
   "execution_count": 52,
   "metadata": {},
   "outputs": [
    {
     "data": {
      "text/plain": [
       "{0: 10.833333333333337, 1: 8.33333333333333}"
      ]
     },
     "execution_count": 52,
     "metadata": {},
     "output_type": "execute_result"
    }
   ],
   "source": [
    "p2.get_values(x)"
   ]
  },
  {
   "cell_type": "code",
   "execution_count": 1,
   "metadata": {},
   "outputs": [
    {
     "data": {
      "text/html": [
       "<center><h4>E.T.S.I.I. - GRADO I.I. TECNOLOGÍAS INFORMÁTICAS</h4></center><center><h4>Matemática Aplicada a Sistemas de Información - TERCERA PRÁCTICA DE LABORATORIO</h4></center><hr  align=center><center>APELLIDOS, NOMBRE: <INPUT value= \"\",type=text size=70> <INPUT type=submit value=17-10FE2><hr  align=center></center><hr  align=center><b> <span style=\"color: #0000ff;\">EJERCICIO 1 </span></b><br> Consideremos la región factible descrita por <script type=\"math/tex; mode=display\">\\begin{array}{llll} 3 x_1 & + 5 x_2 & -3 x_3 & \\geq 2 \\\\  2 x_1 & -6 x_2 & +x_3 & \\leq -2 \\\\ -x_1& +2x_2 & +7x_3 & \\leq 3 \\\\ x_1 & & +4x_3 & \\geq 6 \\\\  x_1 \\geq 0, & x_2 \\geq 0, & x_3 \\geq 0 \\end{array}</script><ol><li>La región factible tiene como puntos extremos:</li><li>La región factible tiene como direcciones extremas:</li><li>Si queremos <script type=\"math/tex\">\\min x_1 -3 x_2 +x_3</script> en nuestra región <script type=\"math/tex\">S</script>.¿Existe solución óptima?</li></ol>Marcar la respuesta correcta.<br><hr  align=center><b> <span style=\"color: #ff0000;\">Respuesta al apartado 1 </span></b><br><br> <table style=\" width:100%\"> <tr> <td style=\"border:none; text-align:left\">1.<input type=checkbox> Hay 7 puntos extremos    </td> <td style=\"border:none; text-align:left\">2.<input type=checkbox> Hay 4 puntos extremos    </td> </tr> <tr> <td style=\"border:none; text-align:left\">3.<input type=checkbox> Hay 3 puntos extremos    </td> <td style=\"border:none; text-align:left\">4.<input type=checkbox> No hay ningún punto extremo    </td> </tr> </table><br><br><b> <span style=\"color: #ff0000;\">Respuesta al apartado 2 </span></b><br><br> <table style=\" width:100%\"> <tr> <td style=\"border:none; text-align:left\">1.<input type=checkbox> Hay 1 dirección extrema    </td> <td style=\"border:none; text-align:left\">2.<input type=checkbox> Hay 3 direcciones extremas    </td> </tr> <tr> <td style=\"border:none; text-align:left\">3.<input type=checkbox> No hay ninguna dirección extrema    </td> <td style=\"border:none; text-align:left\">4.<input type=checkbox> Hay 4 direcciones extremas    </td> </tr> </table><br><br><b> <span style=\"color: #ff0000;\">Respuesta al apartado 3 </span></b><br><br> 1.<input type=checkbox> No existe solución óptima acotada \n",
       " <br> 2.<input type=checkbox> Existe solución óptima única <script type=\"math/tex\">(x_1,x_2,x_3)=(4, \\frac{7}{4}, \\frac{1}{2})</script> \n",
       " <br> 3.<input type=checkbox> El problema es infactible <br> 4.<input type=checkbox> Ninguna de las otras respuestas.<br><br><hr  align=center><b> <span style=\"color: #0000ff;\">EJERCICIO 2 </span></b><br> En un centro de nutrición se desea obtener la dieta de coste mínimo \n",
       " con unos determinados requisitos vitamínicos para un grupo de niños que van a \n",
       " asistir a campamentos de verano. El especialista estima que la dieta debe \n",
       " contener entre 26 y 32 mg de vitamina A, al menos 25 mg de vitamina B,\n",
       " exactamente 30 mg de C, y a lo sumo 14 de vitamina D. La tabla nos da el \n",
       " número de mg de las distintas vitaminas por ración de alimento \n",
       " consumido para seis alimentos elegidos, denominados 1, 2, 3, 4, 5 y 6, así \n",
       " como su coste por ración <script type=\"math/tex; mode=display\">\\begin{array}{cccccc} \\mbox{Alimento} & \\mbox{Vit A} & \\mbox{Vit B}& \\mbox{Vit C}& \\mbox{Vit D}& \\mbox{Coste} \\\\  1& 1 & 1 & 0& 1 & 10\\\\ 2& 1 & 2 & 1& 0& 14 \\\\3& 0& 1 & 1 & 0 & 10 \\\\ 4& 2 &1 &0&1& 15\\\\ 5& 2& 1& 1 &0& 18 \\\\ 6& 1 &0&2 &1 &16 \\end{array}</script><ol><li>El valor óptimo de la función objetivo es:</li><li>Los dos alimentos de los que se toman más raciones para tener un coste mínimo son:</li><li>El nutricionista quiere añadir que se tome al menos 5 mg de Vitamina D \n",
       " ¿Cambia el coste óptimo de la función objetivo?</li><li>Los organizadores estiman que junto con las condiciones del enunciado se deben \n",
       " asegurar un mínimo de 25 raciones entre todos los alimentos, \n",
       " ¿se consume el alimento 1 en la solución óptima?</li></ol>Marcar la respuesta correcta.<br><hr  align=center><b> <span style=\"color: #ff0000;\">Respuesta al apartado 1 </span></b><br><br> <table style=\" width:100%\"> <tr> <td style=\"border:none; text-align:left\">1.<input type=checkbox> <script type=\"math/tex\">Z=341.6</script>    </td> <td style=\"border:none; text-align:left\">2.<input type=checkbox> <script type=\"math/tex\">Z=304.0</script>    </td> </tr> <tr> <td style=\"border:none; text-align:left\">3.<input type=checkbox> <script type=\"math/tex\">Z=337.625</script>    </td> <td style=\"border:none; text-align:left\">4.<input type=checkbox> Ninguna de las otras respuestas.    </td> </tr> </table><br><br><b> <span style=\"color: #ff0000;\">Respuesta al apartado 2 </span></b><br><br> 1.<input type=checkbox> Alimento 5: 11.0 y Alimento 2: 3.9999999999999996 <br> 2.<input type=checkbox> Alimento 6: 9.125 y Alimento 2: 6.625 <br> 3.<input type=checkbox> Alimento 2: 10.6 y Alimento 6: 7.8 <br> 4.<input type=checkbox> Alimento 3: 10.666666666666666 y Alimento 5: 8.333333333333334<br><br><b> <span style=\"color: #ff0000;\">Respuesta al apartado 3 </span></b><br><br> <table style=\" width:100%\"> <tr> <td style=\"border:none; text-align:left\">1.<input type=checkbox> Sí, el nuevo coste es <script type=\"math/tex\">Z=309.0</script>    </td> <td style=\"border:none; text-align:left\">2.<input type=checkbox> Sí, el nuevo coste es <script type=\"math/tex\">Z=351.28571428571433</script>    </td> </tr> <tr> <td style=\"border:none; text-align:left\">3.<input type=checkbox> No cambia el coste    </td> <td style=\"border:none; text-align:left\">4.<input type=checkbox> Sí, el nuevo coste es <script type=\"math/tex\">Z=324.16666666666663</script>    </td> </tr> </table><br><br><b> <span style=\"color: #ff0000;\">Respuesta al apartado 4 </span></b><br><br> <table style=\" width:100%\"> <tr> <td style=\"border:none; text-align:left\">1.<input type=checkbox> Sí, se consumen 4.5 raciones    </td> <td style=\"border:none; text-align:left\">2.<input type=checkbox> Sí, se consumen 10.0 raciones    </td> </tr> <tr> <td style=\"border:none; text-align:left\">3.<input type=checkbox> Sí, se consumen 1.166666666666667 raciones    </td> <td style=\"border:none; text-align:left\">4.<input type=checkbox> Sí, se consumen 1.9999999999999976 raciones    </td> </tr> </table><br><br><hr  align=center><center><span style=\"font-size: x-small;\"> Final del documento </span></center>"
      ],
      "text/plain": [
       "<center><h4>E.T.S.I.I. - GRADO I.I. TECNOLOGÍAS INFORMÁTICAS</h4></center><center><h4>Matemática Aplicada a Sistemas de Información - TERCERA PRÁCTICA DE LABORATORIO</h4></center><hr  align=center><center>APELLIDOS, NOMBRE: <INPUT value= \"\",type=text size=70> <INPUT type=submit value=17-10FE2><hr  align=center></center><hr  align=center><b> <span style=\"color: #0000ff;\">EJERCICIO 1 </span></b><br> Consideremos la región factible descrita por <script type=\"math/tex; mode=display\">\\begin{array}{llll} 3 x_1 & + 5 x_2 & -3 x_3 & \\geq 2 \\\\  2 x_1 & -6 x_2 & +x_3 & \\leq -2 \\\\ -x_1& +2x_2 & +7x_3 & \\leq 3 \\\\ x_1 & & +4x_3 & \\geq 6 \\\\  x_1 \\geq 0, & x_2 \\geq 0, & x_3 \\geq 0 \\end{array}</script><ol><li>La región factible tiene como puntos extremos:</li><li>La región factible tiene como direcciones extremas:</li><li>Si queremos <script type=\"math/tex\">\\min x_1 -3 x_2 +x_3</script> en nuestra región <script type=\"math/tex\">S</script>.¿Existe solución óptima?</li></ol>Marcar la respuesta correcta.<br><hr  align=center><b> <span style=\"color: #ff0000;\">Respuesta al apartado 1 </span></b><br><br> <table style=\" width:100%\"> <tr> <td style=\"border:none; text-align:left\">1.<input type=checkbox> Hay 7 puntos extremos    </td> <td style=\"border:none; text-align:left\">2.<input type=checkbox> Hay 4 puntos extremos    </td> </tr> <tr> <td style=\"border:none; text-align:left\">3.<input type=checkbox> Hay 3 puntos extremos    </td> <td style=\"border:none; text-align:left\">4.<input type=checkbox> No hay ningún punto extremo    </td> </tr> </table><br><br><b> <span style=\"color: #ff0000;\">Respuesta al apartado 2 </span></b><br><br> <table style=\" width:100%\"> <tr> <td style=\"border:none; text-align:left\">1.<input type=checkbox> Hay 1 dirección extrema    </td> <td style=\"border:none; text-align:left\">2.<input type=checkbox> Hay 3 direcciones extremas    </td> </tr> <tr> <td style=\"border:none; text-align:left\">3.<input type=checkbox> No hay ninguna dirección extrema    </td> <td style=\"border:none; text-align:left\">4.<input type=checkbox> Hay 4 direcciones extremas    </td> </tr> </table><br><br><b> <span style=\"color: #ff0000;\">Respuesta al apartado 3 </span></b><br><br> 1.<input type=checkbox> No existe solución óptima acotada \n",
       " <br> 2.<input type=checkbox> Existe solución óptima única <script type=\"math/tex\">(x_1,x_2,x_3)=(4, \\frac{7}{4}, \\frac{1}{2})</script> \n",
       " <br> 3.<input type=checkbox> El problema es infactible <br> 4.<input type=checkbox> Ninguna de las otras respuestas.<br><br><hr  align=center><b> <span style=\"color: #0000ff;\">EJERCICIO 2 </span></b><br> En un centro de nutrición se desea obtener la dieta de coste mínimo \n",
       " con unos determinados requisitos vitamínicos para un grupo de niños que van a \n",
       " asistir a campamentos de verano. El especialista estima que la dieta debe \n",
       " contener entre 26 y 32 mg de vitamina A, al menos 25 mg de vitamina B,\n",
       " exactamente 30 mg de C, y a lo sumo 14 de vitamina D. La tabla nos da el \n",
       " número de mg de las distintas vitaminas por ración de alimento \n",
       " consumido para seis alimentos elegidos, denominados 1, 2, 3, 4, 5 y 6, así \n",
       " como su coste por ración <script type=\"math/tex; mode=display\">\\begin{array}{cccccc} \\mbox{Alimento} & \\mbox{Vit A} & \\mbox{Vit B}& \\mbox{Vit C}& \\mbox{Vit D}& \\mbox{Coste} \\\\  1& 1 & 1 & 0& 1 & 10\\\\ 2& 1 & 2 & 1& 0& 14 \\\\3& 0& 1 & 1 & 0 & 10 \\\\ 4& 2 &1 &0&1& 15\\\\ 5& 2& 1& 1 &0& 18 \\\\ 6& 1 &0&2 &1 &16 \\end{array}</script><ol><li>El valor óptimo de la función objetivo es:</li><li>Los dos alimentos de los que se toman más raciones para tener un coste mínimo son:</li><li>El nutricionista quiere añadir que se tome al menos 5 mg de Vitamina D \n",
       " ¿Cambia el coste óptimo de la función objetivo?</li><li>Los organizadores estiman que junto con las condiciones del enunciado se deben \n",
       " asegurar un mínimo de 25 raciones entre todos los alimentos, \n",
       " ¿se consume el alimento 1 en la solución óptima?</li></ol>Marcar la respuesta correcta.<br><hr  align=center><b> <span style=\"color: #ff0000;\">Respuesta al apartado 1 </span></b><br><br> <table style=\" width:100%\"> <tr> <td style=\"border:none; text-align:left\">1.<input type=checkbox> <script type=\"math/tex\">Z=341.6</script>    </td> <td style=\"border:none; text-align:left\">2.<input type=checkbox> <script type=\"math/tex\">Z=304.0</script>    </td> </tr> <tr> <td style=\"border:none; text-align:left\">3.<input type=checkbox> <script type=\"math/tex\">Z=337.625</script>    </td> <td style=\"border:none; text-align:left\">4.<input type=checkbox> Ninguna de las otras respuestas.    </td> </tr> </table><br><br><b> <span style=\"color: #ff0000;\">Respuesta al apartado 2 </span></b><br><br> 1.<input type=checkbox> Alimento 5: 11.0 y Alimento 2: 3.9999999999999996 <br> 2.<input type=checkbox> Alimento 6: 9.125 y Alimento 2: 6.625 <br> 3.<input type=checkbox> Alimento 2: 10.6 y Alimento 6: 7.8 <br> 4.<input type=checkbox> Alimento 3: 10.666666666666666 y Alimento 5: 8.333333333333334<br><br><b> <span style=\"color: #ff0000;\">Respuesta al apartado 3 </span></b><br><br> <table style=\" width:100%\"> <tr> <td style=\"border:none; text-align:left\">1.<input type=checkbox> Sí, el nuevo coste es <script type=\"math/tex\">Z=309.0</script>    </td> <td style=\"border:none; text-align:left\">2.<input type=checkbox> Sí, el nuevo coste es <script type=\"math/tex\">Z=351.28571428571433</script>    </td> </tr> <tr> <td style=\"border:none; text-align:left\">3.<input type=checkbox> No cambia el coste    </td> <td style=\"border:none; text-align:left\">4.<input type=checkbox> Sí, el nuevo coste es <script type=\"math/tex\">Z=324.16666666666663</script>    </td> </tr> </table><br><br><b> <span style=\"color: #ff0000;\">Respuesta al apartado 4 </span></b><br><br> <table style=\" width:100%\"> <tr> <td style=\"border:none; text-align:left\">1.<input type=checkbox> Sí, se consumen 4.5 raciones    </td> <td style=\"border:none; text-align:left\">2.<input type=checkbox> Sí, se consumen 10.0 raciones    </td> </tr> <tr> <td style=\"border:none; text-align:left\">3.<input type=checkbox> Sí, se consumen 1.166666666666667 raciones    </td> <td style=\"border:none; text-align:left\">4.<input type=checkbox> Sí, se consumen 1.9999999999999976 raciones    </td> </tr> </table><br><br><hr  align=center><center><span style=\"font-size: x-small;\"> Final del documento </span></center>"
      ]
     },
     "metadata": {},
     "output_type": "display_data"
    }
   ],
   "source": [
    "NUMERO_ALUMNO=17\n",
    "\n",
    "NOMBRE_FICHERO_EXAMEN = 'Ex_PL3_MASI_t.htl'\n",
    "load('codigo_examinar_html.sage')\n",
    "\n",
    "if NUMERO_ALUMNO > 0:\n",
    "    lector_examenes(NOMBRE_FICHERO_EXAMEN,NUMERO_ALUMNO,False)"
   ]
  },
  {
   "cell_type": "code",
   "execution_count": null,
   "metadata": {},
   "outputs": [],
   "source": [
    "# EJERCICIO 1"
   ]
  },
  {
   "cell_type": "code",
   "execution_count": null,
   "metadata": {},
   "outputs": [],
   "source": [
    "# APARTADO 1\n",
    "'''\n",
    "La región factible tiene como puntos extremos:\n",
    "1. Hay 7 puntos extremos\t2. Hay 8 puntos extremos\n",
    "3. Hay 6 puntos extremos\t4. Hay 3 puntos extremos\n",
    "'''"
   ]
  },
  {
   "cell_type": "code",
   "execution_count": 2,
   "metadata": {},
   "outputs": [
    {
     "data": {
      "text/html": [
       "<html><script type=\"math/tex; mode=display\">\\newcommand{\\Bold}[1]{\\mathbf{#1}}\\left[\\begin{array}{rrrrrrr}\n",
       "3 & 5 & -3 & -1 & 0 & 0 & 0 \\\\\n",
       "2 & -6 & 1 & 0 & 1 & 0 & 0 \\\\\n",
       "-1 & 2 & 7 & 0 & 0 & 1 & 0 \\\\\n",
       "1 & 0 & 4 & 0 & 0 & 0 & -1\n",
       "\\end{array}\\right]</script></html>"
      ],
      "text/plain": [
       "[ 3  5 -3 -1  0  0  0]\n",
       "[ 2 -6  1  0  1  0  0]\n",
       "[-1  2  7  0  0  1  0]\n",
       "[ 1  0  4  0  0  0 -1]"
      ]
     },
     "metadata": {},
     "output_type": "display_data"
    },
    {
     "data": {
      "text/html": [
       "<html><script type=\"math/tex; mode=display\">\\newcommand{\\Bold}[1]{\\mathbf{#1}}\\left(2,\\,-2,\\,3,\\,6\\right)</script></html>"
      ],
      "text/plain": [
       "(2, -2, 3, 6)"
      ]
     },
     "metadata": {},
     "output_type": "display_data"
    }
   ],
   "source": [
    "# Convertir a forma estandar: una incognita mas por ec. (variables de holgura) y cambian los signos según la desigualdad:\n",
    "'''\n",
    "3x1 + 5x2 - 3x3 + x4 = 2\n",
    "2x1 - 6x2 + x3 + x5 = -2\n",
    "-x1 + 2x2 + 7x3 - x6 = 3\n",
    "x1 + 0x2 + 4x3 + x7 = 6\n",
    "'''\n",
    "\n",
    "A=matrix([[3,5,-3,-1,0,0,0],[2,-6,1,0,1,0,0],[-1,2,7,0,0,1,0],[1,0,4,0,0,0,-1]])\n",
    "b=vector([2,-2,3,6])\n",
    "show(A)\n",
    "show(b)"
   ]
  },
  {
   "cell_type": "code",
   "execution_count": 3,
   "metadata": {},
   "outputs": [
    {
     "data": {
      "text/plain": [
       "(4, 7/4, 1/2, 69/4, 0, 0, 0)"
      ]
     },
     "execution_count": 3,
     "metadata": {},
     "output_type": "execute_result"
    }
   ],
   "source": [
    "# Resolver el sistema:\n",
    "A.solve_right(b)"
   ]
  },
  {
   "cell_type": "code",
   "execution_count": 4,
   "metadata": {},
   "outputs": [
    {
     "data": {
      "text/plain": [
       "(4, 7/4, 1/2, 69/4, 0, 0, 0)"
      ]
     },
     "execution_count": 4,
     "metadata": {},
     "output_type": "execute_result"
    }
   ],
   "source": [
    "# De otra manera:\n",
    "A\\b"
   ]
  },
  {
   "cell_type": "code",
   "execution_count": 5,
   "metadata": {},
   "outputs": [
    {
     "data": {
      "text/plain": [
       "range(0, 7)"
      ]
     },
     "execution_count": 5,
     "metadata": {},
     "output_type": "execute_result"
    }
   ],
   "source": [
    "# Rango de la matriz:\n",
    "I=range(A.ncols())\n",
    "I\n",
    "\n",
    "# Obtener matriz cuadrada:\n",
    "# A[:,0:4]"
   ]
  },
  {
   "cell_type": "code",
   "execution_count": 6,
   "metadata": {},
   "outputs": [
    {
     "name": "stdout",
     "output_type": "stream",
     "text": [
      "Rango:  4\n",
      "Nº filas:  4\n",
      "Nº columnas:  7\n"
     ]
    }
   ],
   "source": [
    "# Ranks:\n",
    "print(\"Rango: \", rank(A))\n",
    "print(\"Nº filas: \", A.nrows())\n",
    "print(\"Nº columnas: \", A.ncols())"
   ]
  },
  {
   "cell_type": "code",
   "execution_count": 7,
   "metadata": {},
   "outputs": [],
   "source": [
    "for i in powerset(I):\n",
    "    i"
   ]
  },
  {
   "cell_type": "code",
   "execution_count": 8,
   "metadata": {},
   "outputs": [
    {
     "name": "stdout",
     "output_type": "stream",
     "text": [
      "1 (4, 7/4, 1/2, 69/4) base= [0, 1, 2, 3]\n",
      "2 (202/85, -41/85, 77/85, -897/85) base= [0, 1, 2, 4]\n",
      "3 (6, 9/2, 77/2, 13) base= [0, 1, 3, 4]\n",
      "4 (30/11, 9/11, 41/11, -91/11) base= [0, 2, 3, 4]\n",
      "5 (-15/4, 3/2, -101/4, -26) base= [1, 2, 3, 4]\n",
      "6 (86/125, 98/125, 166/125, -897/125) base= [0, 1, 2, 5]\n",
      "7 (6, 7/3, 83/3, 13/3) base= [0, 1, 3, 5]\n",
      "8 (-2, 2, -14, -13) base= [0, 2, 3, 5]\n",
      "9 (7/12, 3/2, -43/12, -26/3) base= [1, 2, 3, 5]\n",
      "10 (6, -16/5, -166/5, 77/5) base= [0, 1, 4, 5]\n",
      "11 (26/15, 16/15, -98/15, -41/15) base= [0, 2, 4, 5]\n",
      "12 (13/10, 3/2, 43/10, -101/10) base= [1, 2, 4, 5]\n",
      "13 (6, 16, -14, 9) base= [0, 3, 4, 5]\n",
      "14 (3/2, -13/2, -7/2, -15/2) base= [2, 3, 4, 5]\n",
      "15 (15/67, 31/67, 22/67, -299/67) base= [0, 1, 2, 6]\n",
      "16 (-7, -2, -33, -13) base= [0, 1, 3, 6]\n",
      "17 (-17/15, 4/15, -31/5, -91/15) base= [0, 2, 3, 6]\n",
      "18 (17/44, 7/22, -45/44, -52/11) base= [1, 2, 3, 6]\n",
      "19 (-1, 1, 6, -7) base= [0, 1, 4, 6]\n",
      "20 (23/18, 11/18, -31/6, -41/18) base= [0, 2, 4, 6]\n",
      "21 (23/41, 11/41, 45/41, -202/41) base= [1, 2, 4, 6]\n",
      "22 (-3, -11, 4, -9) base= [0, 3, 4, 6]\n",
      "23 (3/2, 11/2, 7, -6) base= [1, 3, 4, 6]\n",
      "24 (3/7, -23/7, -17/7, -30/7) base= [2, 3, 4, 6]\n",
      "25 (1/14, 5/14, 33/14, -83/14) base= [0, 1, 5, 6]\n",
      "26 (-4/9, -10/9, 31/3, -98/9) base= [0, 2, 5, 6]\n",
      "27 (4/13, -2/13, 45/13, -86/13) base= [1, 2, 5, 6]\n",
      "28 (-1, -5, 2, -7) base= [0, 3, 5, 6]\n",
      "29 (1/3, -1/3, 7/3, -6) base= [1, 3, 5, 6]\n",
      "30 (-2, 4, 17, -14) base= [2, 3, 5, 6]\n",
      "31 (2/3, -10/3, 11/3, -16/3) base= [0, 4, 5, 6]\n",
      "32 (2/5, 2/5, 11/5, -6) base= [1, 4, 5, 6]\n",
      "33 (-2/3, -4/3, 23/3, -26/3) base= [2, 4, 5, 6]\n",
      "34 (-2, -2, 3, -6) base= [3, 4, 5, 6]\n"
     ]
    }
   ],
   "source": [
    "# Subconjuntos de i elementos: solo contamos los que todo su paréntesis sea formado por nºs positivos:\n",
    "'''\n",
    "Es decir, aquí:\n",
    "4 (30/11, 9/11, -41/11, -91/11) base= [0, 2, 3, 4]\n",
    "5 (-15/4, 3/2, 101/4, -26) base= [1, 2, 3, 4]\n",
    "6 (86/125, 98/125, 166/125, 897/125) base= [0, 1, 2, 5]\n",
    "7 (6, 7/3, -83/3, -13/3) base= [0, 1, 3, 5]\n",
    "Solo hay 1 punto extremo (el 6).\n",
    "'''\n",
    "\n",
    "j = 0\n",
    "for i in powerset(I):\n",
    "    if len(i)==4 and (( (A[:,i]).det())!=0):\n",
    "        j = j+1\n",
    "        print (j, A[:,i]\\b, 'base=',i)"
   ]
  },
  {
   "cell_type": "code",
   "execution_count": null,
   "metadata": {},
   "outputs": [],
   "source": [
    "# APARTADO 2\n",
    "'''\n",
    "La región factible tiene como direcciones extremas:\n",
    "1. Hay 2 direcciones extremas\t2. Hay 5 direcciones extremas\n",
    "3. No hay ninguna dirección extrema\t4. Hay 3 direcciones extremas\n",
    "'''"
   ]
  },
  {
   "cell_type": "code",
   "execution_count": 9,
   "metadata": {},
   "outputs": [
    {
     "name": "stdout",
     "output_type": "stream",
     "text": [
      "[  2/13   6/13  11/13]\n",
      "[ 11/52   7/52  15/52]\n",
      "[ -1/26  -3/26   1/26]\n",
      "[ 85/52 125/52 201/52]\n",
      "[--------------------]\n",
      "[     1      0      0]\n",
      "[     0      1      0]\n",
      "[     0      0      1] base= [0, 1, 2, 3]\n",
      "[   8/85    4/17   41/85]\n",
      "[  11/85   -3/17  -18/85]\n",
      "[  -2/85   -1/17   11/85]\n",
      "[  52/85  -25/17 -201/85]\n",
      "[-----------------------]\n",
      "[      1       0       0]\n",
      "[      0       1       0]\n",
      "[      0       0       1] base= [0, 1, 2, 4]\n",
      "[   -4     0     1]\n",
      "[-11/2  -1/2   1/2]\n",
      "[-85/2  -5/2  11/2]\n",
      "[  -26    -3     1]\n",
      "[-----------------]\n",
      "[    1     0     0]\n",
      "[    0     1     0]\n",
      "[    0     0     1] base= [0, 1, 3, 4]\n",
      "[  8/11   4/11   7/11]\n",
      "[ -2/11  -1/11   1/11]\n",
      "[ 85/11  15/11  18/11]\n",
      "[ 52/11  -7/11 -15/11]\n",
      "[--------------------]\n",
      "[     1      0      0]\n",
      "[     0      1      0]\n",
      "[     0      0      1] base= [0, 2, 3, 4]\n",
      "[ 11/8  -1/2  -7/8]\n",
      "[ -1/4     0   1/4]\n",
      "[ 85/8  -5/2 -41/8]\n",
      "[ 13/2    -3 -11/2]\n",
      "[-----------------]\n",
      "[    1     0     0]\n",
      "[    0     1     0]\n",
      "[    0     0     1] base= [1, 2, 3, 4]\n",
      "[  24/125    -4/25   13/125]\n",
      "[   7/125     3/25    9/125]\n",
      "[  -6/125     1/25   28/125]\n",
      "[  52/125   -17/25 -201/125]\n",
      "[--------------------------]\n",
      "[       1        0        0]\n",
      "[       0        1        0]\n",
      "[       0        0        1] base= [0, 1, 2, 5]\n",
      "[    -4      0      1]\n",
      "[  -7/6    1/6    1/3]\n",
      "[-125/6    5/6   14/3]\n",
      "[ -26/3   -1/3    1/3]\n",
      "[--------------------]\n",
      "[     1      0      0]\n",
      "[     0      1      0]\n",
      "[     0      0      1] base= [0, 1, 3, 5]\n",
      "[ 24/7  -4/7  -1/7]\n",
      "[ -6/7   1/7   2/7]\n",
      "[125/7 -15/7  -9/7]\n",
      "[ 52/7 -11/7 -15/7]\n",
      "[-----------------]\n",
      "[    1     0     0]\n",
      "[    0     1     0]\n",
      "[    0     0     1] base= [0, 2, 3, 5]\n",
      "[  7/24    1/6   1/24]\n",
      "[  -1/4      0    1/4]\n",
      "[125/24    5/6 -13/24]\n",
      "[  13/6   -1/3  -11/6]\n",
      "[--------------------]\n",
      "[     1      0      0]\n",
      "[     0      1      0]\n",
      "[     0      0      1] base= [1, 2, 3, 5]\n",
      "[   -4     0     1]\n",
      "[    3   1/5  -3/5]\n",
      "[   25   6/5 -28/5]\n",
      "[  -17  -2/5  11/5]\n",
      "[-----------------]\n",
      "[    1     0     0]\n",
      "[    0     1     0]\n",
      "[    0     0     1] base= [0, 1, 4, 5]\n",
      "[ -4/3  4/15   1/5]\n",
      "[  1/3 -1/15   1/5]\n",
      "[ 25/3 -7/15  -3/5]\n",
      "[-17/3 11/15  -6/5]\n",
      "[-----------------]\n",
      "[    1     0     0]\n",
      "[    0     1     0]\n",
      "[    0     0     1] base= [0, 2, 4, 5]\n",
      "[  -3/4    1/5   3/20]\n",
      "[  -1/4      0    1/4]\n",
      "[ -25/4    6/5  13/20]\n",
      "[  17/4   -2/5 -41/20]\n",
      "[--------------------]\n",
      "[     1      0      0]\n",
      "[     0      1      0]\n",
      "[     0      0      1] base= [1, 2, 4, 5]\n",
      "[  0  -4   1]\n",
      "[  5 -15   3]\n",
      "[  6   7  -2]\n",
      "[ -2 -11   1]\n",
      "[-----------]\n",
      "[  1   0   0]\n",
      "[  0   1   0]\n",
      "[  0   0   1] base= [0, 3, 4, 5]\n",
      "[-1/4    0  1/4]\n",
      "[15/4    5 -3/4]\n",
      "[-7/4    6 -1/4]\n",
      "[11/4   -2 -7/4]\n",
      "[--------------]\n",
      "[   1    0    0]\n",
      "[   0    1    0]\n",
      "[   0    0    1] base= [2, 3, 4, 5]\n",
      "[  44/201  -41/201  -13/201]\n",
      "[    5/67     6/67    -3/67]\n",
      "[   2/201  -11/201  -28/201]\n",
      "[  52/201  -85/201 -125/201]\n",
      "[--------------------------]\n",
      "[       1        0        0]\n",
      "[       0        1        0]\n",
      "[       0        0        1] base= [0, 1, 2, 6]\n",
      "[   22     1     3]\n",
      "[ 15/2   1/2     1]\n",
      "[201/2  11/2    14]\n",
      "[   26     1     3]\n",
      "[-----------------]\n",
      "[    1     0     0]\n",
      "[    0     1     0]\n",
      "[    0     0     1] base= [0, 1, 3, 6]\n",
      "[ 44/15  -7/15   1/15]\n",
      "[  2/15  -1/15  -2/15]\n",
      "[  67/5   -6/5    3/5]\n",
      "[ 52/15 -11/15  -7/15]\n",
      "[--------------------]\n",
      "[     1      0      0]\n",
      "[     0      1      0]\n",
      "[     0      0      1] base= [0, 2, 3, 6]\n",
      "[ 15/44   7/44  -1/44]\n",
      "[  1/22  -1/22  -3/22]\n",
      "[201/44  41/44  13/44]\n",
      "[ 13/11  -2/11  -6/11]\n",
      "[--------------------]\n",
      "[     1      0      0]\n",
      "[     0      1      0]\n",
      "[     0      0      1] base= [1, 2, 3, 6]\n",
      "[  41/11    2/11    5/11]\n",
      "[ -18/11    1/11   -3/11]\n",
      "[-201/11    2/11  -28/11]\n",
      "[  85/11    2/11    5/11]\n",
      "[-----------------------]\n",
      "[      1       0       0]\n",
      "[      0       1       0]\n",
      "[      0       0       1] base= [0, 1, 4, 6]\n",
      "[-41/18   7/18   -1/6]\n",
      "[-11/18   1/18   -1/6]\n",
      "[  67/6   -5/6    1/2]\n",
      "[-85/18  11/18   -5/6]\n",
      "[--------------------]\n",
      "[     1      0      0]\n",
      "[     0      1      0]\n",
      "[     0      0      1] base= [0, 2, 4, 6]\n",
      "[ -18/41    7/41   -3/41]\n",
      "[  11/41   -2/41   -5/41]\n",
      "[-201/41   44/41  -13/41]\n",
      "[  85/41   -8/41  -20/41]\n",
      "[-----------------------]\n",
      "[      1       0       0]\n",
      "[      0       1       0]\n",
      "[      0       0       1] base= [1, 2, 4, 6]\n",
      "[  2   7   1]\n",
      "[ 11  18   3]\n",
      "[  2 -15  -2]\n",
      "[  2  11   1]\n",
      "[-----------]\n",
      "[  1   0   0]\n",
      "[  0   1   0]\n",
      "[  0   0   1] base= [0, 3, 4, 6]\n",
      "[  1/2  -7/2  -1/2]\n",
      "[ 11/2 -41/2  -5/2]\n",
      "[    1   -22    -3]\n",
      "[    1     4     0]\n",
      "[-----------------]\n",
      "[    1     0     0]\n",
      "[    0     1     0]\n",
      "[    0     0     1] base= [1, 3, 4, 6]\n",
      "[  1/7  -2/7  -1/7]\n",
      "[ 18/7  41/7   3/7]\n",
      "[-15/7  44/7   1/7]\n",
      "[ 11/7  -8/7  -4/7]\n",
      "[-----------------]\n",
      "[    1     0     0]\n",
      "[    0     1     0]\n",
      "[    0     0     1] base= [2, 3, 4, 6]\n",
      "[  13/28    3/14   -5/28]\n",
      "[   9/28    1/14    3/28]\n",
      "[-201/28    1/14  -11/28]\n",
      "[ 125/28    3/14   -5/28]\n",
      "[-----------------------]\n",
      "[      1       0       0]\n",
      "[      0       1       0]\n",
      "[      0       0       1] base= [0, 1, 5, 6]\n",
      "[ 13/9   1/9  -1/3]\n",
      "[ 28/9  -2/9  -1/3]\n",
      "[-67/3   5/3     2]\n",
      "[125/9  -7/9  -5/3]\n",
      "[-----------------]\n",
      "[    1     0     0]\n",
      "[    0     1     0]\n",
      "[    0     0     1] base= [0, 2, 5, 6]\n",
      "[   9/13   -1/13    3/13]\n",
      "[  28/13   -6/13    5/13]\n",
      "[-201/13   44/13  -41/13]\n",
      "[ 125/13  -24/13   20/13]\n",
      "[-----------------------]\n",
      "[      1       0       0]\n",
      "[      0       1       0]\n",
      "[      0       0       1] base= [1, 2, 5, 6]\n",
      "[    3  -1/2  -1/2]\n",
      "[   14  -9/2  -3/2]\n",
      "[    1 -15/2  -1/2]\n",
      "[    3   7/2  -1/2]\n",
      "[-----------------]\n",
      "[    1     0     0]\n",
      "[    0     1     0]\n",
      "[    0     0     1] base= [0, 3, 5, 6]\n",
      "[  1/3   1/6   1/6]\n",
      "[ 14/3 -13/6   5/6]\n",
      "[  1/3 -22/3  -1/3]\n",
      "[    1     4     0]\n",
      "[-----------------]\n",
      "[    1     0     0]\n",
      "[    0     1     0]\n",
      "[    0     0     1] base= [1, 3, 5, 6]\n",
      "[ -2   6  -1]\n",
      "[  9 -13   3]\n",
      "[ 15 -44   7]\n",
      "[ -7  24  -4]\n",
      "[-----------]\n",
      "[  1   0   0]\n",
      "[  0   1   0]\n",
      "[  0   0   1] base= [2, 3, 5, 6]\n",
      "[ -5/3     1   1/3]\n",
      "[ 28/3    -3  -2/3]\n",
      "[-11/3    -6   1/3]\n",
      "[ -5/3     5   1/3]\n",
      "[-----------------]\n",
      "[    1     0     0]\n",
      "[    0     1     0]\n",
      "[    0     0     1] base= [0, 4, 5, 6]\n",
      "[ -3/5   3/5   1/5]\n",
      "[-28/5  13/5   6/5]\n",
      "[ 11/5 -41/5  -2/5]\n",
      "[    1     4     0]\n",
      "[-----------------]\n",
      "[    1     0     0]\n",
      "[    0     1     0]\n",
      "[    0     0     1] base= [1, 4, 5, 6]\n",
      "[    1   5/3  -1/3]\n",
      "[   -3  13/3   1/3]\n",
      "[   -6 -41/3   7/3]\n",
      "[    5  20/3  -4/3]\n",
      "[-----------------]\n",
      "[    1     0     0]\n",
      "[    0     1     0]\n",
      "[    0     0     1] base= [2, 4, 5, 6]\n",
      "[ 3  5 -3]\n",
      "[-2  6 -1]\n",
      "[ 1 -2 -7]\n",
      "[ 1  0  4]\n",
      "[--------]\n",
      "[ 1  0  0]\n",
      "[ 0  1  0]\n",
      "[ 0  0  1] base= [3, 4, 5, 6]\n"
     ]
    }
   ],
   "source": [
    "'''\n",
    "De cada matriz, formado por dos partes, la superior de términos y la inferior es la identidad. Observar las columnas!. Por cada\n",
    "matriz, descartar TODAS las columnas que contengan algún término negativo. Si encontramos una columna que contenga todos sus\n",
    "elementos positivos, la contamos PERO si aparece otra columna IGUAL, representa el mismo vector y no se sumaría al contador.\n",
    "De forma que aquí:\n",
    "[ -24/125    -4/25  -13/125]\n",
    "[  -7/125     3/25   -9/125]\n",
    "[   6/125     1/25  -28/125]\n",
    "[  52/125    17/25 -201/125]\n",
    "[--------------------------]\n",
    "[       1        0        0]\n",
    "[       0        1        0]\n",
    "[       0        0        1] base= [0, 1, 2, 5]\n",
    "Por ejemplo, ninguna columna es definida positiva así que habría 0 direcciones extremas.\n",
    "En otro caso, si por ejemplo tenemos:\n",
    "[  8/11  4/11  4/11]\n",
    "[ 2/11   1/11  1/11]\n",
    "[ 85/11  15/11  15/11]\n",
    "[ 52/11   7/11  7/11]\n",
    "[--------------------]\n",
    "[     1      0      0]\n",
    "[     0      1      0]\n",
    "[     0      0      1] base= [0, 2, 3, 4]\n",
    "Tendríamos 2 direcciones extremas porque una de ellas se repite. \n",
    "\n",
    "La base nos da el orden para representar los elementos de cada columna.\n",
    "'''\n",
    "\n",
    "for i in powerset(I):\n",
    "    if (len(i)==(A.nrows())) and (((A[:,i]).det())!=0):\n",
    "        noti=[]\n",
    "        for l in I:\n",
    "            if l not in i:\n",
    "                noti.append(l)\n",
    "        B=A[:,i];N=A[:,noti];Id=identity_matrix((A.ncols()-A.nrows()))\n",
    "        bloque=copy(block_matrix([[-B^(-1)*N],[Id]]))\n",
    "        print (bloque,'base=',i)"
   ]
  },
  {
   "cell_type": "code",
   "execution_count": null,
   "metadata": {},
   "outputs": [],
   "source": [
    "# APARTADO 3\n",
    "'''\n",
    "Si queremos  minx1−x2+x3  en nuestra región  S .¿Existe solución óptima?\n",
    "1. Existe solución óptima única  (x1,x2,x3)=(0,712,32) \n",
    "2. Existe solución óptima única  (x1,x2,x3)=(0,25,0) \n",
    "3. Existe solución óptima única  (x1,x2,x3)=(0,2341,1141) \n",
    "4. Ninguna de las otras respuestas\n",
    "'''"
   ]
  },
  {
   "cell_type": "code",
   "execution_count": null,
   "metadata": {},
   "outputs": [],
   "source": []
  },
  {
   "cell_type": "code",
   "execution_count": null,
   "metadata": {},
   "outputs": [],
   "source": []
  },
  {
   "cell_type": "code",
   "execution_count": null,
   "metadata": {},
   "outputs": [],
   "source": [
    "# EJERCICIO 2"
   ]
  },
  {
   "cell_type": "code",
   "execution_count": null,
   "metadata": {},
   "outputs": [],
   "source": [
    "# APARTADO 1\n",
    "'''\n",
    "1.  Z=304.0 \t2.  Z=341.6 \n",
    "3.  Z=310.66666666666663 \t4. Ninguna de las otras respuestas.\n",
    "'''\n",
    "\n",
    "# APARTADO 2\n",
    "'''\n",
    "1. Alimento 2: 10.6 y Alimento 6: 7.8\n",
    "2. Alimento 5: 9.666666666666666 y Alimento 2: 6.666666666666667\n",
    "3. Alimento 5: 11.0 y Alimento 2: 3.9999999999999996\n",
    "4. Alimento 5: 10.333333333333334 y Alimento 3: 9.333333333333332\n",
    "'''"
   ]
  },
  {
   "cell_type": "code",
   "execution_count": 10,
   "metadata": {},
   "outputs": [
    {
     "name": "stdout",
     "output_type": "stream",
     "text": [
      "Valor objetivo= 341.6\n",
      "Solución= {1: 0.0, 2: 10.6, 3: 0.0, 4: 0.0, 5: 3.799999999999999, 6: 7.800000000000002}\n"
     ]
    }
   ],
   "source": [
    "p=MixedIntegerLinearProgram(maximization=False) #SIEMPRE\n",
    "x=p.new_variable(real=True, nonnegative=True) # SIEMPRE\n",
    "\n",
    "#A MODELAR:\n",
    "'''\n",
    "Cada línea es una restriccion: representan:\n",
    "    Cantidad * [elemento1] + cantidad * [elemento2] + .....\n",
    "    Si por ejemplo, para la vitamina A se pide:\n",
    "        VitA 1 1 0 3 2 1\n",
    "    Pues se escribe como:\n",
    "        1*x[1]+1*x[2]+0*x[3]+3*x[4]+2*x[5]+1*x[6]>=X\n",
    "    Si dice \"a lo sumo\", implica <= X\n",
    "    Si dice \"al menos\", implica >= X\n",
    "    Si pide maximizar en lugar de minimizar, se cambia el valor maximization (arriba) por True.\n",
    "    El valor objetivo resuelve el apartado 1.\n",
    "    El campo solucion muestra la solucion de todas las variables y resuelve el apartado 2.\n",
    "'''\n",
    "\n",
    "# Restricciones:\n",
    "p.add_constraint(1*x[1]+1*x[2]+0*x[3]+2*x[4]+2*x[5]+1*x[6]>=26)\n",
    "p.add_constraint(1*x[1]+1*x[2]+0*x[3]+2*x[4]+2*x[5]+1*x[6]<=32) # TIENE QUE ESTAR ENTRE 26 Y 32 ASÍ QUE DOBLO LA RESTRICCIÓN\n",
    "p.add_constraint(1*x[1]+2*x[2]+1*x[3]+1*x[4]+1*x[5]+0*x[6]>=25)\n",
    "p.add_constraint(0*x[1]+1*x[2]+1*x[3]+0*x[4]+1*x[5]+2*x[6]==30)\n",
    "p.add_constraint(1*x[1]+0*x[2]+0*x[3]+1*x[4]+0*x[5]+1*x[6]<=14)\n",
    "\n",
    "# Funcion objetivo:\n",
    "p.set_objective(10*x[1]+14*x[2]+10*x[3]+15*x[4]+18*x[5]+16*x[6])\n",
    "\n",
    "print ('Valor objetivo=', p.solve()) #SIEMPRE\n",
    "print ('Solución=', p.get_values(x)) #SIEMPRE"
   ]
  },
  {
   "cell_type": "code",
   "execution_count": null,
   "metadata": {},
   "outputs": [],
   "source": []
  },
  {
   "cell_type": "code",
   "execution_count": null,
   "metadata": {},
   "outputs": [],
   "source": [
    "# APARTADO 3\n",
    "'''\n",
    "1. Sí, el nuevo coste es  Z=346.4285714285715 \t2. No cambia el coste\n",
    "3. Sí, el nuevo coste es  Z=311.0 \t4. Sí, el nuevo coste es  Z=324.16666666666663\n",
    "'''"
   ]
  },
  {
   "cell_type": "code",
   "execution_count": 11,
   "metadata": {},
   "outputs": [
    {
     "name": "stdout",
     "output_type": "stream",
     "text": [
      "Valor objetivo= 341.6\n",
      "Solución= {1: 0.0, 2: 10.6, 3: 0.0, 4: 0.0, 5: 3.8000000000000003, 6: 7.8}\n"
     ]
    }
   ],
   "source": [
    "p=MixedIntegerLinearProgram(maximization=False) #SIEMPRE\n",
    "x=p.new_variable(real=True, nonnegative=True) # SIEMPRE\n",
    "\n",
    "# Restricciones:\n",
    "p.add_constraint(1*x[1]+1*x[2]+0*x[3]+2*x[4]+2*x[5]+1*x[6]>=26)\n",
    "p.add_constraint(1*x[1]+1*x[2]+0*x[3]+2*x[4]+2*x[5]+1*x[6]<=32) # TIENE QUE ESTAR ENTRE 26 Y 32 ASÍ QUE DOBLO LA RESTRICCIÓN\n",
    "p.add_constraint(1*x[1]+2*x[2]+1*x[3]+1*x[4]+1*x[5]+0*x[6]>=25)\n",
    "p.add_constraint(0*x[1]+1*x[2]+1*x[3]+0*x[4]+1*x[5]+2*x[6]==30)\n",
    "p.add_constraint(1*x[1]+0*x[2]+0*x[3]+1*x[4]+0*x[5]+1*x[6]>=5) # la condición que se cambia del apartado 3(5mg de vitamina D)\n",
    "\n",
    "# Funcion objetivo:\n",
    "p.set_objective(10*x[1]+14*x[2]+10*x[3]+15*x[4]+18*x[5]+16*x[6])\n",
    "\n",
    "'''\n",
    "El resultado del apartado 3 viene dado por el valor objetivo solo.\n",
    "'''\n",
    "print ('Valor objetivo=', p.solve()) #SIEMPRE\n",
    "print ('Solución=', p.get_values(x)) #SIEMPRE"
   ]
  },
  {
   "cell_type": "code",
   "execution_count": null,
   "metadata": {},
   "outputs": [],
   "source": [
    "# APARTADO 4\n",
    "'''\n",
    "1. Sí, se consumen 10.0 raciones\t2. Sí, se consumen 4.5 raciones\n",
    "3. Sí, se consumen 1.9999999999999976 raciones\t4. No se consume el alimento 1\n",
    "'''"
   ]
  },
  {
   "cell_type": "code",
   "execution_count": 16,
   "metadata": {},
   "outputs": [
    {
     "name": "stdout",
     "output_type": "stream",
     "text": [
      "Valor objetivo= 355.0\n",
      "Solución= {1: 4.5, 2: 10.0, 3: 0.0, 4: 0.0, 5: 0.9999999999999997, 6: 9.5}\n"
     ]
    }
   ],
   "source": [
    "p=MixedIntegerLinearProgram(maximization=False) #SIEMPRE\n",
    "x=p.new_variable(real=True, nonnegative=True) # SIEMPRE\n",
    "\n",
    "# Restricciones:\n",
    "p.add_constraint(1*x[1]+1*x[2]+0*x[3]+2*x[4]+2*x[5]+1*x[6]>=26)\n",
    "p.add_constraint(1*x[1]+1*x[2]+0*x[3]+2*x[4]+2*x[5]+1*x[6]<=32) # TIENE QUE ESTAR ENTRE 26 Y 32 ASÍ QUE DOBLO LA RESTRICCIÓN\n",
    "p.add_constraint(1*x[1]+2*x[2]+1*x[3]+1*x[4]+1*x[5]+0*x[6]>=25)\n",
    "p.add_constraint(0*x[1]+1*x[2]+1*x[3]+0*x[4]+1*x[5]+2*x[6]==30)\n",
    "# PROBAR EL VALOR DE LA VITAMINA DEL APARTADO ANTERIOR Y DEL ENUNCIADO. QUEDARSE CON LA SOLUCIÓN BUENA.\n",
    "# Esta penultima restriccion cambia, puede tener el valor del apartado 1 o del 2. Probar los dos.\n",
    "p.add_constraint(1*x[1]+0*x[2]+0*x[3]+1*x[4]+0*x[5]+1*x[6]<=14)\n",
    "# p.add_constraint(1*x[1]+0*x[2]+0*x[3]+1*x[4]+0*x[5]+1*x[6]>=5)\n",
    "\n",
    "# Esta es la restriccion nueva del apartado 4. \n",
    "p.add_constraint(x[1]+x[2]+x[3]+x[4]+x[5]+x[6]>=25)\n",
    "\n",
    "# Funcion objetivo:\n",
    "p.set_objective(10*x[1]+14*x[2]+10*x[3]+15*x[4]+18*x[5]+16*x[6])\n",
    "\n",
    "'''\n",
    "El resultado se obtiene de la solucion p.get_values().\n",
    "'''\n",
    "print ('Valor objetivo=', p.solve()) #SIEMPRE\n",
    "print ('Solución=', p.get_values(x)) #SIEMPRE"
   ]
  },
  {
   "cell_type": "code",
   "execution_count": null,
   "metadata": {},
   "outputs": [],
   "source": []
  }
 ],
 "metadata": {
  "kernelspec": {
   "display_name": "SageMath 9.2",
   "language": "sage",
   "name": "sagemath"
  },
  "language": "python",
  "language_info": {
   "codemirror_mode": {
    "name": "ipython",
    "version": 3
   },
   "file_extension": ".py",
   "mimetype": "text/x-python",
   "name": "python",
   "nbconvert_exporter": "python",
   "pygments_lexer": "ipython3",
   "version": "3.7.7"
  }
 },
 "nbformat": 4,
 "nbformat_minor": 2
}
