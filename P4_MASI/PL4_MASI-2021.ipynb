{
 "cells": [
  {
   "cell_type": "markdown",
   "metadata": {},
   "source": [
    "<h3 style=\"text-align: center;\">ESCUELA TÉCNICA SUPERIOR DE INGENIERÍA INFORMÁTICA</h3>\n",
    "<h3 style=\"text-align: center;\">UNIVERSIDAD DE SEVILLA</h3>\n",
    "<h3 style=\"text-align: center;\">MATEMÁTICA APLICADA A SISTEMAS DE INFORMACIÓN</h3>\n",
    "<h3 style=\"text-align: center;\">Cuarta práctica de laboratorio</h3>\n",
    "<h3>Teoría de Juegos</h3>\n",
    "<p>En esta práctica trataremos la teoría de juegos desde el punto de vista de la programación lineal.</p>\n",
    "<p>Hasta ahora hemos tratado los problemas de programación lineal desde el punto de vista de un sujeto que lleva a cabo una serie de decisiones que conllevan decisiones óptimas bajo sus restricciones. En ningún momento hemos hecho referencia al efecto que dichas decisiones puedan tener sobre otros tomadores de decisiones. Sin embargo, en múltiples ocasiones desde el punto de vista empresarial puede haber más de un decisor que elegirá simultaneamente, viéndose influenciado por la decisión que tome el otro. Por ejemplo, una empresa de telefónia móvil debe decidir y publicitar una política de precios y publicidad para sus productos, cada decisión de alguna compañía afecta a los beneficios o pérdidas de las otras.</p>\n",
    "<p>La teoría de juegos es una herramienta útil en la toma de decisiones en el caso en que dos o más decisores tengan intereses en conflicto. Estudiaremos el caso en que tengamos dos competidores o jugadores sin cooperación entre ellos.</p>\n",
    "<h3>Juegos de suma cero y juegos de suma constante</h3>\n",
    "<p>Los juegos de suma cero son un tipo especial de juegos, con las siguientes características:</p>\n",
    "<ul>\n",
    "<li>Hay 2 jugadores (a uno lo denominaremos jugador fila y al otro jugador columna)</li>\n",
    "<li>El jugador fila podrá decidir 1 de m estrategias posibles. Simultaneamente, el jugador columna debe elegir 1 de n estrategias posibles</li>\n",
    "<li>Si el jugador fila elige la estregia $i$-ésima y el jugador columna escoge la estrategia $j$-ésima, entonces el jugador fila recibirá una recompensa de $a_{ij}$ y el jugador columna perderá $a_{ij}$. Por lo tanto la ganancia del jugador fila proviene de la pérdida del jugador columna</li>\n",
    "</ul>\n",
    "<p>Precisamente porque la ganancia de un jugador provlene de la pérdida del oponente en los juegos de suma cero no hay nunca colaboración entre los jugadores. Normalmente un juego de suma cero se representa por medio de una matriz, denominada matriz de recompensa o matriz de pagos. Siguiendo la notación anterior el elemento $a_{ij}$ de la matriz de recompensa representa la ganancia del jugador fila y la pérdida del jugador columna.</p>\n",
    "<h4>Ejemplo</h4>\n",
    "<p>Considermos la siguiente matriz:</p>\n",
    "<p>$$\\left(\\begin{array}{cccc} 1&2&3&-1\\\\2&1&-2&0\\end{array}\\right)$$</p>\n",
    "<p>Si el jugador fila escoge su segunda estrategia y el jugador columna escoge su primera estrategia, el jugador fila ganará 2 unidades y el jugador columna perderá 2 unidades. Si el jugador columna escoge su tercera estrategia y el jugador columna su segunda estrategia el jugador fila perderá 2 unidades y el jugador columna ganará 2 unidades.</p>\n",
    "<h3>Hipótesis básica de la teoría de juegos de dos personas con suma cero</h3>\n",
    "<p>La “mejor estrategia posible” es aquella que garantiza a cada jugador la máxima ventaja sin importar las respuestas de los competidores. Es decir, cada jugador escoge una estrategia que le permita hacer lo mejor de sus posibilidades, dado que su oponente conoce las estrategia que está siguiendo. Utilicemos esta hipótesis para determinar cómo deben actuar los jugadores fila y columna en el juego dado por la siguiente matriz:</p>\n",
    "<p>$$\\left(\\begin{array}{ccc} 4&4&10\\\\2&3&1\\\\6&5&7\\end{array}\\right)$$</p>\n",
    "<p>¿Cómo debe jugar este juego el jugador fila? Si escoge la primera fila, la hipótesis significa que el jugador columna escogerá la columna 1 o 2 para tener que pagar sólo 4 unidades, que es el menor valor de la fila 1. De la misma forma si el jugador fila escoge la segunda estrategia el jugador columna escogerá la tercera columna para darle sólo 1 unidad, el mínimo de esa fila. Por último si el jugador fila escoge la tercera fila el jugador columna escogerá la segunda columna, para pagar sólo 5 unidades. De esta forma lo que finalmente decidiría el jugador fila es escoger la tercera estrategia que le asegura 5 unidades de ganancia al menos. Este valor coincide con el máximo de los mínimos por filas. Es decir</p>\n",
    "<p>$$\\max_{filas}\\{\\min\\{a_{11},\\ldots,a_{1n}\\},\\ldots,\\min\\{a_{m1},\\ldots,a_{mn}\\}\\}=\\max\\{4,1,5\\}=5$$</p>\n",
    "<p>Si pensamos ahora el juego desde el punto de vista del jugador columna, si elige la primera columna, el jugador fila escogerá la estrategia que le proporciona mayor ganancia, en este caso la tercera. Si elige la segunda columna, el jugador fila escogerá la tercera fila. Y si toma la tercera estrategia, el jugador fila tomará su primera estrategia. En todos estos casos el jugador fila escoge la estrategia que le da el valor máximo de cada columna. Como el jugador columna quiere perder lo minimo posible, escogería la segunda columna, donde sus pérdidas como mucho son 5. Este valor es el valor mínimo de entre los máximos por columna, es decir,</p>\n",
    "<p>$$\\min_{columnas}\\{\\max\\{a_{11},\\ldots,a_{m1}\\},\\ldots,\\max\\{a_{1n},\\ldots,a_{mn}\\}\\}=\\min\\{6,5,10\\}=5$$</p>\n",
    "<p>Por lo tanto si los jugadores tuviesen que elegir una estrategia de entre todas, el jugador fila escogería la segunda estrategia y el jugador columna escogería la tercera. De esta forma el jugador fila asegura una ganancia de al menos 5 unidades y el jugador columna una pérdida como mucho de 5 unidades.</p>\n",
    "<p>El juego que acabamos de analizar satisface la condición de punto de silla, es decir</p>\n",
    "<p>$$\\max\\min\\{{\\rm filas}\\}=\\min\\max\\{{\\rm columnas}\\}$$</p>\n",
    "<p>Una forma sencilla de ver un punto de silla es que es el valor mínimo de su fila y máximo de su columna (como una silla de montar).</p>\n",
    "<p>Podemos imaginar un punto de silla como un punto de equilibrio en que ninguno de los jugadores puede beneficiarse a partir de un cambio unilateral de estrategia. De esta forma ningún jugador tiene incentivo en alejarse de él. Por tanto esto nos permite elegir una estrategia para cada jugador que es estable, ninguno de ellos la cambiará, ya que supondría pérdida con respecto a esta posición. A este valor se le denomina <strong>valor del juego</strong>.</p>\n",
    "<p>Hay muchos juegos de dos personas que no tienen puntos de silla. Por ejemplo considere la matriz:</p>\n",
    "<p>$$\\left(\\begin{array}{cc} -1&1\\\\1&-1\\end{array}\\right)$$</p>\n",
    "<p>En estos casos queremos llevar a cabo lo que se denominan estrategias mixtas, frente al punto de vista anterior que se  denomina estrategia pura.</p>\n",
    "<h3>Juegos de dos personas de suma constante</h3>\n",
    "<p>Hay juegos que no son de suma cero pero de forma que ambos jugadores están en completo conflicto, esto son los juegos de suma constante. Un juego de suma constante es áquel en que, para cual selección de estrategia de ambos jugadores, la recompensa del jugador fila y la del jugador columna se suma y proporcionan una constante $c$.</p>\n",
    "<p>De esta forma un juego de suma cero es un juego de suma constante con $c=0$. En este tipo de juego se mantiene la característica que el jugador fila y el jugagor columna están en contraposición, ya que un aumento en la recompensa del jugador fila signifcará esa misma pérdida en el jugador columna. De esta forma los métodos serán los mismos que para los juegos de suma cero.</p>\n",
    "<p>Considermos el ejemplo de dos cadenas de televisión que compiten por la audiencia, si sólo hay dos cadenas se repartirán el 100% de la audencia una en detrimentro de la otra. Dependiendo de lo programen o contraprogramen la audiencia variará.</p>\n",
    "<h3>Solución gráfica en juegos con suma cero</h3>\n",
    "<p>En general las matrices de recompensa no tienen por qué tener un punto de silla, en esos casos suele ser preferible no elegir una estrategia pura (es decir siempre la misma estrategia). Es preferible llevar a cabo estrategias combinadas o mixtas, es decir, elegir algunas veces una estrategia y otras veces otra, con una cierta probabilidad cada una de forma que tengamos una estrategia óptima. Es decir, a cada estrategia le asignaremos un grado de certidumbre/incertidumbre descrito por una función de probabilidad específica.</p>\n",
    "<p>Empecemos por un ejemplo sencillo, supongamos que tenemos dos jugadores, Par e Impar, cada uno de ellos debe sacar uno o dos dedos. Si la suma de los dedos de ambos jugadores es par, el jugador Par gana 1 € y el caso en que la suma sea impar el jugador Impar gana 1 €. Siguiendo la notación descrita anteriormente llamaremos al jugador Impar fila, y a Par jugador columna. Cada jugador dispone de dos estrategias: sacar un dedo o sacar dos. Si el jugador Impar saca un dedo y el jugador Par también el número total de dedos sería 2 por lo que el jugador Par (columna) ganaría 1 €, en general representamos la matriz de recompensa como la matriz de pagos del jugador fila, por tanto, $a_{11}=-1$, si seguimos razonando de la misma forma obtendremos la matriz completa. Así la matriz de recompensa sería:</p>\n",
    "<p>$$\\left(\\begin{array}{cc} -1&1\\\\1&-1\\end{array}\\right)$$</p>\n",
    "<p>es el ejemplo que vimos anteriormente de matriz que no tiene punto de silla. Por tanto no hay una estrategia pura que sea óptima. La intuición nos indica que debemos no sacar siempre el mismo número de dedos, ya que en ese caso nuestro oponente tiene una estrategia posible que lo hace siempre ganador, lo más aconsejable es alguna ocasión sacar un dedo y en otras sacar dos. Desde el punto de vista de la teoría de probabilidades, como tenemos dos estrategias posibles, si elegimos sacar un dedo con probabilidad $p$, con $0\\leq p\\leq 1$, entonces sacaremos dos dedos con probabilidad $1-p$. Intentemos determinar la estrategia óptima para el jugador fila, es decir, para Impar. Llamemos $x_1$ a la probabilidad con que Impar sacará un dedo, por tanto, $1-p$ es la probabilidad con que sacará 2.</p>\n",
    "<p>Si el jugador columna saca un dedo (primera estrategia) fijamos la primera columna, ellos supone que el jugador fila recibe:</p>\n",
    "<p>$$(-1)\\cdot x_1+(1)\\cdot (1-x_1)=1-2x_1$$</p>\n",
    "<p>Si el jugador columna saca dos dedos (segunda estrategia) fijamos la segunda columna, ellos supone que el jugador fila recibe:</p>\n",
    "<p>$$(1)\\cdot x_1+(-1)\\cdot (1-x_1)=2x_1-1$$</p>\n",
    "<p>Si dibujamos dichas recompensas en función de la probabilidad de la estrategia, obtendremos:</p>"
   ]
  },
  {
   "cell_type": "code",
   "execution_count": null,
   "metadata": {},
   "outputs": [],
   "source": [
    "dibujoestrategia1=plot(1-2*x,0,1)\n",
    "dibujoestrategia2=plot(2*x-1,0,1,color='green')\n",
    "show(dibujoestrategia1+dibujoestrategia2)"
   ]
  },
  {
   "cell_type": "markdown",
   "metadata": {},
   "source": [
    "<p>Cuando antes estudiamos las estragias puras, fijada una estragia del jugador fila, el jugador columna escogía el menor valor posible para sus estrategias, de forma que el pago que realice sea el menor. Antes escribíamos:</p>\n",
    "<p>$$\\max\\min\\{{\\rm filas}\\}$$</p>\n",
    "<p>Viendo el dibujo anterior si el jugador columna escoge el mínimo de entre las dos estrategias supondría que si $x_1\\leq 0.5$ le interesa la línea verde, que es la menor, es decir, la segunda estrategia, sacar dos dedos.</p>\n",
    "<p>Sin embargo si $x_1\\geq 0.5$ al jugador columna le interesa la primera estrategia, es decir, la azul, sacar un dedo. Por tanto el $\\min\\{{\\rm filas}\\}$, sería:</p>"
   ]
  },
  {
   "cell_type": "code",
   "execution_count": null,
   "metadata": {},
   "outputs": [],
   "source": [
    "mindibujoestrategia1=plot(1-2*x,0.5,1)\n",
    "mindibujoestrategia2=plot(2*x-1,0,0.5,color='green')\n",
    "show(mindibujoestrategia1+mindibujoestrategia2)"
   ]
  },
  {
   "cell_type": "markdown",
   "metadata": {},
   "source": [
    "<p>El objetivo del jugador fila es obtener la máxima ganancia, es decir el máximo del conjunto anterior, que se alcanza en $x_1=0.5$, por ello la estrategia óptima para el jugador fila es sacar un dedo con probabilidad $0.5$ y dos con la misma probabilidad.</p>\n",
    "<p>Podríamos estudiar la mejor estrategia combinada para el jugador Par, el jugador columna, si la probalidad con que saca un dedo es $y_1$ y $1-y_1$ la probabilidad con que saca dos. Si el jugador fila saca un dedo (fijamos la primera fila) la pérdida esperada por el jugador Par es:</p>\n",
    "<p>$$(-1)\\cdot y_1+(1)\\cdot (1-y_1)=1-2y_1$$</p>\n",
    "<p>Si el jugador fila saca dos dedos, la pérdida esperada por el jugador columna es:</p>\n",
    "<p>$$(1)\\cdot y_1+(-1)\\cdot (1-y_1)=2y_1-1$$</p>\n",
    "<p>Si lo representamos, obtenemos:</p>"
   ]
  },
  {
   "cell_type": "code",
   "execution_count": null,
   "metadata": {},
   "outputs": [],
   "source": [
    "y=var('y')\n",
    "dibujoestrategia1=plot(1-2*y,0,1)\n",
    "dibujoestrategia2=plot(2*y-1,0,1,color='green')\n",
    "show(dibujoestrategia1+dibujoestrategia2)"
   ]
  },
  {
   "cell_type": "markdown",
   "metadata": {},
   "source": [
    "<p>Ahora estamos representando las pérdidas del jugador columna. La elección de estrategia del jugador fila intentará maximizar las pérdidas del jugador columna, en este caso si $y_1\\leq 0.5$ le interesa la estrategia azul, es decir sacar un dedo. Si $y_1\\geq 0.5$ le interesa la verde. Así obtendríamos:</p>"
   ]
  },
  {
   "cell_type": "code",
   "execution_count": null,
   "metadata": {},
   "outputs": [],
   "source": [
    "maxdibujoestrategia1=plot(1-2*y,0,0.5)\n",
    "maxdibujoestrategia2=plot(2*y-1,0.5,1,color='green')\n",
    "show(maxdibujoestrategia1+maxdibujoestrategia2)"
   ]
  },
  {
   "cell_type": "markdown",
   "metadata": {},
   "source": [
    "<p>El jugador columna intentará minimizar su pérdida eligiendo la estrategia que haga menor el valor de la función anterior, es decir $y_1=0.5$, por tanto escogerá con probabilidad $0.5$ sacar un dedo y dos con la misma probabilidad.</p>\n",
    "<p>Hemos obtenido que:</p>\n",
    "<p>$$\\min\\max\\{1-2x_1,2x_1-1\\}=0=\\max\\min\\{1-2y_1,2y_1-1\\}$$</p>\n",
    "<p>Coinciden ambos valores. Esto no es una coincidencia a este resultado se le conoce como el teorema MinMax debido a Von Neumann. A este valor lo denominamos <strong>valor del juego</strong>.</p>\n",
    "<p>Siempre que tengamos al menos un jugador que sólo disponga de dos estrategias podemos usar el método gráfico anterior. Supongamos la siguiente matriz de pagos:</p>\n",
    "<p>$$\\left(\\begin{array}{ccc} 4&4&1\\\\2&0&3\\end{array}\\right)$$</p>\n",
    "<p>Si el jugador fila escoge la primera estrategia con probabilidad $x_1$ y la segunda con $1-x_1$. Si el jugador columna escoge su primera estretegia, la recompensa para el jugador fila sería:</p>\n",
    "<p>$$4x_1+2(1-x_1)=2x_1+2$$</p>\n",
    "<p>Si escoge la segunda:</p>\n",
    "<p>$$4x_1$$</p>\n",
    "<p>Y para la  tercera:</p>\n",
    "<p>$$x_1+3(1-x_1)=3-2x_1$$</p>\n",
    "<p>Si dibujamos dichas estrategias obtenemos:</p>\n",
    "<p><br /><br /></p>"
   ]
  },
  {
   "cell_type": "code",
   "execution_count": null,
   "metadata": {},
   "outputs": [],
   "source": [
    "dibuestrategia1=plot(2*x+2,0,1)\n",
    "dibuestrategia2=plot(4*x,0,1,color='green')\n",
    "dibuestrategia3=plot(-x+3,0,1,color='red')\n",
    "show(dibuestrategia1+dibuestrategia2+dibuestrategia3)"
   ]
  },
  {
   "cell_type": "markdown",
   "metadata": {},
   "source": [
    "<p>Al jugador columna le interesa minimizar la ganancia del jugador fila, por ello si le interesa la línea verde, si $x_1\\leq 0.6$ y la roja si $x_1\\geq 0.6$. En ningún caso escoge la azul, correspondiente a la primera estrategia. De esta forma la estrategia que nos proporciona el máximo para esta función sería si $x_1=0.6$ en cuyo caso el retorno esperado sería $4*3/5=12/5$, que sería el valor del juego.</p>\n",
    "<p>La estrategia primera para el jugador columna es una <strong>estrategia dominada</strong>, siempre se escogería antes la segunda estrategia que la primera, ya que las pérdidas en caso de escoger la primera son 4 o 2, dependiendo de la estrategia del jugador fila. Si escogemos la segunda estrategia las pérdidas serían 4 o 0. Es decir, ningún jugador racional escogería la estrategia 1 si tiene la 2, que es mejor para todas las estrategias del jugador fila.</p>\n",
    "<p>Si cambiamos la matriz de inicio por:</p>\n",
    "<p>$$\\left(\\begin{array}{ccc} 3&4&1\\\\2&0&3\\end{array}\\right)$$</p>\n",
    "<p>El jugador columna ya no tendría ninguna estrategia dominada. Si el jugador columna escoge su primera estretegia, la recompensa para el jugador fila sería:</p>\n",
    "<p>$$3x_1+2(1-x_1)=x_1+2$$</p>\n",
    "<p>Si representamos ahora las 3 estrategias tendremos:</p>"
   ]
  },
  {
   "cell_type": "code",
   "execution_count": null,
   "metadata": {},
   "outputs": [],
   "source": [
    "dibuestrategia1=plot(x+2,0,1)\n",
    "show(dibuestrategia1+dibuestrategia2+dibuestrategia3)"
   ]
  },
  {
   "cell_type": "markdown",
   "metadata": {},
   "source": [
    "<p>La estrategia óptima sigue siendo la misma para el jugador fila, y el jugador columna nunca escogería la primera estrategia, aunque no sea una estrategia dominada.</p>\n",
    "\n",
    "<h3>Programación lineal en teoría de juegos</h3>\n",
    "<p>El método de resolución que hemos visto anteriormente sólo es válido si uno de los jugadores dispone de dos estrategias o si al haber eliminado las estrategias dominadas, para algún jugador sólo quedasen 2 estrategias, el método general de resolución lo haremos usando programación lineal.</p>\n",
    "<p>Para ilustrar este método pensemos en el juego de piedra, papel, tijera. Tanto el jugador fila como el jugador columna poseen tres estrategias. Si notamos la primera sacar piedra, la segunda sacar papel y la tercera las tijeras, debemos en primer lugar escribir la matriz de recompensa. Fijemos la estrategia de piedra para el jugador fila, en ese caso si el jugador columna escoge piedra, empatarán por lo que $a_{11}=0$, en el caso en que el jugador columna escoja la segunda estrategia, papel, ganará por lo que expresado en la matriz de recompensa como las ganancias del jugador fila, tendríamos que $a_{12}=-1$ de forma análoga, la tercera estrategia para el jugador columna, las tijeras, nos proporciona $a_{13}=1$. Analizando todos los casos obtenemos la siguiente matriz:</p>\n",
    "<p>$$\\left(\\begin{array}{ccc} 0&-1&1\\\\1&0&-1\\\\-1&1&0\\end{array}\\right)$$</p>\n",
    "<p>Esta matriz no tiene ningún punto de silla, por lo que no podemos escoger ninguna estrategia pura. Tampoco existen estragias dominadas. En este caso dichas estrategias podemos no considerarlas, ya que un jugador inteligente nunca las escogería, y así simplificamos nuestro problema.</p>\n",
    "<p>Siguiendo con el juego de piedra, papel, tijera, queremos diseñar una estrategia óptima. Llamemos</p>\n",
    "<ul>\n",
    "<li>$x_1$ la probabilidad con que el jugador fila escogerá la piedra</li>\n",
    "<li>$x_2$ la probabilidad con que el jugador fila escogerá la papel</li>\n",
    "<li>$x_3$ la probabilidad con que el jugador fila escogerá la tijera</li>\n",
    "</ul>\n",
    "<p>Puesto que siempre escogerá una de estas opciones, es claro que</p>\n",
    "<p>$$x_1+x_2+x_3=1$$</p>\n",
    "<p>Con dicha estrategia para el jugador fila, ¿cúales serían sus ganancias? Si el jugador columna escoge la primera estrategia, es decir, piedra, la ganancia del jugador fila sería:</p>\n",
    "<p>$$0\\cdot x_1+1\\cdot x_2+(-1)\\cdot x_3=x_2-x_3$$</p>\n",
    "<p>En el caso en que el jugador columna escogiese papel:</p>\n",
    "<p>$$(-1)\\cdot x_1+0\\cdot x_2+(1)\\cdot x_3=-x_1+x_3$$</p>\n",
    "<p>Si elige las tijeras:</p>\n",
    "<p>$$1\\cdot x_1+(-1)\\cdot x_2+0\\cdot x_3=x_1-x_2$$</p>\n",
    "<p>Como vimos anteriormente el jugador columna intentará escoger la estrategia que minimice esos valores (para perder lo menos posible), es decir:</p>\n",
    "<p>$$\\min\\{x_2-x_3,-x_1+x_3,x_1-x_2\\}$$</p>\n",
    "<p>y el jugador fila intentará que este valor sea lo mayor posible, es decir intentará elegir $x_1,x_2,x_3$ de forma que</p>\n",
    "<p>$$\\min\\{x_2-x_3,-x_1+x_3,x_1-x_2\\}$$</p>\n",
    "<p>sea lo mayor posible.</p>\n",
    "<p>Esto lo podemos formular como un problema de programación lineal. Para ello necesitaremos una variable más que llamaremos $v$ que representará $$\\min\\{x_2-x_3,-x_1+x_3,x_1-x_2\\}$$</p>\n",
    "<p>por lo tanto verifica</p>\n",
    "<p>$$v\\leq x_2-x_3$$</p>\n",
    "<p>$$v\\leq -x_1+x_3$$</p>\n",
    "<p>$$v\\leq x_1-x_2$$</p>\n",
    "<p>El objetivo del jugador fila es máximizar v, por lo tanto el problema de programación lineal, quedaría:</p>\n",
    "<p>$$\\begin{array}{rl} \\max&z=v\\\\ \\mbox{s.t}&v\\leq x_2-x_3\\\\ &v\\leq -x_1+x_3\\\\ &v\\leq x_1-x_2\\\\ &x_1+x_2+x_3=1\\\\ &x_1,x_2,x_3\\geq 0 \\end{array}$$</p>"
   ]
  },
  {
   "cell_type": "code",
   "execution_count": null,
   "metadata": {},
   "outputs": [],
   "source": [
    "p=MixedIntegerLinearProgram(maximization=True)"
   ]
  },
  {
   "cell_type": "code",
   "execution_count": null,
   "metadata": {},
   "outputs": [],
   "source": [
    "x=p.new_variable()\n",
    "v=p.new_variable()"
   ]
  },
  {
   "cell_type": "markdown",
   "metadata": {},
   "source": [
    "<p>Como la variable $v$ es indefinidas en signo consideramos dos variables positivas $v_1-v_2=v$, así podemos dar a SAGE las restricciones de nuestro problema:</p>"
   ]
  },
  {
   "cell_type": "code",
   "execution_count": null,
   "metadata": {},
   "outputs": [],
   "source": [
    "p.add_constraint(v[1]-v[2]<=x[2] - x[3])\n",
    "p.add_constraint(v[1]-v[2]<=-x[1]+x[3])\n",
    "p.add_constraint(v[1]-v[2]<=x[1]-x[2])\n",
    "p.add_constraint(x[1]+x[2]+x[3]==1)"
   ]
  },
  {
   "cell_type": "code",
   "execution_count": null,
   "metadata": {},
   "outputs": [],
   "source": [
    "p.set_objective(v[1]-v[2])"
   ]
  },
  {
   "cell_type": "code",
   "execution_count": null,
   "metadata": {},
   "outputs": [],
   "source": [
    "p.solve()"
   ]
  },
  {
   "cell_type": "markdown",
   "metadata": {},
   "source": [
    "<p>Por lo que la ganancia esperada para el jugador fila es 0, este es el valor del juego. ¿Cuál sería la estrategia ganadora?</p>"
   ]
  },
  {
   "cell_type": "code",
   "execution_count": null,
   "metadata": {},
   "outputs": [],
   "source": [
    "p.get_values(x[1])"
   ]
  },
  {
   "cell_type": "code",
   "execution_count": null,
   "metadata": {},
   "outputs": [],
   "source": [
    "p.get_values(x[2])"
   ]
  },
  {
   "cell_type": "code",
   "execution_count": null,
   "metadata": {},
   "outputs": [],
   "source": [
    "p.get_values(x[3])"
   ]
  },
  {
   "cell_type": "markdown",
   "metadata": {},
   "source": [
    "<p>La estrategia ganadora es la que con probabilidad $\\frac{1}{3}$ escoge piedra, $\\frac{1}{3}$ para el papel y otro $\\frac{1}{3}$ para las tijeras.</p>\n",
    "\n",
    "<p>Si tomamos ahora el punto de vista del jugador columna y denominamos:</p>\n",
    "<ul>\n",
    "<li>$y_1$ la probabilidad con que el jugador columna escogerá la piedra</li>\n",
    "<li>$y_2$ la probabilidad con que el jugador columna escogerá la papel</li>\n",
    "<li>$y_3$ la probabilidad con que el jugador columna escogerá la tijera</li>\n",
    "</ul>\n",
    "<p>Puesto que siempre escogerá una de estas opciones, es claro que</p>\n",
    "<p>$$y_1+y_2+y_3=1$$</p>\n",
    "<p>Con dicha estrategia para el jugador columna, ¿cúales serían sus ganancias? Si el jugador fila escoge la primera estrategia, es decir, piedra, la pérdida del jugador columna sería:</p>\n",
    "<p>$$0\\cdot y_1+(-1)\\cdot y_2+(1)\\cdot y_3=-y_2+y_3$$</p>\n",
    "<p>En el caso en que el jugador fila escogiese papel:</p>\n",
    "<p>$$(1)\\cdot y_1+0\\cdot y_2+(-1)\\cdot y_3=y_1-y_3$$</p>\n",
    "<p>Si elige las tijeras:</p>\n",
    "<p>$$(-1)\\cdot y_1+(1)\\cdot y_2+0\\cdot y_3=-y_1+y_2$$</p>\n",
    "<p>Como antes el jugador fila intentará escoger la estrategia que maximice esos valores (para ganar lo más posible), es decir:</p>\n",
    "<p>$$\\max\\{-y_2+y_3,y_1-y_3,-y_1+y_2\\}$$</p>\n",
    "<p>y el jugador columna intentará que este valor sea lo mayor posible, es decir intentará elegir $y_1,y_2,y_3$ de forma que</p>\n",
    "<p>$$\\max\\{-y_2+y_3,y_1-y_3,-y_1+y_2\\}$$</p>\n",
    "<p>sea lo menor posible.</p>\n",
    "<p>Esto lo podemos formular como un problema de programación lineal. Para ello necesitaremos una variable más que llamaremos $w$ que representará $$\\max\\{-y_2+y_3,y_1-y_3,-y_1+y_2\\}$$</p>\n",
    "<p>por lo tanto verifica</p>\n",
    "<p>$$w\\geq -y_2+y_3$$</p>\n",
    "<p>$$w\\geq y_1-y_3$$</p>\n",
    "<p>$$w\\geq -y_1+y_2$$</p>\n",
    "<p>El objetivo del jugador columna es minimizar $w$, por lo tanto el problema de programación lineal, quedaría:</p>\n",
    "<p>$$\\begin{array}{rl} \\min&z=w\\\\ \\mbox{s.t}&w\\geq -y_2+y_3\\\\ &w\\geq y_1-y_3\\\\ &w\\geq -y_1+y_2\\\\ &y_1+y_2+y_3=1\\\\ &y_1,y_2,y_3\\geq 0 \\end{array}$$</p>"
   ]
  },
  {
   "cell_type": "code",
   "execution_count": null,
   "metadata": {},
   "outputs": [],
   "source": [
    "pdual=MixedIntegerLinearProgram(maximization=False)"
   ]
  },
  {
   "cell_type": "code",
   "execution_count": null,
   "metadata": {},
   "outputs": [],
   "source": [
    "y=pdual.new_variable()\n",
    "w=pdual.new_variable()"
   ]
  },
  {
   "cell_type": "code",
   "execution_count": null,
   "metadata": {},
   "outputs": [],
   "source": [
    "pdual.add_constraint(w[1]-w[2]>=-y[2] + y[3])\n",
    "pdual.add_constraint(w[1]-w[2]>=y[1]-y[3])\n",
    "pdual.add_constraint(w[1]-w[2]>=-y[1]+y[2])\n",
    "pdual.add_constraint(y[1]+y[2]+y[3]==1)"
   ]
  },
  {
   "cell_type": "code",
   "execution_count": null,
   "metadata": {},
   "outputs": [],
   "source": [
    "pdual.set_objective(w[1]-w[2])"
   ]
  },
  {
   "cell_type": "code",
   "execution_count": null,
   "metadata": {},
   "outputs": [],
   "source": [
    "pdual.solve()"
   ]
  },
  {
   "cell_type": "code",
   "execution_count": null,
   "metadata": {},
   "outputs": [],
   "source": [
    "pdual.get_values(y[1])"
   ]
  },
  {
   "cell_type": "code",
   "execution_count": null,
   "metadata": {},
   "outputs": [],
   "source": [
    "pdual.get_values(y[2])"
   ]
  },
  {
   "cell_type": "code",
   "execution_count": null,
   "metadata": {},
   "outputs": [],
   "source": [
    "pdual.get_values(y[3])"
   ]
  },
  {
   "cell_type": "markdown",
   "metadata": {},
   "source": [
    "<p>Si no queremos que $v$ o $w$ sean indefinidas en signo podemos cambiar la matriz de recompensa de inicio, sumando una constante a todos los elementos de la matriz, de forma que todos sus elementos sean positivos. En el caso del juego de piedra, papel, tijera, si sumamos 1 a todos los elementos de la matriz, tenemos la nueva matriz:</p>\n",
    "<p>$$\\left(\\begin{array}{ccc} 1&0&2\\\\2&1&0\\\\0&2&1\\end{array}\\right)$$</p>\n",
    "<p>Esto hará que el valor del nuevo juego se incremente en la misma cantidad que hemos sumado. Si resolvemos el juego, en el caso de esta nueva matriz para el jugador fila, obtenemos.</p>\n",
    "<p>Para la primera estrategia del jugador columna:</p>\n",
    "<p>$$x_1+2x_2$$</p>\n",
    "<p>Segunda estrategia:</p>\n",
    "<p>$$x_2+2x_3$$</p>\n",
    "<p>y para la tercera:</p>\n",
    "<p>$$2x_1+x_3$$</p>\n",
    "<p>por tanto el programa quedaría:</p>\n",
    "<p>$$\\begin{array}{rl} \\max&z=v\\\\ \\mbox{s.t}&v\\leq x_1+2x_2\\\\ &v\\leq x_2+2x_3\\\\ &v\\leq 2x_1+x_3\\\\ &x_1+x_2+x_3=1\\\\ &x_1,x_2,x_3,v\\geq 0 \\end{array}$$</p>"
   ]
  },
  {
   "cell_type": "code",
   "execution_count": null,
   "metadata": {},
   "outputs": [],
   "source": [
    "p1=MixedIntegerLinearProgram(maximization=True)"
   ]
  },
  {
   "cell_type": "code",
   "execution_count": null,
   "metadata": {},
   "outputs": [],
   "source": [
    "x=p1.new_variable()\n",
    "v=p1.new_variable()"
   ]
  },
  {
   "cell_type": "code",
   "execution_count": null,
   "metadata": {},
   "outputs": [],
   "source": [
    "p1.add_constraint(v[1]<=x[1] +2* x[2])\n",
    "p1.add_constraint(v[1]<=x[2]+2*x[3])\n",
    "p1.add_constraint(v[1]<=2*x[1]+x[3])\n",
    "p1.add_constraint(x[1]+x[2]+x[3]==1)"
   ]
  },
  {
   "cell_type": "code",
   "execution_count": null,
   "metadata": {},
   "outputs": [],
   "source": [
    "p1.set_objective(v[1])"
   ]
  },
  {
   "cell_type": "code",
   "execution_count": null,
   "metadata": {},
   "outputs": [],
   "source": [
    "p1.solve()"
   ]
  },
  {
   "cell_type": "code",
   "execution_count": null,
   "metadata": {},
   "outputs": [],
   "source": [
    "p1.get_values(x[1])"
   ]
  },
  {
   "cell_type": "code",
   "execution_count": null,
   "metadata": {},
   "outputs": [],
   "source": [
    "p1.get_values(x[2])"
   ]
  },
  {
   "cell_type": "code",
   "execution_count": null,
   "metadata": {},
   "outputs": [],
   "source": [
    "p1.get_values(x[3])"
   ]
  },
  {
   "cell_type": "code",
   "execution_count": 4,
   "metadata": {},
   "outputs": [
    {
     "data": {
      "text/html": [
       "<center><h4>E.T.S.I.I. - GRADO I.I. TECNOLOGÍAS INFORMÁTICAS</h4></center><center><h4>Matemática Aplicada a Sistemas de Información - CUARTA PRÁCTICA DE LABORATORIO</h4></center><hr  align=center><center>APELLIDOS, NOMBRE: <INPUT value= \"\",type=text size=70> <INPUT type=submit value=48-C738><hr  align=center></center><hr  align=center><b> <span style=\"color: #0000ff;\">EJERCICIO 1 </span></b><br> Consideremos el juego de suma cero descrito por la matriz de pagos siguiente <script type=\"math/tex; mode=display\">\\left(\\begin{array}{rrrrr} -1 & -1 & 0 & 1 & -35 \\\\  0 & -1 & 0 & 137 & 1 \\\\1 & -1 & -6 & 1 & 1 \\\\0 & -4 & 0 & 2 & 0 \\\\1 & -1 & 1 & 1 & -2 \\\\ \\end{array}\\right)</script><ol><li>¿El juego tiene algún punto de silla?</li><li>Las estrategias del jugador columna dominadas son:</li><li>Las estrategias del jugador fila dominadas son:</li></ol>Marcar la respuesta correcta.<br><hr  align=center><b> <span style=\"color: #ff0000;\">Respuesta al apartado 1 </span></b><br><br> <table style=\" width:100%\"> <tr> <td style=\"border:none; text-align:left\">1.<input type=checkbox> Tiene un punto de silla para la estrategia fila 1 y columna 5    </td> <td style=\"border:none; text-align:left\">2.<input type=checkbox> Tiene un punto de silla para la estrategia fila 2 y columna 4    </td> </tr> <tr> <td style=\"border:none; text-align:left\">3.<input type=checkbox> Tiene un punto de silla para la estrategia fila 2 y columna 2    </td> <td style=\"border:none; text-align:left\">4.<input type=checkbox> Ninguna de las otras respuestas.    </td> </tr> </table><br><br><b> <span style=\"color: #ff0000;\">Respuesta al apartado 2 </span></b><br><br> 1.<input type=checkbox> Sólo hay una estrategia columna dominada por dos estrategias <br> 2.<input type=checkbox> No hay ninguna estrategia del jugador columna dominada <br> 3.<input type=checkbox> Sólo hay una estrategia columna dominada sólo por otra <br> 4.<input type=checkbox> Ninguna de las otras respuestas.<br><br><b> <span style=\"color: #ff0000;\">Respuesta al apartado 3 </span></b><br><br> 1.<input type=checkbox> Sólo hay una estrategia fila dominada por otras dos estrategias <br> 2.<input type=checkbox> Hay una estrategia fila dominada por otra estrategia y una estrategia dominada por otras dos <br> 3.<input type=checkbox> Sólo hay una estrategia fila dominada sólo por otra <br> 4.<input type=checkbox> Ninguna de las otras respuestas.<br><br><hr  align=center><b> <span style=\"color: #0000ff;\">EJERCICIO 2 </span></b><br> Consideremos el juego de suma cero descrito por la matriz de pagos siguiente <script type=\"math/tex; mode=display\">\\left(\\begin{array}{rrrrr} 0 & 2 & 0 & 3 & -1 \\\\  -2 & -1 & 0 & 4 & 1 \\\\ \\end{array}\\right)</script><ol><li>El valor del juego es:</li><li>La estrategia óptima para el jugador columna es</li><li>Si el jugador fila decide llevar a cabo la primera estrategia en un 80 por ciento de ocasiones, \n",
       " ¿cúal sería la mejor estrategia para el jugador columna?</li></ol>Marcar la respuesta correcta.<br><hr  align=center><b> <span style=\"color: #ff0000;\">Respuesta al apartado 1 </span></b><br><br> <table style=\" width:100%\"> <tr> <td style=\"border:none; text-align:left\">1.<input type=checkbox> -1    </td> <td style=\"border:none; text-align:left\">2.<input type=checkbox> 0    </td> </tr> <tr> <td style=\"border:none; text-align:left\">3.<input type=checkbox> -1.333333333333333    </td> <td style=\"border:none; text-align:left\">4.<input type=checkbox> Ninguna de las otras respuestas.    </td> </tr> </table><br><br><b> <span style=\"color: #ff0000;\">Respuesta al apartado 2 </span></b><br><br> 1.<input type=checkbox> Estrategia 1: 0.333333333333333 y Estrategia 2: 0.666666666666666 <br> 2.<input type=checkbox> Estrategia 2: 0.45454545454545453 y Estrategia 5: 0.5454545454545454 <br> 3.<input type=checkbox> Estrategia 1: 0.666666666666666 y Estrategia 2: 0.333333333333333 <br> 4.<input type=checkbox> Estrategia 1: 0.5 y Estrategia 5: 0.5<br><br><b> <span style=\"color: #ff0000;\">Respuesta al apartado 3 </span></b><br><br> <table style=\" width:100%\"> <tr> <td style=\"border:none; text-align:left\">1.<input type=checkbox> La estrategia 1    </td> <td style=\"border:none; text-align:left\">2.<input type=checkbox> La estrategia 4    </td> </tr> <tr> <td style=\"border:none; text-align:left\">3.<input type=checkbox> La estrategia 5    </td> <td style=\"border:none; text-align:left\">4.<input type=checkbox> La estrategia 2    </td> </tr> </table><br><br><hr  align=center><center><span style=\"font-size: x-small;\"> Final del documento </span></center>"
      ],
      "text/plain": [
       "<center><h4>E.T.S.I.I. - GRADO I.I. TECNOLOGÍAS INFORMÁTICAS</h4></center><center><h4>Matemática Aplicada a Sistemas de Información - CUARTA PRÁCTICA DE LABORATORIO</h4></center><hr  align=center><center>APELLIDOS, NOMBRE: <INPUT value= \"\",type=text size=70> <INPUT type=submit value=48-C738><hr  align=center></center><hr  align=center><b> <span style=\"color: #0000ff;\">EJERCICIO 1 </span></b><br> Consideremos el juego de suma cero descrito por la matriz de pagos siguiente <script type=\"math/tex; mode=display\">\\left(\\begin{array}{rrrrr} -1 & -1 & 0 & 1 & -35 \\\\  0 & -1 & 0 & 137 & 1 \\\\1 & -1 & -6 & 1 & 1 \\\\0 & -4 & 0 & 2 & 0 \\\\1 & -1 & 1 & 1 & -2 \\\\ \\end{array}\\right)</script><ol><li>¿El juego tiene algún punto de silla?</li><li>Las estrategias del jugador columna dominadas son:</li><li>Las estrategias del jugador fila dominadas son:</li></ol>Marcar la respuesta correcta.<br><hr  align=center><b> <span style=\"color: #ff0000;\">Respuesta al apartado 1 </span></b><br><br> <table style=\" width:100%\"> <tr> <td style=\"border:none; text-align:left\">1.<input type=checkbox> Tiene un punto de silla para la estrategia fila 1 y columna 5    </td> <td style=\"border:none; text-align:left\">2.<input type=checkbox> Tiene un punto de silla para la estrategia fila 2 y columna 4    </td> </tr> <tr> <td style=\"border:none; text-align:left\">3.<input type=checkbox> Tiene un punto de silla para la estrategia fila 2 y columna 2    </td> <td style=\"border:none; text-align:left\">4.<input type=checkbox> Ninguna de las otras respuestas.    </td> </tr> </table><br><br><b> <span style=\"color: #ff0000;\">Respuesta al apartado 2 </span></b><br><br> 1.<input type=checkbox> Sólo hay una estrategia columna dominada por dos estrategias <br> 2.<input type=checkbox> No hay ninguna estrategia del jugador columna dominada <br> 3.<input type=checkbox> Sólo hay una estrategia columna dominada sólo por otra <br> 4.<input type=checkbox> Ninguna de las otras respuestas.<br><br><b> <span style=\"color: #ff0000;\">Respuesta al apartado 3 </span></b><br><br> 1.<input type=checkbox> Sólo hay una estrategia fila dominada por otras dos estrategias <br> 2.<input type=checkbox> Hay una estrategia fila dominada por otra estrategia y una estrategia dominada por otras dos <br> 3.<input type=checkbox> Sólo hay una estrategia fila dominada sólo por otra <br> 4.<input type=checkbox> Ninguna de las otras respuestas.<br><br><hr  align=center><b> <span style=\"color: #0000ff;\">EJERCICIO 2 </span></b><br> Consideremos el juego de suma cero descrito por la matriz de pagos siguiente <script type=\"math/tex; mode=display\">\\left(\\begin{array}{rrrrr} 0 & 2 & 0 & 3 & -1 \\\\  -2 & -1 & 0 & 4 & 1 \\\\ \\end{array}\\right)</script><ol><li>El valor del juego es:</li><li>La estrategia óptima para el jugador columna es</li><li>Si el jugador fila decide llevar a cabo la primera estrategia en un 80 por ciento de ocasiones, \n",
       " ¿cúal sería la mejor estrategia para el jugador columna?</li></ol>Marcar la respuesta correcta.<br><hr  align=center><b> <span style=\"color: #ff0000;\">Respuesta al apartado 1 </span></b><br><br> <table style=\" width:100%\"> <tr> <td style=\"border:none; text-align:left\">1.<input type=checkbox> -1    </td> <td style=\"border:none; text-align:left\">2.<input type=checkbox> 0    </td> </tr> <tr> <td style=\"border:none; text-align:left\">3.<input type=checkbox> -1.333333333333333    </td> <td style=\"border:none; text-align:left\">4.<input type=checkbox> Ninguna de las otras respuestas.    </td> </tr> </table><br><br><b> <span style=\"color: #ff0000;\">Respuesta al apartado 2 </span></b><br><br> 1.<input type=checkbox> Estrategia 1: 0.333333333333333 y Estrategia 2: 0.666666666666666 <br> 2.<input type=checkbox> Estrategia 2: 0.45454545454545453 y Estrategia 5: 0.5454545454545454 <br> 3.<input type=checkbox> Estrategia 1: 0.666666666666666 y Estrategia 2: 0.333333333333333 <br> 4.<input type=checkbox> Estrategia 1: 0.5 y Estrategia 5: 0.5<br><br><b> <span style=\"color: #ff0000;\">Respuesta al apartado 3 </span></b><br><br> <table style=\" width:100%\"> <tr> <td style=\"border:none; text-align:left\">1.<input type=checkbox> La estrategia 1    </td> <td style=\"border:none; text-align:left\">2.<input type=checkbox> La estrategia 4    </td> </tr> <tr> <td style=\"border:none; text-align:left\">3.<input type=checkbox> La estrategia 5    </td> <td style=\"border:none; text-align:left\">4.<input type=checkbox> La estrategia 2    </td> </tr> </table><br><br><hr  align=center><center><span style=\"font-size: x-small;\"> Final del documento </span></center>"
      ]
     },
     "metadata": {},
     "output_type": "display_data"
    }
   ],
   "source": [
    "NUMERO_ALUMNO = 48\n",
    "\n",
    "NOMBRE_FICHERO_EXAMEN = 'ex_MASI_PL4_t.htl'\n",
    "load('codigo_examinar_html.sage')\n",
    "\n",
    "if NUMERO_ALUMNO > 0:\n",
    "    lector_examenes(NOMBRE_FICHERO_EXAMEN,NUMERO_ALUMNO,False)"
   ]
  },
  {
   "cell_type": "code",
   "execution_count": null,
   "metadata": {},
   "outputs": [],
   "source": [
    "# EJERCICIO 1\n",
    "'''\n",
    "Consideremos el juego de suma cero descrito por la matriz de pagos siguiente:\n",
    "'''"
   ]
  },
  {
   "cell_type": "code",
   "execution_count": null,
   "metadata": {},
   "outputs": [],
   "source": [
    "# EJERCICIO 1 - APARTADO 1\n",
    "'''\n",
    "¿El juego tiene algún punto de silla?\n",
    "\n",
    "De cada fila coges el minimo:\n",
    "4 4 10\n",
    "2 3 1\n",
    "6 5 7\n",
    "\n",
    "Osea coges el [4,1,5] de los cuales te quedas con el maximo = 5\n",
    "\n",
    "Ahora por columas, coges el maximo [6,5,10], te quedas con el minimo = 5\n",
    "\n",
    "Si coinciden 5=5, es un punto de silla. \n",
    "\n",
    "\n",
    "------------------------------------------------------------------------------------------\n",
    "Despues de coger el min. por fila me quedo con su columna.\n",
    "Lo contrario por columna. \n",
    "'''"
   ]
  },
  {
   "cell_type": "code",
   "execution_count": 3,
   "metadata": {},
   "outputs": [],
   "source": [
    "A = [[0,-1,0,-3,-3],[1,-1,0,-2,11],[-1,0,-3,-2,-1],[-1,1,0,-1,-12],[1,-8,0,1,2]]\n",
    "\n",
    "maximoFilas = [-999,-999,-999,-999,-999]\n",
    "minimoColumnas = [999,999,999,999,999]\n",
    "\n",
    "for i in range(0,5):\n",
    "    for j in range(0,5):\n",
    "    \n",
    "        if (A[i][j] > maximoFilas[i]):\n",
    "            maximoFilas[i] = A[i][j]\n",
    "            \n",
    "        if (A[i][j] < minimoColumnas[j]):\n",
    "            minimoColumnas[j] = A[i][j]\n",
    "            \n",
    "for i in range(0,5):\n",
    "    for j in range(0,5):\n",
    "    \n",
    "        if (maximoFilas[i] == minimoColumnas[j]):\n",
    "            print(\"Punto de silla en: \" + str(i) + \",\" + str(j))"
   ]
  },
  {
   "cell_type": "code",
   "execution_count": null,
   "metadata": {},
   "outputs": [],
   "source": [
    "'''\n",
    "1. No tiene ningún punto de silla\t2. Tiene un punto de silla para la estrategia fila 1 y columna 5\n",
    "3. Tiene un punto de silla para la estrategia fila 1 y columna 3\t4. Ninguna de las otras respuestas.\n",
    "'''"
   ]
  },
  {
   "cell_type": "code",
   "execution_count": null,
   "metadata": {},
   "outputs": [],
   "source": []
  },
  {
   "cell_type": "code",
   "execution_count": null,
   "metadata": {},
   "outputs": [],
   "source": [
    "# EJERCICIO 1 - APARTADO 2\n",
    "'''\n",
    "Las estrategias del jugador columna dominadas son:\n",
    "'''"
   ]
  },
  {
   "cell_type": "code",
   "execution_count": null,
   "metadata": {},
   "outputs": [],
   "source": []
  },
  {
   "cell_type": "code",
   "execution_count": null,
   "metadata": {},
   "outputs": [],
   "source": [
    "'''\n",
    "1. Hay una estrategia columna dominada por otra estrategia y una estrategia dominada por otras dos\n",
    "2. Sólo hay una estrategia columna dominada por dos estrategias\n",
    "3. Sólo hay una estrategia columna dominada sólo por otra\n",
    "4. Ninguna de las otras respuestas.\n",
    "'''"
   ]
  },
  {
   "cell_type": "code",
   "execution_count": null,
   "metadata": {},
   "outputs": [],
   "source": []
  },
  {
   "cell_type": "code",
   "execution_count": null,
   "metadata": {},
   "outputs": [],
   "source": [
    "# EJERCICIO 1 - APARTADO 3\n",
    "'''\n",
    "Las estrategias del jugador fila dominadas son:\n",
    "'''"
   ]
  },
  {
   "cell_type": "code",
   "execution_count": null,
   "metadata": {},
   "outputs": [],
   "source": []
  },
  {
   "cell_type": "code",
   "execution_count": null,
   "metadata": {},
   "outputs": [],
   "source": [
    "'''\n",
    "1. Sólo hay una estrategia fila dominada por otras dos estrategias\n",
    "2. Hay dos estrategias filas dominadas por otra estrategia y una estrategia dominada por otras dos\n",
    "3. No hay ninguna estrategia del jugador fila dominada\n",
    "4. Ninguna de las otras respuestas.\n",
    "'''"
   ]
  },
  {
   "cell_type": "code",
   "execution_count": null,
   "metadata": {},
   "outputs": [],
   "source": [
    "'''\n",
    "Para ver las estrategias dominadas del jugador columna por otras tienes que ver todas las columnas y coger la \n",
    "menor(la que tiene todos sus elementos menores al resto de elementos de las otras columnas) y ver aquellas columnas\n",
    "en las que todos sus elementos son mayores que la columna elegida. Si esto pasa, decimos la columna elegida domina a\n",
    "la otra, es decir, una estrategia domina a otra\n",
    "\n",
    "\n",
    "Para ver las estrategias dominadas del jugador fila por otras tienes que ver todas las filas y coger la \n",
    "mayor(la que tenga todos sus elementos mayores al resto de filas) y ver aquellas filas en las que todos sus \n",
    "elementos son menores que la filas elegida. Si esto pasa, decimos la fila elegida domina a la otra, es decir, \n",
    "una estrategia domina a otra\n",
    "'''"
   ]
  },
  {
   "cell_type": "code",
   "execution_count": null,
   "metadata": {},
   "outputs": [],
   "source": []
  },
  {
   "cell_type": "code",
   "execution_count": null,
   "metadata": {},
   "outputs": [],
   "source": [
    "# EJERCICIO 2\n",
    "'''\n",
    "Consideremos el juego de suma cero descrito por la matriz de pagos siguiente:\n",
    "'''"
   ]
  },
  {
   "cell_type": "code",
   "execution_count": null,
   "metadata": {},
   "outputs": [],
   "source": [
    "# EJERCICIO 2 - APARTADO 1\n",
    "'''\n",
    "El valor del juego es: EL PUNTO DE SILLA\n",
    "\n",
    "\n",
    "~Si es columna sacas los valores horizontalmente \n",
    "\n",
    "~Si es fila al reves\n",
    "\n",
    "Tantos constrains como filas. \n",
    "\n",
    "Tantas variables como columnas.\n",
    "'''"
   ]
  },
  {
   "cell_type": "code",
   "execution_count": null,
   "metadata": {},
   "outputs": [],
   "source": []
  },
  {
   "cell_type": "code",
   "execution_count": null,
   "metadata": {},
   "outputs": [],
   "source": [
    "'''\n",
    "1. -2.090909090909091\t2. 0\n",
    "3. -2.333333333333333\t4. Ninguna de las otras respuestas.\n",
    "'''"
   ]
  },
  {
   "cell_type": "code",
   "execution_count": null,
   "metadata": {},
   "outputs": [],
   "source": []
  },
  {
   "cell_type": "code",
   "execution_count": null,
   "metadata": {},
   "outputs": [],
   "source": [
    "# EJERCICIO 2 - APARTADO 2\n",
    "'''\n",
    "La estrategia óptima para el jugador columna es:\n",
    "'''"
   ]
  },
  {
   "cell_type": "code",
   "execution_count": 9,
   "metadata": {},
   "outputs": [
    {
     "name": "stdout",
     "output_type": "stream",
     "text": [
      "0.75\n",
      "0.25\n"
     ]
    }
   ],
   "source": [
    "# Esto es por filas (osea tantas variables como filas y tantas constrains como columnas)\n",
    "\n",
    "# Por columnas es false: \n",
    "p=MixedIntegerLinearProgram(maximization=True)\n",
    "\n",
    "x=p.new_variable()\n",
    "v=p.new_variable()\n",
    "# x1 =  0  2 0 3 -1\n",
    "# x2 = -2 -1 0 4  1\n",
    "\n",
    "p.add_constraint(v[1]-v[2]<= 0 * x[1] - 2 * x[2])\n",
    "p.add_constraint(v[1]-v[2]<= 2 * x[1] - 1 * x[2])\n",
    "p.add_constraint(v[1]-v[2]<= 0 * x[1] + 0 * x[2])\n",
    "p.add_constraint(v[1]-v[2]<= 3 * x[1] + 4 * x[2])\n",
    "p.add_constraint(v[1]-v[2]<= -1* x[1] + 1 * x[2])\n",
    "p.add_constraint(x[1]+x[2]==1)\n",
    "\n",
    "p.set_objective(v[1]-v[2])\n",
    "\n",
    "p.solve()\n",
    "\n",
    "print(p.get_values(x[1]))\n",
    "\n",
    "print(p.get_values(x[2]))"
   ]
  },
  {
   "cell_type": "code",
   "execution_count": null,
   "metadata": {},
   "outputs": [],
   "source": [
    "# Esto es por columnas (osea tantas variables como columnas y tantas constrains como filas)\n",
    "\n",
    "p=MixedIntegerLinearProgram(maximization=False)\n",
    "\n",
    "x=p.new_variable()\n",
    "v=p.new_variable()\n",
    "# x1 =  0  2 0 3 -1\n",
    "# x2 = -2 -1 0 4  1\n",
    "\n",
    "\n",
    "\n",
    "\n",
    "\n",
    "p.set_objective(v[1]-v[2])\n",
    "\n",
    "p.solve()\n",
    "\n",
    "print(p.get_values(x[1]))\n",
    "\n",
    "print(p.get_values(x[2]))"
   ]
  },
  {
   "cell_type": "code",
   "execution_count": null,
   "metadata": {},
   "outputs": [],
   "source": [
    "'''\n",
    "1. Estrategia 1: 0.333333333333333 y Estrategia 2: 0.666666666666666\n",
    "2. Estrategia 2: 0.45454545454545453 y Estrategia 5: 0.5454545454545454\n",
    "3. Estrategia 1: 0.666666666666666 y Estrategia 2: 0.333333333333333\n",
    "4. Estrategia 1: 0.5 y Estrategia 5: 0.5\n",
    "'''"
   ]
  },
  {
   "cell_type": "code",
   "execution_count": null,
   "metadata": {},
   "outputs": [],
   "source": []
  },
  {
   "cell_type": "code",
   "execution_count": null,
   "metadata": {},
   "outputs": [],
   "source": [
    "# EJERCICIO 2 - APARTADO 3\n",
    "'''\n",
    "Si el jugador fila decide llevar a cabo la primera estrategia en un 20 por ciento de ocasiones, ¿cúal sería la\n",
    "mejor estrategia para el jugador columna?\n",
    "'''"
   ]
  },
  {
   "cell_type": "code",
   "execution_count": null,
   "metadata": {},
   "outputs": [],
   "source": []
  },
  {
   "cell_type": "code",
   "execution_count": null,
   "metadata": {},
   "outputs": [],
   "source": [
    "'''\n",
    "1. La estrategia 4\t2. La estrategia 1\n",
    "3. La estrategia 2 ó 4\t4. La estrategia 5\n",
    "'''"
   ]
  },
  {
   "cell_type": "code",
   "execution_count": null,
   "metadata": {},
   "outputs": [],
   "source": [
    "# fin"
   ]
  }
 ],
 "metadata": {
  "kernelspec": {
   "display_name": "SageMath 9.2",
   "language": "sage",
   "name": "sagemath"
  },
  "language": "python",
  "language_info": {
   "codemirror_mode": {
    "name": "ipython",
    "version": 3
   },
   "file_extension": ".py",
   "mimetype": "text/x-python",
   "name": "python",
   "nbconvert_exporter": "python",
   "pygments_lexer": "ipython3",
   "version": "3.7.7"
  }
 },
 "nbformat": 4,
 "nbformat_minor": 2
}
