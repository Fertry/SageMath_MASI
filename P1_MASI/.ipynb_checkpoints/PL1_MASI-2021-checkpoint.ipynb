{
 "cells": [
  {
   "cell_type": "markdown",
   "metadata": {},
   "source": [
    "<h3 style=\"text-align: center;\">ESCUELA TÉCNICA SUPERIOR DE INGENIERÍA INFORMÁTICA</h3>\n",
    "<h3 style=\"text-align: center;\">UNIVERSIDAD DE SEVILLA</h3>\n",
    "<h3 style=\"text-align: center;\">MATEMÁTICA APLICADA A SISTEMAS DE INFORMACIÓN</h3>\n",
    "<h3>Primera práctica de laboratorio</h3>\n",
    "<p>En esta práctica estudiaremos métodos de optimización sin restricciones de funciones de una variable. Aunque nos centramos en el caso de encontar el mínimo de una función dada, todo lo que se comenta es fácilmente adaptable al caso de localizar eventualmente el máximo de una función $h(x)$ (en particular, basta estudiar el mínimo de la función opuesta, $-h(x)$). Es decir partimos del problema:</p>\n",
    "<p>$$\\min _{x\\in[a,b]}f(x)$$</p>\n",
    "<p>Gracias al teorema de Weierstrass sabemos que en un conjunto $D$ cerrado y acotado siempre se alcanza el máximo y el mínimo. Hemos estudiado métodos analíticos que nos permiten calcular dichos óptimos. En esta práctica nos centraremos en los métodos numéricos para la resolución de dichos problemas de optimización de funciones de una variable.</p>\n",
    "<p>Supongamos que estamos interesados en calcular el mínimo de la función:</p>\n",
    "<p>$$f(x)=x^2+e^x$$</p>\n",
    "<p>en el intervalo $x\\in[-1,3]$</p>"
   ]
  },
  {
   "cell_type": "code",
   "execution_count": 53,
   "metadata": {},
   "outputs": [],
   "source": [
    "f(x)=x^2+exp(x)"
   ]
  },
  {
   "cell_type": "markdown",
   "metadata": {},
   "source": [
    "<p>En la gráfica podemos apreciar cómo la función es unimodal en el intervalo $[-1,3]$:</p>"
   ]
  },
  {
   "cell_type": "code",
   "execution_count": 54,
   "metadata": {},
   "outputs": [
    {
     "data": {
      "image/png": "[encoded data removed]",
      "text/plain": [
       "Graphics object consisting of 1 graphics primitive"
      ]
     },
     "execution_count": 54,
     "metadata": {},
     "output_type": "execute_result"
    }
   ],
   "source": [
    "plot(f(x),(x,-1,3))"
   ]
  },
  {
   "cell_type": "markdown",
   "metadata": {},
   "source": [
    "<h3>Método de la sección aúrea</h3>\n",
    "<p>Si comenzamos a aplicar el método de la sección aúrea en nuestro intervalo $[-1,3]$, inicialmente:</p>\n",
    "<p>$$a=-1, \\,b=3,\\, c=a+(1-r)(b-a),\\, d=a+r(b-a),$$</p>\n",
    "<p>con</p>\n",
    "<p>$$r=\\frac{\\sqrt{5}-1}{2}$$</p>\n",
    "<p>por tanto:</p>"
   ]
  },
  {
   "cell_type": "code",
   "execution_count": 55,
   "metadata": {},
   "outputs": [
    {
     "name": "stdout",
     "output_type": "stream",
     "text": [
      "a= -1 ; b= 3 ; c= -2*sqrt(5) + 5 ; d= 2*sqrt(5) - 3\n"
     ]
    }
   ],
   "source": [
    "a=-1;b=3;r=(sqrt(5)-1)/2;c=a+(1-r)*(b-a);d=a+r*(b-a);\n",
    "print('a=',a,'; b=',b,'; c=',c,'; d=',d)"
   ]
  },
  {
   "cell_type": "markdown",
   "metadata": {},
   "source": [
    "<p>Ahora tenemos que comprobar si $f(c)\\leq f(d)$,</p>"
   ]
  },
  {
   "cell_type": "code",
   "execution_count": 56,
   "metadata": {},
   "outputs": [
    {
     "data": {
      "text/plain": [
       "1.97394778842900"
      ]
     },
     "execution_count": 56,
     "metadata": {},
     "output_type": "execute_result"
    }
   ],
   "source": [
    "f(c).n()"
   ]
  },
  {
   "cell_type": "code",
   "execution_count": 57,
   "metadata": {},
   "outputs": [
    {
     "data": {
      "text/plain": [
       "6.52571910994265"
      ]
     },
     "execution_count": 57,
     "metadata": {},
     "output_type": "execute_result"
    }
   ],
   "source": [
    "f(d).n()"
   ]
  },
  {
   "cell_type": "markdown",
   "metadata": {},
   "source": [
    "<p>Como estamos en ese caso, tenemos que cambiar $b=d$, $d=c$ y calcular un nuevo $c$.</p>"
   ]
  },
  {
   "cell_type": "code",
   "execution_count": 58,
   "metadata": {},
   "outputs": [
    {
     "name": "stdout",
     "output_type": "stream",
     "text": [
      "a= -1 ; b= 2*sqrt(5) - 3 ; c= -(sqrt(5) - 1)*(sqrt(5) - 3) - 1 ; d= -2*sqrt(5) + 5\n"
     ]
    }
   ],
   "source": [
    "b=d;d=c;c=a+(1-r)*(b-a);\n",
    "print('a=',a,'; b=',b,'; c=',c,'; d=',d)"
   ]
  },
  {
   "cell_type": "code",
   "execution_count": 59,
   "metadata": {},
   "outputs": [
    {
     "name": "stdout",
     "output_type": "stream",
     "text": [
      "a= -1.00000000000000 ; b= 1.47213595499958 ; c= -0.0557280900008412 ; d= 0.527864045000420\n"
     ]
    }
   ],
   "source": [
    "print('a=',a.n(),'; b=',b.n(),'; c=',c.n(),'; d=',d.n())"
   ]
  },
  {
   "cell_type": "markdown",
   "metadata": {},
   "source": [
    "<p>El criterio de parada dependerá de la cota de error que estemos considerando, en esta primera iteración, tenemos que $l_2=r(b-a)$ donde $a$ y $b$ son los valores iniciales.</p>"
   ]
  },
  {
   "cell_type": "code",
   "execution_count": 6,
   "metadata": {},
   "outputs": [
    {
     "data": {
      "text/plain": [
       "2.47213595499958"
      ]
     },
     "execution_count": 6,
     "metadata": {},
     "output_type": "execute_result"
    }
   ],
   "source": [
    "(b-a).n()"
   ]
  },
  {
   "cell_type": "markdown",
   "metadata": {},
   "source": [
    "<p>Si queremos poder asegurar dos cifras decimales exactas, podemos escribir el algoritmo:</p>"
   ]
  },
  {
   "cell_type": "code",
   "execution_count": 7,
   "metadata": {},
   "outputs": [],
   "source": [
    "error=10^(-2)"
   ]
  },
  {
   "cell_type": "code",
   "execution_count": 8,
   "metadata": {},
   "outputs": [
    {
     "name": "stdout",
     "output_type": "stream",
     "text": [
      "iter: 1 ; a= -1.00000000000000 ; b= 1.47213595499958\n",
      "iter: 2 ; a= -1.00000000000000 ; b= 0.527864045000420\n",
      "iter: 3 ; a= -1.00000000000000 ; b= -0.0557280900008412\n",
      "iter: 4 ; a= -0.639320225002103 ; b= -0.0557280900008412\n",
      "iter: 5 ; a= -0.639320225002103 ; b= -0.278640450004206\n",
      "iter: 6 ; a= -0.501552810007571 ; b= -0.278640450004206\n",
      "iter: 7 ; a= -0.416407864998738 ; b= -0.278640450004206\n",
      "iter: 8 ; a= -0.416407864998738 ; b= -0.331262919989906\n",
      "iter: 9 ; a= -0.383885389975605 ; b= -0.331262919989906\n",
      "iter: 10 ; a= -0.363785395013039 ; b= -0.331262919989906\n",
      "iter: 11 ; a= -0.363785395013039 ; b= -0.343685400050473\n",
      "iter: 12 ; a= -0.356107880111040 ; b= -0.343685400050473\n",
      "iter: 13 ; a= -0.356107880111040 ; b= -0.348430365209042\n"
     ]
    }
   ],
   "source": [
    "a=-1;b=3;r=(sqrt(5)-1)/2;c=a+(1-r)*(b-a);d=a+r*(b-a);l=b-a;k=1;\n",
    "while l>=error:\n",
    "    if f(c)<f(d):\n",
    "        b=d;d=c;c=a+(1-r)*(b-a);l=b-a;\n",
    "        print('iter:', k, '; a=',a.n(), '; b=',b.n())\n",
    "    else:\n",
    "        a=c;c=d;d=a+r*(b-a);l=b-a;\n",
    "        print('iter:', k, '; a=',a.n(), '; b=',b.n())\n",
    "    k=k+1"
   ]
  },
  {
   "cell_type": "markdown",
   "metadata": {},
   "source": [
    "<h3>Método de Newton</h3>\n",
    "<p>Si para este mismo problema hubiéramos usado el método de Newton, comenzando en $x_0=3$</p>"
   ]
  },
  {
   "cell_type": "code",
   "execution_count": 9,
   "metadata": {},
   "outputs": [],
   "source": [
    "f(x)=x^2+exp(x)"
   ]
  },
  {
   "cell_type": "code",
   "execution_count": 10,
   "metadata": {},
   "outputs": [
    {
     "name": "stdout",
     "output_type": "stream",
     "text": [
      "iter 1 ; x0= 1.81888599702548\n",
      "iter 2 ; x0= 0.618301227903981\n",
      "iter 3 ; x0= -0.183710566270054\n",
      "iter 4 ; x0= -0.347808910867265\n",
      "iter 5 ; x0= -0.351731703911890\n",
      "iter 6 ; x0= -0.351733711248672\n",
      "iter 7 ; x0= -0.351733711249196\n",
      "iter 8 ; x0= -0.351733711249196\n"
     ]
    }
   ],
   "source": [
    "fx=diff(f(x),x);fx2=diff(f(x),x,2);x0=3;iteraciones=8;\n",
    "for i in range(iteraciones):\n",
    "    x0=x0-fx(x=x0)/fx2(x=x0);\n",
    "    print('iter',i+1,'; x0=',x0.n())"
   ]
  },
  {
   "cell_type": "markdown",
   "metadata": {},
   "source": [
    "<p>Para poder aplicar el método de Newton necesitamos que se verifiquen las condiciones de Fourier. En la siguiente gráfica vemos cómo ni $f''(x)$ ni $f^{(3)}(x)$ se anulan en $[-1,3]$, además</p>\n",
    "<p>$$f'(3)f^{(3)}(3)>0$$</p>\n",
    "<p>por lo que la elección del punto de inicio ha sido la adecuada.</p>"
   ]
  },
  {
   "cell_type": "code",
   "execution_count": 15,
   "metadata": {},
   "outputs": [
    {
     "data": {
      "image/png": "[encoded data removed]",
      "text/plain": [
       "Graphics object consisting of 3 graphics primitives"
      ]
     },
     "execution_count": 15,
     "metadata": {},
     "output_type": "execute_result"
    }
   ],
   "source": [
    "fx3=f.diff(x,3)\n",
    "plot(fx,(x,-1,3))+plot(fx2,(x,-1,3),color='red')+plot(fx3,(x,-1,3),color='green')"
   ]
  },
  {
   "cell_type": "markdown",
   "metadata": {},
   "source": [
    "<p>Se aprecia la convergencia mucho más rápida de este método, como estamos buscando solución de la ecuación $f'(x)=0$, usando el método de parada dado por</p>\n",
    "<p>$$ \\epsilon_n\\leq \\frac{|f'(x)|}{\\min \\limits _{x\\in[a,b]|f''(x)|}},$$</p>\n",
    "<p>tendríamos que calcular una cota del valor absoluto de la segunda derivada de $f(x)$</p>"
   ]
  },
  {
   "cell_type": "code",
   "execution_count": 16,
   "metadata": {},
   "outputs": [
    {
     "data": {
      "image/png": "[encoded data removed]",
      "text/plain": [
       "Graphics object consisting of 1 graphics primitive"
      ]
     },
     "execution_count": 16,
     "metadata": {},
     "output_type": "execute_result"
    }
   ],
   "source": [
    "plot(fx2,(x,-1,3))\n"
   ]
  },
  {
   "cell_type": "code",
   "execution_count": 17,
   "metadata": {},
   "outputs": [],
   "source": [
    "minder2=fx2(x=-1)"
   ]
  },
  {
   "cell_type": "code",
   "execution_count": 18,
   "metadata": {},
   "outputs": [
    {
     "name": "stdout",
     "output_type": "stream",
     "text": [
      "iter 1 ; x0= 1.81888599702548 ; error= 4.13988931743839\n",
      "iter 2 ; x0= 0.618301227903981 ; error= 1.30596821339530\n",
      "iter 3 ; x0= -0.183710566270054 ; error= 0.196274982728510\n",
      "iter 4 ; x0= -0.347808910867265 ; error= 0.00448333433264886\n"
     ]
    }
   ],
   "source": [
    "i=1;x0=3;eps=abs(fx(x=3))/minder2;\n",
    "while eps>=error:\n",
    "    x0=x0-fx(x=x0)/fx2(x=x0);\n",
    "    eps=abs(fx(x=x0))/minder2;\n",
    "    print('iter',i,'; x0=', x0.n(),'; error=', eps.n())\n",
    "    i=i+1;"
   ]
  },
  {
   "cell_type": "markdown",
   "metadata": {},
   "source": [
    "<h3>Método de interpolación cuadrático</h3>\n",
    "<p>Como hemos visto en clase este método aproxima la función que queremos optimar mediante una parábola. Si consideramos el mismo ejemplo:</p>\n",
    "<p>$$f(x)=x^2+e^x$$</p>\n",
    "<p>por tanto si partimos de una terna $\\{x_1,x_2,x_3\\}$, con $x_1<x_2<x_3$ con $f(x_2)\\leq f(x_1)$ y $f(x_2)\\leq f(x_3)$,</p>\n",
    "<p>podemos considerar en nuestro ejemplo $x_1=-1$ $x_2=1$ $x_3=3$,</p>\n",
    "<p>la fórmula general del vértice de la parábola que pasa por $\\{(x_1,f_1), (x_2,f_2),(x_3,f_3)\\}$, es</p>\n",
    "<p>$$\\widehat{x}=\\frac{1}{2}\\frac{(x_2^2-x_3^2)f_1+(x_3^2-x_1^2)f_2+(x_1^2-x_2^2)f_3}{(x_2-x_3)f_1+(x_3-x_1)f_2+(x_1-x_2)f_3}$$</p>"
   ]
  },
  {
   "cell_type": "code",
   "execution_count": 19,
   "metadata": {},
   "outputs": [],
   "source": [
    "f(x)=x^2+exp(x)"
   ]
  },
  {
   "cell_type": "code",
   "execution_count": 20,
   "metadata": {},
   "outputs": [],
   "source": [
    "x1=-1;x2=1;x3=3;f1=f(x1);f2=f(x2);f3=f(x3)\n",
    "x4=1/2*((x2^2-x3^2)*f1+(x3^2-x1^2)*f2+(x1^2-x2^2)*f3)/((x2-x3)*f1+(x3-x1)*f2+(x1-x2)*f3);f4=f(x4)"
   ]
  },
  {
   "cell_type": "code",
   "execution_count": 21,
   "metadata": {},
   "outputs": [
    {
     "data": {
      "text/plain": [
       "-0.204233169248874"
      ]
     },
     "execution_count": 21,
     "metadata": {},
     "output_type": "execute_result"
    }
   ],
   "source": [
    "x4.n()"
   ]
  },
  {
   "cell_type": "markdown",
   "metadata": {},
   "source": [
    "<p>Por tanto $x_1<\\widehat x< x_2$, tenemos ahora que comparar las imágenes de $x_2$ y $\\widehat x$ mediante $f$, para descartar uno de los extremos del intervalo, $x_1$ ó $x_3$:</p>"
   ]
  },
  {
   "cell_type": "code",
   "execution_count": 22,
   "metadata": {},
   "outputs": [
    {
     "name": "stdout",
     "output_type": "stream",
     "text": [
      "f(x1)= 1.36787944117144 ; f(x4)= 0.856983440025922 ; f(x2)= 3.71828182845905\n"
     ]
    }
   ],
   "source": [
    "print('f(x1)=',f1.n(),'; f(x4)=',f4.n(),'; f(x2)=',f(x2).n())"
   ]
  },
  {
   "cell_type": "markdown",
   "metadata": {},
   "source": [
    "<p>Así en la siguiente iteración, consideraríamos el conjunto de puntos $\\{x_1,\\widehat{x},x_2\\}$. Hemos descartado el extremo $x_3$.</p>\n",
    "<p>Podemos utilizar el criterio de parada $|\\widehat{x}_{k}-\\widehat{x}_{k-1}|\\leq \\epsilon$, para ello necesitamos al menos dos iteraciones o poner de inicio $\\widehat{x}_0=10^{99}$, entendiendo que es un valor muy lejano al mínimo que queremos aproximar</p>"
   ]
  },
  {
   "cell_type": "code",
   "execution_count": 23,
   "metadata": {},
   "outputs": [],
   "source": [
    "x3=x2;x2=x4;xk=x4;f3=f2;f2=f4;\n",
    "x4=1/2*((x2^2-x3^2)*f1+(x3^2-x1^2)*f2+(x1^2-x2^2)*f3)/((x2-x3)*f1+(x3-x1)*f2+(x1-x2)*f3);f4=f(x4)"
   ]
  },
  {
   "cell_type": "code",
   "execution_count": 24,
   "metadata": {},
   "outputs": [
    {
     "data": {
      "text/plain": [
       "-0.204233169248874"
      ]
     },
     "execution_count": 24,
     "metadata": {},
     "output_type": "execute_result"
    }
   ],
   "source": [
    "x4.n();x2.n()"
   ]
  },
  {
   "cell_type": "code",
   "execution_count": 25,
   "metadata": {},
   "outputs": [
    {
     "data": {
      "text/plain": [
       "0.185157631121317"
      ]
     },
     "execution_count": 25,
     "metadata": {},
     "output_type": "execute_result"
    }
   ],
   "source": [
    "abs(x4-xk).n()"
   ]
  },
  {
   "cell_type": "markdown",
   "metadata": {},
   "source": [
    "<p>Usando dos iteraciones de la interpolación cuadrática no hemos conseguido ninguna cifra decimal exacta.</p>"
   ]
  },
  {
   "cell_type": "code",
   "execution_count": 26,
   "metadata": {},
   "outputs": [
    {
     "name": "stdout",
     "output_type": "stream",
     "text": [
      "f(x1)= 1.36787944117144 ; f(x4)= 0.829094658370015 ; f(x2)= 0.856983440025922\n"
     ]
    }
   ],
   "source": [
    "print('f(x1)=',f1.n(),'; f(x4)=',f4.n(),'; f(x2)=',f(x2).n())"
   ]
  },
  {
   "cell_type": "markdown",
   "metadata": {},
   "source": [
    "<p>Por lo tanto de nuevo descartamos $x_3$, la nueva terna sería $\\{x_1,\\widehat{x},x_2\\}$, de esta forma si el criterio de parada fuese $|\\widehat{x}_k-\\widehat{x}_{k-1}|<10^{-2}$ tendriamos que seguir iterando:</p>"
   ]
  },
  {
   "cell_type": "code",
   "execution_count": 27,
   "metadata": {},
   "outputs": [],
   "source": [
    "x3=x2;x2=x4;xk=x4;f3=f2;f2=f4\n",
    "x4=1/2*((x2^2-x3^2)*f1+(x3^2-x1^2)*f2+(x1^2-x2^2)*f3)/((x2-x3)*f1+(x3-x1)*f2+(x1-x2)*f3);f4=f(x4)"
   ]
  },
  {
   "cell_type": "code",
   "execution_count": 28,
   "metadata": {},
   "outputs": [
    {
     "data": {
      "text/plain": [
       "-0.389390800370191"
      ]
     },
     "execution_count": 28,
     "metadata": {},
     "output_type": "execute_result"
    }
   ],
   "source": [
    "x4.n();x2.n()"
   ]
  },
  {
   "cell_type": "code",
   "execution_count": 29,
   "metadata": {},
   "outputs": [
    {
     "data": {
      "text/plain": [
       "0.0345630786094488"
      ]
     },
     "execution_count": 29,
     "metadata": {},
     "output_type": "execute_result"
    }
   ],
   "source": [
    "abs(xk-x4).n()"
   ]
  },
  {
   "cell_type": "markdown",
   "metadata": {},
   "source": [
    "<p>No se ha alcanzado el criterio de parada, por lo que seguimos iterando</p>"
   ]
  },
  {
   "cell_type": "code",
   "execution_count": 30,
   "metadata": {},
   "outputs": [
    {
     "name": "stdout",
     "output_type": "stream",
     "text": [
      "f(x1)= 1.36787944117144 ; f(x2)= 0.829094658370015 ; f(x4)= 0.827196962670640\n"
     ]
    }
   ],
   "source": [
    "print('f(x1)=',f1.n(),'; f(x2)=',f2.n(),'; f(x4)=',f(x4).n())"
   ]
  },
  {
   "cell_type": "markdown",
   "metadata": {},
   "source": [
    "<p>Ahora descartamos $x_1$ y seguimos iterando</p>"
   ]
  },
  {
   "cell_type": "code",
   "execution_count": 31,
   "metadata": {},
   "outputs": [],
   "source": [
    "xk=x4;x1=x2;x2=x4;f1=f2;f2=f4;\n",
    "x4=1/2*((x2^2-x3^2)*f1+(x3^2-x1^2)*f2+(x1^2-x2^2)*f3)/((x2-x3)*f1+(x3-x1)*f2+(x1-x2)*f3);f4=f(x4)"
   ]
  },
  {
   "cell_type": "code",
   "execution_count": 32,
   "metadata": {},
   "outputs": [
    {
     "data": {
      "text/plain": [
       "0.00283365763968957"
      ]
     },
     "execution_count": 32,
     "metadata": {},
     "output_type": "execute_result"
    }
   ],
   "source": [
    "abs(xk-x4).n()"
   ]
  },
  {
   "cell_type": "code",
   "execution_count": 33,
   "metadata": {},
   "outputs": [
    {
     "data": {
      "text/plain": [
       "-0.351994064121052"
      ]
     },
     "execution_count": 33,
     "metadata": {},
     "output_type": "execute_result"
    }
   ],
   "source": [
    "x4.n()"
   ]
  },
  {
   "cell_type": "markdown",
   "metadata": {},
   "source": [
    "<p>Ya hemos obtenido la precisión requerida, mediante cuatro iteraciones del método de interpolación cuadrática.</p>\n",
    "<h3>Interpolación cúbica</h3>\n",
    "<p>Ahora vamos a interpolar mediante un polinomio de grado 3, lo que se conoce como interpolación cúbica. El teorema de interpolación nos dice que necesitamos conocer cuatro puntos por donde pase nuestro polinomio, o dos donde conozcamos cúanto vale $f(x_i)$ y también $f'(x_i)$.</p>\n",
    "<p>Si partimos de un intervalo donde la función es unimodal, el signo de la derivada será $f'(x_1)<0$ y $f'(x_2)>0$. Supongamos por tanto, que tenemos un intervalo $[x_1,x_2]$ donde la función es unimodal, y conocidos: $f_1=f(x_1)$, $f'_1=f'(x_1)$, $f_2=f(x_2)$, $f'_2=f'(x_2)$.</p>\n",
    "<p>En ese caso el mínimo del polinomio cúbico interpolador es:</p>\n",
    "<p>$$\\widehat{x}=x_2-\\left(\\frac{f'_2+w-z}{f'_2-f_1'+2w}\\right)(x_2-x_1)$$</p>\n",
    "<p>donde</p>\n",
    "<p>$$z=\\frac{3(f_1-f_2)}{x_2-x_1}+f'_1+f'_2\\qquad w=\\sqrt{z^2-f'_1f'_2}$$</p>\n",
    "<p>Una vez que conozcamos el mínimo procedemos a eliminar uno de los dos extremos, desechando aquél donde el signo de la derivada coincida con el signo de la derivada en $\\widehat{x}$.</p>\n",
    "<p>Como en el caso de interpolación cuadrática, usaremos el criterio de parada, $|\\widehat{x}_{k+1}-\\widehat{x}_k|<\\epsilon$</p>\n",
    "<p>Usaremos el mismo ejemplo</p>\n",
    "<p>$$f(x)=x^2+e^x$$</p>\n",
    "<p>en el intervalo $[-1,3]$:</p>"
   ]
  },
  {
   "cell_type": "code",
   "execution_count": 34,
   "metadata": {},
   "outputs": [],
   "source": [
    "f(x)=x^2+exp(x);fx=f.diff()"
   ]
  },
  {
   "cell_type": "code",
   "execution_count": 35,
   "metadata": {},
   "outputs": [],
   "source": [
    "x1=-1.;x2=3.;f1=f(x1);f2=f(x2);fp1=fx(x1);fp2=fx(x2); xk=10^(99);k=1;\n",
    "z=3*(f1-f2)/(x2-x1)+fp1+fp2;w=sqrt(z^2-fp1*fp2);\n",
    "x3=x2-(fp2+w-z)/(fp2-fp1+2*w)*(x2-x1);f3=f(x3);fp3=fx(x3);"
   ]
  },
  {
   "cell_type": "code",
   "execution_count": 36,
   "metadata": {},
   "outputs": [
    {
     "data": {
      "text/plain": [
       "1.61402290502583"
      ]
     },
     "execution_count": 36,
     "metadata": {},
     "output_type": "execute_result"
    }
   ],
   "source": [
    "x3.n();fp3.n()"
   ]
  },
  {
   "cell_type": "markdown",
   "metadata": {},
   "source": [
    "<p>Como $f'(x_3)>0$ y suponemos que nuestra función es unimodal en el intervalo dado, descartaríamos el extremo $x_2$ y volveríamos a iterar:</p>"
   ]
  },
  {
   "cell_type": "code",
   "execution_count": 37,
   "metadata": {},
   "outputs": [],
   "source": [
    "xk=x3;x2=x3;f2=f3;fp2=fp3;\n",
    "z=3*(f1-f2)/(x2-x1)+fp1+fp2;w=sqrt(z^2-fp1*fp2);\n",
    "x3=x2-(fp2+w-z)/(fp2-fp1+2*w)*(x2-x1);f3=f(x3);fp3=fx(x3);"
   ]
  },
  {
   "cell_type": "code",
   "execution_count": 38,
   "metadata": {},
   "outputs": [
    {
     "data": {
      "text/plain": [
       "0.549915281866460"
      ]
     },
     "execution_count": 38,
     "metadata": {},
     "output_type": "execute_result"
    }
   ],
   "source": [
    "abs(xk-x3).n()"
   ]
  },
  {
   "cell_type": "markdown",
   "metadata": {},
   "source": [
    "<p>Si tuviésemos la condicion $|\\widehat{x}_k-\\widehat{x}_{k-1}|<10^{-2}$, no sería suficiente. Estudiando el signo de $f'(x_3)$</p>"
   ]
  },
  {
   "cell_type": "code",
   "execution_count": 39,
   "metadata": {},
   "outputs": [
    {
     "data": {
      "text/plain": [
       "-0.00127987106681338"
      ]
     },
     "execution_count": 39,
     "metadata": {},
     "output_type": "execute_result"
    }
   ],
   "source": [
    "fp3.n()"
   ]
  },
  {
   "cell_type": "code",
   "execution_count": 40,
   "metadata": {},
   "outputs": [],
   "source": [
    "xk=x3;x1=x3;f1=f3;fp1=fp3;\n",
    "z=3*(f1-f2)/(x2-x1)+fp1+fp2;w=sqrt(z^2-fp1*fp2);\n",
    "x3=x2-(fp2+w-z)/(fp2-fp1+2*w)*(x2-x1);f3=f(x3);fp3=fx(x3);"
   ]
  },
  {
   "cell_type": "code",
   "execution_count": 41,
   "metadata": {},
   "outputs": [
    {
     "data": {
      "text/plain": [
       "0.000477360270415228"
      ]
     },
     "execution_count": 41,
     "metadata": {},
     "output_type": "execute_result"
    }
   ],
   "source": [
    "abs(xk-x3).n()"
   ]
  },
  {
   "cell_type": "code",
   "execution_count": 42,
   "metadata": {},
   "outputs": [
    {
     "data": {
      "text/plain": [
       "-0.351729798480209"
      ]
     },
     "execution_count": 42,
     "metadata": {},
     "output_type": "execute_result"
    }
   ],
   "source": [
    "x3"
   ]
  },
  {
   "cell_type": "markdown",
   "metadata": {},
   "source": [
    "<p>Si el criterio de parada es $|\\widehat{x}_k-\\widehat{x}_{k-1}|<10^{-2}$, ya tendríamos la aproximación $x_3$, tras tres iteraciones.</p>"
   ]
  },
  {
   "cell_type": "code",
   "execution_count": 43,
   "metadata": {},
   "outputs": [
    {
     "data": {
      "text/html": [
       "<center><h4>E.T.S.I.I. - GRADO I.I. TECNOLOGÍAS INFORMÁTICAS</h4></center><center><h4>Matemática Aplicada a Sistemas de Información - PRIMERA PRÁCTICA DE LABORATORIO</h4></center><hr  align=center><center>APELLIDOS, NOMBRE: <INPUT value= \"\",type=text size=70> <INPUT type=submit value=1-55D357><hr  align=center></center><hr  align=center><b> <span style=\"color: #0000ff;\">EJERCICIO 1 </span></b><br> Consideremos la función <script type=\"math/tex; mode=display\">f(x)=  e^{2x} \\sin(3 x)</script> Queremos calcular el mínimo de dicha función en el intervalo <script type=\"math/tex\">[1,2]</script>:<ol><li>En el intervalo <script type=\"math/tex\">[1,2]</script> ¿se verifica que <script type=\"math/tex\">f^{(2)}(x) \\neq 0</script> para todo <script type=\"math/tex\">x\\in[1,2]</script>? \n",
       " En caso contrario, dar el mayor intervalo donde se verifique,\n",
       " redondeando a una cifra decimal, por ejemplo, si el intervalo es [1.324, 1.543],\n",
       " redondeamos al intervalo [1.4,1.5]</li><li>En el intervalo <script type=\"math/tex\">[1,2]</script> ¿se verifica que <script type=\"math/tex\">f^{(2)}(x)\\neq 0</script> y <script type=\"math/tex\">f^{(3)}(x) \\neq 0</script> para todo <script type=\"math/tex\">x\\in[1,2]</script>? \n",
       " En caso contrario, dar el mayor intervalo donde se verifique,redondeando a una cifra decimal, \n",
       " por ejemplo, si el intervalo es [1.324, 1.543], redondeamos al intervalo [1.4,1.5], \n",
       " dar también el punto de inicio <script type=\"math/tex\">x_0</script></li><li>Considerando el intervalo del apartado anterior, dar la cota inferior de <script type=\"math/tex\">\\min_{x\\in[a,b]}|f^{(2)}(x)|</script> \n",
       " para estimar el error cometido, redondeando a una cifra decimal, \n",
       " por ejemplo si <script type=\"math/tex\">\\min_{x\\in[a,b]}|f^{(2)}(x)|\\geq 7.888</script> la cota sería 7.8</li><li>Si aplicamos la regla de Fourier al intervalo del apartado 2, \n",
       " y la cota de la segunda derivada del apartado 3, \n",
       " ¿Cuántas iteraciones necesitamos para tener 4 cifras decimales exactas?</li><li>Si aplicamos la regla de Fourier al intervalo del apartado 2, \n",
       " y la cota de la segunda derivada del apartado 3, \n",
       " ¿Qué valor <script type=\"math/tex\">x_n</script> nos asegura 6 cifras decimales exactas?</li></ol>Marcar la respuesta correcta.<br><hr  align=center><b> <span style=\"color: #ff0000;\">Respuesta al apartado 1 </span></b><br><br> 1.<input type=checkbox> No se verifica en [1,2], se verifica en [1,1.6] <br> 2.<input type=checkbox> No se verifica en [1,2], se verifica en [1.5,2] <br> 3.<input type=checkbox> No se verifica en [1,2], se verifica en [1.3,2] <br> 4.<input type=checkbox> No se verifica en [1,2], se verifica en [1.4,2]<br><br><b> <span style=\"color: #ff0000;\">Respuesta al apartado 2 </span></b><br><br> 1.<input type=checkbox> No se verifica en [1,2], se verifica en [1.5,1.9], <script type=\"math/tex\">x_0=1.9</script> <br> 2.<input type=checkbox> No se verifica en [1,2], se verifica en [1.5,2], <script type=\"math/tex\">x_0=2</script> <br> 3.<input type=checkbox> No se verifica en [1,2], se verifica en [1.3,1.8], <script type=\"math/tex\">x_0=1.8</script> <br> 4.<input type=checkbox> No se verifica en [1,2], se verifica en [1.1,1.7], <script type=\"math/tex\">x_0=1.7</script><br><br><b> <span style=\"color: #ff0000;\">Respuesta al apartado 3 </span></b><br><br> 1.<input type=checkbox> <script type=\"math/tex\">\\min_{x\\in[a,b]}|f^{(2)}(x)|\\leq 26.6</script> <br> 2.<input type=checkbox> <script type=\"math/tex\">\\min_{x\\in[a,b]}|f^{(2)}(x)|\\leq 47.3</script> <br> 3.<input type=checkbox> <script type=\"math/tex\">\\min_{x\\in[a,b]}|f^{(2)}(x)|\\leq 19.2</script> <br> 4.<input type=checkbox> <script type=\"math/tex\">\\min_{x\\in[a,b]}|f^{(2)}(x)|\\leq 62.7</script><br><br><b> <span style=\"color: #ff0000;\">Respuesta al apartado 4 </span></b><br><br> 1.<input type=checkbox> Al menos 4 iteraciones <br> 2.<input type=checkbox> Al menos 3 iteraciones <br> 3.<input type=checkbox> Al menos 7 iteraciones <br> 4.<input type=checkbox> Al menos 2 iteraciones<br><br><b> <span style=\"color: #ff0000;\">Respuesta al apartado 5 </span></b><br><br> <table style=\" width:100%\"> <tr> <td style=\"border:none; text-align:left\">1.<input type=checkbox> 1.32431592358943    </td> <td style=\"border:none; text-align:left\">2.<input type=checkbox> 1.75057230239769    </td> </tr> <tr> <td style=\"border:none; text-align:left\">3.<input type=checkbox> 1.76679719872260    </td> <td style=\"border:none; text-align:left\">4.<input type=checkbox> Ninguna de las otras respuestas.    </td> </tr> </table><br><br><hr  align=center><b> <span style=\"color: #0000ff;\">EJERCICIO 2 </span></b><br> Consideremos la función <script type=\"math/tex; mode=display\">f(x)=- e^{x} \\cos(4 x)</script> Queremos calcular el mínimo de dicha función en el intervalo <script type=\"math/tex\">[1,2]</script>:<ol><li>Si partimos del intervalo <script type=\"math/tex\">[1,2]</script> ¿cuántas iteraciones del método de la sección áurea \n",
       " necesitamos para poder asegurar 7 cifras decimales exactas</li><li>Si ejecutamos cinco veces el método de la sección aurea, ¿cúal es la sucesión de \n",
       " extremos descartados?</li><li>El extremo inferior de la iteración que nos asegura 3 cifras decimales exactas es:</li></ol>Marcar la respuesta correcta.<br><hr  align=center><b> <span style=\"color: #ff0000;\">Respuesta al apartado 1 </span></b><br><br> 1.<input type=checkbox> Al menos 20 iteraciones <br> 2.<input type=checkbox> Al menos 34 iteraciones <br> 3.<input type=checkbox> Al menos 15 iteraciones <br> 4.<input type=checkbox> Al menos 39 iteraciones<br><br><b> <span style=\"color: #ff0000;\">Respuesta al apartado 2 </span></b><br><br> 1.<input type=checkbox> La sucesión de descartes es: b, b, b, a, b <br> 2.<input type=checkbox> La sucesión de descartes es: b, b, a, b, a <br> 3.<input type=checkbox> La sucesión de descartes es: b, b, a, a, b <br> 4.<input type=checkbox> La sucesión de descartes es: a, b, a, b, a<br><br><b> <span style=\"color: #ff0000;\">Respuesta al apartado 3 </span></b><br><br> <table style=\" width:100%\"> <tr> <td style=\"border:none; text-align:left\">1.<input type=checkbox> 1.63198885064353    </td> <td style=\"border:none; text-align:left\">2.<input type=checkbox> 1.29444858366199    </td> </tr> <tr> <td style=\"border:none; text-align:left\">3.<input type=checkbox> 1.63164271010010    </td> <td style=\"border:none; text-align:left\">4.<input type=checkbox> Ninguna de las otras respuestas.    </td> </tr> </table><br><br><hr  align=center><b> <span style=\"color: #0000ff;\">EJERCICIO 3 </span></b><br> Consideremos la función <script type=\"math/tex; mode=display\">f(x)=3 x^{2} -   e^{x}</script> Queremos calcular el mínimo de dicha función en el intervalo <script type=\"math/tex\">[0,1]</script>:<ol><li>Si partimos de valores iniciales <script type=\"math/tex\">x_1=0, x_2=1</script> \n",
       " ¿cuántas iteraciones del método de interpolación cúbica necesitamos \n",
       " para poder asegurar <script type=\"math/tex\">|\\widehat{x}_{k}-\\widehat{x}_{k-1}|<10^{-5}</script>? </li><li>Si ejecutamos cinco veces el método de interpolación cúbica,\n",
       " ¿cúal es la sucesión de extremos descartados?</li><li>El mínimo de la cúbica interpoladora de la iteración que nos asegura \n",
       " 4 cifras decimales exactas es:</li></ol>Marcar la respuesta correcta.<br><hr  align=center><b> <span style=\"color: #ff0000;\">Respuesta al apartado 1 </span></b><br><br> 1.<input type=checkbox> Al menos 3 iteraciones <br> 2.<input type=checkbox> Al menos 4 iteraciones <br> 3.<input type=checkbox> Al menos 6 iteraciones <br> 4.<input type=checkbox> Al menos 7 iteraciones<br><br><b> <span style=\"color: #ff0000;\">Respuesta al apartado 2 </span></b><br><br> 1.<input type=checkbox> La sucesión de descartes es: <script type=\"math/tex\">x_1,x_2,x_1,x_2,x_2</script> <br> 2.<input type=checkbox> La sucesión de descartes es: <script type=\"math/tex\">x_1,x_2,x_1,x_2,x_1</script> <br> 3.<input type=checkbox> La sucesión de descartes es: <script type=\"math/tex\">x_2,x_2,x_1,x_1,x_1</script> <br> 4.<input type=checkbox> La sucesión de descartes es: <script type=\"math/tex\">x_1,x_1,x_1,x_1,x_1</script><br><br><b> <span style=\"color: #ff0000;\">Respuesta al apartado 3 </span></b><br><br> <table style=\" width:100%\"> <tr> <td style=\"border:none; text-align:left\">1.<input type=checkbox> 0.910007769536231    </td> <td style=\"border:none; text-align:left\">2.<input type=checkbox> 0.204480519531424    </td> </tr> <tr> <td style=\"border:none; text-align:left\">3.<input type=checkbox> 0.831031452108246    </td> <td style=\"border:none; text-align:left\">4.<input type=checkbox> Ninguna de las otras respuestas.    </td> </tr> </table><br><br><hr  align=center><center><span style=\"font-size: x-small;\"> Final del documento </span></center>"
      ],
      "text/plain": [
       "<center><h4>E.T.S.I.I. - GRADO I.I. TECNOLOGÍAS INFORMÁTICAS</h4></center><center><h4>Matemática Aplicada a Sistemas de Información - PRIMERA PRÁCTICA DE LABORATORIO</h4></center><hr  align=center><center>APELLIDOS, NOMBRE: <INPUT value= \"\",type=text size=70> <INPUT type=submit value=1-55D357><hr  align=center></center><hr  align=center><b> <span style=\"color: #0000ff;\">EJERCICIO 1 </span></b><br> Consideremos la función <script type=\"math/tex; mode=display\">f(x)=  e^{2x} \\sin(3 x)</script> Queremos calcular el mínimo de dicha función en el intervalo <script type=\"math/tex\">[1,2]</script>:<ol><li>En el intervalo <script type=\"math/tex\">[1,2]</script> ¿se verifica que <script type=\"math/tex\">f^{(2)}(x) \\neq 0</script> para todo <script type=\"math/tex\">x\\in[1,2]</script>? \n",
       " En caso contrario, dar el mayor intervalo donde se verifique,\n",
       " redondeando a una cifra decimal, por ejemplo, si el intervalo es [1.324, 1.543],\n",
       " redondeamos al intervalo [1.4,1.5]</li><li>En el intervalo <script type=\"math/tex\">[1,2]</script> ¿se verifica que <script type=\"math/tex\">f^{(2)}(x)\\neq 0</script> y <script type=\"math/tex\">f^{(3)}(x) \\neq 0</script> para todo <script type=\"math/tex\">x\\in[1,2]</script>? \n",
       " En caso contrario, dar el mayor intervalo donde se verifique,redondeando a una cifra decimal, \n",
       " por ejemplo, si el intervalo es [1.324, 1.543], redondeamos al intervalo [1.4,1.5], \n",
       " dar también el punto de inicio <script type=\"math/tex\">x_0</script></li><li>Considerando el intervalo del apartado anterior, dar la cota inferior de <script type=\"math/tex\">\\min_{x\\in[a,b]}|f^{(2)}(x)|</script> \n",
       " para estimar el error cometido, redondeando a una cifra decimal, \n",
       " por ejemplo si <script type=\"math/tex\">\\min_{x\\in[a,b]}|f^{(2)}(x)|\\geq 7.888</script> la cota sería 7.8</li><li>Si aplicamos la regla de Fourier al intervalo del apartado 2, \n",
       " y la cota de la segunda derivada del apartado 3, \n",
       " ¿Cuántas iteraciones necesitamos para tener 4 cifras decimales exactas?</li><li>Si aplicamos la regla de Fourier al intervalo del apartado 2, \n",
       " y la cota de la segunda derivada del apartado 3, \n",
       " ¿Qué valor <script type=\"math/tex\">x_n</script> nos asegura 6 cifras decimales exactas?</li></ol>Marcar la respuesta correcta.<br><hr  align=center><b> <span style=\"color: #ff0000;\">Respuesta al apartado 1 </span></b><br><br> 1.<input type=checkbox> No se verifica en [1,2], se verifica en [1,1.6] <br> 2.<input type=checkbox> No se verifica en [1,2], se verifica en [1.5,2] <br> 3.<input type=checkbox> No se verifica en [1,2], se verifica en [1.3,2] <br> 4.<input type=checkbox> No se verifica en [1,2], se verifica en [1.4,2]<br><br><b> <span style=\"color: #ff0000;\">Respuesta al apartado 2 </span></b><br><br> 1.<input type=checkbox> No se verifica en [1,2], se verifica en [1.5,1.9], <script type=\"math/tex\">x_0=1.9</script> <br> 2.<input type=checkbox> No se verifica en [1,2], se verifica en [1.5,2], <script type=\"math/tex\">x_0=2</script> <br> 3.<input type=checkbox> No se verifica en [1,2], se verifica en [1.3,1.8], <script type=\"math/tex\">x_0=1.8</script> <br> 4.<input type=checkbox> No se verifica en [1,2], se verifica en [1.1,1.7], <script type=\"math/tex\">x_0=1.7</script><br><br><b> <span style=\"color: #ff0000;\">Respuesta al apartado 3 </span></b><br><br> 1.<input type=checkbox> <script type=\"math/tex\">\\min_{x\\in[a,b]}|f^{(2)}(x)|\\leq 26.6</script> <br> 2.<input type=checkbox> <script type=\"math/tex\">\\min_{x\\in[a,b]}|f^{(2)}(x)|\\leq 47.3</script> <br> 3.<input type=checkbox> <script type=\"math/tex\">\\min_{x\\in[a,b]}|f^{(2)}(x)|\\leq 19.2</script> <br> 4.<input type=checkbox> <script type=\"math/tex\">\\min_{x\\in[a,b]}|f^{(2)}(x)|\\leq 62.7</script><br><br><b> <span style=\"color: #ff0000;\">Respuesta al apartado 4 </span></b><br><br> 1.<input type=checkbox> Al menos 4 iteraciones <br> 2.<input type=checkbox> Al menos 3 iteraciones <br> 3.<input type=checkbox> Al menos 7 iteraciones <br> 4.<input type=checkbox> Al menos 2 iteraciones<br><br><b> <span style=\"color: #ff0000;\">Respuesta al apartado 5 </span></b><br><br> <table style=\" width:100%\"> <tr> <td style=\"border:none; text-align:left\">1.<input type=checkbox> 1.32431592358943    </td> <td style=\"border:none; text-align:left\">2.<input type=checkbox> 1.75057230239769    </td> </tr> <tr> <td style=\"border:none; text-align:left\">3.<input type=checkbox> 1.76679719872260    </td> <td style=\"border:none; text-align:left\">4.<input type=checkbox> Ninguna de las otras respuestas.    </td> </tr> </table><br><br><hr  align=center><b> <span style=\"color: #0000ff;\">EJERCICIO 2 </span></b><br> Consideremos la función <script type=\"math/tex; mode=display\">f(x)=- e^{x} \\cos(4 x)</script> Queremos calcular el mínimo de dicha función en el intervalo <script type=\"math/tex\">[1,2]</script>:<ol><li>Si partimos del intervalo <script type=\"math/tex\">[1,2]</script> ¿cuántas iteraciones del método de la sección áurea \n",
       " necesitamos para poder asegurar 7 cifras decimales exactas</li><li>Si ejecutamos cinco veces el método de la sección aurea, ¿cúal es la sucesión de \n",
       " extremos descartados?</li><li>El extremo inferior de la iteración que nos asegura 3 cifras decimales exactas es:</li></ol>Marcar la respuesta correcta.<br><hr  align=center><b> <span style=\"color: #ff0000;\">Respuesta al apartado 1 </span></b><br><br> 1.<input type=checkbox> Al menos 20 iteraciones <br> 2.<input type=checkbox> Al menos 34 iteraciones <br> 3.<input type=checkbox> Al menos 15 iteraciones <br> 4.<input type=checkbox> Al menos 39 iteraciones<br><br><b> <span style=\"color: #ff0000;\">Respuesta al apartado 2 </span></b><br><br> 1.<input type=checkbox> La sucesión de descartes es: b, b, b, a, b <br> 2.<input type=checkbox> La sucesión de descartes es: b, b, a, b, a <br> 3.<input type=checkbox> La sucesión de descartes es: b, b, a, a, b <br> 4.<input type=checkbox> La sucesión de descartes es: a, b, a, b, a<br><br><b> <span style=\"color: #ff0000;\">Respuesta al apartado 3 </span></b><br><br> <table style=\" width:100%\"> <tr> <td style=\"border:none; text-align:left\">1.<input type=checkbox> 1.63198885064353    </td> <td style=\"border:none; text-align:left\">2.<input type=checkbox> 1.29444858366199    </td> </tr> <tr> <td style=\"border:none; text-align:left\">3.<input type=checkbox> 1.63164271010010    </td> <td style=\"border:none; text-align:left\">4.<input type=checkbox> Ninguna de las otras respuestas.    </td> </tr> </table><br><br><hr  align=center><b> <span style=\"color: #0000ff;\">EJERCICIO 3 </span></b><br> Consideremos la función <script type=\"math/tex; mode=display\">f(x)=3 x^{2} -   e^{x}</script> Queremos calcular el mínimo de dicha función en el intervalo <script type=\"math/tex\">[0,1]</script>:<ol><li>Si partimos de valores iniciales <script type=\"math/tex\">x_1=0, x_2=1</script> \n",
       " ¿cuántas iteraciones del método de interpolación cúbica necesitamos \n",
       " para poder asegurar <script type=\"math/tex\">|\\widehat{x}_{k}-\\widehat{x}_{k-1}|<10^{-5}</script>? </li><li>Si ejecutamos cinco veces el método de interpolación cúbica,\n",
       " ¿cúal es la sucesión de extremos descartados?</li><li>El mínimo de la cúbica interpoladora de la iteración que nos asegura \n",
       " 4 cifras decimales exactas es:</li></ol>Marcar la respuesta correcta.<br><hr  align=center><b> <span style=\"color: #ff0000;\">Respuesta al apartado 1 </span></b><br><br> 1.<input type=checkbox> Al menos 3 iteraciones <br> 2.<input type=checkbox> Al menos 4 iteraciones <br> 3.<input type=checkbox> Al menos 6 iteraciones <br> 4.<input type=checkbox> Al menos 7 iteraciones<br><br><b> <span style=\"color: #ff0000;\">Respuesta al apartado 2 </span></b><br><br> 1.<input type=checkbox> La sucesión de descartes es: <script type=\"math/tex\">x_1,x_2,x_1,x_2,x_2</script> <br> 2.<input type=checkbox> La sucesión de descartes es: <script type=\"math/tex\">x_1,x_2,x_1,x_2,x_1</script> <br> 3.<input type=checkbox> La sucesión de descartes es: <script type=\"math/tex\">x_2,x_2,x_1,x_1,x_1</script> <br> 4.<input type=checkbox> La sucesión de descartes es: <script type=\"math/tex\">x_1,x_1,x_1,x_1,x_1</script><br><br><b> <span style=\"color: #ff0000;\">Respuesta al apartado 3 </span></b><br><br> <table style=\" width:100%\"> <tr> <td style=\"border:none; text-align:left\">1.<input type=checkbox> 0.910007769536231    </td> <td style=\"border:none; text-align:left\">2.<input type=checkbox> 0.204480519531424    </td> </tr> <tr> <td style=\"border:none; text-align:left\">3.<input type=checkbox> 0.831031452108246    </td> <td style=\"border:none; text-align:left\">4.<input type=checkbox> Ninguna de las otras respuestas.    </td> </tr> </table><br><br><hr  align=center><center><span style=\"font-size: x-small;\"> Final del documento </span></center>"
      ]
     },
     "metadata": {},
     "output_type": "display_data"
    }
   ],
   "source": [
    "NUMERO_ALUMNO = 1\n",
    "\n",
    "NOMBRE_FICHERO_EXAMEN = 'Ex_Lab_MASI1_t.htl'\n",
    "load('codigo_examinar_html.sage')\n",
    "\n",
    "if NUMERO_ALUMNO > 0:\n",
    "    lector_examenes(NOMBRE_FICHERO_EXAMEN,NUMERO_ALUMNO,False)\n"
   ]
  },
  {
   "cell_type": "code",
   "execution_count": 35,
   "metadata": {},
   "outputs": [
    {
     "data": {
      "text/html": [
       "<html><script type=\"math/tex; mode=display\">\\newcommand{\\Bold}[1]{\\mathbf{#1}}e^{\\left(2 \\, x\\right)} \\sin\\left(3 \\, x\\right)</script></html>"
      ],
      "text/plain": [
       "e^(2*x)*sin(3*x)"
      ]
     },
     "metadata": {},
     "output_type": "display_data"
    }
   ],
   "source": [
    "f(x)= (exp(2*x)) * sin(3*x)\n",
    "show(f(x))"
   ]
  },
  {
   "cell_type": "code",
   "execution_count": 40,
   "metadata": {},
   "outputs": [
    {
     "data": {
      "image/png": "[encoded data removed]",
      "text/plain": [
       "Graphics object consisting of 1 graphics primitive"
      ]
     },
     "execution_count": 40,
     "metadata": {},
     "output_type": "execute_result"
    }
   ],
   "source": [
    "#No se verifica en [1,2], se verifica en [1,1.6]\n",
    "#No se verifica en [1,2], se verifica en [1.5,2]\n",
    "#No se verifica en [1,2], se verifica en [1.3,2]\n",
    "#No se verifica en [1,2], se verifica en [1.4,2]\n",
    "# Derivada: fx2=f.diff(x,2)\n",
    "\n",
    "plot(f(x),(x,1,1.6))"
   ]
  },
  {
   "cell_type": "code",
   "execution_count": 51,
   "metadata": {},
   "outputs": [
    {
     "data": {
      "image/png": "[encoded data removed]",
      "text/plain": [
       "Graphics object consisting of 1 graphics primitive"
      ]
     },
     "execution_count": 51,
     "metadata": {},
     "output_type": "execute_result"
    }
   ],
   "source": [
    "# APARTADO 1\n",
    "# Derivada segunda: \n",
    "#No se verifica en [1,2], se verifica en [1,1.6]\n",
    "#No se verifica en [1,2], se verifica en [1.5,2]\n",
    "#No se verifica en [1,2], se verifica en [1.3,2]\n",
    "#No se verifica en [1,2], se verifica en [1.4,2]\n",
    "fx2=f.diff(x,2)\n",
    "plot(fx2(x),(x,1.5,2))\n",
    "# El 1.5, 2 no corta"
   ]
  },
  {
   "cell_type": "code",
   "execution_count": 60,
   "metadata": {},
   "outputs": [
    {
     "data": {
      "image/png": "[encoded data removed]",
      "text/plain": [
       "Graphics object consisting of 2 graphics primitives"
      ]
     },
     "execution_count": 60,
     "metadata": {},
     "output_type": "execute_result"
    }
   ],
   "source": [
    "# APARTADO 2\n",
    "# Derivada segunda y tercera \n",
    "#No se verifica en [1,2], se verifica en [1.5,1.9], x0=1.9 No corta ninguna\n",
    "#No se verifica en [1,2], se verifica en [1.5,2], x0=2 No corta ninguna\n",
    "#No se verifica en [1,2], se verifica en [1.3,1.8], x0=1.8 Corta la segunda \n",
    "#No se verifica en [1,2], se verifica en [1.1,1.7], x0=1.7 Cortan los dos\n",
    "fx2=f.diff(x,2)\n",
    "fx3=f.diff(x,3)\n",
    "plot(fx2(x),(x,1.1,1.7),color='red') +  plot(fx3(x),(x,1.1,1.7),color='green')"
   ]
  },
  {
   "cell_type": "code",
   "execution_count": 17,
   "metadata": {},
   "outputs": [
    {
     "name": "stdout",
     "output_type": "stream",
     "text": [
      "a= 1 ; b= 2 ; c= -1/2*sqrt(5) + 5/2 ; d= 1/2*sqrt(5) + 1/2\n"
     ]
    }
   ],
   "source": [
    "# Apartado 1) para intervalo 1, 2\n",
    "a=1;b=2;r=(sqrt(5)-1)/2;c=a+(1-r)*(b-a);d=a+r*(b-a);\n",
    "print('a=',a,'; b=',b,'; c=',c,'; d=',d)"
   ]
  },
  {
   "cell_type": "code",
   "execution_count": 18,
   "metadata": {},
   "outputs": [
    {
     "data": {
      "text/plain": [
       "-13.3842636692781"
      ]
     },
     "execution_count": 18,
     "metadata": {},
     "output_type": "execute_result"
    }
   ],
   "source": [
    "f(c).n()"
   ]
  },
  {
   "cell_type": "code",
   "execution_count": 19,
   "metadata": {},
   "outputs": [
    {
     "data": {
      "text/plain": [
       "-25.1785615951341"
      ]
     },
     "execution_count": 19,
     "metadata": {},
     "output_type": "execute_result"
    }
   ],
   "source": [
    "f(d).n()"
   ]
  },
  {
   "cell_type": "code",
   "execution_count": 20,
   "metadata": {},
   "outputs": [
    {
     "name": "stdout",
     "output_type": "stream",
     "text": [
      "a= 1 ; b= 1/2*sqrt(5) + 1/2 ; c= -1/4*(sqrt(5) - 1)*(sqrt(5) - 3) + 1 ; d= -1/2*sqrt(5) + 5/2\n"
     ]
    }
   ],
   "source": [
    "# Si f(d) es mayor que f(c)\n",
    "b=d;d=c;c=a+(1-r)*(b-a);\n",
    "print('a=',a,'; b=',b,'; c=',c,'; d=',d)"
   ]
  },
  {
   "cell_type": "code",
   "execution_count": 21,
   "metadata": {},
   "outputs": [
    {
     "name": "stdout",
     "output_type": "stream",
     "text": [
      "a= 1.00000000000000 ; b= 1.61803398874989 ; c= 1.23606797749979 ; d= 1.38196601125011\n"
     ]
    }
   ],
   "source": [
    "# Si f(c) es mayor que f(d)\n",
    "print('a=',a.n(),'; b=',b.n(),'; c=',c.n(),'; d=',d.n())"
   ]
  },
  {
   "cell_type": "code",
   "execution_count": 22,
   "metadata": {},
   "outputs": [
    {
     "data": {
      "text/plain": [
       "0.618033988749895"
      ]
     },
     "execution_count": 22,
     "metadata": {},
     "output_type": "execute_result"
    }
   ],
   "source": [
    "# Independientemente de mayor/menor\n",
    "(b-a).n()"
   ]
  },
  {
   "cell_type": "code",
   "execution_count": 23,
   "metadata": {},
   "outputs": [
    {
     "name": "stdout",
     "output_type": "stream",
     "text": [
      "1/100\n"
     ]
    }
   ],
   "source": [
    "# Calculo del error, 2 cifras pq pone f(2)\n",
    "error=10^(-2)\n",
    "print(error)"
   ]
  },
  {
   "cell_type": "code",
   "execution_count": 24,
   "metadata": {},
   "outputs": [
    {
     "name": "stdout",
     "output_type": "stream",
     "text": [
      "iter: 1 ; a= 1.38196601125011 ; b= 2.00000000000000\n",
      "iter: 2 ; a= 1.61803398874989 ; b= 2.00000000000000\n",
      "iter: 3 ; a= 1.61803398874989 ; b= 1.85410196624968\n",
      "iter: 4 ; a= 1.70820393249937 ; b= 1.85410196624968\n",
      "iter: 5 ; a= 1.70820393249937 ; b= 1.79837387624884\n",
      "iter: 6 ; a= 1.74264578624800 ; b= 1.79837387624884\n",
      "iter: 7 ; a= 1.74264578624800 ; b= 1.77708763999664\n",
      "iter: 8 ; a= 1.75580140374443 ; b= 1.77708763999664\n",
      "iter: 9 ; a= 1.76393202250021 ; b= 1.77708763999664\n",
      "iter: 10 ; a= 1.76393202250021 ; b= 1.77206264125599\n"
     ]
    }
   ],
   "source": [
    "# Iteraciones:\n",
    "a=1;b=2;r=(sqrt(5)-1)/2;c=a+(1-r)*(b-a);d=a+r*(b-a);l=b-a;k=1;\n",
    "while l>=error:\n",
    "    if f(c)<f(d):\n",
    "        b=d;d=c;c=a+(1-r)*(b-a);l=b-a;\n",
    "        print('iter:', k, '; a=',a.n(), '; b=',b.n())\n",
    "    else:\n",
    "        a=c;c=d;d=a+r*(b-a);l=b-a;\n",
    "        print('iter:', k, '; a=',a.n(), '; b=',b.n())\n",
    "    k=k+1"
   ]
  },
  {
   "cell_type": "code",
   "execution_count": 1,
   "metadata": {},
   "outputs": [],
   "source": []
  },
  {
   "cell_type": "code",
   "execution_count": 2,
   "metadata": {},
   "outputs": [
    {
     "name": "stdout",
     "output_type": "stream",
     "text": [
      "iter: 1 ; a= 1.38196601125011 ; b= 2.00000000000000\n",
      "iter: 2 ; a= 1.61803398874989 ; b= 2.00000000000000\n",
      "iter: 3 ; a= 1.61803398874989 ; b= 1.85410196624968\n",
      "iter: 4 ; a= 1.70820393249937 ; b= 1.85410196624968\n",
      "iter: 5 ; a= 1.70820393249937 ; b= 1.79837387624884\n",
      "iter: 6 ; a= 1.74264578624800 ; b= 1.79837387624884\n",
      "iter: 7 ; a= 1.74264578624800 ; b= 1.77708763999664\n",
      "iter: 8 ; a= 1.75580140374443 ; b= 1.77708763999664\n",
      "iter: 9 ; a= 1.76393202250021 ; b= 1.77708763999664\n",
      "iter: 10 ; a= 1.76393202250021 ; b= 1.77206264125599\n"
     ]
    }
   ],
   "source": []
  },
  {
   "cell_type": "code",
   "execution_count": 29,
   "metadata": {},
   "outputs": [
    {
     "data": {
      "image/png": "[encoded data removed]",
      "text/plain": [
       "Graphics object consisting of 1 graphics primitive"
      ]
     },
     "execution_count": 29,
     "metadata": {},
     "output_type": "execute_result"
    }
   ],
   "source": [
    "# Apartado 2)\n",
    "#No se verifica en [1,2], se verifica en [1.5,1.9], x0=1.9\n",
    "#No se verifica en [1,2], se verifica en [1.5,2], x0=2\n",
    "#No se verifica en [1,2], se verifica en [1.3,1.8], x0=1.8\n",
    "#No se verifica en [1,2], se verifica en [1.1,1.7], x0=1.7\n",
    "plot(f(x),(x,1.1,1.7))"
   ]
  },
  {
   "cell_type": "code",
   "execution_count": 31,
   "metadata": {},
   "outputs": [
    {
     "data": {
      "image/png": "[encoded data removed]",
      "text/plain": [
       "Graphics object consisting of 1 graphics primitive"
      ]
     },
     "execution_count": 31,
     "metadata": {},
     "output_type": "execute_result"
    }
   ],
   "source": [
    "# Apartado 3)\n",
    "# Considerando el intervalo del apartado anterior (1,2), dar la cota inferior de minx∈[a,b]|f(2)(x)| para \n",
    "# estimar el error cometido, redondeando a una cifra decimal, por ejemplo si minx∈[a,b]|f(2)(x)|≥7.888 \n",
    "# la cota sería 7.8\n",
    "fx2=f.diff(x,2)\n",
    "plot(fx2,(x,1,2),color='red')"
   ]
  },
  {
   "cell_type": "code",
   "execution_count": 13,
   "metadata": {},
   "outputs": [],
   "source": [
    "minder2=fx2(x=-1)"
   ]
  },
  {
   "cell_type": "code",
   "execution_count": null,
   "metadata": {},
   "outputs": [],
   "source": [
    "\n"
   ]
  },
  {
   "cell_type": "code",
   "execution_count": 32,
   "metadata": {},
   "outputs": [
    {
     "ename": "NameError",
     "evalue": "name 'fx' is not defined",
     "output_type": "error",
     "traceback": [
      "\u001b[0;31m---------------------------------------------------------------------------\u001b[0m",
      "\u001b[0;31mNameError\u001b[0m                                 Traceback (most recent call last)",
      "\u001b[0;32m<ipython-input-32-0ac719f5caea>\u001b[0m in \u001b[0;36m<module>\u001b[0;34m()\u001b[0m\n\u001b[0;32m----> 1\u001b[0;31m \u001b[0mi\u001b[0m\u001b[0;34m=\u001b[0m\u001b[0mInteger\u001b[0m\u001b[0;34m(\u001b[0m\u001b[0;36m1\u001b[0m\u001b[0;34m)\u001b[0m\u001b[0;34m;\u001b[0m\u001b[0mx0\u001b[0m\u001b[0;34m=\u001b[0m\u001b[0mInteger\u001b[0m\u001b[0;34m(\u001b[0m\u001b[0;36m3\u001b[0m\u001b[0;34m)\u001b[0m\u001b[0;34m;\u001b[0m\u001b[0meps\u001b[0m\u001b[0;34m=\u001b[0m\u001b[0mabs\u001b[0m\u001b[0;34m(\u001b[0m\u001b[0mfx\u001b[0m\u001b[0;34m(\u001b[0m\u001b[0mx\u001b[0m\u001b[0;34m=\u001b[0m\u001b[0mInteger\u001b[0m\u001b[0;34m(\u001b[0m\u001b[0;36m3\u001b[0m\u001b[0;34m)\u001b[0m\u001b[0;34m)\u001b[0m\u001b[0;34m)\u001b[0m\u001b[0;34m/\u001b[0m\u001b[0mminder2\u001b[0m\u001b[0;34m;\u001b[0m\u001b[0;34m\u001b[0m\u001b[0;34m\u001b[0m\u001b[0m\n\u001b[0m\u001b[1;32m      2\u001b[0m \u001b[0;32mwhile\u001b[0m \u001b[0meps\u001b[0m\u001b[0;34m>=\u001b[0m\u001b[0merror\u001b[0m\u001b[0;34m:\u001b[0m\u001b[0;34m\u001b[0m\u001b[0;34m\u001b[0m\u001b[0m\n\u001b[1;32m      3\u001b[0m     \u001b[0mx0\u001b[0m\u001b[0;34m=\u001b[0m\u001b[0mx0\u001b[0m\u001b[0;34m-\u001b[0m\u001b[0mfx\u001b[0m\u001b[0;34m(\u001b[0m\u001b[0mx\u001b[0m\u001b[0;34m=\u001b[0m\u001b[0mx0\u001b[0m\u001b[0;34m)\u001b[0m\u001b[0;34m/\u001b[0m\u001b[0mfx2\u001b[0m\u001b[0;34m(\u001b[0m\u001b[0mx\u001b[0m\u001b[0;34m=\u001b[0m\u001b[0mx0\u001b[0m\u001b[0;34m)\u001b[0m\u001b[0;34m;\u001b[0m\u001b[0;34m\u001b[0m\u001b[0;34m\u001b[0m\u001b[0m\n\u001b[1;32m      4\u001b[0m     \u001b[0meps\u001b[0m\u001b[0;34m=\u001b[0m\u001b[0mabs\u001b[0m\u001b[0;34m(\u001b[0m\u001b[0mfx\u001b[0m\u001b[0;34m(\u001b[0m\u001b[0mx\u001b[0m\u001b[0;34m=\u001b[0m\u001b[0mx0\u001b[0m\u001b[0;34m)\u001b[0m\u001b[0;34m)\u001b[0m\u001b[0;34m/\u001b[0m\u001b[0mminder2\u001b[0m\u001b[0;34m;\u001b[0m\u001b[0;34m\u001b[0m\u001b[0;34m\u001b[0m\u001b[0m\n\u001b[1;32m      5\u001b[0m     \u001b[0mprint\u001b[0m\u001b[0;34m(\u001b[0m\u001b[0;34m'iter'\u001b[0m\u001b[0;34m,\u001b[0m\u001b[0mi\u001b[0m\u001b[0;34m,\u001b[0m\u001b[0;34m'; x0='\u001b[0m\u001b[0;34m,\u001b[0m \u001b[0mx0\u001b[0m\u001b[0;34m.\u001b[0m\u001b[0mn\u001b[0m\u001b[0;34m(\u001b[0m\u001b[0;34m)\u001b[0m\u001b[0;34m,\u001b[0m\u001b[0;34m'; error='\u001b[0m\u001b[0;34m,\u001b[0m \u001b[0meps\u001b[0m\u001b[0;34m.\u001b[0m\u001b[0mn\u001b[0m\u001b[0;34m(\u001b[0m\u001b[0;34m)\u001b[0m\u001b[0;34m)\u001b[0m\u001b[0;34m\u001b[0m\u001b[0;34m\u001b[0m\u001b[0m\n",
      "\u001b[0;31mNameError\u001b[0m: name 'fx' is not defined"
     ]
    }
   ],
   "source": []
  },
  {
   "cell_type": "code",
   "execution_count": 2,
   "metadata": {},
   "outputs": [],
   "source": [
    "# EJERCICIO 2\n",
    "#f(x)=−excos(4x)\n",
    "h(x) = -exp(x)*cos(4*x)"
   ]
  },
  {
   "cell_type": "code",
   "execution_count": 3,
   "metadata": {},
   "outputs": [],
   "source": [
    "# Intervalo 1,2 \n",
    "#Si partimos del intervalo [1,2] ¿cuántas iteraciones del método de la sección áurea necesitamos\n",
    "#para poder asegurar 7 cifras decimales exactas\n",
    "error=10^(-7)"
   ]
  },
  {
   "cell_type": "code",
   "execution_count": null,
   "metadata": {},
   "outputs": [
    {
     "name": "stdout",
     "output_type": "stream",
     "text": [
      "iter: 1 ; a= 1.38196601125011 ; b= 2.00000000000000\n",
      "iter: 2 ; a= 1.38196601125011 ; b= 1.76393202250021\n",
      "iter: 3 ; a= 1.52786404500042 ; b= 1.76393202250021\n",
      "iter: 4 ; a= 1.52786404500042 ; b= 1.67376207875074\n",
      "iter: 5 ; a= 1.58359213500126 ; b= 1.67376207875074\n",
      "iter: 6 ; a= 1.61803398874989 ; b= 1.67376207875074\n",
      "iter: 7 ; a= 1.61803398874989 ; b= 1.65247584249853\n",
      "iter: 8 ; a= 1.61803398874989 ; b= 1.63932022500210\n",
      "iter: 9 ; a= 1.62616460750568 ; b= 1.63932022500210\n",
      "iter: 10 ; a= 1.62616460750568 ; b= 1.63429522626146\n",
      "iter: 11 ; a= 1.62927022752082 ; b= 1.63429522626146\n",
      "iter: 12 ; a= 1.63118960624632 ; b= 1.63429522626146\n",
      "iter: 13 ; a= 1.63118960624632 ; b= 1.63310898497182\n",
      "iter: 14 ; a= 1.63118960624632 ; b= 1.63237584753596\n",
      "iter: 15 ; a= 1.63164271010010 ; b= 1.63237584753596\n",
      "iter: 16 ; a= 1.63192274368218 ; b= 1.63237584753596\n",
      "iter: 17 ; a= 1.63192274368218 ; b= 1.63220277726425\n",
      "iter: 18 ; a= 1.63192274368218 ; b= 1.63209581395389\n",
      "iter: 19 ; a= 1.63198885064353 ; b= 1.63209581395389\n",
      "iter: 20 ; a= 1.63198885064353 ; b= 1.63205495760488\n",
      "iter: 21 ; a= 1.63201410125587 ; b= 1.63205495760488\n",
      "iter: 22 ; a= 1.63202970699254 ; b= 1.63205495760488\n",
      "iter: 23 ; a= 1.63202970699254 ; b= 1.63204531272920\n",
      "iter: 24 ; a= 1.63203566785352 ; b= 1.63204531272920\n",
      "iter: 25 ; a= 1.63203935186822 ; b= 1.63204531272920\n",
      "iter: 26 ; a= 1.63203935186822 ; b= 1.63204303588291\n",
      "iter: 27 ; a= 1.63203935186822 ; b= 1.63204162871451\n"
     ]
    }
   ],
   "source": [
    "# Alg. completo seccion aurea:\n",
    "a=1;b=2;r=(sqrt(5)-1)/2;c=a+(1-r)*(b-a);d=a+r*(b-a);l=b-a;k=1;\n",
    "while l>=error:\n",
    "    if h(c)<h(d):\n",
    "        b=d;d=c;c=a+(1-r)*(b-a);l=b-a;\n",
    "        print('iter:', k, '; a=',a.n(), '; b=',b.n())\n",
    "    else:\n",
    "        a=c;c=d;d=a+r*(b-a);l=b-a;\n",
    "        print('iter:', k, '; a=',a.n(), '; b=',b.n())\n",
    "    k=k+1"
   ]
  },
  {
   "cell_type": "code",
   "execution_count": null,
   "metadata": {},
   "outputs": [],
   "source": []
  }
 ],
 "metadata": {
  "kernelspec": {
   "display_name": "SageMath 9.1",
   "language": "sage",
   "name": "sagemath"
  },
  "language": "python",
  "language_info": {
   "codemirror_mode": {
    "name": "ipython",
    "version": 3
   },
   "file_extension": ".py",
   "mimetype": "text/x-python",
   "name": "python",
   "nbconvert_exporter": "python",
   "pygments_lexer": "ipython3",
   "version": "3.7.3"
  }
 },
 "nbformat": 4,
 "nbformat_minor": 4
}
