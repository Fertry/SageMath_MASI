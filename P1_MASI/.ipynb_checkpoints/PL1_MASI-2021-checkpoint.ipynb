{
 "cells": [
  {
   "cell_type": "markdown",
   "metadata": {},
   "source": [
    "<h3 style=\"text-align: center;\">ESCUELA TÉCNICA SUPERIOR DE INGENIERÍA INFORMÁTICA</h3>\n",
    "<h3 style=\"text-align: center;\">UNIVERSIDAD DE SEVILLA</h3>\n",
    "<h3 style=\"text-align: center;\">MATEMÁTICA APLICADA A SISTEMAS DE INFORMACIÓN</h3>\n",
    "<h3>Primera práctica de laboratorio</h3>\n",
    "<p>En esta práctica estudiaremos métodos de optimización sin restricciones de funciones de una variable. Aunque nos centramos en el caso de encontar el mínimo de una función dada, todo lo que se comenta es fácilmente adaptable al caso de localizar eventualmente el máximo de una función $h(x)$ (en particular, basta estudiar el mínimo de la función opuesta, $-h(x)$). Es decir partimos del problema:</p>\n",
    "<p>$$\\min _{x\\in[a,b]}f(x)$$</p>\n",
    "<p>Gracias al teorema de Weierstrass sabemos que en un conjunto $D$ cerrado y acotado siempre se alcanza el máximo y el mínimo. Hemos estudiado métodos analíticos que nos permiten calcular dichos óptimos. En esta práctica nos centraremos en los métodos numéricos para la resolución de dichos problemas de optimización de funciones de una variable.</p>\n",
    "<p>Supongamos que estamos interesados en calcular el mínimo de la función:</p>\n",
    "<p>$$f(x)=x^2+e^x$$</p>\n",
    "<p>en el intervalo $x\\in[-1,3]$</p>"
   ]
  },
  {
   "cell_type": "code",
   "execution_count": null,
   "metadata": {},
   "outputs": [],
   "source": [
    "f(x)=x^2+exp(x)"
   ]
  },
  {
   "cell_type": "markdown",
   "metadata": {},
   "source": [
    "<p>En la gráfica podemos apreciar cómo la función es unimodal en el intervalo $[-1,3]$:</p>"
   ]
  },
  {
   "cell_type": "code",
   "execution_count": null,
   "metadata": {},
   "outputs": [],
   "source": [
    "plot(f(x),(x,-1,3))"
   ]
  },
  {
   "cell_type": "markdown",
   "metadata": {},
   "source": [
    "<h3>Método de la sección aúrea</h3>\n",
    "<p>Si comenzamos a aplicar el método de la sección aúrea en nuestro intervalo $[-1,3]$, inicialmente:</p>\n",
    "<p>$$a=-1, \\,b=3,\\, c=a+(1-r)(b-a),\\, d=a+r(b-a),$$</p>\n",
    "<p>con</p>\n",
    "<p>$$r=\\frac{\\sqrt{5}-1}{2}$$</p>\n",
    "<p>por tanto:</p>"
   ]
  },
  {
   "cell_type": "code",
   "execution_count": null,
   "metadata": {},
   "outputs": [],
   "source": [
    "a=-1;b=3;r=(sqrt(5)-1)/2;c=a+(1-r)*(b-a);d=a+r*(b-a);\n",
    "print('a=',a,'; b=',b,'; c=',c,'; d=',d)"
   ]
  },
  {
   "cell_type": "markdown",
   "metadata": {},
   "source": [
    "<p>Ahora tenemos que comprobar si $f(c)\\leq f(d)$,</p>"
   ]
  },
  {
   "cell_type": "code",
   "execution_count": null,
   "metadata": {},
   "outputs": [],
   "source": [
    "f(c).n();f(d).n()"
   ]
  },
  {
   "cell_type": "markdown",
   "metadata": {},
   "source": [
    "<p>Como estamos en ese caso, tenemos que cambiar $b=d$, $d=c$ y calcular un nuevo $c$.</p>"
   ]
  },
  {
   "cell_type": "code",
   "execution_count": null,
   "metadata": {},
   "outputs": [],
   "source": [
    "b=d;d=c;c=a+(1-r)*(b-a);\n",
    "print('a=',a,'; b=',b,'; c=',c,'; d=',d)"
   ]
  },
  {
   "cell_type": "code",
   "execution_count": null,
   "metadata": {},
   "outputs": [],
   "source": [
    "print('a=',a.n(),'; b=',b.n(),'; c=',c.n(),'; d=',d.n())"
   ]
  },
  {
   "cell_type": "markdown",
   "metadata": {},
   "source": [
    "<p>El criterio de parada dependerá de la cota de error que estemos considerando, en esta primera iteración, tenemos que $l_2=r(b-a)$ donde $a$ y $b$ son los valores iniciales.</p>"
   ]
  },
  {
   "cell_type": "code",
   "execution_count": null,
   "metadata": {},
   "outputs": [],
   "source": [
    "(b-a).n()"
   ]
  },
  {
   "cell_type": "markdown",
   "metadata": {},
   "source": [
    "<p>Si queremos poder asegurar dos cifras decimales exactas, podemos escribir el algoritmo:</p>"
   ]
  },
  {
   "cell_type": "code",
   "execution_count": null,
   "metadata": {},
   "outputs": [],
   "source": [
    "error=10^(-2)"
   ]
  },
  {
   "cell_type": "code",
   "execution_count": null,
   "metadata": {},
   "outputs": [],
   "source": [
    "a=-1;b=3;r=(sqrt(5)-1)/2;c=a+(1-r)*(b-a);d=a+r*(b-a);l=b-a;k=1;\n",
    "while l>=error:\n",
    "    if f(c)<f(d):\n",
    "        b=d;d=c;c=a+(1-r)*(b-a);l=b-a;\n",
    "        print('iter:', k, '; a=',a.n(), '; b=',b.n())\n",
    "    else:\n",
    "        a=c;c=d;d=a+r*(b-a);l=b-a;\n",
    "        print('iter:', k, '; a=',a.n(), '; b=',b.n())\n",
    "    k=k+1"
   ]
  },
  {
   "cell_type": "markdown",
   "metadata": {},
   "source": [
    "<h3>Método de Newton</h3>\n",
    "<p>Si para este mismo problema hubiéramos usado el método de Newton, comenzando en $x_0=3$</p>"
   ]
  },
  {
   "cell_type": "code",
   "execution_count": null,
   "metadata": {},
   "outputs": [],
   "source": [
    "f(x)=x^2+exp(x)"
   ]
  },
  {
   "cell_type": "code",
   "execution_count": null,
   "metadata": {},
   "outputs": [],
   "source": [
    "fx=diff(f(x),x);fx2=diff(f(x),x,2);x0=3;iteraciones=8;\n",
    "for i in range(iteraciones):\n",
    "    x0=x0-fx(x=x0)/fx2(x=x0);\n",
    "    print('iter',i+1,'; x0=',x0.n())"
   ]
  },
  {
   "cell_type": "markdown",
   "metadata": {},
   "source": [
    "<p>Para poder aplicar el método de Newton necesitamos que se verifiquen las condiciones de Fourier. En la siguiente gráfica vemos cómo ni $f''(x)$ ni $f^{(3)}(x)$ se anulan en $[-1,3]$, además</p>\n",
    "<p>$$f'(3)f^{(3)}(3)>0$$</p>\n",
    "<p>por lo que la elección del punto de inicio ha sido la adecuada.</p>"
   ]
  },
  {
   "cell_type": "code",
   "execution_count": null,
   "metadata": {},
   "outputs": [],
   "source": [
    "fx3=f.diff(x,3)\n",
    "plot(fx,(x,-1,3))+plot(fx2,(x,-1,3),color='red')+plot(fx3,(x,-1,3),color='green')"
   ]
  },
  {
   "cell_type": "markdown",
   "metadata": {},
   "source": [
    "<p>Se aprecia la convergencia mucho más rápida de este método, como estamos buscando solución de la ecuación $f'(x)=0$, usando el método de parada dado por</p>\n",
    "<p>$$ \\epsilon_n\\leq \\frac{|f'(x)|}{\\min \\limits _{x\\in[a,b]|f''(x)|}},$$</p>\n",
    "<p>tendríamos que calcular una cota del valor absoluto de la segunda derivada de $f(x)$</p>"
   ]
  },
  {
   "cell_type": "code",
   "execution_count": null,
   "metadata": {},
   "outputs": [],
   "source": [
    "plot(fx2,(x,-1,3))\n"
   ]
  },
  {
   "cell_type": "code",
   "execution_count": null,
   "metadata": {},
   "outputs": [],
   "source": [
    "minder2=fx2(x=-1)"
   ]
  },
  {
   "cell_type": "code",
   "execution_count": null,
   "metadata": {},
   "outputs": [],
   "source": [
    "i=1;x0=3;eps=abs(fx(x=3))/minder2;\n",
    "while eps>=error:\n",
    "    x0=x0-fx(x=x0)/fx2(x=x0);\n",
    "    eps=abs(fx(x=x0))/minder2;\n",
    "    print('iter',i,'; x0=', x0.n(),'; error=', eps.n())\n",
    "    i=i+1;"
   ]
  },
  {
   "cell_type": "markdown",
   "metadata": {},
   "source": [
    "<h3>Método de interpolación cuadrático</h3>\n",
    "<p>Como hemos visto en clase este método aproxima la función que queremos optimar mediante una parábola. Si consideramos el mismo ejemplo:</p>\n",
    "<p>$$f(x)=x^2+e^x$$</p>\n",
    "<p>por tanto si partimos de una terna $\\{x_1,x_2,x_3\\}$, con $x_1<x_2<x_3$ con $f(x_2)\\leq f(x_1)$ y $f(x_2)\\leq f(x_3)$,</p>\n",
    "<p>podemos considerar en nuestro ejemplo $x_1=-1$ $x_2=1$ $x_3=3$,</p>\n",
    "<p>la fórmula general del vértice de la parábola que pasa por $\\{(x_1,f_1), (x_2,f_2),(x_3,f_3)\\}$, es</p>\n",
    "<p>$$\\widehat{x}=\\frac{1}{2}\\frac{(x_2^2-x_3^2)f_1+(x_3^2-x_1^2)f_2+(x_1^2-x_2^2)f_3}{(x_2-x_3)f_1+(x_3-x_1)f_2+(x_1-x_2)f_3}$$</p>"
   ]
  },
  {
   "cell_type": "code",
   "execution_count": null,
   "metadata": {},
   "outputs": [],
   "source": [
    "f(x)=x^2+exp(x)"
   ]
  },
  {
   "cell_type": "code",
   "execution_count": null,
   "metadata": {},
   "outputs": [],
   "source": [
    "x1=-1;x2=1;x3=3;f1=f(x1);f2=f(x2);f3=f(x3)\n",
    "x4=1/2*((x2^2-x3^2)*f1+(x3^2-x1^2)*f2+(x1^2-x2^2)*f3)/((x2-x3)*f1+(x3-x1)*f2+(x1-x2)*f3);f4=f(x4)"
   ]
  },
  {
   "cell_type": "code",
   "execution_count": null,
   "metadata": {},
   "outputs": [],
   "source": [
    "x4.n()"
   ]
  },
  {
   "cell_type": "markdown",
   "metadata": {},
   "source": [
    "<p>Por tanto $x_1<\\widehat x< x_2$, tenemos ahora que comparar las imágenes de $x_2$ y $\\widehat x$ mediante $f$, para descartar uno de los extremos del intervalo, $x_1$ ó $x_3$:</p>"
   ]
  },
  {
   "cell_type": "code",
   "execution_count": null,
   "metadata": {},
   "outputs": [],
   "source": [
    "print('f(x1)=',f1.n(),'; f(x4)=',f4.n(),'; f(x2)=',f(x2).n())"
   ]
  },
  {
   "cell_type": "markdown",
   "metadata": {},
   "source": [
    "<p>Así en la siguiente iteración, consideraríamos el conjunto de puntos $\\{x_1,\\widehat{x},x_2\\}$. Hemos descartado el extremo $x_3$.</p>\n",
    "<p>Podemos utilizar el criterio de parada $|\\widehat{x}_{k}-\\widehat{x}_{k-1}|\\leq \\epsilon$, para ello necesitamos al menos dos iteraciones o poner de inicio $\\widehat{x}_0=10^{99}$, entendiendo que es un valor muy lejano al mínimo que queremos aproximar</p>"
   ]
  },
  {
   "cell_type": "code",
   "execution_count": null,
   "metadata": {},
   "outputs": [],
   "source": [
    "x3=x2;x2=x4;xk=x4;f3=f2;f2=f4;\n",
    "x4=1/2*((x2^2-x3^2)*f1+(x3^2-x1^2)*f2+(x1^2-x2^2)*f3)/((x2-x3)*f1+(x3-x1)*f2+(x1-x2)*f3);f4=f(x4)"
   ]
  },
  {
   "cell_type": "code",
   "execution_count": null,
   "metadata": {},
   "outputs": [],
   "source": [
    "x4.n();x2.n()"
   ]
  },
  {
   "cell_type": "code",
   "execution_count": null,
   "metadata": {},
   "outputs": [],
   "source": [
    "abs(x4-xk).n()"
   ]
  },
  {
   "cell_type": "markdown",
   "metadata": {},
   "source": [
    "<p>Usando dos iteraciones de la interpolación cuadrática no hemos conseguido ninguna cifra decimal exacta.</p>"
   ]
  },
  {
   "cell_type": "code",
   "execution_count": null,
   "metadata": {},
   "outputs": [],
   "source": [
    "print('f(x1)=',f1.n(),'; f(x4)=',f4.n(),'; f(x2)=',f(x2).n())"
   ]
  },
  {
   "cell_type": "markdown",
   "metadata": {},
   "source": [
    "<p>Por lo tanto de nuevo descartamos $x_3$, la nueva terna sería $\\{x_1,\\widehat{x},x_2\\}$, de esta forma si el criterio de parada fuese $|\\widehat{x}_k-\\widehat{x}_{k-1}|<10^{-2}$ tendriamos que seguir iterando:</p>"
   ]
  },
  {
   "cell_type": "code",
   "execution_count": null,
   "metadata": {},
   "outputs": [],
   "source": [
    "x3=x2;x2=x4;xk=x4;f3=f2;f2=f4\n",
    "x4=1/2*((x2^2-x3^2)*f1+(x3^2-x1^2)*f2+(x1^2-x2^2)*f3)/((x2-x3)*f1+(x3-x1)*f2+(x1-x2)*f3);f4=f(x4)"
   ]
  },
  {
   "cell_type": "code",
   "execution_count": null,
   "metadata": {},
   "outputs": [],
   "source": [
    "x4.n();x2.n()"
   ]
  },
  {
   "cell_type": "code",
   "execution_count": null,
   "metadata": {},
   "outputs": [],
   "source": [
    "abs(xk-x4).n()"
   ]
  },
  {
   "cell_type": "markdown",
   "metadata": {},
   "source": [
    "<p>No se ha alcanzado el criterio de parada, por lo que seguimos iterando</p>"
   ]
  },
  {
   "cell_type": "code",
   "execution_count": null,
   "metadata": {},
   "outputs": [],
   "source": [
    "print('f(x1)=',f1.n(),'; f(x2)=',f2.n(),'; f(x4)=',f(x4).n())"
   ]
  },
  {
   "cell_type": "markdown",
   "metadata": {},
   "source": [
    "<p>Ahora descartamos $x_1$ y seguimos iterando</p>"
   ]
  },
  {
   "cell_type": "code",
   "execution_count": null,
   "metadata": {},
   "outputs": [],
   "source": [
    "xk=x4;x1=x2;x2=x4;f1=f2;f2=f4;\n",
    "x4=1/2*((x2^2-x3^2)*f1+(x3^2-x1^2)*f2+(x1^2-x2^2)*f3)/((x2-x3)*f1+(x3-x1)*f2+(x1-x2)*f3);f4=f(x4)"
   ]
  },
  {
   "cell_type": "code",
   "execution_count": null,
   "metadata": {},
   "outputs": [],
   "source": [
    "abs(xk-x4).n()"
   ]
  },
  {
   "cell_type": "code",
   "execution_count": null,
   "metadata": {},
   "outputs": [],
   "source": [
    "x4.n()"
   ]
  },
  {
   "cell_type": "markdown",
   "metadata": {},
   "source": [
    "<p>Ya hemos obtenido la precisión requerida, mediante cuatro iteraciones del método de interpolación cuadrática.</p>\n",
    "<h3>Interpolación cúbica</h3>\n",
    "<p>Ahora vamos a interpolar mediante un polinomio de grado 3, lo que se conoce como interpolación cúbica. El teorema de interpolación nos dice que necesitamos conocer cuatro puntos por donde pase nuestro polinomio, o dos donde conozcamos cúanto vale $f(x_i)$ y también $f'(x_i)$.</p>\n",
    "<p>Si partimos de un intervalo donde la función es unimodal, el signo de la derivada será $f'(x_1)<0$ y $f'(x_2)>0$. Supongamos por tanto, que tenemos un intervalo $[x_1,x_2]$ donde la función es unimodal, y conocidos: $f_1=f(x_1)$, $f'_1=f'(x_1)$, $f_2=f(x_2)$, $f'_2=f'(x_2)$.</p>\n",
    "<p>En ese caso el mínimo del polinomio cúbico interpolador es:</p>\n",
    "<p>$$\\widehat{x}=x_2-\\left(\\frac{f'_2+w-z}{f'_2-f_1'+2w}\\right)(x_2-x_1)$$</p>\n",
    "<p>donde</p>\n",
    "<p>$$z=\\frac{3(f_1-f_2)}{x_2-x_1}+f'_1+f'_2\\qquad w=\\sqrt{z^2-f'_1f'_2}$$</p>\n",
    "<p>Una vez que conozcamos el mínimo procedemos a eliminar uno de los dos extremos, desechando aquél donde el signo de la derivada coincida con el signo de la derivada en $\\widehat{x}$.</p>\n",
    "<p>Como en el caso de interpolación cuadrática, usaremos el criterio de parada, $|\\widehat{x}_{k+1}-\\widehat{x}_k|<\\epsilon$</p>\n",
    "<p>Usaremos el mismo ejemplo</p>\n",
    "<p>$$f(x)=x^2+e^x$$</p>\n",
    "<p>en el intervalo $[-1,3]$:</p>"
   ]
  },
  {
   "cell_type": "code",
   "execution_count": null,
   "metadata": {},
   "outputs": [],
   "source": [
    "f(x)=x^2+exp(x);fx=f.diff()"
   ]
  },
  {
   "cell_type": "code",
   "execution_count": null,
   "metadata": {},
   "outputs": [],
   "source": [
    "x1=-1.;x2=3.;f1=f(x1);f2=f(x2);fp1=fx(x1);fp2=fx(x2); xk=10^(99);k=1;\n",
    "z=3*(f1-f2)/(x2-x1)+fp1+fp2;w=sqrt(z^2-fp1*fp2);\n",
    "x3=x2-(fp2+w-z)/(fp2-fp1+2*w)*(x2-x1);f3=f(x3);fp3=fx(x3);"
   ]
  },
  {
   "cell_type": "code",
   "execution_count": null,
   "metadata": {},
   "outputs": [],
   "source": [
    "x3.n();fp3.n()"
   ]
  },
  {
   "cell_type": "markdown",
   "metadata": {},
   "source": [
    "<p>Como $f'(x_3)>0$ y suponemos que nuestra función es unimodal en el intervalo dado, descartaríamos el extremo $x_2$ y volveríamos a iterar:</p>"
   ]
  },
  {
   "cell_type": "code",
   "execution_count": null,
   "metadata": {},
   "outputs": [],
   "source": [
    "xk=x3;x2=x3;f2=f3;fp2=fp3;\n",
    "z=3*(f1-f2)/(x2-x1)+fp1+fp2;w=sqrt(z^2-fp1*fp2);\n",
    "x3=x2-(fp2+w-z)/(fp2-fp1+2*w)*(x2-x1);f3=f(x3);fp3=fx(x3);"
   ]
  },
  {
   "cell_type": "code",
   "execution_count": null,
   "metadata": {},
   "outputs": [],
   "source": [
    "abs(xk-x3).n()"
   ]
  },
  {
   "cell_type": "markdown",
   "metadata": {},
   "source": [
    "<p>Si tuviésemos la condicion $|\\widehat{x}_k-\\widehat{x}_{k-1}|<10^{-2}$, no sería suficiente. Estudiando el signo de $f'(x_3)$</p>"
   ]
  },
  {
   "cell_type": "code",
   "execution_count": null,
   "metadata": {},
   "outputs": [],
   "source": [
    "fp3.n()"
   ]
  },
  {
   "cell_type": "code",
   "execution_count": null,
   "metadata": {},
   "outputs": [],
   "source": [
    "xk=x3;x1=x3;f1=f3;fp1=fp3;\n",
    "z=3*(f1-f2)/(x2-x1)+fp1+fp2;w=sqrt(z^2-fp1*fp2);\n",
    "x3=x2-(fp2+w-z)/(fp2-fp1+2*w)*(x2-x1);f3=f(x3);fp3=fx(x3);"
   ]
  },
  {
   "cell_type": "code",
   "execution_count": null,
   "metadata": {},
   "outputs": [],
   "source": [
    "abs(xk-x3).n()"
   ]
  },
  {
   "cell_type": "code",
   "execution_count": null,
   "metadata": {},
   "outputs": [],
   "source": [
    "x3"
   ]
  },
  {
   "cell_type": "markdown",
   "metadata": {},
   "source": [
    "<p>Si el criterio de parada es $|\\widehat{x}_k-\\widehat{x}_{k-1}|<10^{-2}$, ya tendríamos la aproximación $x_3$, tras tres iteraciones.</p>"
   ]
  },
  {
   "cell_type": "code",
   "execution_count": 1,
   "metadata": {},
   "outputs": [
    {
     "data": {
      "text/html": [
       "<center><h4>E.T.S.I.I. - GRADO I.I. TECNOLOGÍAS INFORMÁTICAS</h4></center><center><h4>Matemática Aplicada a Sistemas de Información - PRIMERA PRÁCTICA DE LABORATORIO</h4></center><hr  align=center><center>APELLIDOS, NOMBRE: <INPUT value= \"\",type=text size=70> <INPUT type=submit value=1-55D357><hr  align=center></center><hr  align=center><b> <span style=\"color: #0000ff;\">EJERCICIO 1 </span></b><br> Consideremos la función <script type=\"math/tex; mode=display\">f(x)=  e^{2x} \\sin(3 x)</script> Queremos calcular el mínimo de dicha función en el intervalo <script type=\"math/tex\">[1,2]</script>:<ol><li>En el intervalo <script type=\"math/tex\">[1,2]</script> ¿se verifica que <script type=\"math/tex\">f^{(2)}(x) \\neq 0</script> para todo <script type=\"math/tex\">x\\in[1,2]</script>? \n",
       " En caso contrario, dar el mayor intervalo donde se verifique,\n",
       " redondeando a una cifra decimal, por ejemplo, si el intervalo es [1.324, 1.543],\n",
       " redondeamos al intervalo [1.4,1.5]</li><li>En el intervalo <script type=\"math/tex\">[1,2]</script> ¿se verifica que <script type=\"math/tex\">f^{(2)}(x)\\neq 0</script> y <script type=\"math/tex\">f^{(3)}(x) \\neq 0</script> para todo <script type=\"math/tex\">x\\in[1,2]</script>? \n",
       " En caso contrario, dar el mayor intervalo donde se verifique,redondeando a una cifra decimal, \n",
       " por ejemplo, si el intervalo es [1.324, 1.543], redondeamos al intervalo [1.4,1.5], \n",
       " dar también el punto de inicio <script type=\"math/tex\">x_0</script></li><li>Considerando el intervalo del apartado anterior, dar la cota inferior de <script type=\"math/tex\">\\min_{x\\in[a,b]}|f^{(2)}(x)|</script> \n",
       " para estimar el error cometido, redondeando a una cifra decimal, \n",
       " por ejemplo si <script type=\"math/tex\">\\min_{x\\in[a,b]}|f^{(2)}(x)|\\geq 7.888</script> la cota sería 7.8</li><li>Si aplicamos la regla de Fourier al intervalo del apartado 2, \n",
       " y la cota de la segunda derivada del apartado 3, \n",
       " ¿Cuántas iteraciones necesitamos para tener 4 cifras decimales exactas?</li><li>Si aplicamos la regla de Fourier al intervalo del apartado 2, \n",
       " y la cota de la segunda derivada del apartado 3, \n",
       " ¿Qué valor <script type=\"math/tex\">x_n</script> nos asegura 6 cifras decimales exactas?</li></ol>Marcar la respuesta correcta.<br><hr  align=center><b> <span style=\"color: #ff0000;\">Respuesta al apartado 1 </span></b><br><br> 1.<input type=checkbox> No se verifica en [1,2], se verifica en [1,1.6] <br> 2.<input type=checkbox> No se verifica en [1,2], se verifica en [1.5,2] <br> 3.<input type=checkbox> No se verifica en [1,2], se verifica en [1.3,2] <br> 4.<input type=checkbox> No se verifica en [1,2], se verifica en [1.4,2]<br><br><b> <span style=\"color: #ff0000;\">Respuesta al apartado 2 </span></b><br><br> 1.<input type=checkbox> No se verifica en [1,2], se verifica en [1.5,1.9], <script type=\"math/tex\">x_0=1.9</script> <br> 2.<input type=checkbox> No se verifica en [1,2], se verifica en [1.5,2], <script type=\"math/tex\">x_0=2</script> <br> 3.<input type=checkbox> No se verifica en [1,2], se verifica en [1.3,1.8], <script type=\"math/tex\">x_0=1.8</script> <br> 4.<input type=checkbox> No se verifica en [1,2], se verifica en [1.1,1.7], <script type=\"math/tex\">x_0=1.7</script><br><br><b> <span style=\"color: #ff0000;\">Respuesta al apartado 3 </span></b><br><br> 1.<input type=checkbox> <script type=\"math/tex\">\\min_{x\\in[a,b]}|f^{(2)}(x)|\\leq 26.6</script> <br> 2.<input type=checkbox> <script type=\"math/tex\">\\min_{x\\in[a,b]}|f^{(2)}(x)|\\leq 47.3</script> <br> 3.<input type=checkbox> <script type=\"math/tex\">\\min_{x\\in[a,b]}|f^{(2)}(x)|\\leq 19.2</script> <br> 4.<input type=checkbox> <script type=\"math/tex\">\\min_{x\\in[a,b]}|f^{(2)}(x)|\\leq 62.7</script><br><br><b> <span style=\"color: #ff0000;\">Respuesta al apartado 4 </span></b><br><br> 1.<input type=checkbox> Al menos 4 iteraciones <br> 2.<input type=checkbox> Al menos 3 iteraciones <br> 3.<input type=checkbox> Al menos 7 iteraciones <br> 4.<input type=checkbox> Al menos 2 iteraciones<br><br><b> <span style=\"color: #ff0000;\">Respuesta al apartado 5 </span></b><br><br> <table style=\" width:100%\"> <tr> <td style=\"border:none; text-align:left\">1.<input type=checkbox> 1.32431592358943    </td> <td style=\"border:none; text-align:left\">2.<input type=checkbox> 1.75057230239769    </td> </tr> <tr> <td style=\"border:none; text-align:left\">3.<input type=checkbox> 1.76679719872260    </td> <td style=\"border:none; text-align:left\">4.<input type=checkbox> Ninguna de las otras respuestas.    </td> </tr> </table><br><br><hr  align=center><b> <span style=\"color: #0000ff;\">EJERCICIO 2 </span></b><br> Consideremos la función <script type=\"math/tex; mode=display\">f(x)=- e^{x} \\cos(4 x)</script> Queremos calcular el mínimo de dicha función en el intervalo <script type=\"math/tex\">[1,2]</script>:<ol><li>Si partimos del intervalo <script type=\"math/tex\">[1,2]</script> ¿cuántas iteraciones del método de la sección áurea \n",
       " necesitamos para poder asegurar 7 cifras decimales exactas</li><li>Si ejecutamos cinco veces el método de la sección aurea, ¿cúal es la sucesión de \n",
       " extremos descartados?</li><li>El extremo inferior de la iteración que nos asegura 3 cifras decimales exactas es:</li></ol>Marcar la respuesta correcta.<br><hr  align=center><b> <span style=\"color: #ff0000;\">Respuesta al apartado 1 </span></b><br><br> 1.<input type=checkbox> Al menos 20 iteraciones <br> 2.<input type=checkbox> Al menos 34 iteraciones <br> 3.<input type=checkbox> Al menos 15 iteraciones <br> 4.<input type=checkbox> Al menos 39 iteraciones<br><br><b> <span style=\"color: #ff0000;\">Respuesta al apartado 2 </span></b><br><br> 1.<input type=checkbox> La sucesión de descartes es: b, b, b, a, b <br> 2.<input type=checkbox> La sucesión de descartes es: b, b, a, b, a <br> 3.<input type=checkbox> La sucesión de descartes es: b, b, a, a, b <br> 4.<input type=checkbox> La sucesión de descartes es: a, b, a, b, a<br><br><b> <span style=\"color: #ff0000;\">Respuesta al apartado 3 </span></b><br><br> <table style=\" width:100%\"> <tr> <td style=\"border:none; text-align:left\">1.<input type=checkbox> 1.63198885064353    </td> <td style=\"border:none; text-align:left\">2.<input type=checkbox> 1.29444858366199    </td> </tr> <tr> <td style=\"border:none; text-align:left\">3.<input type=checkbox> 1.63164271010010    </td> <td style=\"border:none; text-align:left\">4.<input type=checkbox> Ninguna de las otras respuestas.    </td> </tr> </table><br><br><hr  align=center><b> <span style=\"color: #0000ff;\">EJERCICIO 3 </span></b><br> Consideremos la función <script type=\"math/tex; mode=display\">f(x)=3 x^{2} -   e^{x}</script> Queremos calcular el mínimo de dicha función en el intervalo <script type=\"math/tex\">[0,1]</script>:<ol><li>Si partimos de valores iniciales <script type=\"math/tex\">x_1=0, x_2=1</script> \n",
       " ¿cuántas iteraciones del método de interpolación cúbica necesitamos \n",
       " para poder asegurar <script type=\"math/tex\">|\\widehat{x}_{k}-\\widehat{x}_{k-1}|<10^{-5}</script>? </li><li>Si ejecutamos cinco veces el método de interpolación cúbica,\n",
       " ¿cúal es la sucesión de extremos descartados?</li><li>El mínimo de la cúbica interpoladora de la iteración que nos asegura \n",
       " 4 cifras decimales exactas es:</li></ol>Marcar la respuesta correcta.<br><hr  align=center><b> <span style=\"color: #ff0000;\">Respuesta al apartado 1 </span></b><br><br> 1.<input type=checkbox> Al menos 3 iteraciones <br> 2.<input type=checkbox> Al menos 4 iteraciones <br> 3.<input type=checkbox> Al menos 6 iteraciones <br> 4.<input type=checkbox> Al menos 7 iteraciones<br><br><b> <span style=\"color: #ff0000;\">Respuesta al apartado 2 </span></b><br><br> 1.<input type=checkbox> La sucesión de descartes es: <script type=\"math/tex\">x_1,x_2,x_1,x_2,x_2</script> <br> 2.<input type=checkbox> La sucesión de descartes es: <script type=\"math/tex\">x_1,x_2,x_1,x_2,x_1</script> <br> 3.<input type=checkbox> La sucesión de descartes es: <script type=\"math/tex\">x_2,x_2,x_1,x_1,x_1</script> <br> 4.<input type=checkbox> La sucesión de descartes es: <script type=\"math/tex\">x_1,x_1,x_1,x_1,x_1</script><br><br><b> <span style=\"color: #ff0000;\">Respuesta al apartado 3 </span></b><br><br> <table style=\" width:100%\"> <tr> <td style=\"border:none; text-align:left\">1.<input type=checkbox> 0.910007769536231    </td> <td style=\"border:none; text-align:left\">2.<input type=checkbox> 0.204480519531424    </td> </tr> <tr> <td style=\"border:none; text-align:left\">3.<input type=checkbox> 0.831031452108246    </td> <td style=\"border:none; text-align:left\">4.<input type=checkbox> Ninguna de las otras respuestas.    </td> </tr> </table><br><br><hr  align=center><center><span style=\"font-size: x-small;\"> Final del documento </span></center>"
      ],
      "text/plain": [
       "<center><h4>E.T.S.I.I. - GRADO I.I. TECNOLOGÍAS INFORMÁTICAS</h4></center><center><h4>Matemática Aplicada a Sistemas de Información - PRIMERA PRÁCTICA DE LABORATORIO</h4></center><hr  align=center><center>APELLIDOS, NOMBRE: <INPUT value= \"\",type=text size=70> <INPUT type=submit value=1-55D357><hr  align=center></center><hr  align=center><b> <span style=\"color: #0000ff;\">EJERCICIO 1 </span></b><br> Consideremos la función <script type=\"math/tex; mode=display\">f(x)=  e^{2x} \\sin(3 x)</script> Queremos calcular el mínimo de dicha función en el intervalo <script type=\"math/tex\">[1,2]</script>:<ol><li>En el intervalo <script type=\"math/tex\">[1,2]</script> ¿se verifica que <script type=\"math/tex\">f^{(2)}(x) \\neq 0</script> para todo <script type=\"math/tex\">x\\in[1,2]</script>? \n",
       " En caso contrario, dar el mayor intervalo donde se verifique,\n",
       " redondeando a una cifra decimal, por ejemplo, si el intervalo es [1.324, 1.543],\n",
       " redondeamos al intervalo [1.4,1.5]</li><li>En el intervalo <script type=\"math/tex\">[1,2]</script> ¿se verifica que <script type=\"math/tex\">f^{(2)}(x)\\neq 0</script> y <script type=\"math/tex\">f^{(3)}(x) \\neq 0</script> para todo <script type=\"math/tex\">x\\in[1,2]</script>? \n",
       " En caso contrario, dar el mayor intervalo donde se verifique,redondeando a una cifra decimal, \n",
       " por ejemplo, si el intervalo es [1.324, 1.543], redondeamos al intervalo [1.4,1.5], \n",
       " dar también el punto de inicio <script type=\"math/tex\">x_0</script></li><li>Considerando el intervalo del apartado anterior, dar la cota inferior de <script type=\"math/tex\">\\min_{x\\in[a,b]}|f^{(2)}(x)|</script> \n",
       " para estimar el error cometido, redondeando a una cifra decimal, \n",
       " por ejemplo si <script type=\"math/tex\">\\min_{x\\in[a,b]}|f^{(2)}(x)|\\geq 7.888</script> la cota sería 7.8</li><li>Si aplicamos la regla de Fourier al intervalo del apartado 2, \n",
       " y la cota de la segunda derivada del apartado 3, \n",
       " ¿Cuántas iteraciones necesitamos para tener 4 cifras decimales exactas?</li><li>Si aplicamos la regla de Fourier al intervalo del apartado 2, \n",
       " y la cota de la segunda derivada del apartado 3, \n",
       " ¿Qué valor <script type=\"math/tex\">x_n</script> nos asegura 6 cifras decimales exactas?</li></ol>Marcar la respuesta correcta.<br><hr  align=center><b> <span style=\"color: #ff0000;\">Respuesta al apartado 1 </span></b><br><br> 1.<input type=checkbox> No se verifica en [1,2], se verifica en [1,1.6] <br> 2.<input type=checkbox> No se verifica en [1,2], se verifica en [1.5,2] <br> 3.<input type=checkbox> No se verifica en [1,2], se verifica en [1.3,2] <br> 4.<input type=checkbox> No se verifica en [1,2], se verifica en [1.4,2]<br><br><b> <span style=\"color: #ff0000;\">Respuesta al apartado 2 </span></b><br><br> 1.<input type=checkbox> No se verifica en [1,2], se verifica en [1.5,1.9], <script type=\"math/tex\">x_0=1.9</script> <br> 2.<input type=checkbox> No se verifica en [1,2], se verifica en [1.5,2], <script type=\"math/tex\">x_0=2</script> <br> 3.<input type=checkbox> No se verifica en [1,2], se verifica en [1.3,1.8], <script type=\"math/tex\">x_0=1.8</script> <br> 4.<input type=checkbox> No se verifica en [1,2], se verifica en [1.1,1.7], <script type=\"math/tex\">x_0=1.7</script><br><br><b> <span style=\"color: #ff0000;\">Respuesta al apartado 3 </span></b><br><br> 1.<input type=checkbox> <script type=\"math/tex\">\\min_{x\\in[a,b]}|f^{(2)}(x)|\\leq 26.6</script> <br> 2.<input type=checkbox> <script type=\"math/tex\">\\min_{x\\in[a,b]}|f^{(2)}(x)|\\leq 47.3</script> <br> 3.<input type=checkbox> <script type=\"math/tex\">\\min_{x\\in[a,b]}|f^{(2)}(x)|\\leq 19.2</script> <br> 4.<input type=checkbox> <script type=\"math/tex\">\\min_{x\\in[a,b]}|f^{(2)}(x)|\\leq 62.7</script><br><br><b> <span style=\"color: #ff0000;\">Respuesta al apartado 4 </span></b><br><br> 1.<input type=checkbox> Al menos 4 iteraciones <br> 2.<input type=checkbox> Al menos 3 iteraciones <br> 3.<input type=checkbox> Al menos 7 iteraciones <br> 4.<input type=checkbox> Al menos 2 iteraciones<br><br><b> <span style=\"color: #ff0000;\">Respuesta al apartado 5 </span></b><br><br> <table style=\" width:100%\"> <tr> <td style=\"border:none; text-align:left\">1.<input type=checkbox> 1.32431592358943    </td> <td style=\"border:none; text-align:left\">2.<input type=checkbox> 1.75057230239769    </td> </tr> <tr> <td style=\"border:none; text-align:left\">3.<input type=checkbox> 1.76679719872260    </td> <td style=\"border:none; text-align:left\">4.<input type=checkbox> Ninguna de las otras respuestas.    </td> </tr> </table><br><br><hr  align=center><b> <span style=\"color: #0000ff;\">EJERCICIO 2 </span></b><br> Consideremos la función <script type=\"math/tex; mode=display\">f(x)=- e^{x} \\cos(4 x)</script> Queremos calcular el mínimo de dicha función en el intervalo <script type=\"math/tex\">[1,2]</script>:<ol><li>Si partimos del intervalo <script type=\"math/tex\">[1,2]</script> ¿cuántas iteraciones del método de la sección áurea \n",
       " necesitamos para poder asegurar 7 cifras decimales exactas</li><li>Si ejecutamos cinco veces el método de la sección aurea, ¿cúal es la sucesión de \n",
       " extremos descartados?</li><li>El extremo inferior de la iteración que nos asegura 3 cifras decimales exactas es:</li></ol>Marcar la respuesta correcta.<br><hr  align=center><b> <span style=\"color: #ff0000;\">Respuesta al apartado 1 </span></b><br><br> 1.<input type=checkbox> Al menos 20 iteraciones <br> 2.<input type=checkbox> Al menos 34 iteraciones <br> 3.<input type=checkbox> Al menos 15 iteraciones <br> 4.<input type=checkbox> Al menos 39 iteraciones<br><br><b> <span style=\"color: #ff0000;\">Respuesta al apartado 2 </span></b><br><br> 1.<input type=checkbox> La sucesión de descartes es: b, b, b, a, b <br> 2.<input type=checkbox> La sucesión de descartes es: b, b, a, b, a <br> 3.<input type=checkbox> La sucesión de descartes es: b, b, a, a, b <br> 4.<input type=checkbox> La sucesión de descartes es: a, b, a, b, a<br><br><b> <span style=\"color: #ff0000;\">Respuesta al apartado 3 </span></b><br><br> <table style=\" width:100%\"> <tr> <td style=\"border:none; text-align:left\">1.<input type=checkbox> 1.63198885064353    </td> <td style=\"border:none; text-align:left\">2.<input type=checkbox> 1.29444858366199    </td> </tr> <tr> <td style=\"border:none; text-align:left\">3.<input type=checkbox> 1.63164271010010    </td> <td style=\"border:none; text-align:left\">4.<input type=checkbox> Ninguna de las otras respuestas.    </td> </tr> </table><br><br><hr  align=center><b> <span style=\"color: #0000ff;\">EJERCICIO 3 </span></b><br> Consideremos la función <script type=\"math/tex; mode=display\">f(x)=3 x^{2} -   e^{x}</script> Queremos calcular el mínimo de dicha función en el intervalo <script type=\"math/tex\">[0,1]</script>:<ol><li>Si partimos de valores iniciales <script type=\"math/tex\">x_1=0, x_2=1</script> \n",
       " ¿cuántas iteraciones del método de interpolación cúbica necesitamos \n",
       " para poder asegurar <script type=\"math/tex\">|\\widehat{x}_{k}-\\widehat{x}_{k-1}|<10^{-5}</script>? </li><li>Si ejecutamos cinco veces el método de interpolación cúbica,\n",
       " ¿cúal es la sucesión de extremos descartados?</li><li>El mínimo de la cúbica interpoladora de la iteración que nos asegura \n",
       " 4 cifras decimales exactas es:</li></ol>Marcar la respuesta correcta.<br><hr  align=center><b> <span style=\"color: #ff0000;\">Respuesta al apartado 1 </span></b><br><br> 1.<input type=checkbox> Al menos 3 iteraciones <br> 2.<input type=checkbox> Al menos 4 iteraciones <br> 3.<input type=checkbox> Al menos 6 iteraciones <br> 4.<input type=checkbox> Al menos 7 iteraciones<br><br><b> <span style=\"color: #ff0000;\">Respuesta al apartado 2 </span></b><br><br> 1.<input type=checkbox> La sucesión de descartes es: <script type=\"math/tex\">x_1,x_2,x_1,x_2,x_2</script> <br> 2.<input type=checkbox> La sucesión de descartes es: <script type=\"math/tex\">x_1,x_2,x_1,x_2,x_1</script> <br> 3.<input type=checkbox> La sucesión de descartes es: <script type=\"math/tex\">x_2,x_2,x_1,x_1,x_1</script> <br> 4.<input type=checkbox> La sucesión de descartes es: <script type=\"math/tex\">x_1,x_1,x_1,x_1,x_1</script><br><br><b> <span style=\"color: #ff0000;\">Respuesta al apartado 3 </span></b><br><br> <table style=\" width:100%\"> <tr> <td style=\"border:none; text-align:left\">1.<input type=checkbox> 0.910007769536231    </td> <td style=\"border:none; text-align:left\">2.<input type=checkbox> 0.204480519531424    </td> </tr> <tr> <td style=\"border:none; text-align:left\">3.<input type=checkbox> 0.831031452108246    </td> <td style=\"border:none; text-align:left\">4.<input type=checkbox> Ninguna de las otras respuestas.    </td> </tr> </table><br><br><hr  align=center><center><span style=\"font-size: x-small;\"> Final del documento </span></center>"
      ]
     },
     "metadata": {},
     "output_type": "display_data"
    }
   ],
   "source": [
    "NUMERO_ALUMNO = 1\n",
    "\n",
    "NOMBRE_FICHERO_EXAMEN = 'Ex_Lab_MASI1_t.htl'\n",
    "load('codigo_examinar_html.sage')\n",
    "\n",
    "if NUMERO_ALUMNO > 0:\n",
    "    lector_examenes(NOMBRE_FICHERO_EXAMEN,NUMERO_ALUMNO,False)\n"
   ]
  },
  {
   "cell_type": "code",
   "execution_count": null,
   "metadata": {},
   "outputs": [],
   "source": []
  }
 ],
 "metadata": {
  "kernelspec": {
   "display_name": "SageMath 9.1",
   "language": "sage",
   "name": "sagemath"
  },
  "language": "python",
  "language_info": {
   "codemirror_mode": {
    "name": "ipython",
    "version": 3
   },
   "file_extension": ".py",
   "mimetype": "text/x-python",
   "name": "python",
   "nbconvert_exporter": "python",
   "pygments_lexer": "ipython3",
   "version": "3.7.3"
  }
 },
 "nbformat": 4,
 "nbformat_minor": 4
}
