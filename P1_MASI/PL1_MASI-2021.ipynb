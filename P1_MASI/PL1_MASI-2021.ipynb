{
 "cells": [
  {
   "cell_type": "markdown",
   "metadata": {},
   "source": [
    "<h3 style=\"text-align: center;\">ESCUELA TÉCNICA SUPERIOR DE INGENIERÍA INFORMÁTICA</h3>\n",
    "<h3 style=\"text-align: center;\">UNIVERSIDAD DE SEVILLA</h3>\n",
    "<h3 style=\"text-align: center;\">MATEMÁTICA APLICADA A SISTEMAS DE INFORMACIÓN</h3>\n",
    "<h3>Primera práctica de laboratorio</h3>\n",
    "<p>En esta práctica estudiaremos métodos de optimización sin restricciones de funciones de una variable. Aunque nos centramos en el caso de encontar el mínimo de una función dada, todo lo que se comenta es fácilmente adaptable al caso de localizar eventualmente el máximo de una función $h(x)$ (en particular, basta estudiar el mínimo de la función opuesta, $-h(x)$). Es decir partimos del problema:</p>\n",
    "<p>$$\\min _{x\\in[a,b]}f(x)$$</p>\n",
    "<p>Gracias al teorema de Weierstrass sabemos que en un conjunto $D$ cerrado y acotado siempre se alcanza el máximo y el mínimo. Hemos estudiado métodos analíticos que nos permiten calcular dichos óptimos. En esta práctica nos centraremos en los métodos numéricos para la resolución de dichos problemas de optimización de funciones de una variable.</p>\n",
    "<p>Supongamos que estamos interesados en calcular el mínimo de la función:</p>\n",
    "<p>$$f(x)=x^2+e^x$$</p>\n",
    "<p>en el intervalo $x\\in[-1,3]$</p>"
   ]
  },
  {
   "cell_type": "code",
   "execution_count": null,
   "metadata": {},
   "outputs": [],
   "source": [
    "f(x)=x^2+exp(x)"
   ]
  },
  {
   "cell_type": "markdown",
   "metadata": {},
   "source": [
    "<p>En la gráfica podemos apreciar cómo la función es unimodal en el intervalo $[-1,3]$:</p>"
   ]
  },
  {
   "cell_type": "code",
   "execution_count": null,
   "metadata": {},
   "outputs": [],
   "source": [
    "plot(f(x),(x,-1,3))"
   ]
  },
  {
   "cell_type": "markdown",
   "metadata": {},
   "source": [
    "<h3>Método de la sección aúrea</h3>\n",
    "<p>Si comenzamos a aplicar el método de la sección aúrea en nuestro intervalo $[-1,3]$, inicialmente:</p>\n",
    "<p>$$a=-1, \\,b=3,\\, c=a+(1-r)(b-a),\\, d=a+r(b-a),$$</p>\n",
    "<p>con</p>\n",
    "<p>$$r=\\frac{\\sqrt{5}-1}{2}$$</p>\n",
    "<p>por tanto:</p>"
   ]
  },
  {
   "cell_type": "code",
   "execution_count": null,
   "metadata": {},
   "outputs": [],
   "source": [
    "a=-1;b=3;r=(sqrt(5)-1)/2;c=a+(1-r)*(b-a);d=a+r*(b-a);\n",
    "print('a=',a,'; b=',b,'; c=',c,'; d=',d)"
   ]
  },
  {
   "cell_type": "markdown",
   "metadata": {},
   "source": [
    "<p>Ahora tenemos que comprobar si $f(c)\\leq f(d)$,</p>"
   ]
  },
  {
   "cell_type": "code",
   "execution_count": null,
   "metadata": {},
   "outputs": [],
   "source": [
    "f(c).n();f(d).n()"
   ]
  },
  {
   "cell_type": "markdown",
   "metadata": {},
   "source": [
    "<p>Como estamos en ese caso, tenemos que cambiar $b=d$, $d=c$ y calcular un nuevo $c$.</p>"
   ]
  },
  {
   "cell_type": "code",
   "execution_count": null,
   "metadata": {},
   "outputs": [],
   "source": [
    "b=d;d=c;c=a+(1-r)*(b-a);\n",
    "print('a=',a,'; b=',b,'; c=',c,'; d=',d)"
   ]
  },
  {
   "cell_type": "code",
   "execution_count": null,
   "metadata": {},
   "outputs": [],
   "source": [
    "print('a=',a.n(),'; b=',b.n(),'; c=',c.n(),'; d=',d.n())"
   ]
  },
  {
   "cell_type": "markdown",
   "metadata": {},
   "source": [
    "<p>El criterio de parada dependerá de la cota de error que estemos considerando, en esta primera iteración, tenemos que $l_2=r(b-a)$ donde $a$ y $b$ son los valores iniciales.</p>"
   ]
  },
  {
   "cell_type": "code",
   "execution_count": null,
   "metadata": {},
   "outputs": [],
   "source": [
    "(b-a).n()"
   ]
  },
  {
   "cell_type": "markdown",
   "metadata": {},
   "source": [
    "<p>Si queremos poder asegurar dos cifras decimales exactas, podemos escribir el algoritmo:</p>"
   ]
  },
  {
   "cell_type": "code",
   "execution_count": null,
   "metadata": {},
   "outputs": [],
   "source": [
    "error=10^(-2)"
   ]
  },
  {
   "cell_type": "code",
   "execution_count": null,
   "metadata": {},
   "outputs": [],
   "source": [
    "a=-1;b=3;r=(sqrt(5)-1)/2;c=a+(1-r)*(b-a);d=a+r*(b-a);l=b-a;k=1;\n",
    "while l>=error:\n",
    "    if f(c)<f(d):\n",
    "        b=d;d=c;c=a+(1-r)*(b-a);l=b-a;\n",
    "        print('iter:', k, '; a=',a.n(), '; b=',b.n())\n",
    "    else:\n",
    "        a=c;c=d;d=a+r*(b-a);l=b-a;\n",
    "        print('iter:', k, '; a=',a.n(), '; b=',b.n())\n",
    "    k=k+1"
   ]
  },
  {
   "cell_type": "markdown",
   "metadata": {},
   "source": [
    "<h3>Método de Newton</h3>\n",
    "<p>Si para este mismo problema hubiéramos usado el método de Newton, comenzando en $x_0=3$</p>"
   ]
  },
  {
   "cell_type": "code",
   "execution_count": null,
   "metadata": {},
   "outputs": [],
   "source": [
    "f(x)=x^2+exp(x)"
   ]
  },
  {
   "cell_type": "code",
   "execution_count": null,
   "metadata": {},
   "outputs": [],
   "source": [
    "fx=diff(f(x),x);fx2=diff(f(x),x,2);x0=3;iteraciones=8;\n",
    "for i in range(iteraciones):\n",
    "    x0=x0-fx(x=x0)/fx2(x=x0);\n",
    "    print('iter',i+1,'; x0=',x0.n())"
   ]
  },
  {
   "cell_type": "markdown",
   "metadata": {},
   "source": [
    "<p>Para poder aplicar el método de Newton necesitamos que se verifiquen las condiciones de Fourier. En la siguiente gráfica vemos cómo ni $f''(x)$ ni $f^{(3)}(x)$ se anulan en $[-1,3]$, además</p>\n",
    "<p>$$f'(3)f^{(3)}(3)>0$$</p>\n",
    "<p>por lo que la elección del punto de inicio ha sido la adecuada.</p>"
   ]
  },
  {
   "cell_type": "code",
   "execution_count": null,
   "metadata": {},
   "outputs": [],
   "source": [
    "fx3=f.diff(x,3)\n",
    "plot(fx,(x,-1,3))+plot(fx2,(x,-1,3),color='red')+plot(fx3,(x,-1,3),color='green')"
   ]
  },
  {
   "cell_type": "markdown",
   "metadata": {},
   "source": [
    "<p>Se aprecia la convergencia mucho más rápida de este método, como estamos buscando solución de la ecuación $f'(x)=0$, usando el método de parada dado por</p>\n",
    "<p>$$ \\epsilon_n\\leq \\frac{|f'(x)|}{\\min \\limits _{x\\in[a,b]|f''(x)|}},$$</p>\n",
    "<p>tendríamos que calcular una cota del valor absoluto de la segunda derivada de $f(x)$</p>"
   ]
  },
  {
   "cell_type": "code",
   "execution_count": null,
   "metadata": {},
   "outputs": [],
   "source": [
    "plot(fx2,(x,-1,3))\n"
   ]
  },
  {
   "cell_type": "code",
   "execution_count": null,
   "metadata": {},
   "outputs": [],
   "source": [
    "minder2=fx2(x=-1)"
   ]
  },
  {
   "cell_type": "code",
   "execution_count": null,
   "metadata": {},
   "outputs": [],
   "source": [
    "i=1;x0=3;eps=abs(fx(x=3))/minder2;\n",
    "while eps>=error:\n",
    "    x0=x0-fx(x=x0)/fx2(x=x0);\n",
    "    eps=abs(fx(x=x0))/minder2;\n",
    "    print('iter',i,'; x0=', x0.n(),'; error=', eps.n())\n",
    "    i=i+1;"
   ]
  },
  {
   "cell_type": "markdown",
   "metadata": {},
   "source": [
    "<h3>Método de interpolación cuadrático</h3>\n",
    "<p>Como hemos visto en clase este método aproxima la función que queremos optimar mediante una parábola. Si consideramos el mismo ejemplo:</p>\n",
    "<p>$$f(x)=x^2+e^x$$</p>\n",
    "<p>por tanto si partimos de una terna $\\{x_1,x_2,x_3\\}$, con $x_1<x_2<x_3$ con $f(x_2)\\leq f(x_1)$ y $f(x_2)\\leq f(x_3)$,</p>\n",
    "<p>podemos considerar en nuestro ejemplo $x_1=-1$ $x_2=1$ $x_3=3$,</p>\n",
    "<p>la fórmula general del vértice de la parábola que pasa por $\\{(x_1,f_1), (x_2,f_2),(x_3,f_3)\\}$, es</p>\n",
    "<p>$$\\widehat{x}=\\frac{1}{2}\\frac{(x_2^2-x_3^2)f_1+(x_3^2-x_1^2)f_2+(x_1^2-x_2^2)f_3}{(x_2-x_3)f_1+(x_3-x_1)f_2+(x_1-x_2)f_3}$$</p>"
   ]
  },
  {
   "cell_type": "code",
   "execution_count": null,
   "metadata": {},
   "outputs": [],
   "source": [
    "f(x)=x^2+exp(x)"
   ]
  },
  {
   "cell_type": "code",
   "execution_count": null,
   "metadata": {},
   "outputs": [],
   "source": [
    "x1=-1;x2=1;x3=3;f1=f(x1);f2=f(x2);f3=f(x3)\n",
    "x4=1/2*((x2^2-x3^2)*f1+(x3^2-x1^2)*f2+(x1^2-x2^2)*f3)/((x2-x3)*f1+(x3-x1)*f2+(x1-x2)*f3);f4=f(x4)"
   ]
  },
  {
   "cell_type": "code",
   "execution_count": null,
   "metadata": {},
   "outputs": [],
   "source": [
    "x4.n()"
   ]
  },
  {
   "cell_type": "markdown",
   "metadata": {},
   "source": [
    "<p>Por tanto $x_1<\\widehat x< x_2$, tenemos ahora que comparar las imágenes de $x_2$ y $\\widehat x$ mediante $f$, para descartar uno de los extremos del intervalo, $x_1$ ó $x_3$:</p>"
   ]
  },
  {
   "cell_type": "code",
   "execution_count": null,
   "metadata": {},
   "outputs": [],
   "source": [
    "print('f(x1)=',f1.n(),'; f(x4)=',f4.n(),'; f(x2)=',f(x2).n())"
   ]
  },
  {
   "cell_type": "markdown",
   "metadata": {},
   "source": [
    "<p>Así en la siguiente iteración, consideraríamos el conjunto de puntos $\\{x_1,\\widehat{x},x_2\\}$. Hemos descartado el extremo $x_3$.</p>\n",
    "<p>Podemos utilizar el criterio de parada $|\\widehat{x}_{k}-\\widehat{x}_{k-1}|\\leq \\epsilon$, para ello necesitamos al menos dos iteraciones o poner de inicio $\\widehat{x}_0=10^{99}$, entendiendo que es un valor muy lejano al mínimo que queremos aproximar</p>"
   ]
  },
  {
   "cell_type": "code",
   "execution_count": null,
   "metadata": {},
   "outputs": [],
   "source": [
    "x3=x2;x2=x4;xk=x4;f3=f2;f2=f4;\n",
    "x4=1/2*((x2^2-x3^2)*f1+(x3^2-x1^2)*f2+(x1^2-x2^2)*f3)/((x2-x3)*f1+(x3-x1)*f2+(x1-x2)*f3);f4=f(x4)"
   ]
  },
  {
   "cell_type": "code",
   "execution_count": null,
   "metadata": {},
   "outputs": [],
   "source": [
    "x4.n();x2.n()"
   ]
  },
  {
   "cell_type": "code",
   "execution_count": null,
   "metadata": {},
   "outputs": [],
   "source": [
    "abs(x4-xk).n()"
   ]
  },
  {
   "cell_type": "markdown",
   "metadata": {},
   "source": [
    "<p>Usando dos iteraciones de la interpolación cuadrática no hemos conseguido ninguna cifra decimal exacta.</p>"
   ]
  },
  {
   "cell_type": "code",
   "execution_count": null,
   "metadata": {},
   "outputs": [],
   "source": [
    "print('f(x1)=',f1.n(),'; f(x4)=',f4.n(),'; f(x2)=',f(x2).n())"
   ]
  },
  {
   "cell_type": "markdown",
   "metadata": {},
   "source": [
    "<p>Por lo tanto de nuevo descartamos $x_3$, la nueva terna sería $\\{x_1,\\widehat{x},x_2\\}$, de esta forma si el criterio de parada fuese $|\\widehat{x}_k-\\widehat{x}_{k-1}|<10^{-2}$ tendriamos que seguir iterando:</p>"
   ]
  },
  {
   "cell_type": "code",
   "execution_count": null,
   "metadata": {},
   "outputs": [],
   "source": [
    "x3=x2;x2=x4;xk=x4;f3=f2;f2=f4\n",
    "x4=1/2*((x2^2-x3^2)*f1+(x3^2-x1^2)*f2+(x1^2-x2^2)*f3)/((x2-x3)*f1+(x3-x1)*f2+(x1-x2)*f3);f4=f(x4)"
   ]
  },
  {
   "cell_type": "code",
   "execution_count": null,
   "metadata": {},
   "outputs": [],
   "source": [
    "x4.n();x2.n()"
   ]
  },
  {
   "cell_type": "code",
   "execution_count": null,
   "metadata": {},
   "outputs": [],
   "source": [
    "abs(xk-x4).n()"
   ]
  },
  {
   "cell_type": "markdown",
   "metadata": {},
   "source": [
    "<p>No se ha alcanzado el criterio de parada, por lo que seguimos iterando</p>"
   ]
  },
  {
   "cell_type": "code",
   "execution_count": null,
   "metadata": {},
   "outputs": [],
   "source": [
    "print('f(x1)=',f1.n(),'; f(x2)=',f2.n(),'; f(x4)=',f(x4).n())"
   ]
  },
  {
   "cell_type": "markdown",
   "metadata": {},
   "source": [
    "<p>Ahora descartamos $x_1$ y seguimos iterando</p>"
   ]
  },
  {
   "cell_type": "code",
   "execution_count": null,
   "metadata": {},
   "outputs": [],
   "source": [
    "xk=x4;x1=x2;x2=x4;f1=f2;f2=f4;\n",
    "x4=1/2*((x2^2-x3^2)*f1+(x3^2-x1^2)*f2+(x1^2-x2^2)*f3)/((x2-x3)*f1+(x3-x1)*f2+(x1-x2)*f3);f4=f(x4)"
   ]
  },
  {
   "cell_type": "code",
   "execution_count": null,
   "metadata": {},
   "outputs": [],
   "source": [
    "abs(xk-x4).n()"
   ]
  },
  {
   "cell_type": "code",
   "execution_count": null,
   "metadata": {},
   "outputs": [],
   "source": [
    "x4.n()"
   ]
  },
  {
   "cell_type": "markdown",
   "metadata": {},
   "source": [
    "<p>Ya hemos obtenido la precisión requerida, mediante cuatro iteraciones del método de interpolación cuadrática.</p>\n",
    "<h3>Interpolación cúbica</h3>\n",
    "<p>Ahora vamos a interpolar mediante un polinomio de grado 3, lo que se conoce como interpolación cúbica. El teorema de interpolación nos dice que necesitamos conocer cuatro puntos por donde pase nuestro polinomio, o dos donde conozcamos cúanto vale $f(x_i)$ y también $f'(x_i)$.</p>\n",
    "<p>Si partimos de un intervalo donde la función es unimodal, el signo de la derivada será $f'(x_1)<0$ y $f'(x_2)>0$. Supongamos por tanto, que tenemos un intervalo $[x_1,x_2]$ donde la función es unimodal, y conocidos: $f_1=f(x_1)$, $f'_1=f'(x_1)$, $f_2=f(x_2)$, $f'_2=f'(x_2)$.</p>\n",
    "<p>En ese caso el mínimo del polinomio cúbico interpolador es:</p>\n",
    "<p>$$\\widehat{x}=x_2-\\left(\\frac{f'_2+w-z}{f'_2-f_1'+2w}\\right)(x_2-x_1)$$</p>\n",
    "<p>donde</p>\n",
    "<p>$$z=\\frac{3(f_1-f_2)}{x_2-x_1}+f'_1+f'_2\\qquad w=\\sqrt{z^2-f'_1f'_2}$$</p>\n",
    "<p>Una vez que conozcamos el mínimo procedemos a eliminar uno de los dos extremos, desechando aquél donde el signo de la derivada coincida con el signo de la derivada en $\\widehat{x}$.</p>\n",
    "<p>Como en el caso de interpolación cuadrática, usaremos el criterio de parada, $|\\widehat{x}_{k+1}-\\widehat{x}_k|<\\epsilon$</p>\n",
    "<p>Usaremos el mismo ejemplo</p>\n",
    "<p>$$f(x)=x^2+e^x$$</p>\n",
    "<p>en el intervalo $[-1,3]$:</p>"
   ]
  },
  {
   "cell_type": "code",
   "execution_count": 49,
   "metadata": {},
   "outputs": [],
   "source": [
    "f(x)=x^2+exp(x);fx=f.diff()"
   ]
  },
  {
   "cell_type": "code",
   "execution_count": 50,
   "metadata": {},
   "outputs": [],
   "source": [
    "x1=-1.;x2=3.;f1=f(x1);f2=f(x2);fp1=fx(x1);fp2=fx(x2); xk=10^(99);k=1;\n",
    "z=3*(f1-f2)/(x2-x1)+fp1+fp2;w=sqrt(z^2-fp1*fp2);\n",
    "x3=x2-(fp2+w-z)/(fp2-fp1+2*w)*(x2-x1);f3=f(x3);fp3=fx(x3);"
   ]
  },
  {
   "cell_type": "code",
   "execution_count": 51,
   "metadata": {},
   "outputs": [
    {
     "data": {
      "text/plain": [
       "1.61402290502583"
      ]
     },
     "execution_count": 51,
     "metadata": {},
     "output_type": "execute_result"
    }
   ],
   "source": [
    "x3.n();fp3.n()"
   ]
  },
  {
   "cell_type": "markdown",
   "metadata": {},
   "source": [
    "<p>Como $f'(x_3)>0$ y suponemos que nuestra función es unimodal en el intervalo dado, descartaríamos el extremo $x_2$ y volveríamos a iterar:</p>"
   ]
  },
  {
   "cell_type": "code",
   "execution_count": 52,
   "metadata": {},
   "outputs": [],
   "source": [
    "xk=x3;x2=x3;f2=f3;fp2=fp3;\n",
    "z=3*(f1-f2)/(x2-x1)+fp1+fp2;w=sqrt(z^2-fp1*fp2);\n",
    "x3=x2-(fp2+w-z)/(fp2-fp1+2*w)*(x2-x1);f3=f(x3);fp3=fx(x3);"
   ]
  },
  {
   "cell_type": "code",
   "execution_count": 53,
   "metadata": {},
   "outputs": [
    {
     "data": {
      "text/plain": [
       "0.549915281866460"
      ]
     },
     "execution_count": 53,
     "metadata": {},
     "output_type": "execute_result"
    }
   ],
   "source": [
    "abs(xk-x3).n()"
   ]
  },
  {
   "cell_type": "markdown",
   "metadata": {},
   "source": [
    "<p>Si tuviésemos la condicion $|\\widehat{x}_k-\\widehat{x}_{k-1}|<10^{-2}$, no sería suficiente. Estudiando el signo de $f'(x_3)$</p>"
   ]
  },
  {
   "cell_type": "code",
   "execution_count": 54,
   "metadata": {},
   "outputs": [
    {
     "data": {
      "text/plain": [
       "-0.00127987106681338"
      ]
     },
     "execution_count": 54,
     "metadata": {},
     "output_type": "execute_result"
    }
   ],
   "source": [
    "fp3.n()"
   ]
  },
  {
   "cell_type": "code",
   "execution_count": 55,
   "metadata": {},
   "outputs": [],
   "source": [
    "xk=x3;x1=x3;f1=f3;fp1=fp3;\n",
    "z=3*(f1-f2)/(x2-x1)+fp1+fp2;w=sqrt(z^2-fp1*fp2);\n",
    "x3=x2-(fp2+w-z)/(fp2-fp1+2*w)*(x2-x1);f3=f(x3);fp3=fx(x3);"
   ]
  },
  {
   "cell_type": "code",
   "execution_count": 56,
   "metadata": {},
   "outputs": [
    {
     "data": {
      "text/plain": [
       "0.000477360270415228"
      ]
     },
     "execution_count": 56,
     "metadata": {},
     "output_type": "execute_result"
    }
   ],
   "source": [
    "abs(xk-x3).n()"
   ]
  },
  {
   "cell_type": "code",
   "execution_count": 57,
   "metadata": {},
   "outputs": [
    {
     "data": {
      "text/plain": [
       "-0.351729798480209"
      ]
     },
     "execution_count": 57,
     "metadata": {},
     "output_type": "execute_result"
    }
   ],
   "source": [
    "x3"
   ]
  },
  {
   "cell_type": "markdown",
   "metadata": {},
   "source": [
    "<p>Si el criterio de parada es $|\\widehat{x}_k-\\widehat{x}_{k-1}|<10^{-2}$, ya tendríamos la aproximación $x_3$, tras tres iteraciones.</p>"
   ]
  },
  {
   "cell_type": "code",
   "execution_count": 1,
   "metadata": {
    "scrolled": false
   },
   "outputs": [
    {
     "data": {
      "text/html": [
       "<center><h4>E.T.S.I.I. - GRADO I.I. TECNOLOGÍAS INFORMÁTICAS</h4></center><center><h4>Matemática Aplicada a Sistemas de Información - PRIMERA PRÁCTICA DE LABORATORIO</h4></center><hr  align=center><center>APELLIDOS, NOMBRE: <INPUT value= \"\",type=text size=70> <INPUT type=submit value=12-4F9059><hr  align=center></center><hr  align=center><b> <span style=\"color: #0000ff;\">EJERCICIO 1 </span></b><br> Consideremos la función <script type=\"math/tex; mode=display\">f(x)=- e^{x} \\cos(4 x)</script> Queremos calcular el mínimo de dicha función en el intervalo <script type=\"math/tex\">[1,2]</script>:<ol><li>En el intervalo <script type=\"math/tex\">[1,2]</script> ¿se verifica que <script type=\"math/tex\">f^{(2)}(x) \\neq 0</script> para todo <script type=\"math/tex\">x\\in[1,2]</script>? \n",
       " En caso contrario, dar el mayor intervalo donde se verifique,\n",
       " redondeando a una cifra decimal, por ejemplo, si el intervalo es [1.324, 1.543],\n",
       " redondeamos al intervalo [1.4,1.5]</li><li>En el intervalo <script type=\"math/tex\">[1,2]</script> ¿se verifica que <script type=\"math/tex\">f^{(2)}(x)\\neq 0</script> y <script type=\"math/tex\">f^{(3)}(x) \\neq 0</script> para todo <script type=\"math/tex\">x\\in[1,2]</script>? \n",
       " En caso contrario, dar el mayor intervalo donde se verifique,redondeando a una cifra decimal, \n",
       " por ejemplo, si el intervalo es [1.324, 1.543], redondeamos al intervalo [1.4,1.5], \n",
       " dar también el punto de inicio <script type=\"math/tex\">x_0</script></li><li>Considerando el intervalo del apartado anterior, dar la cota inferior de <script type=\"math/tex\">\\min_{x\\in[a,b]}|f^{(2)}(x)|</script> \n",
       " para estimar el error cometido, redondeando a una cifra decimal, \n",
       " por ejemplo si <script type=\"math/tex\">\\min_{x\\in[a,b]}|f^{(2)}(x)|\\geq 7.888</script> la cota sería 7.8</li><li>Si aplicamos la regla de Fourier al intervalo del apartado 2, \n",
       " y la cota de la segunda derivada del apartado 3, \n",
       " ¿Cuántas iteraciones necesitamos para tener 4 cifras decimales exactas?</li><li>Si aplicamos la regla de Fourier al intervalo del apartado 2, \n",
       " y la cota de la segunda derivada del apartado 3, \n",
       " ¿Qué valor <script type=\"math/tex\">x_n</script> nos asegura 3 cifras decimales exactas?</li></ol>Marcar la respuesta correcta.<br><hr  align=center><b> <span style=\"color: #ff0000;\">Respuesta al apartado 1 </span></b><br><br> 1.<input type=checkbox> No se verifica en [1,2], se verifica en [1.4,2] <br> 2.<input type=checkbox> No se verifica en [1,2], se verifica en [1.1,1.9] <br> 3.<input type=checkbox> No se verifica en [1,2], se verifica en [1.7,2] <br> 4.<input type=checkbox> No se verifica en [1,2], se verifica en [1,1.7]<br><br><b> <span style=\"color: #ff0000;\">Respuesta al apartado 2 </span></b><br><br> 1.<input type=checkbox> No se verifica en [1,2], se verifica en [1.5,2], <script type=\"math/tex\">x_0=2</script> <br> 2.<input type=checkbox> Sí se verifica en [1,2], <script type=\"math/tex\">x_0=2</script> <br> 3.<input type=checkbox> No se verifica en [1,2], se verifica en [1.1,1.5], <script type=\"math/tex\">x_0=1.5</script> <br> 4.<input type=checkbox> No se verifica en [1,2], se verifica en [1.4,1.7], <script type=\"math/tex\">x_0=1.7</script><br><br><b> <span style=\"color: #ff0000;\">Respuesta al apartado 3 </span></b><br><br> 1.<input type=checkbox> <script type=\"math/tex\">\\min_{x\\in[a,b]}|f^{(2)}(x)|\\leq 141.6</script> <br> 2.<input type=checkbox> <script type=\"math/tex\">\\min_{x\\in[a,b]}|f^{(2)}(x)|\\leq 58.6</script> <br> 3.<input type=checkbox> <script type=\"math/tex\">\\min_{x\\in[a,b]}|f^{(2)}(x)|\\leq 26.6</script> <br> 4.<input type=checkbox> <script type=\"math/tex\">\\min_{x\\in[a,b]}|f^{(2)}(x)|\\leq 24</script><br><br><b> <span style=\"color: #ff0000;\">Respuesta al apartado 4 </span></b><br><br> 1.<input type=checkbox> Al menos 3 iteraciones <br> 2.<input type=checkbox> Al menos 7 iteraciones <br> 3.<input type=checkbox> Al menos 5 iteraciones <br> 4.<input type=checkbox> Al menos 2 iteraciones<br><br><b> <span style=\"color: #ff0000;\">Respuesta al apartado 5 </span></b><br><br> <table style=\" width:100%\"> <tr> <td style=\"border:none; text-align:left\">1.<input type=checkbox> 1.75054221135860    </td> <td style=\"border:none; text-align:left\">2.<input type=checkbox> 1.23934752117171    </td> </tr> <tr> <td style=\"border:none; text-align:left\">3.<input type=checkbox> 1.63204877393569    </td> <td style=\"border:none; text-align:left\">4.<input type=checkbox> Ninguna de las otras respuestas.    </td> </tr> </table><br><br><hr  align=center><b> <span style=\"color: #0000ff;\">EJERCICIO 2 </span></b><br> Consideremos la función <script type=\"math/tex; mode=display\">f(x)=- e^{x^2} \\cos(4 x)</script> Queremos calcular el mínimo de dicha función en el intervalo <script type=\"math/tex\">[1,2]</script>:<ol><li>Si partimos del intervalo <script type=\"math/tex\">[1,2]</script> ¿cuántas iteraciones del método de la sección áurea \n",
       " necesitamos para poder asegurar 8 cifras decimales exactas</li><li>Si ejecutamos cinco veces el método de la sección aurea, ¿cúal es la sucesión de \n",
       " extremos descartados?</li><li>El extremo superior de la iteración que nos asegura 4 cifras decimales exactas es:</li></ol>Marcar la respuesta correcta.<br><hr  align=center><b> <span style=\"color: #ff0000;\">Respuesta al apartado 1 </span></b><br><br> 1.<input type=checkbox> Al menos 29 iteraciones <br> 2.<input type=checkbox> Al menos 39 iteraciones <br> 3.<input type=checkbox> Al menos 34 iteraciones <br> 4.<input type=checkbox> Al menos 24 iteraciones<br><br><b> <span style=\"color: #ff0000;\">Respuesta al apartado 2 </span></b><br><br> 1.<input type=checkbox> La sucesión de descartes es: a, a, b, a, b <br> 2.<input type=checkbox> La sucesión de descartes es: b, b, b, a, b <br> 3.<input type=checkbox> La sucesión de descartes es: a, b, a, a, b <br> 4.<input type=checkbox> La sucesión de descartes es: b, b, a, a, b<br><br><b> <span style=\"color: #ff0000;\">Respuesta al apartado 3 </span></b><br><br> <table style=\" width:100%\"> <tr> <td style=\"border:none; text-align:left\">1.<input type=checkbox> 1.15448175635988    </td> <td style=\"border:none; text-align:left\">2.<input type=checkbox> 1.32429329191142    </td> </tr> <tr> <td style=\"border:none; text-align:left\">3.<input type=checkbox> 1.75056247838306    </td> <td style=\"border:none; text-align:left\">4.<input type=checkbox> Ninguna de las otras respuestas.    </td> </tr> </table><br><br><hr  align=center><b> <span style=\"color: #0000ff;\">EJERCICIO 3 </span></b><br> Consideremos la función <script type=\"math/tex; mode=display\">f(x)=3 x^{4} - 2 e^{x}</script> Queremos calcular el mínimo de dicha función en el intervalo <script type=\"math/tex\">[0,1]</script>:<ol><li>Si partimos de valores iniciales <script type=\"math/tex\">x_1=0, x_2=1</script> \n",
       " ¿cuántas iteraciones del método de interpolación cúbica necesitamos \n",
       " para poder asegurar <script type=\"math/tex\">|\\widehat{x}_{k}-\\widehat{x}_{k-1}|<10^{-5}</script>? </li><li>Si ejecutamos cinco veces el método de interpolación cúbica,\n",
       " ¿cúal es la sucesión de extremos descartados?</li><li>El mínimo de la cúbica interpoladora de la iteración que nos asegura \n",
       " 3 cifras decimales exactas es:</li></ol>Marcar la respuesta correcta.<br><hr  align=center><b> <span style=\"color: #ff0000;\">Respuesta al apartado 1 </span></b><br><br> 1.<input type=checkbox> Al menos 6 iteraciones <br> 2.<input type=checkbox> Al menos 4 iteraciones <br> 3.<input type=checkbox> Al menos 5 iteraciones <br> 4.<input type=checkbox> Al menos 3 iteraciones<br><br><b> <span style=\"color: #ff0000;\">Respuesta al apartado 2 </span></b><br><br> 1.<input type=checkbox> La sucesión de descartes es: <script type=\"math/tex\">x_2,x_1,x_2,x_1,x_2</script> <br> 2.<input type=checkbox> La sucesión de descartes es: <script type=\"math/tex\">x_2,x_2,x_2,x_2,x_2</script> <br> 3.<input type=checkbox> La sucesión de descartes es: <script type=\"math/tex\">x_2,x_2,x_1,x_2,x_1</script> <br> 4.<input type=checkbox> La sucesión de descartes es: <script type=\"math/tex\">x_1,x_2,x_1,x_2,x_1</script><br><br><b> <span style=\"color: #ff0000;\">Respuesta al apartado 3 </span></b><br><br> <table style=\" width:100%\"> <tr> <td style=\"border:none; text-align:left\">1.<input type=checkbox> 0.204481432114767    </td> <td style=\"border:none; text-align:left\">2.<input type=checkbox> 0.831031452108246    </td> </tr> <tr> <td style=\"border:none; text-align:left\">3.<input type=checkbox> 0.144420998212035    </td> <td style=\"border:none; text-align:left\">4.<input type=checkbox> Ninguna de las otras respuestas.    </td> </tr> </table><br><br><hr  align=center><center><span style=\"font-size: x-small;\"> Final del documento </span></center>"
      ],
      "text/plain": [
       "<center><h4>E.T.S.I.I. - GRADO I.I. TECNOLOGÍAS INFORMÁTICAS</h4></center><center><h4>Matemática Aplicada a Sistemas de Información - PRIMERA PRÁCTICA DE LABORATORIO</h4></center><hr  align=center><center>APELLIDOS, NOMBRE: <INPUT value= \"\",type=text size=70> <INPUT type=submit value=12-4F9059><hr  align=center></center><hr  align=center><b> <span style=\"color: #0000ff;\">EJERCICIO 1 </span></b><br> Consideremos la función <script type=\"math/tex; mode=display\">f(x)=- e^{x} \\cos(4 x)</script> Queremos calcular el mínimo de dicha función en el intervalo <script type=\"math/tex\">[1,2]</script>:<ol><li>En el intervalo <script type=\"math/tex\">[1,2]</script> ¿se verifica que <script type=\"math/tex\">f^{(2)}(x) \\neq 0</script> para todo <script type=\"math/tex\">x\\in[1,2]</script>? \n",
       " En caso contrario, dar el mayor intervalo donde se verifique,\n",
       " redondeando a una cifra decimal, por ejemplo, si el intervalo es [1.324, 1.543],\n",
       " redondeamos al intervalo [1.4,1.5]</li><li>En el intervalo <script type=\"math/tex\">[1,2]</script> ¿se verifica que <script type=\"math/tex\">f^{(2)}(x)\\neq 0</script> y <script type=\"math/tex\">f^{(3)}(x) \\neq 0</script> para todo <script type=\"math/tex\">x\\in[1,2]</script>? \n",
       " En caso contrario, dar el mayor intervalo donde se verifique,redondeando a una cifra decimal, \n",
       " por ejemplo, si el intervalo es [1.324, 1.543], redondeamos al intervalo [1.4,1.5], \n",
       " dar también el punto de inicio <script type=\"math/tex\">x_0</script></li><li>Considerando el intervalo del apartado anterior, dar la cota inferior de <script type=\"math/tex\">\\min_{x\\in[a,b]}|f^{(2)}(x)|</script> \n",
       " para estimar el error cometido, redondeando a una cifra decimal, \n",
       " por ejemplo si <script type=\"math/tex\">\\min_{x\\in[a,b]}|f^{(2)}(x)|\\geq 7.888</script> la cota sería 7.8</li><li>Si aplicamos la regla de Fourier al intervalo del apartado 2, \n",
       " y la cota de la segunda derivada del apartado 3, \n",
       " ¿Cuántas iteraciones necesitamos para tener 4 cifras decimales exactas?</li><li>Si aplicamos la regla de Fourier al intervalo del apartado 2, \n",
       " y la cota de la segunda derivada del apartado 3, \n",
       " ¿Qué valor <script type=\"math/tex\">x_n</script> nos asegura 3 cifras decimales exactas?</li></ol>Marcar la respuesta correcta.<br><hr  align=center><b> <span style=\"color: #ff0000;\">Respuesta al apartado 1 </span></b><br><br> 1.<input type=checkbox> No se verifica en [1,2], se verifica en [1.4,2] <br> 2.<input type=checkbox> No se verifica en [1,2], se verifica en [1.1,1.9] <br> 3.<input type=checkbox> No se verifica en [1,2], se verifica en [1.7,2] <br> 4.<input type=checkbox> No se verifica en [1,2], se verifica en [1,1.7]<br><br><b> <span style=\"color: #ff0000;\">Respuesta al apartado 2 </span></b><br><br> 1.<input type=checkbox> No se verifica en [1,2], se verifica en [1.5,2], <script type=\"math/tex\">x_0=2</script> <br> 2.<input type=checkbox> Sí se verifica en [1,2], <script type=\"math/tex\">x_0=2</script> <br> 3.<input type=checkbox> No se verifica en [1,2], se verifica en [1.1,1.5], <script type=\"math/tex\">x_0=1.5</script> <br> 4.<input type=checkbox> No se verifica en [1,2], se verifica en [1.4,1.7], <script type=\"math/tex\">x_0=1.7</script><br><br><b> <span style=\"color: #ff0000;\">Respuesta al apartado 3 </span></b><br><br> 1.<input type=checkbox> <script type=\"math/tex\">\\min_{x\\in[a,b]}|f^{(2)}(x)|\\leq 141.6</script> <br> 2.<input type=checkbox> <script type=\"math/tex\">\\min_{x\\in[a,b]}|f^{(2)}(x)|\\leq 58.6</script> <br> 3.<input type=checkbox> <script type=\"math/tex\">\\min_{x\\in[a,b]}|f^{(2)}(x)|\\leq 26.6</script> <br> 4.<input type=checkbox> <script type=\"math/tex\">\\min_{x\\in[a,b]}|f^{(2)}(x)|\\leq 24</script><br><br><b> <span style=\"color: #ff0000;\">Respuesta al apartado 4 </span></b><br><br> 1.<input type=checkbox> Al menos 3 iteraciones <br> 2.<input type=checkbox> Al menos 7 iteraciones <br> 3.<input type=checkbox> Al menos 5 iteraciones <br> 4.<input type=checkbox> Al menos 2 iteraciones<br><br><b> <span style=\"color: #ff0000;\">Respuesta al apartado 5 </span></b><br><br> <table style=\" width:100%\"> <tr> <td style=\"border:none; text-align:left\">1.<input type=checkbox> 1.75054221135860    </td> <td style=\"border:none; text-align:left\">2.<input type=checkbox> 1.23934752117171    </td> </tr> <tr> <td style=\"border:none; text-align:left\">3.<input type=checkbox> 1.63204877393569    </td> <td style=\"border:none; text-align:left\">4.<input type=checkbox> Ninguna de las otras respuestas.    </td> </tr> </table><br><br><hr  align=center><b> <span style=\"color: #0000ff;\">EJERCICIO 2 </span></b><br> Consideremos la función <script type=\"math/tex; mode=display\">f(x)=- e^{x^2} \\cos(4 x)</script> Queremos calcular el mínimo de dicha función en el intervalo <script type=\"math/tex\">[1,2]</script>:<ol><li>Si partimos del intervalo <script type=\"math/tex\">[1,2]</script> ¿cuántas iteraciones del método de la sección áurea \n",
       " necesitamos para poder asegurar 8 cifras decimales exactas</li><li>Si ejecutamos cinco veces el método de la sección aurea, ¿cúal es la sucesión de \n",
       " extremos descartados?</li><li>El extremo superior de la iteración que nos asegura 4 cifras decimales exactas es:</li></ol>Marcar la respuesta correcta.<br><hr  align=center><b> <span style=\"color: #ff0000;\">Respuesta al apartado 1 </span></b><br><br> 1.<input type=checkbox> Al menos 29 iteraciones <br> 2.<input type=checkbox> Al menos 39 iteraciones <br> 3.<input type=checkbox> Al menos 34 iteraciones <br> 4.<input type=checkbox> Al menos 24 iteraciones<br><br><b> <span style=\"color: #ff0000;\">Respuesta al apartado 2 </span></b><br><br> 1.<input type=checkbox> La sucesión de descartes es: a, a, b, a, b <br> 2.<input type=checkbox> La sucesión de descartes es: b, b, b, a, b <br> 3.<input type=checkbox> La sucesión de descartes es: a, b, a, a, b <br> 4.<input type=checkbox> La sucesión de descartes es: b, b, a, a, b<br><br><b> <span style=\"color: #ff0000;\">Respuesta al apartado 3 </span></b><br><br> <table style=\" width:100%\"> <tr> <td style=\"border:none; text-align:left\">1.<input type=checkbox> 1.15448175635988    </td> <td style=\"border:none; text-align:left\">2.<input type=checkbox> 1.32429329191142    </td> </tr> <tr> <td style=\"border:none; text-align:left\">3.<input type=checkbox> 1.75056247838306    </td> <td style=\"border:none; text-align:left\">4.<input type=checkbox> Ninguna de las otras respuestas.    </td> </tr> </table><br><br><hr  align=center><b> <span style=\"color: #0000ff;\">EJERCICIO 3 </span></b><br> Consideremos la función <script type=\"math/tex; mode=display\">f(x)=3 x^{4} - 2 e^{x}</script> Queremos calcular el mínimo de dicha función en el intervalo <script type=\"math/tex\">[0,1]</script>:<ol><li>Si partimos de valores iniciales <script type=\"math/tex\">x_1=0, x_2=1</script> \n",
       " ¿cuántas iteraciones del método de interpolación cúbica necesitamos \n",
       " para poder asegurar <script type=\"math/tex\">|\\widehat{x}_{k}-\\widehat{x}_{k-1}|<10^{-5}</script>? </li><li>Si ejecutamos cinco veces el método de interpolación cúbica,\n",
       " ¿cúal es la sucesión de extremos descartados?</li><li>El mínimo de la cúbica interpoladora de la iteración que nos asegura \n",
       " 3 cifras decimales exactas es:</li></ol>Marcar la respuesta correcta.<br><hr  align=center><b> <span style=\"color: #ff0000;\">Respuesta al apartado 1 </span></b><br><br> 1.<input type=checkbox> Al menos 6 iteraciones <br> 2.<input type=checkbox> Al menos 4 iteraciones <br> 3.<input type=checkbox> Al menos 5 iteraciones <br> 4.<input type=checkbox> Al menos 3 iteraciones<br><br><b> <span style=\"color: #ff0000;\">Respuesta al apartado 2 </span></b><br><br> 1.<input type=checkbox> La sucesión de descartes es: <script type=\"math/tex\">x_2,x_1,x_2,x_1,x_2</script> <br> 2.<input type=checkbox> La sucesión de descartes es: <script type=\"math/tex\">x_2,x_2,x_2,x_2,x_2</script> <br> 3.<input type=checkbox> La sucesión de descartes es: <script type=\"math/tex\">x_2,x_2,x_1,x_2,x_1</script> <br> 4.<input type=checkbox> La sucesión de descartes es: <script type=\"math/tex\">x_1,x_2,x_1,x_2,x_1</script><br><br><b> <span style=\"color: #ff0000;\">Respuesta al apartado 3 </span></b><br><br> <table style=\" width:100%\"> <tr> <td style=\"border:none; text-align:left\">1.<input type=checkbox> 0.204481432114767    </td> <td style=\"border:none; text-align:left\">2.<input type=checkbox> 0.831031452108246    </td> </tr> <tr> <td style=\"border:none; text-align:left\">3.<input type=checkbox> 0.144420998212035    </td> <td style=\"border:none; text-align:left\">4.<input type=checkbox> Ninguna de las otras respuestas.    </td> </tr> </table><br><br><hr  align=center><center><span style=\"font-size: x-small;\"> Final del documento </span></center>"
      ]
     },
     "metadata": {},
     "output_type": "display_data"
    }
   ],
   "source": [
    "NUMERO_ALUMNO = 12\n",
    "\n",
    "NOMBRE_FICHERO_EXAMEN = 'Ex_Lab_MASI1_t.htl'\n",
    "load('codigo_examinar_html.sage')\n",
    "\n",
    "if NUMERO_ALUMNO > 0:\n",
    "    lector_examenes(NOMBRE_FICHERO_EXAMEN,NUMERO_ALUMNO,False)\n"
   ]
  },
  {
   "cell_type": "code",
   "execution_count": null,
   "metadata": {},
   "outputs": [],
   "source": [
    "#1 Ejercicio"
   ]
  },
  {
   "cell_type": "code",
   "execution_count": 1,
   "metadata": {},
   "outputs": [
    {
     "data": {
      "text/html": [
       "<html><script type=\"math/tex; mode=display\">\\newcommand{\\Bold}[1]{\\mathbf{#1}}-\\cos\\left(4 \\, x\\right) e^{x}</script></html>"
      ],
      "text/plain": [
       "-cos(4*x)*e^x"
      ]
     },
     "metadata": {},
     "output_type": "display_data"
    }
   ],
   "source": [
    "# 1 apartado\n",
    "f(x) = -e^x * cos(4*x)\n",
    "show(f(x))"
   ]
  },
  {
   "cell_type": "code",
   "execution_count": 3,
   "metadata": {},
   "outputs": [
    {
     "data": {
      "text/plain": [
       "'\\n1. No se verifica en [1,2], se verifica en [1.4,2]\\n2. No se verifica en [1,2], se verifica en [1.1,1.9]\\n3. No se verifica en [1,2], se verifica en [1.7,2]\\n4. No se verifica en [1,2], se verifica en [1,1.7]\\n'"
      ]
     },
     "execution_count": 3,
     "metadata": {},
     "output_type": "execute_result"
    }
   ],
   "source": [
    "'''\n",
    "1. No se verifica en [1,2], se verifica en [1.4,2]  No corta 0.6 THIS\n",
    "2. No se verifica en [1,2], se verifica en [1.1,1.9] Corta\n",
    "3. No se verifica en [1,2], se verifica en [1.7,2]    No corta 0.3\n",
    "4. No se verifica en [1,2], se verifica en [1,1.7] CORTA\n",
    "'''"
   ]
  },
  {
   "cell_type": "code",
   "execution_count": 2,
   "metadata": {},
   "outputs": [
    {
     "data": {
      "image/png": "[encoded data removed]",
      "text/plain": [
       "Graphics object consisting of 1 graphics primitive"
      ]
     },
     "execution_count": 2,
     "metadata": {},
     "output_type": "execute_result"
    }
   ],
   "source": [
    "# El mayor de los que NO corten\n",
    "fx = f.diff(x,1)\n",
    "fx2 = f.diff(x,2)\n",
    "fx3 = f.diff(x,3)\n",
    "plot(fx2,(x,1.7,2))"
   ]
  },
  {
   "cell_type": "code",
   "execution_count": 52,
   "metadata": {},
   "outputs": [
    {
     "data": {
      "image/png": "[encoded data removed]",
      "text/plain": [
       "Graphics object consisting of 2 graphics primitives"
      ]
     },
     "execution_count": 52,
     "metadata": {},
     "output_type": "execute_result"
    }
   ],
   "source": [
    "# 2 apartado\n",
    "# El mayor de los que NO corten\n",
    "plot(fx3,(x,1.4,1.7), color = 'red') + plot(fx2,(x,1.4,1.7), color = 'green')\n",
    "\n",
    "#No se verifica en [1,2], se verifica en [1.5,2], x0=2      Corta la tercera solo\n",
    "#Sí se verifica en [1,2], x0=2\n",
    "#No se verifica en [1,2], se verifica en [1.1,1.5], x0=1.5  Corta la segunda solo\n",
    "#No se verifica en [1,2], se verifica en [1.4,1.7], x0=1.7  No cortan a X, se cortan a ellas  THIS"
   ]
  },
  {
   "cell_type": "code",
   "execution_count": 3,
   "metadata": {},
   "outputs": [
    {
     "data": {
      "text/html": [
       "<html><script type=\"math/tex; mode=display\">\\newcommand{\\Bold}[1]{\\mathbf{#1}}26.6968212805495</script></html>"
      ],
      "text/plain": [
       "26.6968212805495"
      ]
     },
     "metadata": {},
     "output_type": "display_data"
    }
   ],
   "source": [
    "# 3 apartado\n",
    "# Considerando el intervalo del apartado anterior, dar la cota inferior de minx∈[a,b]|f(2)(x)| para\n",
    "# estimar el error cometido, redondeando a una cifra decimal, por ejemplo si minx∈[a,b]|f(2)(x)|≥7.888\n",
    "# la cota sería 7.8\n",
    "# 1.5 pq es el mayor intervalo seleccionado en el apartado anterior!!!!!!!\n",
    "minder2=fx2(x=1.4)\n",
    "show(minder2)\n",
    "\n",
    "# minx∈[a,b]|f(2)(x)|≤141.6\n",
    "#. minx∈[a,b]|f(2)(x)|≤58.6\n",
    "# minx∈[a,b]|f(2)(x)|≤26.6  THIS\n",
    "# minx∈[a,b]|f(2)(x)|≤24"
   ]
  },
  {
   "cell_type": "code",
   "execution_count": 5,
   "metadata": {},
   "outputs": [
    {
     "name": "stdout",
     "output_type": "stream",
     "text": [
      "iter 1.00000000000000 ; x0= 1.28425131915623 ; error= 0.548861643121578\n",
      "iter 2.00000000000000 ; x0= -2.37046231803932 ; error= 0.00429280394997983\n",
      "iter 3.00000000000000 ; x0= -2.28598600178062 ; error= 0.000562903549310916\n",
      "iter 4.00000000000000 ; x0= -2.29487396341877 ; error= 4.72272120618239e-6\n"
     ]
    }
   ],
   "source": [
    "# 4 apartado\n",
    "# Si aplicamos la regla de Fourier al intervalo del apartado 2, y la cota de la segunda derivada del\n",
    "# apartado 3, ¿Cuántas iteraciones necesitamos para tener 4 cifras decimales exactas?\n",
    "# f(a)*f(b) < 0\n",
    "# f'(x) != 0\n",
    "# f''(x) != 0\n",
    "# Añadir en error el número de CDE. AÑADIR EN fx((x=2)) el PUNTO X0.\n",
    "# 4 cifras decimales:\n",
    "error=10^(-4)\n",
    "i=1.0;x0=2.0;eps=abs(fx(x=1.7))/minder2;\n",
    "while eps>=error:\n",
    "    x0=x0-fx(x=x0)/fx2(x=x0);\n",
    "    eps=abs(fx(x=x0))/minder2;\n",
    "    print('iter',i,'; x0=', x0.n(),'; error=', eps.n())\n",
    "    i=i+1;\n",
    "\n",
    "#Al menos 3 iteraciones THIS\n",
    "#Al menos 7 iteraciones\n",
    "#Al menos 5 iteraciones\n",
    "#Al menos 2 iteraciones"
   ]
  },
  {
   "cell_type": "code",
   "execution_count": 4,
   "metadata": {},
   "outputs": [
    {
     "name": "stdout",
     "output_type": "stream",
     "text": [
      "iter 1.00000000000000 ; x0= 1.28425131915623 ; error= 0.548861643121578\n",
      "iter 2.00000000000000 ; x0= -2.37046231803932 ; error= 0.00429280394997983\n",
      "iter 3.00000000000000 ; x0= -2.28598600178062 ; error= 0.000562903549310916\n"
     ]
    }
   ],
   "source": [
    "# 5 apartado\n",
    "# 3 cifras decimales:\n",
    "error=10^(-3)\n",
    "i=1.0;x0=2.0;eps=abs(fx(x=1.7))/minder2;\n",
    "while eps>=error:\n",
    "    x0=x0-fx(x=x0)/fx2(x=x0);\n",
    "    eps=abs(fx(x=x0))/minder2;\n",
    "    print('iter',i,'; x0=', x0.n(),'; error=', eps.n())\n",
    "    i=i+1;\n",
    "    \n",
    "# 1.75054221135860 \t2. 1.23934752117171\n",
    "# 3. 1.63204877393569 \t4. Ninguna de las otras respuestas.      "
   ]
  },
  {
   "cell_type": "code",
   "execution_count": 60,
   "metadata": {},
   "outputs": [
    {
     "data": {
      "text/html": [
       "<html><script type=\"math/tex; mode=display\">\\newcommand{\\Bold}[1]{\\mathbf{#1}}-\\cos\\left(4 \\, x\\right) e^{\\left(x^{2}\\right)}</script></html>"
      ],
      "text/plain": [
       "-cos(4*x)*e^(x^2)"
      ]
     },
     "metadata": {},
     "output_type": "display_data"
    }
   ],
   "source": [
    "# 2 Ejercicio\n",
    "f(x) = -e^(x^2) * cos(4*x)\n",
    "show(f(x))"
   ]
  },
  {
   "cell_type": "code",
   "execution_count": 61,
   "metadata": {},
   "outputs": [],
   "source": [
    "# 1 apartado\n",
    "# Si partimos del intervalo [1,2] ¿cuántas iteraciones del método de la sección áurea \n",
    "# necesitamos para poder asegurar 8 cifras decimales exactas\n",
    "error=10^(-8)"
   ]
  },
  {
   "cell_type": "code",
   "execution_count": 62,
   "metadata": {},
   "outputs": [
    {
     "name": "stdout",
     "output_type": "stream",
     "text": [
      "iter: 1 ; a= 1.38196601125011 ; b= 2.00000000000000\n",
      "iter: 2 ; a= 1.61803398874989 ; b= 2.00000000000000\n",
      "iter: 3 ; a= 1.61803398874989 ; b= 1.85410196624968\n",
      "iter: 4 ; a= 1.70820393249937 ; b= 1.85410196624968\n",
      "iter: 5 ; a= 1.70820393249937 ; b= 1.79837387624884\n",
      "iter: 6 ; a= 1.70820393249937 ; b= 1.76393202250021\n",
      "iter: 7 ; a= 1.72949016875158 ; b= 1.76393202250021\n",
      "iter: 8 ; a= 1.74264578624800 ; b= 1.76393202250021\n",
      "iter: 9 ; a= 1.74264578624800 ; b= 1.75580140374443\n",
      "iter: 10 ; a= 1.74767078498864 ; b= 1.75580140374443\n",
      "iter: 11 ; a= 1.74767078498864 ; b= 1.75269578372929\n",
      "iter: 12 ; a= 1.74959016371414 ; b= 1.75269578372929\n",
      "iter: 13 ; a= 1.74959016371414 ; b= 1.75150954243964\n",
      "iter: 14 ; a= 1.74959016371414 ; b= 1.75077640500379\n",
      "iter: 15 ; a= 1.75004326756793 ; b= 1.75077640500379\n",
      "iter: 16 ; a= 1.75032330115000 ; b= 1.75077640500379\n",
      "iter: 17 ; a= 1.75032330115000 ; b= 1.75060333473207\n",
      "iter: 18 ; a= 1.75043026446036 ; b= 1.75060333473207\n",
      "iter: 19 ; a= 1.75049637142171 ; b= 1.75060333473207\n",
      "iter: 20 ; a= 1.75049637142171 ; b= 1.75056247838306\n",
      "iter: 21 ; a= 1.75052162203406 ; b= 1.75056247838306\n",
      "iter: 22 ; a= 1.75053722777072 ; b= 1.75056247838306\n",
      "iter: 23 ; a= 1.75053722777072 ; b= 1.75055283350739\n",
      "iter: 24 ; a= 1.75053722777072 ; b= 1.75054687264640\n",
      "iter: 25 ; a= 1.75054091178541 ; b= 1.75054687264640\n",
      "iter: 26 ; a= 1.75054091178541 ; b= 1.75054459580011\n",
      "iter: 27 ; a= 1.75054091178541 ; b= 1.75054318863171\n",
      "iter: 28 ; a= 1.75054178146331 ; b= 1.75054318863171\n",
      "iter: 29 ; a= 1.75054178146331 ; b= 1.75054265114121\n",
      "iter: 30 ; a= 1.75054178146331 ; b= 1.75054231895381\n",
      "iter: 31 ; a= 1.75054198676641 ; b= 1.75054231895381\n",
      "iter: 32 ; a= 1.75054211365071 ; b= 1.75054231895381\n"
     ]
    },
    {
     "ename": "KeyboardInterrupt",
     "evalue": "",
     "output_type": "error",
     "traceback": [
      "\u001b[0;31m---------------------------------------------------------------------------\u001b[0m",
      "\u001b[0;31mKeyboardInterrupt\u001b[0m                         Traceback (most recent call last)",
      "\u001b[0;32m<ipython-input-62-92f8440fae15>\u001b[0m in \u001b[0;36m<module>\u001b[0;34m()\u001b[0m\n\u001b[1;32m      1\u001b[0m \u001b[0ma\u001b[0m\u001b[0;34m=\u001b[0m\u001b[0mRealNumber\u001b[0m\u001b[0;34m(\u001b[0m\u001b[0;34m'1.'\u001b[0m\u001b[0;34m)\u001b[0m\u001b[0;34m;\u001b[0m\u001b[0mb\u001b[0m\u001b[0;34m=\u001b[0m\u001b[0mRealNumber\u001b[0m\u001b[0;34m(\u001b[0m\u001b[0;34m'2.'\u001b[0m\u001b[0;34m)\u001b[0m\u001b[0;34m;\u001b[0m\u001b[0mr\u001b[0m\u001b[0;34m=\u001b[0m\u001b[0;34m(\u001b[0m\u001b[0msqrt\u001b[0m\u001b[0;34m(\u001b[0m\u001b[0mInteger\u001b[0m\u001b[0;34m(\u001b[0m\u001b[0;36m5\u001b[0m\u001b[0;34m)\u001b[0m\u001b[0;34m)\u001b[0m\u001b[0;34m-\u001b[0m\u001b[0mInteger\u001b[0m\u001b[0;34m(\u001b[0m\u001b[0;36m1\u001b[0m\u001b[0;34m)\u001b[0m\u001b[0;34m)\u001b[0m\u001b[0;34m/\u001b[0m\u001b[0mInteger\u001b[0m\u001b[0;34m(\u001b[0m\u001b[0;36m2\u001b[0m\u001b[0;34m)\u001b[0m\u001b[0;34m;\u001b[0m\u001b[0mc\u001b[0m\u001b[0;34m=\u001b[0m\u001b[0ma\u001b[0m\u001b[0;34m+\u001b[0m\u001b[0;34m(\u001b[0m\u001b[0mInteger\u001b[0m\u001b[0;34m(\u001b[0m\u001b[0;36m1\u001b[0m\u001b[0;34m)\u001b[0m\u001b[0;34m-\u001b[0m\u001b[0mr\u001b[0m\u001b[0;34m)\u001b[0m\u001b[0;34m*\u001b[0m\u001b[0;34m(\u001b[0m\u001b[0mb\u001b[0m\u001b[0;34m-\u001b[0m\u001b[0ma\u001b[0m\u001b[0;34m)\u001b[0m\u001b[0;34m;\u001b[0m\u001b[0md\u001b[0m\u001b[0;34m=\u001b[0m\u001b[0ma\u001b[0m\u001b[0;34m+\u001b[0m\u001b[0mr\u001b[0m\u001b[0;34m*\u001b[0m\u001b[0;34m(\u001b[0m\u001b[0mb\u001b[0m\u001b[0;34m-\u001b[0m\u001b[0ma\u001b[0m\u001b[0;34m)\u001b[0m\u001b[0;34m;\u001b[0m\u001b[0ml\u001b[0m\u001b[0;34m=\u001b[0m\u001b[0mb\u001b[0m\u001b[0;34m-\u001b[0m\u001b[0ma\u001b[0m\u001b[0;34m;\u001b[0m\u001b[0mk\u001b[0m\u001b[0;34m=\u001b[0m\u001b[0mInteger\u001b[0m\u001b[0;34m(\u001b[0m\u001b[0;36m1\u001b[0m\u001b[0;34m)\u001b[0m\u001b[0;34m;\u001b[0m\u001b[0;34m\u001b[0m\u001b[0;34m\u001b[0m\u001b[0m\n\u001b[1;32m      2\u001b[0m \u001b[0;32mwhile\u001b[0m \u001b[0ml\u001b[0m\u001b[0;34m>=\u001b[0m\u001b[0merror\u001b[0m\u001b[0;34m:\u001b[0m\u001b[0;34m\u001b[0m\u001b[0;34m\u001b[0m\u001b[0m\n\u001b[0;32m----> 3\u001b[0;31m     \u001b[0;32mif\u001b[0m \u001b[0mf\u001b[0m\u001b[0;34m(\u001b[0m\u001b[0mc\u001b[0m\u001b[0;34m)\u001b[0m\u001b[0;34m<\u001b[0m\u001b[0mf\u001b[0m\u001b[0;34m(\u001b[0m\u001b[0md\u001b[0m\u001b[0;34m)\u001b[0m\u001b[0;34m:\u001b[0m\u001b[0;34m\u001b[0m\u001b[0;34m\u001b[0m\u001b[0m\n\u001b[0m\u001b[1;32m      4\u001b[0m         \u001b[0mb\u001b[0m\u001b[0;34m=\u001b[0m\u001b[0md\u001b[0m\u001b[0;34m;\u001b[0m\u001b[0md\u001b[0m\u001b[0;34m=\u001b[0m\u001b[0mc\u001b[0m\u001b[0;34m;\u001b[0m\u001b[0mc\u001b[0m\u001b[0;34m=\u001b[0m\u001b[0ma\u001b[0m\u001b[0;34m+\u001b[0m\u001b[0;34m(\u001b[0m\u001b[0mInteger\u001b[0m\u001b[0;34m(\u001b[0m\u001b[0;36m1\u001b[0m\u001b[0;34m)\u001b[0m\u001b[0;34m-\u001b[0m\u001b[0mr\u001b[0m\u001b[0;34m)\u001b[0m\u001b[0;34m*\u001b[0m\u001b[0;34m(\u001b[0m\u001b[0mb\u001b[0m\u001b[0;34m-\u001b[0m\u001b[0ma\u001b[0m\u001b[0;34m)\u001b[0m\u001b[0;34m;\u001b[0m\u001b[0ml\u001b[0m\u001b[0;34m=\u001b[0m\u001b[0mb\u001b[0m\u001b[0;34m-\u001b[0m\u001b[0ma\u001b[0m\u001b[0;34m;\u001b[0m\u001b[0;34m\u001b[0m\u001b[0;34m\u001b[0m\u001b[0m\n\u001b[1;32m      5\u001b[0m         \u001b[0mprint\u001b[0m\u001b[0;34m(\u001b[0m\u001b[0;34m'iter:'\u001b[0m\u001b[0;34m,\u001b[0m \u001b[0mk\u001b[0m\u001b[0;34m,\u001b[0m \u001b[0;34m'; a='\u001b[0m\u001b[0;34m,\u001b[0m\u001b[0ma\u001b[0m\u001b[0;34m.\u001b[0m\u001b[0mn\u001b[0m\u001b[0;34m(\u001b[0m\u001b[0;34m)\u001b[0m\u001b[0;34m,\u001b[0m \u001b[0;34m'; b='\u001b[0m\u001b[0;34m,\u001b[0m\u001b[0mb\u001b[0m\u001b[0;34m.\u001b[0m\u001b[0mn\u001b[0m\u001b[0;34m(\u001b[0m\u001b[0;34m)\u001b[0m\u001b[0;34m)\u001b[0m\u001b[0;34m\u001b[0m\u001b[0;34m\u001b[0m\u001b[0m\n",
      "\u001b[0;32m/opt/sagemath-9.1/local/lib/python3.7/site-packages/sage/symbolic/expression.pyx\u001b[0m in \u001b[0;36msage.symbolic.expression.Expression.__nonzero__ (build/cythonized/sage/symbolic/expression.cpp:19539)\u001b[0;34m()\u001b[0m\n\u001b[1;32m   2975\u001b[0m             \u001b[0;31m# lot of basic Sage objects can't be put into maxima.\u001b[0m\u001b[0;34m\u001b[0m\u001b[0;34m\u001b[0m\u001b[0;34m\u001b[0m\u001b[0m\n\u001b[1;32m   2976\u001b[0m             \u001b[0;32mfrom\u001b[0m \u001b[0msage\u001b[0m\u001b[0;34m.\u001b[0m\u001b[0msymbolic\u001b[0m\u001b[0;34m.\u001b[0m\u001b[0mrelation\u001b[0m \u001b[0;32mimport\u001b[0m \u001b[0mtest_relation_maxima\u001b[0m\u001b[0;34m\u001b[0m\u001b[0;34m\u001b[0m\u001b[0m\n\u001b[0;32m-> 2977\u001b[0;31m             \u001b[0;32mreturn\u001b[0m \u001b[0mtest_relation_maxima\u001b[0m\u001b[0;34m(\u001b[0m\u001b[0mself\u001b[0m\u001b[0;34m)\u001b[0m\u001b[0;34m\u001b[0m\u001b[0;34m\u001b[0m\u001b[0m\n\u001b[0m\u001b[1;32m   2978\u001b[0m \u001b[0;34m\u001b[0m\u001b[0m\n\u001b[1;32m   2979\u001b[0m         \u001b[0mself_is_zero\u001b[0m \u001b[0;34m=\u001b[0m \u001b[0mself\u001b[0m\u001b[0;34m.\u001b[0m\u001b[0m_gobj\u001b[0m\u001b[0;34m.\u001b[0m\u001b[0mis_zero\u001b[0m\u001b[0;34m(\u001b[0m\u001b[0;34m)\u001b[0m\u001b[0;34m\u001b[0m\u001b[0;34m\u001b[0m\u001b[0m\n",
      "\u001b[0;32m/opt/sagemath-9.1/local/lib/python3.7/site-packages/sage/symbolic/relation.py\u001b[0m in \u001b[0;36mtest_relation_maxima\u001b[0;34m(relation)\u001b[0m\n\u001b[1;32m    490\u001b[0m         \u001b[0;34m[\u001b[0m\u001b[0mk\u001b[0m \u001b[0;32mis\u001b[0m \u001b[0mnoninteger\u001b[0m\u001b[0;34m]\u001b[0m\u001b[0;34m\u001b[0m\u001b[0;34m\u001b[0m\u001b[0m\n\u001b[1;32m    491\u001b[0m     \"\"\"\n\u001b[0;32m--> 492\u001b[0;31m     \u001b[0mm\u001b[0m \u001b[0;34m=\u001b[0m \u001b[0mrelation\u001b[0m\u001b[0;34m.\u001b[0m\u001b[0m_maxima_\u001b[0m\u001b[0;34m(\u001b[0m\u001b[0;34m)\u001b[0m\u001b[0;34m\u001b[0m\u001b[0;34m\u001b[0m\u001b[0m\n\u001b[0m\u001b[1;32m    493\u001b[0m \u001b[0;34m\u001b[0m\u001b[0m\n\u001b[1;32m    494\u001b[0m     \u001b[0;31m#Handle some basic cases first\u001b[0m\u001b[0;34m\u001b[0m\u001b[0;34m\u001b[0m\u001b[0;34m\u001b[0m\u001b[0m\n",
      "\u001b[0;32m/opt/sagemath-9.1/local/lib/python3.7/site-packages/sage/symbolic/expression.pyx\u001b[0m in \u001b[0;36msage.symbolic.expression.Expression._maxima_ (build/cythonized/sage/symbolic/expression.cpp:7809)\u001b[0;34m()\u001b[0m\n\u001b[1;32m    853\u001b[0m             \u001b[0;31m# Maybe not such a great idea because the \"default\" interface is another one\u001b[0m\u001b[0;34m\u001b[0m\u001b[0;34m\u001b[0m\u001b[0;34m\u001b[0m\u001b[0m\n\u001b[1;32m    854\u001b[0m             \u001b[0;32mfrom\u001b[0m \u001b[0msage\u001b[0m\u001b[0;34m.\u001b[0m\u001b[0mcalculus\u001b[0m\u001b[0;34m.\u001b[0m\u001b[0mcalculus\u001b[0m \u001b[0;32mimport\u001b[0m \u001b[0mmaxima\u001b[0m\u001b[0;34m\u001b[0m\u001b[0;34m\u001b[0m\u001b[0m\n\u001b[0;32m--> 855\u001b[0;31m             \u001b[0;32mreturn\u001b[0m \u001b[0msuper\u001b[0m\u001b[0;34m(\u001b[0m\u001b[0mExpression\u001b[0m\u001b[0;34m,\u001b[0m \u001b[0mself\u001b[0m\u001b[0;34m)\u001b[0m\u001b[0;34m.\u001b[0m\u001b[0m_interface_\u001b[0m\u001b[0;34m(\u001b[0m\u001b[0mmaxima\u001b[0m\u001b[0;34m)\u001b[0m\u001b[0;34m\u001b[0m\u001b[0;34m\u001b[0m\u001b[0m\n\u001b[0m\u001b[1;32m    856\u001b[0m         \u001b[0;32melse\u001b[0m\u001b[0;34m:\u001b[0m\u001b[0;34m\u001b[0m\u001b[0;34m\u001b[0m\u001b[0m\n\u001b[1;32m    857\u001b[0m             \u001b[0;32mreturn\u001b[0m \u001b[0msuper\u001b[0m\u001b[0;34m(\u001b[0m\u001b[0mExpression\u001b[0m\u001b[0;34m,\u001b[0m \u001b[0mself\u001b[0m\u001b[0;34m)\u001b[0m\u001b[0;34m.\u001b[0m\u001b[0m_interface_\u001b[0m\u001b[0;34m(\u001b[0m\u001b[0msession\u001b[0m\u001b[0;34m)\u001b[0m\u001b[0;34m\u001b[0m\u001b[0;34m\u001b[0m\u001b[0m\n",
      "\u001b[0;32m/opt/sagemath-9.1/local/lib/python3.7/site-packages/sage/structure/sage_object.pyx\u001b[0m in \u001b[0;36msage.structure.sage_object.SageObject._interface_ (build/cythonized/sage/structure/sage_object.c:5439)\u001b[0;34m()\u001b[0m\n\u001b[1;32m    676\u001b[0m                 \u001b[0ms\u001b[0m \u001b[0;34m=\u001b[0m \u001b[0minit_func\u001b[0m\u001b[0;34m(\u001b[0m\u001b[0mI\u001b[0m\u001b[0;34m)\u001b[0m\u001b[0;34m\u001b[0m\u001b[0;34m\u001b[0m\u001b[0m\n\u001b[1;32m    677\u001b[0m             \u001b[0;32melse\u001b[0m\u001b[0;34m:\u001b[0m\u001b[0;34m\u001b[0m\u001b[0;34m\u001b[0m\u001b[0m\n\u001b[0;32m--> 678\u001b[0;31m                 \u001b[0ms\u001b[0m \u001b[0;34m=\u001b[0m \u001b[0minit_func\u001b[0m\u001b[0;34m(\u001b[0m\u001b[0;34m)\u001b[0m\u001b[0;34m\u001b[0m\u001b[0;34m\u001b[0m\u001b[0m\n\u001b[0m\u001b[1;32m    679\u001b[0m         \u001b[0;32melse\u001b[0m\u001b[0;34m:\u001b[0m\u001b[0;34m\u001b[0m\u001b[0;34m\u001b[0m\u001b[0m\n\u001b[1;32m    680\u001b[0m             \u001b[0;32mtry\u001b[0m\u001b[0;34m:\u001b[0m\u001b[0;34m\u001b[0m\u001b[0;34m\u001b[0m\u001b[0m\n",
      "\u001b[0;32m/opt/sagemath-9.1/local/lib/python3.7/site-packages/sage/structure/sage_object.pyx\u001b[0m in \u001b[0;36msage.structure.sage_object.SageObject._maxima_lib_init_ (build/cythonized/sage/structure/sage_object.c:8328)\u001b[0;34m()\u001b[0m\n\u001b[1;32m    793\u001b[0m \u001b[0;34m\u001b[0m\u001b[0m\n\u001b[1;32m    794\u001b[0m     \u001b[0;32mdef\u001b[0m \u001b[0m_maxima_lib_init_\u001b[0m\u001b[0;34m(\u001b[0m\u001b[0mself\u001b[0m\u001b[0;34m)\u001b[0m\u001b[0;34m:\u001b[0m\u001b[0;34m\u001b[0m\u001b[0;34m\u001b[0m\u001b[0m\n\u001b[0;32m--> 795\u001b[0;31m         \u001b[0;32mreturn\u001b[0m \u001b[0mself\u001b[0m\u001b[0;34m.\u001b[0m\u001b[0m_maxima_init_\u001b[0m\u001b[0;34m(\u001b[0m\u001b[0;34m)\u001b[0m\u001b[0;34m\u001b[0m\u001b[0;34m\u001b[0m\u001b[0m\n\u001b[0m\u001b[1;32m    796\u001b[0m \u001b[0;34m\u001b[0m\u001b[0m\n\u001b[1;32m    797\u001b[0m     \u001b[0;32mdef\u001b[0m \u001b[0m_magma_init_\u001b[0m\u001b[0;34m(\u001b[0m\u001b[0mself\u001b[0m\u001b[0;34m,\u001b[0m \u001b[0mmagma\u001b[0m\u001b[0;34m)\u001b[0m\u001b[0;34m:\u001b[0m\u001b[0;34m\u001b[0m\u001b[0;34m\u001b[0m\u001b[0m\n",
      "\u001b[0;32m/opt/sagemath-9.1/local/lib/python3.7/site-packages/sage/structure/sage_object.pyx\u001b[0m in \u001b[0;36msage.structure.sage_object.SageObject._maxima_init_ (build/cythonized/sage/structure/sage_object.c:8099)\u001b[0;34m()\u001b[0m\n\u001b[1;32m    786\u001b[0m         \u001b[0;32mimport\u001b[0m \u001b[0msage\u001b[0m\u001b[0;34m.\u001b[0m\u001b[0minterfaces\u001b[0m\u001b[0;34m.\u001b[0m\u001b[0mmaxima\u001b[0m\u001b[0;34m\u001b[0m\u001b[0;34m\u001b[0m\u001b[0m\n\u001b[1;32m    787\u001b[0m         \u001b[0mI\u001b[0m \u001b[0;34m=\u001b[0m \u001b[0msage\u001b[0m\u001b[0;34m.\u001b[0m\u001b[0minterfaces\u001b[0m\u001b[0;34m.\u001b[0m\u001b[0mmaxima\u001b[0m\u001b[0;34m.\u001b[0m\u001b[0mmaxima\u001b[0m\u001b[0;34m\u001b[0m\u001b[0;34m\u001b[0m\u001b[0m\n\u001b[0;32m--> 788\u001b[0;31m         \u001b[0;32mreturn\u001b[0m \u001b[0mself\u001b[0m\u001b[0;34m.\u001b[0m\u001b[0m_interface_init_\u001b[0m\u001b[0;34m(\u001b[0m\u001b[0mI\u001b[0m\u001b[0;34m)\u001b[0m\u001b[0;34m\u001b[0m\u001b[0;34m\u001b[0m\u001b[0m\n\u001b[0m\u001b[1;32m    789\u001b[0m \u001b[0;34m\u001b[0m\u001b[0m\n\u001b[1;32m    790\u001b[0m     \u001b[0;32mdef\u001b[0m \u001b[0m_maxima_lib_\u001b[0m\u001b[0;34m(\u001b[0m\u001b[0mself\u001b[0m\u001b[0;34m,\u001b[0m \u001b[0mG\u001b[0m\u001b[0;34m=\u001b[0m\u001b[0;32mNone\u001b[0m\u001b[0;34m)\u001b[0m\u001b[0;34m:\u001b[0m\u001b[0;34m\u001b[0m\u001b[0;34m\u001b[0m\u001b[0m\n",
      "\u001b[0;32m/opt/sagemath-9.1/local/lib/python3.7/site-packages/sage/symbolic/expression.pyx\u001b[0m in \u001b[0;36msage.symbolic.expression.Expression._interface_init_ (build/cythonized/sage/symbolic/expression.cpp:7980)\u001b[0;34m()\u001b[0m\n\u001b[1;32m    890\u001b[0m         \"\"\"\n\u001b[1;32m    891\u001b[0m         \u001b[0;32mfrom\u001b[0m \u001b[0msage\u001b[0m\u001b[0;34m.\u001b[0m\u001b[0msymbolic\u001b[0m\u001b[0;34m.\u001b[0m\u001b[0mexpression_conversions\u001b[0m \u001b[0;32mimport\u001b[0m \u001b[0mInterfaceInit\u001b[0m\u001b[0;34m\u001b[0m\u001b[0;34m\u001b[0m\u001b[0m\n\u001b[0;32m--> 892\u001b[0;31m         \u001b[0;32mreturn\u001b[0m \u001b[0mInterfaceInit\u001b[0m\u001b[0;34m(\u001b[0m\u001b[0mI\u001b[0m\u001b[0;34m)\u001b[0m\u001b[0;34m(\u001b[0m\u001b[0mself\u001b[0m\u001b[0;34m)\u001b[0m\u001b[0;34m\u001b[0m\u001b[0;34m\u001b[0m\u001b[0m\n\u001b[0m\u001b[1;32m    893\u001b[0m \u001b[0;34m\u001b[0m\u001b[0m\n\u001b[1;32m    894\u001b[0m     \u001b[0;32mdef\u001b[0m \u001b[0m_gap_init_\u001b[0m\u001b[0;34m(\u001b[0m\u001b[0mself\u001b[0m\u001b[0;34m)\u001b[0m\u001b[0;34m:\u001b[0m\u001b[0;34m\u001b[0m\u001b[0;34m\u001b[0m\u001b[0m\n",
      "\u001b[0;32m/opt/sagemath-9.1/local/lib/python3.7/site-packages/sage/symbolic/expression_conversions.py\u001b[0m in \u001b[0;36m__call__\u001b[0;34m(self, ex)\u001b[0m\n\u001b[1;32m    218\u001b[0m             \u001b[0;32mreturn\u001b[0m \u001b[0mself\u001b[0m\u001b[0;34m.\u001b[0m\u001b[0marithmetic\u001b[0m\u001b[0;34m(\u001b[0m\u001b[0mex\u001b[0m\u001b[0;34m,\u001b[0m \u001b[0moperator\u001b[0m\u001b[0;34m)\u001b[0m\u001b[0;34m\u001b[0m\u001b[0;34m\u001b[0m\u001b[0m\n\u001b[1;32m    219\u001b[0m         \u001b[0;32melif\u001b[0m \u001b[0moperator\u001b[0m \u001b[0;32min\u001b[0m \u001b[0mrelation_operators\u001b[0m\u001b[0;34m:\u001b[0m\u001b[0;34m\u001b[0m\u001b[0;34m\u001b[0m\u001b[0m\n\u001b[0;32m--> 220\u001b[0;31m             \u001b[0;32mreturn\u001b[0m \u001b[0mself\u001b[0m\u001b[0;34m.\u001b[0m\u001b[0mrelation\u001b[0m\u001b[0;34m(\u001b[0m\u001b[0mex\u001b[0m\u001b[0;34m,\u001b[0m \u001b[0moperator\u001b[0m\u001b[0;34m)\u001b[0m\u001b[0;34m\u001b[0m\u001b[0;34m\u001b[0m\u001b[0m\n\u001b[0m\u001b[1;32m    221\u001b[0m         \u001b[0;32melif\u001b[0m \u001b[0misinstance\u001b[0m\u001b[0;34m(\u001b[0m\u001b[0moperator\u001b[0m\u001b[0;34m,\u001b[0m \u001b[0mFDerivativeOperator\u001b[0m\u001b[0;34m)\u001b[0m\u001b[0;34m:\u001b[0m\u001b[0;34m\u001b[0m\u001b[0;34m\u001b[0m\u001b[0m\n\u001b[1;32m    222\u001b[0m             \u001b[0;32mreturn\u001b[0m \u001b[0mself\u001b[0m\u001b[0;34m.\u001b[0m\u001b[0mderivative\u001b[0m\u001b[0;34m(\u001b[0m\u001b[0mex\u001b[0m\u001b[0;34m,\u001b[0m \u001b[0moperator\u001b[0m\u001b[0;34m)\u001b[0m\u001b[0;34m\u001b[0m\u001b[0;34m\u001b[0m\u001b[0m\n",
      "\u001b[0;32m/opt/sagemath-9.1/local/lib/python3.7/site-packages/sage/symbolic/expression_conversions.py\u001b[0m in \u001b[0;36mrelation\u001b[0;34m(self, ex, operator)\u001b[0m\n\u001b[1;32m    469\u001b[0m             \u001b[0;34m'_SAGE_VAR_x < 3'\u001b[0m\u001b[0;34m\u001b[0m\u001b[0;34m\u001b[0m\u001b[0m\n\u001b[1;32m    470\u001b[0m         \"\"\"\n\u001b[0;32m--> 471\u001b[0;31m         return \"%s %s %s\"%(self(ex.lhs()), self.relation_symbols[operator],\n\u001b[0m\u001b[1;32m    472\u001b[0m                            self(ex.rhs()))\n\u001b[1;32m    473\u001b[0m \u001b[0;34m\u001b[0m\u001b[0m\n",
      "\u001b[0;32m/opt/sagemath-9.1/local/lib/python3.7/site-packages/sage/symbolic/expression_conversions.py\u001b[0m in \u001b[0;36m__call__\u001b[0;34m(self, ex)\u001b[0m\n\u001b[1;32m    216\u001b[0m                 \u001b[0mdiv\u001b[0m \u001b[0;34m=\u001b[0m \u001b[0mself\u001b[0m\u001b[0;34m.\u001b[0m\u001b[0mget_fake_div\u001b[0m\u001b[0;34m(\u001b[0m\u001b[0mex\u001b[0m\u001b[0;34m)\u001b[0m\u001b[0;34m\u001b[0m\u001b[0;34m\u001b[0m\u001b[0m\n\u001b[1;32m    217\u001b[0m                 \u001b[0;32mreturn\u001b[0m \u001b[0mself\u001b[0m\u001b[0;34m.\u001b[0m\u001b[0marithmetic\u001b[0m\u001b[0;34m(\u001b[0m\u001b[0mdiv\u001b[0m\u001b[0;34m,\u001b[0m \u001b[0mdiv\u001b[0m\u001b[0;34m.\u001b[0m\u001b[0moperator\u001b[0m\u001b[0;34m(\u001b[0m\u001b[0;34m)\u001b[0m\u001b[0;34m)\u001b[0m\u001b[0;34m\u001b[0m\u001b[0;34m\u001b[0m\u001b[0m\n\u001b[0;32m--> 218\u001b[0;31m             \u001b[0;32mreturn\u001b[0m \u001b[0mself\u001b[0m\u001b[0;34m.\u001b[0m\u001b[0marithmetic\u001b[0m\u001b[0;34m(\u001b[0m\u001b[0mex\u001b[0m\u001b[0;34m,\u001b[0m \u001b[0moperator\u001b[0m\u001b[0;34m)\u001b[0m\u001b[0;34m\u001b[0m\u001b[0;34m\u001b[0m\u001b[0m\n\u001b[0m\u001b[1;32m    219\u001b[0m         \u001b[0;32melif\u001b[0m \u001b[0moperator\u001b[0m \u001b[0;32min\u001b[0m \u001b[0mrelation_operators\u001b[0m\u001b[0;34m:\u001b[0m\u001b[0;34m\u001b[0m\u001b[0;34m\u001b[0m\u001b[0m\n\u001b[1;32m    220\u001b[0m             \u001b[0;32mreturn\u001b[0m \u001b[0mself\u001b[0m\u001b[0;34m.\u001b[0m\u001b[0mrelation\u001b[0m\u001b[0;34m(\u001b[0m\u001b[0mex\u001b[0m\u001b[0;34m,\u001b[0m \u001b[0moperator\u001b[0m\u001b[0;34m)\u001b[0m\u001b[0;34m\u001b[0m\u001b[0;34m\u001b[0m\u001b[0m\n",
      "\u001b[0;32m/opt/sagemath-9.1/local/lib/python3.7/site-packages/sage/symbolic/expression_conversions.py\u001b[0m in \u001b[0;36marithmetic\u001b[0;34m(self, ex, operator)\u001b[0m\n\u001b[1;32m    623\u001b[0m             \u001b[0;34m'(_SAGE_VAR_x)+(2)'\u001b[0m\u001b[0;34m\u001b[0m\u001b[0;34m\u001b[0m\u001b[0m\n\u001b[1;32m    624\u001b[0m         \"\"\"\n\u001b[0;32m--> 625\u001b[0;31m         \u001b[0margs\u001b[0m \u001b[0;34m=\u001b[0m \u001b[0;34m[\u001b[0m\u001b[0;34m\"(%s)\"\u001b[0m\u001b[0;34m%\u001b[0m\u001b[0mself\u001b[0m\u001b[0;34m(\u001b[0m\u001b[0mop\u001b[0m\u001b[0;34m)\u001b[0m \u001b[0;32mfor\u001b[0m \u001b[0mop\u001b[0m \u001b[0;32min\u001b[0m \u001b[0mex\u001b[0m\u001b[0;34m.\u001b[0m\u001b[0moperands\u001b[0m\u001b[0;34m(\u001b[0m\u001b[0;34m)\u001b[0m\u001b[0;34m]\u001b[0m\u001b[0;34m\u001b[0m\u001b[0;34m\u001b[0m\u001b[0m\n\u001b[0m\u001b[1;32m    626\u001b[0m         \u001b[0;32mreturn\u001b[0m \u001b[0marithmetic_operators\u001b[0m\u001b[0;34m[\u001b[0m\u001b[0moperator\u001b[0m\u001b[0;34m]\u001b[0m\u001b[0;34m.\u001b[0m\u001b[0mjoin\u001b[0m\u001b[0;34m(\u001b[0m\u001b[0margs\u001b[0m\u001b[0;34m)\u001b[0m\u001b[0;34m\u001b[0m\u001b[0;34m\u001b[0m\u001b[0m\n\u001b[1;32m    627\u001b[0m \u001b[0;34m\u001b[0m\u001b[0m\n",
      "\u001b[0;32m/opt/sagemath-9.1/local/lib/python3.7/site-packages/sage/symbolic/expression_conversions.py\u001b[0m in \u001b[0;36m<listcomp>\u001b[0;34m(.0)\u001b[0m\n\u001b[1;32m    623\u001b[0m             \u001b[0;34m'(_SAGE_VAR_x)+(2)'\u001b[0m\u001b[0;34m\u001b[0m\u001b[0;34m\u001b[0m\u001b[0m\n\u001b[1;32m    624\u001b[0m         \"\"\"\n\u001b[0;32m--> 625\u001b[0;31m         \u001b[0margs\u001b[0m \u001b[0;34m=\u001b[0m \u001b[0;34m[\u001b[0m\u001b[0;34m\"(%s)\"\u001b[0m\u001b[0;34m%\u001b[0m\u001b[0mself\u001b[0m\u001b[0;34m(\u001b[0m\u001b[0mop\u001b[0m\u001b[0;34m)\u001b[0m \u001b[0;32mfor\u001b[0m \u001b[0mop\u001b[0m \u001b[0;32min\u001b[0m \u001b[0mex\u001b[0m\u001b[0;34m.\u001b[0m\u001b[0moperands\u001b[0m\u001b[0;34m(\u001b[0m\u001b[0;34m)\u001b[0m\u001b[0;34m]\u001b[0m\u001b[0;34m\u001b[0m\u001b[0;34m\u001b[0m\u001b[0m\n\u001b[0m\u001b[1;32m    626\u001b[0m         \u001b[0;32mreturn\u001b[0m \u001b[0marithmetic_operators\u001b[0m\u001b[0;34m[\u001b[0m\u001b[0moperator\u001b[0m\u001b[0;34m]\u001b[0m\u001b[0;34m.\u001b[0m\u001b[0mjoin\u001b[0m\u001b[0;34m(\u001b[0m\u001b[0margs\u001b[0m\u001b[0;34m)\u001b[0m\u001b[0;34m\u001b[0m\u001b[0;34m\u001b[0m\u001b[0m\n\u001b[1;32m    627\u001b[0m \u001b[0;34m\u001b[0m\u001b[0m\n",
      "\u001b[0;32m/opt/sagemath-9.1/local/lib/python3.7/site-packages/sage/symbolic/expression_conversions.py\u001b[0m in \u001b[0;36m__call__\u001b[0;34m(self, ex)\u001b[0m\n\u001b[1;32m    224\u001b[0m             \u001b[0;32mreturn\u001b[0m \u001b[0mself\u001b[0m\u001b[0;34m.\u001b[0m\u001b[0mtuple\u001b[0m\u001b[0;34m(\u001b[0m\u001b[0mex\u001b[0m\u001b[0;34m)\u001b[0m\u001b[0;34m\u001b[0m\u001b[0;34m\u001b[0m\u001b[0m\n\u001b[1;32m    225\u001b[0m         \u001b[0;32melse\u001b[0m\u001b[0;34m:\u001b[0m\u001b[0;34m\u001b[0m\u001b[0;34m\u001b[0m\u001b[0m\n\u001b[0;32m--> 226\u001b[0;31m             \u001b[0;32mreturn\u001b[0m \u001b[0mself\u001b[0m\u001b[0;34m.\u001b[0m\u001b[0mcomposition\u001b[0m\u001b[0;34m(\u001b[0m\u001b[0mex\u001b[0m\u001b[0;34m,\u001b[0m \u001b[0moperator\u001b[0m\u001b[0;34m)\u001b[0m\u001b[0;34m\u001b[0m\u001b[0;34m\u001b[0m\u001b[0m\n\u001b[0m\u001b[1;32m    227\u001b[0m \u001b[0;34m\u001b[0m\u001b[0m\n\u001b[1;32m    228\u001b[0m     \u001b[0;32mdef\u001b[0m \u001b[0mget_fake_div\u001b[0m\u001b[0;34m(\u001b[0m\u001b[0mself\u001b[0m\u001b[0;34m,\u001b[0m \u001b[0mex\u001b[0m\u001b[0;34m)\u001b[0m\u001b[0;34m:\u001b[0m\u001b[0;34m\u001b[0m\u001b[0;34m\u001b[0m\u001b[0m\n",
      "\u001b[0;32m/opt/sagemath-9.1/local/lib/python3.7/site-packages/sage/symbolic/expression_conversions.py\u001b[0m in \u001b[0;36mcomposition\u001b[0;34m(self, ex, operator)\u001b[0m\n\u001b[1;32m    646\u001b[0m             \u001b[0;32mreturn\u001b[0m \u001b[0mgetattr\u001b[0m\u001b[0;34m(\u001b[0m\u001b[0moperator\u001b[0m\u001b[0;34m,\u001b[0m \u001b[0mself\u001b[0m\u001b[0;34m.\u001b[0m\u001b[0mname_init\u001b[0m \u001b[0;34m+\u001b[0m \u001b[0;34m\"evaled_\"\u001b[0m\u001b[0;34m)\u001b[0m\u001b[0;34m(\u001b[0m\u001b[0;34m*\u001b[0m\u001b[0mops\u001b[0m\u001b[0;34m)\u001b[0m\u001b[0;34m\u001b[0m\u001b[0;34m\u001b[0m\u001b[0m\n\u001b[1;32m    647\u001b[0m         \u001b[0;32melse\u001b[0m\u001b[0;34m:\u001b[0m\u001b[0;34m\u001b[0m\u001b[0;34m\u001b[0m\u001b[0m\n\u001b[0;32m--> 648\u001b[0;31m             \u001b[0mops\u001b[0m \u001b[0;34m=\u001b[0m \u001b[0;34m[\u001b[0m\u001b[0mself\u001b[0m\u001b[0;34m(\u001b[0m\u001b[0m_\u001b[0m\u001b[0;34m)\u001b[0m \u001b[0;32mfor\u001b[0m \u001b[0m_\u001b[0m \u001b[0;32min\u001b[0m \u001b[0mops\u001b[0m\u001b[0;34m]\u001b[0m\u001b[0;34m\u001b[0m\u001b[0;34m\u001b[0m\u001b[0m\n\u001b[0m\u001b[1;32m    649\u001b[0m         \u001b[0;32mtry\u001b[0m\u001b[0;34m:\u001b[0m\u001b[0;34m\u001b[0m\u001b[0;34m\u001b[0m\u001b[0m\n\u001b[1;32m    650\u001b[0m             \u001b[0mop\u001b[0m \u001b[0;34m=\u001b[0m \u001b[0mgetattr\u001b[0m\u001b[0;34m(\u001b[0m\u001b[0moperator\u001b[0m\u001b[0;34m,\u001b[0m \u001b[0mself\u001b[0m\u001b[0;34m.\u001b[0m\u001b[0mname_init\u001b[0m\u001b[0;34m)\u001b[0m\u001b[0;34m(\u001b[0m\u001b[0;34m)\u001b[0m\u001b[0;34m\u001b[0m\u001b[0;34m\u001b[0m\u001b[0m\n",
      "\u001b[0;32m/opt/sagemath-9.1/local/lib/python3.7/site-packages/sage/symbolic/expression_conversions.py\u001b[0m in \u001b[0;36m<listcomp>\u001b[0;34m(.0)\u001b[0m\n\u001b[1;32m    646\u001b[0m             \u001b[0;32mreturn\u001b[0m \u001b[0mgetattr\u001b[0m\u001b[0;34m(\u001b[0m\u001b[0moperator\u001b[0m\u001b[0;34m,\u001b[0m \u001b[0mself\u001b[0m\u001b[0;34m.\u001b[0m\u001b[0mname_init\u001b[0m \u001b[0;34m+\u001b[0m \u001b[0;34m\"evaled_\"\u001b[0m\u001b[0;34m)\u001b[0m\u001b[0;34m(\u001b[0m\u001b[0;34m*\u001b[0m\u001b[0mops\u001b[0m\u001b[0;34m)\u001b[0m\u001b[0;34m\u001b[0m\u001b[0;34m\u001b[0m\u001b[0m\n\u001b[1;32m    647\u001b[0m         \u001b[0;32melse\u001b[0m\u001b[0;34m:\u001b[0m\u001b[0;34m\u001b[0m\u001b[0;34m\u001b[0m\u001b[0m\n\u001b[0;32m--> 648\u001b[0;31m             \u001b[0mops\u001b[0m \u001b[0;34m=\u001b[0m \u001b[0;34m[\u001b[0m\u001b[0mself\u001b[0m\u001b[0;34m(\u001b[0m\u001b[0m_\u001b[0m\u001b[0;34m)\u001b[0m \u001b[0;32mfor\u001b[0m \u001b[0m_\u001b[0m \u001b[0;32min\u001b[0m \u001b[0mops\u001b[0m\u001b[0;34m]\u001b[0m\u001b[0;34m\u001b[0m\u001b[0;34m\u001b[0m\u001b[0m\n\u001b[0m\u001b[1;32m    649\u001b[0m         \u001b[0;32mtry\u001b[0m\u001b[0;34m:\u001b[0m\u001b[0;34m\u001b[0m\u001b[0;34m\u001b[0m\u001b[0m\n\u001b[1;32m    650\u001b[0m             \u001b[0mop\u001b[0m \u001b[0;34m=\u001b[0m \u001b[0mgetattr\u001b[0m\u001b[0;34m(\u001b[0m\u001b[0moperator\u001b[0m\u001b[0;34m,\u001b[0m \u001b[0mself\u001b[0m\u001b[0;34m.\u001b[0m\u001b[0mname_init\u001b[0m\u001b[0;34m)\u001b[0m\u001b[0;34m(\u001b[0m\u001b[0;34m)\u001b[0m\u001b[0;34m\u001b[0m\u001b[0;34m\u001b[0m\u001b[0m\n",
      "\u001b[0;32m/opt/sagemath-9.1/local/lib/python3.7/site-packages/sage/symbolic/expression_conversions.py\u001b[0m in \u001b[0;36m__call__\u001b[0;34m(self, ex)\u001b[0m\n\u001b[1;32m    216\u001b[0m                 \u001b[0mdiv\u001b[0m \u001b[0;34m=\u001b[0m \u001b[0mself\u001b[0m\u001b[0;34m.\u001b[0m\u001b[0mget_fake_div\u001b[0m\u001b[0;34m(\u001b[0m\u001b[0mex\u001b[0m\u001b[0;34m)\u001b[0m\u001b[0;34m\u001b[0m\u001b[0;34m\u001b[0m\u001b[0m\n\u001b[1;32m    217\u001b[0m                 \u001b[0;32mreturn\u001b[0m \u001b[0mself\u001b[0m\u001b[0;34m.\u001b[0m\u001b[0marithmetic\u001b[0m\u001b[0;34m(\u001b[0m\u001b[0mdiv\u001b[0m\u001b[0;34m,\u001b[0m \u001b[0mdiv\u001b[0m\u001b[0;34m.\u001b[0m\u001b[0moperator\u001b[0m\u001b[0;34m(\u001b[0m\u001b[0;34m)\u001b[0m\u001b[0;34m)\u001b[0m\u001b[0;34m\u001b[0m\u001b[0;34m\u001b[0m\u001b[0m\n\u001b[0;32m--> 218\u001b[0;31m             \u001b[0;32mreturn\u001b[0m \u001b[0mself\u001b[0m\u001b[0;34m.\u001b[0m\u001b[0marithmetic\u001b[0m\u001b[0;34m(\u001b[0m\u001b[0mex\u001b[0m\u001b[0;34m,\u001b[0m \u001b[0moperator\u001b[0m\u001b[0;34m)\u001b[0m\u001b[0;34m\u001b[0m\u001b[0;34m\u001b[0m\u001b[0m\n\u001b[0m\u001b[1;32m    219\u001b[0m         \u001b[0;32melif\u001b[0m \u001b[0moperator\u001b[0m \u001b[0;32min\u001b[0m \u001b[0mrelation_operators\u001b[0m\u001b[0;34m:\u001b[0m\u001b[0;34m\u001b[0m\u001b[0;34m\u001b[0m\u001b[0m\n\u001b[1;32m    220\u001b[0m             \u001b[0;32mreturn\u001b[0m \u001b[0mself\u001b[0m\u001b[0;34m.\u001b[0m\u001b[0mrelation\u001b[0m\u001b[0;34m(\u001b[0m\u001b[0mex\u001b[0m\u001b[0;34m,\u001b[0m \u001b[0moperator\u001b[0m\u001b[0;34m)\u001b[0m\u001b[0;34m\u001b[0m\u001b[0;34m\u001b[0m\u001b[0m\n",
      "\u001b[0;32m/opt/sagemath-9.1/local/lib/python3.7/site-packages/sage/symbolic/expression_conversions.py\u001b[0m in \u001b[0;36marithmetic\u001b[0;34m(self, ex, operator)\u001b[0m\n\u001b[1;32m    623\u001b[0m             \u001b[0;34m'(_SAGE_VAR_x)+(2)'\u001b[0m\u001b[0;34m\u001b[0m\u001b[0;34m\u001b[0m\u001b[0m\n\u001b[1;32m    624\u001b[0m         \"\"\"\n\u001b[0;32m--> 625\u001b[0;31m         \u001b[0margs\u001b[0m \u001b[0;34m=\u001b[0m \u001b[0;34m[\u001b[0m\u001b[0;34m\"(%s)\"\u001b[0m\u001b[0;34m%\u001b[0m\u001b[0mself\u001b[0m\u001b[0;34m(\u001b[0m\u001b[0mop\u001b[0m\u001b[0;34m)\u001b[0m \u001b[0;32mfor\u001b[0m \u001b[0mop\u001b[0m \u001b[0;32min\u001b[0m \u001b[0mex\u001b[0m\u001b[0;34m.\u001b[0m\u001b[0moperands\u001b[0m\u001b[0;34m(\u001b[0m\u001b[0;34m)\u001b[0m\u001b[0;34m]\u001b[0m\u001b[0;34m\u001b[0m\u001b[0;34m\u001b[0m\u001b[0m\n\u001b[0m\u001b[1;32m    626\u001b[0m         \u001b[0;32mreturn\u001b[0m \u001b[0marithmetic_operators\u001b[0m\u001b[0;34m[\u001b[0m\u001b[0moperator\u001b[0m\u001b[0;34m]\u001b[0m\u001b[0;34m.\u001b[0m\u001b[0mjoin\u001b[0m\u001b[0;34m(\u001b[0m\u001b[0margs\u001b[0m\u001b[0;34m)\u001b[0m\u001b[0;34m\u001b[0m\u001b[0;34m\u001b[0m\u001b[0m\n\u001b[1;32m    627\u001b[0m \u001b[0;34m\u001b[0m\u001b[0m\n",
      "\u001b[0;32m/opt/sagemath-9.1/local/lib/python3.7/site-packages/sage/symbolic/expression_conversions.py\u001b[0m in \u001b[0;36m<listcomp>\u001b[0;34m(.0)\u001b[0m\n\u001b[1;32m    623\u001b[0m             \u001b[0;34m'(_SAGE_VAR_x)+(2)'\u001b[0m\u001b[0;34m\u001b[0m\u001b[0;34m\u001b[0m\u001b[0m\n\u001b[1;32m    624\u001b[0m         \"\"\"\n\u001b[0;32m--> 625\u001b[0;31m         \u001b[0margs\u001b[0m \u001b[0;34m=\u001b[0m \u001b[0;34m[\u001b[0m\u001b[0;34m\"(%s)\"\u001b[0m\u001b[0;34m%\u001b[0m\u001b[0mself\u001b[0m\u001b[0;34m(\u001b[0m\u001b[0mop\u001b[0m\u001b[0;34m)\u001b[0m \u001b[0;32mfor\u001b[0m \u001b[0mop\u001b[0m \u001b[0;32min\u001b[0m \u001b[0mex\u001b[0m\u001b[0;34m.\u001b[0m\u001b[0moperands\u001b[0m\u001b[0;34m(\u001b[0m\u001b[0;34m)\u001b[0m\u001b[0;34m]\u001b[0m\u001b[0;34m\u001b[0m\u001b[0;34m\u001b[0m\u001b[0m\n\u001b[0m\u001b[1;32m    626\u001b[0m         \u001b[0;32mreturn\u001b[0m \u001b[0marithmetic_operators\u001b[0m\u001b[0;34m[\u001b[0m\u001b[0moperator\u001b[0m\u001b[0;34m]\u001b[0m\u001b[0;34m.\u001b[0m\u001b[0mjoin\u001b[0m\u001b[0;34m(\u001b[0m\u001b[0margs\u001b[0m\u001b[0;34m)\u001b[0m\u001b[0;34m\u001b[0m\u001b[0;34m\u001b[0m\u001b[0m\n\u001b[1;32m    627\u001b[0m \u001b[0;34m\u001b[0m\u001b[0m\n",
      "\u001b[0;32m/opt/sagemath-9.1/local/lib/python3.7/site-packages/sage/symbolic/expression_conversions.py\u001b[0m in \u001b[0;36m__call__\u001b[0;34m(self, ex)\u001b[0m\n\u001b[1;32m    216\u001b[0m                 \u001b[0mdiv\u001b[0m \u001b[0;34m=\u001b[0m \u001b[0mself\u001b[0m\u001b[0;34m.\u001b[0m\u001b[0mget_fake_div\u001b[0m\u001b[0;34m(\u001b[0m\u001b[0mex\u001b[0m\u001b[0;34m)\u001b[0m\u001b[0;34m\u001b[0m\u001b[0;34m\u001b[0m\u001b[0m\n\u001b[1;32m    217\u001b[0m                 \u001b[0;32mreturn\u001b[0m \u001b[0mself\u001b[0m\u001b[0;34m.\u001b[0m\u001b[0marithmetic\u001b[0m\u001b[0;34m(\u001b[0m\u001b[0mdiv\u001b[0m\u001b[0;34m,\u001b[0m \u001b[0mdiv\u001b[0m\u001b[0;34m.\u001b[0m\u001b[0moperator\u001b[0m\u001b[0;34m(\u001b[0m\u001b[0;34m)\u001b[0m\u001b[0;34m)\u001b[0m\u001b[0;34m\u001b[0m\u001b[0;34m\u001b[0m\u001b[0m\n\u001b[0;32m--> 218\u001b[0;31m             \u001b[0;32mreturn\u001b[0m \u001b[0mself\u001b[0m\u001b[0;34m.\u001b[0m\u001b[0marithmetic\u001b[0m\u001b[0;34m(\u001b[0m\u001b[0mex\u001b[0m\u001b[0;34m,\u001b[0m \u001b[0moperator\u001b[0m\u001b[0;34m)\u001b[0m\u001b[0;34m\u001b[0m\u001b[0;34m\u001b[0m\u001b[0m\n\u001b[0m\u001b[1;32m    219\u001b[0m         \u001b[0;32melif\u001b[0m \u001b[0moperator\u001b[0m \u001b[0;32min\u001b[0m \u001b[0mrelation_operators\u001b[0m\u001b[0;34m:\u001b[0m\u001b[0;34m\u001b[0m\u001b[0;34m\u001b[0m\u001b[0m\n\u001b[1;32m    220\u001b[0m             \u001b[0;32mreturn\u001b[0m \u001b[0mself\u001b[0m\u001b[0;34m.\u001b[0m\u001b[0mrelation\u001b[0m\u001b[0;34m(\u001b[0m\u001b[0mex\u001b[0m\u001b[0;34m,\u001b[0m \u001b[0moperator\u001b[0m\u001b[0;34m)\u001b[0m\u001b[0;34m\u001b[0m\u001b[0;34m\u001b[0m\u001b[0m\n",
      "\u001b[0;32m/opt/sagemath-9.1/local/lib/python3.7/site-packages/sage/symbolic/expression_conversions.py\u001b[0m in \u001b[0;36marithmetic\u001b[0;34m(self, ex, operator)\u001b[0m\n\u001b[1;32m    623\u001b[0m             \u001b[0;34m'(_SAGE_VAR_x)+(2)'\u001b[0m\u001b[0;34m\u001b[0m\u001b[0;34m\u001b[0m\u001b[0m\n\u001b[1;32m    624\u001b[0m         \"\"\"\n\u001b[0;32m--> 625\u001b[0;31m         \u001b[0margs\u001b[0m \u001b[0;34m=\u001b[0m \u001b[0;34m[\u001b[0m\u001b[0;34m\"(%s)\"\u001b[0m\u001b[0;34m%\u001b[0m\u001b[0mself\u001b[0m\u001b[0;34m(\u001b[0m\u001b[0mop\u001b[0m\u001b[0;34m)\u001b[0m \u001b[0;32mfor\u001b[0m \u001b[0mop\u001b[0m \u001b[0;32min\u001b[0m \u001b[0mex\u001b[0m\u001b[0;34m.\u001b[0m\u001b[0moperands\u001b[0m\u001b[0;34m(\u001b[0m\u001b[0;34m)\u001b[0m\u001b[0;34m]\u001b[0m\u001b[0;34m\u001b[0m\u001b[0;34m\u001b[0m\u001b[0m\n\u001b[0m\u001b[1;32m    626\u001b[0m         \u001b[0;32mreturn\u001b[0m \u001b[0marithmetic_operators\u001b[0m\u001b[0;34m[\u001b[0m\u001b[0moperator\u001b[0m\u001b[0;34m]\u001b[0m\u001b[0;34m.\u001b[0m\u001b[0mjoin\u001b[0m\u001b[0;34m(\u001b[0m\u001b[0margs\u001b[0m\u001b[0;34m)\u001b[0m\u001b[0;34m\u001b[0m\u001b[0;34m\u001b[0m\u001b[0m\n\u001b[1;32m    627\u001b[0m \u001b[0;34m\u001b[0m\u001b[0m\n",
      "\u001b[0;32m/opt/sagemath-9.1/local/lib/python3.7/site-packages/sage/symbolic/expression_conversions.py\u001b[0m in \u001b[0;36m<listcomp>\u001b[0;34m(.0)\u001b[0m\n\u001b[1;32m    623\u001b[0m             \u001b[0;34m'(_SAGE_VAR_x)+(2)'\u001b[0m\u001b[0;34m\u001b[0m\u001b[0;34m\u001b[0m\u001b[0m\n\u001b[1;32m    624\u001b[0m         \"\"\"\n\u001b[0;32m--> 625\u001b[0;31m         \u001b[0margs\u001b[0m \u001b[0;34m=\u001b[0m \u001b[0;34m[\u001b[0m\u001b[0;34m\"(%s)\"\u001b[0m\u001b[0;34m%\u001b[0m\u001b[0mself\u001b[0m\u001b[0;34m(\u001b[0m\u001b[0mop\u001b[0m\u001b[0;34m)\u001b[0m \u001b[0;32mfor\u001b[0m \u001b[0mop\u001b[0m \u001b[0;32min\u001b[0m \u001b[0mex\u001b[0m\u001b[0;34m.\u001b[0m\u001b[0moperands\u001b[0m\u001b[0;34m(\u001b[0m\u001b[0;34m)\u001b[0m\u001b[0;34m]\u001b[0m\u001b[0;34m\u001b[0m\u001b[0;34m\u001b[0m\u001b[0m\n\u001b[0m\u001b[1;32m    626\u001b[0m         \u001b[0;32mreturn\u001b[0m \u001b[0marithmetic_operators\u001b[0m\u001b[0;34m[\u001b[0m\u001b[0moperator\u001b[0m\u001b[0;34m]\u001b[0m\u001b[0;34m.\u001b[0m\u001b[0mjoin\u001b[0m\u001b[0;34m(\u001b[0m\u001b[0margs\u001b[0m\u001b[0;34m)\u001b[0m\u001b[0;34m\u001b[0m\u001b[0;34m\u001b[0m\u001b[0m\n\u001b[1;32m    627\u001b[0m \u001b[0;34m\u001b[0m\u001b[0m\n",
      "\u001b[0;32m/opt/sagemath-9.1/local/lib/python3.7/site-packages/sage/symbolic/expression_conversions.py\u001b[0m in \u001b[0;36m__call__\u001b[0;34m(self, ex)\u001b[0m\n\u001b[1;32m    216\u001b[0m                 \u001b[0mdiv\u001b[0m \u001b[0;34m=\u001b[0m \u001b[0mself\u001b[0m\u001b[0;34m.\u001b[0m\u001b[0mget_fake_div\u001b[0m\u001b[0;34m(\u001b[0m\u001b[0mex\u001b[0m\u001b[0;34m)\u001b[0m\u001b[0;34m\u001b[0m\u001b[0;34m\u001b[0m\u001b[0m\n\u001b[1;32m    217\u001b[0m                 \u001b[0;32mreturn\u001b[0m \u001b[0mself\u001b[0m\u001b[0;34m.\u001b[0m\u001b[0marithmetic\u001b[0m\u001b[0;34m(\u001b[0m\u001b[0mdiv\u001b[0m\u001b[0;34m,\u001b[0m \u001b[0mdiv\u001b[0m\u001b[0;34m.\u001b[0m\u001b[0moperator\u001b[0m\u001b[0;34m(\u001b[0m\u001b[0;34m)\u001b[0m\u001b[0;34m)\u001b[0m\u001b[0;34m\u001b[0m\u001b[0;34m\u001b[0m\u001b[0m\n\u001b[0;32m--> 218\u001b[0;31m             \u001b[0;32mreturn\u001b[0m \u001b[0mself\u001b[0m\u001b[0;34m.\u001b[0m\u001b[0marithmetic\u001b[0m\u001b[0;34m(\u001b[0m\u001b[0mex\u001b[0m\u001b[0;34m,\u001b[0m \u001b[0moperator\u001b[0m\u001b[0;34m)\u001b[0m\u001b[0;34m\u001b[0m\u001b[0;34m\u001b[0m\u001b[0m\n\u001b[0m\u001b[1;32m    219\u001b[0m         \u001b[0;32melif\u001b[0m \u001b[0moperator\u001b[0m \u001b[0;32min\u001b[0m \u001b[0mrelation_operators\u001b[0m\u001b[0;34m:\u001b[0m\u001b[0;34m\u001b[0m\u001b[0;34m\u001b[0m\u001b[0m\n\u001b[1;32m    220\u001b[0m             \u001b[0;32mreturn\u001b[0m \u001b[0mself\u001b[0m\u001b[0;34m.\u001b[0m\u001b[0mrelation\u001b[0m\u001b[0;34m(\u001b[0m\u001b[0mex\u001b[0m\u001b[0;34m,\u001b[0m \u001b[0moperator\u001b[0m\u001b[0;34m)\u001b[0m\u001b[0;34m\u001b[0m\u001b[0;34m\u001b[0m\u001b[0m\n",
      "\u001b[0;32m/opt/sagemath-9.1/local/lib/python3.7/site-packages/sage/symbolic/expression_conversions.py\u001b[0m in \u001b[0;36marithmetic\u001b[0;34m(self, ex, operator)\u001b[0m\n\u001b[1;32m    623\u001b[0m             \u001b[0;34m'(_SAGE_VAR_x)+(2)'\u001b[0m\u001b[0;34m\u001b[0m\u001b[0;34m\u001b[0m\u001b[0m\n\u001b[1;32m    624\u001b[0m         \"\"\"\n\u001b[0;32m--> 625\u001b[0;31m         \u001b[0margs\u001b[0m \u001b[0;34m=\u001b[0m \u001b[0;34m[\u001b[0m\u001b[0;34m\"(%s)\"\u001b[0m\u001b[0;34m%\u001b[0m\u001b[0mself\u001b[0m\u001b[0;34m(\u001b[0m\u001b[0mop\u001b[0m\u001b[0;34m)\u001b[0m \u001b[0;32mfor\u001b[0m \u001b[0mop\u001b[0m \u001b[0;32min\u001b[0m \u001b[0mex\u001b[0m\u001b[0;34m.\u001b[0m\u001b[0moperands\u001b[0m\u001b[0;34m(\u001b[0m\u001b[0;34m)\u001b[0m\u001b[0;34m]\u001b[0m\u001b[0;34m\u001b[0m\u001b[0;34m\u001b[0m\u001b[0m\n\u001b[0m\u001b[1;32m    626\u001b[0m         \u001b[0;32mreturn\u001b[0m \u001b[0marithmetic_operators\u001b[0m\u001b[0;34m[\u001b[0m\u001b[0moperator\u001b[0m\u001b[0;34m]\u001b[0m\u001b[0;34m.\u001b[0m\u001b[0mjoin\u001b[0m\u001b[0;34m(\u001b[0m\u001b[0margs\u001b[0m\u001b[0;34m)\u001b[0m\u001b[0;34m\u001b[0m\u001b[0;34m\u001b[0m\u001b[0m\n\u001b[1;32m    627\u001b[0m \u001b[0;34m\u001b[0m\u001b[0m\n",
      "\u001b[0;32m/opt/sagemath-9.1/local/lib/python3.7/site-packages/sage/symbolic/expression_conversions.py\u001b[0m in \u001b[0;36m<listcomp>\u001b[0;34m(.0)\u001b[0m\n\u001b[1;32m    623\u001b[0m             \u001b[0;34m'(_SAGE_VAR_x)+(2)'\u001b[0m\u001b[0;34m\u001b[0m\u001b[0;34m\u001b[0m\u001b[0m\n\u001b[1;32m    624\u001b[0m         \"\"\"\n\u001b[0;32m--> 625\u001b[0;31m         \u001b[0margs\u001b[0m \u001b[0;34m=\u001b[0m \u001b[0;34m[\u001b[0m\u001b[0;34m\"(%s)\"\u001b[0m\u001b[0;34m%\u001b[0m\u001b[0mself\u001b[0m\u001b[0;34m(\u001b[0m\u001b[0mop\u001b[0m\u001b[0;34m)\u001b[0m \u001b[0;32mfor\u001b[0m \u001b[0mop\u001b[0m \u001b[0;32min\u001b[0m \u001b[0mex\u001b[0m\u001b[0;34m.\u001b[0m\u001b[0moperands\u001b[0m\u001b[0;34m(\u001b[0m\u001b[0;34m)\u001b[0m\u001b[0;34m]\u001b[0m\u001b[0;34m\u001b[0m\u001b[0;34m\u001b[0m\u001b[0m\n\u001b[0m\u001b[1;32m    626\u001b[0m         \u001b[0;32mreturn\u001b[0m \u001b[0marithmetic_operators\u001b[0m\u001b[0;34m[\u001b[0m\u001b[0moperator\u001b[0m\u001b[0;34m]\u001b[0m\u001b[0;34m.\u001b[0m\u001b[0mjoin\u001b[0m\u001b[0;34m(\u001b[0m\u001b[0margs\u001b[0m\u001b[0;34m)\u001b[0m\u001b[0;34m\u001b[0m\u001b[0;34m\u001b[0m\u001b[0m\n\u001b[1;32m    627\u001b[0m \u001b[0;34m\u001b[0m\u001b[0m\n",
      "\u001b[0;32m/opt/sagemath-9.1/local/lib/python3.7/site-packages/sage/symbolic/expression_conversions.py\u001b[0m in \u001b[0;36m__call__\u001b[0;34m(self, ex)\u001b[0m\n\u001b[1;32m    216\u001b[0m                 \u001b[0mdiv\u001b[0m \u001b[0;34m=\u001b[0m \u001b[0mself\u001b[0m\u001b[0;34m.\u001b[0m\u001b[0mget_fake_div\u001b[0m\u001b[0;34m(\u001b[0m\u001b[0mex\u001b[0m\u001b[0;34m)\u001b[0m\u001b[0;34m\u001b[0m\u001b[0;34m\u001b[0m\u001b[0m\n\u001b[1;32m    217\u001b[0m                 \u001b[0;32mreturn\u001b[0m \u001b[0mself\u001b[0m\u001b[0;34m.\u001b[0m\u001b[0marithmetic\u001b[0m\u001b[0;34m(\u001b[0m\u001b[0mdiv\u001b[0m\u001b[0;34m,\u001b[0m \u001b[0mdiv\u001b[0m\u001b[0;34m.\u001b[0m\u001b[0moperator\u001b[0m\u001b[0;34m(\u001b[0m\u001b[0;34m)\u001b[0m\u001b[0;34m)\u001b[0m\u001b[0;34m\u001b[0m\u001b[0;34m\u001b[0m\u001b[0m\n\u001b[0;32m--> 218\u001b[0;31m             \u001b[0;32mreturn\u001b[0m \u001b[0mself\u001b[0m\u001b[0;34m.\u001b[0m\u001b[0marithmetic\u001b[0m\u001b[0;34m(\u001b[0m\u001b[0mex\u001b[0m\u001b[0;34m,\u001b[0m \u001b[0moperator\u001b[0m\u001b[0;34m)\u001b[0m\u001b[0;34m\u001b[0m\u001b[0;34m\u001b[0m\u001b[0m\n\u001b[0m\u001b[1;32m    219\u001b[0m         \u001b[0;32melif\u001b[0m \u001b[0moperator\u001b[0m \u001b[0;32min\u001b[0m \u001b[0mrelation_operators\u001b[0m\u001b[0;34m:\u001b[0m\u001b[0;34m\u001b[0m\u001b[0;34m\u001b[0m\u001b[0m\n\u001b[1;32m    220\u001b[0m             \u001b[0;32mreturn\u001b[0m \u001b[0mself\u001b[0m\u001b[0;34m.\u001b[0m\u001b[0mrelation\u001b[0m\u001b[0;34m(\u001b[0m\u001b[0mex\u001b[0m\u001b[0;34m,\u001b[0m \u001b[0moperator\u001b[0m\u001b[0;34m)\u001b[0m\u001b[0;34m\u001b[0m\u001b[0;34m\u001b[0m\u001b[0m\n",
      "\u001b[0;32m/opt/sagemath-9.1/local/lib/python3.7/site-packages/sage/symbolic/expression_conversions.py\u001b[0m in \u001b[0;36marithmetic\u001b[0;34m(self, ex, operator)\u001b[0m\n\u001b[1;32m    623\u001b[0m             \u001b[0;34m'(_SAGE_VAR_x)+(2)'\u001b[0m\u001b[0;34m\u001b[0m\u001b[0;34m\u001b[0m\u001b[0m\n\u001b[1;32m    624\u001b[0m         \"\"\"\n\u001b[0;32m--> 625\u001b[0;31m         \u001b[0margs\u001b[0m \u001b[0;34m=\u001b[0m \u001b[0;34m[\u001b[0m\u001b[0;34m\"(%s)\"\u001b[0m\u001b[0;34m%\u001b[0m\u001b[0mself\u001b[0m\u001b[0;34m(\u001b[0m\u001b[0mop\u001b[0m\u001b[0;34m)\u001b[0m \u001b[0;32mfor\u001b[0m \u001b[0mop\u001b[0m \u001b[0;32min\u001b[0m \u001b[0mex\u001b[0m\u001b[0;34m.\u001b[0m\u001b[0moperands\u001b[0m\u001b[0;34m(\u001b[0m\u001b[0;34m)\u001b[0m\u001b[0;34m]\u001b[0m\u001b[0;34m\u001b[0m\u001b[0;34m\u001b[0m\u001b[0m\n\u001b[0m\u001b[1;32m    626\u001b[0m         \u001b[0;32mreturn\u001b[0m \u001b[0marithmetic_operators\u001b[0m\u001b[0;34m[\u001b[0m\u001b[0moperator\u001b[0m\u001b[0;34m]\u001b[0m\u001b[0;34m.\u001b[0m\u001b[0mjoin\u001b[0m\u001b[0;34m(\u001b[0m\u001b[0margs\u001b[0m\u001b[0;34m)\u001b[0m\u001b[0;34m\u001b[0m\u001b[0;34m\u001b[0m\u001b[0m\n\u001b[1;32m    627\u001b[0m \u001b[0;34m\u001b[0m\u001b[0m\n",
      "\u001b[0;32m/opt/sagemath-9.1/local/lib/python3.7/site-packages/sage/symbolic/expression_conversions.py\u001b[0m in \u001b[0;36m<listcomp>\u001b[0;34m(.0)\u001b[0m\n\u001b[1;32m    623\u001b[0m             \u001b[0;34m'(_SAGE_VAR_x)+(2)'\u001b[0m\u001b[0;34m\u001b[0m\u001b[0;34m\u001b[0m\u001b[0m\n\u001b[1;32m    624\u001b[0m         \"\"\"\n\u001b[0;32m--> 625\u001b[0;31m         \u001b[0margs\u001b[0m \u001b[0;34m=\u001b[0m \u001b[0;34m[\u001b[0m\u001b[0;34m\"(%s)\"\u001b[0m\u001b[0;34m%\u001b[0m\u001b[0mself\u001b[0m\u001b[0;34m(\u001b[0m\u001b[0mop\u001b[0m\u001b[0;34m)\u001b[0m \u001b[0;32mfor\u001b[0m \u001b[0mop\u001b[0m \u001b[0;32min\u001b[0m \u001b[0mex\u001b[0m\u001b[0;34m.\u001b[0m\u001b[0moperands\u001b[0m\u001b[0;34m(\u001b[0m\u001b[0;34m)\u001b[0m\u001b[0;34m]\u001b[0m\u001b[0;34m\u001b[0m\u001b[0;34m\u001b[0m\u001b[0m\n\u001b[0m\u001b[1;32m    626\u001b[0m         \u001b[0;32mreturn\u001b[0m \u001b[0marithmetic_operators\u001b[0m\u001b[0;34m[\u001b[0m\u001b[0moperator\u001b[0m\u001b[0;34m]\u001b[0m\u001b[0;34m.\u001b[0m\u001b[0mjoin\u001b[0m\u001b[0;34m(\u001b[0m\u001b[0margs\u001b[0m\u001b[0;34m)\u001b[0m\u001b[0;34m\u001b[0m\u001b[0;34m\u001b[0m\u001b[0m\n\u001b[1;32m    627\u001b[0m \u001b[0;34m\u001b[0m\u001b[0m\n",
      "\u001b[0;32m/opt/sagemath-9.1/local/lib/python3.7/site-packages/sage/symbolic/expression_conversions.py\u001b[0m in \u001b[0;36m__call__\u001b[0;34m(self, ex)\u001b[0m\n\u001b[1;32m    216\u001b[0m                 \u001b[0mdiv\u001b[0m \u001b[0;34m=\u001b[0m \u001b[0mself\u001b[0m\u001b[0;34m.\u001b[0m\u001b[0mget_fake_div\u001b[0m\u001b[0;34m(\u001b[0m\u001b[0mex\u001b[0m\u001b[0;34m)\u001b[0m\u001b[0;34m\u001b[0m\u001b[0;34m\u001b[0m\u001b[0m\n\u001b[1;32m    217\u001b[0m                 \u001b[0;32mreturn\u001b[0m \u001b[0mself\u001b[0m\u001b[0;34m.\u001b[0m\u001b[0marithmetic\u001b[0m\u001b[0;34m(\u001b[0m\u001b[0mdiv\u001b[0m\u001b[0;34m,\u001b[0m \u001b[0mdiv\u001b[0m\u001b[0;34m.\u001b[0m\u001b[0moperator\u001b[0m\u001b[0;34m(\u001b[0m\u001b[0;34m)\u001b[0m\u001b[0;34m)\u001b[0m\u001b[0;34m\u001b[0m\u001b[0;34m\u001b[0m\u001b[0m\n\u001b[0;32m--> 218\u001b[0;31m             \u001b[0;32mreturn\u001b[0m \u001b[0mself\u001b[0m\u001b[0;34m.\u001b[0m\u001b[0marithmetic\u001b[0m\u001b[0;34m(\u001b[0m\u001b[0mex\u001b[0m\u001b[0;34m,\u001b[0m \u001b[0moperator\u001b[0m\u001b[0;34m)\u001b[0m\u001b[0;34m\u001b[0m\u001b[0;34m\u001b[0m\u001b[0m\n\u001b[0m\u001b[1;32m    219\u001b[0m         \u001b[0;32melif\u001b[0m \u001b[0moperator\u001b[0m \u001b[0;32min\u001b[0m \u001b[0mrelation_operators\u001b[0m\u001b[0;34m:\u001b[0m\u001b[0;34m\u001b[0m\u001b[0;34m\u001b[0m\u001b[0m\n\u001b[1;32m    220\u001b[0m             \u001b[0;32mreturn\u001b[0m \u001b[0mself\u001b[0m\u001b[0;34m.\u001b[0m\u001b[0mrelation\u001b[0m\u001b[0;34m(\u001b[0m\u001b[0mex\u001b[0m\u001b[0;34m,\u001b[0m \u001b[0moperator\u001b[0m\u001b[0;34m)\u001b[0m\u001b[0;34m\u001b[0m\u001b[0;34m\u001b[0m\u001b[0m\n",
      "\u001b[0;32m/opt/sagemath-9.1/local/lib/python3.7/site-packages/sage/symbolic/expression_conversions.py\u001b[0m in \u001b[0;36marithmetic\u001b[0;34m(self, ex, operator)\u001b[0m\n\u001b[1;32m    623\u001b[0m             \u001b[0;34m'(_SAGE_VAR_x)+(2)'\u001b[0m\u001b[0;34m\u001b[0m\u001b[0;34m\u001b[0m\u001b[0m\n\u001b[1;32m    624\u001b[0m         \"\"\"\n\u001b[0;32m--> 625\u001b[0;31m         \u001b[0margs\u001b[0m \u001b[0;34m=\u001b[0m \u001b[0;34m[\u001b[0m\u001b[0;34m\"(%s)\"\u001b[0m\u001b[0;34m%\u001b[0m\u001b[0mself\u001b[0m\u001b[0;34m(\u001b[0m\u001b[0mop\u001b[0m\u001b[0;34m)\u001b[0m \u001b[0;32mfor\u001b[0m \u001b[0mop\u001b[0m \u001b[0;32min\u001b[0m \u001b[0mex\u001b[0m\u001b[0;34m.\u001b[0m\u001b[0moperands\u001b[0m\u001b[0;34m(\u001b[0m\u001b[0;34m)\u001b[0m\u001b[0;34m]\u001b[0m\u001b[0;34m\u001b[0m\u001b[0;34m\u001b[0m\u001b[0m\n\u001b[0m\u001b[1;32m    626\u001b[0m         \u001b[0;32mreturn\u001b[0m \u001b[0marithmetic_operators\u001b[0m\u001b[0;34m[\u001b[0m\u001b[0moperator\u001b[0m\u001b[0;34m]\u001b[0m\u001b[0;34m.\u001b[0m\u001b[0mjoin\u001b[0m\u001b[0;34m(\u001b[0m\u001b[0margs\u001b[0m\u001b[0;34m)\u001b[0m\u001b[0;34m\u001b[0m\u001b[0;34m\u001b[0m\u001b[0m\n\u001b[1;32m    627\u001b[0m \u001b[0;34m\u001b[0m\u001b[0m\n",
      "\u001b[0;32m/opt/sagemath-9.1/local/lib/python3.7/site-packages/sage/symbolic/expression_conversions.py\u001b[0m in \u001b[0;36m<listcomp>\u001b[0;34m(.0)\u001b[0m\n\u001b[1;32m    623\u001b[0m             \u001b[0;34m'(_SAGE_VAR_x)+(2)'\u001b[0m\u001b[0;34m\u001b[0m\u001b[0;34m\u001b[0m\u001b[0m\n\u001b[1;32m    624\u001b[0m         \"\"\"\n\u001b[0;32m--> 625\u001b[0;31m         \u001b[0margs\u001b[0m \u001b[0;34m=\u001b[0m \u001b[0;34m[\u001b[0m\u001b[0;34m\"(%s)\"\u001b[0m\u001b[0;34m%\u001b[0m\u001b[0mself\u001b[0m\u001b[0;34m(\u001b[0m\u001b[0mop\u001b[0m\u001b[0;34m)\u001b[0m \u001b[0;32mfor\u001b[0m \u001b[0mop\u001b[0m \u001b[0;32min\u001b[0m \u001b[0mex\u001b[0m\u001b[0;34m.\u001b[0m\u001b[0moperands\u001b[0m\u001b[0;34m(\u001b[0m\u001b[0;34m)\u001b[0m\u001b[0;34m]\u001b[0m\u001b[0;34m\u001b[0m\u001b[0;34m\u001b[0m\u001b[0m\n\u001b[0m\u001b[1;32m    626\u001b[0m         \u001b[0;32mreturn\u001b[0m \u001b[0marithmetic_operators\u001b[0m\u001b[0;34m[\u001b[0m\u001b[0moperator\u001b[0m\u001b[0;34m]\u001b[0m\u001b[0;34m.\u001b[0m\u001b[0mjoin\u001b[0m\u001b[0;34m(\u001b[0m\u001b[0margs\u001b[0m\u001b[0;34m)\u001b[0m\u001b[0;34m\u001b[0m\u001b[0;34m\u001b[0m\u001b[0m\n\u001b[1;32m    627\u001b[0m \u001b[0;34m\u001b[0m\u001b[0m\n",
      "\u001b[0;32m/opt/sagemath-9.1/local/lib/python3.7/site-packages/sage/symbolic/expression_conversions.py\u001b[0m in \u001b[0;36m__call__\u001b[0;34m(self, ex)\u001b[0m\n\u001b[1;32m    216\u001b[0m                 \u001b[0mdiv\u001b[0m \u001b[0;34m=\u001b[0m \u001b[0mself\u001b[0m\u001b[0;34m.\u001b[0m\u001b[0mget_fake_div\u001b[0m\u001b[0;34m(\u001b[0m\u001b[0mex\u001b[0m\u001b[0;34m)\u001b[0m\u001b[0;34m\u001b[0m\u001b[0;34m\u001b[0m\u001b[0m\n\u001b[1;32m    217\u001b[0m                 \u001b[0;32mreturn\u001b[0m \u001b[0mself\u001b[0m\u001b[0;34m.\u001b[0m\u001b[0marithmetic\u001b[0m\u001b[0;34m(\u001b[0m\u001b[0mdiv\u001b[0m\u001b[0;34m,\u001b[0m \u001b[0mdiv\u001b[0m\u001b[0;34m.\u001b[0m\u001b[0moperator\u001b[0m\u001b[0;34m(\u001b[0m\u001b[0;34m)\u001b[0m\u001b[0;34m)\u001b[0m\u001b[0;34m\u001b[0m\u001b[0;34m\u001b[0m\u001b[0m\n\u001b[0;32m--> 218\u001b[0;31m             \u001b[0;32mreturn\u001b[0m \u001b[0mself\u001b[0m\u001b[0;34m.\u001b[0m\u001b[0marithmetic\u001b[0m\u001b[0;34m(\u001b[0m\u001b[0mex\u001b[0m\u001b[0;34m,\u001b[0m \u001b[0moperator\u001b[0m\u001b[0;34m)\u001b[0m\u001b[0;34m\u001b[0m\u001b[0;34m\u001b[0m\u001b[0m\n\u001b[0m\u001b[1;32m    219\u001b[0m         \u001b[0;32melif\u001b[0m \u001b[0moperator\u001b[0m \u001b[0;32min\u001b[0m \u001b[0mrelation_operators\u001b[0m\u001b[0;34m:\u001b[0m\u001b[0;34m\u001b[0m\u001b[0;34m\u001b[0m\u001b[0m\n\u001b[1;32m    220\u001b[0m             \u001b[0;32mreturn\u001b[0m \u001b[0mself\u001b[0m\u001b[0;34m.\u001b[0m\u001b[0mrelation\u001b[0m\u001b[0;34m(\u001b[0m\u001b[0mex\u001b[0m\u001b[0;34m,\u001b[0m \u001b[0moperator\u001b[0m\u001b[0;34m)\u001b[0m\u001b[0;34m\u001b[0m\u001b[0;34m\u001b[0m\u001b[0m\n",
      "\u001b[0;32m/opt/sagemath-9.1/local/lib/python3.7/site-packages/sage/symbolic/expression_conversions.py\u001b[0m in \u001b[0;36marithmetic\u001b[0;34m(self, ex, operator)\u001b[0m\n\u001b[1;32m    623\u001b[0m             \u001b[0;34m'(_SAGE_VAR_x)+(2)'\u001b[0m\u001b[0;34m\u001b[0m\u001b[0;34m\u001b[0m\u001b[0m\n\u001b[1;32m    624\u001b[0m         \"\"\"\n\u001b[0;32m--> 625\u001b[0;31m         \u001b[0margs\u001b[0m \u001b[0;34m=\u001b[0m \u001b[0;34m[\u001b[0m\u001b[0;34m\"(%s)\"\u001b[0m\u001b[0;34m%\u001b[0m\u001b[0mself\u001b[0m\u001b[0;34m(\u001b[0m\u001b[0mop\u001b[0m\u001b[0;34m)\u001b[0m \u001b[0;32mfor\u001b[0m \u001b[0mop\u001b[0m \u001b[0;32min\u001b[0m \u001b[0mex\u001b[0m\u001b[0;34m.\u001b[0m\u001b[0moperands\u001b[0m\u001b[0;34m(\u001b[0m\u001b[0;34m)\u001b[0m\u001b[0;34m]\u001b[0m\u001b[0;34m\u001b[0m\u001b[0;34m\u001b[0m\u001b[0m\n\u001b[0m\u001b[1;32m    626\u001b[0m         \u001b[0;32mreturn\u001b[0m \u001b[0marithmetic_operators\u001b[0m\u001b[0;34m[\u001b[0m\u001b[0moperator\u001b[0m\u001b[0;34m]\u001b[0m\u001b[0;34m.\u001b[0m\u001b[0mjoin\u001b[0m\u001b[0;34m(\u001b[0m\u001b[0margs\u001b[0m\u001b[0;34m)\u001b[0m\u001b[0;34m\u001b[0m\u001b[0;34m\u001b[0m\u001b[0m\n\u001b[1;32m    627\u001b[0m \u001b[0;34m\u001b[0m\u001b[0m\n",
      "\u001b[0;32m/opt/sagemath-9.1/local/lib/python3.7/site-packages/sage/symbolic/expression_conversions.py\u001b[0m in \u001b[0;36m<listcomp>\u001b[0;34m(.0)\u001b[0m\n\u001b[1;32m    623\u001b[0m             \u001b[0;34m'(_SAGE_VAR_x)+(2)'\u001b[0m\u001b[0;34m\u001b[0m\u001b[0;34m\u001b[0m\u001b[0m\n\u001b[1;32m    624\u001b[0m         \"\"\"\n\u001b[0;32m--> 625\u001b[0;31m         \u001b[0margs\u001b[0m \u001b[0;34m=\u001b[0m \u001b[0;34m[\u001b[0m\u001b[0;34m\"(%s)\"\u001b[0m\u001b[0;34m%\u001b[0m\u001b[0mself\u001b[0m\u001b[0;34m(\u001b[0m\u001b[0mop\u001b[0m\u001b[0;34m)\u001b[0m \u001b[0;32mfor\u001b[0m \u001b[0mop\u001b[0m \u001b[0;32min\u001b[0m \u001b[0mex\u001b[0m\u001b[0;34m.\u001b[0m\u001b[0moperands\u001b[0m\u001b[0;34m(\u001b[0m\u001b[0;34m)\u001b[0m\u001b[0;34m]\u001b[0m\u001b[0;34m\u001b[0m\u001b[0;34m\u001b[0m\u001b[0m\n\u001b[0m\u001b[1;32m    626\u001b[0m         \u001b[0;32mreturn\u001b[0m \u001b[0marithmetic_operators\u001b[0m\u001b[0;34m[\u001b[0m\u001b[0moperator\u001b[0m\u001b[0;34m]\u001b[0m\u001b[0;34m.\u001b[0m\u001b[0mjoin\u001b[0m\u001b[0;34m(\u001b[0m\u001b[0margs\u001b[0m\u001b[0;34m)\u001b[0m\u001b[0;34m\u001b[0m\u001b[0;34m\u001b[0m\u001b[0m\n\u001b[1;32m    627\u001b[0m \u001b[0;34m\u001b[0m\u001b[0m\n",
      "\u001b[0;32m/opt/sagemath-9.1/local/lib/python3.7/site-packages/sage/symbolic/expression_conversions.py\u001b[0m in \u001b[0;36m__call__\u001b[0;34m(self, ex)\u001b[0m\n\u001b[1;32m    216\u001b[0m                 \u001b[0mdiv\u001b[0m \u001b[0;34m=\u001b[0m \u001b[0mself\u001b[0m\u001b[0;34m.\u001b[0m\u001b[0mget_fake_div\u001b[0m\u001b[0;34m(\u001b[0m\u001b[0mex\u001b[0m\u001b[0;34m)\u001b[0m\u001b[0;34m\u001b[0m\u001b[0;34m\u001b[0m\u001b[0m\n\u001b[1;32m    217\u001b[0m                 \u001b[0;32mreturn\u001b[0m \u001b[0mself\u001b[0m\u001b[0;34m.\u001b[0m\u001b[0marithmetic\u001b[0m\u001b[0;34m(\u001b[0m\u001b[0mdiv\u001b[0m\u001b[0;34m,\u001b[0m \u001b[0mdiv\u001b[0m\u001b[0;34m.\u001b[0m\u001b[0moperator\u001b[0m\u001b[0;34m(\u001b[0m\u001b[0;34m)\u001b[0m\u001b[0;34m)\u001b[0m\u001b[0;34m\u001b[0m\u001b[0;34m\u001b[0m\u001b[0m\n\u001b[0;32m--> 218\u001b[0;31m             \u001b[0;32mreturn\u001b[0m \u001b[0mself\u001b[0m\u001b[0;34m.\u001b[0m\u001b[0marithmetic\u001b[0m\u001b[0;34m(\u001b[0m\u001b[0mex\u001b[0m\u001b[0;34m,\u001b[0m \u001b[0moperator\u001b[0m\u001b[0;34m)\u001b[0m\u001b[0;34m\u001b[0m\u001b[0;34m\u001b[0m\u001b[0m\n\u001b[0m\u001b[1;32m    219\u001b[0m         \u001b[0;32melif\u001b[0m \u001b[0moperator\u001b[0m \u001b[0;32min\u001b[0m \u001b[0mrelation_operators\u001b[0m\u001b[0;34m:\u001b[0m\u001b[0;34m\u001b[0m\u001b[0;34m\u001b[0m\u001b[0m\n\u001b[1;32m    220\u001b[0m             \u001b[0;32mreturn\u001b[0m \u001b[0mself\u001b[0m\u001b[0;34m.\u001b[0m\u001b[0mrelation\u001b[0m\u001b[0;34m(\u001b[0m\u001b[0mex\u001b[0m\u001b[0;34m,\u001b[0m \u001b[0moperator\u001b[0m\u001b[0;34m)\u001b[0m\u001b[0;34m\u001b[0m\u001b[0;34m\u001b[0m\u001b[0m\n",
      "\u001b[0;32m/opt/sagemath-9.1/local/lib/python3.7/site-packages/sage/symbolic/expression_conversions.py\u001b[0m in \u001b[0;36marithmetic\u001b[0;34m(self, ex, operator)\u001b[0m\n\u001b[1;32m    623\u001b[0m             \u001b[0;34m'(_SAGE_VAR_x)+(2)'\u001b[0m\u001b[0;34m\u001b[0m\u001b[0;34m\u001b[0m\u001b[0m\n\u001b[1;32m    624\u001b[0m         \"\"\"\n\u001b[0;32m--> 625\u001b[0;31m         \u001b[0margs\u001b[0m \u001b[0;34m=\u001b[0m \u001b[0;34m[\u001b[0m\u001b[0;34m\"(%s)\"\u001b[0m\u001b[0;34m%\u001b[0m\u001b[0mself\u001b[0m\u001b[0;34m(\u001b[0m\u001b[0mop\u001b[0m\u001b[0;34m)\u001b[0m \u001b[0;32mfor\u001b[0m \u001b[0mop\u001b[0m \u001b[0;32min\u001b[0m \u001b[0mex\u001b[0m\u001b[0;34m.\u001b[0m\u001b[0moperands\u001b[0m\u001b[0;34m(\u001b[0m\u001b[0;34m)\u001b[0m\u001b[0;34m]\u001b[0m\u001b[0;34m\u001b[0m\u001b[0;34m\u001b[0m\u001b[0m\n\u001b[0m\u001b[1;32m    626\u001b[0m         \u001b[0;32mreturn\u001b[0m \u001b[0marithmetic_operators\u001b[0m\u001b[0;34m[\u001b[0m\u001b[0moperator\u001b[0m\u001b[0;34m]\u001b[0m\u001b[0;34m.\u001b[0m\u001b[0mjoin\u001b[0m\u001b[0;34m(\u001b[0m\u001b[0margs\u001b[0m\u001b[0;34m)\u001b[0m\u001b[0;34m\u001b[0m\u001b[0;34m\u001b[0m\u001b[0m\n\u001b[1;32m    627\u001b[0m \u001b[0;34m\u001b[0m\u001b[0m\n",
      "\u001b[0;32m/opt/sagemath-9.1/local/lib/python3.7/site-packages/sage/symbolic/expression_conversions.py\u001b[0m in \u001b[0;36m<listcomp>\u001b[0;34m(.0)\u001b[0m\n\u001b[1;32m    623\u001b[0m             \u001b[0;34m'(_SAGE_VAR_x)+(2)'\u001b[0m\u001b[0;34m\u001b[0m\u001b[0;34m\u001b[0m\u001b[0m\n\u001b[1;32m    624\u001b[0m         \"\"\"\n\u001b[0;32m--> 625\u001b[0;31m         \u001b[0margs\u001b[0m \u001b[0;34m=\u001b[0m \u001b[0;34m[\u001b[0m\u001b[0;34m\"(%s)\"\u001b[0m\u001b[0;34m%\u001b[0m\u001b[0mself\u001b[0m\u001b[0;34m(\u001b[0m\u001b[0mop\u001b[0m\u001b[0;34m)\u001b[0m \u001b[0;32mfor\u001b[0m \u001b[0mop\u001b[0m \u001b[0;32min\u001b[0m \u001b[0mex\u001b[0m\u001b[0;34m.\u001b[0m\u001b[0moperands\u001b[0m\u001b[0;34m(\u001b[0m\u001b[0;34m)\u001b[0m\u001b[0;34m]\u001b[0m\u001b[0;34m\u001b[0m\u001b[0;34m\u001b[0m\u001b[0m\n\u001b[0m\u001b[1;32m    626\u001b[0m         \u001b[0;32mreturn\u001b[0m \u001b[0marithmetic_operators\u001b[0m\u001b[0;34m[\u001b[0m\u001b[0moperator\u001b[0m\u001b[0;34m]\u001b[0m\u001b[0;34m.\u001b[0m\u001b[0mjoin\u001b[0m\u001b[0;34m(\u001b[0m\u001b[0margs\u001b[0m\u001b[0;34m)\u001b[0m\u001b[0;34m\u001b[0m\u001b[0;34m\u001b[0m\u001b[0m\n\u001b[1;32m    627\u001b[0m \u001b[0;34m\u001b[0m\u001b[0m\n",
      "\u001b[0;32m/opt/sagemath-9.1/local/lib/python3.7/site-packages/sage/symbolic/expression_conversions.py\u001b[0m in \u001b[0;36m__call__\u001b[0;34m(self, ex)\u001b[0m\n\u001b[1;32m    216\u001b[0m                 \u001b[0mdiv\u001b[0m \u001b[0;34m=\u001b[0m \u001b[0mself\u001b[0m\u001b[0;34m.\u001b[0m\u001b[0mget_fake_div\u001b[0m\u001b[0;34m(\u001b[0m\u001b[0mex\u001b[0m\u001b[0;34m)\u001b[0m\u001b[0;34m\u001b[0m\u001b[0;34m\u001b[0m\u001b[0m\n\u001b[1;32m    217\u001b[0m                 \u001b[0;32mreturn\u001b[0m \u001b[0mself\u001b[0m\u001b[0;34m.\u001b[0m\u001b[0marithmetic\u001b[0m\u001b[0;34m(\u001b[0m\u001b[0mdiv\u001b[0m\u001b[0;34m,\u001b[0m \u001b[0mdiv\u001b[0m\u001b[0;34m.\u001b[0m\u001b[0moperator\u001b[0m\u001b[0;34m(\u001b[0m\u001b[0;34m)\u001b[0m\u001b[0;34m)\u001b[0m\u001b[0;34m\u001b[0m\u001b[0;34m\u001b[0m\u001b[0m\n\u001b[0;32m--> 218\u001b[0;31m             \u001b[0;32mreturn\u001b[0m \u001b[0mself\u001b[0m\u001b[0;34m.\u001b[0m\u001b[0marithmetic\u001b[0m\u001b[0;34m(\u001b[0m\u001b[0mex\u001b[0m\u001b[0;34m,\u001b[0m \u001b[0moperator\u001b[0m\u001b[0;34m)\u001b[0m\u001b[0;34m\u001b[0m\u001b[0;34m\u001b[0m\u001b[0m\n\u001b[0m\u001b[1;32m    219\u001b[0m         \u001b[0;32melif\u001b[0m \u001b[0moperator\u001b[0m \u001b[0;32min\u001b[0m \u001b[0mrelation_operators\u001b[0m\u001b[0;34m:\u001b[0m\u001b[0;34m\u001b[0m\u001b[0;34m\u001b[0m\u001b[0m\n\u001b[1;32m    220\u001b[0m             \u001b[0;32mreturn\u001b[0m \u001b[0mself\u001b[0m\u001b[0;34m.\u001b[0m\u001b[0mrelation\u001b[0m\u001b[0;34m(\u001b[0m\u001b[0mex\u001b[0m\u001b[0;34m,\u001b[0m \u001b[0moperator\u001b[0m\u001b[0;34m)\u001b[0m\u001b[0;34m\u001b[0m\u001b[0;34m\u001b[0m\u001b[0m\n",
      "\u001b[0;32m/opt/sagemath-9.1/local/lib/python3.7/site-packages/sage/symbolic/expression_conversions.py\u001b[0m in \u001b[0;36marithmetic\u001b[0;34m(self, ex, operator)\u001b[0m\n\u001b[1;32m    623\u001b[0m             \u001b[0;34m'(_SAGE_VAR_x)+(2)'\u001b[0m\u001b[0;34m\u001b[0m\u001b[0;34m\u001b[0m\u001b[0m\n\u001b[1;32m    624\u001b[0m         \"\"\"\n\u001b[0;32m--> 625\u001b[0;31m         \u001b[0margs\u001b[0m \u001b[0;34m=\u001b[0m \u001b[0;34m[\u001b[0m\u001b[0;34m\"(%s)\"\u001b[0m\u001b[0;34m%\u001b[0m\u001b[0mself\u001b[0m\u001b[0;34m(\u001b[0m\u001b[0mop\u001b[0m\u001b[0;34m)\u001b[0m \u001b[0;32mfor\u001b[0m \u001b[0mop\u001b[0m \u001b[0;32min\u001b[0m \u001b[0mex\u001b[0m\u001b[0;34m.\u001b[0m\u001b[0moperands\u001b[0m\u001b[0;34m(\u001b[0m\u001b[0;34m)\u001b[0m\u001b[0;34m]\u001b[0m\u001b[0;34m\u001b[0m\u001b[0;34m\u001b[0m\u001b[0m\n\u001b[0m\u001b[1;32m    626\u001b[0m         \u001b[0;32mreturn\u001b[0m \u001b[0marithmetic_operators\u001b[0m\u001b[0;34m[\u001b[0m\u001b[0moperator\u001b[0m\u001b[0;34m]\u001b[0m\u001b[0;34m.\u001b[0m\u001b[0mjoin\u001b[0m\u001b[0;34m(\u001b[0m\u001b[0margs\u001b[0m\u001b[0;34m)\u001b[0m\u001b[0;34m\u001b[0m\u001b[0;34m\u001b[0m\u001b[0m\n\u001b[1;32m    627\u001b[0m \u001b[0;34m\u001b[0m\u001b[0m\n",
      "\u001b[0;32m/opt/sagemath-9.1/local/lib/python3.7/site-packages/sage/symbolic/expression_conversions.py\u001b[0m in \u001b[0;36m<listcomp>\u001b[0;34m(.0)\u001b[0m\n\u001b[1;32m    623\u001b[0m             \u001b[0;34m'(_SAGE_VAR_x)+(2)'\u001b[0m\u001b[0;34m\u001b[0m\u001b[0;34m\u001b[0m\u001b[0m\n\u001b[1;32m    624\u001b[0m         \"\"\"\n\u001b[0;32m--> 625\u001b[0;31m         \u001b[0margs\u001b[0m \u001b[0;34m=\u001b[0m \u001b[0;34m[\u001b[0m\u001b[0;34m\"(%s)\"\u001b[0m\u001b[0;34m%\u001b[0m\u001b[0mself\u001b[0m\u001b[0;34m(\u001b[0m\u001b[0mop\u001b[0m\u001b[0;34m)\u001b[0m \u001b[0;32mfor\u001b[0m \u001b[0mop\u001b[0m \u001b[0;32min\u001b[0m \u001b[0mex\u001b[0m\u001b[0;34m.\u001b[0m\u001b[0moperands\u001b[0m\u001b[0;34m(\u001b[0m\u001b[0;34m)\u001b[0m\u001b[0;34m]\u001b[0m\u001b[0;34m\u001b[0m\u001b[0;34m\u001b[0m\u001b[0m\n\u001b[0m\u001b[1;32m    626\u001b[0m         \u001b[0;32mreturn\u001b[0m \u001b[0marithmetic_operators\u001b[0m\u001b[0;34m[\u001b[0m\u001b[0moperator\u001b[0m\u001b[0;34m]\u001b[0m\u001b[0;34m.\u001b[0m\u001b[0mjoin\u001b[0m\u001b[0;34m(\u001b[0m\u001b[0margs\u001b[0m\u001b[0;34m)\u001b[0m\u001b[0;34m\u001b[0m\u001b[0;34m\u001b[0m\u001b[0m\n\u001b[1;32m    627\u001b[0m \u001b[0;34m\u001b[0m\u001b[0m\n",
      "\u001b[0;32m/opt/sagemath-9.1/local/lib/python3.7/site-packages/sage/symbolic/expression_conversions.py\u001b[0m in \u001b[0;36m__call__\u001b[0;34m(self, ex)\u001b[0m\n\u001b[1;32m    216\u001b[0m                 \u001b[0mdiv\u001b[0m \u001b[0;34m=\u001b[0m \u001b[0mself\u001b[0m\u001b[0;34m.\u001b[0m\u001b[0mget_fake_div\u001b[0m\u001b[0;34m(\u001b[0m\u001b[0mex\u001b[0m\u001b[0;34m)\u001b[0m\u001b[0;34m\u001b[0m\u001b[0;34m\u001b[0m\u001b[0m\n\u001b[1;32m    217\u001b[0m                 \u001b[0;32mreturn\u001b[0m \u001b[0mself\u001b[0m\u001b[0;34m.\u001b[0m\u001b[0marithmetic\u001b[0m\u001b[0;34m(\u001b[0m\u001b[0mdiv\u001b[0m\u001b[0;34m,\u001b[0m \u001b[0mdiv\u001b[0m\u001b[0;34m.\u001b[0m\u001b[0moperator\u001b[0m\u001b[0;34m(\u001b[0m\u001b[0;34m)\u001b[0m\u001b[0;34m)\u001b[0m\u001b[0;34m\u001b[0m\u001b[0;34m\u001b[0m\u001b[0m\n\u001b[0;32m--> 218\u001b[0;31m             \u001b[0;32mreturn\u001b[0m \u001b[0mself\u001b[0m\u001b[0;34m.\u001b[0m\u001b[0marithmetic\u001b[0m\u001b[0;34m(\u001b[0m\u001b[0mex\u001b[0m\u001b[0;34m,\u001b[0m \u001b[0moperator\u001b[0m\u001b[0;34m)\u001b[0m\u001b[0;34m\u001b[0m\u001b[0;34m\u001b[0m\u001b[0m\n\u001b[0m\u001b[1;32m    219\u001b[0m         \u001b[0;32melif\u001b[0m \u001b[0moperator\u001b[0m \u001b[0;32min\u001b[0m \u001b[0mrelation_operators\u001b[0m\u001b[0;34m:\u001b[0m\u001b[0;34m\u001b[0m\u001b[0;34m\u001b[0m\u001b[0m\n\u001b[1;32m    220\u001b[0m             \u001b[0;32mreturn\u001b[0m \u001b[0mself\u001b[0m\u001b[0;34m.\u001b[0m\u001b[0mrelation\u001b[0m\u001b[0;34m(\u001b[0m\u001b[0mex\u001b[0m\u001b[0;34m,\u001b[0m \u001b[0moperator\u001b[0m\u001b[0;34m)\u001b[0m\u001b[0;34m\u001b[0m\u001b[0;34m\u001b[0m\u001b[0m\n",
      "\u001b[0;32m/opt/sagemath-9.1/local/lib/python3.7/site-packages/sage/symbolic/expression_conversions.py\u001b[0m in \u001b[0;36marithmetic\u001b[0;34m(self, ex, operator)\u001b[0m\n\u001b[1;32m    623\u001b[0m             \u001b[0;34m'(_SAGE_VAR_x)+(2)'\u001b[0m\u001b[0;34m\u001b[0m\u001b[0;34m\u001b[0m\u001b[0m\n\u001b[1;32m    624\u001b[0m         \"\"\"\n\u001b[0;32m--> 625\u001b[0;31m         \u001b[0margs\u001b[0m \u001b[0;34m=\u001b[0m \u001b[0;34m[\u001b[0m\u001b[0;34m\"(%s)\"\u001b[0m\u001b[0;34m%\u001b[0m\u001b[0mself\u001b[0m\u001b[0;34m(\u001b[0m\u001b[0mop\u001b[0m\u001b[0;34m)\u001b[0m \u001b[0;32mfor\u001b[0m \u001b[0mop\u001b[0m \u001b[0;32min\u001b[0m \u001b[0mex\u001b[0m\u001b[0;34m.\u001b[0m\u001b[0moperands\u001b[0m\u001b[0;34m(\u001b[0m\u001b[0;34m)\u001b[0m\u001b[0;34m]\u001b[0m\u001b[0;34m\u001b[0m\u001b[0;34m\u001b[0m\u001b[0m\n\u001b[0m\u001b[1;32m    626\u001b[0m         \u001b[0;32mreturn\u001b[0m \u001b[0marithmetic_operators\u001b[0m\u001b[0;34m[\u001b[0m\u001b[0moperator\u001b[0m\u001b[0;34m]\u001b[0m\u001b[0;34m.\u001b[0m\u001b[0mjoin\u001b[0m\u001b[0;34m(\u001b[0m\u001b[0margs\u001b[0m\u001b[0;34m)\u001b[0m\u001b[0;34m\u001b[0m\u001b[0;34m\u001b[0m\u001b[0m\n\u001b[1;32m    627\u001b[0m \u001b[0;34m\u001b[0m\u001b[0m\n",
      "\u001b[0;32m/opt/sagemath-9.1/local/lib/python3.7/site-packages/sage/symbolic/expression_conversions.py\u001b[0m in \u001b[0;36m<listcomp>\u001b[0;34m(.0)\u001b[0m\n\u001b[1;32m    623\u001b[0m             \u001b[0;34m'(_SAGE_VAR_x)+(2)'\u001b[0m\u001b[0;34m\u001b[0m\u001b[0;34m\u001b[0m\u001b[0m\n\u001b[1;32m    624\u001b[0m         \"\"\"\n\u001b[0;32m--> 625\u001b[0;31m         \u001b[0margs\u001b[0m \u001b[0;34m=\u001b[0m \u001b[0;34m[\u001b[0m\u001b[0;34m\"(%s)\"\u001b[0m\u001b[0;34m%\u001b[0m\u001b[0mself\u001b[0m\u001b[0;34m(\u001b[0m\u001b[0mop\u001b[0m\u001b[0;34m)\u001b[0m \u001b[0;32mfor\u001b[0m \u001b[0mop\u001b[0m \u001b[0;32min\u001b[0m \u001b[0mex\u001b[0m\u001b[0;34m.\u001b[0m\u001b[0moperands\u001b[0m\u001b[0;34m(\u001b[0m\u001b[0;34m)\u001b[0m\u001b[0;34m]\u001b[0m\u001b[0;34m\u001b[0m\u001b[0;34m\u001b[0m\u001b[0m\n\u001b[0m\u001b[1;32m    626\u001b[0m         \u001b[0;32mreturn\u001b[0m \u001b[0marithmetic_operators\u001b[0m\u001b[0;34m[\u001b[0m\u001b[0moperator\u001b[0m\u001b[0;34m]\u001b[0m\u001b[0;34m.\u001b[0m\u001b[0mjoin\u001b[0m\u001b[0;34m(\u001b[0m\u001b[0margs\u001b[0m\u001b[0;34m)\u001b[0m\u001b[0;34m\u001b[0m\u001b[0;34m\u001b[0m\u001b[0m\n\u001b[1;32m    627\u001b[0m \u001b[0;34m\u001b[0m\u001b[0m\n",
      "\u001b[0;32m/opt/sagemath-9.1/local/lib/python3.7/site-packages/sage/symbolic/expression_conversions.py\u001b[0m in \u001b[0;36m__call__\u001b[0;34m(self, ex)\u001b[0m\n\u001b[1;32m    216\u001b[0m                 \u001b[0mdiv\u001b[0m \u001b[0;34m=\u001b[0m \u001b[0mself\u001b[0m\u001b[0;34m.\u001b[0m\u001b[0mget_fake_div\u001b[0m\u001b[0;34m(\u001b[0m\u001b[0mex\u001b[0m\u001b[0;34m)\u001b[0m\u001b[0;34m\u001b[0m\u001b[0;34m\u001b[0m\u001b[0m\n\u001b[1;32m    217\u001b[0m                 \u001b[0;32mreturn\u001b[0m \u001b[0mself\u001b[0m\u001b[0;34m.\u001b[0m\u001b[0marithmetic\u001b[0m\u001b[0;34m(\u001b[0m\u001b[0mdiv\u001b[0m\u001b[0;34m,\u001b[0m \u001b[0mdiv\u001b[0m\u001b[0;34m.\u001b[0m\u001b[0moperator\u001b[0m\u001b[0;34m(\u001b[0m\u001b[0;34m)\u001b[0m\u001b[0;34m)\u001b[0m\u001b[0;34m\u001b[0m\u001b[0;34m\u001b[0m\u001b[0m\n\u001b[0;32m--> 218\u001b[0;31m             \u001b[0;32mreturn\u001b[0m \u001b[0mself\u001b[0m\u001b[0;34m.\u001b[0m\u001b[0marithmetic\u001b[0m\u001b[0;34m(\u001b[0m\u001b[0mex\u001b[0m\u001b[0;34m,\u001b[0m \u001b[0moperator\u001b[0m\u001b[0;34m)\u001b[0m\u001b[0;34m\u001b[0m\u001b[0;34m\u001b[0m\u001b[0m\n\u001b[0m\u001b[1;32m    219\u001b[0m         \u001b[0;32melif\u001b[0m \u001b[0moperator\u001b[0m \u001b[0;32min\u001b[0m \u001b[0mrelation_operators\u001b[0m\u001b[0;34m:\u001b[0m\u001b[0;34m\u001b[0m\u001b[0;34m\u001b[0m\u001b[0m\n\u001b[1;32m    220\u001b[0m             \u001b[0;32mreturn\u001b[0m \u001b[0mself\u001b[0m\u001b[0;34m.\u001b[0m\u001b[0mrelation\u001b[0m\u001b[0;34m(\u001b[0m\u001b[0mex\u001b[0m\u001b[0;34m,\u001b[0m \u001b[0moperator\u001b[0m\u001b[0;34m)\u001b[0m\u001b[0;34m\u001b[0m\u001b[0;34m\u001b[0m\u001b[0m\n",
      "\u001b[0;32m/opt/sagemath-9.1/local/lib/python3.7/site-packages/sage/symbolic/expression_conversions.py\u001b[0m in \u001b[0;36marithmetic\u001b[0;34m(self, ex, operator)\u001b[0m\n\u001b[1;32m    623\u001b[0m             \u001b[0;34m'(_SAGE_VAR_x)+(2)'\u001b[0m\u001b[0;34m\u001b[0m\u001b[0;34m\u001b[0m\u001b[0m\n\u001b[1;32m    624\u001b[0m         \"\"\"\n\u001b[0;32m--> 625\u001b[0;31m         \u001b[0margs\u001b[0m \u001b[0;34m=\u001b[0m \u001b[0;34m[\u001b[0m\u001b[0;34m\"(%s)\"\u001b[0m\u001b[0;34m%\u001b[0m\u001b[0mself\u001b[0m\u001b[0;34m(\u001b[0m\u001b[0mop\u001b[0m\u001b[0;34m)\u001b[0m \u001b[0;32mfor\u001b[0m \u001b[0mop\u001b[0m \u001b[0;32min\u001b[0m \u001b[0mex\u001b[0m\u001b[0;34m.\u001b[0m\u001b[0moperands\u001b[0m\u001b[0;34m(\u001b[0m\u001b[0;34m)\u001b[0m\u001b[0;34m]\u001b[0m\u001b[0;34m\u001b[0m\u001b[0;34m\u001b[0m\u001b[0m\n\u001b[0m\u001b[1;32m    626\u001b[0m         \u001b[0;32mreturn\u001b[0m \u001b[0marithmetic_operators\u001b[0m\u001b[0;34m[\u001b[0m\u001b[0moperator\u001b[0m\u001b[0;34m]\u001b[0m\u001b[0;34m.\u001b[0m\u001b[0mjoin\u001b[0m\u001b[0;34m(\u001b[0m\u001b[0margs\u001b[0m\u001b[0;34m)\u001b[0m\u001b[0;34m\u001b[0m\u001b[0;34m\u001b[0m\u001b[0m\n\u001b[1;32m    627\u001b[0m \u001b[0;34m\u001b[0m\u001b[0m\n",
      "\u001b[0;32m/opt/sagemath-9.1/local/lib/python3.7/site-packages/sage/symbolic/expression_conversions.py\u001b[0m in \u001b[0;36m<listcomp>\u001b[0;34m(.0)\u001b[0m\n\u001b[1;32m    623\u001b[0m             \u001b[0;34m'(_SAGE_VAR_x)+(2)'\u001b[0m\u001b[0;34m\u001b[0m\u001b[0;34m\u001b[0m\u001b[0m\n\u001b[1;32m    624\u001b[0m         \"\"\"\n\u001b[0;32m--> 625\u001b[0;31m         \u001b[0margs\u001b[0m \u001b[0;34m=\u001b[0m \u001b[0;34m[\u001b[0m\u001b[0;34m\"(%s)\"\u001b[0m\u001b[0;34m%\u001b[0m\u001b[0mself\u001b[0m\u001b[0;34m(\u001b[0m\u001b[0mop\u001b[0m\u001b[0;34m)\u001b[0m \u001b[0;32mfor\u001b[0m \u001b[0mop\u001b[0m \u001b[0;32min\u001b[0m \u001b[0mex\u001b[0m\u001b[0;34m.\u001b[0m\u001b[0moperands\u001b[0m\u001b[0;34m(\u001b[0m\u001b[0;34m)\u001b[0m\u001b[0;34m]\u001b[0m\u001b[0;34m\u001b[0m\u001b[0;34m\u001b[0m\u001b[0m\n\u001b[0m\u001b[1;32m    626\u001b[0m         \u001b[0;32mreturn\u001b[0m \u001b[0marithmetic_operators\u001b[0m\u001b[0;34m[\u001b[0m\u001b[0moperator\u001b[0m\u001b[0;34m]\u001b[0m\u001b[0;34m.\u001b[0m\u001b[0mjoin\u001b[0m\u001b[0;34m(\u001b[0m\u001b[0margs\u001b[0m\u001b[0;34m)\u001b[0m\u001b[0;34m\u001b[0m\u001b[0;34m\u001b[0m\u001b[0m\n\u001b[1;32m    627\u001b[0m \u001b[0;34m\u001b[0m\u001b[0m\n",
      "\u001b[0;32m/opt/sagemath-9.1/local/lib/python3.7/site-packages/sage/symbolic/expression_conversions.py\u001b[0m in \u001b[0;36m__call__\u001b[0;34m(self, ex)\u001b[0m\n\u001b[1;32m    216\u001b[0m                 \u001b[0mdiv\u001b[0m \u001b[0;34m=\u001b[0m \u001b[0mself\u001b[0m\u001b[0;34m.\u001b[0m\u001b[0mget_fake_div\u001b[0m\u001b[0;34m(\u001b[0m\u001b[0mex\u001b[0m\u001b[0;34m)\u001b[0m\u001b[0;34m\u001b[0m\u001b[0;34m\u001b[0m\u001b[0m\n\u001b[1;32m    217\u001b[0m                 \u001b[0;32mreturn\u001b[0m \u001b[0mself\u001b[0m\u001b[0;34m.\u001b[0m\u001b[0marithmetic\u001b[0m\u001b[0;34m(\u001b[0m\u001b[0mdiv\u001b[0m\u001b[0;34m,\u001b[0m \u001b[0mdiv\u001b[0m\u001b[0;34m.\u001b[0m\u001b[0moperator\u001b[0m\u001b[0;34m(\u001b[0m\u001b[0;34m)\u001b[0m\u001b[0;34m)\u001b[0m\u001b[0;34m\u001b[0m\u001b[0;34m\u001b[0m\u001b[0m\n\u001b[0;32m--> 218\u001b[0;31m             \u001b[0;32mreturn\u001b[0m \u001b[0mself\u001b[0m\u001b[0;34m.\u001b[0m\u001b[0marithmetic\u001b[0m\u001b[0;34m(\u001b[0m\u001b[0mex\u001b[0m\u001b[0;34m,\u001b[0m \u001b[0moperator\u001b[0m\u001b[0;34m)\u001b[0m\u001b[0;34m\u001b[0m\u001b[0;34m\u001b[0m\u001b[0m\n\u001b[0m\u001b[1;32m    219\u001b[0m         \u001b[0;32melif\u001b[0m \u001b[0moperator\u001b[0m \u001b[0;32min\u001b[0m \u001b[0mrelation_operators\u001b[0m\u001b[0;34m:\u001b[0m\u001b[0;34m\u001b[0m\u001b[0;34m\u001b[0m\u001b[0m\n\u001b[1;32m    220\u001b[0m             \u001b[0;32mreturn\u001b[0m \u001b[0mself\u001b[0m\u001b[0;34m.\u001b[0m\u001b[0mrelation\u001b[0m\u001b[0;34m(\u001b[0m\u001b[0mex\u001b[0m\u001b[0;34m,\u001b[0m \u001b[0moperator\u001b[0m\u001b[0;34m)\u001b[0m\u001b[0;34m\u001b[0m\u001b[0;34m\u001b[0m\u001b[0m\n",
      "\u001b[0;32m/opt/sagemath-9.1/local/lib/python3.7/site-packages/sage/symbolic/expression_conversions.py\u001b[0m in \u001b[0;36marithmetic\u001b[0;34m(self, ex, operator)\u001b[0m\n\u001b[1;32m    623\u001b[0m             \u001b[0;34m'(_SAGE_VAR_x)+(2)'\u001b[0m\u001b[0;34m\u001b[0m\u001b[0;34m\u001b[0m\u001b[0m\n\u001b[1;32m    624\u001b[0m         \"\"\"\n\u001b[0;32m--> 625\u001b[0;31m         \u001b[0margs\u001b[0m \u001b[0;34m=\u001b[0m \u001b[0;34m[\u001b[0m\u001b[0;34m\"(%s)\"\u001b[0m\u001b[0;34m%\u001b[0m\u001b[0mself\u001b[0m\u001b[0;34m(\u001b[0m\u001b[0mop\u001b[0m\u001b[0;34m)\u001b[0m \u001b[0;32mfor\u001b[0m \u001b[0mop\u001b[0m \u001b[0;32min\u001b[0m \u001b[0mex\u001b[0m\u001b[0;34m.\u001b[0m\u001b[0moperands\u001b[0m\u001b[0;34m(\u001b[0m\u001b[0;34m)\u001b[0m\u001b[0;34m]\u001b[0m\u001b[0;34m\u001b[0m\u001b[0;34m\u001b[0m\u001b[0m\n\u001b[0m\u001b[1;32m    626\u001b[0m         \u001b[0;32mreturn\u001b[0m \u001b[0marithmetic_operators\u001b[0m\u001b[0;34m[\u001b[0m\u001b[0moperator\u001b[0m\u001b[0;34m]\u001b[0m\u001b[0;34m.\u001b[0m\u001b[0mjoin\u001b[0m\u001b[0;34m(\u001b[0m\u001b[0margs\u001b[0m\u001b[0;34m)\u001b[0m\u001b[0;34m\u001b[0m\u001b[0;34m\u001b[0m\u001b[0m\n\u001b[1;32m    627\u001b[0m \u001b[0;34m\u001b[0m\u001b[0m\n",
      "\u001b[0;32m/opt/sagemath-9.1/local/lib/python3.7/site-packages/sage/symbolic/expression_conversions.py\u001b[0m in \u001b[0;36m<listcomp>\u001b[0;34m(.0)\u001b[0m\n\u001b[1;32m    623\u001b[0m             \u001b[0;34m'(_SAGE_VAR_x)+(2)'\u001b[0m\u001b[0;34m\u001b[0m\u001b[0;34m\u001b[0m\u001b[0m\n\u001b[1;32m    624\u001b[0m         \"\"\"\n\u001b[0;32m--> 625\u001b[0;31m         \u001b[0margs\u001b[0m \u001b[0;34m=\u001b[0m \u001b[0;34m[\u001b[0m\u001b[0;34m\"(%s)\"\u001b[0m\u001b[0;34m%\u001b[0m\u001b[0mself\u001b[0m\u001b[0;34m(\u001b[0m\u001b[0mop\u001b[0m\u001b[0;34m)\u001b[0m \u001b[0;32mfor\u001b[0m \u001b[0mop\u001b[0m \u001b[0;32min\u001b[0m \u001b[0mex\u001b[0m\u001b[0;34m.\u001b[0m\u001b[0moperands\u001b[0m\u001b[0;34m(\u001b[0m\u001b[0;34m)\u001b[0m\u001b[0;34m]\u001b[0m\u001b[0;34m\u001b[0m\u001b[0;34m\u001b[0m\u001b[0m\n\u001b[0m\u001b[1;32m    626\u001b[0m         \u001b[0;32mreturn\u001b[0m \u001b[0marithmetic_operators\u001b[0m\u001b[0;34m[\u001b[0m\u001b[0moperator\u001b[0m\u001b[0;34m]\u001b[0m\u001b[0;34m.\u001b[0m\u001b[0mjoin\u001b[0m\u001b[0;34m(\u001b[0m\u001b[0margs\u001b[0m\u001b[0;34m)\u001b[0m\u001b[0;34m\u001b[0m\u001b[0;34m\u001b[0m\u001b[0m\n\u001b[1;32m    627\u001b[0m \u001b[0;34m\u001b[0m\u001b[0m\n",
      "\u001b[0;32m/opt/sagemath-9.1/local/lib/python3.7/site-packages/sage/symbolic/expression_conversions.py\u001b[0m in \u001b[0;36m__call__\u001b[0;34m(self, ex)\u001b[0m\n\u001b[1;32m    216\u001b[0m                 \u001b[0mdiv\u001b[0m \u001b[0;34m=\u001b[0m \u001b[0mself\u001b[0m\u001b[0;34m.\u001b[0m\u001b[0mget_fake_div\u001b[0m\u001b[0;34m(\u001b[0m\u001b[0mex\u001b[0m\u001b[0;34m)\u001b[0m\u001b[0;34m\u001b[0m\u001b[0;34m\u001b[0m\u001b[0m\n\u001b[1;32m    217\u001b[0m                 \u001b[0;32mreturn\u001b[0m \u001b[0mself\u001b[0m\u001b[0;34m.\u001b[0m\u001b[0marithmetic\u001b[0m\u001b[0;34m(\u001b[0m\u001b[0mdiv\u001b[0m\u001b[0;34m,\u001b[0m \u001b[0mdiv\u001b[0m\u001b[0;34m.\u001b[0m\u001b[0moperator\u001b[0m\u001b[0;34m(\u001b[0m\u001b[0;34m)\u001b[0m\u001b[0;34m)\u001b[0m\u001b[0;34m\u001b[0m\u001b[0;34m\u001b[0m\u001b[0m\n\u001b[0;32m--> 218\u001b[0;31m             \u001b[0;32mreturn\u001b[0m \u001b[0mself\u001b[0m\u001b[0;34m.\u001b[0m\u001b[0marithmetic\u001b[0m\u001b[0;34m(\u001b[0m\u001b[0mex\u001b[0m\u001b[0;34m,\u001b[0m \u001b[0moperator\u001b[0m\u001b[0;34m)\u001b[0m\u001b[0;34m\u001b[0m\u001b[0;34m\u001b[0m\u001b[0m\n\u001b[0m\u001b[1;32m    219\u001b[0m         \u001b[0;32melif\u001b[0m \u001b[0moperator\u001b[0m \u001b[0;32min\u001b[0m \u001b[0mrelation_operators\u001b[0m\u001b[0;34m:\u001b[0m\u001b[0;34m\u001b[0m\u001b[0;34m\u001b[0m\u001b[0m\n\u001b[1;32m    220\u001b[0m             \u001b[0;32mreturn\u001b[0m \u001b[0mself\u001b[0m\u001b[0;34m.\u001b[0m\u001b[0mrelation\u001b[0m\u001b[0;34m(\u001b[0m\u001b[0mex\u001b[0m\u001b[0;34m,\u001b[0m \u001b[0moperator\u001b[0m\u001b[0;34m)\u001b[0m\u001b[0;34m\u001b[0m\u001b[0;34m\u001b[0m\u001b[0m\n",
      "\u001b[0;32m/opt/sagemath-9.1/local/lib/python3.7/site-packages/sage/symbolic/expression_conversions.py\u001b[0m in \u001b[0;36marithmetic\u001b[0;34m(self, ex, operator)\u001b[0m\n\u001b[1;32m    623\u001b[0m             \u001b[0;34m'(_SAGE_VAR_x)+(2)'\u001b[0m\u001b[0;34m\u001b[0m\u001b[0;34m\u001b[0m\u001b[0m\n\u001b[1;32m    624\u001b[0m         \"\"\"\n\u001b[0;32m--> 625\u001b[0;31m         \u001b[0margs\u001b[0m \u001b[0;34m=\u001b[0m \u001b[0;34m[\u001b[0m\u001b[0;34m\"(%s)\"\u001b[0m\u001b[0;34m%\u001b[0m\u001b[0mself\u001b[0m\u001b[0;34m(\u001b[0m\u001b[0mop\u001b[0m\u001b[0;34m)\u001b[0m \u001b[0;32mfor\u001b[0m \u001b[0mop\u001b[0m \u001b[0;32min\u001b[0m \u001b[0mex\u001b[0m\u001b[0;34m.\u001b[0m\u001b[0moperands\u001b[0m\u001b[0;34m(\u001b[0m\u001b[0;34m)\u001b[0m\u001b[0;34m]\u001b[0m\u001b[0;34m\u001b[0m\u001b[0;34m\u001b[0m\u001b[0m\n\u001b[0m\u001b[1;32m    626\u001b[0m         \u001b[0;32mreturn\u001b[0m \u001b[0marithmetic_operators\u001b[0m\u001b[0;34m[\u001b[0m\u001b[0moperator\u001b[0m\u001b[0;34m]\u001b[0m\u001b[0;34m.\u001b[0m\u001b[0mjoin\u001b[0m\u001b[0;34m(\u001b[0m\u001b[0margs\u001b[0m\u001b[0;34m)\u001b[0m\u001b[0;34m\u001b[0m\u001b[0;34m\u001b[0m\u001b[0m\n\u001b[1;32m    627\u001b[0m \u001b[0;34m\u001b[0m\u001b[0m\n",
      "\u001b[0;32m/opt/sagemath-9.1/local/lib/python3.7/site-packages/sage/symbolic/expression_conversions.py\u001b[0m in \u001b[0;36m<listcomp>\u001b[0;34m(.0)\u001b[0m\n\u001b[1;32m    623\u001b[0m             \u001b[0;34m'(_SAGE_VAR_x)+(2)'\u001b[0m\u001b[0;34m\u001b[0m\u001b[0;34m\u001b[0m\u001b[0m\n\u001b[1;32m    624\u001b[0m         \"\"\"\n\u001b[0;32m--> 625\u001b[0;31m         \u001b[0margs\u001b[0m \u001b[0;34m=\u001b[0m \u001b[0;34m[\u001b[0m\u001b[0;34m\"(%s)\"\u001b[0m\u001b[0;34m%\u001b[0m\u001b[0mself\u001b[0m\u001b[0;34m(\u001b[0m\u001b[0mop\u001b[0m\u001b[0;34m)\u001b[0m \u001b[0;32mfor\u001b[0m \u001b[0mop\u001b[0m \u001b[0;32min\u001b[0m \u001b[0mex\u001b[0m\u001b[0;34m.\u001b[0m\u001b[0moperands\u001b[0m\u001b[0;34m(\u001b[0m\u001b[0;34m)\u001b[0m\u001b[0;34m]\u001b[0m\u001b[0;34m\u001b[0m\u001b[0;34m\u001b[0m\u001b[0m\n\u001b[0m\u001b[1;32m    626\u001b[0m         \u001b[0;32mreturn\u001b[0m \u001b[0marithmetic_operators\u001b[0m\u001b[0;34m[\u001b[0m\u001b[0moperator\u001b[0m\u001b[0;34m]\u001b[0m\u001b[0;34m.\u001b[0m\u001b[0mjoin\u001b[0m\u001b[0;34m(\u001b[0m\u001b[0margs\u001b[0m\u001b[0;34m)\u001b[0m\u001b[0;34m\u001b[0m\u001b[0;34m\u001b[0m\u001b[0m\n\u001b[1;32m    627\u001b[0m \u001b[0;34m\u001b[0m\u001b[0m\n",
      "\u001b[0;32m/opt/sagemath-9.1/local/lib/python3.7/site-packages/sage/symbolic/expression_conversions.py\u001b[0m in \u001b[0;36m__call__\u001b[0;34m(self, ex)\u001b[0m\n\u001b[1;32m    203\u001b[0m         \u001b[0;32mtry\u001b[0m\u001b[0;34m:\u001b[0m\u001b[0;34m\u001b[0m\u001b[0;34m\u001b[0m\u001b[0m\n\u001b[1;32m    204\u001b[0m             \u001b[0mobj\u001b[0m \u001b[0;34m=\u001b[0m \u001b[0mex\u001b[0m\u001b[0;34m.\u001b[0m\u001b[0mpyobject\u001b[0m\u001b[0;34m(\u001b[0m\u001b[0;34m)\u001b[0m\u001b[0;34m\u001b[0m\u001b[0;34m\u001b[0m\u001b[0m\n\u001b[0;32m--> 205\u001b[0;31m             \u001b[0;32mreturn\u001b[0m \u001b[0mself\u001b[0m\u001b[0;34m.\u001b[0m\u001b[0mpyobject\u001b[0m\u001b[0;34m(\u001b[0m\u001b[0mex\u001b[0m\u001b[0;34m,\u001b[0m \u001b[0mobj\u001b[0m\u001b[0;34m)\u001b[0m\u001b[0;34m\u001b[0m\u001b[0;34m\u001b[0m\u001b[0m\n\u001b[0m\u001b[1;32m    206\u001b[0m         \u001b[0;32mexcept\u001b[0m \u001b[0mTypeError\u001b[0m \u001b[0;32mas\u001b[0m \u001b[0merr\u001b[0m\u001b[0;34m:\u001b[0m\u001b[0;34m\u001b[0m\u001b[0;34m\u001b[0m\u001b[0m\n\u001b[1;32m    207\u001b[0m             \u001b[0;32mif\u001b[0m \u001b[0;34m'self must be a numeric expression'\u001b[0m \u001b[0;32mnot\u001b[0m \u001b[0;32min\u001b[0m \u001b[0merr\u001b[0m\u001b[0;34m.\u001b[0m\u001b[0margs\u001b[0m\u001b[0;34m:\u001b[0m\u001b[0;34m\u001b[0m\u001b[0;34m\u001b[0m\u001b[0m\n",
      "\u001b[0;32m/opt/sagemath-9.1/local/lib/python3.7/site-packages/sage/symbolic/expression_conversions.py\u001b[0m in \u001b[0;36mpyobject\u001b[0;34m(self, ex, obj)\u001b[0m\n\u001b[1;32m    448\u001b[0m             \u001b[0;34m'Pi'\u001b[0m\u001b[0;34m\u001b[0m\u001b[0;34m\u001b[0m\u001b[0m\n\u001b[1;32m    449\u001b[0m         \"\"\"\n\u001b[0;32m--> 450\u001b[0;31m         if (self.interface.name() in ['pari','gp'] and\n\u001b[0m\u001b[1;32m    451\u001b[0m             \u001b[0misinstance\u001b[0m\u001b[0;34m(\u001b[0m\u001b[0mobj\u001b[0m\u001b[0;34m,\u001b[0m \u001b[0mNumberFieldElement_quadratic\u001b[0m\u001b[0;34m)\u001b[0m \u001b[0;32mand\u001b[0m\u001b[0;34m\u001b[0m\u001b[0;34m\u001b[0m\u001b[0m\n\u001b[1;32m    452\u001b[0m             obj.parent() == GaussianField):\n",
      "\u001b[0;32m/opt/sagemath-9.1/local/lib/python3.7/site-packages/sage/interfaces/interface.py\u001b[0m in \u001b[0;36mname\u001b[0;34m(self, new_name)\u001b[0m\n\u001b[1;32m     96\u001b[0m \u001b[0;34m\u001b[0m\u001b[0m\n\u001b[1;32m     97\u001b[0m     \u001b[0;32mdef\u001b[0m \u001b[0mname\u001b[0m\u001b[0;34m(\u001b[0m\u001b[0mself\u001b[0m\u001b[0;34m,\u001b[0m \u001b[0mnew_name\u001b[0m\u001b[0;34m=\u001b[0m\u001b[0;32mNone\u001b[0m\u001b[0;34m)\u001b[0m\u001b[0;34m:\u001b[0m\u001b[0;34m\u001b[0m\u001b[0;34m\u001b[0m\u001b[0m\n\u001b[0;32m---> 98\u001b[0;31m         \u001b[0;32mreturn\u001b[0m \u001b[0mself\u001b[0m\u001b[0;34m.\u001b[0m\u001b[0m__name\u001b[0m\u001b[0;34m\u001b[0m\u001b[0;34m\u001b[0m\u001b[0m\n\u001b[0m\u001b[1;32m     99\u001b[0m \u001b[0;34m\u001b[0m\u001b[0m\n\u001b[1;32m    100\u001b[0m     \u001b[0;32mdef\u001b[0m \u001b[0mget_seed\u001b[0m\u001b[0;34m(\u001b[0m\u001b[0mself\u001b[0m\u001b[0;34m)\u001b[0m\u001b[0;34m:\u001b[0m\u001b[0;34m\u001b[0m\u001b[0;34m\u001b[0m\u001b[0m\n",
      "\u001b[0;32msrc/cysignals/signals.pyx\u001b[0m in \u001b[0;36mcysignals.signals.python_check_interrupt\u001b[0;34m()\u001b[0m\n",
      "\u001b[0;31mKeyboardInterrupt\u001b[0m: "
     ]
    }
   ],
   "source": [
    "a=1.;b=2.;r=(sqrt(5)-1)/2;c=a+(1-r)*(b-a);d=a+r*(b-a);l=b-a;k=1;\n",
    "while l>=error:\n",
    "    if f(c)<f(d):\n",
    "        b=d;d=c;c=a+(1-r)*(b-a);l=b-a;\n",
    "        print('iter:', k, '; a=',a.n(), '; b=',b.n())\n",
    "    else:\n",
    "        a=c;c=d;d=a+r*(b-a);l=b-a;\n",
    "        print('iter:', k, '; a=',a.n(), '; b=',b.n())\n",
    "    k=k+1"
   ]
  },
  {
   "cell_type": "code",
   "execution_count": null,
   "metadata": {},
   "outputs": [],
   "source": [
    "# 2 apartado\n",
    "# Si ejecutamos cinco veces el método de la sección aurea, ¿cúal es la sucesión de extremos descartados?\n",
    "'''\n",
    "inicial:  a = 1, b = 2;                             A\n",
    "iter: 1 ; a= 1.38196601125011 ; b= 2.00000000000000 A\n",
    "iter: 2 ; a= 1.61803398874989 ; b= 2.00000000000000 B\n",
    "iter: 3 ; a= 1.61803398874989 ; b= 1.85410196624968 A\n",
    "iter: 4 ; a= 1.70820393249937 ; b= 1.85410196624968 B\n",
    "iter: 5 ; a= 1.70820393249937 ; b= 1.79837387624884 \n",
    "\n",
    "1. La sucesión de descartes es: a, a, b, a, b THIS\n",
    "2. La sucesión de descartes es: b, b, b, a, b\n",
    "3. La sucesión de descartes es: a, b, a, a, b\n",
    "4. La sucesión de descartes es: b, b, a, a, b\n",
    "\n",
    "1. Al menos 29 iteraciones\n",
    "2. Al menos 39 iteraciones\n",
    "3. Al menos 34 iteraciones\n",
    "4. Al menos 24 iteraciones\n",
    "'''"
   ]
  },
  {
   "cell_type": "code",
   "execution_count": 31,
   "metadata": {},
   "outputs": [],
   "source": [
    "# 3 apartado\n",
    "# El extremo inferior de la iteración que nos asegura 3 cifras decimales exactas es:\n",
    "'''\n",
    "1. 1.15448175635988 \t2. 1.32429329191142\n",
    "3. 1.75056247838306 \t4. Ninguna de las otras respuestas\n",
    "'''\n",
    "\n",
    "# 4 cifras decimales\n",
    "error=10^(-4)"
   ]
  },
  {
   "cell_type": "code",
   "execution_count": 32,
   "metadata": {},
   "outputs": [
    {
     "name": "stdout",
     "output_type": "stream",
     "text": [
      "iter: 1 ; a= 1.38196601125011 ; b= 2.00000000000000\n",
      "iter: 2 ; a= 1.61803398874989 ; b= 2.00000000000000\n",
      "iter: 3 ; a= 1.61803398874989 ; b= 1.85410196624968\n",
      "iter: 4 ; a= 1.70820393249937 ; b= 1.85410196624968\n",
      "iter: 5 ; a= 1.70820393249937 ; b= 1.79837387624884\n",
      "iter: 6 ; a= 1.70820393249937 ; b= 1.76393202250021\n",
      "iter: 7 ; a= 1.72949016875158 ; b= 1.76393202250021\n",
      "iter: 8 ; a= 1.74264578624800 ; b= 1.76393202250021\n",
      "iter: 9 ; a= 1.74264578624800 ; b= 1.75580140374443\n",
      "iter: 10 ; a= 1.74767078498864 ; b= 1.75580140374443\n",
      "iter: 11 ; a= 1.74767078498864 ; b= 1.75269578372929\n",
      "iter: 12 ; a= 1.74959016371414 ; b= 1.75269578372929\n",
      "iter: 13 ; a= 1.74959016371414 ; b= 1.75150954243964\n",
      "iter: 14 ; a= 1.74959016371414 ; b= 1.75077640500379\n",
      "iter: 15 ; a= 1.75004326756793 ; b= 1.75077640500379\n",
      "iter: 16 ; a= 1.75032330115000 ; b= 1.75077640500379\n",
      "iter: 17 ; a= 1.75032330115000 ; b= 1.75060333473207\n",
      "iter: 18 ; a= 1.75043026446036 ; b= 1.75060333473207\n",
      "iter: 19 ; a= 1.75049637142171 ; b= 1.75060333473207\n",
      "iter: 20 ; a= 1.75049637142171 ; b= 1.75056247838306\n"
     ]
    }
   ],
   "source": [
    "a=1;b=2;r=(sqrt(5)-1)/2;c=a+(1-r)*(b-a);d=a+r*(b-a);l=b-a;k=1;\n",
    "while l>=error:\n",
    "    if f(c)<f(d):\n",
    "        b=d;d=c;c=a+(1-r)*(b-a);l=b-a;\n",
    "        print('iter:', k, '; a=',a.n(), '; b=',b.n())\n",
    "    else:\n",
    "        a=c;c=d;d=a+r*(b-a);l=b-a;\n",
    "        print('iter:', k, '; a=',a.n(), '; b=',b.n())\n",
    "    k=k+1"
   ]
  },
  {
   "cell_type": "code",
   "execution_count": null,
   "metadata": {},
   "outputs": [],
   "source": [
    "'''\n",
    "El inferior es A, el superior es B\n",
    "1. 1.15448175635988 \t    2. 1.32429329191142\n",
    "3. 1.75056247838306 THIS \t4. Ninguna de las otras respuestas\n",
    "'''"
   ]
  },
  {
   "cell_type": "code",
   "execution_count": null,
   "metadata": {},
   "outputs": [],
   "source": [
    "# 3 Ejercicio"
   ]
  },
  {
   "cell_type": "code",
   "execution_count": 56,
   "metadata": {},
   "outputs": [
    {
     "data": {
      "text/html": [
       "<html><script type=\"math/tex; mode=display\">\\newcommand{\\Bold}[1]{\\mathbf{#1}}3 \\, x^{4} - 2 \\, e^{x}</script></html>"
      ],
      "text/plain": [
       "3*x^4 - 2*e^x"
      ]
     },
     "metadata": {},
     "output_type": "display_data"
    }
   ],
   "source": [
    "# 1 apartado\n",
    "f(x) = 3*x^4 - 2*e^x\n",
    "show(f(x))"
   ]
  },
  {
   "cell_type": "code",
   "execution_count": 58,
   "metadata": {},
   "outputs": [
    {
     "name": "stdout",
     "output_type": "stream",
     "text": [
      "iteracion:1; abs(xk-x3)= 1.00000000000000e99 ; fp3(n): -0.412750932978023\n",
      "descarto x1\n",
      "iteracion: 2 ; abs(xk-x3)= 0.0340333065867683 ; fp3(n): 0.0158657051454361\n",
      "descarto x2\n",
      "iteracion: 3 ; abs(xk-x3)= 0.00119017898483720 ; fp3(n): -7.01641812383968e-6\n",
      "descarto x1\n",
      "iteracion: 4 ; abs(xk-x3)= 5.27190562316093e-7 ; fp3(n): 4.22595292093320e-12\n",
      "0.693425633499288\n"
     ]
    }
   ],
   "source": [
    "# Si partimos de valores iniciales x1=0,x2=1 ¿cuántas iteraciones del método de interpolación cúbica \n",
    "# necesitamos para poder asegurar |xˆk−xˆk−1|<10−5?  \n",
    "fx=f.diff()\n",
    "\n",
    "# N cifras decimales:\n",
    "error=10^(-3)\n",
    "x1=0.;x2=1.;f1=f(x1);f2=f(x2);fp1=fx(x1);fp2=fx(x2); xk=10^(99);k=1;\n",
    "z=3*(f1-f2)/(x2-x1)+fp1+fp2;w=sqrt(z^2-fp1*fp2);\n",
    "x3=x2-(fp2+w-z)/(fp2-fp1+2*w)*(x2-x1);f3=f(x3);fp3=fx(x3);\n",
    "l = abs(xk-x3).n()\n",
    "k = k+1;\n",
    "print(\"iteracion:1; abs(xk-x3)=\",l,\"; fp3(n):\", fp3.n());\n",
    "while l>=error:\n",
    "    if (fp3.n()>0):\n",
    "        print(\"descarto x2\");\n",
    "        xk=x3;x2=x3;f2=f3;fp2=fp3;\n",
    "        z=3*(f1-f2)/(x2-x1)+fp1+fp2;w=sqrt(z^2-fp1*fp2);\n",
    "        x3=x2-(fp2+w-z)/(fp2-fp1+2*w)*(x2-x1);f3=f(x3);fp3=fx(x3);\n",
    "        l = abs(xk-x3).n();\n",
    "        print(\"iteracion:\",k,\"; abs(xk-x3)=\",l,\"; fp3(n):\", fp3.n());\n",
    "        k=k+1;\n",
    "    else:\n",
    "        print(\"descarto x1\");\n",
    "        xk=x3;x1=x3;f1=f3;fp1=fp3;\n",
    "        z=3*(f1-f2)/(x2-x1)+fp1+fp2;w=sqrt(z^2-fp1*fp2);\n",
    "        x3=x2-(fp2+w-z)/(fp2-fp1+2*w)*(x2-x1);f3=f(x3);fp3=fx(x3);\n",
    "        l = abs(xk-x3).n();\n",
    "        print(\"iteracion:\",k,\"; abs(xk-x3)=\",l,\"; fp3(n):\", fp3.n());\n",
    "        k=k+1;\n",
    "\n",
    "print(x3.n());"
   ]
  },
  {
   "cell_type": "code",
   "execution_count": null,
   "metadata": {},
   "outputs": [],
   "source": [
    "# 1 apartado\n",
    "# Error de 5:\n",
    "'''\n",
    "1. Al menos 6 iteraciones\n",
    "2. Al menos 4 iteraciones THIS\n",
    "3. Al menos 5 iteraciones\n",
    "4. Al menos 3 iteraciones\n",
    "'''\n",
    "\n",
    "# 2 apartado\n",
    "# Si ejecutamos cinco veces el método de interpolación cúbica, ¿cúal es la sucesión de extremos descartados?\n",
    "'''\n",
    "1. La sucesión de descartes es: x2,x1,x2,x1,x2\n",
    "2. La sucesión de descartes es: x2,x2,x2,x2,x2\n",
    "3. La sucesión de descartes es: x2,x2,x1,x2,x1\n",
    "4. La sucesión de descartes es: x1,x2,x1,x2,x1 THIS\n",
    "'''\n",
    "\n",
    "# 3 apartado\n",
    "# El mínimo de la cúbica interpoladora de la iteración que nos asegura 3 cifras decimales exactas es:\n",
    "'''\n",
    "1. 0.204481432114767 \t2. 0.831031452108246\n",
    "3. 0.144420998212035 \t4. Ninguna de las otras respuestas. THIS\n",
    "'''"
   ]
  },
  {
   "cell_type": "code",
   "execution_count": null,
   "metadata": {},
   "outputs": [],
   "source": [
    "# Algoritmo para la interpolacion cuadratica:\n",
    "error=10^(-4); k=1\n",
    "x1=0.;x2=0.5;x3=1.;f1=f(x1);f2=f(x2);f3=f(x3)\n",
    "x4=1/2*((x2^2-x3^2)*f1+(x3^2-x1^2)*f2+(x1^2-x2^2)*f3)/((x2-x3)*f1+(x3-x1)*f2+(x1-x2)*f3);f4=f(x4)\n",
    "l = abs(x4-x1).n()\n",
    "print(\"iteracion:\",k,\"; abs(xK-x4)=\",l,\"; x4:\", x4.n());\n",
    "k = k+1;\n",
    "while l>=error:\n",
    "    if ((f4.n()<f2.n()) and (f4.n()<f3.n())):\n",
    "        print(\"descarto x1\");\n",
    "        xk=x4;x1=x2;x2=x4;f1=f2;f2=f4;\n",
    "        x4=1/2*((x2^2-x3^2)*f1+(x3^2-x1^2)*f2+(x1^2-x2^2)*f3)/((x2-x3)*f1+(x3-x1)*f2+(x1-x2)*f3);f4=f(x4)\n",
    "        l = abs(xk-x4).n();\n",
    "        print(\"iteracion:\",k,\"; abs(xK-x4)=\",l,\"; x4:\", x4.n());\n",
    "        k=k+1;\n",
    "    else:\n",
    "        print(\"descarto x3\");\n",
    "        x3=x2;x2=x4;xk=x4;f3=f2;f2=f4\n",
    "        x4=1/2*((x2^2-x3^2)*f1+(x3^2-x1^2)*f2+(x1^2-x2^2)*f3)/((x2-x3)*f1+(x3-x1)*f2+(x1-x2)*f3);f4=f(x4)\n",
    "        l = abs(xk-x4).n();\n",
    "        print(\"iteracion:\",k,\"; abs(xk-x4)=\",l,\"; x4:\", x4.n());\n",
    "        k=k+1;"
   ]
  }
 ],
 "metadata": {
  "kernelspec": {
   "display_name": "SageMath 9.1",
   "language": "sage",
   "name": "sagemath"
  },
  "language": "python",
  "language_info": {
   "codemirror_mode": {
    "name": "ipython",
    "version": 3
   },
   "file_extension": ".py",
   "mimetype": "text/x-python",
   "name": "python",
   "nbconvert_exporter": "python",
   "pygments_lexer": "ipython3",
   "version": "3.7.3"
  }
 },
 "nbformat": 4,
 "nbformat_minor": 4
}
