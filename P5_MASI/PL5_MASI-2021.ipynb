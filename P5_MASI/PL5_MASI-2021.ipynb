{
 "cells": [
  {
   "cell_type": "markdown",
   "metadata": {},
   "source": [
    "<h3 style=\"text-align: center;\">ESCUELA TÉCNICA SUPERIOR DE INGENIERÍA INFORMÁTICA</h3>\n",
    "<h3 style=\"text-align: center;\">UNIVERSIDAD DE SEVILLA</h3>\n",
    "<h3 style=\"text-align: center;\">MATEMÁTICA APLICADA A SISTEMAS DE INFORMACIÓN</h3>\n",
    "<h3 style=\"text-align: center;\">Quinta práctica de laboratorio</h3>\n",
    "<p>En esta práctica estudiaremos métodos de optimización cuando consideramos más de un objetivo, la optimizacion multiobjetivo. Es decir partimos del problema:</p>\n",
    "<p>$$\\begin{array}{rl}\\max & f_1,f_2,\\ldots,f_n\\\\s.t.&Ax=b\\end{array}$$</p>\n",
    "<p>Comenzaremos con un problema con dos objetivos y dos variables:</p>\n",
    "<p>$$\\begin{array}{rl}\\max & f_1(x,y)=4x+3y, \\;  f_2(x,y)=-3x-2y\\\\s.t.&x+y\\leq 5\\\\&2x+y\\leq8\\\\&x\\geq1\\\\&x,y\\geq0\\end{array}$$</p>\n",
    "<p>Si estamos interesados en calcular la matriz de pagos, fijamos el primer objetivo y resolvemos el problema:</p>"
   ]
  },
  {
   "cell_type": "code",
   "execution_count": null,
   "metadata": {},
   "outputs": [],
   "source": [
    "p=MixedIntegerLinearProgram()"
   ]
  },
  {
   "cell_type": "code",
   "execution_count": null,
   "metadata": {},
   "outputs": [],
   "source": [
    "x=p.new_variable(nonnegative=True)"
   ]
  },
  {
   "cell_type": "code",
   "execution_count": null,
   "metadata": {},
   "outputs": [],
   "source": [
    "p.add_constraint(x[1] + x[2] <= 5)\n",
    "p.add_constraint(2*x[1]+x[2]<=8)\n",
    "p.add_constraint(x[1]>=1)"
   ]
  },
  {
   "cell_type": "code",
   "execution_count": null,
   "metadata": {},
   "outputs": [],
   "source": [
    "p.set_objective(4*x[1]+3*x[2])"
   ]
  },
  {
   "cell_type": "code",
   "execution_count": null,
   "metadata": {},
   "outputs": [],
   "source": [
    "p.solve()"
   ]
  },
  {
   "cell_type": "code",
   "execution_count": null,
   "metadata": {},
   "outputs": [],
   "source": [
    "p.get_values(x)"
   ]
  },
  {
   "cell_type": "markdown",
   "metadata": {},
   "source": [
    "<p>Así la solución para el primer objetivo es $\\mathbf{x_1^*}=(3,2)$, y puesto que $f_1(\\mathbf{x_1^*})=18$ tenemos el primer elemento de la matriz de pagos, si queremos calcular la primera fila completa necesitamos calcular $f_2(\\mathbf{x_1^*})$:</p>"
   ]
  },
  {
   "cell_type": "code",
   "execution_count": null,
   "metadata": {},
   "outputs": [],
   "source": [
    "f2(x,y)=-3*x-2*y"
   ]
  },
  {
   "cell_type": "code",
   "execution_count": null,
   "metadata": {},
   "outputs": [],
   "source": [
    "f2(3,2)"
   ]
  },
  {
   "cell_type": "markdown",
   "metadata": {},
   "source": [
    "<p>Así la primera fila de la matriz de pagos es $(18,-13)$.</p>\n",
    "<h2>Método de las ponderaciones</h2>\n",
    "<p>Si en nuestro método estamos interesados en utilizar el método de las ponderaciones, se trata de resolver</p>\n",
    "<p>$$\\begin{array}{rl}\\max & Z_w=w_1 f_1+\\ldots+w_n f_n\\\\s.t.&Ax=b\\end{array} \\quad \\mbox{ tal que }  \\; w_i \\ge 0, \\; \\; \\sum_i w_i=1$$</p>\n",
    "<p>En nuestro caso podemos considerar:</p>\n",
    "<p>$$\\begin{array}{rl}\\max & Z_w(x,y)= w(4x+3y)+(1-w)(-3x-2y)\\\\s.t.&x+y\\leq 5\\\\&2x+y\\leq8\\\\&x\\geq1\\\\&x,y\\geq0\\end{array}$$</p>\n",
    "<p>Tomemos un total de 6 ponderaciones con $w=0,0.2,0.4,\\ldots, 1$</p>"
   ]
  },
  {
   "cell_type": "code",
   "execution_count": null,
   "metadata": {},
   "outputs": [],
   "source": [
    "for i in range(6):\n",
    "    p=MixedIntegerLinearProgram()\n",
    "    x=p.new_variable(nonnegative=True)\n",
    "    p.add_constraint(x[1] + x[2] <= 5)\n",
    "    p.add_constraint(2*x[1]+x[2]<=8)\n",
    "    p.add_constraint(x[1]>=1)\n",
    "    p.set_objective(i/5*(4*x[1]+3*x[2])+(1-i/5)*(-3*x[1]-2*x[2]))\n",
    "    print (\"i=\",i,  \";  Valor Objetivo=\", p.solve(), \";  Soluciones=\", p.get_values(x) )"
   ]
  },
  {
   "cell_type": "markdown",
   "metadata": {},
   "source": [
    "<p>Obtenemos los puntos factibles: $\\{(1,0),(1,4),(3,2)\\}$.</p>\n",
    "<p>Puesto que tenemos una región factible en el plano podemos dibujar las restricciones.</p>"
   ]
  },
  {
   "cell_type": "code",
   "execution_count": null,
   "metadata": {},
   "outputs": [],
   "source": [
    "l1(x)=5-x\n",
    "l2(x)=8-2*x\n",
    "dibu=plot(l1(x),0,5)+plot(l2(x),0,5)\n",
    "dibu=dibu+line([(1,0),(1,5)])\n",
    "show(dibu)"
   ]
  },
  {
   "cell_type": "markdown",
   "metadata": {},
   "source": [
    "<p>Si añadimos al dibujo los puntos factibles óptimos de algún problema ponderado.</p>"
   ]
  },
  {
   "cell_type": "code",
   "execution_count": null,
   "metadata": {},
   "outputs": [],
   "source": [
    "dibu=dibu+point((1,0),color='red',size=30)+point((1,4),color='red',size=30)+point((3,2),color='red',size=30)\n",
    "show(dibu)"
   ]
  },
  {
   "cell_type": "markdown",
   "metadata": {},
   "source": [
    "<p>Si estamos interesados en el espacio de objetivos, podemos dibujar la imagen de cada uno de los puntos obtenidos mediante el método de las ponderaciones.</p>"
   ]
  },
  {
   "cell_type": "code",
   "execution_count": null,
   "metadata": {},
   "outputs": [],
   "source": [
    "f1(x,y)=4*x+3*y\n",
    "p1=(f1(1,0),f2(1,0))\n",
    "p2=(f1(1,4),f2(1,4))\n",
    "p3=(f1(3,2),f2(3,2))\n",
    "dibuObje=line([p1,p2,p3])+point(p1,color='red',size=30)+point(p2,color='red',size=30)+point(p3,color='red',size=30)\n",
    "show(dibuObje)"
   ]
  },
  {
   "cell_type": "markdown",
   "metadata": {},
   "source": [
    "<p>También podemos introducir los datos para construir el vector de ponderaciones  como queramos. Por ejemplo, para dos objetivos $f_1$, $f_2$, si $w > 1$,  la combinación de ponderaciones sería $Z_w= \\displaystyle  \\frac{1}{w} f_1 + (1-\\displaystyle \\frac{1}{w}) f_2$.  Recordemos además que si la región factible es no acotada, podemos obtener problemas no acotados.</p>"
   ]
  },
  {
   "cell_type": "code",
   "execution_count": null,
   "metadata": {},
   "outputs": [],
   "source": [
    "w=(0.1,0.2, 0.4, 0.7, 1, 2, 5)\n",
    "lista_puntos=[]\n",
    "p=MixedIntegerLinearProgram()\n",
    "x=p.new_variable(nonnegative=True)\n",
    "p.add_constraint(x[1] + x[2] <= 5)\n",
    "p.add_constraint(2*x[1]+x[2]<=8)\n",
    "p.add_constraint(x[1]>=1)\n",
    "for i in range(len(w)):\n",
    "    if w[i]<=1:\n",
    "        p.set_objective(w[i]*(4*x[1]+3*x[2])+(1-w[i])*(-3*x[1]-2*x[2]))\n",
    "    else:\n",
    "        p.set_objective(1/w[i]*(4*x[1]+3*x[2])+(1-1/w[i])*(-3*x[1]-2*x[2]))    \n",
    "    print (\"w=\",w[i])\n",
    "    print (\"Objective value=\", p.solve())\n",
    "    Point=p.get_values(x);\n",
    "    lista_puntos.append([Point[1], Point[2]])\n",
    "    print (\"Point =\", p.get_values(x))\n",
    "print (\"lista_puntos =\", lista_puntos)"
   ]
  },
  {
   "cell_type": "code",
   "execution_count": null,
   "metadata": {},
   "outputs": [],
   "source": [
    "f1(x,y)=4*x+3*y\n",
    "f2(x,y)=-3*x-2*y\n",
    "lista_imagenes=[]\n",
    "for i in range(len(lista_puntos)):\n",
    "    lista_imagenes.append((f1(lista_puntos[i][0], lista_puntos[i][1]), f2(lista_puntos[i][0], lista_puntos[i][1])))\n",
    "print (\"lista_imagenes=\", lista_imagenes)  \n",
    "dibuObje=line(lista_imagenes)+point(lista_imagenes,color='red',size=30)\n",
    "show(dibuObje)"
   ]
  },
  {
   "cell_type": "code",
   "execution_count": null,
   "metadata": {},
   "outputs": [],
   "source": []
  },
  {
   "cell_type": "code",
   "execution_count": null,
   "metadata": {},
   "outputs": [],
   "source": [
    "NUMERO_ALUMNO = 1\n",
    "\n",
    "NOMBRE_FICHERO_EXAMEN = 'L5_MASI_t.htl'\n",
    "load('codigo_examinar_html.sage')\n",
    "\n",
    "if NUMERO_ALUMNO > 0:\n",
    "    lector_examenes(NOMBRE_FICHERO_EXAMEN,NUMERO_ALUMNO,False)\n"
   ]
  },
  {
   "cell_type": "code",
   "execution_count": null,
   "metadata": {},
   "outputs": [],
   "source": []
  }
 ],
 "metadata": {
  "kernelspec": {
   "display_name": "SageMath 9.1",
   "language": "sage",
   "name": "sagemath"
  },
  "language": "python",
  "language_info": {
   "codemirror_mode": {
    "name": "ipython",
    "version": 3
   },
   "file_extension": ".py",
   "mimetype": "text/x-python",
   "name": "python",
   "nbconvert_exporter": "python",
   "pygments_lexer": "ipython3",
   "version": "3.7.3"
  }
 },
 "nbformat": 4,
 "nbformat_minor": 2
}
